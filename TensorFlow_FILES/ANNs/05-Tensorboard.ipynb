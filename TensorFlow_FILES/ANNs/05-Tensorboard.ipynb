{
 "cells": [
  {
   "cell_type": "markdown",
   "metadata": {},
   "source": [
    "<a href=\"https://www.pieriandata.com\"><img src=\"../Pierian_Data_Logo.PNG\"></a>\n",
    "<strong><center>Copyright by Pierian Data Inc.</center></strong> \n",
    "<strong><center>Created by Jose Marcial Portilla.</center></strong>"
   ]
  },
  {
   "cell_type": "markdown",
   "metadata": {},
   "source": [
    "# Tensorboard\n",
    "\n",
    "---\n",
    "---\n",
    "\n",
    "**NOTE: You must watch the corresponding video to understand this lecture. This notebook can't serve as a full guide. Please watch the video BEFORE posting questions to the QA forum.**\n",
    "\n",
    "---\n",
    "---\n",
    "\n",
    "Let's explore the built in data visualization capabilities that come with Tensorboard.\n",
    "\n",
    "Full official tutorial available here: https://www.tensorflow.org/tensorboard/get_started\n",
    "\n",
    "## Data"
   ]
  },
  {
   "cell_type": "code",
   "execution_count": 1,
   "metadata": {},
   "outputs": [],
   "source": [
    "import pandas as pd\n",
    "import numpy as np"
   ]
  },
  {
   "cell_type": "code",
   "execution_count": 2,
   "metadata": {},
   "outputs": [],
   "source": [
    "df = pd.read_csv('../DATA/cancer_classification.csv')"
   ]
  },
  {
   "cell_type": "markdown",
   "metadata": {},
   "source": [
    "### Train Test Split"
   ]
  },
  {
   "cell_type": "code",
   "execution_count": 3,
   "metadata": {},
   "outputs": [],
   "source": [
    "X = df.drop('benign_0__mal_1',axis=1).values\n",
    "y = df['benign_0__mal_1'].values"
   ]
  },
  {
   "cell_type": "code",
   "execution_count": 4,
   "metadata": {},
   "outputs": [],
   "source": [
    "from sklearn.model_selection import train_test_split"
   ]
  },
  {
   "cell_type": "code",
   "execution_count": 5,
   "metadata": {},
   "outputs": [],
   "source": [
    "X_train, X_test, y_train, y_test = train_test_split(X,y,test_size=0.25,random_state=101)"
   ]
  },
  {
   "cell_type": "markdown",
   "metadata": {},
   "source": [
    "\n",
    "### Scaling Data"
   ]
  },
  {
   "cell_type": "code",
   "execution_count": 6,
   "metadata": {},
   "outputs": [],
   "source": [
    "from sklearn.preprocessing import MinMaxScaler"
   ]
  },
  {
   "cell_type": "code",
   "execution_count": 7,
   "metadata": {},
   "outputs": [],
   "source": [
    "scaler = MinMaxScaler()"
   ]
  },
  {
   "cell_type": "code",
   "execution_count": 8,
   "metadata": {},
   "outputs": [
    {
     "data": {
      "text/plain": [
       "MinMaxScaler()"
      ]
     },
     "execution_count": 8,
     "metadata": {},
     "output_type": "execute_result"
    }
   ],
   "source": [
    "scaler.fit(X_train)"
   ]
  },
  {
   "cell_type": "code",
   "execution_count": 9,
   "metadata": {},
   "outputs": [],
   "source": [
    "X_train = scaler.transform(X_train)\n",
    "X_test = scaler.transform(X_test)"
   ]
  },
  {
   "cell_type": "markdown",
   "metadata": {},
   "source": [
    "## Creating the Model"
   ]
  },
  {
   "cell_type": "code",
   "execution_count": 10,
   "metadata": {},
   "outputs": [],
   "source": [
    "import tensorflow as tf\n",
    "from tensorflow.keras.models import Sequential\n",
    "from tensorflow.keras.layers import Dense, Activation,Dropout"
   ]
  },
  {
   "cell_type": "code",
   "execution_count": 11,
   "metadata": {},
   "outputs": [],
   "source": [
    "from tensorflow.keras.callbacks import EarlyStopping,TensorBoard"
   ]
  },
  {
   "cell_type": "code",
   "execution_count": 12,
   "metadata": {},
   "outputs": [],
   "source": [
    "early_stop = EarlyStopping(monitor='val_loss', mode='min', verbose=1, patience=25)"
   ]
  },
  {
   "cell_type": "code",
   "execution_count": 13,
   "metadata": {},
   "outputs": [
    {
     "data": {
      "text/plain": [
       "'C:\\\\Users\\\\Admin\\\\Desktop\\\\DS_ML_Bootcamp-master\\\\TensorFlow_FILES\\\\ANNs'"
      ]
     },
     "execution_count": 13,
     "metadata": {},
     "output_type": "execute_result"
    }
   ],
   "source": [
    "pwd"
   ]
  },
  {
   "cell_type": "markdown",
   "metadata": {},
   "source": [
    "## Creating the Tensorboard Callback\n",
    "\n",
    "TensorBoard is a visualization tool provided with TensorFlow.\n",
    "\n",
    "This callback logs events for TensorBoard, including:\n",
    "* Metrics summary plots\n",
    "* Training graph visualization\n",
    "* Activation histograms\n",
    "* Sampled profiling\n",
    "\n",
    "If you have installed TensorFlow with pip, you should be able\n",
    "to launch TensorBoard from the command line:\n",
    "\n",
    "```sh\n",
    "tensorboard --logdir=path_to_your_logs\n",
    "```\n",
    "\n",
    "You can find more information about TensorBoard\n",
    "[here](https://www.tensorflow.org/tensorboard/).\n",
    "\n",
    "    Arguments:\n",
    "        log_dir: the path of the directory where to save the log files to be\n",
    "          parsed by TensorBoard.\n",
    "        histogram_freq: frequency (in epochs) at which to compute activation and\n",
    "          weight histograms for the layers of the model. If set to 0, histograms\n",
    "          won't be computed. Validation data (or split) must be specified for\n",
    "          histogram visualizations.\n",
    "        write_graph: whether to visualize the graph in TensorBoard. The log file\n",
    "          can become quite large when write_graph is set to True.\n",
    "        write_images: whether to write model weights to visualize as image in\n",
    "          TensorBoard.\n",
    "        update_freq: `'batch'` or `'epoch'` or integer. When using `'batch'`,\n",
    "          writes the losses and metrics to TensorBoard after each batch. The same\n",
    "          applies for `'epoch'`. If using an integer, let's say `1000`, the\n",
    "          callback will write the metrics and losses to TensorBoard every 1000\n",
    "          samples. Note that writing too frequently to TensorBoard can slow down\n",
    "          your training.\n",
    "        profile_batch: Profile the batch to sample compute characteristics. By\n",
    "          default, it will profile the second batch. Set profile_batch=0 to\n",
    "          disable profiling. Must run in TensorFlow eager mode.\n",
    "        embeddings_freq: frequency (in epochs) at which embedding layers will\n",
    "          be visualized. If set to 0, embeddings won't be visualized.\n",
    "       "
   ]
  },
  {
   "cell_type": "code",
   "execution_count": 14,
   "metadata": {},
   "outputs": [],
   "source": [
    "from datetime import datetime"
   ]
  },
  {
   "cell_type": "code",
   "execution_count": 15,
   "metadata": {},
   "outputs": [
    {
     "data": {
      "text/plain": [
       "'2022-01-10--2224'"
      ]
     },
     "execution_count": 15,
     "metadata": {},
     "output_type": "execute_result"
    }
   ],
   "source": [
    "datetime.now().strftime(\"%Y-%m-%d--%H%M\")"
   ]
  },
  {
   "cell_type": "code",
   "execution_count": 16,
   "metadata": {},
   "outputs": [],
   "source": [
    "# WINDOWS: Use \"logs\\\\fit\"\n",
    "# MACOS/LINUX: Use \"logs\\fit\"\n",
    "\n",
    "log_directory = 'logs\\\\fit'\n",
    "\n",
    "# OPTIONAL: ADD A TIMESTAMP FOR UNIQUE FOLDER\n",
    "# timestamp = datetime.now().strftime(\"%Y-%m-%d--%H%M\")\n",
    "# log_directory = log_directory + '\\\\' + timestamp\n",
    "\n",
    "\n",
    "board = TensorBoard(log_dir=log_directory,histogram_freq=1,\n",
    "    write_graph=True,\n",
    "    write_images=True,\n",
    "    update_freq='epoch',\n",
    "    profile_batch=2,\n",
    "    embeddings_freq=1)"
   ]
  },
  {
   "cell_type": "markdown",
   "metadata": {},
   "source": [
    "Now create the model layers:"
   ]
  },
  {
   "cell_type": "code",
   "execution_count": 17,
   "metadata": {},
   "outputs": [],
   "source": [
    "model = Sequential()\n",
    "model.add(Dense(units=30,activation='relu'))\n",
    "model.add(Dropout(0.5))\n",
    "model.add(Dense(units=15,activation='relu'))\n",
    "model.add(Dropout(0.5))\n",
    "model.add(Dense(units=1,activation='sigmoid'))\n",
    "model.compile(loss='binary_crossentropy', optimizer='adam')"
   ]
  },
  {
   "cell_type": "markdown",
   "metadata": {},
   "source": [
    "## Train the Model"
   ]
  },
  {
   "cell_type": "code",
   "execution_count": 18,
   "metadata": {},
   "outputs": [
    {
     "name": "stdout",
     "output_type": "stream",
     "text": [
      "Epoch 1/600\n",
      "14/14 [==============================] - 1s 44ms/step - loss: 0.6714 - val_loss: 0.6660\n",
      "Epoch 2/600\n",
      "14/14 [==============================] - 0s 10ms/step - loss: 0.6631 - val_loss: 0.6494\n",
      "Epoch 3/600\n",
      "14/14 [==============================] - 0s 12ms/step - loss: 0.6567 - val_loss: 0.6374\n",
      "Epoch 4/600\n",
      "14/14 [==============================] - 0s 10ms/step - loss: 0.6432 - val_loss: 0.6226\n",
      "Epoch 5/600\n",
      "14/14 [==============================] - 0s 11ms/step - loss: 0.6151 - val_loss: 0.6015\n",
      "Epoch 6/600\n",
      "14/14 [==============================] - 0s 9ms/step - loss: 0.5934 - val_loss: 0.5706\n",
      "Epoch 7/600\n",
      "14/14 [==============================] - 0s 8ms/step - loss: 0.5834 - val_loss: 0.5466\n",
      "Epoch 8/600\n",
      "14/14 [==============================] - 0s 8ms/step - loss: 0.5604 - val_loss: 0.5164\n",
      "Epoch 9/600\n",
      "14/14 [==============================] - 0s 8ms/step - loss: 0.5352 - val_loss: 0.4814\n",
      "Epoch 10/600\n",
      "14/14 [==============================] - 0s 9ms/step - loss: 0.5341 - val_loss: 0.4532\n",
      "Epoch 11/600\n",
      "14/14 [==============================] - 0s 9ms/step - loss: 0.4789 - val_loss: 0.4212\n",
      "Epoch 12/600\n",
      "14/14 [==============================] - 0s 12ms/step - loss: 0.4849 - val_loss: 0.3917\n",
      "Epoch 13/600\n",
      "14/14 [==============================] - 0s 12ms/step - loss: 0.4604 - val_loss: 0.3655\n",
      "Epoch 14/600\n",
      "14/14 [==============================] - 0s 8ms/step - loss: 0.4049 - val_loss: 0.3375\n",
      "Epoch 15/600\n",
      "14/14 [==============================] - 0s 9ms/step - loss: 0.4241 - val_loss: 0.3123\n",
      "Epoch 16/600\n",
      "14/14 [==============================] - 0s 10ms/step - loss: 0.3926 - val_loss: 0.2903\n",
      "Epoch 17/600\n",
      "14/14 [==============================] - 0s 10ms/step - loss: 0.3662 - val_loss: 0.2753\n",
      "Epoch 18/600\n",
      "14/14 [==============================] - 0s 10ms/step - loss: 0.3530 - val_loss: 0.2573\n",
      "Epoch 19/600\n",
      "14/14 [==============================] - 0s 9ms/step - loss: 0.3472 - val_loss: 0.2424\n",
      "Epoch 20/600\n",
      "14/14 [==============================] - 0s 9ms/step - loss: 0.3331 - val_loss: 0.2411\n",
      "Epoch 21/600\n",
      "14/14 [==============================] - 0s 9ms/step - loss: 0.3234 - val_loss: 0.2258\n",
      "Epoch 22/600\n",
      "14/14 [==============================] - 0s 9ms/step - loss: 0.3132 - val_loss: 0.2118\n",
      "Epoch 23/600\n",
      "14/14 [==============================] - 0s 8ms/step - loss: 0.3045 - val_loss: 0.2087\n",
      "Epoch 24/600\n",
      "14/14 [==============================] - 0s 12ms/step - loss: 0.2853 - val_loss: 0.1968\n",
      "Epoch 25/600\n",
      "14/14 [==============================] - 0s 13ms/step - loss: 0.2851 - val_loss: 0.1877\n",
      "Epoch 26/600\n",
      "14/14 [==============================] - 0s 8ms/step - loss: 0.3011 - val_loss: 0.1834\n",
      "Epoch 27/600\n",
      "14/14 [==============================] - 0s 9ms/step - loss: 0.2606 - val_loss: 0.1766\n",
      "Epoch 28/600\n",
      "14/14 [==============================] - 0s 11ms/step - loss: 0.2685 - val_loss: 0.1697\n",
      "Epoch 29/600\n",
      "14/14 [==============================] - 0s 10ms/step - loss: 0.2501 - val_loss: 0.1639\n",
      "Epoch 30/600\n",
      "14/14 [==============================] - 0s 14ms/step - loss: 0.2424 - val_loss: 0.1630\n",
      "Epoch 31/600\n",
      "14/14 [==============================] - 0s 8ms/step - loss: 0.2348 - val_loss: 0.1703\n",
      "Epoch 32/600\n",
      "14/14 [==============================] - 0s 9ms/step - loss: 0.2539 - val_loss: 0.1567\n",
      "Epoch 33/600\n",
      "14/14 [==============================] - 0s 10ms/step - loss: 0.2303 - val_loss: 0.1561\n",
      "Epoch 34/600\n",
      "14/14 [==============================] - 0s 10ms/step - loss: 0.2355 - val_loss: 0.1477\n",
      "Epoch 35/600\n",
      "14/14 [==============================] - 0s 8ms/step - loss: 0.2109 - val_loss: 0.1422\n",
      "Epoch 36/600\n",
      "14/14 [==============================] - 0s 8ms/step - loss: 0.2286 - val_loss: 0.1406\n",
      "Epoch 37/600\n",
      "14/14 [==============================] - 0s 8ms/step - loss: 0.2450 - val_loss: 0.1349\n",
      "Epoch 38/600\n",
      "14/14 [==============================] - 0s 9ms/step - loss: 0.2090 - val_loss: 0.1367\n",
      "Epoch 39/600\n",
      "14/14 [==============================] - 0s 7ms/step - loss: 0.2064 - val_loss: 0.1324\n",
      "Epoch 40/600\n",
      "14/14 [==============================] - 0s 8ms/step - loss: 0.2356 - val_loss: 0.1299\n",
      "Epoch 41/600\n",
      "14/14 [==============================] - 0s 9ms/step - loss: 0.1722 - val_loss: 0.1281\n",
      "Epoch 42/600\n",
      "14/14 [==============================] - 0s 8ms/step - loss: 0.1967 - val_loss: 0.1216\n",
      "Epoch 43/600\n",
      "14/14 [==============================] - 0s 8ms/step - loss: 0.2140 - val_loss: 0.1228\n",
      "Epoch 44/600\n",
      "14/14 [==============================] - 0s 8ms/step - loss: 0.2181 - val_loss: 0.1248\n",
      "Epoch 45/600\n",
      "14/14 [==============================] - 0s 11ms/step - loss: 0.2029 - val_loss: 0.1264\n",
      "Epoch 46/600\n",
      "14/14 [==============================] - 0s 9ms/step - loss: 0.1821 - val_loss: 0.1236\n",
      "Epoch 47/600\n",
      "14/14 [==============================] - 0s 9ms/step - loss: 0.1699 - val_loss: 0.1172\n",
      "Epoch 48/600\n",
      "14/14 [==============================] - 0s 8ms/step - loss: 0.1870 - val_loss: 0.1128\n",
      "Epoch 49/600\n",
      "14/14 [==============================] - 0s 8ms/step - loss: 0.1547 - val_loss: 0.1118\n",
      "Epoch 50/600\n",
      "14/14 [==============================] - 0s 8ms/step - loss: 0.1546 - val_loss: 0.1124\n",
      "Epoch 51/600\n",
      "14/14 [==============================] - 0s 8ms/step - loss: 0.1673 - val_loss: 0.1041\n",
      "Epoch 52/600\n",
      "14/14 [==============================] - 0s 8ms/step - loss: 0.1758 - val_loss: 0.1030\n",
      "Epoch 53/600\n",
      "14/14 [==============================] - 0s 9ms/step - loss: 0.1595 - val_loss: 0.1070\n",
      "Epoch 54/600\n",
      "14/14 [==============================] - 0s 16ms/step - loss: 0.1784 - val_loss: 0.1029\n",
      "Epoch 55/600\n",
      "14/14 [==============================] - 0s 7ms/step - loss: 0.1735 - val_loss: 0.1060\n",
      "Epoch 56/600\n",
      "14/14 [==============================] - 0s 8ms/step - loss: 0.1548 - val_loss: 0.1129\n",
      "Epoch 57/600\n",
      "14/14 [==============================] - 0s 8ms/step - loss: 0.1687 - val_loss: 0.0987\n",
      "Epoch 58/600\n",
      "14/14 [==============================] - 0s 10ms/step - loss: 0.1585 - val_loss: 0.1008\n",
      "Epoch 59/600\n",
      "14/14 [==============================] - 0s 11ms/step - loss: 0.1540 - val_loss: 0.1054\n",
      "Epoch 60/600\n",
      "14/14 [==============================] - 0s 18ms/step - loss: 0.1507 - val_loss: 0.0988\n",
      "Epoch 61/600\n",
      "14/14 [==============================] - 0s 10ms/step - loss: 0.1657 - val_loss: 0.1049\n",
      "Epoch 62/600\n",
      "14/14 [==============================] - 0s 8ms/step - loss: 0.1595 - val_loss: 0.0979\n",
      "Epoch 63/600\n",
      "14/14 [==============================] - 0s 9ms/step - loss: 0.1214 - val_loss: 0.0937\n",
      "Epoch 64/600\n",
      "14/14 [==============================] - 0s 8ms/step - loss: 0.1670 - val_loss: 0.0922\n",
      "Epoch 65/600\n",
      "14/14 [==============================] - 0s 8ms/step - loss: 0.1400 - val_loss: 0.1048\n",
      "Epoch 66/600\n",
      "14/14 [==============================] - 0s 8ms/step - loss: 0.1467 - val_loss: 0.1080\n",
      "Epoch 67/600\n",
      "14/14 [==============================] - 0s 9ms/step - loss: 0.1298 - val_loss: 0.0943\n",
      "Epoch 68/600\n",
      "14/14 [==============================] - 0s 9ms/step - loss: 0.1276 - val_loss: 0.0950\n",
      "Epoch 69/600\n",
      "14/14 [==============================] - 0s 10ms/step - loss: 0.1151 - val_loss: 0.0898\n",
      "Epoch 70/600\n",
      "14/14 [==============================] - 0s 8ms/step - loss: 0.1390 - val_loss: 0.1041\n",
      "Epoch 71/600\n",
      "14/14 [==============================] - 0s 8ms/step - loss: 0.1573 - val_loss: 0.0907\n",
      "Epoch 72/600\n",
      "14/14 [==============================] - 0s 9ms/step - loss: 0.1227 - val_loss: 0.0875\n",
      "Epoch 73/600\n",
      "14/14 [==============================] - 0s 10ms/step - loss: 0.1135 - val_loss: 0.0997\n",
      "Epoch 74/600\n",
      "14/14 [==============================] - 0s 8ms/step - loss: 0.1184 - val_loss: 0.0934\n",
      "Epoch 75/600\n",
      "14/14 [==============================] - 0s 8ms/step - loss: 0.1113 - val_loss: 0.0917\n",
      "Epoch 76/600\n",
      "14/14 [==============================] - 0s 9ms/step - loss: 0.1430 - val_loss: 0.0955\n",
      "Epoch 77/600\n",
      "14/14 [==============================] - 0s 10ms/step - loss: 0.1126 - val_loss: 0.0860\n",
      "Epoch 78/600\n",
      "14/14 [==============================] - 0s 10ms/step - loss: 0.1251 - val_loss: 0.0955\n",
      "Epoch 79/600\n",
      "14/14 [==============================] - 0s 9ms/step - loss: 0.1398 - val_loss: 0.0874\n",
      "Epoch 80/600\n",
      "14/14 [==============================] - 0s 9ms/step - loss: 0.1187 - val_loss: 0.0869\n",
      "Epoch 81/600\n",
      "14/14 [==============================] - 0s 8ms/step - loss: 0.1140 - val_loss: 0.0889\n",
      "Epoch 82/600\n"
     ]
    },
    {
     "name": "stdout",
     "output_type": "stream",
     "text": [
      "14/14 [==============================] - 0s 10ms/step - loss: 0.1199 - val_loss: 0.0937\n",
      "Epoch 83/600\n",
      "14/14 [==============================] - 0s 14ms/step - loss: 0.1229 - val_loss: 0.0909\n",
      "Epoch 84/600\n",
      "14/14 [==============================] - 0s 8ms/step - loss: 0.1098 - val_loss: 0.0872\n",
      "Epoch 85/600\n",
      "14/14 [==============================] - 0s 9ms/step - loss: 0.1205 - val_loss: 0.0853\n",
      "Epoch 86/600\n",
      "14/14 [==============================] - 0s 10ms/step - loss: 0.0915 - val_loss: 0.0825\n",
      "Epoch 87/600\n",
      "14/14 [==============================] - 0s 11ms/step - loss: 0.1017 - val_loss: 0.0896\n",
      "Epoch 88/600\n",
      "14/14 [==============================] - 0s 8ms/step - loss: 0.1028 - val_loss: 0.0922\n",
      "Epoch 89/600\n",
      "14/14 [==============================] - 0s 8ms/step - loss: 0.1095 - val_loss: 0.0911\n",
      "Epoch 90/600\n",
      "14/14 [==============================] - 0s 10ms/step - loss: 0.1194 - val_loss: 0.0818\n",
      "Epoch 91/600\n",
      "14/14 [==============================] - 0s 13ms/step - loss: 0.1201 - val_loss: 0.0893\n",
      "Epoch 92/600\n",
      "14/14 [==============================] - 0s 8ms/step - loss: 0.1203 - val_loss: 0.0888\n",
      "Epoch 93/600\n",
      "14/14 [==============================] - 0s 8ms/step - loss: 0.1025 - val_loss: 0.0904\n",
      "Epoch 94/600\n",
      "14/14 [==============================] - 0s 9ms/step - loss: 0.1094 - val_loss: 0.0940\n",
      "Epoch 95/600\n",
      "14/14 [==============================] - 0s 8ms/step - loss: 0.1124 - val_loss: 0.0818\n",
      "Epoch 96/600\n",
      "14/14 [==============================] - 0s 8ms/step - loss: 0.0996 - val_loss: 0.0893\n",
      "Epoch 97/600\n",
      "14/14 [==============================] - 0s 9ms/step - loss: 0.1126 - val_loss: 0.0966\n",
      "Epoch 98/600\n",
      "14/14 [==============================] - 0s 11ms/step - loss: 0.1114 - val_loss: 0.0830\n",
      "Epoch 99/600\n",
      "14/14 [==============================] - 0s 9ms/step - loss: 0.0922 - val_loss: 0.0839\n",
      "Epoch 100/600\n",
      "14/14 [==============================] - 0s 9ms/step - loss: 0.1098 - val_loss: 0.0937\n",
      "Epoch 101/600\n",
      "14/14 [==============================] - 0s 9ms/step - loss: 0.0995 - val_loss: 0.0810\n",
      "Epoch 102/600\n",
      "14/14 [==============================] - 0s 10ms/step - loss: 0.1340 - val_loss: 0.0874\n",
      "Epoch 103/600\n",
      "14/14 [==============================] - 0s 7ms/step - loss: 0.1136 - val_loss: 0.0945\n",
      "Epoch 104/600\n",
      "14/14 [==============================] - 0s 9ms/step - loss: 0.0997 - val_loss: 0.0977\n",
      "Epoch 105/600\n",
      "14/14 [==============================] - 0s 10ms/step - loss: 0.1023 - val_loss: 0.0806\n",
      "Epoch 106/600\n",
      "14/14 [==============================] - 0s 8ms/step - loss: 0.1179 - val_loss: 0.0802\n",
      "Epoch 107/600\n",
      "14/14 [==============================] - 0s 10ms/step - loss: 0.0956 - val_loss: 0.0982\n",
      "Epoch 108/600\n",
      "14/14 [==============================] - 0s 8ms/step - loss: 0.1098 - val_loss: 0.0985\n",
      "Epoch 109/600\n",
      "14/14 [==============================] - 0s 10ms/step - loss: 0.0998 - val_loss: 0.0835\n",
      "Epoch 110/600\n",
      "14/14 [==============================] - 0s 8ms/step - loss: 0.0989 - val_loss: 0.0903\n",
      "Epoch 111/600\n",
      "14/14 [==============================] - 0s 9ms/step - loss: 0.1005 - val_loss: 0.0904\n",
      "Epoch 112/600\n",
      "14/14 [==============================] - 0s 8ms/step - loss: 0.0982 - val_loss: 0.0909\n",
      "Epoch 113/600\n",
      "14/14 [==============================] - 0s 8ms/step - loss: 0.0926 - val_loss: 0.0874\n",
      "Epoch 114/600\n",
      "14/14 [==============================] - 0s 8ms/step - loss: 0.0860 - val_loss: 0.0860\n",
      "Epoch 115/600\n",
      "14/14 [==============================] - 0s 8ms/step - loss: 0.1096 - val_loss: 0.0889\n",
      "Epoch 116/600\n",
      "14/14 [==============================] - 0s 8ms/step - loss: 0.1060 - val_loss: 0.0830\n",
      "Epoch 117/600\n",
      "14/14 [==============================] - 0s 12ms/step - loss: 0.0880 - val_loss: 0.0881\n",
      "Epoch 118/600\n",
      "14/14 [==============================] - 0s 7ms/step - loss: 0.0923 - val_loss: 0.0911\n",
      "Epoch 119/600\n",
      "14/14 [==============================] - 0s 9ms/step - loss: 0.0942 - val_loss: 0.0878\n",
      "Epoch 120/600\n",
      "14/14 [==============================] - 0s 10ms/step - loss: 0.1009 - val_loss: 0.0925\n",
      "Epoch 121/600\n",
      "14/14 [==============================] - 0s 9ms/step - loss: 0.0890 - val_loss: 0.0915\n",
      "Epoch 122/600\n",
      "14/14 [==============================] - 0s 11ms/step - loss: 0.0943 - val_loss: 0.0849\n",
      "Epoch 123/600\n",
      "14/14 [==============================] - 0s 10ms/step - loss: 0.0853 - val_loss: 0.0790\n",
      "Epoch 124/600\n",
      "14/14 [==============================] - 0s 8ms/step - loss: 0.0913 - val_loss: 0.0972\n",
      "Epoch 125/600\n",
      "14/14 [==============================] - 0s 7ms/step - loss: 0.1014 - val_loss: 0.0842\n",
      "Epoch 126/600\n",
      "14/14 [==============================] - 0s 8ms/step - loss: 0.0937 - val_loss: 0.0805\n",
      "Epoch 127/600\n",
      "14/14 [==============================] - 0s 8ms/step - loss: 0.0910 - val_loss: 0.0926\n",
      "Epoch 128/600\n",
      "14/14 [==============================] - 0s 8ms/step - loss: 0.0914 - val_loss: 0.0921\n",
      "Epoch 129/600\n",
      "14/14 [==============================] - 0s 7ms/step - loss: 0.0989 - val_loss: 0.0859\n",
      "Epoch 130/600\n",
      "14/14 [==============================] - 0s 9ms/step - loss: 0.0956 - val_loss: 0.0829\n",
      "Epoch 131/600\n",
      "14/14 [==============================] - 0s 8ms/step - loss: 0.0836 - val_loss: 0.1027\n",
      "Epoch 132/600\n",
      "14/14 [==============================] - 0s 8ms/step - loss: 0.0805 - val_loss: 0.0853\n",
      "Epoch 133/600\n",
      "14/14 [==============================] - 0s 9ms/step - loss: 0.0897 - val_loss: 0.1005\n",
      "Epoch 134/600\n",
      "14/14 [==============================] - 0s 8ms/step - loss: 0.0795 - val_loss: 0.0854\n",
      "Epoch 135/600\n",
      "14/14 [==============================] - 0s 7ms/step - loss: 0.0932 - val_loss: 0.0853\n",
      "Epoch 136/600\n",
      "14/14 [==============================] - 0s 8ms/step - loss: 0.0885 - val_loss: 0.0845\n",
      "Epoch 137/600\n",
      "14/14 [==============================] - 0s 8ms/step - loss: 0.0872 - val_loss: 0.0918\n",
      "Epoch 138/600\n",
      "14/14 [==============================] - 0s 8ms/step - loss: 0.0854 - val_loss: 0.0860\n",
      "Epoch 139/600\n",
      "14/14 [==============================] - 0s 8ms/step - loss: 0.1191 - val_loss: 0.0899\n",
      "Epoch 140/600\n",
      "14/14 [==============================] - 0s 6ms/step - loss: 0.0965 - val_loss: 0.0858\n",
      "Epoch 141/600\n",
      "14/14 [==============================] - 0s 8ms/step - loss: 0.0816 - val_loss: 0.0974\n",
      "Epoch 142/600\n",
      "14/14 [==============================] - 0s 8ms/step - loss: 0.1022 - val_loss: 0.1043\n",
      "Epoch 143/600\n",
      "14/14 [==============================] - 0s 9ms/step - loss: 0.0724 - val_loss: 0.0888\n",
      "Epoch 144/600\n",
      "14/14 [==============================] - 0s 10ms/step - loss: 0.0935 - val_loss: 0.0869\n",
      "Epoch 145/600\n",
      "14/14 [==============================] - 0s 8ms/step - loss: 0.0808 - val_loss: 0.0804\n",
      "Epoch 146/600\n",
      "14/14 [==============================] - 0s 8ms/step - loss: 0.0790 - val_loss: 0.0857\n",
      "Epoch 147/600\n",
      "14/14 [==============================] - 0s 8ms/step - loss: 0.0762 - val_loss: 0.1039\n",
      "Epoch 148/600\n",
      "14/14 [==============================] - 0s 12ms/step - loss: 0.0901 - val_loss: 0.0879\n",
      "Epoch 00148: early stopping\n"
     ]
    },
    {
     "data": {
      "text/plain": [
       "<keras.callbacks.History at 0x20e409f8c70>"
      ]
     },
     "execution_count": 18,
     "metadata": {},
     "output_type": "execute_result"
    }
   ],
   "source": [
    "model.fit(x=X_train, \n",
    "          y=y_train, \n",
    "          epochs=600,\n",
    "          validation_data=(X_test, y_test), verbose=1,\n",
    "          callbacks=[early_stop,board]\n",
    "          )"
   ]
  },
  {
   "cell_type": "markdown",
   "metadata": {},
   "source": [
    "# Running Tensorboard\n"
   ]
  },
  {
   "cell_type": "markdown",
   "metadata": {},
   "source": [
    "## Running through the Command Line\n",
    "\n",
    "**Watch video to see how to run Tensorboard through a command line call.**"
   ]
  },
  {
   "cell_type": "markdown",
   "metadata": {},
   "source": [
    "Tensorboard will run locally in your browser at [http://localhost:6006/](http://localhost:6006/)\n"
   ]
  },
  {
   "cell_type": "code",
   "execution_count": 19,
   "metadata": {},
   "outputs": [
    {
     "name": "stdout",
     "output_type": "stream",
     "text": [
      "logs\\fit\n"
     ]
    }
   ],
   "source": [
    "print(log_directory)"
   ]
  },
  {
   "cell_type": "code",
   "execution_count": 20,
   "metadata": {},
   "outputs": [
    {
     "data": {
      "text/plain": [
       "'C:\\\\Users\\\\Admin\\\\Desktop\\\\DS_ML_Bootcamp-master\\\\TensorFlow_FILES\\\\ANNs'"
      ]
     },
     "execution_count": 20,
     "metadata": {},
     "output_type": "execute_result"
    }
   ],
   "source": [
    "pwd"
   ]
  },
  {
   "cell_type": "markdown",
   "metadata": {},
   "source": [
    "### Use cd at your command line to change directory to the file path reported back by pwd or your current .py file location.\n",
    "### Then run this code at your command line or terminal"
   ]
  },
  {
   "cell_type": "code",
   "execution_count": 21,
   "metadata": {},
   "outputs": [
    {
     "ename": "SyntaxError",
     "evalue": "invalid syntax (Temp/ipykernel_6260/1592440942.py, line 1)",
     "output_type": "error",
     "traceback": [
      "\u001b[1;36m  File \u001b[1;32m\"C:\\Users\\Admin\\AppData\\Local\\Temp/ipykernel_6260/1592440942.py\"\u001b[1;36m, line \u001b[1;32m1\u001b[0m\n\u001b[1;33m    tensorboard --logdir logs\\fit\u001b[0m\n\u001b[1;37m                         ^\u001b[0m\n\u001b[1;31mSyntaxError\u001b[0m\u001b[1;31m:\u001b[0m invalid syntax\n"
     ]
    }
   ],
   "source": [
    "tensorboard --logdir logs\\fit "
   ]
  }
 ],
 "metadata": {
  "kernelspec": {
   "display_name": "Python 3 (ipykernel)",
   "language": "python",
   "name": "python3"
  },
  "language_info": {
   "codemirror_mode": {
    "name": "ipython",
    "version": 3
   },
   "file_extension": ".py",
   "mimetype": "text/x-python",
   "name": "python",
   "nbconvert_exporter": "python",
   "pygments_lexer": "ipython3",
   "version": "3.9.7"
  }
 },
 "nbformat": 4,
 "nbformat_minor": 2
}
