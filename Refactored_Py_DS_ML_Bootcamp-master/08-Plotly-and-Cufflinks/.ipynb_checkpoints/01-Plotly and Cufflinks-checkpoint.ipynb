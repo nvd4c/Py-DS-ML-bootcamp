{
 "cells": [
  {
   "cell_type": "markdown",
   "metadata": {},
   "source": [
    "___\n",
    "\n",
    "<a href='http://www.pieriandata.com'> <img src='../Pierian_Data_Logo.png' /></a>\n",
    "___\n",
    "# Plotly and Cufflinks"
   ]
  },
  {
   "cell_type": "markdown",
   "metadata": {},
   "source": [
    "Plotly là một thư viện cho phép bạn tạo các plot tương tác mà bạn có thể sử dụng trong trang tổng quan hoặc trang web (bạn có thể lưu chúng dưới dạng tệp html hoặc hình ảnh tĩnh).\n",
    "\n",
    "## Cài đặt\n",
    "\n",
    "Để tất cả điều này hoạt động, bạn sẽ cần cài đặt các plotly and cufflinks (liên kết âm mưu và khuy măng sét) để gọi các lô trực tiếp ra khỏi khung dữ liệu pandas. Các thư viện này hiện không có sẵn thông qua **conda** nhưng có sẵn thông qua **pip**. Cài đặt các thư viện tại dòng lệnh / thiết bị đầu cuối của bạn bằng cách sử dụng:\n",
    "\n",
    "     pip install plotly\n",
    "     pip install cufflinks\n",
    "\n",
    "** LƯU Ý: Đảm bảo rằng bạn chỉ có một bản cài đặt Python trên máy tính của mình khi bạn thực hiện việc này, nếu không quá trình cài đặt có thể không hoạt động. **\n",
    "\n",
    "## Imports and Set-up"
   ]
  },
  {
   "cell_type": "code",
   "execution_count": 1,
   "metadata": {},
   "outputs": [],
   "source": [
    "import pandas as pd\n",
    "import numpy as np\n",
    "%matplotlib inline"
   ]
  },
  {
   "cell_type": "code",
   "execution_count": 2,
   "metadata": {},
   "outputs": [
    {
     "name": "stdout",
     "output_type": "stream",
     "text": [
      "Requirement already satisfied: plotly in c:\\users\\admin\\anaconda3\\lib\\site-packages (5.1.0)\n",
      "Requirement already satisfied: tenacity>=6.2.0 in c:\\users\\admin\\anaconda3\\lib\\site-packages (from plotly) (8.0.1)\n",
      "Requirement already satisfied: six in c:\\users\\admin\\anaconda3\\lib\\site-packages (from plotly) (1.15.0)\n",
      "Note: you may need to restart the kernel to use updated packages.\n"
     ]
    }
   ],
   "source": [
    "#pip install plotly"
   ]
  },
  {
   "cell_type": "code",
   "execution_count": 3,
   "metadata": {},
   "outputs": [
    {
     "name": "stdout",
     "output_type": "stream",
     "text": [
      "Requirement already satisfied: cufflinks in c:\\users\\admin\\anaconda3\\lib\\site-packages (0.17.3)\n",
      "Requirement already satisfied: ipywidgets>=7.0.0 in c:\\users\\admin\\anaconda3\\lib\\site-packages (from cufflinks) (7.5.1)\n",
      "Requirement already satisfied: plotly>=4.1.1 in c:\\users\\admin\\anaconda3\\lib\\site-packages (from cufflinks) (5.1.0)\n",
      "Requirement already satisfied: six>=1.9.0 in c:\\users\\admin\\anaconda3\\lib\\site-packages (from cufflinks) (1.15.0)\n",
      "Requirement already satisfied: setuptools>=34.4.1 in c:\\users\\admin\\anaconda3\\lib\\site-packages (from cufflinks) (50.3.1.post20201107)\n",
      "Requirement already satisfied: numpy>=1.9.2 in c:\\users\\admin\\anaconda3\\lib\\site-packages (from cufflinks) (1.18.5)\n",
      "Requirement already satisfied: pandas>=0.19.2 in c:\\users\\admin\\anaconda3\\lib\\site-packages (from cufflinks) (1.1.3)\n",
      "Requirement already satisfied: colorlover>=0.2.1 in c:\\users\\admin\\anaconda3\\lib\\site-packages (from cufflinks) (0.3.0)\n",
      "Requirement already satisfied: ipython>=5.3.0 in c:\\users\\admin\\anaconda3\\lib\\site-packages (from cufflinks) (7.19.0)\n",
      "Requirement already satisfied: traitlets>=4.3.1 in c:\\users\\admin\\anaconda3\\lib\\site-packages (from ipywidgets>=7.0.0->cufflinks) (5.0.5)\n",
      "Requirement already satisfied: widgetsnbextension~=3.5.0 in c:\\users\\admin\\anaconda3\\lib\\site-packages (from ipywidgets>=7.0.0->cufflinks) (3.5.1)\n",
      "Requirement already satisfied: ipykernel>=4.5.1 in c:\\users\\admin\\anaconda3\\lib\\site-packages (from ipywidgets>=7.0.0->cufflinks) (5.3.4)\n",
      "Requirement already satisfied: nbformat>=4.2.0 in c:\\users\\admin\\anaconda3\\lib\\site-packages (from ipywidgets>=7.0.0->cufflinks) (5.0.8)\n",
      "Requirement already satisfied: tenacity>=6.2.0 in c:\\users\\admin\\anaconda3\\lib\\site-packages (from plotly>=4.1.1->cufflinks) (8.0.1)\n",
      "Requirement already satisfied: pytz>=2017.2 in c:\\users\\admin\\anaconda3\\lib\\site-packages (from pandas>=0.19.2->cufflinks) (2020.1)\n",
      "Requirement already satisfied: python-dateutil>=2.7.3 in c:\\users\\admin\\anaconda3\\lib\\site-packages (from pandas>=0.19.2->cufflinks) (2.8.1)\n",
      "Requirement already satisfied: prompt-toolkit!=3.0.0,!=3.0.1,<3.1.0,>=2.0.0 in c:\\users\\admin\\anaconda3\\lib\\site-packages (from ipython>=5.3.0->cufflinks) (3.0.8)\n",
      "Requirement already satisfied: colorama; sys_platform == \"win32\" in c:\\users\\admin\\anaconda3\\lib\\site-packages (from ipython>=5.3.0->cufflinks) (0.4.4)\n",
      "Requirement already satisfied: backcall in c:\\users\\admin\\anaconda3\\lib\\site-packages (from ipython>=5.3.0->cufflinks) (0.2.0)\n",
      "Requirement already satisfied: jedi>=0.10 in c:\\users\\admin\\anaconda3\\lib\\site-packages (from ipython>=5.3.0->cufflinks) (0.17.1)\n",
      "Requirement already satisfied: pygments in c:\\users\\admin\\anaconda3\\lib\\site-packages (from ipython>=5.3.0->cufflinks) (2.7.2)\n",
      "Requirement already satisfied: decorator in c:\\users\\admin\\anaconda3\\lib\\site-packages (from ipython>=5.3.0->cufflinks) (4.4.2)\n",
      "Requirement already satisfied: pickleshare in c:\\users\\admin\\anaconda3\\lib\\site-packages (from ipython>=5.3.0->cufflinks) (0.7.5)\n",
      "Requirement already satisfied: ipython-genutils in c:\\users\\admin\\anaconda3\\lib\\site-packages (from traitlets>=4.3.1->ipywidgets>=7.0.0->cufflinks) (0.2.0)\n",
      "Requirement already satisfied: notebook>=4.4.1 in c:\\users\\admin\\anaconda3\\lib\\site-packages (from widgetsnbextension~=3.5.0->ipywidgets>=7.0.0->cufflinks) (6.1.4)\n",
      "Requirement already satisfied: jupyter-client in c:\\users\\admin\\anaconda3\\lib\\site-packages (from ipykernel>=4.5.1->ipywidgets>=7.0.0->cufflinks) (6.1.7)\n",
      "Requirement already satisfied: tornado>=4.2 in c:\\users\\admin\\anaconda3\\lib\\site-packages (from ipykernel>=4.5.1->ipywidgets>=7.0.0->cufflinks) (6.0.4)\n",
      "Requirement already satisfied: jupyter-core in c:\\users\\admin\\anaconda3\\lib\\site-packages (from nbformat>=4.2.0->ipywidgets>=7.0.0->cufflinks) (4.6.3)\n",
      "Requirement already satisfied: jsonschema!=2.5.0,>=2.4 in c:\\users\\admin\\anaconda3\\lib\\site-packages (from nbformat>=4.2.0->ipywidgets>=7.0.0->cufflinks) (3.2.0)\n",
      "Requirement already satisfied: wcwidth in c:\\users\\admin\\anaconda3\\lib\\site-packages (from prompt-toolkit!=3.0.0,!=3.0.1,<3.1.0,>=2.0.0->ipython>=5.3.0->cufflinks) (0.2.5)\n",
      "Requirement already satisfied: parso<0.8.0,>=0.7.0 in c:\\users\\admin\\anaconda3\\lib\\site-packages (from jedi>=0.10->ipython>=5.3.0->cufflinks) (0.7.0)\n",
      "Requirement already satisfied: terminado>=0.8.3 in c:\\users\\admin\\anaconda3\\lib\\site-packages (from notebook>=4.4.1->widgetsnbextension~=3.5.0->ipywidgets>=7.0.0->cufflinks) (0.9.1)\n",
      "Requirement already satisfied: nbconvert in c:\\users\\admin\\anaconda3\\lib\\site-packages (from notebook>=4.4.1->widgetsnbextension~=3.5.0->ipywidgets>=7.0.0->cufflinks) (6.0.7)\n",
      "Requirement already satisfied: Send2Trash in c:\\users\\admin\\anaconda3\\lib\\site-packages (from notebook>=4.4.1->widgetsnbextension~=3.5.0->ipywidgets>=7.0.0->cufflinks) (1.5.0)\n",
      "Requirement already satisfied: argon2-cffi in c:\\users\\admin\\anaconda3\\lib\\site-packages (from notebook>=4.4.1->widgetsnbextension~=3.5.0->ipywidgets>=7.0.0->cufflinks) (20.1.0)\n",
      "Requirement already satisfied: pyzmq>=17 in c:\\users\\admin\\anaconda3\\lib\\site-packages (from notebook>=4.4.1->widgetsnbextension~=3.5.0->ipywidgets>=7.0.0->cufflinks) (19.0.2)\n",
      "Requirement already satisfied: prometheus-client in c:\\users\\admin\\anaconda3\\lib\\site-packages (from notebook>=4.4.1->widgetsnbextension~=3.5.0->ipywidgets>=7.0.0->cufflinks) (0.8.0)\n",
      "Requirement already satisfied: jinja2 in c:\\users\\admin\\anaconda3\\lib\\site-packages (from notebook>=4.4.1->widgetsnbextension~=3.5.0->ipywidgets>=7.0.0->cufflinks) (2.11.2)\n",
      "Requirement already satisfied: pywin32>=1.0; sys_platform == \"win32\" in c:\\users\\admin\\anaconda3\\lib\\site-packages (from jupyter-core->nbformat>=4.2.0->ipywidgets>=7.0.0->cufflinks) (227)\n",
      "Requirement already satisfied: pyrsistent>=0.14.0 in c:\\users\\admin\\anaconda3\\lib\\site-packages (from jsonschema!=2.5.0,>=2.4->nbformat>=4.2.0->ipywidgets>=7.0.0->cufflinks) (0.17.3)\n",
      "Requirement already satisfied: attrs>=17.4.0 in c:\\users\\admin\\anaconda3\\lib\\site-packages (from jsonschema!=2.5.0,>=2.4->nbformat>=4.2.0->ipywidgets>=7.0.0->cufflinks) (20.3.0)\n",
      "Requirement already satisfied: pywinpty>=0.5 in c:\\users\\admin\\anaconda3\\lib\\site-packages (from terminado>=0.8.3->notebook>=4.4.1->widgetsnbextension~=3.5.0->ipywidgets>=7.0.0->cufflinks) (0.5.7)\n",
      "Requirement already satisfied: mistune<2,>=0.8.1 in c:\\users\\admin\\anaconda3\\lib\\site-packages (from nbconvert->notebook>=4.4.1->widgetsnbextension~=3.5.0->ipywidgets>=7.0.0->cufflinks) (0.8.4)\n",
      "Requirement already satisfied: testpath in c:\\users\\admin\\anaconda3\\lib\\site-packages (from nbconvert->notebook>=4.4.1->widgetsnbextension~=3.5.0->ipywidgets>=7.0.0->cufflinks) (0.4.4)\n",
      "Requirement already satisfied: defusedxml in c:\\users\\admin\\anaconda3\\lib\\site-packages (from nbconvert->notebook>=4.4.1->widgetsnbextension~=3.5.0->ipywidgets>=7.0.0->cufflinks) (0.6.0)\n",
      "Requirement already satisfied: pandocfilters>=1.4.1 in c:\\users\\admin\\anaconda3\\lib\\site-packages (from nbconvert->notebook>=4.4.1->widgetsnbextension~=3.5.0->ipywidgets>=7.0.0->cufflinks) (1.4.3)\n",
      "Requirement already satisfied: entrypoints>=0.2.2 in c:\\users\\admin\\anaconda3\\lib\\site-packages (from nbconvert->notebook>=4.4.1->widgetsnbextension~=3.5.0->ipywidgets>=7.0.0->cufflinks) (0.3)\n",
      "Requirement already satisfied: nbclient<0.6.0,>=0.5.0 in c:\\users\\admin\\anaconda3\\lib\\site-packages (from nbconvert->notebook>=4.4.1->widgetsnbextension~=3.5.0->ipywidgets>=7.0.0->cufflinks) (0.5.1)\n",
      "Requirement already satisfied: jupyterlab-pygments in c:\\users\\admin\\anaconda3\\lib\\site-packages (from nbconvert->notebook>=4.4.1->widgetsnbextension~=3.5.0->ipywidgets>=7.0.0->cufflinks) (0.1.2)\n",
      "Requirement already satisfied: bleach in c:\\users\\admin\\anaconda3\\lib\\site-packages (from nbconvert->notebook>=4.4.1->widgetsnbextension~=3.5.0->ipywidgets>=7.0.0->cufflinks) (3.2.1)\n",
      "Requirement already satisfied: cffi>=1.0.0 in c:\\users\\admin\\anaconda3\\lib\\site-packages (from argon2-cffi->notebook>=4.4.1->widgetsnbextension~=3.5.0->ipywidgets>=7.0.0->cufflinks) (1.14.3)\n",
      "Requirement already satisfied: MarkupSafe>=0.23 in c:\\users\\admin\\anaconda3\\lib\\site-packages (from jinja2->notebook>=4.4.1->widgetsnbextension~=3.5.0->ipywidgets>=7.0.0->cufflinks) (1.1.1)\n",
      "Requirement already satisfied: nest-asyncio in c:\\users\\admin\\anaconda3\\lib\\site-packages (from nbclient<0.6.0,>=0.5.0->nbconvert->notebook>=4.4.1->widgetsnbextension~=3.5.0->ipywidgets>=7.0.0->cufflinks) (1.4.2)\n",
      "Requirement already satisfied: async-generator in c:\\users\\admin\\anaconda3\\lib\\site-packages (from nbclient<0.6.0,>=0.5.0->nbconvert->notebook>=4.4.1->widgetsnbextension~=3.5.0->ipywidgets>=7.0.0->cufflinks) (1.10)\n",
      "Requirement already satisfied: packaging in c:\\users\\admin\\anaconda3\\lib\\site-packages (from bleach->nbconvert->notebook>=4.4.1->widgetsnbextension~=3.5.0->ipywidgets>=7.0.0->cufflinks) (20.4)\n",
      "Requirement already satisfied: webencodings in c:\\users\\admin\\anaconda3\\lib\\site-packages (from bleach->nbconvert->notebook>=4.4.1->widgetsnbextension~=3.5.0->ipywidgets>=7.0.0->cufflinks) (0.5.1)\n",
      "Requirement already satisfied: pycparser in c:\\users\\admin\\anaconda3\\lib\\site-packages (from cffi>=1.0.0->argon2-cffi->notebook>=4.4.1->widgetsnbextension~=3.5.0->ipywidgets>=7.0.0->cufflinks) (2.20)\n",
      "Requirement already satisfied: pyparsing>=2.0.2 in c:\\users\\admin\\anaconda3\\lib\\site-packages (from packaging->bleach->nbconvert->notebook>=4.4.1->widgetsnbextension~=3.5.0->ipywidgets>=7.0.0->cufflinks) (2.4.7)\n",
      "Note: you may need to restart the kernel to use updated packages.\n"
     ]
    }
   ],
   "source": [
    "pip install cufflinks"
   ]
  },
  {
   "cell_type": "code",
   "execution_count": 4,
   "metadata": {},
   "outputs": [
    {
     "name": "stdout",
     "output_type": "stream",
     "text": [
      "5.1.0\n"
     ]
    }
   ],
   "source": [
    "from plotly import __version__\n",
    "from plotly.offline import download_plotlyjs, init_notebook_mode, plot, iplot\n",
    "\n",
    "print(__version__) # requires version >= 1.9.0"
   ]
  },
  {
   "cell_type": "code",
   "execution_count": 5,
   "metadata": {},
   "outputs": [],
   "source": [
    "import cufflinks as cf"
   ]
  },
  {
   "cell_type": "code",
   "execution_count": 6,
   "metadata": {},
   "outputs": [
    {
     "data": {
      "text/html": [
       "        <script type=\"text/javascript\">\n",
       "        window.PlotlyConfig = {MathJaxConfig: 'local'};\n",
       "        if (window.MathJax) {MathJax.Hub.Config({SVG: {font: \"STIX-Web\"}});}\n",
       "        if (typeof require !== 'undefined') {\n",
       "        require.undef(\"plotly\");\n",
       "        requirejs.config({\n",
       "            paths: {\n",
       "                'plotly': ['https://cdn.plot.ly/plotly-2.2.0.min']\n",
       "            }\n",
       "        });\n",
       "        require(['plotly'], function(Plotly) {\n",
       "            window._Plotly = Plotly;\n",
       "        });\n",
       "        }\n",
       "        </script>\n",
       "        "
      ]
     },
     "metadata": {},
     "output_type": "display_data"
    }
   ],
   "source": [
    "# For Notebooks\n",
    "init_notebook_mode(connected=True)"
   ]
  },
  {
   "cell_type": "code",
   "execution_count": 7,
   "metadata": {},
   "outputs": [
    {
     "data": {
      "text/html": [
       "        <script type=\"text/javascript\">\n",
       "        window.PlotlyConfig = {MathJaxConfig: 'local'};\n",
       "        if (window.MathJax) {MathJax.Hub.Config({SVG: {font: \"STIX-Web\"}});}\n",
       "        if (typeof require !== 'undefined') {\n",
       "        require.undef(\"plotly\");\n",
       "        requirejs.config({\n",
       "            paths: {\n",
       "                'plotly': ['https://cdn.plot.ly/plotly-2.2.0.min']\n",
       "            }\n",
       "        });\n",
       "        require(['plotly'], function(Plotly) {\n",
       "            window._Plotly = Plotly;\n",
       "        });\n",
       "        }\n",
       "        </script>\n",
       "        "
      ]
     },
     "metadata": {},
     "output_type": "display_data"
    }
   ],
   "source": [
    "# For offline use\n",
    "cf.go_offline()"
   ]
  },
  {
   "cell_type": "markdown",
   "metadata": {},
   "source": [
    "### Fake Data"
   ]
  },
  {
   "cell_type": "code",
   "execution_count": 8,
   "metadata": {},
   "outputs": [],
   "source": [
    "df = pd.DataFrame(np.random.randn(100,4),columns='A B C D'.split())"
   ]
  },
  {
   "cell_type": "code",
   "execution_count": 9,
   "metadata": {},
   "outputs": [
    {
     "data": {
      "text/html": [
       "<div>\n",
       "<style scoped>\n",
       "    .dataframe tbody tr th:only-of-type {\n",
       "        vertical-align: middle;\n",
       "    }\n",
       "\n",
       "    .dataframe tbody tr th {\n",
       "        vertical-align: top;\n",
       "    }\n",
       "\n",
       "    .dataframe thead th {\n",
       "        text-align: right;\n",
       "    }\n",
       "</style>\n",
       "<table border=\"1\" class=\"dataframe\">\n",
       "  <thead>\n",
       "    <tr style=\"text-align: right;\">\n",
       "      <th></th>\n",
       "      <th>A</th>\n",
       "      <th>B</th>\n",
       "      <th>C</th>\n",
       "      <th>D</th>\n",
       "    </tr>\n",
       "  </thead>\n",
       "  <tbody>\n",
       "    <tr>\n",
       "      <th>0</th>\n",
       "      <td>0.675478</td>\n",
       "      <td>-0.221729</td>\n",
       "      <td>0.078444</td>\n",
       "      <td>1.317617</td>\n",
       "    </tr>\n",
       "    <tr>\n",
       "      <th>1</th>\n",
       "      <td>0.567635</td>\n",
       "      <td>-1.237154</td>\n",
       "      <td>-0.627468</td>\n",
       "      <td>-0.983488</td>\n",
       "    </tr>\n",
       "    <tr>\n",
       "      <th>2</th>\n",
       "      <td>0.132888</td>\n",
       "      <td>0.812320</td>\n",
       "      <td>0.529827</td>\n",
       "      <td>0.641196</td>\n",
       "    </tr>\n",
       "    <tr>\n",
       "      <th>3</th>\n",
       "      <td>1.559806</td>\n",
       "      <td>1.244321</td>\n",
       "      <td>-0.026205</td>\n",
       "      <td>0.669111</td>\n",
       "    </tr>\n",
       "    <tr>\n",
       "      <th>4</th>\n",
       "      <td>0.201559</td>\n",
       "      <td>0.156651</td>\n",
       "      <td>1.379696</td>\n",
       "      <td>0.690981</td>\n",
       "    </tr>\n",
       "  </tbody>\n",
       "</table>\n",
       "</div>"
      ],
      "text/plain": [
       "          A         B         C         D\n",
       "0  0.675478 -0.221729  0.078444  1.317617\n",
       "1  0.567635 -1.237154 -0.627468 -0.983488\n",
       "2  0.132888  0.812320  0.529827  0.641196\n",
       "3  1.559806  1.244321 -0.026205  0.669111\n",
       "4  0.201559  0.156651  1.379696  0.690981"
      ]
     },
     "execution_count": 9,
     "metadata": {},
     "output_type": "execute_result"
    }
   ],
   "source": [
    "df.head()"
   ]
  },
  {
   "cell_type": "code",
   "execution_count": 10,
   "metadata": {},
   "outputs": [],
   "source": [
    "df2 = pd.DataFrame({'Category':['A','B','C'],'Values':[32,43,50]})"
   ]
  },
  {
   "cell_type": "code",
   "execution_count": 11,
   "metadata": {},
   "outputs": [
    {
     "data": {
      "text/html": [
       "<div>\n",
       "<style scoped>\n",
       "    .dataframe tbody tr th:only-of-type {\n",
       "        vertical-align: middle;\n",
       "    }\n",
       "\n",
       "    .dataframe tbody tr th {\n",
       "        vertical-align: top;\n",
       "    }\n",
       "\n",
       "    .dataframe thead th {\n",
       "        text-align: right;\n",
       "    }\n",
       "</style>\n",
       "<table border=\"1\" class=\"dataframe\">\n",
       "  <thead>\n",
       "    <tr style=\"text-align: right;\">\n",
       "      <th></th>\n",
       "      <th>Category</th>\n",
       "      <th>Values</th>\n",
       "    </tr>\n",
       "  </thead>\n",
       "  <tbody>\n",
       "    <tr>\n",
       "      <th>0</th>\n",
       "      <td>A</td>\n",
       "      <td>32</td>\n",
       "    </tr>\n",
       "    <tr>\n",
       "      <th>1</th>\n",
       "      <td>B</td>\n",
       "      <td>43</td>\n",
       "    </tr>\n",
       "    <tr>\n",
       "      <th>2</th>\n",
       "      <td>C</td>\n",
       "      <td>50</td>\n",
       "    </tr>\n",
       "  </tbody>\n",
       "</table>\n",
       "</div>"
      ],
      "text/plain": [
       "  Category  Values\n",
       "0        A      32\n",
       "1        B      43\n",
       "2        C      50"
      ]
     },
     "execution_count": 11,
     "metadata": {},
     "output_type": "execute_result"
    }
   ],
   "source": [
    "df2.head()"
   ]
  },
  {
   "cell_type": "markdown",
   "metadata": {},
   "source": [
    "## Using Cufflinks and iplot()\n",
    "\n",
    "* scatter\n",
    "* bar\n",
    "* box\n",
    "* spread\n",
    "* ratio\n",
    "* heatmap\n",
    "* surface\n",
    "* histogram\n",
    "* bubble"
   ]
  },
  {
   "cell_type": "markdown",
   "metadata": {},
   "source": [
    "## Scatter"
   ]
  },
  {
   "cell_type": "code",
   "execution_count": 12,
   "metadata": {},
   "outputs": [
    {
     "data": {
      "application/vnd.plotly.v1+json": {
       "config": {
        "linkText": "Export to plot.ly",
        "plotlyServerURL": "https://plot.ly",
        "showLink": true
       },
       "data": [
        {
         "line": {
          "color": "rgba(255, 153, 51, 1.0)",
          "dash": "solid",
          "shape": "linear",
          "width": 1.3
         },
         "marker": {
          "size": 10,
          "symbol": "circle"
         },
         "mode": "markers",
         "name": "B",
         "text": "",
         "type": "scatter",
         "x": [
          0.6754782943325655,
          0.5676345968842824,
          0.1328881905375589,
          1.5598060655336465,
          0.20155851821828127,
          -0.1704342005504423,
          1.6382714620922407,
          0.5960123218986514,
          -1.3967502608685103,
          -0.4175266016308763,
          -1.4622195465874601,
          -0.4418238211952053,
          -0.9396201592840361,
          -0.13826138272671448,
          -0.8850161103888932,
          1.8504189241059084,
          -0.5670395261360621,
          -0.4512300334792727,
          -1.3659730557435033,
          -2.2195698637480628,
          0.3537368438916856,
          0.8011510663127747,
          0.9158535282283714,
          -0.10090839994435542,
          0.5197315429475056,
          0.542335737958651,
          -0.5888216723532752,
          -0.6521836708748141,
          -0.3603370324925614,
          -0.9552920009367587,
          -2.2849797147682933,
          0.4519183096797922,
          1.8842896639403863,
          1.1340897786363573,
          0.18372623294508642,
          -1.0237109171539454,
          -1.654003775689415,
          0.32167723924081354,
          1.2199528459728162,
          2.929925287765693,
          -0.8172173302082492,
          -1.6505368253468742,
          0.23446380237601086,
          0.36633509776946094,
          -1.410517557328883,
          -1.0885958183031015,
          1.41325542793449,
          -1.7040848451332873,
          0.03122408759234455,
          -0.32773165815662103,
          0.6662743949672889,
          -1.3245476957372868,
          -0.17648115279437038,
          0.5131658131312273,
          0.6254611583947094,
          -0.9504172530455163,
          -0.38056513766120054,
          -1.610980503470945,
          0.3138510000800175,
          1.2297882444657389,
          2.0612538048066784,
          1.7240572041477948,
          -0.7228253590566479,
          0.94310349502881,
          -2.011162597259447,
          -0.958977057005299,
          1.2929502033458233,
          1.1732776407222958,
          1.0006976463240154,
          0.07796519762881553,
          -0.4987650476806753,
          0.9764184595883123,
          -0.014106945313026645,
          1.5428496733376793,
          -1.091952698664168,
          0.4782947233641637,
          0.2752500905442413,
          -1.970375548198486,
          2.0526149916013905,
          -0.5355825007775484,
          0.7545279930637657,
          0.2863047840180115,
          -1.4025937393898347,
          0.9342278828335764,
          0.5624839596099094,
          1.1447907551414858,
          0.08961360380327707,
          -0.4817073117416022,
          -0.6319061449787831,
          2.343257288835841,
          -0.5589302132661069,
          0.7941564694900235,
          -0.6152341400737853,
          0.8544116644485762,
          0.41297969806072243,
          1.613308547129756,
          -0.19679692672583227,
          -0.2252424721695863,
          -1.101041110660023,
          -1.9043054451684438
         ],
         "y": [
          -0.2217291443388921,
          -1.2371542355520193,
          0.8123200317942653,
          1.2443210913177807,
          0.15665068302727347,
          -0.49601188309501854,
          -1.5674118452306314,
          0.8681936946504126,
          -2.1588947361277944,
          0.004523669014418451,
          0.2224144998784712,
          -1.2047967088202578,
          -0.48311376209050955,
          0.5263364911407737,
          -0.6581025306060428,
          0.5859815825235286,
          1.2843285937087179,
          2.644736009199112,
          0.6686205905210374,
          0.41822294352248607,
          -1.0881429265518046,
          -0.2848994852918314,
          -1.0361040136959085,
          -0.43236691856491044,
          -1.2151060705229921,
          -1.0535802751145777,
          -1.7101393540602814,
          0.13700496725160327,
          -0.03639404936203314,
          -1.167416774354088,
          1.242824173634307,
          0.7555947464871007,
          -0.2358954009781537,
          1.7245172324003295,
          0.011408650486823966,
          1.468500443226724,
          -1.087452184127168,
          0.31587470047464566,
          -0.64965102521893,
          -0.18741629301066062,
          0.8643789608770887,
          0.1374916054046593,
          0.984915590803966,
          -0.5749850827580681,
          -0.31367705412547175,
          0.43808758668803777,
          0.5237444006175169,
          -1.933200354258214,
          0.24285826858388612,
          1.0770527002311396,
          0.8642237475271446,
          -2.8026546155389527,
          -1.269688258045194,
          0.13818859955011006,
          -0.7032899314435153,
          -1.6489195836048638,
          -0.10259177038998696,
          1.4542546939122745,
          -0.5144024244857891,
          -0.16761985394816561,
          0.18057974799115853,
          0.9153792574175322,
          -1.5625254164314404,
          0.7275749276372556,
          -0.8410916716639276,
          1.9702443659279567,
          1.0105656117288755,
          -0.33011431585845263,
          0.05896025014420832,
          -0.6182716108350788,
          -1.9307322255876471,
          -0.423044638561435,
          0.8242161598940201,
          0.7473086068676891,
          -0.06390385057859259,
          1.411752606998454,
          0.9490293076629773,
          0.009991847913236184,
          0.673086587444426,
          -0.12972617508859452,
          -1.4564557150623647,
          0.36259057467603667,
          -1.0036754215214432,
          -0.9933192141036302,
          -0.8830959235342006,
          0.0068193462280179895,
          0.7529614687362064,
          0.4431679290600762,
          0.7558262294932983,
          -1.87289174236139,
          2.6694207476365075,
          -0.03194188108580788,
          -1.1825587513883815,
          -0.6013875741485867,
          0.7019085379263506,
          -0.16891436238867008,
          -1.3841323134554913,
          1.5394640870582705,
          0.8545201128569784,
          0.8007369757347785
         ]
        }
       ],
       "layout": {
        "legend": {
         "bgcolor": "#F5F6F9",
         "font": {
          "color": "#4D5663"
         }
        },
        "paper_bgcolor": "#F5F6F9",
        "plot_bgcolor": "#F5F6F9",
        "template": {
         "data": {
          "bar": [
           {
            "error_x": {
             "color": "#2a3f5f"
            },
            "error_y": {
             "color": "#2a3f5f"
            },
            "marker": {
             "line": {
              "color": "#E5ECF6",
              "width": 0.5
             },
             "pattern": {
              "fillmode": "overlay",
              "size": 10,
              "solidity": 0.2
             }
            },
            "type": "bar"
           }
          ],
          "barpolar": [
           {
            "marker": {
             "line": {
              "color": "#E5ECF6",
              "width": 0.5
             },
             "pattern": {
              "fillmode": "overlay",
              "size": 10,
              "solidity": 0.2
             }
            },
            "type": "barpolar"
           }
          ],
          "carpet": [
           {
            "aaxis": {
             "endlinecolor": "#2a3f5f",
             "gridcolor": "white",
             "linecolor": "white",
             "minorgridcolor": "white",
             "startlinecolor": "#2a3f5f"
            },
            "baxis": {
             "endlinecolor": "#2a3f5f",
             "gridcolor": "white",
             "linecolor": "white",
             "minorgridcolor": "white",
             "startlinecolor": "#2a3f5f"
            },
            "type": "carpet"
           }
          ],
          "choropleth": [
           {
            "colorbar": {
             "outlinewidth": 0,
             "ticks": ""
            },
            "type": "choropleth"
           }
          ],
          "contour": [
           {
            "colorbar": {
             "outlinewidth": 0,
             "ticks": ""
            },
            "colorscale": [
             [
              0,
              "#0d0887"
             ],
             [
              0.1111111111111111,
              "#46039f"
             ],
             [
              0.2222222222222222,
              "#7201a8"
             ],
             [
              0.3333333333333333,
              "#9c179e"
             ],
             [
              0.4444444444444444,
              "#bd3786"
             ],
             [
              0.5555555555555556,
              "#d8576b"
             ],
             [
              0.6666666666666666,
              "#ed7953"
             ],
             [
              0.7777777777777778,
              "#fb9f3a"
             ],
             [
              0.8888888888888888,
              "#fdca26"
             ],
             [
              1,
              "#f0f921"
             ]
            ],
            "type": "contour"
           }
          ],
          "contourcarpet": [
           {
            "colorbar": {
             "outlinewidth": 0,
             "ticks": ""
            },
            "type": "contourcarpet"
           }
          ],
          "heatmap": [
           {
            "colorbar": {
             "outlinewidth": 0,
             "ticks": ""
            },
            "colorscale": [
             [
              0,
              "#0d0887"
             ],
             [
              0.1111111111111111,
              "#46039f"
             ],
             [
              0.2222222222222222,
              "#7201a8"
             ],
             [
              0.3333333333333333,
              "#9c179e"
             ],
             [
              0.4444444444444444,
              "#bd3786"
             ],
             [
              0.5555555555555556,
              "#d8576b"
             ],
             [
              0.6666666666666666,
              "#ed7953"
             ],
             [
              0.7777777777777778,
              "#fb9f3a"
             ],
             [
              0.8888888888888888,
              "#fdca26"
             ],
             [
              1,
              "#f0f921"
             ]
            ],
            "type": "heatmap"
           }
          ],
          "heatmapgl": [
           {
            "colorbar": {
             "outlinewidth": 0,
             "ticks": ""
            },
            "colorscale": [
             [
              0,
              "#0d0887"
             ],
             [
              0.1111111111111111,
              "#46039f"
             ],
             [
              0.2222222222222222,
              "#7201a8"
             ],
             [
              0.3333333333333333,
              "#9c179e"
             ],
             [
              0.4444444444444444,
              "#bd3786"
             ],
             [
              0.5555555555555556,
              "#d8576b"
             ],
             [
              0.6666666666666666,
              "#ed7953"
             ],
             [
              0.7777777777777778,
              "#fb9f3a"
             ],
             [
              0.8888888888888888,
              "#fdca26"
             ],
             [
              1,
              "#f0f921"
             ]
            ],
            "type": "heatmapgl"
           }
          ],
          "histogram": [
           {
            "marker": {
             "pattern": {
              "fillmode": "overlay",
              "size": 10,
              "solidity": 0.2
             }
            },
            "type": "histogram"
           }
          ],
          "histogram2d": [
           {
            "colorbar": {
             "outlinewidth": 0,
             "ticks": ""
            },
            "colorscale": [
             [
              0,
              "#0d0887"
             ],
             [
              0.1111111111111111,
              "#46039f"
             ],
             [
              0.2222222222222222,
              "#7201a8"
             ],
             [
              0.3333333333333333,
              "#9c179e"
             ],
             [
              0.4444444444444444,
              "#bd3786"
             ],
             [
              0.5555555555555556,
              "#d8576b"
             ],
             [
              0.6666666666666666,
              "#ed7953"
             ],
             [
              0.7777777777777778,
              "#fb9f3a"
             ],
             [
              0.8888888888888888,
              "#fdca26"
             ],
             [
              1,
              "#f0f921"
             ]
            ],
            "type": "histogram2d"
           }
          ],
          "histogram2dcontour": [
           {
            "colorbar": {
             "outlinewidth": 0,
             "ticks": ""
            },
            "colorscale": [
             [
              0,
              "#0d0887"
             ],
             [
              0.1111111111111111,
              "#46039f"
             ],
             [
              0.2222222222222222,
              "#7201a8"
             ],
             [
              0.3333333333333333,
              "#9c179e"
             ],
             [
              0.4444444444444444,
              "#bd3786"
             ],
             [
              0.5555555555555556,
              "#d8576b"
             ],
             [
              0.6666666666666666,
              "#ed7953"
             ],
             [
              0.7777777777777778,
              "#fb9f3a"
             ],
             [
              0.8888888888888888,
              "#fdca26"
             ],
             [
              1,
              "#f0f921"
             ]
            ],
            "type": "histogram2dcontour"
           }
          ],
          "mesh3d": [
           {
            "colorbar": {
             "outlinewidth": 0,
             "ticks": ""
            },
            "type": "mesh3d"
           }
          ],
          "parcoords": [
           {
            "line": {
             "colorbar": {
              "outlinewidth": 0,
              "ticks": ""
             }
            },
            "type": "parcoords"
           }
          ],
          "pie": [
           {
            "automargin": true,
            "type": "pie"
           }
          ],
          "scatter": [
           {
            "marker": {
             "colorbar": {
              "outlinewidth": 0,
              "ticks": ""
             }
            },
            "type": "scatter"
           }
          ],
          "scatter3d": [
           {
            "line": {
             "colorbar": {
              "outlinewidth": 0,
              "ticks": ""
             }
            },
            "marker": {
             "colorbar": {
              "outlinewidth": 0,
              "ticks": ""
             }
            },
            "type": "scatter3d"
           }
          ],
          "scattercarpet": [
           {
            "marker": {
             "colorbar": {
              "outlinewidth": 0,
              "ticks": ""
             }
            },
            "type": "scattercarpet"
           }
          ],
          "scattergeo": [
           {
            "marker": {
             "colorbar": {
              "outlinewidth": 0,
              "ticks": ""
             }
            },
            "type": "scattergeo"
           }
          ],
          "scattergl": [
           {
            "marker": {
             "colorbar": {
              "outlinewidth": 0,
              "ticks": ""
             }
            },
            "type": "scattergl"
           }
          ],
          "scattermapbox": [
           {
            "marker": {
             "colorbar": {
              "outlinewidth": 0,
              "ticks": ""
             }
            },
            "type": "scattermapbox"
           }
          ],
          "scatterpolar": [
           {
            "marker": {
             "colorbar": {
              "outlinewidth": 0,
              "ticks": ""
             }
            },
            "type": "scatterpolar"
           }
          ],
          "scatterpolargl": [
           {
            "marker": {
             "colorbar": {
              "outlinewidth": 0,
              "ticks": ""
             }
            },
            "type": "scatterpolargl"
           }
          ],
          "scatterternary": [
           {
            "marker": {
             "colorbar": {
              "outlinewidth": 0,
              "ticks": ""
             }
            },
            "type": "scatterternary"
           }
          ],
          "surface": [
           {
            "colorbar": {
             "outlinewidth": 0,
             "ticks": ""
            },
            "colorscale": [
             [
              0,
              "#0d0887"
             ],
             [
              0.1111111111111111,
              "#46039f"
             ],
             [
              0.2222222222222222,
              "#7201a8"
             ],
             [
              0.3333333333333333,
              "#9c179e"
             ],
             [
              0.4444444444444444,
              "#bd3786"
             ],
             [
              0.5555555555555556,
              "#d8576b"
             ],
             [
              0.6666666666666666,
              "#ed7953"
             ],
             [
              0.7777777777777778,
              "#fb9f3a"
             ],
             [
              0.8888888888888888,
              "#fdca26"
             ],
             [
              1,
              "#f0f921"
             ]
            ],
            "type": "surface"
           }
          ],
          "table": [
           {
            "cells": {
             "fill": {
              "color": "#EBF0F8"
             },
             "line": {
              "color": "white"
             }
            },
            "header": {
             "fill": {
              "color": "#C8D4E3"
             },
             "line": {
              "color": "white"
             }
            },
            "type": "table"
           }
          ]
         },
         "layout": {
          "annotationdefaults": {
           "arrowcolor": "#2a3f5f",
           "arrowhead": 0,
           "arrowwidth": 1
          },
          "autotypenumbers": "strict",
          "coloraxis": {
           "colorbar": {
            "outlinewidth": 0,
            "ticks": ""
           }
          },
          "colorscale": {
           "diverging": [
            [
             0,
             "#8e0152"
            ],
            [
             0.1,
             "#c51b7d"
            ],
            [
             0.2,
             "#de77ae"
            ],
            [
             0.3,
             "#f1b6da"
            ],
            [
             0.4,
             "#fde0ef"
            ],
            [
             0.5,
             "#f7f7f7"
            ],
            [
             0.6,
             "#e6f5d0"
            ],
            [
             0.7,
             "#b8e186"
            ],
            [
             0.8,
             "#7fbc41"
            ],
            [
             0.9,
             "#4d9221"
            ],
            [
             1,
             "#276419"
            ]
           ],
           "sequential": [
            [
             0,
             "#0d0887"
            ],
            [
             0.1111111111111111,
             "#46039f"
            ],
            [
             0.2222222222222222,
             "#7201a8"
            ],
            [
             0.3333333333333333,
             "#9c179e"
            ],
            [
             0.4444444444444444,
             "#bd3786"
            ],
            [
             0.5555555555555556,
             "#d8576b"
            ],
            [
             0.6666666666666666,
             "#ed7953"
            ],
            [
             0.7777777777777778,
             "#fb9f3a"
            ],
            [
             0.8888888888888888,
             "#fdca26"
            ],
            [
             1,
             "#f0f921"
            ]
           ],
           "sequentialminus": [
            [
             0,
             "#0d0887"
            ],
            [
             0.1111111111111111,
             "#46039f"
            ],
            [
             0.2222222222222222,
             "#7201a8"
            ],
            [
             0.3333333333333333,
             "#9c179e"
            ],
            [
             0.4444444444444444,
             "#bd3786"
            ],
            [
             0.5555555555555556,
             "#d8576b"
            ],
            [
             0.6666666666666666,
             "#ed7953"
            ],
            [
             0.7777777777777778,
             "#fb9f3a"
            ],
            [
             0.8888888888888888,
             "#fdca26"
            ],
            [
             1,
             "#f0f921"
            ]
           ]
          },
          "colorway": [
           "#636efa",
           "#EF553B",
           "#00cc96",
           "#ab63fa",
           "#FFA15A",
           "#19d3f3",
           "#FF6692",
           "#B6E880",
           "#FF97FF",
           "#FECB52"
          ],
          "font": {
           "color": "#2a3f5f"
          },
          "geo": {
           "bgcolor": "white",
           "lakecolor": "white",
           "landcolor": "#E5ECF6",
           "showlakes": true,
           "showland": true,
           "subunitcolor": "white"
          },
          "hoverlabel": {
           "align": "left"
          },
          "hovermode": "closest",
          "mapbox": {
           "style": "light"
          },
          "paper_bgcolor": "white",
          "plot_bgcolor": "#E5ECF6",
          "polar": {
           "angularaxis": {
            "gridcolor": "white",
            "linecolor": "white",
            "ticks": ""
           },
           "bgcolor": "#E5ECF6",
           "radialaxis": {
            "gridcolor": "white",
            "linecolor": "white",
            "ticks": ""
           }
          },
          "scene": {
           "xaxis": {
            "backgroundcolor": "#E5ECF6",
            "gridcolor": "white",
            "gridwidth": 2,
            "linecolor": "white",
            "showbackground": true,
            "ticks": "",
            "zerolinecolor": "white"
           },
           "yaxis": {
            "backgroundcolor": "#E5ECF6",
            "gridcolor": "white",
            "gridwidth": 2,
            "linecolor": "white",
            "showbackground": true,
            "ticks": "",
            "zerolinecolor": "white"
           },
           "zaxis": {
            "backgroundcolor": "#E5ECF6",
            "gridcolor": "white",
            "gridwidth": 2,
            "linecolor": "white",
            "showbackground": true,
            "ticks": "",
            "zerolinecolor": "white"
           }
          },
          "shapedefaults": {
           "line": {
            "color": "#2a3f5f"
           }
          },
          "ternary": {
           "aaxis": {
            "gridcolor": "white",
            "linecolor": "white",
            "ticks": ""
           },
           "baxis": {
            "gridcolor": "white",
            "linecolor": "white",
            "ticks": ""
           },
           "bgcolor": "#E5ECF6",
           "caxis": {
            "gridcolor": "white",
            "linecolor": "white",
            "ticks": ""
           }
          },
          "title": {
           "x": 0.05
          },
          "xaxis": {
           "automargin": true,
           "gridcolor": "white",
           "linecolor": "white",
           "ticks": "",
           "title": {
            "standoff": 15
           },
           "zerolinecolor": "white",
           "zerolinewidth": 2
          },
          "yaxis": {
           "automargin": true,
           "gridcolor": "white",
           "linecolor": "white",
           "ticks": "",
           "title": {
            "standoff": 15
           },
           "zerolinecolor": "white",
           "zerolinewidth": 2
          }
         }
        },
        "title": {
         "font": {
          "color": "#4D5663"
         }
        },
        "xaxis": {
         "gridcolor": "#E1E5ED",
         "showgrid": true,
         "tickfont": {
          "color": "#4D5663"
         },
         "title": {
          "font": {
           "color": "#4D5663"
          },
          "text": ""
         },
         "zerolinecolor": "#E1E5ED"
        },
        "yaxis": {
         "gridcolor": "#E1E5ED",
         "showgrid": true,
         "tickfont": {
          "color": "#4D5663"
         },
         "title": {
          "font": {
           "color": "#4D5663"
          },
          "text": ""
         },
         "zerolinecolor": "#E1E5ED"
        }
       }
      },
      "text/html": [
       "<div>                            <div id=\"0a8f5c75-c9bf-420a-895c-0871a60f8dd1\" class=\"plotly-graph-div\" style=\"height:525px; width:100%;\"></div>            <script type=\"text/javascript\">                require([\"plotly\"], function(Plotly) {                    window.PLOTLYENV=window.PLOTLYENV || {};\n",
       "                    window.PLOTLYENV.BASE_URL='https://plot.ly';                                    if (document.getElementById(\"0a8f5c75-c9bf-420a-895c-0871a60f8dd1\")) {                    Plotly.newPlot(                        \"0a8f5c75-c9bf-420a-895c-0871a60f8dd1\",                        [{\"line\":{\"color\":\"rgba(255, 153, 51, 1.0)\",\"dash\":\"solid\",\"shape\":\"linear\",\"width\":1.3},\"marker\":{\"size\":10,\"symbol\":\"circle\"},\"mode\":\"markers\",\"name\":\"B\",\"text\":\"\",\"type\":\"scatter\",\"x\":[0.6754782943325655,0.5676345968842824,0.1328881905375589,1.5598060655336465,0.20155851821828127,-0.1704342005504423,1.6382714620922407,0.5960123218986514,-1.3967502608685103,-0.4175266016308763,-1.4622195465874601,-0.4418238211952053,-0.9396201592840361,-0.13826138272671448,-0.8850161103888932,1.8504189241059084,-0.5670395261360621,-0.4512300334792727,-1.3659730557435033,-2.2195698637480628,0.3537368438916856,0.8011510663127747,0.9158535282283714,-0.10090839994435542,0.5197315429475056,0.542335737958651,-0.5888216723532752,-0.6521836708748141,-0.3603370324925614,-0.9552920009367587,-2.2849797147682933,0.4519183096797922,1.8842896639403863,1.1340897786363573,0.18372623294508642,-1.0237109171539454,-1.654003775689415,0.32167723924081354,1.2199528459728162,2.929925287765693,-0.8172173302082492,-1.6505368253468742,0.23446380237601086,0.36633509776946094,-1.410517557328883,-1.0885958183031015,1.41325542793449,-1.7040848451332873,0.03122408759234455,-0.32773165815662103,0.6662743949672889,-1.3245476957372868,-0.17648115279437038,0.5131658131312273,0.6254611583947094,-0.9504172530455163,-0.38056513766120054,-1.610980503470945,0.3138510000800175,1.2297882444657389,2.0612538048066784,1.7240572041477948,-0.7228253590566479,0.94310349502881,-2.011162597259447,-0.958977057005299,1.2929502033458233,1.1732776407222958,1.0006976463240154,0.07796519762881553,-0.4987650476806753,0.9764184595883123,-0.014106945313026645,1.5428496733376793,-1.091952698664168,0.4782947233641637,0.2752500905442413,-1.970375548198486,2.0526149916013905,-0.5355825007775484,0.7545279930637657,0.2863047840180115,-1.4025937393898347,0.9342278828335764,0.5624839596099094,1.1447907551414858,0.08961360380327707,-0.4817073117416022,-0.6319061449787831,2.343257288835841,-0.5589302132661069,0.7941564694900235,-0.6152341400737853,0.8544116644485762,0.41297969806072243,1.613308547129756,-0.19679692672583227,-0.2252424721695863,-1.101041110660023,-1.9043054451684438],\"y\":[-0.2217291443388921,-1.2371542355520193,0.8123200317942653,1.2443210913177807,0.15665068302727347,-0.49601188309501854,-1.5674118452306314,0.8681936946504126,-2.1588947361277944,0.004523669014418451,0.2224144998784712,-1.2047967088202578,-0.48311376209050955,0.5263364911407737,-0.6581025306060428,0.5859815825235286,1.2843285937087179,2.644736009199112,0.6686205905210374,0.41822294352248607,-1.0881429265518046,-0.2848994852918314,-1.0361040136959085,-0.43236691856491044,-1.2151060705229921,-1.0535802751145777,-1.7101393540602814,0.13700496725160327,-0.03639404936203314,-1.167416774354088,1.242824173634307,0.7555947464871007,-0.2358954009781537,1.7245172324003295,0.011408650486823966,1.468500443226724,-1.087452184127168,0.31587470047464566,-0.64965102521893,-0.18741629301066062,0.8643789608770887,0.1374916054046593,0.984915590803966,-0.5749850827580681,-0.31367705412547175,0.43808758668803777,0.5237444006175169,-1.933200354258214,0.24285826858388612,1.0770527002311396,0.8642237475271446,-2.8026546155389527,-1.269688258045194,0.13818859955011006,-0.7032899314435153,-1.6489195836048638,-0.10259177038998696,1.4542546939122745,-0.5144024244857891,-0.16761985394816561,0.18057974799115853,0.9153792574175322,-1.5625254164314404,0.7275749276372556,-0.8410916716639276,1.9702443659279567,1.0105656117288755,-0.33011431585845263,0.05896025014420832,-0.6182716108350788,-1.9307322255876471,-0.423044638561435,0.8242161598940201,0.7473086068676891,-0.06390385057859259,1.411752606998454,0.9490293076629773,0.009991847913236184,0.673086587444426,-0.12972617508859452,-1.4564557150623647,0.36259057467603667,-1.0036754215214432,-0.9933192141036302,-0.8830959235342006,0.0068193462280179895,0.7529614687362064,0.4431679290600762,0.7558262294932983,-1.87289174236139,2.6694207476365075,-0.03194188108580788,-1.1825587513883815,-0.6013875741485867,0.7019085379263506,-0.16891436238867008,-1.3841323134554913,1.5394640870582705,0.8545201128569784,0.8007369757347785]}],                        {\"legend\":{\"bgcolor\":\"#F5F6F9\",\"font\":{\"color\":\"#4D5663\"}},\"paper_bgcolor\":\"#F5F6F9\",\"plot_bgcolor\":\"#F5F6F9\",\"template\":{\"data\":{\"bar\":[{\"error_x\":{\"color\":\"#2a3f5f\"},\"error_y\":{\"color\":\"#2a3f5f\"},\"marker\":{\"line\":{\"color\":\"#E5ECF6\",\"width\":0.5},\"pattern\":{\"fillmode\":\"overlay\",\"size\":10,\"solidity\":0.2}},\"type\":\"bar\"}],\"barpolar\":[{\"marker\":{\"line\":{\"color\":\"#E5ECF6\",\"width\":0.5},\"pattern\":{\"fillmode\":\"overlay\",\"size\":10,\"solidity\":0.2}},\"type\":\"barpolar\"}],\"carpet\":[{\"aaxis\":{\"endlinecolor\":\"#2a3f5f\",\"gridcolor\":\"white\",\"linecolor\":\"white\",\"minorgridcolor\":\"white\",\"startlinecolor\":\"#2a3f5f\"},\"baxis\":{\"endlinecolor\":\"#2a3f5f\",\"gridcolor\":\"white\",\"linecolor\":\"white\",\"minorgridcolor\":\"white\",\"startlinecolor\":\"#2a3f5f\"},\"type\":\"carpet\"}],\"choropleth\":[{\"colorbar\":{\"outlinewidth\":0,\"ticks\":\"\"},\"type\":\"choropleth\"}],\"contour\":[{\"colorbar\":{\"outlinewidth\":0,\"ticks\":\"\"},\"colorscale\":[[0.0,\"#0d0887\"],[0.1111111111111111,\"#46039f\"],[0.2222222222222222,\"#7201a8\"],[0.3333333333333333,\"#9c179e\"],[0.4444444444444444,\"#bd3786\"],[0.5555555555555556,\"#d8576b\"],[0.6666666666666666,\"#ed7953\"],[0.7777777777777778,\"#fb9f3a\"],[0.8888888888888888,\"#fdca26\"],[1.0,\"#f0f921\"]],\"type\":\"contour\"}],\"contourcarpet\":[{\"colorbar\":{\"outlinewidth\":0,\"ticks\":\"\"},\"type\":\"contourcarpet\"}],\"heatmap\":[{\"colorbar\":{\"outlinewidth\":0,\"ticks\":\"\"},\"colorscale\":[[0.0,\"#0d0887\"],[0.1111111111111111,\"#46039f\"],[0.2222222222222222,\"#7201a8\"],[0.3333333333333333,\"#9c179e\"],[0.4444444444444444,\"#bd3786\"],[0.5555555555555556,\"#d8576b\"],[0.6666666666666666,\"#ed7953\"],[0.7777777777777778,\"#fb9f3a\"],[0.8888888888888888,\"#fdca26\"],[1.0,\"#f0f921\"]],\"type\":\"heatmap\"}],\"heatmapgl\":[{\"colorbar\":{\"outlinewidth\":0,\"ticks\":\"\"},\"colorscale\":[[0.0,\"#0d0887\"],[0.1111111111111111,\"#46039f\"],[0.2222222222222222,\"#7201a8\"],[0.3333333333333333,\"#9c179e\"],[0.4444444444444444,\"#bd3786\"],[0.5555555555555556,\"#d8576b\"],[0.6666666666666666,\"#ed7953\"],[0.7777777777777778,\"#fb9f3a\"],[0.8888888888888888,\"#fdca26\"],[1.0,\"#f0f921\"]],\"type\":\"heatmapgl\"}],\"histogram\":[{\"marker\":{\"pattern\":{\"fillmode\":\"overlay\",\"size\":10,\"solidity\":0.2}},\"type\":\"histogram\"}],\"histogram2d\":[{\"colorbar\":{\"outlinewidth\":0,\"ticks\":\"\"},\"colorscale\":[[0.0,\"#0d0887\"],[0.1111111111111111,\"#46039f\"],[0.2222222222222222,\"#7201a8\"],[0.3333333333333333,\"#9c179e\"],[0.4444444444444444,\"#bd3786\"],[0.5555555555555556,\"#d8576b\"],[0.6666666666666666,\"#ed7953\"],[0.7777777777777778,\"#fb9f3a\"],[0.8888888888888888,\"#fdca26\"],[1.0,\"#f0f921\"]],\"type\":\"histogram2d\"}],\"histogram2dcontour\":[{\"colorbar\":{\"outlinewidth\":0,\"ticks\":\"\"},\"colorscale\":[[0.0,\"#0d0887\"],[0.1111111111111111,\"#46039f\"],[0.2222222222222222,\"#7201a8\"],[0.3333333333333333,\"#9c179e\"],[0.4444444444444444,\"#bd3786\"],[0.5555555555555556,\"#d8576b\"],[0.6666666666666666,\"#ed7953\"],[0.7777777777777778,\"#fb9f3a\"],[0.8888888888888888,\"#fdca26\"],[1.0,\"#f0f921\"]],\"type\":\"histogram2dcontour\"}],\"mesh3d\":[{\"colorbar\":{\"outlinewidth\":0,\"ticks\":\"\"},\"type\":\"mesh3d\"}],\"parcoords\":[{\"line\":{\"colorbar\":{\"outlinewidth\":0,\"ticks\":\"\"}},\"type\":\"parcoords\"}],\"pie\":[{\"automargin\":true,\"type\":\"pie\"}],\"scatter\":[{\"marker\":{\"colorbar\":{\"outlinewidth\":0,\"ticks\":\"\"}},\"type\":\"scatter\"}],\"scatter3d\":[{\"line\":{\"colorbar\":{\"outlinewidth\":0,\"ticks\":\"\"}},\"marker\":{\"colorbar\":{\"outlinewidth\":0,\"ticks\":\"\"}},\"type\":\"scatter3d\"}],\"scattercarpet\":[{\"marker\":{\"colorbar\":{\"outlinewidth\":0,\"ticks\":\"\"}},\"type\":\"scattercarpet\"}],\"scattergeo\":[{\"marker\":{\"colorbar\":{\"outlinewidth\":0,\"ticks\":\"\"}},\"type\":\"scattergeo\"}],\"scattergl\":[{\"marker\":{\"colorbar\":{\"outlinewidth\":0,\"ticks\":\"\"}},\"type\":\"scattergl\"}],\"scattermapbox\":[{\"marker\":{\"colorbar\":{\"outlinewidth\":0,\"ticks\":\"\"}},\"type\":\"scattermapbox\"}],\"scatterpolar\":[{\"marker\":{\"colorbar\":{\"outlinewidth\":0,\"ticks\":\"\"}},\"type\":\"scatterpolar\"}],\"scatterpolargl\":[{\"marker\":{\"colorbar\":{\"outlinewidth\":0,\"ticks\":\"\"}},\"type\":\"scatterpolargl\"}],\"scatterternary\":[{\"marker\":{\"colorbar\":{\"outlinewidth\":0,\"ticks\":\"\"}},\"type\":\"scatterternary\"}],\"surface\":[{\"colorbar\":{\"outlinewidth\":0,\"ticks\":\"\"},\"colorscale\":[[0.0,\"#0d0887\"],[0.1111111111111111,\"#46039f\"],[0.2222222222222222,\"#7201a8\"],[0.3333333333333333,\"#9c179e\"],[0.4444444444444444,\"#bd3786\"],[0.5555555555555556,\"#d8576b\"],[0.6666666666666666,\"#ed7953\"],[0.7777777777777778,\"#fb9f3a\"],[0.8888888888888888,\"#fdca26\"],[1.0,\"#f0f921\"]],\"type\":\"surface\"}],\"table\":[{\"cells\":{\"fill\":{\"color\":\"#EBF0F8\"},\"line\":{\"color\":\"white\"}},\"header\":{\"fill\":{\"color\":\"#C8D4E3\"},\"line\":{\"color\":\"white\"}},\"type\":\"table\"}]},\"layout\":{\"annotationdefaults\":{\"arrowcolor\":\"#2a3f5f\",\"arrowhead\":0,\"arrowwidth\":1},\"autotypenumbers\":\"strict\",\"coloraxis\":{\"colorbar\":{\"outlinewidth\":0,\"ticks\":\"\"}},\"colorscale\":{\"diverging\":[[0,\"#8e0152\"],[0.1,\"#c51b7d\"],[0.2,\"#de77ae\"],[0.3,\"#f1b6da\"],[0.4,\"#fde0ef\"],[0.5,\"#f7f7f7\"],[0.6,\"#e6f5d0\"],[0.7,\"#b8e186\"],[0.8,\"#7fbc41\"],[0.9,\"#4d9221\"],[1,\"#276419\"]],\"sequential\":[[0.0,\"#0d0887\"],[0.1111111111111111,\"#46039f\"],[0.2222222222222222,\"#7201a8\"],[0.3333333333333333,\"#9c179e\"],[0.4444444444444444,\"#bd3786\"],[0.5555555555555556,\"#d8576b\"],[0.6666666666666666,\"#ed7953\"],[0.7777777777777778,\"#fb9f3a\"],[0.8888888888888888,\"#fdca26\"],[1.0,\"#f0f921\"]],\"sequentialminus\":[[0.0,\"#0d0887\"],[0.1111111111111111,\"#46039f\"],[0.2222222222222222,\"#7201a8\"],[0.3333333333333333,\"#9c179e\"],[0.4444444444444444,\"#bd3786\"],[0.5555555555555556,\"#d8576b\"],[0.6666666666666666,\"#ed7953\"],[0.7777777777777778,\"#fb9f3a\"],[0.8888888888888888,\"#fdca26\"],[1.0,\"#f0f921\"]]},\"colorway\":[\"#636efa\",\"#EF553B\",\"#00cc96\",\"#ab63fa\",\"#FFA15A\",\"#19d3f3\",\"#FF6692\",\"#B6E880\",\"#FF97FF\",\"#FECB52\"],\"font\":{\"color\":\"#2a3f5f\"},\"geo\":{\"bgcolor\":\"white\",\"lakecolor\":\"white\",\"landcolor\":\"#E5ECF6\",\"showlakes\":true,\"showland\":true,\"subunitcolor\":\"white\"},\"hoverlabel\":{\"align\":\"left\"},\"hovermode\":\"closest\",\"mapbox\":{\"style\":\"light\"},\"paper_bgcolor\":\"white\",\"plot_bgcolor\":\"#E5ECF6\",\"polar\":{\"angularaxis\":{\"gridcolor\":\"white\",\"linecolor\":\"white\",\"ticks\":\"\"},\"bgcolor\":\"#E5ECF6\",\"radialaxis\":{\"gridcolor\":\"white\",\"linecolor\":\"white\",\"ticks\":\"\"}},\"scene\":{\"xaxis\":{\"backgroundcolor\":\"#E5ECF6\",\"gridcolor\":\"white\",\"gridwidth\":2,\"linecolor\":\"white\",\"showbackground\":true,\"ticks\":\"\",\"zerolinecolor\":\"white\"},\"yaxis\":{\"backgroundcolor\":\"#E5ECF6\",\"gridcolor\":\"white\",\"gridwidth\":2,\"linecolor\":\"white\",\"showbackground\":true,\"ticks\":\"\",\"zerolinecolor\":\"white\"},\"zaxis\":{\"backgroundcolor\":\"#E5ECF6\",\"gridcolor\":\"white\",\"gridwidth\":2,\"linecolor\":\"white\",\"showbackground\":true,\"ticks\":\"\",\"zerolinecolor\":\"white\"}},\"shapedefaults\":{\"line\":{\"color\":\"#2a3f5f\"}},\"ternary\":{\"aaxis\":{\"gridcolor\":\"white\",\"linecolor\":\"white\",\"ticks\":\"\"},\"baxis\":{\"gridcolor\":\"white\",\"linecolor\":\"white\",\"ticks\":\"\"},\"bgcolor\":\"#E5ECF6\",\"caxis\":{\"gridcolor\":\"white\",\"linecolor\":\"white\",\"ticks\":\"\"}},\"title\":{\"x\":0.05},\"xaxis\":{\"automargin\":true,\"gridcolor\":\"white\",\"linecolor\":\"white\",\"ticks\":\"\",\"title\":{\"standoff\":15},\"zerolinecolor\":\"white\",\"zerolinewidth\":2},\"yaxis\":{\"automargin\":true,\"gridcolor\":\"white\",\"linecolor\":\"white\",\"ticks\":\"\",\"title\":{\"standoff\":15},\"zerolinecolor\":\"white\",\"zerolinewidth\":2}}},\"title\":{\"font\":{\"color\":\"#4D5663\"}},\"xaxis\":{\"gridcolor\":\"#E1E5ED\",\"showgrid\":true,\"tickfont\":{\"color\":\"#4D5663\"},\"title\":{\"font\":{\"color\":\"#4D5663\"},\"text\":\"\"},\"zerolinecolor\":\"#E1E5ED\"},\"yaxis\":{\"gridcolor\":\"#E1E5ED\",\"showgrid\":true,\"tickfont\":{\"color\":\"#4D5663\"},\"title\":{\"font\":{\"color\":\"#4D5663\"},\"text\":\"\"},\"zerolinecolor\":\"#E1E5ED\"}},                        {\"showLink\": true, \"linkText\": \"Export to plot.ly\", \"plotlyServerURL\": \"https://plot.ly\", \"responsive\": true}                    ).then(function(){\n",
       "                            \n",
       "var gd = document.getElementById('0a8f5c75-c9bf-420a-895c-0871a60f8dd1');\n",
       "var x = new MutationObserver(function (mutations, observer) {{\n",
       "        var display = window.getComputedStyle(gd).display;\n",
       "        if (!display || display === 'none') {{\n",
       "            console.log([gd, 'removed!']);\n",
       "            Plotly.purge(gd);\n",
       "            observer.disconnect();\n",
       "        }}\n",
       "}});\n",
       "\n",
       "// Listen for the removal of the full notebook cells\n",
       "var notebookContainer = gd.closest('#notebook-container');\n",
       "if (notebookContainer) {{\n",
       "    x.observe(notebookContainer, {childList: true});\n",
       "}}\n",
       "\n",
       "// Listen for the clearing of the current output cell\n",
       "var outputEl = gd.closest('.output');\n",
       "if (outputEl) {{\n",
       "    x.observe(outputEl, {childList: true});\n",
       "}}\n",
       "\n",
       "                        })                };                });            </script>        </div>"
      ]
     },
     "metadata": {},
     "output_type": "display_data"
    }
   ],
   "source": [
    "df.iplot(kind='scatter',x='A',y='B',mode='markers',size=10)"
   ]
  },
  {
   "cell_type": "markdown",
   "metadata": {},
   "source": [
    "## Bar Plots"
   ]
  },
  {
   "cell_type": "code",
   "execution_count": 13,
   "metadata": {},
   "outputs": [
    {
     "data": {
      "application/vnd.plotly.v1+json": {
       "config": {
        "linkText": "Export to plot.ly",
        "plotlyServerURL": "https://plot.ly",
        "showLink": true
       },
       "data": [
        {
         "marker": {
          "color": "rgba(255, 153, 51, 0.6)",
          "line": {
           "color": "rgba(255, 153, 51, 1.0)",
           "width": 1
          }
         },
         "name": "Values",
         "orientation": "v",
         "text": "",
         "type": "bar",
         "x": [
          "A",
          "B",
          "C"
         ],
         "y": [
          32,
          43,
          50
         ]
        }
       ],
       "layout": {
        "legend": {
         "bgcolor": "#F5F6F9",
         "font": {
          "color": "#4D5663"
         }
        },
        "paper_bgcolor": "#F5F6F9",
        "plot_bgcolor": "#F5F6F9",
        "template": {
         "data": {
          "bar": [
           {
            "error_x": {
             "color": "#2a3f5f"
            },
            "error_y": {
             "color": "#2a3f5f"
            },
            "marker": {
             "line": {
              "color": "#E5ECF6",
              "width": 0.5
             },
             "pattern": {
              "fillmode": "overlay",
              "size": 10,
              "solidity": 0.2
             }
            },
            "type": "bar"
           }
          ],
          "barpolar": [
           {
            "marker": {
             "line": {
              "color": "#E5ECF6",
              "width": 0.5
             },
             "pattern": {
              "fillmode": "overlay",
              "size": 10,
              "solidity": 0.2
             }
            },
            "type": "barpolar"
           }
          ],
          "carpet": [
           {
            "aaxis": {
             "endlinecolor": "#2a3f5f",
             "gridcolor": "white",
             "linecolor": "white",
             "minorgridcolor": "white",
             "startlinecolor": "#2a3f5f"
            },
            "baxis": {
             "endlinecolor": "#2a3f5f",
             "gridcolor": "white",
             "linecolor": "white",
             "minorgridcolor": "white",
             "startlinecolor": "#2a3f5f"
            },
            "type": "carpet"
           }
          ],
          "choropleth": [
           {
            "colorbar": {
             "outlinewidth": 0,
             "ticks": ""
            },
            "type": "choropleth"
           }
          ],
          "contour": [
           {
            "colorbar": {
             "outlinewidth": 0,
             "ticks": ""
            },
            "colorscale": [
             [
              0,
              "#0d0887"
             ],
             [
              0.1111111111111111,
              "#46039f"
             ],
             [
              0.2222222222222222,
              "#7201a8"
             ],
             [
              0.3333333333333333,
              "#9c179e"
             ],
             [
              0.4444444444444444,
              "#bd3786"
             ],
             [
              0.5555555555555556,
              "#d8576b"
             ],
             [
              0.6666666666666666,
              "#ed7953"
             ],
             [
              0.7777777777777778,
              "#fb9f3a"
             ],
             [
              0.8888888888888888,
              "#fdca26"
             ],
             [
              1,
              "#f0f921"
             ]
            ],
            "type": "contour"
           }
          ],
          "contourcarpet": [
           {
            "colorbar": {
             "outlinewidth": 0,
             "ticks": ""
            },
            "type": "contourcarpet"
           }
          ],
          "heatmap": [
           {
            "colorbar": {
             "outlinewidth": 0,
             "ticks": ""
            },
            "colorscale": [
             [
              0,
              "#0d0887"
             ],
             [
              0.1111111111111111,
              "#46039f"
             ],
             [
              0.2222222222222222,
              "#7201a8"
             ],
             [
              0.3333333333333333,
              "#9c179e"
             ],
             [
              0.4444444444444444,
              "#bd3786"
             ],
             [
              0.5555555555555556,
              "#d8576b"
             ],
             [
              0.6666666666666666,
              "#ed7953"
             ],
             [
              0.7777777777777778,
              "#fb9f3a"
             ],
             [
              0.8888888888888888,
              "#fdca26"
             ],
             [
              1,
              "#f0f921"
             ]
            ],
            "type": "heatmap"
           }
          ],
          "heatmapgl": [
           {
            "colorbar": {
             "outlinewidth": 0,
             "ticks": ""
            },
            "colorscale": [
             [
              0,
              "#0d0887"
             ],
             [
              0.1111111111111111,
              "#46039f"
             ],
             [
              0.2222222222222222,
              "#7201a8"
             ],
             [
              0.3333333333333333,
              "#9c179e"
             ],
             [
              0.4444444444444444,
              "#bd3786"
             ],
             [
              0.5555555555555556,
              "#d8576b"
             ],
             [
              0.6666666666666666,
              "#ed7953"
             ],
             [
              0.7777777777777778,
              "#fb9f3a"
             ],
             [
              0.8888888888888888,
              "#fdca26"
             ],
             [
              1,
              "#f0f921"
             ]
            ],
            "type": "heatmapgl"
           }
          ],
          "histogram": [
           {
            "marker": {
             "pattern": {
              "fillmode": "overlay",
              "size": 10,
              "solidity": 0.2
             }
            },
            "type": "histogram"
           }
          ],
          "histogram2d": [
           {
            "colorbar": {
             "outlinewidth": 0,
             "ticks": ""
            },
            "colorscale": [
             [
              0,
              "#0d0887"
             ],
             [
              0.1111111111111111,
              "#46039f"
             ],
             [
              0.2222222222222222,
              "#7201a8"
             ],
             [
              0.3333333333333333,
              "#9c179e"
             ],
             [
              0.4444444444444444,
              "#bd3786"
             ],
             [
              0.5555555555555556,
              "#d8576b"
             ],
             [
              0.6666666666666666,
              "#ed7953"
             ],
             [
              0.7777777777777778,
              "#fb9f3a"
             ],
             [
              0.8888888888888888,
              "#fdca26"
             ],
             [
              1,
              "#f0f921"
             ]
            ],
            "type": "histogram2d"
           }
          ],
          "histogram2dcontour": [
           {
            "colorbar": {
             "outlinewidth": 0,
             "ticks": ""
            },
            "colorscale": [
             [
              0,
              "#0d0887"
             ],
             [
              0.1111111111111111,
              "#46039f"
             ],
             [
              0.2222222222222222,
              "#7201a8"
             ],
             [
              0.3333333333333333,
              "#9c179e"
             ],
             [
              0.4444444444444444,
              "#bd3786"
             ],
             [
              0.5555555555555556,
              "#d8576b"
             ],
             [
              0.6666666666666666,
              "#ed7953"
             ],
             [
              0.7777777777777778,
              "#fb9f3a"
             ],
             [
              0.8888888888888888,
              "#fdca26"
             ],
             [
              1,
              "#f0f921"
             ]
            ],
            "type": "histogram2dcontour"
           }
          ],
          "mesh3d": [
           {
            "colorbar": {
             "outlinewidth": 0,
             "ticks": ""
            },
            "type": "mesh3d"
           }
          ],
          "parcoords": [
           {
            "line": {
             "colorbar": {
              "outlinewidth": 0,
              "ticks": ""
             }
            },
            "type": "parcoords"
           }
          ],
          "pie": [
           {
            "automargin": true,
            "type": "pie"
           }
          ],
          "scatter": [
           {
            "marker": {
             "colorbar": {
              "outlinewidth": 0,
              "ticks": ""
             }
            },
            "type": "scatter"
           }
          ],
          "scatter3d": [
           {
            "line": {
             "colorbar": {
              "outlinewidth": 0,
              "ticks": ""
             }
            },
            "marker": {
             "colorbar": {
              "outlinewidth": 0,
              "ticks": ""
             }
            },
            "type": "scatter3d"
           }
          ],
          "scattercarpet": [
           {
            "marker": {
             "colorbar": {
              "outlinewidth": 0,
              "ticks": ""
             }
            },
            "type": "scattercarpet"
           }
          ],
          "scattergeo": [
           {
            "marker": {
             "colorbar": {
              "outlinewidth": 0,
              "ticks": ""
             }
            },
            "type": "scattergeo"
           }
          ],
          "scattergl": [
           {
            "marker": {
             "colorbar": {
              "outlinewidth": 0,
              "ticks": ""
             }
            },
            "type": "scattergl"
           }
          ],
          "scattermapbox": [
           {
            "marker": {
             "colorbar": {
              "outlinewidth": 0,
              "ticks": ""
             }
            },
            "type": "scattermapbox"
           }
          ],
          "scatterpolar": [
           {
            "marker": {
             "colorbar": {
              "outlinewidth": 0,
              "ticks": ""
             }
            },
            "type": "scatterpolar"
           }
          ],
          "scatterpolargl": [
           {
            "marker": {
             "colorbar": {
              "outlinewidth": 0,
              "ticks": ""
             }
            },
            "type": "scatterpolargl"
           }
          ],
          "scatterternary": [
           {
            "marker": {
             "colorbar": {
              "outlinewidth": 0,
              "ticks": ""
             }
            },
            "type": "scatterternary"
           }
          ],
          "surface": [
           {
            "colorbar": {
             "outlinewidth": 0,
             "ticks": ""
            },
            "colorscale": [
             [
              0,
              "#0d0887"
             ],
             [
              0.1111111111111111,
              "#46039f"
             ],
             [
              0.2222222222222222,
              "#7201a8"
             ],
             [
              0.3333333333333333,
              "#9c179e"
             ],
             [
              0.4444444444444444,
              "#bd3786"
             ],
             [
              0.5555555555555556,
              "#d8576b"
             ],
             [
              0.6666666666666666,
              "#ed7953"
             ],
             [
              0.7777777777777778,
              "#fb9f3a"
             ],
             [
              0.8888888888888888,
              "#fdca26"
             ],
             [
              1,
              "#f0f921"
             ]
            ],
            "type": "surface"
           }
          ],
          "table": [
           {
            "cells": {
             "fill": {
              "color": "#EBF0F8"
             },
             "line": {
              "color": "white"
             }
            },
            "header": {
             "fill": {
              "color": "#C8D4E3"
             },
             "line": {
              "color": "white"
             }
            },
            "type": "table"
           }
          ]
         },
         "layout": {
          "annotationdefaults": {
           "arrowcolor": "#2a3f5f",
           "arrowhead": 0,
           "arrowwidth": 1
          },
          "autotypenumbers": "strict",
          "coloraxis": {
           "colorbar": {
            "outlinewidth": 0,
            "ticks": ""
           }
          },
          "colorscale": {
           "diverging": [
            [
             0,
             "#8e0152"
            ],
            [
             0.1,
             "#c51b7d"
            ],
            [
             0.2,
             "#de77ae"
            ],
            [
             0.3,
             "#f1b6da"
            ],
            [
             0.4,
             "#fde0ef"
            ],
            [
             0.5,
             "#f7f7f7"
            ],
            [
             0.6,
             "#e6f5d0"
            ],
            [
             0.7,
             "#b8e186"
            ],
            [
             0.8,
             "#7fbc41"
            ],
            [
             0.9,
             "#4d9221"
            ],
            [
             1,
             "#276419"
            ]
           ],
           "sequential": [
            [
             0,
             "#0d0887"
            ],
            [
             0.1111111111111111,
             "#46039f"
            ],
            [
             0.2222222222222222,
             "#7201a8"
            ],
            [
             0.3333333333333333,
             "#9c179e"
            ],
            [
             0.4444444444444444,
             "#bd3786"
            ],
            [
             0.5555555555555556,
             "#d8576b"
            ],
            [
             0.6666666666666666,
             "#ed7953"
            ],
            [
             0.7777777777777778,
             "#fb9f3a"
            ],
            [
             0.8888888888888888,
             "#fdca26"
            ],
            [
             1,
             "#f0f921"
            ]
           ],
           "sequentialminus": [
            [
             0,
             "#0d0887"
            ],
            [
             0.1111111111111111,
             "#46039f"
            ],
            [
             0.2222222222222222,
             "#7201a8"
            ],
            [
             0.3333333333333333,
             "#9c179e"
            ],
            [
             0.4444444444444444,
             "#bd3786"
            ],
            [
             0.5555555555555556,
             "#d8576b"
            ],
            [
             0.6666666666666666,
             "#ed7953"
            ],
            [
             0.7777777777777778,
             "#fb9f3a"
            ],
            [
             0.8888888888888888,
             "#fdca26"
            ],
            [
             1,
             "#f0f921"
            ]
           ]
          },
          "colorway": [
           "#636efa",
           "#EF553B",
           "#00cc96",
           "#ab63fa",
           "#FFA15A",
           "#19d3f3",
           "#FF6692",
           "#B6E880",
           "#FF97FF",
           "#FECB52"
          ],
          "font": {
           "color": "#2a3f5f"
          },
          "geo": {
           "bgcolor": "white",
           "lakecolor": "white",
           "landcolor": "#E5ECF6",
           "showlakes": true,
           "showland": true,
           "subunitcolor": "white"
          },
          "hoverlabel": {
           "align": "left"
          },
          "hovermode": "closest",
          "mapbox": {
           "style": "light"
          },
          "paper_bgcolor": "white",
          "plot_bgcolor": "#E5ECF6",
          "polar": {
           "angularaxis": {
            "gridcolor": "white",
            "linecolor": "white",
            "ticks": ""
           },
           "bgcolor": "#E5ECF6",
           "radialaxis": {
            "gridcolor": "white",
            "linecolor": "white",
            "ticks": ""
           }
          },
          "scene": {
           "xaxis": {
            "backgroundcolor": "#E5ECF6",
            "gridcolor": "white",
            "gridwidth": 2,
            "linecolor": "white",
            "showbackground": true,
            "ticks": "",
            "zerolinecolor": "white"
           },
           "yaxis": {
            "backgroundcolor": "#E5ECF6",
            "gridcolor": "white",
            "gridwidth": 2,
            "linecolor": "white",
            "showbackground": true,
            "ticks": "",
            "zerolinecolor": "white"
           },
           "zaxis": {
            "backgroundcolor": "#E5ECF6",
            "gridcolor": "white",
            "gridwidth": 2,
            "linecolor": "white",
            "showbackground": true,
            "ticks": "",
            "zerolinecolor": "white"
           }
          },
          "shapedefaults": {
           "line": {
            "color": "#2a3f5f"
           }
          },
          "ternary": {
           "aaxis": {
            "gridcolor": "white",
            "linecolor": "white",
            "ticks": ""
           },
           "baxis": {
            "gridcolor": "white",
            "linecolor": "white",
            "ticks": ""
           },
           "bgcolor": "#E5ECF6",
           "caxis": {
            "gridcolor": "white",
            "linecolor": "white",
            "ticks": ""
           }
          },
          "title": {
           "x": 0.05
          },
          "xaxis": {
           "automargin": true,
           "gridcolor": "white",
           "linecolor": "white",
           "ticks": "",
           "title": {
            "standoff": 15
           },
           "zerolinecolor": "white",
           "zerolinewidth": 2
          },
          "yaxis": {
           "automargin": true,
           "gridcolor": "white",
           "linecolor": "white",
           "ticks": "",
           "title": {
            "standoff": 15
           },
           "zerolinecolor": "white",
           "zerolinewidth": 2
          }
         }
        },
        "title": {
         "font": {
          "color": "#4D5663"
         }
        },
        "xaxis": {
         "gridcolor": "#E1E5ED",
         "showgrid": true,
         "tickfont": {
          "color": "#4D5663"
         },
         "title": {
          "font": {
           "color": "#4D5663"
          },
          "text": ""
         },
         "zerolinecolor": "#E1E5ED"
        },
        "yaxis": {
         "gridcolor": "#E1E5ED",
         "showgrid": true,
         "tickfont": {
          "color": "#4D5663"
         },
         "title": {
          "font": {
           "color": "#4D5663"
          },
          "text": ""
         },
         "zerolinecolor": "#E1E5ED"
        }
       }
      },
      "text/html": [
       "<div>                            <div id=\"0e7050f9-db10-4b89-a2a0-7966ef53d0b9\" class=\"plotly-graph-div\" style=\"height:525px; width:100%;\"></div>            <script type=\"text/javascript\">                require([\"plotly\"], function(Plotly) {                    window.PLOTLYENV=window.PLOTLYENV || {};\n",
       "                    window.PLOTLYENV.BASE_URL='https://plot.ly';                                    if (document.getElementById(\"0e7050f9-db10-4b89-a2a0-7966ef53d0b9\")) {                    Plotly.newPlot(                        \"0e7050f9-db10-4b89-a2a0-7966ef53d0b9\",                        [{\"marker\":{\"color\":\"rgba(255, 153, 51, 0.6)\",\"line\":{\"color\":\"rgba(255, 153, 51, 1.0)\",\"width\":1}},\"name\":\"Values\",\"orientation\":\"v\",\"text\":\"\",\"type\":\"bar\",\"x\":[\"A\",\"B\",\"C\"],\"y\":[32,43,50]}],                        {\"legend\":{\"bgcolor\":\"#F5F6F9\",\"font\":{\"color\":\"#4D5663\"}},\"paper_bgcolor\":\"#F5F6F9\",\"plot_bgcolor\":\"#F5F6F9\",\"template\":{\"data\":{\"bar\":[{\"error_x\":{\"color\":\"#2a3f5f\"},\"error_y\":{\"color\":\"#2a3f5f\"},\"marker\":{\"line\":{\"color\":\"#E5ECF6\",\"width\":0.5},\"pattern\":{\"fillmode\":\"overlay\",\"size\":10,\"solidity\":0.2}},\"type\":\"bar\"}],\"barpolar\":[{\"marker\":{\"line\":{\"color\":\"#E5ECF6\",\"width\":0.5},\"pattern\":{\"fillmode\":\"overlay\",\"size\":10,\"solidity\":0.2}},\"type\":\"barpolar\"}],\"carpet\":[{\"aaxis\":{\"endlinecolor\":\"#2a3f5f\",\"gridcolor\":\"white\",\"linecolor\":\"white\",\"minorgridcolor\":\"white\",\"startlinecolor\":\"#2a3f5f\"},\"baxis\":{\"endlinecolor\":\"#2a3f5f\",\"gridcolor\":\"white\",\"linecolor\":\"white\",\"minorgridcolor\":\"white\",\"startlinecolor\":\"#2a3f5f\"},\"type\":\"carpet\"}],\"choropleth\":[{\"colorbar\":{\"outlinewidth\":0,\"ticks\":\"\"},\"type\":\"choropleth\"}],\"contour\":[{\"colorbar\":{\"outlinewidth\":0,\"ticks\":\"\"},\"colorscale\":[[0.0,\"#0d0887\"],[0.1111111111111111,\"#46039f\"],[0.2222222222222222,\"#7201a8\"],[0.3333333333333333,\"#9c179e\"],[0.4444444444444444,\"#bd3786\"],[0.5555555555555556,\"#d8576b\"],[0.6666666666666666,\"#ed7953\"],[0.7777777777777778,\"#fb9f3a\"],[0.8888888888888888,\"#fdca26\"],[1.0,\"#f0f921\"]],\"type\":\"contour\"}],\"contourcarpet\":[{\"colorbar\":{\"outlinewidth\":0,\"ticks\":\"\"},\"type\":\"contourcarpet\"}],\"heatmap\":[{\"colorbar\":{\"outlinewidth\":0,\"ticks\":\"\"},\"colorscale\":[[0.0,\"#0d0887\"],[0.1111111111111111,\"#46039f\"],[0.2222222222222222,\"#7201a8\"],[0.3333333333333333,\"#9c179e\"],[0.4444444444444444,\"#bd3786\"],[0.5555555555555556,\"#d8576b\"],[0.6666666666666666,\"#ed7953\"],[0.7777777777777778,\"#fb9f3a\"],[0.8888888888888888,\"#fdca26\"],[1.0,\"#f0f921\"]],\"type\":\"heatmap\"}],\"heatmapgl\":[{\"colorbar\":{\"outlinewidth\":0,\"ticks\":\"\"},\"colorscale\":[[0.0,\"#0d0887\"],[0.1111111111111111,\"#46039f\"],[0.2222222222222222,\"#7201a8\"],[0.3333333333333333,\"#9c179e\"],[0.4444444444444444,\"#bd3786\"],[0.5555555555555556,\"#d8576b\"],[0.6666666666666666,\"#ed7953\"],[0.7777777777777778,\"#fb9f3a\"],[0.8888888888888888,\"#fdca26\"],[1.0,\"#f0f921\"]],\"type\":\"heatmapgl\"}],\"histogram\":[{\"marker\":{\"pattern\":{\"fillmode\":\"overlay\",\"size\":10,\"solidity\":0.2}},\"type\":\"histogram\"}],\"histogram2d\":[{\"colorbar\":{\"outlinewidth\":0,\"ticks\":\"\"},\"colorscale\":[[0.0,\"#0d0887\"],[0.1111111111111111,\"#46039f\"],[0.2222222222222222,\"#7201a8\"],[0.3333333333333333,\"#9c179e\"],[0.4444444444444444,\"#bd3786\"],[0.5555555555555556,\"#d8576b\"],[0.6666666666666666,\"#ed7953\"],[0.7777777777777778,\"#fb9f3a\"],[0.8888888888888888,\"#fdca26\"],[1.0,\"#f0f921\"]],\"type\":\"histogram2d\"}],\"histogram2dcontour\":[{\"colorbar\":{\"outlinewidth\":0,\"ticks\":\"\"},\"colorscale\":[[0.0,\"#0d0887\"],[0.1111111111111111,\"#46039f\"],[0.2222222222222222,\"#7201a8\"],[0.3333333333333333,\"#9c179e\"],[0.4444444444444444,\"#bd3786\"],[0.5555555555555556,\"#d8576b\"],[0.6666666666666666,\"#ed7953\"],[0.7777777777777778,\"#fb9f3a\"],[0.8888888888888888,\"#fdca26\"],[1.0,\"#f0f921\"]],\"type\":\"histogram2dcontour\"}],\"mesh3d\":[{\"colorbar\":{\"outlinewidth\":0,\"ticks\":\"\"},\"type\":\"mesh3d\"}],\"parcoords\":[{\"line\":{\"colorbar\":{\"outlinewidth\":0,\"ticks\":\"\"}},\"type\":\"parcoords\"}],\"pie\":[{\"automargin\":true,\"type\":\"pie\"}],\"scatter\":[{\"marker\":{\"colorbar\":{\"outlinewidth\":0,\"ticks\":\"\"}},\"type\":\"scatter\"}],\"scatter3d\":[{\"line\":{\"colorbar\":{\"outlinewidth\":0,\"ticks\":\"\"}},\"marker\":{\"colorbar\":{\"outlinewidth\":0,\"ticks\":\"\"}},\"type\":\"scatter3d\"}],\"scattercarpet\":[{\"marker\":{\"colorbar\":{\"outlinewidth\":0,\"ticks\":\"\"}},\"type\":\"scattercarpet\"}],\"scattergeo\":[{\"marker\":{\"colorbar\":{\"outlinewidth\":0,\"ticks\":\"\"}},\"type\":\"scattergeo\"}],\"scattergl\":[{\"marker\":{\"colorbar\":{\"outlinewidth\":0,\"ticks\":\"\"}},\"type\":\"scattergl\"}],\"scattermapbox\":[{\"marker\":{\"colorbar\":{\"outlinewidth\":0,\"ticks\":\"\"}},\"type\":\"scattermapbox\"}],\"scatterpolar\":[{\"marker\":{\"colorbar\":{\"outlinewidth\":0,\"ticks\":\"\"}},\"type\":\"scatterpolar\"}],\"scatterpolargl\":[{\"marker\":{\"colorbar\":{\"outlinewidth\":0,\"ticks\":\"\"}},\"type\":\"scatterpolargl\"}],\"scatterternary\":[{\"marker\":{\"colorbar\":{\"outlinewidth\":0,\"ticks\":\"\"}},\"type\":\"scatterternary\"}],\"surface\":[{\"colorbar\":{\"outlinewidth\":0,\"ticks\":\"\"},\"colorscale\":[[0.0,\"#0d0887\"],[0.1111111111111111,\"#46039f\"],[0.2222222222222222,\"#7201a8\"],[0.3333333333333333,\"#9c179e\"],[0.4444444444444444,\"#bd3786\"],[0.5555555555555556,\"#d8576b\"],[0.6666666666666666,\"#ed7953\"],[0.7777777777777778,\"#fb9f3a\"],[0.8888888888888888,\"#fdca26\"],[1.0,\"#f0f921\"]],\"type\":\"surface\"}],\"table\":[{\"cells\":{\"fill\":{\"color\":\"#EBF0F8\"},\"line\":{\"color\":\"white\"}},\"header\":{\"fill\":{\"color\":\"#C8D4E3\"},\"line\":{\"color\":\"white\"}},\"type\":\"table\"}]},\"layout\":{\"annotationdefaults\":{\"arrowcolor\":\"#2a3f5f\",\"arrowhead\":0,\"arrowwidth\":1},\"autotypenumbers\":\"strict\",\"coloraxis\":{\"colorbar\":{\"outlinewidth\":0,\"ticks\":\"\"}},\"colorscale\":{\"diverging\":[[0,\"#8e0152\"],[0.1,\"#c51b7d\"],[0.2,\"#de77ae\"],[0.3,\"#f1b6da\"],[0.4,\"#fde0ef\"],[0.5,\"#f7f7f7\"],[0.6,\"#e6f5d0\"],[0.7,\"#b8e186\"],[0.8,\"#7fbc41\"],[0.9,\"#4d9221\"],[1,\"#276419\"]],\"sequential\":[[0.0,\"#0d0887\"],[0.1111111111111111,\"#46039f\"],[0.2222222222222222,\"#7201a8\"],[0.3333333333333333,\"#9c179e\"],[0.4444444444444444,\"#bd3786\"],[0.5555555555555556,\"#d8576b\"],[0.6666666666666666,\"#ed7953\"],[0.7777777777777778,\"#fb9f3a\"],[0.8888888888888888,\"#fdca26\"],[1.0,\"#f0f921\"]],\"sequentialminus\":[[0.0,\"#0d0887\"],[0.1111111111111111,\"#46039f\"],[0.2222222222222222,\"#7201a8\"],[0.3333333333333333,\"#9c179e\"],[0.4444444444444444,\"#bd3786\"],[0.5555555555555556,\"#d8576b\"],[0.6666666666666666,\"#ed7953\"],[0.7777777777777778,\"#fb9f3a\"],[0.8888888888888888,\"#fdca26\"],[1.0,\"#f0f921\"]]},\"colorway\":[\"#636efa\",\"#EF553B\",\"#00cc96\",\"#ab63fa\",\"#FFA15A\",\"#19d3f3\",\"#FF6692\",\"#B6E880\",\"#FF97FF\",\"#FECB52\"],\"font\":{\"color\":\"#2a3f5f\"},\"geo\":{\"bgcolor\":\"white\",\"lakecolor\":\"white\",\"landcolor\":\"#E5ECF6\",\"showlakes\":true,\"showland\":true,\"subunitcolor\":\"white\"},\"hoverlabel\":{\"align\":\"left\"},\"hovermode\":\"closest\",\"mapbox\":{\"style\":\"light\"},\"paper_bgcolor\":\"white\",\"plot_bgcolor\":\"#E5ECF6\",\"polar\":{\"angularaxis\":{\"gridcolor\":\"white\",\"linecolor\":\"white\",\"ticks\":\"\"},\"bgcolor\":\"#E5ECF6\",\"radialaxis\":{\"gridcolor\":\"white\",\"linecolor\":\"white\",\"ticks\":\"\"}},\"scene\":{\"xaxis\":{\"backgroundcolor\":\"#E5ECF6\",\"gridcolor\":\"white\",\"gridwidth\":2,\"linecolor\":\"white\",\"showbackground\":true,\"ticks\":\"\",\"zerolinecolor\":\"white\"},\"yaxis\":{\"backgroundcolor\":\"#E5ECF6\",\"gridcolor\":\"white\",\"gridwidth\":2,\"linecolor\":\"white\",\"showbackground\":true,\"ticks\":\"\",\"zerolinecolor\":\"white\"},\"zaxis\":{\"backgroundcolor\":\"#E5ECF6\",\"gridcolor\":\"white\",\"gridwidth\":2,\"linecolor\":\"white\",\"showbackground\":true,\"ticks\":\"\",\"zerolinecolor\":\"white\"}},\"shapedefaults\":{\"line\":{\"color\":\"#2a3f5f\"}},\"ternary\":{\"aaxis\":{\"gridcolor\":\"white\",\"linecolor\":\"white\",\"ticks\":\"\"},\"baxis\":{\"gridcolor\":\"white\",\"linecolor\":\"white\",\"ticks\":\"\"},\"bgcolor\":\"#E5ECF6\",\"caxis\":{\"gridcolor\":\"white\",\"linecolor\":\"white\",\"ticks\":\"\"}},\"title\":{\"x\":0.05},\"xaxis\":{\"automargin\":true,\"gridcolor\":\"white\",\"linecolor\":\"white\",\"ticks\":\"\",\"title\":{\"standoff\":15},\"zerolinecolor\":\"white\",\"zerolinewidth\":2},\"yaxis\":{\"automargin\":true,\"gridcolor\":\"white\",\"linecolor\":\"white\",\"ticks\":\"\",\"title\":{\"standoff\":15},\"zerolinecolor\":\"white\",\"zerolinewidth\":2}}},\"title\":{\"font\":{\"color\":\"#4D5663\"}},\"xaxis\":{\"gridcolor\":\"#E1E5ED\",\"showgrid\":true,\"tickfont\":{\"color\":\"#4D5663\"},\"title\":{\"font\":{\"color\":\"#4D5663\"},\"text\":\"\"},\"zerolinecolor\":\"#E1E5ED\"},\"yaxis\":{\"gridcolor\":\"#E1E5ED\",\"showgrid\":true,\"tickfont\":{\"color\":\"#4D5663\"},\"title\":{\"font\":{\"color\":\"#4D5663\"},\"text\":\"\"},\"zerolinecolor\":\"#E1E5ED\"}},                        {\"showLink\": true, \"linkText\": \"Export to plot.ly\", \"plotlyServerURL\": \"https://plot.ly\", \"responsive\": true}                    ).then(function(){\n",
       "                            \n",
       "var gd = document.getElementById('0e7050f9-db10-4b89-a2a0-7966ef53d0b9');\n",
       "var x = new MutationObserver(function (mutations, observer) {{\n",
       "        var display = window.getComputedStyle(gd).display;\n",
       "        if (!display || display === 'none') {{\n",
       "            console.log([gd, 'removed!']);\n",
       "            Plotly.purge(gd);\n",
       "            observer.disconnect();\n",
       "        }}\n",
       "}});\n",
       "\n",
       "// Listen for the removal of the full notebook cells\n",
       "var notebookContainer = gd.closest('#notebook-container');\n",
       "if (notebookContainer) {{\n",
       "    x.observe(notebookContainer, {childList: true});\n",
       "}}\n",
       "\n",
       "// Listen for the clearing of the current output cell\n",
       "var outputEl = gd.closest('.output');\n",
       "if (outputEl) {{\n",
       "    x.observe(outputEl, {childList: true});\n",
       "}}\n",
       "\n",
       "                        })                };                });            </script>        </div>"
      ]
     },
     "metadata": {},
     "output_type": "display_data"
    }
   ],
   "source": [
    "df2.iplot(kind='bar',x='Category',y='Values')"
   ]
  },
  {
   "cell_type": "code",
   "execution_count": 14,
   "metadata": {},
   "outputs": [
    {
     "data": {
      "application/vnd.plotly.v1+json": {
       "config": {
        "linkText": "Export to plot.ly",
        "plotlyServerURL": "https://plot.ly",
        "showLink": true
       },
       "data": [
        {
         "marker": {
          "color": "rgba(255, 153, 51, 0.6)",
          "line": {
           "color": "rgba(255, 153, 51, 1.0)",
           "width": 1
          }
         },
         "name": "None",
         "orientation": "v",
         "text": "",
         "type": "bar",
         "x": [
          "A",
          "B",
          "C",
          "D"
         ],
         "y": [
          100,
          100,
          100,
          100
         ]
        }
       ],
       "layout": {
        "legend": {
         "bgcolor": "#F5F6F9",
         "font": {
          "color": "#4D5663"
         }
        },
        "paper_bgcolor": "#F5F6F9",
        "plot_bgcolor": "#F5F6F9",
        "template": {
         "data": {
          "bar": [
           {
            "error_x": {
             "color": "#2a3f5f"
            },
            "error_y": {
             "color": "#2a3f5f"
            },
            "marker": {
             "line": {
              "color": "#E5ECF6",
              "width": 0.5
             },
             "pattern": {
              "fillmode": "overlay",
              "size": 10,
              "solidity": 0.2
             }
            },
            "type": "bar"
           }
          ],
          "barpolar": [
           {
            "marker": {
             "line": {
              "color": "#E5ECF6",
              "width": 0.5
             },
             "pattern": {
              "fillmode": "overlay",
              "size": 10,
              "solidity": 0.2
             }
            },
            "type": "barpolar"
           }
          ],
          "carpet": [
           {
            "aaxis": {
             "endlinecolor": "#2a3f5f",
             "gridcolor": "white",
             "linecolor": "white",
             "minorgridcolor": "white",
             "startlinecolor": "#2a3f5f"
            },
            "baxis": {
             "endlinecolor": "#2a3f5f",
             "gridcolor": "white",
             "linecolor": "white",
             "minorgridcolor": "white",
             "startlinecolor": "#2a3f5f"
            },
            "type": "carpet"
           }
          ],
          "choropleth": [
           {
            "colorbar": {
             "outlinewidth": 0,
             "ticks": ""
            },
            "type": "choropleth"
           }
          ],
          "contour": [
           {
            "colorbar": {
             "outlinewidth": 0,
             "ticks": ""
            },
            "colorscale": [
             [
              0,
              "#0d0887"
             ],
             [
              0.1111111111111111,
              "#46039f"
             ],
             [
              0.2222222222222222,
              "#7201a8"
             ],
             [
              0.3333333333333333,
              "#9c179e"
             ],
             [
              0.4444444444444444,
              "#bd3786"
             ],
             [
              0.5555555555555556,
              "#d8576b"
             ],
             [
              0.6666666666666666,
              "#ed7953"
             ],
             [
              0.7777777777777778,
              "#fb9f3a"
             ],
             [
              0.8888888888888888,
              "#fdca26"
             ],
             [
              1,
              "#f0f921"
             ]
            ],
            "type": "contour"
           }
          ],
          "contourcarpet": [
           {
            "colorbar": {
             "outlinewidth": 0,
             "ticks": ""
            },
            "type": "contourcarpet"
           }
          ],
          "heatmap": [
           {
            "colorbar": {
             "outlinewidth": 0,
             "ticks": ""
            },
            "colorscale": [
             [
              0,
              "#0d0887"
             ],
             [
              0.1111111111111111,
              "#46039f"
             ],
             [
              0.2222222222222222,
              "#7201a8"
             ],
             [
              0.3333333333333333,
              "#9c179e"
             ],
             [
              0.4444444444444444,
              "#bd3786"
             ],
             [
              0.5555555555555556,
              "#d8576b"
             ],
             [
              0.6666666666666666,
              "#ed7953"
             ],
             [
              0.7777777777777778,
              "#fb9f3a"
             ],
             [
              0.8888888888888888,
              "#fdca26"
             ],
             [
              1,
              "#f0f921"
             ]
            ],
            "type": "heatmap"
           }
          ],
          "heatmapgl": [
           {
            "colorbar": {
             "outlinewidth": 0,
             "ticks": ""
            },
            "colorscale": [
             [
              0,
              "#0d0887"
             ],
             [
              0.1111111111111111,
              "#46039f"
             ],
             [
              0.2222222222222222,
              "#7201a8"
             ],
             [
              0.3333333333333333,
              "#9c179e"
             ],
             [
              0.4444444444444444,
              "#bd3786"
             ],
             [
              0.5555555555555556,
              "#d8576b"
             ],
             [
              0.6666666666666666,
              "#ed7953"
             ],
             [
              0.7777777777777778,
              "#fb9f3a"
             ],
             [
              0.8888888888888888,
              "#fdca26"
             ],
             [
              1,
              "#f0f921"
             ]
            ],
            "type": "heatmapgl"
           }
          ],
          "histogram": [
           {
            "marker": {
             "pattern": {
              "fillmode": "overlay",
              "size": 10,
              "solidity": 0.2
             }
            },
            "type": "histogram"
           }
          ],
          "histogram2d": [
           {
            "colorbar": {
             "outlinewidth": 0,
             "ticks": ""
            },
            "colorscale": [
             [
              0,
              "#0d0887"
             ],
             [
              0.1111111111111111,
              "#46039f"
             ],
             [
              0.2222222222222222,
              "#7201a8"
             ],
             [
              0.3333333333333333,
              "#9c179e"
             ],
             [
              0.4444444444444444,
              "#bd3786"
             ],
             [
              0.5555555555555556,
              "#d8576b"
             ],
             [
              0.6666666666666666,
              "#ed7953"
             ],
             [
              0.7777777777777778,
              "#fb9f3a"
             ],
             [
              0.8888888888888888,
              "#fdca26"
             ],
             [
              1,
              "#f0f921"
             ]
            ],
            "type": "histogram2d"
           }
          ],
          "histogram2dcontour": [
           {
            "colorbar": {
             "outlinewidth": 0,
             "ticks": ""
            },
            "colorscale": [
             [
              0,
              "#0d0887"
             ],
             [
              0.1111111111111111,
              "#46039f"
             ],
             [
              0.2222222222222222,
              "#7201a8"
             ],
             [
              0.3333333333333333,
              "#9c179e"
             ],
             [
              0.4444444444444444,
              "#bd3786"
             ],
             [
              0.5555555555555556,
              "#d8576b"
             ],
             [
              0.6666666666666666,
              "#ed7953"
             ],
             [
              0.7777777777777778,
              "#fb9f3a"
             ],
             [
              0.8888888888888888,
              "#fdca26"
             ],
             [
              1,
              "#f0f921"
             ]
            ],
            "type": "histogram2dcontour"
           }
          ],
          "mesh3d": [
           {
            "colorbar": {
             "outlinewidth": 0,
             "ticks": ""
            },
            "type": "mesh3d"
           }
          ],
          "parcoords": [
           {
            "line": {
             "colorbar": {
              "outlinewidth": 0,
              "ticks": ""
             }
            },
            "type": "parcoords"
           }
          ],
          "pie": [
           {
            "automargin": true,
            "type": "pie"
           }
          ],
          "scatter": [
           {
            "marker": {
             "colorbar": {
              "outlinewidth": 0,
              "ticks": ""
             }
            },
            "type": "scatter"
           }
          ],
          "scatter3d": [
           {
            "line": {
             "colorbar": {
              "outlinewidth": 0,
              "ticks": ""
             }
            },
            "marker": {
             "colorbar": {
              "outlinewidth": 0,
              "ticks": ""
             }
            },
            "type": "scatter3d"
           }
          ],
          "scattercarpet": [
           {
            "marker": {
             "colorbar": {
              "outlinewidth": 0,
              "ticks": ""
             }
            },
            "type": "scattercarpet"
           }
          ],
          "scattergeo": [
           {
            "marker": {
             "colorbar": {
              "outlinewidth": 0,
              "ticks": ""
             }
            },
            "type": "scattergeo"
           }
          ],
          "scattergl": [
           {
            "marker": {
             "colorbar": {
              "outlinewidth": 0,
              "ticks": ""
             }
            },
            "type": "scattergl"
           }
          ],
          "scattermapbox": [
           {
            "marker": {
             "colorbar": {
              "outlinewidth": 0,
              "ticks": ""
             }
            },
            "type": "scattermapbox"
           }
          ],
          "scatterpolar": [
           {
            "marker": {
             "colorbar": {
              "outlinewidth": 0,
              "ticks": ""
             }
            },
            "type": "scatterpolar"
           }
          ],
          "scatterpolargl": [
           {
            "marker": {
             "colorbar": {
              "outlinewidth": 0,
              "ticks": ""
             }
            },
            "type": "scatterpolargl"
           }
          ],
          "scatterternary": [
           {
            "marker": {
             "colorbar": {
              "outlinewidth": 0,
              "ticks": ""
             }
            },
            "type": "scatterternary"
           }
          ],
          "surface": [
           {
            "colorbar": {
             "outlinewidth": 0,
             "ticks": ""
            },
            "colorscale": [
             [
              0,
              "#0d0887"
             ],
             [
              0.1111111111111111,
              "#46039f"
             ],
             [
              0.2222222222222222,
              "#7201a8"
             ],
             [
              0.3333333333333333,
              "#9c179e"
             ],
             [
              0.4444444444444444,
              "#bd3786"
             ],
             [
              0.5555555555555556,
              "#d8576b"
             ],
             [
              0.6666666666666666,
              "#ed7953"
             ],
             [
              0.7777777777777778,
              "#fb9f3a"
             ],
             [
              0.8888888888888888,
              "#fdca26"
             ],
             [
              1,
              "#f0f921"
             ]
            ],
            "type": "surface"
           }
          ],
          "table": [
           {
            "cells": {
             "fill": {
              "color": "#EBF0F8"
             },
             "line": {
              "color": "white"
             }
            },
            "header": {
             "fill": {
              "color": "#C8D4E3"
             },
             "line": {
              "color": "white"
             }
            },
            "type": "table"
           }
          ]
         },
         "layout": {
          "annotationdefaults": {
           "arrowcolor": "#2a3f5f",
           "arrowhead": 0,
           "arrowwidth": 1
          },
          "autotypenumbers": "strict",
          "coloraxis": {
           "colorbar": {
            "outlinewidth": 0,
            "ticks": ""
           }
          },
          "colorscale": {
           "diverging": [
            [
             0,
             "#8e0152"
            ],
            [
             0.1,
             "#c51b7d"
            ],
            [
             0.2,
             "#de77ae"
            ],
            [
             0.3,
             "#f1b6da"
            ],
            [
             0.4,
             "#fde0ef"
            ],
            [
             0.5,
             "#f7f7f7"
            ],
            [
             0.6,
             "#e6f5d0"
            ],
            [
             0.7,
             "#b8e186"
            ],
            [
             0.8,
             "#7fbc41"
            ],
            [
             0.9,
             "#4d9221"
            ],
            [
             1,
             "#276419"
            ]
           ],
           "sequential": [
            [
             0,
             "#0d0887"
            ],
            [
             0.1111111111111111,
             "#46039f"
            ],
            [
             0.2222222222222222,
             "#7201a8"
            ],
            [
             0.3333333333333333,
             "#9c179e"
            ],
            [
             0.4444444444444444,
             "#bd3786"
            ],
            [
             0.5555555555555556,
             "#d8576b"
            ],
            [
             0.6666666666666666,
             "#ed7953"
            ],
            [
             0.7777777777777778,
             "#fb9f3a"
            ],
            [
             0.8888888888888888,
             "#fdca26"
            ],
            [
             1,
             "#f0f921"
            ]
           ],
           "sequentialminus": [
            [
             0,
             "#0d0887"
            ],
            [
             0.1111111111111111,
             "#46039f"
            ],
            [
             0.2222222222222222,
             "#7201a8"
            ],
            [
             0.3333333333333333,
             "#9c179e"
            ],
            [
             0.4444444444444444,
             "#bd3786"
            ],
            [
             0.5555555555555556,
             "#d8576b"
            ],
            [
             0.6666666666666666,
             "#ed7953"
            ],
            [
             0.7777777777777778,
             "#fb9f3a"
            ],
            [
             0.8888888888888888,
             "#fdca26"
            ],
            [
             1,
             "#f0f921"
            ]
           ]
          },
          "colorway": [
           "#636efa",
           "#EF553B",
           "#00cc96",
           "#ab63fa",
           "#FFA15A",
           "#19d3f3",
           "#FF6692",
           "#B6E880",
           "#FF97FF",
           "#FECB52"
          ],
          "font": {
           "color": "#2a3f5f"
          },
          "geo": {
           "bgcolor": "white",
           "lakecolor": "white",
           "landcolor": "#E5ECF6",
           "showlakes": true,
           "showland": true,
           "subunitcolor": "white"
          },
          "hoverlabel": {
           "align": "left"
          },
          "hovermode": "closest",
          "mapbox": {
           "style": "light"
          },
          "paper_bgcolor": "white",
          "plot_bgcolor": "#E5ECF6",
          "polar": {
           "angularaxis": {
            "gridcolor": "white",
            "linecolor": "white",
            "ticks": ""
           },
           "bgcolor": "#E5ECF6",
           "radialaxis": {
            "gridcolor": "white",
            "linecolor": "white",
            "ticks": ""
           }
          },
          "scene": {
           "xaxis": {
            "backgroundcolor": "#E5ECF6",
            "gridcolor": "white",
            "gridwidth": 2,
            "linecolor": "white",
            "showbackground": true,
            "ticks": "",
            "zerolinecolor": "white"
           },
           "yaxis": {
            "backgroundcolor": "#E5ECF6",
            "gridcolor": "white",
            "gridwidth": 2,
            "linecolor": "white",
            "showbackground": true,
            "ticks": "",
            "zerolinecolor": "white"
           },
           "zaxis": {
            "backgroundcolor": "#E5ECF6",
            "gridcolor": "white",
            "gridwidth": 2,
            "linecolor": "white",
            "showbackground": true,
            "ticks": "",
            "zerolinecolor": "white"
           }
          },
          "shapedefaults": {
           "line": {
            "color": "#2a3f5f"
           }
          },
          "ternary": {
           "aaxis": {
            "gridcolor": "white",
            "linecolor": "white",
            "ticks": ""
           },
           "baxis": {
            "gridcolor": "white",
            "linecolor": "white",
            "ticks": ""
           },
           "bgcolor": "#E5ECF6",
           "caxis": {
            "gridcolor": "white",
            "linecolor": "white",
            "ticks": ""
           }
          },
          "title": {
           "x": 0.05
          },
          "xaxis": {
           "automargin": true,
           "gridcolor": "white",
           "linecolor": "white",
           "ticks": "",
           "title": {
            "standoff": 15
           },
           "zerolinecolor": "white",
           "zerolinewidth": 2
          },
          "yaxis": {
           "automargin": true,
           "gridcolor": "white",
           "linecolor": "white",
           "ticks": "",
           "title": {
            "standoff": 15
           },
           "zerolinecolor": "white",
           "zerolinewidth": 2
          }
         }
        },
        "title": {
         "font": {
          "color": "#4D5663"
         }
        },
        "xaxis": {
         "gridcolor": "#E1E5ED",
         "showgrid": true,
         "tickfont": {
          "color": "#4D5663"
         },
         "title": {
          "font": {
           "color": "#4D5663"
          },
          "text": ""
         },
         "zerolinecolor": "#E1E5ED"
        },
        "yaxis": {
         "gridcolor": "#E1E5ED",
         "showgrid": true,
         "tickfont": {
          "color": "#4D5663"
         },
         "title": {
          "font": {
           "color": "#4D5663"
          },
          "text": ""
         },
         "zerolinecolor": "#E1E5ED"
        }
       }
      },
      "text/html": [
       "<div>                            <div id=\"7ea71348-8032-46a6-9329-252482d30dd7\" class=\"plotly-graph-div\" style=\"height:525px; width:100%;\"></div>            <script type=\"text/javascript\">                require([\"plotly\"], function(Plotly) {                    window.PLOTLYENV=window.PLOTLYENV || {};\n",
       "                    window.PLOTLYENV.BASE_URL='https://plot.ly';                                    if (document.getElementById(\"7ea71348-8032-46a6-9329-252482d30dd7\")) {                    Plotly.newPlot(                        \"7ea71348-8032-46a6-9329-252482d30dd7\",                        [{\"marker\":{\"color\":\"rgba(255, 153, 51, 0.6)\",\"line\":{\"color\":\"rgba(255, 153, 51, 1.0)\",\"width\":1}},\"name\":\"None\",\"orientation\":\"v\",\"text\":\"\",\"type\":\"bar\",\"x\":[\"A\",\"B\",\"C\",\"D\"],\"y\":[100,100,100,100]}],                        {\"legend\":{\"bgcolor\":\"#F5F6F9\",\"font\":{\"color\":\"#4D5663\"}},\"paper_bgcolor\":\"#F5F6F9\",\"plot_bgcolor\":\"#F5F6F9\",\"template\":{\"data\":{\"bar\":[{\"error_x\":{\"color\":\"#2a3f5f\"},\"error_y\":{\"color\":\"#2a3f5f\"},\"marker\":{\"line\":{\"color\":\"#E5ECF6\",\"width\":0.5},\"pattern\":{\"fillmode\":\"overlay\",\"size\":10,\"solidity\":0.2}},\"type\":\"bar\"}],\"barpolar\":[{\"marker\":{\"line\":{\"color\":\"#E5ECF6\",\"width\":0.5},\"pattern\":{\"fillmode\":\"overlay\",\"size\":10,\"solidity\":0.2}},\"type\":\"barpolar\"}],\"carpet\":[{\"aaxis\":{\"endlinecolor\":\"#2a3f5f\",\"gridcolor\":\"white\",\"linecolor\":\"white\",\"minorgridcolor\":\"white\",\"startlinecolor\":\"#2a3f5f\"},\"baxis\":{\"endlinecolor\":\"#2a3f5f\",\"gridcolor\":\"white\",\"linecolor\":\"white\",\"minorgridcolor\":\"white\",\"startlinecolor\":\"#2a3f5f\"},\"type\":\"carpet\"}],\"choropleth\":[{\"colorbar\":{\"outlinewidth\":0,\"ticks\":\"\"},\"type\":\"choropleth\"}],\"contour\":[{\"colorbar\":{\"outlinewidth\":0,\"ticks\":\"\"},\"colorscale\":[[0.0,\"#0d0887\"],[0.1111111111111111,\"#46039f\"],[0.2222222222222222,\"#7201a8\"],[0.3333333333333333,\"#9c179e\"],[0.4444444444444444,\"#bd3786\"],[0.5555555555555556,\"#d8576b\"],[0.6666666666666666,\"#ed7953\"],[0.7777777777777778,\"#fb9f3a\"],[0.8888888888888888,\"#fdca26\"],[1.0,\"#f0f921\"]],\"type\":\"contour\"}],\"contourcarpet\":[{\"colorbar\":{\"outlinewidth\":0,\"ticks\":\"\"},\"type\":\"contourcarpet\"}],\"heatmap\":[{\"colorbar\":{\"outlinewidth\":0,\"ticks\":\"\"},\"colorscale\":[[0.0,\"#0d0887\"],[0.1111111111111111,\"#46039f\"],[0.2222222222222222,\"#7201a8\"],[0.3333333333333333,\"#9c179e\"],[0.4444444444444444,\"#bd3786\"],[0.5555555555555556,\"#d8576b\"],[0.6666666666666666,\"#ed7953\"],[0.7777777777777778,\"#fb9f3a\"],[0.8888888888888888,\"#fdca26\"],[1.0,\"#f0f921\"]],\"type\":\"heatmap\"}],\"heatmapgl\":[{\"colorbar\":{\"outlinewidth\":0,\"ticks\":\"\"},\"colorscale\":[[0.0,\"#0d0887\"],[0.1111111111111111,\"#46039f\"],[0.2222222222222222,\"#7201a8\"],[0.3333333333333333,\"#9c179e\"],[0.4444444444444444,\"#bd3786\"],[0.5555555555555556,\"#d8576b\"],[0.6666666666666666,\"#ed7953\"],[0.7777777777777778,\"#fb9f3a\"],[0.8888888888888888,\"#fdca26\"],[1.0,\"#f0f921\"]],\"type\":\"heatmapgl\"}],\"histogram\":[{\"marker\":{\"pattern\":{\"fillmode\":\"overlay\",\"size\":10,\"solidity\":0.2}},\"type\":\"histogram\"}],\"histogram2d\":[{\"colorbar\":{\"outlinewidth\":0,\"ticks\":\"\"},\"colorscale\":[[0.0,\"#0d0887\"],[0.1111111111111111,\"#46039f\"],[0.2222222222222222,\"#7201a8\"],[0.3333333333333333,\"#9c179e\"],[0.4444444444444444,\"#bd3786\"],[0.5555555555555556,\"#d8576b\"],[0.6666666666666666,\"#ed7953\"],[0.7777777777777778,\"#fb9f3a\"],[0.8888888888888888,\"#fdca26\"],[1.0,\"#f0f921\"]],\"type\":\"histogram2d\"}],\"histogram2dcontour\":[{\"colorbar\":{\"outlinewidth\":0,\"ticks\":\"\"},\"colorscale\":[[0.0,\"#0d0887\"],[0.1111111111111111,\"#46039f\"],[0.2222222222222222,\"#7201a8\"],[0.3333333333333333,\"#9c179e\"],[0.4444444444444444,\"#bd3786\"],[0.5555555555555556,\"#d8576b\"],[0.6666666666666666,\"#ed7953\"],[0.7777777777777778,\"#fb9f3a\"],[0.8888888888888888,\"#fdca26\"],[1.0,\"#f0f921\"]],\"type\":\"histogram2dcontour\"}],\"mesh3d\":[{\"colorbar\":{\"outlinewidth\":0,\"ticks\":\"\"},\"type\":\"mesh3d\"}],\"parcoords\":[{\"line\":{\"colorbar\":{\"outlinewidth\":0,\"ticks\":\"\"}},\"type\":\"parcoords\"}],\"pie\":[{\"automargin\":true,\"type\":\"pie\"}],\"scatter\":[{\"marker\":{\"colorbar\":{\"outlinewidth\":0,\"ticks\":\"\"}},\"type\":\"scatter\"}],\"scatter3d\":[{\"line\":{\"colorbar\":{\"outlinewidth\":0,\"ticks\":\"\"}},\"marker\":{\"colorbar\":{\"outlinewidth\":0,\"ticks\":\"\"}},\"type\":\"scatter3d\"}],\"scattercarpet\":[{\"marker\":{\"colorbar\":{\"outlinewidth\":0,\"ticks\":\"\"}},\"type\":\"scattercarpet\"}],\"scattergeo\":[{\"marker\":{\"colorbar\":{\"outlinewidth\":0,\"ticks\":\"\"}},\"type\":\"scattergeo\"}],\"scattergl\":[{\"marker\":{\"colorbar\":{\"outlinewidth\":0,\"ticks\":\"\"}},\"type\":\"scattergl\"}],\"scattermapbox\":[{\"marker\":{\"colorbar\":{\"outlinewidth\":0,\"ticks\":\"\"}},\"type\":\"scattermapbox\"}],\"scatterpolar\":[{\"marker\":{\"colorbar\":{\"outlinewidth\":0,\"ticks\":\"\"}},\"type\":\"scatterpolar\"}],\"scatterpolargl\":[{\"marker\":{\"colorbar\":{\"outlinewidth\":0,\"ticks\":\"\"}},\"type\":\"scatterpolargl\"}],\"scatterternary\":[{\"marker\":{\"colorbar\":{\"outlinewidth\":0,\"ticks\":\"\"}},\"type\":\"scatterternary\"}],\"surface\":[{\"colorbar\":{\"outlinewidth\":0,\"ticks\":\"\"},\"colorscale\":[[0.0,\"#0d0887\"],[0.1111111111111111,\"#46039f\"],[0.2222222222222222,\"#7201a8\"],[0.3333333333333333,\"#9c179e\"],[0.4444444444444444,\"#bd3786\"],[0.5555555555555556,\"#d8576b\"],[0.6666666666666666,\"#ed7953\"],[0.7777777777777778,\"#fb9f3a\"],[0.8888888888888888,\"#fdca26\"],[1.0,\"#f0f921\"]],\"type\":\"surface\"}],\"table\":[{\"cells\":{\"fill\":{\"color\":\"#EBF0F8\"},\"line\":{\"color\":\"white\"}},\"header\":{\"fill\":{\"color\":\"#C8D4E3\"},\"line\":{\"color\":\"white\"}},\"type\":\"table\"}]},\"layout\":{\"annotationdefaults\":{\"arrowcolor\":\"#2a3f5f\",\"arrowhead\":0,\"arrowwidth\":1},\"autotypenumbers\":\"strict\",\"coloraxis\":{\"colorbar\":{\"outlinewidth\":0,\"ticks\":\"\"}},\"colorscale\":{\"diverging\":[[0,\"#8e0152\"],[0.1,\"#c51b7d\"],[0.2,\"#de77ae\"],[0.3,\"#f1b6da\"],[0.4,\"#fde0ef\"],[0.5,\"#f7f7f7\"],[0.6,\"#e6f5d0\"],[0.7,\"#b8e186\"],[0.8,\"#7fbc41\"],[0.9,\"#4d9221\"],[1,\"#276419\"]],\"sequential\":[[0.0,\"#0d0887\"],[0.1111111111111111,\"#46039f\"],[0.2222222222222222,\"#7201a8\"],[0.3333333333333333,\"#9c179e\"],[0.4444444444444444,\"#bd3786\"],[0.5555555555555556,\"#d8576b\"],[0.6666666666666666,\"#ed7953\"],[0.7777777777777778,\"#fb9f3a\"],[0.8888888888888888,\"#fdca26\"],[1.0,\"#f0f921\"]],\"sequentialminus\":[[0.0,\"#0d0887\"],[0.1111111111111111,\"#46039f\"],[0.2222222222222222,\"#7201a8\"],[0.3333333333333333,\"#9c179e\"],[0.4444444444444444,\"#bd3786\"],[0.5555555555555556,\"#d8576b\"],[0.6666666666666666,\"#ed7953\"],[0.7777777777777778,\"#fb9f3a\"],[0.8888888888888888,\"#fdca26\"],[1.0,\"#f0f921\"]]},\"colorway\":[\"#636efa\",\"#EF553B\",\"#00cc96\",\"#ab63fa\",\"#FFA15A\",\"#19d3f3\",\"#FF6692\",\"#B6E880\",\"#FF97FF\",\"#FECB52\"],\"font\":{\"color\":\"#2a3f5f\"},\"geo\":{\"bgcolor\":\"white\",\"lakecolor\":\"white\",\"landcolor\":\"#E5ECF6\",\"showlakes\":true,\"showland\":true,\"subunitcolor\":\"white\"},\"hoverlabel\":{\"align\":\"left\"},\"hovermode\":\"closest\",\"mapbox\":{\"style\":\"light\"},\"paper_bgcolor\":\"white\",\"plot_bgcolor\":\"#E5ECF6\",\"polar\":{\"angularaxis\":{\"gridcolor\":\"white\",\"linecolor\":\"white\",\"ticks\":\"\"},\"bgcolor\":\"#E5ECF6\",\"radialaxis\":{\"gridcolor\":\"white\",\"linecolor\":\"white\",\"ticks\":\"\"}},\"scene\":{\"xaxis\":{\"backgroundcolor\":\"#E5ECF6\",\"gridcolor\":\"white\",\"gridwidth\":2,\"linecolor\":\"white\",\"showbackground\":true,\"ticks\":\"\",\"zerolinecolor\":\"white\"},\"yaxis\":{\"backgroundcolor\":\"#E5ECF6\",\"gridcolor\":\"white\",\"gridwidth\":2,\"linecolor\":\"white\",\"showbackground\":true,\"ticks\":\"\",\"zerolinecolor\":\"white\"},\"zaxis\":{\"backgroundcolor\":\"#E5ECF6\",\"gridcolor\":\"white\",\"gridwidth\":2,\"linecolor\":\"white\",\"showbackground\":true,\"ticks\":\"\",\"zerolinecolor\":\"white\"}},\"shapedefaults\":{\"line\":{\"color\":\"#2a3f5f\"}},\"ternary\":{\"aaxis\":{\"gridcolor\":\"white\",\"linecolor\":\"white\",\"ticks\":\"\"},\"baxis\":{\"gridcolor\":\"white\",\"linecolor\":\"white\",\"ticks\":\"\"},\"bgcolor\":\"#E5ECF6\",\"caxis\":{\"gridcolor\":\"white\",\"linecolor\":\"white\",\"ticks\":\"\"}},\"title\":{\"x\":0.05},\"xaxis\":{\"automargin\":true,\"gridcolor\":\"white\",\"linecolor\":\"white\",\"ticks\":\"\",\"title\":{\"standoff\":15},\"zerolinecolor\":\"white\",\"zerolinewidth\":2},\"yaxis\":{\"automargin\":true,\"gridcolor\":\"white\",\"linecolor\":\"white\",\"ticks\":\"\",\"title\":{\"standoff\":15},\"zerolinecolor\":\"white\",\"zerolinewidth\":2}}},\"title\":{\"font\":{\"color\":\"#4D5663\"}},\"xaxis\":{\"gridcolor\":\"#E1E5ED\",\"showgrid\":true,\"tickfont\":{\"color\":\"#4D5663\"},\"title\":{\"font\":{\"color\":\"#4D5663\"},\"text\":\"\"},\"zerolinecolor\":\"#E1E5ED\"},\"yaxis\":{\"gridcolor\":\"#E1E5ED\",\"showgrid\":true,\"tickfont\":{\"color\":\"#4D5663\"},\"title\":{\"font\":{\"color\":\"#4D5663\"},\"text\":\"\"},\"zerolinecolor\":\"#E1E5ED\"}},                        {\"showLink\": true, \"linkText\": \"Export to plot.ly\", \"plotlyServerURL\": \"https://plot.ly\", \"responsive\": true}                    ).then(function(){\n",
       "                            \n",
       "var gd = document.getElementById('7ea71348-8032-46a6-9329-252482d30dd7');\n",
       "var x = new MutationObserver(function (mutations, observer) {{\n",
       "        var display = window.getComputedStyle(gd).display;\n",
       "        if (!display || display === 'none') {{\n",
       "            console.log([gd, 'removed!']);\n",
       "            Plotly.purge(gd);\n",
       "            observer.disconnect();\n",
       "        }}\n",
       "}});\n",
       "\n",
       "// Listen for the removal of the full notebook cells\n",
       "var notebookContainer = gd.closest('#notebook-container');\n",
       "if (notebookContainer) {{\n",
       "    x.observe(notebookContainer, {childList: true});\n",
       "}}\n",
       "\n",
       "// Listen for the clearing of the current output cell\n",
       "var outputEl = gd.closest('.output');\n",
       "if (outputEl) {{\n",
       "    x.observe(outputEl, {childList: true});\n",
       "}}\n",
       "\n",
       "                        })                };                });            </script>        </div>"
      ]
     },
     "metadata": {},
     "output_type": "display_data"
    }
   ],
   "source": [
    "df.count().iplot(kind='bar')"
   ]
  },
  {
   "cell_type": "markdown",
   "metadata": {},
   "source": [
    "## Boxplots"
   ]
  },
  {
   "cell_type": "code",
   "execution_count": 15,
   "metadata": {},
   "outputs": [
    {
     "data": {
      "application/vnd.plotly.v1+json": {
       "config": {
        "linkText": "Export to plot.ly",
        "plotlyServerURL": "https://plot.ly",
        "showLink": true
       },
       "data": [
        {
         "boxpoints": false,
         "line": {
          "width": 1.3
         },
         "marker": {
          "color": "rgba(255, 153, 51, 1.0)"
         },
         "name": "A",
         "orientation": "v",
         "type": "box",
         "y": [
          0.6754782943325655,
          0.5676345968842824,
          0.1328881905375589,
          1.5598060655336465,
          0.20155851821828127,
          -0.1704342005504423,
          1.6382714620922407,
          0.5960123218986514,
          -1.3967502608685103,
          -0.4175266016308763,
          -1.4622195465874601,
          -0.4418238211952053,
          -0.9396201592840361,
          -0.13826138272671448,
          -0.8850161103888932,
          1.8504189241059084,
          -0.5670395261360621,
          -0.4512300334792727,
          -1.3659730557435033,
          -2.2195698637480628,
          0.3537368438916856,
          0.8011510663127747,
          0.9158535282283714,
          -0.10090839994435542,
          0.5197315429475056,
          0.542335737958651,
          -0.5888216723532752,
          -0.6521836708748141,
          -0.3603370324925614,
          -0.9552920009367587,
          -2.2849797147682933,
          0.4519183096797922,
          1.8842896639403863,
          1.1340897786363573,
          0.18372623294508642,
          -1.0237109171539454,
          -1.654003775689415,
          0.32167723924081354,
          1.2199528459728162,
          2.929925287765693,
          -0.8172173302082492,
          -1.6505368253468742,
          0.23446380237601086,
          0.36633509776946094,
          -1.410517557328883,
          -1.0885958183031015,
          1.41325542793449,
          -1.7040848451332873,
          0.03122408759234455,
          -0.32773165815662103,
          0.6662743949672889,
          -1.3245476957372868,
          -0.17648115279437038,
          0.5131658131312273,
          0.6254611583947094,
          -0.9504172530455163,
          -0.38056513766120054,
          -1.610980503470945,
          0.3138510000800175,
          1.2297882444657389,
          2.0612538048066784,
          1.7240572041477948,
          -0.7228253590566479,
          0.94310349502881,
          -2.011162597259447,
          -0.958977057005299,
          1.2929502033458233,
          1.1732776407222958,
          1.0006976463240154,
          0.07796519762881553,
          -0.4987650476806753,
          0.9764184595883123,
          -0.014106945313026645,
          1.5428496733376793,
          -1.091952698664168,
          0.4782947233641637,
          0.2752500905442413,
          -1.970375548198486,
          2.0526149916013905,
          -0.5355825007775484,
          0.7545279930637657,
          0.2863047840180115,
          -1.4025937393898347,
          0.9342278828335764,
          0.5624839596099094,
          1.1447907551414858,
          0.08961360380327707,
          -0.4817073117416022,
          -0.6319061449787831,
          2.343257288835841,
          -0.5589302132661069,
          0.7941564694900235,
          -0.6152341400737853,
          0.8544116644485762,
          0.41297969806072243,
          1.613308547129756,
          -0.19679692672583227,
          -0.2252424721695863,
          -1.101041110660023,
          -1.9043054451684438
         ]
        },
        {
         "boxpoints": false,
         "line": {
          "width": 1.3
         },
         "marker": {
          "color": "rgba(55, 128, 191, 1.0)"
         },
         "name": "B",
         "orientation": "v",
         "type": "box",
         "y": [
          -0.2217291443388921,
          -1.2371542355520193,
          0.8123200317942653,
          1.2443210913177807,
          0.15665068302727347,
          -0.49601188309501854,
          -1.5674118452306314,
          0.8681936946504126,
          -2.1588947361277944,
          0.004523669014418451,
          0.2224144998784712,
          -1.2047967088202578,
          -0.48311376209050955,
          0.5263364911407737,
          -0.6581025306060428,
          0.5859815825235286,
          1.2843285937087179,
          2.644736009199112,
          0.6686205905210374,
          0.41822294352248607,
          -1.0881429265518046,
          -0.2848994852918314,
          -1.0361040136959085,
          -0.43236691856491044,
          -1.2151060705229921,
          -1.0535802751145777,
          -1.7101393540602814,
          0.13700496725160327,
          -0.03639404936203314,
          -1.167416774354088,
          1.242824173634307,
          0.7555947464871007,
          -0.2358954009781537,
          1.7245172324003295,
          0.011408650486823966,
          1.468500443226724,
          -1.087452184127168,
          0.31587470047464566,
          -0.64965102521893,
          -0.18741629301066062,
          0.8643789608770887,
          0.1374916054046593,
          0.984915590803966,
          -0.5749850827580681,
          -0.31367705412547175,
          0.43808758668803777,
          0.5237444006175169,
          -1.933200354258214,
          0.24285826858388612,
          1.0770527002311396,
          0.8642237475271446,
          -2.8026546155389527,
          -1.269688258045194,
          0.13818859955011006,
          -0.7032899314435153,
          -1.6489195836048638,
          -0.10259177038998696,
          1.4542546939122745,
          -0.5144024244857891,
          -0.16761985394816561,
          0.18057974799115853,
          0.9153792574175322,
          -1.5625254164314404,
          0.7275749276372556,
          -0.8410916716639276,
          1.9702443659279567,
          1.0105656117288755,
          -0.33011431585845263,
          0.05896025014420832,
          -0.6182716108350788,
          -1.9307322255876471,
          -0.423044638561435,
          0.8242161598940201,
          0.7473086068676891,
          -0.06390385057859259,
          1.411752606998454,
          0.9490293076629773,
          0.009991847913236184,
          0.673086587444426,
          -0.12972617508859452,
          -1.4564557150623647,
          0.36259057467603667,
          -1.0036754215214432,
          -0.9933192141036302,
          -0.8830959235342006,
          0.0068193462280179895,
          0.7529614687362064,
          0.4431679290600762,
          0.7558262294932983,
          -1.87289174236139,
          2.6694207476365075,
          -0.03194188108580788,
          -1.1825587513883815,
          -0.6013875741485867,
          0.7019085379263506,
          -0.16891436238867008,
          -1.3841323134554913,
          1.5394640870582705,
          0.8545201128569784,
          0.8007369757347785
         ]
        },
        {
         "boxpoints": false,
         "line": {
          "width": 1.3
         },
         "marker": {
          "color": "rgba(50, 171, 96, 1.0)"
         },
         "name": "C",
         "orientation": "v",
         "type": "box",
         "y": [
          0.0784437314920932,
          -0.6274683178765565,
          0.5298269773625096,
          -0.026204610060682528,
          1.37969563905112,
          -0.8000786645365066,
          -0.2711977325666523,
          1.4726782220970804,
          -0.1547773948945247,
          0.36473944640186384,
          -0.08429883514455458,
          -1.5515062481753192,
          0.03205552259490915,
          1.2123548956418295,
          0.43058253591239376,
          -0.031117297861683987,
          1.2414500049237107,
          -0.8518608567833222,
          1.3288784861201977,
          1.439038188138787,
          2.0834823106921867,
          -0.13951482153101846,
          -0.16750640075993256,
          -2.596922050001098,
          -1.0344366694712204,
          0.3874677675410941,
          0.5300976846874239,
          0.2650623034781403,
          1.123632155716323,
          -1.5572785478146938,
          0.9594542248327607,
          -1.2557351597027717,
          -1.8360982088841002,
          -0.24171184000833357,
          1.4535229764820388,
          0.8434778332317928,
          -0.1390979275451528,
          1.4824149640051818,
          0.45160359629458197,
          1.2539319476365436,
          0.5844252340197015,
          0.10182632011854167,
          1.3062137404946352,
          -1.6230105028452513,
          0.3566611284157468,
          1.7308316510693198,
          -0.06209698721137085,
          0.3939301904060206,
          0.20960382548586007,
          -1.3716340073257205,
          0.2504460076052671,
          -0.40946158043083053,
          -0.21669459044608314,
          -1.3113978351731204,
          0.7301680983005864,
          1.6659322095726434,
          0.08792943985079187,
          -0.7318878119568767,
          -0.1752586144857245,
          0.5437074109358785,
          1.3754837271082254,
          -0.7535874213950295,
          -0.5878948226418345,
          -0.3610536843703974,
          1.5204262409258733,
          -0.43322783712311214,
          0.8035654301932148,
          -1.363808961916895,
          -0.3544827133614749,
          1.815037702042949,
          -0.010765358664600296,
          0.2633014458669041,
          1.9722229163077225,
          -0.04229984248442153,
          -0.723068086967317,
          -2.0357774272091373,
          -0.6350456554823967,
          0.45584953161270303,
          0.9067616582640229,
          1.5480251312081699,
          -0.9928566495105056,
          -1.28321428258695,
          0.14135966092114852,
          0.3578602496552667,
          -1.488692412653754,
          0.028263269062368666,
          0.33757401829189343,
          -0.7603609722621759,
          -0.3598963718688637,
          -2.1381875920361053,
          -0.7976158836639305,
          -0.7812095188111328,
          -0.3107933341853249,
          -0.4971599535565136,
          0.6180616657471829,
          -1.7780361709837333,
          2.408104100772878,
          0.6351956483184322,
          -0.12947334443327432,
          -1.081991236502051
         ]
        },
        {
         "boxpoints": false,
         "line": {
          "width": 1.3
         },
         "marker": {
          "color": "rgba(128, 0, 128, 1.0)"
         },
         "name": "D",
         "orientation": "v",
         "type": "box",
         "y": [
          1.3176171729312272,
          -0.9834880323385257,
          0.6411961838907011,
          0.669110779707614,
          0.6909807029692084,
          -0.4721750437619172,
          0.9276671831585144,
          0.004224855025634071,
          1.5855609956540089,
          -2.362573108645685,
          1.449613773680825,
          0.08392393763461577,
          1.4106686705608238,
          -0.14437037332746172,
          -1.3328496798693938,
          -0.37652589035939366,
          -0.4946055490266074,
          0.31911727130119266,
          -0.47358087026724893,
          0.16505353040464632,
          1.5140781357842468,
          0.8549407420138733,
          0.9997998467684753,
          -0.4938509276561391,
          0.10886655189684685,
          -0.45338661443259165,
          0.801666642873236,
          -0.10292637171679458,
          0.1762930848097405,
          -0.7435744978120609,
          -0.7828881051060924,
          -0.5449076415695722,
          -0.8829502763539031,
          -0.15656960504724496,
          -0.23525720483416326,
          -0.25459885591993897,
          -0.8960229288435273,
          -0.9809902582888329,
          -0.7603113561563828,
          -1.2892096628807506,
          0.6302925112779482,
          -0.3215614608890834,
          -0.45027111963134125,
          -0.32699236661256303,
          -0.9574633336697017,
          0.2646646949622887,
          -0.2821900739904608,
          -0.8968778040618786,
          -1.4277929316873632,
          -1.7956111453370855,
          -1.2976088427692183,
          -0.5530879697592308,
          0.3037174086766186,
          0.5556223777751071,
          1.7350025669748539,
          0.20697663508511632,
          -1.3913773527801154,
          1.5440766422195047,
          -0.6241203351108987,
          -1.923666382511092,
          0.4556263675530248,
          -0.349330977819222,
          -1.4393546206558492,
          -1.1811152857102594,
          -0.16930038167070804,
          -0.1292701898700492,
          1.037802622208697,
          0.8296283353615309,
          -0.9845185162741449,
          0.5701566902074574,
          1.6367428805438935,
          1.945251815442205,
          1.2840117045761732,
          -0.16430735928035567,
          1.1995560974603026,
          -1.0964725875195462,
          0.041578630666224685,
          0.3944469773059546,
          0.10880517897135732,
          0.35052365302338484,
          1.0006118784343434,
          0.7794816871241417,
          -0.42771077868518786,
          -0.4656016344090984,
          -0.0938138734703827,
          -1.1208302944841384,
          0.10526049306349472,
          0.24486250243615648,
          -0.8260289717409693,
          -0.3229038089718978,
          -0.8161886246811139,
          0.7359278700604573,
          -2.053293054572988,
          -0.7748654206211201,
          0.7264382231948154,
          0.3300205040387262,
          -0.24818884797599722,
          -0.9396493198859207,
          1.0587748727876582,
          0.005321853681144137
         ]
        }
       ],
       "layout": {
        "legend": {
         "bgcolor": "#F5F6F9",
         "font": {
          "color": "#4D5663"
         }
        },
        "paper_bgcolor": "#F5F6F9",
        "plot_bgcolor": "#F5F6F9",
        "template": {
         "data": {
          "bar": [
           {
            "error_x": {
             "color": "#2a3f5f"
            },
            "error_y": {
             "color": "#2a3f5f"
            },
            "marker": {
             "line": {
              "color": "#E5ECF6",
              "width": 0.5
             },
             "pattern": {
              "fillmode": "overlay",
              "size": 10,
              "solidity": 0.2
             }
            },
            "type": "bar"
           }
          ],
          "barpolar": [
           {
            "marker": {
             "line": {
              "color": "#E5ECF6",
              "width": 0.5
             },
             "pattern": {
              "fillmode": "overlay",
              "size": 10,
              "solidity": 0.2
             }
            },
            "type": "barpolar"
           }
          ],
          "carpet": [
           {
            "aaxis": {
             "endlinecolor": "#2a3f5f",
             "gridcolor": "white",
             "linecolor": "white",
             "minorgridcolor": "white",
             "startlinecolor": "#2a3f5f"
            },
            "baxis": {
             "endlinecolor": "#2a3f5f",
             "gridcolor": "white",
             "linecolor": "white",
             "minorgridcolor": "white",
             "startlinecolor": "#2a3f5f"
            },
            "type": "carpet"
           }
          ],
          "choropleth": [
           {
            "colorbar": {
             "outlinewidth": 0,
             "ticks": ""
            },
            "type": "choropleth"
           }
          ],
          "contour": [
           {
            "colorbar": {
             "outlinewidth": 0,
             "ticks": ""
            },
            "colorscale": [
             [
              0,
              "#0d0887"
             ],
             [
              0.1111111111111111,
              "#46039f"
             ],
             [
              0.2222222222222222,
              "#7201a8"
             ],
             [
              0.3333333333333333,
              "#9c179e"
             ],
             [
              0.4444444444444444,
              "#bd3786"
             ],
             [
              0.5555555555555556,
              "#d8576b"
             ],
             [
              0.6666666666666666,
              "#ed7953"
             ],
             [
              0.7777777777777778,
              "#fb9f3a"
             ],
             [
              0.8888888888888888,
              "#fdca26"
             ],
             [
              1,
              "#f0f921"
             ]
            ],
            "type": "contour"
           }
          ],
          "contourcarpet": [
           {
            "colorbar": {
             "outlinewidth": 0,
             "ticks": ""
            },
            "type": "contourcarpet"
           }
          ],
          "heatmap": [
           {
            "colorbar": {
             "outlinewidth": 0,
             "ticks": ""
            },
            "colorscale": [
             [
              0,
              "#0d0887"
             ],
             [
              0.1111111111111111,
              "#46039f"
             ],
             [
              0.2222222222222222,
              "#7201a8"
             ],
             [
              0.3333333333333333,
              "#9c179e"
             ],
             [
              0.4444444444444444,
              "#bd3786"
             ],
             [
              0.5555555555555556,
              "#d8576b"
             ],
             [
              0.6666666666666666,
              "#ed7953"
             ],
             [
              0.7777777777777778,
              "#fb9f3a"
             ],
             [
              0.8888888888888888,
              "#fdca26"
             ],
             [
              1,
              "#f0f921"
             ]
            ],
            "type": "heatmap"
           }
          ],
          "heatmapgl": [
           {
            "colorbar": {
             "outlinewidth": 0,
             "ticks": ""
            },
            "colorscale": [
             [
              0,
              "#0d0887"
             ],
             [
              0.1111111111111111,
              "#46039f"
             ],
             [
              0.2222222222222222,
              "#7201a8"
             ],
             [
              0.3333333333333333,
              "#9c179e"
             ],
             [
              0.4444444444444444,
              "#bd3786"
             ],
             [
              0.5555555555555556,
              "#d8576b"
             ],
             [
              0.6666666666666666,
              "#ed7953"
             ],
             [
              0.7777777777777778,
              "#fb9f3a"
             ],
             [
              0.8888888888888888,
              "#fdca26"
             ],
             [
              1,
              "#f0f921"
             ]
            ],
            "type": "heatmapgl"
           }
          ],
          "histogram": [
           {
            "marker": {
             "pattern": {
              "fillmode": "overlay",
              "size": 10,
              "solidity": 0.2
             }
            },
            "type": "histogram"
           }
          ],
          "histogram2d": [
           {
            "colorbar": {
             "outlinewidth": 0,
             "ticks": ""
            },
            "colorscale": [
             [
              0,
              "#0d0887"
             ],
             [
              0.1111111111111111,
              "#46039f"
             ],
             [
              0.2222222222222222,
              "#7201a8"
             ],
             [
              0.3333333333333333,
              "#9c179e"
             ],
             [
              0.4444444444444444,
              "#bd3786"
             ],
             [
              0.5555555555555556,
              "#d8576b"
             ],
             [
              0.6666666666666666,
              "#ed7953"
             ],
             [
              0.7777777777777778,
              "#fb9f3a"
             ],
             [
              0.8888888888888888,
              "#fdca26"
             ],
             [
              1,
              "#f0f921"
             ]
            ],
            "type": "histogram2d"
           }
          ],
          "histogram2dcontour": [
           {
            "colorbar": {
             "outlinewidth": 0,
             "ticks": ""
            },
            "colorscale": [
             [
              0,
              "#0d0887"
             ],
             [
              0.1111111111111111,
              "#46039f"
             ],
             [
              0.2222222222222222,
              "#7201a8"
             ],
             [
              0.3333333333333333,
              "#9c179e"
             ],
             [
              0.4444444444444444,
              "#bd3786"
             ],
             [
              0.5555555555555556,
              "#d8576b"
             ],
             [
              0.6666666666666666,
              "#ed7953"
             ],
             [
              0.7777777777777778,
              "#fb9f3a"
             ],
             [
              0.8888888888888888,
              "#fdca26"
             ],
             [
              1,
              "#f0f921"
             ]
            ],
            "type": "histogram2dcontour"
           }
          ],
          "mesh3d": [
           {
            "colorbar": {
             "outlinewidth": 0,
             "ticks": ""
            },
            "type": "mesh3d"
           }
          ],
          "parcoords": [
           {
            "line": {
             "colorbar": {
              "outlinewidth": 0,
              "ticks": ""
             }
            },
            "type": "parcoords"
           }
          ],
          "pie": [
           {
            "automargin": true,
            "type": "pie"
           }
          ],
          "scatter": [
           {
            "marker": {
             "colorbar": {
              "outlinewidth": 0,
              "ticks": ""
             }
            },
            "type": "scatter"
           }
          ],
          "scatter3d": [
           {
            "line": {
             "colorbar": {
              "outlinewidth": 0,
              "ticks": ""
             }
            },
            "marker": {
             "colorbar": {
              "outlinewidth": 0,
              "ticks": ""
             }
            },
            "type": "scatter3d"
           }
          ],
          "scattercarpet": [
           {
            "marker": {
             "colorbar": {
              "outlinewidth": 0,
              "ticks": ""
             }
            },
            "type": "scattercarpet"
           }
          ],
          "scattergeo": [
           {
            "marker": {
             "colorbar": {
              "outlinewidth": 0,
              "ticks": ""
             }
            },
            "type": "scattergeo"
           }
          ],
          "scattergl": [
           {
            "marker": {
             "colorbar": {
              "outlinewidth": 0,
              "ticks": ""
             }
            },
            "type": "scattergl"
           }
          ],
          "scattermapbox": [
           {
            "marker": {
             "colorbar": {
              "outlinewidth": 0,
              "ticks": ""
             }
            },
            "type": "scattermapbox"
           }
          ],
          "scatterpolar": [
           {
            "marker": {
             "colorbar": {
              "outlinewidth": 0,
              "ticks": ""
             }
            },
            "type": "scatterpolar"
           }
          ],
          "scatterpolargl": [
           {
            "marker": {
             "colorbar": {
              "outlinewidth": 0,
              "ticks": ""
             }
            },
            "type": "scatterpolargl"
           }
          ],
          "scatterternary": [
           {
            "marker": {
             "colorbar": {
              "outlinewidth": 0,
              "ticks": ""
             }
            },
            "type": "scatterternary"
           }
          ],
          "surface": [
           {
            "colorbar": {
             "outlinewidth": 0,
             "ticks": ""
            },
            "colorscale": [
             [
              0,
              "#0d0887"
             ],
             [
              0.1111111111111111,
              "#46039f"
             ],
             [
              0.2222222222222222,
              "#7201a8"
             ],
             [
              0.3333333333333333,
              "#9c179e"
             ],
             [
              0.4444444444444444,
              "#bd3786"
             ],
             [
              0.5555555555555556,
              "#d8576b"
             ],
             [
              0.6666666666666666,
              "#ed7953"
             ],
             [
              0.7777777777777778,
              "#fb9f3a"
             ],
             [
              0.8888888888888888,
              "#fdca26"
             ],
             [
              1,
              "#f0f921"
             ]
            ],
            "type": "surface"
           }
          ],
          "table": [
           {
            "cells": {
             "fill": {
              "color": "#EBF0F8"
             },
             "line": {
              "color": "white"
             }
            },
            "header": {
             "fill": {
              "color": "#C8D4E3"
             },
             "line": {
              "color": "white"
             }
            },
            "type": "table"
           }
          ]
         },
         "layout": {
          "annotationdefaults": {
           "arrowcolor": "#2a3f5f",
           "arrowhead": 0,
           "arrowwidth": 1
          },
          "autotypenumbers": "strict",
          "coloraxis": {
           "colorbar": {
            "outlinewidth": 0,
            "ticks": ""
           }
          },
          "colorscale": {
           "diverging": [
            [
             0,
             "#8e0152"
            ],
            [
             0.1,
             "#c51b7d"
            ],
            [
             0.2,
             "#de77ae"
            ],
            [
             0.3,
             "#f1b6da"
            ],
            [
             0.4,
             "#fde0ef"
            ],
            [
             0.5,
             "#f7f7f7"
            ],
            [
             0.6,
             "#e6f5d0"
            ],
            [
             0.7,
             "#b8e186"
            ],
            [
             0.8,
             "#7fbc41"
            ],
            [
             0.9,
             "#4d9221"
            ],
            [
             1,
             "#276419"
            ]
           ],
           "sequential": [
            [
             0,
             "#0d0887"
            ],
            [
             0.1111111111111111,
             "#46039f"
            ],
            [
             0.2222222222222222,
             "#7201a8"
            ],
            [
             0.3333333333333333,
             "#9c179e"
            ],
            [
             0.4444444444444444,
             "#bd3786"
            ],
            [
             0.5555555555555556,
             "#d8576b"
            ],
            [
             0.6666666666666666,
             "#ed7953"
            ],
            [
             0.7777777777777778,
             "#fb9f3a"
            ],
            [
             0.8888888888888888,
             "#fdca26"
            ],
            [
             1,
             "#f0f921"
            ]
           ],
           "sequentialminus": [
            [
             0,
             "#0d0887"
            ],
            [
             0.1111111111111111,
             "#46039f"
            ],
            [
             0.2222222222222222,
             "#7201a8"
            ],
            [
             0.3333333333333333,
             "#9c179e"
            ],
            [
             0.4444444444444444,
             "#bd3786"
            ],
            [
             0.5555555555555556,
             "#d8576b"
            ],
            [
             0.6666666666666666,
             "#ed7953"
            ],
            [
             0.7777777777777778,
             "#fb9f3a"
            ],
            [
             0.8888888888888888,
             "#fdca26"
            ],
            [
             1,
             "#f0f921"
            ]
           ]
          },
          "colorway": [
           "#636efa",
           "#EF553B",
           "#00cc96",
           "#ab63fa",
           "#FFA15A",
           "#19d3f3",
           "#FF6692",
           "#B6E880",
           "#FF97FF",
           "#FECB52"
          ],
          "font": {
           "color": "#2a3f5f"
          },
          "geo": {
           "bgcolor": "white",
           "lakecolor": "white",
           "landcolor": "#E5ECF6",
           "showlakes": true,
           "showland": true,
           "subunitcolor": "white"
          },
          "hoverlabel": {
           "align": "left"
          },
          "hovermode": "closest",
          "mapbox": {
           "style": "light"
          },
          "paper_bgcolor": "white",
          "plot_bgcolor": "#E5ECF6",
          "polar": {
           "angularaxis": {
            "gridcolor": "white",
            "linecolor": "white",
            "ticks": ""
           },
           "bgcolor": "#E5ECF6",
           "radialaxis": {
            "gridcolor": "white",
            "linecolor": "white",
            "ticks": ""
           }
          },
          "scene": {
           "xaxis": {
            "backgroundcolor": "#E5ECF6",
            "gridcolor": "white",
            "gridwidth": 2,
            "linecolor": "white",
            "showbackground": true,
            "ticks": "",
            "zerolinecolor": "white"
           },
           "yaxis": {
            "backgroundcolor": "#E5ECF6",
            "gridcolor": "white",
            "gridwidth": 2,
            "linecolor": "white",
            "showbackground": true,
            "ticks": "",
            "zerolinecolor": "white"
           },
           "zaxis": {
            "backgroundcolor": "#E5ECF6",
            "gridcolor": "white",
            "gridwidth": 2,
            "linecolor": "white",
            "showbackground": true,
            "ticks": "",
            "zerolinecolor": "white"
           }
          },
          "shapedefaults": {
           "line": {
            "color": "#2a3f5f"
           }
          },
          "ternary": {
           "aaxis": {
            "gridcolor": "white",
            "linecolor": "white",
            "ticks": ""
           },
           "baxis": {
            "gridcolor": "white",
            "linecolor": "white",
            "ticks": ""
           },
           "bgcolor": "#E5ECF6",
           "caxis": {
            "gridcolor": "white",
            "linecolor": "white",
            "ticks": ""
           }
          },
          "title": {
           "x": 0.05
          },
          "xaxis": {
           "automargin": true,
           "gridcolor": "white",
           "linecolor": "white",
           "ticks": "",
           "title": {
            "standoff": 15
           },
           "zerolinecolor": "white",
           "zerolinewidth": 2
          },
          "yaxis": {
           "automargin": true,
           "gridcolor": "white",
           "linecolor": "white",
           "ticks": "",
           "title": {
            "standoff": 15
           },
           "zerolinecolor": "white",
           "zerolinewidth": 2
          }
         }
        },
        "title": {
         "font": {
          "color": "#4D5663"
         }
        },
        "xaxis": {
         "gridcolor": "#E1E5ED",
         "showgrid": true,
         "tickfont": {
          "color": "#4D5663"
         },
         "title": {
          "font": {
           "color": "#4D5663"
          },
          "text": ""
         },
         "zerolinecolor": "#E1E5ED"
        },
        "yaxis": {
         "gridcolor": "#E1E5ED",
         "showgrid": true,
         "tickfont": {
          "color": "#4D5663"
         },
         "title": {
          "font": {
           "color": "#4D5663"
          },
          "text": ""
         },
         "zerolinecolor": "#E1E5ED"
        }
       }
      },
      "text/html": [
       "<div>                            <div id=\"912cf1b3-11e8-4f2f-a854-652e92470547\" class=\"plotly-graph-div\" style=\"height:525px; width:100%;\"></div>            <script type=\"text/javascript\">                require([\"plotly\"], function(Plotly) {                    window.PLOTLYENV=window.PLOTLYENV || {};\n",
       "                    window.PLOTLYENV.BASE_URL='https://plot.ly';                                    if (document.getElementById(\"912cf1b3-11e8-4f2f-a854-652e92470547\")) {                    Plotly.newPlot(                        \"912cf1b3-11e8-4f2f-a854-652e92470547\",                        [{\"boxpoints\":false,\"line\":{\"width\":1.3},\"marker\":{\"color\":\"rgba(255, 153, 51, 1.0)\"},\"name\":\"A\",\"orientation\":\"v\",\"type\":\"box\",\"y\":[0.6754782943325655,0.5676345968842824,0.1328881905375589,1.5598060655336465,0.20155851821828127,-0.1704342005504423,1.6382714620922407,0.5960123218986514,-1.3967502608685103,-0.4175266016308763,-1.4622195465874601,-0.4418238211952053,-0.9396201592840361,-0.13826138272671448,-0.8850161103888932,1.8504189241059084,-0.5670395261360621,-0.4512300334792727,-1.3659730557435033,-2.2195698637480628,0.3537368438916856,0.8011510663127747,0.9158535282283714,-0.10090839994435542,0.5197315429475056,0.542335737958651,-0.5888216723532752,-0.6521836708748141,-0.3603370324925614,-0.9552920009367587,-2.2849797147682933,0.4519183096797922,1.8842896639403863,1.1340897786363573,0.18372623294508642,-1.0237109171539454,-1.654003775689415,0.32167723924081354,1.2199528459728162,2.929925287765693,-0.8172173302082492,-1.6505368253468742,0.23446380237601086,0.36633509776946094,-1.410517557328883,-1.0885958183031015,1.41325542793449,-1.7040848451332873,0.03122408759234455,-0.32773165815662103,0.6662743949672889,-1.3245476957372868,-0.17648115279437038,0.5131658131312273,0.6254611583947094,-0.9504172530455163,-0.38056513766120054,-1.610980503470945,0.3138510000800175,1.2297882444657389,2.0612538048066784,1.7240572041477948,-0.7228253590566479,0.94310349502881,-2.011162597259447,-0.958977057005299,1.2929502033458233,1.1732776407222958,1.0006976463240154,0.07796519762881553,-0.4987650476806753,0.9764184595883123,-0.014106945313026645,1.5428496733376793,-1.091952698664168,0.4782947233641637,0.2752500905442413,-1.970375548198486,2.0526149916013905,-0.5355825007775484,0.7545279930637657,0.2863047840180115,-1.4025937393898347,0.9342278828335764,0.5624839596099094,1.1447907551414858,0.08961360380327707,-0.4817073117416022,-0.6319061449787831,2.343257288835841,-0.5589302132661069,0.7941564694900235,-0.6152341400737853,0.8544116644485762,0.41297969806072243,1.613308547129756,-0.19679692672583227,-0.2252424721695863,-1.101041110660023,-1.9043054451684438]},{\"boxpoints\":false,\"line\":{\"width\":1.3},\"marker\":{\"color\":\"rgba(55, 128, 191, 1.0)\"},\"name\":\"B\",\"orientation\":\"v\",\"type\":\"box\",\"y\":[-0.2217291443388921,-1.2371542355520193,0.8123200317942653,1.2443210913177807,0.15665068302727347,-0.49601188309501854,-1.5674118452306314,0.8681936946504126,-2.1588947361277944,0.004523669014418451,0.2224144998784712,-1.2047967088202578,-0.48311376209050955,0.5263364911407737,-0.6581025306060428,0.5859815825235286,1.2843285937087179,2.644736009199112,0.6686205905210374,0.41822294352248607,-1.0881429265518046,-0.2848994852918314,-1.0361040136959085,-0.43236691856491044,-1.2151060705229921,-1.0535802751145777,-1.7101393540602814,0.13700496725160327,-0.03639404936203314,-1.167416774354088,1.242824173634307,0.7555947464871007,-0.2358954009781537,1.7245172324003295,0.011408650486823966,1.468500443226724,-1.087452184127168,0.31587470047464566,-0.64965102521893,-0.18741629301066062,0.8643789608770887,0.1374916054046593,0.984915590803966,-0.5749850827580681,-0.31367705412547175,0.43808758668803777,0.5237444006175169,-1.933200354258214,0.24285826858388612,1.0770527002311396,0.8642237475271446,-2.8026546155389527,-1.269688258045194,0.13818859955011006,-0.7032899314435153,-1.6489195836048638,-0.10259177038998696,1.4542546939122745,-0.5144024244857891,-0.16761985394816561,0.18057974799115853,0.9153792574175322,-1.5625254164314404,0.7275749276372556,-0.8410916716639276,1.9702443659279567,1.0105656117288755,-0.33011431585845263,0.05896025014420832,-0.6182716108350788,-1.9307322255876471,-0.423044638561435,0.8242161598940201,0.7473086068676891,-0.06390385057859259,1.411752606998454,0.9490293076629773,0.009991847913236184,0.673086587444426,-0.12972617508859452,-1.4564557150623647,0.36259057467603667,-1.0036754215214432,-0.9933192141036302,-0.8830959235342006,0.0068193462280179895,0.7529614687362064,0.4431679290600762,0.7558262294932983,-1.87289174236139,2.6694207476365075,-0.03194188108580788,-1.1825587513883815,-0.6013875741485867,0.7019085379263506,-0.16891436238867008,-1.3841323134554913,1.5394640870582705,0.8545201128569784,0.8007369757347785]},{\"boxpoints\":false,\"line\":{\"width\":1.3},\"marker\":{\"color\":\"rgba(50, 171, 96, 1.0)\"},\"name\":\"C\",\"orientation\":\"v\",\"type\":\"box\",\"y\":[0.0784437314920932,-0.6274683178765565,0.5298269773625096,-0.026204610060682528,1.37969563905112,-0.8000786645365066,-0.2711977325666523,1.4726782220970804,-0.1547773948945247,0.36473944640186384,-0.08429883514455458,-1.5515062481753192,0.03205552259490915,1.2123548956418295,0.43058253591239376,-0.031117297861683987,1.2414500049237107,-0.8518608567833222,1.3288784861201977,1.439038188138787,2.0834823106921867,-0.13951482153101846,-0.16750640075993256,-2.596922050001098,-1.0344366694712204,0.3874677675410941,0.5300976846874239,0.2650623034781403,1.123632155716323,-1.5572785478146938,0.9594542248327607,-1.2557351597027717,-1.8360982088841002,-0.24171184000833357,1.4535229764820388,0.8434778332317928,-0.1390979275451528,1.4824149640051818,0.45160359629458197,1.2539319476365436,0.5844252340197015,0.10182632011854167,1.3062137404946352,-1.6230105028452513,0.3566611284157468,1.7308316510693198,-0.06209698721137085,0.3939301904060206,0.20960382548586007,-1.3716340073257205,0.2504460076052671,-0.40946158043083053,-0.21669459044608314,-1.3113978351731204,0.7301680983005864,1.6659322095726434,0.08792943985079187,-0.7318878119568767,-0.1752586144857245,0.5437074109358785,1.3754837271082254,-0.7535874213950295,-0.5878948226418345,-0.3610536843703974,1.5204262409258733,-0.43322783712311214,0.8035654301932148,-1.363808961916895,-0.3544827133614749,1.815037702042949,-0.010765358664600296,0.2633014458669041,1.9722229163077225,-0.04229984248442153,-0.723068086967317,-2.0357774272091373,-0.6350456554823967,0.45584953161270303,0.9067616582640229,1.5480251312081699,-0.9928566495105056,-1.28321428258695,0.14135966092114852,0.3578602496552667,-1.488692412653754,0.028263269062368666,0.33757401829189343,-0.7603609722621759,-0.3598963718688637,-2.1381875920361053,-0.7976158836639305,-0.7812095188111328,-0.3107933341853249,-0.4971599535565136,0.6180616657471829,-1.7780361709837333,2.408104100772878,0.6351956483184322,-0.12947334443327432,-1.081991236502051]},{\"boxpoints\":false,\"line\":{\"width\":1.3},\"marker\":{\"color\":\"rgba(128, 0, 128, 1.0)\"},\"name\":\"D\",\"orientation\":\"v\",\"type\":\"box\",\"y\":[1.3176171729312272,-0.9834880323385257,0.6411961838907011,0.669110779707614,0.6909807029692084,-0.4721750437619172,0.9276671831585144,0.004224855025634071,1.5855609956540089,-2.362573108645685,1.449613773680825,0.08392393763461577,1.4106686705608238,-0.14437037332746172,-1.3328496798693938,-0.37652589035939366,-0.4946055490266074,0.31911727130119266,-0.47358087026724893,0.16505353040464632,1.5140781357842468,0.8549407420138733,0.9997998467684753,-0.4938509276561391,0.10886655189684685,-0.45338661443259165,0.801666642873236,-0.10292637171679458,0.1762930848097405,-0.7435744978120609,-0.7828881051060924,-0.5449076415695722,-0.8829502763539031,-0.15656960504724496,-0.23525720483416326,-0.25459885591993897,-0.8960229288435273,-0.9809902582888329,-0.7603113561563828,-1.2892096628807506,0.6302925112779482,-0.3215614608890834,-0.45027111963134125,-0.32699236661256303,-0.9574633336697017,0.2646646949622887,-0.2821900739904608,-0.8968778040618786,-1.4277929316873632,-1.7956111453370855,-1.2976088427692183,-0.5530879697592308,0.3037174086766186,0.5556223777751071,1.7350025669748539,0.20697663508511632,-1.3913773527801154,1.5440766422195047,-0.6241203351108987,-1.923666382511092,0.4556263675530248,-0.349330977819222,-1.4393546206558492,-1.1811152857102594,-0.16930038167070804,-0.1292701898700492,1.037802622208697,0.8296283353615309,-0.9845185162741449,0.5701566902074574,1.6367428805438935,1.945251815442205,1.2840117045761732,-0.16430735928035567,1.1995560974603026,-1.0964725875195462,0.041578630666224685,0.3944469773059546,0.10880517897135732,0.35052365302338484,1.0006118784343434,0.7794816871241417,-0.42771077868518786,-0.4656016344090984,-0.0938138734703827,-1.1208302944841384,0.10526049306349472,0.24486250243615648,-0.8260289717409693,-0.3229038089718978,-0.8161886246811139,0.7359278700604573,-2.053293054572988,-0.7748654206211201,0.7264382231948154,0.3300205040387262,-0.24818884797599722,-0.9396493198859207,1.0587748727876582,0.005321853681144137]}],                        {\"legend\":{\"bgcolor\":\"#F5F6F9\",\"font\":{\"color\":\"#4D5663\"}},\"paper_bgcolor\":\"#F5F6F9\",\"plot_bgcolor\":\"#F5F6F9\",\"template\":{\"data\":{\"bar\":[{\"error_x\":{\"color\":\"#2a3f5f\"},\"error_y\":{\"color\":\"#2a3f5f\"},\"marker\":{\"line\":{\"color\":\"#E5ECF6\",\"width\":0.5},\"pattern\":{\"fillmode\":\"overlay\",\"size\":10,\"solidity\":0.2}},\"type\":\"bar\"}],\"barpolar\":[{\"marker\":{\"line\":{\"color\":\"#E5ECF6\",\"width\":0.5},\"pattern\":{\"fillmode\":\"overlay\",\"size\":10,\"solidity\":0.2}},\"type\":\"barpolar\"}],\"carpet\":[{\"aaxis\":{\"endlinecolor\":\"#2a3f5f\",\"gridcolor\":\"white\",\"linecolor\":\"white\",\"minorgridcolor\":\"white\",\"startlinecolor\":\"#2a3f5f\"},\"baxis\":{\"endlinecolor\":\"#2a3f5f\",\"gridcolor\":\"white\",\"linecolor\":\"white\",\"minorgridcolor\":\"white\",\"startlinecolor\":\"#2a3f5f\"},\"type\":\"carpet\"}],\"choropleth\":[{\"colorbar\":{\"outlinewidth\":0,\"ticks\":\"\"},\"type\":\"choropleth\"}],\"contour\":[{\"colorbar\":{\"outlinewidth\":0,\"ticks\":\"\"},\"colorscale\":[[0.0,\"#0d0887\"],[0.1111111111111111,\"#46039f\"],[0.2222222222222222,\"#7201a8\"],[0.3333333333333333,\"#9c179e\"],[0.4444444444444444,\"#bd3786\"],[0.5555555555555556,\"#d8576b\"],[0.6666666666666666,\"#ed7953\"],[0.7777777777777778,\"#fb9f3a\"],[0.8888888888888888,\"#fdca26\"],[1.0,\"#f0f921\"]],\"type\":\"contour\"}],\"contourcarpet\":[{\"colorbar\":{\"outlinewidth\":0,\"ticks\":\"\"},\"type\":\"contourcarpet\"}],\"heatmap\":[{\"colorbar\":{\"outlinewidth\":0,\"ticks\":\"\"},\"colorscale\":[[0.0,\"#0d0887\"],[0.1111111111111111,\"#46039f\"],[0.2222222222222222,\"#7201a8\"],[0.3333333333333333,\"#9c179e\"],[0.4444444444444444,\"#bd3786\"],[0.5555555555555556,\"#d8576b\"],[0.6666666666666666,\"#ed7953\"],[0.7777777777777778,\"#fb9f3a\"],[0.8888888888888888,\"#fdca26\"],[1.0,\"#f0f921\"]],\"type\":\"heatmap\"}],\"heatmapgl\":[{\"colorbar\":{\"outlinewidth\":0,\"ticks\":\"\"},\"colorscale\":[[0.0,\"#0d0887\"],[0.1111111111111111,\"#46039f\"],[0.2222222222222222,\"#7201a8\"],[0.3333333333333333,\"#9c179e\"],[0.4444444444444444,\"#bd3786\"],[0.5555555555555556,\"#d8576b\"],[0.6666666666666666,\"#ed7953\"],[0.7777777777777778,\"#fb9f3a\"],[0.8888888888888888,\"#fdca26\"],[1.0,\"#f0f921\"]],\"type\":\"heatmapgl\"}],\"histogram\":[{\"marker\":{\"pattern\":{\"fillmode\":\"overlay\",\"size\":10,\"solidity\":0.2}},\"type\":\"histogram\"}],\"histogram2d\":[{\"colorbar\":{\"outlinewidth\":0,\"ticks\":\"\"},\"colorscale\":[[0.0,\"#0d0887\"],[0.1111111111111111,\"#46039f\"],[0.2222222222222222,\"#7201a8\"],[0.3333333333333333,\"#9c179e\"],[0.4444444444444444,\"#bd3786\"],[0.5555555555555556,\"#d8576b\"],[0.6666666666666666,\"#ed7953\"],[0.7777777777777778,\"#fb9f3a\"],[0.8888888888888888,\"#fdca26\"],[1.0,\"#f0f921\"]],\"type\":\"histogram2d\"}],\"histogram2dcontour\":[{\"colorbar\":{\"outlinewidth\":0,\"ticks\":\"\"},\"colorscale\":[[0.0,\"#0d0887\"],[0.1111111111111111,\"#46039f\"],[0.2222222222222222,\"#7201a8\"],[0.3333333333333333,\"#9c179e\"],[0.4444444444444444,\"#bd3786\"],[0.5555555555555556,\"#d8576b\"],[0.6666666666666666,\"#ed7953\"],[0.7777777777777778,\"#fb9f3a\"],[0.8888888888888888,\"#fdca26\"],[1.0,\"#f0f921\"]],\"type\":\"histogram2dcontour\"}],\"mesh3d\":[{\"colorbar\":{\"outlinewidth\":0,\"ticks\":\"\"},\"type\":\"mesh3d\"}],\"parcoords\":[{\"line\":{\"colorbar\":{\"outlinewidth\":0,\"ticks\":\"\"}},\"type\":\"parcoords\"}],\"pie\":[{\"automargin\":true,\"type\":\"pie\"}],\"scatter\":[{\"marker\":{\"colorbar\":{\"outlinewidth\":0,\"ticks\":\"\"}},\"type\":\"scatter\"}],\"scatter3d\":[{\"line\":{\"colorbar\":{\"outlinewidth\":0,\"ticks\":\"\"}},\"marker\":{\"colorbar\":{\"outlinewidth\":0,\"ticks\":\"\"}},\"type\":\"scatter3d\"}],\"scattercarpet\":[{\"marker\":{\"colorbar\":{\"outlinewidth\":0,\"ticks\":\"\"}},\"type\":\"scattercarpet\"}],\"scattergeo\":[{\"marker\":{\"colorbar\":{\"outlinewidth\":0,\"ticks\":\"\"}},\"type\":\"scattergeo\"}],\"scattergl\":[{\"marker\":{\"colorbar\":{\"outlinewidth\":0,\"ticks\":\"\"}},\"type\":\"scattergl\"}],\"scattermapbox\":[{\"marker\":{\"colorbar\":{\"outlinewidth\":0,\"ticks\":\"\"}},\"type\":\"scattermapbox\"}],\"scatterpolar\":[{\"marker\":{\"colorbar\":{\"outlinewidth\":0,\"ticks\":\"\"}},\"type\":\"scatterpolar\"}],\"scatterpolargl\":[{\"marker\":{\"colorbar\":{\"outlinewidth\":0,\"ticks\":\"\"}},\"type\":\"scatterpolargl\"}],\"scatterternary\":[{\"marker\":{\"colorbar\":{\"outlinewidth\":0,\"ticks\":\"\"}},\"type\":\"scatterternary\"}],\"surface\":[{\"colorbar\":{\"outlinewidth\":0,\"ticks\":\"\"},\"colorscale\":[[0.0,\"#0d0887\"],[0.1111111111111111,\"#46039f\"],[0.2222222222222222,\"#7201a8\"],[0.3333333333333333,\"#9c179e\"],[0.4444444444444444,\"#bd3786\"],[0.5555555555555556,\"#d8576b\"],[0.6666666666666666,\"#ed7953\"],[0.7777777777777778,\"#fb9f3a\"],[0.8888888888888888,\"#fdca26\"],[1.0,\"#f0f921\"]],\"type\":\"surface\"}],\"table\":[{\"cells\":{\"fill\":{\"color\":\"#EBF0F8\"},\"line\":{\"color\":\"white\"}},\"header\":{\"fill\":{\"color\":\"#C8D4E3\"},\"line\":{\"color\":\"white\"}},\"type\":\"table\"}]},\"layout\":{\"annotationdefaults\":{\"arrowcolor\":\"#2a3f5f\",\"arrowhead\":0,\"arrowwidth\":1},\"autotypenumbers\":\"strict\",\"coloraxis\":{\"colorbar\":{\"outlinewidth\":0,\"ticks\":\"\"}},\"colorscale\":{\"diverging\":[[0,\"#8e0152\"],[0.1,\"#c51b7d\"],[0.2,\"#de77ae\"],[0.3,\"#f1b6da\"],[0.4,\"#fde0ef\"],[0.5,\"#f7f7f7\"],[0.6,\"#e6f5d0\"],[0.7,\"#b8e186\"],[0.8,\"#7fbc41\"],[0.9,\"#4d9221\"],[1,\"#276419\"]],\"sequential\":[[0.0,\"#0d0887\"],[0.1111111111111111,\"#46039f\"],[0.2222222222222222,\"#7201a8\"],[0.3333333333333333,\"#9c179e\"],[0.4444444444444444,\"#bd3786\"],[0.5555555555555556,\"#d8576b\"],[0.6666666666666666,\"#ed7953\"],[0.7777777777777778,\"#fb9f3a\"],[0.8888888888888888,\"#fdca26\"],[1.0,\"#f0f921\"]],\"sequentialminus\":[[0.0,\"#0d0887\"],[0.1111111111111111,\"#46039f\"],[0.2222222222222222,\"#7201a8\"],[0.3333333333333333,\"#9c179e\"],[0.4444444444444444,\"#bd3786\"],[0.5555555555555556,\"#d8576b\"],[0.6666666666666666,\"#ed7953\"],[0.7777777777777778,\"#fb9f3a\"],[0.8888888888888888,\"#fdca26\"],[1.0,\"#f0f921\"]]},\"colorway\":[\"#636efa\",\"#EF553B\",\"#00cc96\",\"#ab63fa\",\"#FFA15A\",\"#19d3f3\",\"#FF6692\",\"#B6E880\",\"#FF97FF\",\"#FECB52\"],\"font\":{\"color\":\"#2a3f5f\"},\"geo\":{\"bgcolor\":\"white\",\"lakecolor\":\"white\",\"landcolor\":\"#E5ECF6\",\"showlakes\":true,\"showland\":true,\"subunitcolor\":\"white\"},\"hoverlabel\":{\"align\":\"left\"},\"hovermode\":\"closest\",\"mapbox\":{\"style\":\"light\"},\"paper_bgcolor\":\"white\",\"plot_bgcolor\":\"#E5ECF6\",\"polar\":{\"angularaxis\":{\"gridcolor\":\"white\",\"linecolor\":\"white\",\"ticks\":\"\"},\"bgcolor\":\"#E5ECF6\",\"radialaxis\":{\"gridcolor\":\"white\",\"linecolor\":\"white\",\"ticks\":\"\"}},\"scene\":{\"xaxis\":{\"backgroundcolor\":\"#E5ECF6\",\"gridcolor\":\"white\",\"gridwidth\":2,\"linecolor\":\"white\",\"showbackground\":true,\"ticks\":\"\",\"zerolinecolor\":\"white\"},\"yaxis\":{\"backgroundcolor\":\"#E5ECF6\",\"gridcolor\":\"white\",\"gridwidth\":2,\"linecolor\":\"white\",\"showbackground\":true,\"ticks\":\"\",\"zerolinecolor\":\"white\"},\"zaxis\":{\"backgroundcolor\":\"#E5ECF6\",\"gridcolor\":\"white\",\"gridwidth\":2,\"linecolor\":\"white\",\"showbackground\":true,\"ticks\":\"\",\"zerolinecolor\":\"white\"}},\"shapedefaults\":{\"line\":{\"color\":\"#2a3f5f\"}},\"ternary\":{\"aaxis\":{\"gridcolor\":\"white\",\"linecolor\":\"white\",\"ticks\":\"\"},\"baxis\":{\"gridcolor\":\"white\",\"linecolor\":\"white\",\"ticks\":\"\"},\"bgcolor\":\"#E5ECF6\",\"caxis\":{\"gridcolor\":\"white\",\"linecolor\":\"white\",\"ticks\":\"\"}},\"title\":{\"x\":0.05},\"xaxis\":{\"automargin\":true,\"gridcolor\":\"white\",\"linecolor\":\"white\",\"ticks\":\"\",\"title\":{\"standoff\":15},\"zerolinecolor\":\"white\",\"zerolinewidth\":2},\"yaxis\":{\"automargin\":true,\"gridcolor\":\"white\",\"linecolor\":\"white\",\"ticks\":\"\",\"title\":{\"standoff\":15},\"zerolinecolor\":\"white\",\"zerolinewidth\":2}}},\"title\":{\"font\":{\"color\":\"#4D5663\"}},\"xaxis\":{\"gridcolor\":\"#E1E5ED\",\"showgrid\":true,\"tickfont\":{\"color\":\"#4D5663\"},\"title\":{\"font\":{\"color\":\"#4D5663\"},\"text\":\"\"},\"zerolinecolor\":\"#E1E5ED\"},\"yaxis\":{\"gridcolor\":\"#E1E5ED\",\"showgrid\":true,\"tickfont\":{\"color\":\"#4D5663\"},\"title\":{\"font\":{\"color\":\"#4D5663\"},\"text\":\"\"},\"zerolinecolor\":\"#E1E5ED\"}},                        {\"showLink\": true, \"linkText\": \"Export to plot.ly\", \"plotlyServerURL\": \"https://plot.ly\", \"responsive\": true}                    ).then(function(){\n",
       "                            \n",
       "var gd = document.getElementById('912cf1b3-11e8-4f2f-a854-652e92470547');\n",
       "var x = new MutationObserver(function (mutations, observer) {{\n",
       "        var display = window.getComputedStyle(gd).display;\n",
       "        if (!display || display === 'none') {{\n",
       "            console.log([gd, 'removed!']);\n",
       "            Plotly.purge(gd);\n",
       "            observer.disconnect();\n",
       "        }}\n",
       "}});\n",
       "\n",
       "// Listen for the removal of the full notebook cells\n",
       "var notebookContainer = gd.closest('#notebook-container');\n",
       "if (notebookContainer) {{\n",
       "    x.observe(notebookContainer, {childList: true});\n",
       "}}\n",
       "\n",
       "// Listen for the clearing of the current output cell\n",
       "var outputEl = gd.closest('.output');\n",
       "if (outputEl) {{\n",
       "    x.observe(outputEl, {childList: true});\n",
       "}}\n",
       "\n",
       "                        })                };                });            </script>        </div>"
      ]
     },
     "metadata": {},
     "output_type": "display_data"
    }
   ],
   "source": [
    "df.iplot(kind='box')"
   ]
  },
  {
   "cell_type": "markdown",
   "metadata": {},
   "source": [
    "## 3d Surface"
   ]
  },
  {
   "cell_type": "code",
   "execution_count": 16,
   "metadata": {},
   "outputs": [
    {
     "data": {
      "application/vnd.plotly.v1+json": {
       "config": {
        "linkText": "Export to plot.ly",
        "plotlyServerURL": "https://plot.ly",
        "showLink": true
       },
       "data": [
        {
         "colorscale": [
          [
           0,
           "rgb(165,0,38)"
          ],
          [
           0.1,
           "rgb(215,48,39)"
          ],
          [
           0.2,
           "rgb(244,109,67)"
          ],
          [
           0.3,
           "rgb(253,174,97)"
          ],
          [
           0.4,
           "rgb(254,224,144)"
          ],
          [
           0.5,
           "rgb(255,255,191)"
          ],
          [
           0.6,
           "rgb(224,243,248)"
          ],
          [
           0.7,
           "rgb(171,217,233)"
          ],
          [
           0.8,
           "rgb(116,173,209)"
          ],
          [
           0.9,
           "rgb(69,117,180)"
          ],
          [
           1,
           "rgb(49,54,149)"
          ]
         ],
         "type": "surface",
         "x": [
          0,
          1,
          2,
          3,
          4
         ],
         "y": [
          "x",
          "y",
          "z"
         ],
         "z": [
          [
           1,
           2,
           3,
           4,
           5
          ],
          [
           10,
           20,
           30,
           20,
           10
          ],
          [
           5,
           4,
           3,
           2,
           1
          ]
         ]
        }
       ],
       "layout": {
        "legend": {
         "bgcolor": "#F5F6F9",
         "font": {
          "color": "#4D5663"
         }
        },
        "paper_bgcolor": "#F5F6F9",
        "plot_bgcolor": "#F5F6F9",
        "template": {
         "data": {
          "bar": [
           {
            "error_x": {
             "color": "#2a3f5f"
            },
            "error_y": {
             "color": "#2a3f5f"
            },
            "marker": {
             "line": {
              "color": "#E5ECF6",
              "width": 0.5
             },
             "pattern": {
              "fillmode": "overlay",
              "size": 10,
              "solidity": 0.2
             }
            },
            "type": "bar"
           }
          ],
          "barpolar": [
           {
            "marker": {
             "line": {
              "color": "#E5ECF6",
              "width": 0.5
             },
             "pattern": {
              "fillmode": "overlay",
              "size": 10,
              "solidity": 0.2
             }
            },
            "type": "barpolar"
           }
          ],
          "carpet": [
           {
            "aaxis": {
             "endlinecolor": "#2a3f5f",
             "gridcolor": "white",
             "linecolor": "white",
             "minorgridcolor": "white",
             "startlinecolor": "#2a3f5f"
            },
            "baxis": {
             "endlinecolor": "#2a3f5f",
             "gridcolor": "white",
             "linecolor": "white",
             "minorgridcolor": "white",
             "startlinecolor": "#2a3f5f"
            },
            "type": "carpet"
           }
          ],
          "choropleth": [
           {
            "colorbar": {
             "outlinewidth": 0,
             "ticks": ""
            },
            "type": "choropleth"
           }
          ],
          "contour": [
           {
            "colorbar": {
             "outlinewidth": 0,
             "ticks": ""
            },
            "colorscale": [
             [
              0,
              "#0d0887"
             ],
             [
              0.1111111111111111,
              "#46039f"
             ],
             [
              0.2222222222222222,
              "#7201a8"
             ],
             [
              0.3333333333333333,
              "#9c179e"
             ],
             [
              0.4444444444444444,
              "#bd3786"
             ],
             [
              0.5555555555555556,
              "#d8576b"
             ],
             [
              0.6666666666666666,
              "#ed7953"
             ],
             [
              0.7777777777777778,
              "#fb9f3a"
             ],
             [
              0.8888888888888888,
              "#fdca26"
             ],
             [
              1,
              "#f0f921"
             ]
            ],
            "type": "contour"
           }
          ],
          "contourcarpet": [
           {
            "colorbar": {
             "outlinewidth": 0,
             "ticks": ""
            },
            "type": "contourcarpet"
           }
          ],
          "heatmap": [
           {
            "colorbar": {
             "outlinewidth": 0,
             "ticks": ""
            },
            "colorscale": [
             [
              0,
              "#0d0887"
             ],
             [
              0.1111111111111111,
              "#46039f"
             ],
             [
              0.2222222222222222,
              "#7201a8"
             ],
             [
              0.3333333333333333,
              "#9c179e"
             ],
             [
              0.4444444444444444,
              "#bd3786"
             ],
             [
              0.5555555555555556,
              "#d8576b"
             ],
             [
              0.6666666666666666,
              "#ed7953"
             ],
             [
              0.7777777777777778,
              "#fb9f3a"
             ],
             [
              0.8888888888888888,
              "#fdca26"
             ],
             [
              1,
              "#f0f921"
             ]
            ],
            "type": "heatmap"
           }
          ],
          "heatmapgl": [
           {
            "colorbar": {
             "outlinewidth": 0,
             "ticks": ""
            },
            "colorscale": [
             [
              0,
              "#0d0887"
             ],
             [
              0.1111111111111111,
              "#46039f"
             ],
             [
              0.2222222222222222,
              "#7201a8"
             ],
             [
              0.3333333333333333,
              "#9c179e"
             ],
             [
              0.4444444444444444,
              "#bd3786"
             ],
             [
              0.5555555555555556,
              "#d8576b"
             ],
             [
              0.6666666666666666,
              "#ed7953"
             ],
             [
              0.7777777777777778,
              "#fb9f3a"
             ],
             [
              0.8888888888888888,
              "#fdca26"
             ],
             [
              1,
              "#f0f921"
             ]
            ],
            "type": "heatmapgl"
           }
          ],
          "histogram": [
           {
            "marker": {
             "pattern": {
              "fillmode": "overlay",
              "size": 10,
              "solidity": 0.2
             }
            },
            "type": "histogram"
           }
          ],
          "histogram2d": [
           {
            "colorbar": {
             "outlinewidth": 0,
             "ticks": ""
            },
            "colorscale": [
             [
              0,
              "#0d0887"
             ],
             [
              0.1111111111111111,
              "#46039f"
             ],
             [
              0.2222222222222222,
              "#7201a8"
             ],
             [
              0.3333333333333333,
              "#9c179e"
             ],
             [
              0.4444444444444444,
              "#bd3786"
             ],
             [
              0.5555555555555556,
              "#d8576b"
             ],
             [
              0.6666666666666666,
              "#ed7953"
             ],
             [
              0.7777777777777778,
              "#fb9f3a"
             ],
             [
              0.8888888888888888,
              "#fdca26"
             ],
             [
              1,
              "#f0f921"
             ]
            ],
            "type": "histogram2d"
           }
          ],
          "histogram2dcontour": [
           {
            "colorbar": {
             "outlinewidth": 0,
             "ticks": ""
            },
            "colorscale": [
             [
              0,
              "#0d0887"
             ],
             [
              0.1111111111111111,
              "#46039f"
             ],
             [
              0.2222222222222222,
              "#7201a8"
             ],
             [
              0.3333333333333333,
              "#9c179e"
             ],
             [
              0.4444444444444444,
              "#bd3786"
             ],
             [
              0.5555555555555556,
              "#d8576b"
             ],
             [
              0.6666666666666666,
              "#ed7953"
             ],
             [
              0.7777777777777778,
              "#fb9f3a"
             ],
             [
              0.8888888888888888,
              "#fdca26"
             ],
             [
              1,
              "#f0f921"
             ]
            ],
            "type": "histogram2dcontour"
           }
          ],
          "mesh3d": [
           {
            "colorbar": {
             "outlinewidth": 0,
             "ticks": ""
            },
            "type": "mesh3d"
           }
          ],
          "parcoords": [
           {
            "line": {
             "colorbar": {
              "outlinewidth": 0,
              "ticks": ""
             }
            },
            "type": "parcoords"
           }
          ],
          "pie": [
           {
            "automargin": true,
            "type": "pie"
           }
          ],
          "scatter": [
           {
            "marker": {
             "colorbar": {
              "outlinewidth": 0,
              "ticks": ""
             }
            },
            "type": "scatter"
           }
          ],
          "scatter3d": [
           {
            "line": {
             "colorbar": {
              "outlinewidth": 0,
              "ticks": ""
             }
            },
            "marker": {
             "colorbar": {
              "outlinewidth": 0,
              "ticks": ""
             }
            },
            "type": "scatter3d"
           }
          ],
          "scattercarpet": [
           {
            "marker": {
             "colorbar": {
              "outlinewidth": 0,
              "ticks": ""
             }
            },
            "type": "scattercarpet"
           }
          ],
          "scattergeo": [
           {
            "marker": {
             "colorbar": {
              "outlinewidth": 0,
              "ticks": ""
             }
            },
            "type": "scattergeo"
           }
          ],
          "scattergl": [
           {
            "marker": {
             "colorbar": {
              "outlinewidth": 0,
              "ticks": ""
             }
            },
            "type": "scattergl"
           }
          ],
          "scattermapbox": [
           {
            "marker": {
             "colorbar": {
              "outlinewidth": 0,
              "ticks": ""
             }
            },
            "type": "scattermapbox"
           }
          ],
          "scatterpolar": [
           {
            "marker": {
             "colorbar": {
              "outlinewidth": 0,
              "ticks": ""
             }
            },
            "type": "scatterpolar"
           }
          ],
          "scatterpolargl": [
           {
            "marker": {
             "colorbar": {
              "outlinewidth": 0,
              "ticks": ""
             }
            },
            "type": "scatterpolargl"
           }
          ],
          "scatterternary": [
           {
            "marker": {
             "colorbar": {
              "outlinewidth": 0,
              "ticks": ""
             }
            },
            "type": "scatterternary"
           }
          ],
          "surface": [
           {
            "colorbar": {
             "outlinewidth": 0,
             "ticks": ""
            },
            "colorscale": [
             [
              0,
              "#0d0887"
             ],
             [
              0.1111111111111111,
              "#46039f"
             ],
             [
              0.2222222222222222,
              "#7201a8"
             ],
             [
              0.3333333333333333,
              "#9c179e"
             ],
             [
              0.4444444444444444,
              "#bd3786"
             ],
             [
              0.5555555555555556,
              "#d8576b"
             ],
             [
              0.6666666666666666,
              "#ed7953"
             ],
             [
              0.7777777777777778,
              "#fb9f3a"
             ],
             [
              0.8888888888888888,
              "#fdca26"
             ],
             [
              1,
              "#f0f921"
             ]
            ],
            "type": "surface"
           }
          ],
          "table": [
           {
            "cells": {
             "fill": {
              "color": "#EBF0F8"
             },
             "line": {
              "color": "white"
             }
            },
            "header": {
             "fill": {
              "color": "#C8D4E3"
             },
             "line": {
              "color": "white"
             }
            },
            "type": "table"
           }
          ]
         },
         "layout": {
          "annotationdefaults": {
           "arrowcolor": "#2a3f5f",
           "arrowhead": 0,
           "arrowwidth": 1
          },
          "autotypenumbers": "strict",
          "coloraxis": {
           "colorbar": {
            "outlinewidth": 0,
            "ticks": ""
           }
          },
          "colorscale": {
           "diverging": [
            [
             0,
             "#8e0152"
            ],
            [
             0.1,
             "#c51b7d"
            ],
            [
             0.2,
             "#de77ae"
            ],
            [
             0.3,
             "#f1b6da"
            ],
            [
             0.4,
             "#fde0ef"
            ],
            [
             0.5,
             "#f7f7f7"
            ],
            [
             0.6,
             "#e6f5d0"
            ],
            [
             0.7,
             "#b8e186"
            ],
            [
             0.8,
             "#7fbc41"
            ],
            [
             0.9,
             "#4d9221"
            ],
            [
             1,
             "#276419"
            ]
           ],
           "sequential": [
            [
             0,
             "#0d0887"
            ],
            [
             0.1111111111111111,
             "#46039f"
            ],
            [
             0.2222222222222222,
             "#7201a8"
            ],
            [
             0.3333333333333333,
             "#9c179e"
            ],
            [
             0.4444444444444444,
             "#bd3786"
            ],
            [
             0.5555555555555556,
             "#d8576b"
            ],
            [
             0.6666666666666666,
             "#ed7953"
            ],
            [
             0.7777777777777778,
             "#fb9f3a"
            ],
            [
             0.8888888888888888,
             "#fdca26"
            ],
            [
             1,
             "#f0f921"
            ]
           ],
           "sequentialminus": [
            [
             0,
             "#0d0887"
            ],
            [
             0.1111111111111111,
             "#46039f"
            ],
            [
             0.2222222222222222,
             "#7201a8"
            ],
            [
             0.3333333333333333,
             "#9c179e"
            ],
            [
             0.4444444444444444,
             "#bd3786"
            ],
            [
             0.5555555555555556,
             "#d8576b"
            ],
            [
             0.6666666666666666,
             "#ed7953"
            ],
            [
             0.7777777777777778,
             "#fb9f3a"
            ],
            [
             0.8888888888888888,
             "#fdca26"
            ],
            [
             1,
             "#f0f921"
            ]
           ]
          },
          "colorway": [
           "#636efa",
           "#EF553B",
           "#00cc96",
           "#ab63fa",
           "#FFA15A",
           "#19d3f3",
           "#FF6692",
           "#B6E880",
           "#FF97FF",
           "#FECB52"
          ],
          "font": {
           "color": "#2a3f5f"
          },
          "geo": {
           "bgcolor": "white",
           "lakecolor": "white",
           "landcolor": "#E5ECF6",
           "showlakes": true,
           "showland": true,
           "subunitcolor": "white"
          },
          "hoverlabel": {
           "align": "left"
          },
          "hovermode": "closest",
          "mapbox": {
           "style": "light"
          },
          "paper_bgcolor": "white",
          "plot_bgcolor": "#E5ECF6",
          "polar": {
           "angularaxis": {
            "gridcolor": "white",
            "linecolor": "white",
            "ticks": ""
           },
           "bgcolor": "#E5ECF6",
           "radialaxis": {
            "gridcolor": "white",
            "linecolor": "white",
            "ticks": ""
           }
          },
          "scene": {
           "xaxis": {
            "backgroundcolor": "#E5ECF6",
            "gridcolor": "white",
            "gridwidth": 2,
            "linecolor": "white",
            "showbackground": true,
            "ticks": "",
            "zerolinecolor": "white"
           },
           "yaxis": {
            "backgroundcolor": "#E5ECF6",
            "gridcolor": "white",
            "gridwidth": 2,
            "linecolor": "white",
            "showbackground": true,
            "ticks": "",
            "zerolinecolor": "white"
           },
           "zaxis": {
            "backgroundcolor": "#E5ECF6",
            "gridcolor": "white",
            "gridwidth": 2,
            "linecolor": "white",
            "showbackground": true,
            "ticks": "",
            "zerolinecolor": "white"
           }
          },
          "shapedefaults": {
           "line": {
            "color": "#2a3f5f"
           }
          },
          "ternary": {
           "aaxis": {
            "gridcolor": "white",
            "linecolor": "white",
            "ticks": ""
           },
           "baxis": {
            "gridcolor": "white",
            "linecolor": "white",
            "ticks": ""
           },
           "bgcolor": "#E5ECF6",
           "caxis": {
            "gridcolor": "white",
            "linecolor": "white",
            "ticks": ""
           }
          },
          "title": {
           "x": 0.05
          },
          "xaxis": {
           "automargin": true,
           "gridcolor": "white",
           "linecolor": "white",
           "ticks": "",
           "title": {
            "standoff": 15
           },
           "zerolinecolor": "white",
           "zerolinewidth": 2
          },
          "yaxis": {
           "automargin": true,
           "gridcolor": "white",
           "linecolor": "white",
           "ticks": "",
           "title": {
            "standoff": 15
           },
           "zerolinecolor": "white",
           "zerolinewidth": 2
          }
         }
        },
        "title": {
         "font": {
          "color": "#4D5663"
         }
        },
        "xaxis": {
         "gridcolor": "#E1E5ED",
         "showgrid": true,
         "tickfont": {
          "color": "#4D5663"
         },
         "title": {
          "font": {
           "color": "#4D5663"
          },
          "text": ""
         },
         "zerolinecolor": "#E1E5ED"
        },
        "yaxis": {
         "gridcolor": "#E1E5ED",
         "showgrid": true,
         "tickfont": {
          "color": "#4D5663"
         },
         "title": {
          "font": {
           "color": "#4D5663"
          },
          "text": ""
         },
         "zerolinecolor": "#E1E5ED"
        }
       }
      },
      "text/html": [
       "<div>                            <div id=\"4cb5492c-e178-4a99-a193-304cd82d554a\" class=\"plotly-graph-div\" style=\"height:525px; width:100%;\"></div>            <script type=\"text/javascript\">                require([\"plotly\"], function(Plotly) {                    window.PLOTLYENV=window.PLOTLYENV || {};\n",
       "                    window.PLOTLYENV.BASE_URL='https://plot.ly';                                    if (document.getElementById(\"4cb5492c-e178-4a99-a193-304cd82d554a\")) {                    Plotly.newPlot(                        \"4cb5492c-e178-4a99-a193-304cd82d554a\",                        [{\"colorscale\":[[0.0,\"rgb(165,0,38)\"],[0.1,\"rgb(215,48,39)\"],[0.2,\"rgb(244,109,67)\"],[0.3,\"rgb(253,174,97)\"],[0.4,\"rgb(254,224,144)\"],[0.5,\"rgb(255,255,191)\"],[0.6,\"rgb(224,243,248)\"],[0.7,\"rgb(171,217,233)\"],[0.8,\"rgb(116,173,209)\"],[0.9,\"rgb(69,117,180)\"],[1.0,\"rgb(49,54,149)\"]],\"type\":\"surface\",\"x\":[0,1,2,3,4],\"y\":[\"x\",\"y\",\"z\"],\"z\":[[1,2,3,4,5],[10,20,30,20,10],[5,4,3,2,1]]}],                        {\"legend\":{\"bgcolor\":\"#F5F6F9\",\"font\":{\"color\":\"#4D5663\"}},\"paper_bgcolor\":\"#F5F6F9\",\"plot_bgcolor\":\"#F5F6F9\",\"template\":{\"data\":{\"bar\":[{\"error_x\":{\"color\":\"#2a3f5f\"},\"error_y\":{\"color\":\"#2a3f5f\"},\"marker\":{\"line\":{\"color\":\"#E5ECF6\",\"width\":0.5},\"pattern\":{\"fillmode\":\"overlay\",\"size\":10,\"solidity\":0.2}},\"type\":\"bar\"}],\"barpolar\":[{\"marker\":{\"line\":{\"color\":\"#E5ECF6\",\"width\":0.5},\"pattern\":{\"fillmode\":\"overlay\",\"size\":10,\"solidity\":0.2}},\"type\":\"barpolar\"}],\"carpet\":[{\"aaxis\":{\"endlinecolor\":\"#2a3f5f\",\"gridcolor\":\"white\",\"linecolor\":\"white\",\"minorgridcolor\":\"white\",\"startlinecolor\":\"#2a3f5f\"},\"baxis\":{\"endlinecolor\":\"#2a3f5f\",\"gridcolor\":\"white\",\"linecolor\":\"white\",\"minorgridcolor\":\"white\",\"startlinecolor\":\"#2a3f5f\"},\"type\":\"carpet\"}],\"choropleth\":[{\"colorbar\":{\"outlinewidth\":0,\"ticks\":\"\"},\"type\":\"choropleth\"}],\"contour\":[{\"colorbar\":{\"outlinewidth\":0,\"ticks\":\"\"},\"colorscale\":[[0.0,\"#0d0887\"],[0.1111111111111111,\"#46039f\"],[0.2222222222222222,\"#7201a8\"],[0.3333333333333333,\"#9c179e\"],[0.4444444444444444,\"#bd3786\"],[0.5555555555555556,\"#d8576b\"],[0.6666666666666666,\"#ed7953\"],[0.7777777777777778,\"#fb9f3a\"],[0.8888888888888888,\"#fdca26\"],[1.0,\"#f0f921\"]],\"type\":\"contour\"}],\"contourcarpet\":[{\"colorbar\":{\"outlinewidth\":0,\"ticks\":\"\"},\"type\":\"contourcarpet\"}],\"heatmap\":[{\"colorbar\":{\"outlinewidth\":0,\"ticks\":\"\"},\"colorscale\":[[0.0,\"#0d0887\"],[0.1111111111111111,\"#46039f\"],[0.2222222222222222,\"#7201a8\"],[0.3333333333333333,\"#9c179e\"],[0.4444444444444444,\"#bd3786\"],[0.5555555555555556,\"#d8576b\"],[0.6666666666666666,\"#ed7953\"],[0.7777777777777778,\"#fb9f3a\"],[0.8888888888888888,\"#fdca26\"],[1.0,\"#f0f921\"]],\"type\":\"heatmap\"}],\"heatmapgl\":[{\"colorbar\":{\"outlinewidth\":0,\"ticks\":\"\"},\"colorscale\":[[0.0,\"#0d0887\"],[0.1111111111111111,\"#46039f\"],[0.2222222222222222,\"#7201a8\"],[0.3333333333333333,\"#9c179e\"],[0.4444444444444444,\"#bd3786\"],[0.5555555555555556,\"#d8576b\"],[0.6666666666666666,\"#ed7953\"],[0.7777777777777778,\"#fb9f3a\"],[0.8888888888888888,\"#fdca26\"],[1.0,\"#f0f921\"]],\"type\":\"heatmapgl\"}],\"histogram\":[{\"marker\":{\"pattern\":{\"fillmode\":\"overlay\",\"size\":10,\"solidity\":0.2}},\"type\":\"histogram\"}],\"histogram2d\":[{\"colorbar\":{\"outlinewidth\":0,\"ticks\":\"\"},\"colorscale\":[[0.0,\"#0d0887\"],[0.1111111111111111,\"#46039f\"],[0.2222222222222222,\"#7201a8\"],[0.3333333333333333,\"#9c179e\"],[0.4444444444444444,\"#bd3786\"],[0.5555555555555556,\"#d8576b\"],[0.6666666666666666,\"#ed7953\"],[0.7777777777777778,\"#fb9f3a\"],[0.8888888888888888,\"#fdca26\"],[1.0,\"#f0f921\"]],\"type\":\"histogram2d\"}],\"histogram2dcontour\":[{\"colorbar\":{\"outlinewidth\":0,\"ticks\":\"\"},\"colorscale\":[[0.0,\"#0d0887\"],[0.1111111111111111,\"#46039f\"],[0.2222222222222222,\"#7201a8\"],[0.3333333333333333,\"#9c179e\"],[0.4444444444444444,\"#bd3786\"],[0.5555555555555556,\"#d8576b\"],[0.6666666666666666,\"#ed7953\"],[0.7777777777777778,\"#fb9f3a\"],[0.8888888888888888,\"#fdca26\"],[1.0,\"#f0f921\"]],\"type\":\"histogram2dcontour\"}],\"mesh3d\":[{\"colorbar\":{\"outlinewidth\":0,\"ticks\":\"\"},\"type\":\"mesh3d\"}],\"parcoords\":[{\"line\":{\"colorbar\":{\"outlinewidth\":0,\"ticks\":\"\"}},\"type\":\"parcoords\"}],\"pie\":[{\"automargin\":true,\"type\":\"pie\"}],\"scatter\":[{\"marker\":{\"colorbar\":{\"outlinewidth\":0,\"ticks\":\"\"}},\"type\":\"scatter\"}],\"scatter3d\":[{\"line\":{\"colorbar\":{\"outlinewidth\":0,\"ticks\":\"\"}},\"marker\":{\"colorbar\":{\"outlinewidth\":0,\"ticks\":\"\"}},\"type\":\"scatter3d\"}],\"scattercarpet\":[{\"marker\":{\"colorbar\":{\"outlinewidth\":0,\"ticks\":\"\"}},\"type\":\"scattercarpet\"}],\"scattergeo\":[{\"marker\":{\"colorbar\":{\"outlinewidth\":0,\"ticks\":\"\"}},\"type\":\"scattergeo\"}],\"scattergl\":[{\"marker\":{\"colorbar\":{\"outlinewidth\":0,\"ticks\":\"\"}},\"type\":\"scattergl\"}],\"scattermapbox\":[{\"marker\":{\"colorbar\":{\"outlinewidth\":0,\"ticks\":\"\"}},\"type\":\"scattermapbox\"}],\"scatterpolar\":[{\"marker\":{\"colorbar\":{\"outlinewidth\":0,\"ticks\":\"\"}},\"type\":\"scatterpolar\"}],\"scatterpolargl\":[{\"marker\":{\"colorbar\":{\"outlinewidth\":0,\"ticks\":\"\"}},\"type\":\"scatterpolargl\"}],\"scatterternary\":[{\"marker\":{\"colorbar\":{\"outlinewidth\":0,\"ticks\":\"\"}},\"type\":\"scatterternary\"}],\"surface\":[{\"colorbar\":{\"outlinewidth\":0,\"ticks\":\"\"},\"colorscale\":[[0.0,\"#0d0887\"],[0.1111111111111111,\"#46039f\"],[0.2222222222222222,\"#7201a8\"],[0.3333333333333333,\"#9c179e\"],[0.4444444444444444,\"#bd3786\"],[0.5555555555555556,\"#d8576b\"],[0.6666666666666666,\"#ed7953\"],[0.7777777777777778,\"#fb9f3a\"],[0.8888888888888888,\"#fdca26\"],[1.0,\"#f0f921\"]],\"type\":\"surface\"}],\"table\":[{\"cells\":{\"fill\":{\"color\":\"#EBF0F8\"},\"line\":{\"color\":\"white\"}},\"header\":{\"fill\":{\"color\":\"#C8D4E3\"},\"line\":{\"color\":\"white\"}},\"type\":\"table\"}]},\"layout\":{\"annotationdefaults\":{\"arrowcolor\":\"#2a3f5f\",\"arrowhead\":0,\"arrowwidth\":1},\"autotypenumbers\":\"strict\",\"coloraxis\":{\"colorbar\":{\"outlinewidth\":0,\"ticks\":\"\"}},\"colorscale\":{\"diverging\":[[0,\"#8e0152\"],[0.1,\"#c51b7d\"],[0.2,\"#de77ae\"],[0.3,\"#f1b6da\"],[0.4,\"#fde0ef\"],[0.5,\"#f7f7f7\"],[0.6,\"#e6f5d0\"],[0.7,\"#b8e186\"],[0.8,\"#7fbc41\"],[0.9,\"#4d9221\"],[1,\"#276419\"]],\"sequential\":[[0.0,\"#0d0887\"],[0.1111111111111111,\"#46039f\"],[0.2222222222222222,\"#7201a8\"],[0.3333333333333333,\"#9c179e\"],[0.4444444444444444,\"#bd3786\"],[0.5555555555555556,\"#d8576b\"],[0.6666666666666666,\"#ed7953\"],[0.7777777777777778,\"#fb9f3a\"],[0.8888888888888888,\"#fdca26\"],[1.0,\"#f0f921\"]],\"sequentialminus\":[[0.0,\"#0d0887\"],[0.1111111111111111,\"#46039f\"],[0.2222222222222222,\"#7201a8\"],[0.3333333333333333,\"#9c179e\"],[0.4444444444444444,\"#bd3786\"],[0.5555555555555556,\"#d8576b\"],[0.6666666666666666,\"#ed7953\"],[0.7777777777777778,\"#fb9f3a\"],[0.8888888888888888,\"#fdca26\"],[1.0,\"#f0f921\"]]},\"colorway\":[\"#636efa\",\"#EF553B\",\"#00cc96\",\"#ab63fa\",\"#FFA15A\",\"#19d3f3\",\"#FF6692\",\"#B6E880\",\"#FF97FF\",\"#FECB52\"],\"font\":{\"color\":\"#2a3f5f\"},\"geo\":{\"bgcolor\":\"white\",\"lakecolor\":\"white\",\"landcolor\":\"#E5ECF6\",\"showlakes\":true,\"showland\":true,\"subunitcolor\":\"white\"},\"hoverlabel\":{\"align\":\"left\"},\"hovermode\":\"closest\",\"mapbox\":{\"style\":\"light\"},\"paper_bgcolor\":\"white\",\"plot_bgcolor\":\"#E5ECF6\",\"polar\":{\"angularaxis\":{\"gridcolor\":\"white\",\"linecolor\":\"white\",\"ticks\":\"\"},\"bgcolor\":\"#E5ECF6\",\"radialaxis\":{\"gridcolor\":\"white\",\"linecolor\":\"white\",\"ticks\":\"\"}},\"scene\":{\"xaxis\":{\"backgroundcolor\":\"#E5ECF6\",\"gridcolor\":\"white\",\"gridwidth\":2,\"linecolor\":\"white\",\"showbackground\":true,\"ticks\":\"\",\"zerolinecolor\":\"white\"},\"yaxis\":{\"backgroundcolor\":\"#E5ECF6\",\"gridcolor\":\"white\",\"gridwidth\":2,\"linecolor\":\"white\",\"showbackground\":true,\"ticks\":\"\",\"zerolinecolor\":\"white\"},\"zaxis\":{\"backgroundcolor\":\"#E5ECF6\",\"gridcolor\":\"white\",\"gridwidth\":2,\"linecolor\":\"white\",\"showbackground\":true,\"ticks\":\"\",\"zerolinecolor\":\"white\"}},\"shapedefaults\":{\"line\":{\"color\":\"#2a3f5f\"}},\"ternary\":{\"aaxis\":{\"gridcolor\":\"white\",\"linecolor\":\"white\",\"ticks\":\"\"},\"baxis\":{\"gridcolor\":\"white\",\"linecolor\":\"white\",\"ticks\":\"\"},\"bgcolor\":\"#E5ECF6\",\"caxis\":{\"gridcolor\":\"white\",\"linecolor\":\"white\",\"ticks\":\"\"}},\"title\":{\"x\":0.05},\"xaxis\":{\"automargin\":true,\"gridcolor\":\"white\",\"linecolor\":\"white\",\"ticks\":\"\",\"title\":{\"standoff\":15},\"zerolinecolor\":\"white\",\"zerolinewidth\":2},\"yaxis\":{\"automargin\":true,\"gridcolor\":\"white\",\"linecolor\":\"white\",\"ticks\":\"\",\"title\":{\"standoff\":15},\"zerolinecolor\":\"white\",\"zerolinewidth\":2}}},\"title\":{\"font\":{\"color\":\"#4D5663\"}},\"xaxis\":{\"gridcolor\":\"#E1E5ED\",\"showgrid\":true,\"tickfont\":{\"color\":\"#4D5663\"},\"title\":{\"font\":{\"color\":\"#4D5663\"},\"text\":\"\"},\"zerolinecolor\":\"#E1E5ED\"},\"yaxis\":{\"gridcolor\":\"#E1E5ED\",\"showgrid\":true,\"tickfont\":{\"color\":\"#4D5663\"},\"title\":{\"font\":{\"color\":\"#4D5663\"},\"text\":\"\"},\"zerolinecolor\":\"#E1E5ED\"}},                        {\"showLink\": true, \"linkText\": \"Export to plot.ly\", \"plotlyServerURL\": \"https://plot.ly\", \"responsive\": true}                    ).then(function(){\n",
       "                            \n",
       "var gd = document.getElementById('4cb5492c-e178-4a99-a193-304cd82d554a');\n",
       "var x = new MutationObserver(function (mutations, observer) {{\n",
       "        var display = window.getComputedStyle(gd).display;\n",
       "        if (!display || display === 'none') {{\n",
       "            console.log([gd, 'removed!']);\n",
       "            Plotly.purge(gd);\n",
       "            observer.disconnect();\n",
       "        }}\n",
       "}});\n",
       "\n",
       "// Listen for the removal of the full notebook cells\n",
       "var notebookContainer = gd.closest('#notebook-container');\n",
       "if (notebookContainer) {{\n",
       "    x.observe(notebookContainer, {childList: true});\n",
       "}}\n",
       "\n",
       "// Listen for the clearing of the current output cell\n",
       "var outputEl = gd.closest('.output');\n",
       "if (outputEl) {{\n",
       "    x.observe(outputEl, {childList: true});\n",
       "}}\n",
       "\n",
       "                        })                };                });            </script>        </div>"
      ]
     },
     "metadata": {},
     "output_type": "display_data"
    }
   ],
   "source": [
    "df3 = pd.DataFrame({'x':[1,2,3,4,5],'y':[10,20,30,20,10],'z':[5,4,3,2,1]})\n",
    "df3.iplot(kind='surface',colorscale='rdylbu')"
   ]
  },
  {
   "cell_type": "markdown",
   "metadata": {},
   "source": [
    "## Spread"
   ]
  },
  {
   "cell_type": "code",
   "execution_count": 17,
   "metadata": {},
   "outputs": [
    {
     "name": "stderr",
     "output_type": "stream",
     "text": [
      "C:\\Users\\Admin\\anaconda3\\lib\\site-packages\\cufflinks\\plotlytools.py:849: FutureWarning:\n",
      "\n",
      "The pandas.np module is deprecated and will be removed from pandas in a future version. Import numpy directly instead\n",
      "\n",
      "C:\\Users\\Admin\\anaconda3\\lib\\site-packages\\cufflinks\\plotlytools.py:850: FutureWarning:\n",
      "\n",
      "The pandas.np module is deprecated and will be removed from pandas in a future version. Import numpy directly instead\n",
      "\n"
     ]
    },
    {
     "data": {
      "application/vnd.plotly.v1+json": {
       "config": {
        "linkText": "Export to plot.ly",
        "plotlyServerURL": "https://plot.ly",
        "showLink": true
       },
       "data": [
        {
         "line": {
          "color": "rgba(255, 153, 51, 1.0)",
          "dash": "solid",
          "shape": "linear",
          "width": 1.3
         },
         "mode": "lines",
         "name": "A",
         "text": "",
         "type": "scatter",
         "x": [
          0,
          1,
          2,
          3,
          4,
          5,
          6,
          7,
          8,
          9,
          10,
          11,
          12,
          13,
          14,
          15,
          16,
          17,
          18,
          19,
          20,
          21,
          22,
          23,
          24,
          25,
          26,
          27,
          28,
          29,
          30,
          31,
          32,
          33,
          34,
          35,
          36,
          37,
          38,
          39,
          40,
          41,
          42,
          43,
          44,
          45,
          46,
          47,
          48,
          49,
          50,
          51,
          52,
          53,
          54,
          55,
          56,
          57,
          58,
          59,
          60,
          61,
          62,
          63,
          64,
          65,
          66,
          67,
          68,
          69,
          70,
          71,
          72,
          73,
          74,
          75,
          76,
          77,
          78,
          79,
          80,
          81,
          82,
          83,
          84,
          85,
          86,
          87,
          88,
          89,
          90,
          91,
          92,
          93,
          94,
          95,
          96,
          97,
          98,
          99
         ],
         "y": [
          0.6754782943325655,
          0.5676345968842824,
          0.1328881905375589,
          1.5598060655336465,
          0.20155851821828127,
          -0.1704342005504423,
          1.6382714620922407,
          0.5960123218986514,
          -1.3967502608685103,
          -0.4175266016308763,
          -1.4622195465874601,
          -0.4418238211952053,
          -0.9396201592840361,
          -0.13826138272671448,
          -0.8850161103888932,
          1.8504189241059084,
          -0.5670395261360621,
          -0.4512300334792727,
          -1.3659730557435033,
          -2.2195698637480628,
          0.3537368438916856,
          0.8011510663127747,
          0.9158535282283714,
          -0.10090839994435542,
          0.5197315429475056,
          0.542335737958651,
          -0.5888216723532752,
          -0.6521836708748141,
          -0.3603370324925614,
          -0.9552920009367587,
          -2.2849797147682933,
          0.4519183096797922,
          1.8842896639403863,
          1.1340897786363573,
          0.18372623294508642,
          -1.0237109171539454,
          -1.654003775689415,
          0.32167723924081354,
          1.2199528459728162,
          2.929925287765693,
          -0.8172173302082492,
          -1.6505368253468742,
          0.23446380237601086,
          0.36633509776946094,
          -1.410517557328883,
          -1.0885958183031015,
          1.41325542793449,
          -1.7040848451332873,
          0.03122408759234455,
          -0.32773165815662103,
          0.6662743949672889,
          -1.3245476957372868,
          -0.17648115279437038,
          0.5131658131312273,
          0.6254611583947094,
          -0.9504172530455163,
          -0.38056513766120054,
          -1.610980503470945,
          0.3138510000800175,
          1.2297882444657389,
          2.0612538048066784,
          1.7240572041477948,
          -0.7228253590566479,
          0.94310349502881,
          -2.011162597259447,
          -0.958977057005299,
          1.2929502033458233,
          1.1732776407222958,
          1.0006976463240154,
          0.07796519762881553,
          -0.4987650476806753,
          0.9764184595883123,
          -0.014106945313026645,
          1.5428496733376793,
          -1.091952698664168,
          0.4782947233641637,
          0.2752500905442413,
          -1.970375548198486,
          2.0526149916013905,
          -0.5355825007775484,
          0.7545279930637657,
          0.2863047840180115,
          -1.4025937393898347,
          0.9342278828335764,
          0.5624839596099094,
          1.1447907551414858,
          0.08961360380327707,
          -0.4817073117416022,
          -0.6319061449787831,
          2.343257288835841,
          -0.5589302132661069,
          0.7941564694900235,
          -0.6152341400737853,
          0.8544116644485762,
          0.41297969806072243,
          1.613308547129756,
          -0.19679692672583227,
          -0.2252424721695863,
          -1.101041110660023,
          -1.9043054451684438
         ]
        },
        {
         "line": {
          "color": "rgba(55, 128, 191, 1.0)",
          "dash": "solid",
          "shape": "linear",
          "width": 1.3
         },
         "mode": "lines",
         "name": "B",
         "text": "",
         "type": "scatter",
         "x": [
          0,
          1,
          2,
          3,
          4,
          5,
          6,
          7,
          8,
          9,
          10,
          11,
          12,
          13,
          14,
          15,
          16,
          17,
          18,
          19,
          20,
          21,
          22,
          23,
          24,
          25,
          26,
          27,
          28,
          29,
          30,
          31,
          32,
          33,
          34,
          35,
          36,
          37,
          38,
          39,
          40,
          41,
          42,
          43,
          44,
          45,
          46,
          47,
          48,
          49,
          50,
          51,
          52,
          53,
          54,
          55,
          56,
          57,
          58,
          59,
          60,
          61,
          62,
          63,
          64,
          65,
          66,
          67,
          68,
          69,
          70,
          71,
          72,
          73,
          74,
          75,
          76,
          77,
          78,
          79,
          80,
          81,
          82,
          83,
          84,
          85,
          86,
          87,
          88,
          89,
          90,
          91,
          92,
          93,
          94,
          95,
          96,
          97,
          98,
          99
         ],
         "y": [
          -0.2217291443388921,
          -1.2371542355520193,
          0.8123200317942653,
          1.2443210913177807,
          0.15665068302727347,
          -0.49601188309501854,
          -1.5674118452306314,
          0.8681936946504126,
          -2.1588947361277944,
          0.004523669014418451,
          0.2224144998784712,
          -1.2047967088202578,
          -0.48311376209050955,
          0.5263364911407737,
          -0.6581025306060428,
          0.5859815825235286,
          1.2843285937087179,
          2.644736009199112,
          0.6686205905210374,
          0.41822294352248607,
          -1.0881429265518046,
          -0.2848994852918314,
          -1.0361040136959085,
          -0.43236691856491044,
          -1.2151060705229921,
          -1.0535802751145777,
          -1.7101393540602814,
          0.13700496725160327,
          -0.03639404936203314,
          -1.167416774354088,
          1.242824173634307,
          0.7555947464871007,
          -0.2358954009781537,
          1.7245172324003295,
          0.011408650486823966,
          1.468500443226724,
          -1.087452184127168,
          0.31587470047464566,
          -0.64965102521893,
          -0.18741629301066062,
          0.8643789608770887,
          0.1374916054046593,
          0.984915590803966,
          -0.5749850827580681,
          -0.31367705412547175,
          0.43808758668803777,
          0.5237444006175169,
          -1.933200354258214,
          0.24285826858388612,
          1.0770527002311396,
          0.8642237475271446,
          -2.8026546155389527,
          -1.269688258045194,
          0.13818859955011006,
          -0.7032899314435153,
          -1.6489195836048638,
          -0.10259177038998696,
          1.4542546939122745,
          -0.5144024244857891,
          -0.16761985394816561,
          0.18057974799115853,
          0.9153792574175322,
          -1.5625254164314404,
          0.7275749276372556,
          -0.8410916716639276,
          1.9702443659279567,
          1.0105656117288755,
          -0.33011431585845263,
          0.05896025014420832,
          -0.6182716108350788,
          -1.9307322255876471,
          -0.423044638561435,
          0.8242161598940201,
          0.7473086068676891,
          -0.06390385057859259,
          1.411752606998454,
          0.9490293076629773,
          0.009991847913236184,
          0.673086587444426,
          -0.12972617508859452,
          -1.4564557150623647,
          0.36259057467603667,
          -1.0036754215214432,
          -0.9933192141036302,
          -0.8830959235342006,
          0.0068193462280179895,
          0.7529614687362064,
          0.4431679290600762,
          0.7558262294932983,
          -1.87289174236139,
          2.6694207476365075,
          -0.03194188108580788,
          -1.1825587513883815,
          -0.6013875741485867,
          0.7019085379263506,
          -0.16891436238867008,
          -1.3841323134554913,
          1.5394640870582705,
          0.8545201128569784,
          0.8007369757347785
         ]
        },
        {
         "connectgaps": false,
         "fill": "tozeroy",
         "line": {
          "color": "green",
          "dash": "solid",
          "shape": "linear",
          "width": 0.5
         },
         "mode": "lines",
         "name": "Spread",
         "showlegend": false,
         "type": "scatter",
         "x": [
          0,
          1,
          2,
          3,
          4,
          5,
          6,
          7,
          8,
          9,
          10,
          11,
          12,
          13,
          14,
          15,
          16,
          17,
          18,
          19,
          20,
          21,
          22,
          23,
          24,
          25,
          26,
          27,
          28,
          29,
          30,
          31,
          32,
          33,
          34,
          35,
          36,
          37,
          38,
          39,
          40,
          41,
          42,
          43,
          44,
          45,
          46,
          47,
          48,
          49,
          50,
          51,
          52,
          53,
          54,
          55,
          56,
          57,
          58,
          59,
          60,
          61,
          62,
          63,
          64,
          65,
          66,
          67,
          68,
          69,
          70,
          71,
          72,
          73,
          74,
          75,
          76,
          77,
          78,
          79,
          80,
          81,
          82,
          83,
          84,
          85,
          86,
          87,
          88,
          89,
          90,
          91,
          92,
          93,
          94,
          95,
          96,
          97,
          98,
          99
         ],
         "xaxis": "x2",
         "y": [
          0.8972074386714576,
          1.8047888324363017,
          "",
          0.31548497421586585,
          0.0449078351910078,
          0.3255776825445762,
          3.205683307322872,
          "",
          0.7621444752592841,
          "",
          "",
          0.7629728876250526,
          "",
          "",
          "",
          1.2644373415823797,
          "",
          "",
          "",
          "",
          1.44187977044349,
          1.0860505516046062,
          1.9519575419242798,
          0.33145851862055503,
          1.7348376134704977,
          1.5959160130732286,
          1.1213176817070063,
          "",
          "",
          0.21212477341732927,
          "",
          "",
          2.12018506491854,
          "",
          0.17231758245826245,
          "",
          "",
          0.005802538766167875,
          1.8696038711917462,
          3.1173415807763534,
          "",
          "",
          "",
          0.9413201805275291,
          "",
          "",
          0.8895110273169731,
          0.22911550912492662,
          "",
          "",
          "",
          1.4781069198016659,
          1.0932071052508237,
          0.37497721358111724,
          1.3287510898382247,
          0.6985023305593475,
          "",
          "",
          0.8282534245658066,
          1.3974080984139046,
          1.8806740568155198,
          0.8086779467302626,
          0.8397000573747925,
          0.21552856739155435,
          "",
          "",
          0.28238459161694784,
          1.5033919565807485,
          0.941737396179807,
          0.6962368084638942,
          1.4319671779069718,
          1.3994630981497473,
          "",
          0.7955410664699902,
          "",
          "",
          "",
          "",
          1.3795284041569644,
          "",
          2.2109837081261303,
          "",
          "",
          1.9275470969372066,
          1.44557988314411,
          1.1379714089134678,
          "",
          "",
          "",
          4.216149031197231,
          "",
          0.8260983505758314,
          0.5673246113145962,
          1.4557992385971628,
          "",
          1.7822229095184259,
          1.187335386729659,
          "",
          "",
          ""
         ],
         "yaxis": "y2"
        },
        {
         "connectgaps": false,
         "fill": "tozeroy",
         "line": {
          "color": "red",
          "dash": "solid",
          "shape": "linear",
          "width": 0.5
         },
         "mode": "lines",
         "name": "Spread",
         "showlegend": false,
         "type": "scatter",
         "x": [
          0,
          1,
          2,
          3,
          4,
          5,
          6,
          7,
          8,
          9,
          10,
          11,
          12,
          13,
          14,
          15,
          16,
          17,
          18,
          19,
          20,
          21,
          22,
          23,
          24,
          25,
          26,
          27,
          28,
          29,
          30,
          31,
          32,
          33,
          34,
          35,
          36,
          37,
          38,
          39,
          40,
          41,
          42,
          43,
          44,
          45,
          46,
          47,
          48,
          49,
          50,
          51,
          52,
          53,
          54,
          55,
          56,
          57,
          58,
          59,
          60,
          61,
          62,
          63,
          64,
          65,
          66,
          67,
          68,
          69,
          70,
          71,
          72,
          73,
          74,
          75,
          76,
          77,
          78,
          79,
          80,
          81,
          82,
          83,
          84,
          85,
          86,
          87,
          88,
          89,
          90,
          91,
          92,
          93,
          94,
          95,
          96,
          97,
          98,
          99
         ],
         "xaxis": "x2",
         "y": [
          "",
          "",
          -0.6794318412567064,
          "",
          "",
          "",
          "",
          -0.27218137275176124,
          "",
          -0.42205027064529477,
          -1.6846340464659313,
          "",
          -0.45650639719352654,
          -0.6645978738674883,
          -0.22691357978285032,
          "",
          -1.85136811984478,
          -3.095966042678385,
          -2.0345936462645406,
          -2.6377928072705488,
          "",
          "",
          "",
          "",
          "",
          "",
          "",
          -0.7891886381264174,
          -0.3239429831305283,
          "",
          -3.5278038884026004,
          -0.3036764368073085,
          "",
          -0.5904274537639722,
          "",
          -2.4922113603806695,
          -0.566551591562247,
          "",
          "",
          "",
          -1.681596291085338,
          -1.7880284307515335,
          -0.7504517884279551,
          "",
          -1.0968405032034112,
          -1.5266834049911393,
          "",
          "",
          -0.21163418099154158,
          -1.4047843583877606,
          -0.19794935255985568,
          "",
          "",
          "",
          "",
          "",
          -0.2779733672712136,
          -3.0652351973832195,
          "",
          "",
          "",
          "",
          "",
          "",
          -1.1700709255955193,
          -2.9292214229332556,
          "",
          "",
          "",
          "",
          "",
          "",
          -0.8383231052070468,
          "",
          -1.0280488480855756,
          -0.9334578836342904,
          -0.673779217118736,
          -1.980367396111722,
          "",
          -0.4058563256889539,
          "",
          -0.07628579065802515,
          -0.3989183178683915,
          "",
          "",
          "",
          -0.6633478649329293,
          -0.9248752408016784,
          -1.3877323744720813,
          "",
          -3.228350960902614,
          "",
          "",
          "",
          -0.2889288398656281,
          "",
          "",
          -1.7647065592278568,
          -1.9555612235170015,
          -2.7050424209032222
         ],
         "yaxis": "y2"
        }
       ],
       "layout": {
        "hovermode": "x",
        "legend": {
         "bgcolor": "#F5F6F9",
         "font": {
          "color": "#4D5663"
         }
        },
        "paper_bgcolor": "#F5F6F9",
        "plot_bgcolor": "#F5F6F9",
        "template": {
         "data": {
          "bar": [
           {
            "error_x": {
             "color": "#2a3f5f"
            },
            "error_y": {
             "color": "#2a3f5f"
            },
            "marker": {
             "line": {
              "color": "#E5ECF6",
              "width": 0.5
             },
             "pattern": {
              "fillmode": "overlay",
              "size": 10,
              "solidity": 0.2
             }
            },
            "type": "bar"
           }
          ],
          "barpolar": [
           {
            "marker": {
             "line": {
              "color": "#E5ECF6",
              "width": 0.5
             },
             "pattern": {
              "fillmode": "overlay",
              "size": 10,
              "solidity": 0.2
             }
            },
            "type": "barpolar"
           }
          ],
          "carpet": [
           {
            "aaxis": {
             "endlinecolor": "#2a3f5f",
             "gridcolor": "white",
             "linecolor": "white",
             "minorgridcolor": "white",
             "startlinecolor": "#2a3f5f"
            },
            "baxis": {
             "endlinecolor": "#2a3f5f",
             "gridcolor": "white",
             "linecolor": "white",
             "minorgridcolor": "white",
             "startlinecolor": "#2a3f5f"
            },
            "type": "carpet"
           }
          ],
          "choropleth": [
           {
            "colorbar": {
             "outlinewidth": 0,
             "ticks": ""
            },
            "type": "choropleth"
           }
          ],
          "contour": [
           {
            "colorbar": {
             "outlinewidth": 0,
             "ticks": ""
            },
            "colorscale": [
             [
              0,
              "#0d0887"
             ],
             [
              0.1111111111111111,
              "#46039f"
             ],
             [
              0.2222222222222222,
              "#7201a8"
             ],
             [
              0.3333333333333333,
              "#9c179e"
             ],
             [
              0.4444444444444444,
              "#bd3786"
             ],
             [
              0.5555555555555556,
              "#d8576b"
             ],
             [
              0.6666666666666666,
              "#ed7953"
             ],
             [
              0.7777777777777778,
              "#fb9f3a"
             ],
             [
              0.8888888888888888,
              "#fdca26"
             ],
             [
              1,
              "#f0f921"
             ]
            ],
            "type": "contour"
           }
          ],
          "contourcarpet": [
           {
            "colorbar": {
             "outlinewidth": 0,
             "ticks": ""
            },
            "type": "contourcarpet"
           }
          ],
          "heatmap": [
           {
            "colorbar": {
             "outlinewidth": 0,
             "ticks": ""
            },
            "colorscale": [
             [
              0,
              "#0d0887"
             ],
             [
              0.1111111111111111,
              "#46039f"
             ],
             [
              0.2222222222222222,
              "#7201a8"
             ],
             [
              0.3333333333333333,
              "#9c179e"
             ],
             [
              0.4444444444444444,
              "#bd3786"
             ],
             [
              0.5555555555555556,
              "#d8576b"
             ],
             [
              0.6666666666666666,
              "#ed7953"
             ],
             [
              0.7777777777777778,
              "#fb9f3a"
             ],
             [
              0.8888888888888888,
              "#fdca26"
             ],
             [
              1,
              "#f0f921"
             ]
            ],
            "type": "heatmap"
           }
          ],
          "heatmapgl": [
           {
            "colorbar": {
             "outlinewidth": 0,
             "ticks": ""
            },
            "colorscale": [
             [
              0,
              "#0d0887"
             ],
             [
              0.1111111111111111,
              "#46039f"
             ],
             [
              0.2222222222222222,
              "#7201a8"
             ],
             [
              0.3333333333333333,
              "#9c179e"
             ],
             [
              0.4444444444444444,
              "#bd3786"
             ],
             [
              0.5555555555555556,
              "#d8576b"
             ],
             [
              0.6666666666666666,
              "#ed7953"
             ],
             [
              0.7777777777777778,
              "#fb9f3a"
             ],
             [
              0.8888888888888888,
              "#fdca26"
             ],
             [
              1,
              "#f0f921"
             ]
            ],
            "type": "heatmapgl"
           }
          ],
          "histogram": [
           {
            "marker": {
             "pattern": {
              "fillmode": "overlay",
              "size": 10,
              "solidity": 0.2
             }
            },
            "type": "histogram"
           }
          ],
          "histogram2d": [
           {
            "colorbar": {
             "outlinewidth": 0,
             "ticks": ""
            },
            "colorscale": [
             [
              0,
              "#0d0887"
             ],
             [
              0.1111111111111111,
              "#46039f"
             ],
             [
              0.2222222222222222,
              "#7201a8"
             ],
             [
              0.3333333333333333,
              "#9c179e"
             ],
             [
              0.4444444444444444,
              "#bd3786"
             ],
             [
              0.5555555555555556,
              "#d8576b"
             ],
             [
              0.6666666666666666,
              "#ed7953"
             ],
             [
              0.7777777777777778,
              "#fb9f3a"
             ],
             [
              0.8888888888888888,
              "#fdca26"
             ],
             [
              1,
              "#f0f921"
             ]
            ],
            "type": "histogram2d"
           }
          ],
          "histogram2dcontour": [
           {
            "colorbar": {
             "outlinewidth": 0,
             "ticks": ""
            },
            "colorscale": [
             [
              0,
              "#0d0887"
             ],
             [
              0.1111111111111111,
              "#46039f"
             ],
             [
              0.2222222222222222,
              "#7201a8"
             ],
             [
              0.3333333333333333,
              "#9c179e"
             ],
             [
              0.4444444444444444,
              "#bd3786"
             ],
             [
              0.5555555555555556,
              "#d8576b"
             ],
             [
              0.6666666666666666,
              "#ed7953"
             ],
             [
              0.7777777777777778,
              "#fb9f3a"
             ],
             [
              0.8888888888888888,
              "#fdca26"
             ],
             [
              1,
              "#f0f921"
             ]
            ],
            "type": "histogram2dcontour"
           }
          ],
          "mesh3d": [
           {
            "colorbar": {
             "outlinewidth": 0,
             "ticks": ""
            },
            "type": "mesh3d"
           }
          ],
          "parcoords": [
           {
            "line": {
             "colorbar": {
              "outlinewidth": 0,
              "ticks": ""
             }
            },
            "type": "parcoords"
           }
          ],
          "pie": [
           {
            "automargin": true,
            "type": "pie"
           }
          ],
          "scatter": [
           {
            "marker": {
             "colorbar": {
              "outlinewidth": 0,
              "ticks": ""
             }
            },
            "type": "scatter"
           }
          ],
          "scatter3d": [
           {
            "line": {
             "colorbar": {
              "outlinewidth": 0,
              "ticks": ""
             }
            },
            "marker": {
             "colorbar": {
              "outlinewidth": 0,
              "ticks": ""
             }
            },
            "type": "scatter3d"
           }
          ],
          "scattercarpet": [
           {
            "marker": {
             "colorbar": {
              "outlinewidth": 0,
              "ticks": ""
             }
            },
            "type": "scattercarpet"
           }
          ],
          "scattergeo": [
           {
            "marker": {
             "colorbar": {
              "outlinewidth": 0,
              "ticks": ""
             }
            },
            "type": "scattergeo"
           }
          ],
          "scattergl": [
           {
            "marker": {
             "colorbar": {
              "outlinewidth": 0,
              "ticks": ""
             }
            },
            "type": "scattergl"
           }
          ],
          "scattermapbox": [
           {
            "marker": {
             "colorbar": {
              "outlinewidth": 0,
              "ticks": ""
             }
            },
            "type": "scattermapbox"
           }
          ],
          "scatterpolar": [
           {
            "marker": {
             "colorbar": {
              "outlinewidth": 0,
              "ticks": ""
             }
            },
            "type": "scatterpolar"
           }
          ],
          "scatterpolargl": [
           {
            "marker": {
             "colorbar": {
              "outlinewidth": 0,
              "ticks": ""
             }
            },
            "type": "scatterpolargl"
           }
          ],
          "scatterternary": [
           {
            "marker": {
             "colorbar": {
              "outlinewidth": 0,
              "ticks": ""
             }
            },
            "type": "scatterternary"
           }
          ],
          "surface": [
           {
            "colorbar": {
             "outlinewidth": 0,
             "ticks": ""
            },
            "colorscale": [
             [
              0,
              "#0d0887"
             ],
             [
              0.1111111111111111,
              "#46039f"
             ],
             [
              0.2222222222222222,
              "#7201a8"
             ],
             [
              0.3333333333333333,
              "#9c179e"
             ],
             [
              0.4444444444444444,
              "#bd3786"
             ],
             [
              0.5555555555555556,
              "#d8576b"
             ],
             [
              0.6666666666666666,
              "#ed7953"
             ],
             [
              0.7777777777777778,
              "#fb9f3a"
             ],
             [
              0.8888888888888888,
              "#fdca26"
             ],
             [
              1,
              "#f0f921"
             ]
            ],
            "type": "surface"
           }
          ],
          "table": [
           {
            "cells": {
             "fill": {
              "color": "#EBF0F8"
             },
             "line": {
              "color": "white"
             }
            },
            "header": {
             "fill": {
              "color": "#C8D4E3"
             },
             "line": {
              "color": "white"
             }
            },
            "type": "table"
           }
          ]
         },
         "layout": {
          "annotationdefaults": {
           "arrowcolor": "#2a3f5f",
           "arrowhead": 0,
           "arrowwidth": 1
          },
          "autotypenumbers": "strict",
          "coloraxis": {
           "colorbar": {
            "outlinewidth": 0,
            "ticks": ""
           }
          },
          "colorscale": {
           "diverging": [
            [
             0,
             "#8e0152"
            ],
            [
             0.1,
             "#c51b7d"
            ],
            [
             0.2,
             "#de77ae"
            ],
            [
             0.3,
             "#f1b6da"
            ],
            [
             0.4,
             "#fde0ef"
            ],
            [
             0.5,
             "#f7f7f7"
            ],
            [
             0.6,
             "#e6f5d0"
            ],
            [
             0.7,
             "#b8e186"
            ],
            [
             0.8,
             "#7fbc41"
            ],
            [
             0.9,
             "#4d9221"
            ],
            [
             1,
             "#276419"
            ]
           ],
           "sequential": [
            [
             0,
             "#0d0887"
            ],
            [
             0.1111111111111111,
             "#46039f"
            ],
            [
             0.2222222222222222,
             "#7201a8"
            ],
            [
             0.3333333333333333,
             "#9c179e"
            ],
            [
             0.4444444444444444,
             "#bd3786"
            ],
            [
             0.5555555555555556,
             "#d8576b"
            ],
            [
             0.6666666666666666,
             "#ed7953"
            ],
            [
             0.7777777777777778,
             "#fb9f3a"
            ],
            [
             0.8888888888888888,
             "#fdca26"
            ],
            [
             1,
             "#f0f921"
            ]
           ],
           "sequentialminus": [
            [
             0,
             "#0d0887"
            ],
            [
             0.1111111111111111,
             "#46039f"
            ],
            [
             0.2222222222222222,
             "#7201a8"
            ],
            [
             0.3333333333333333,
             "#9c179e"
            ],
            [
             0.4444444444444444,
             "#bd3786"
            ],
            [
             0.5555555555555556,
             "#d8576b"
            ],
            [
             0.6666666666666666,
             "#ed7953"
            ],
            [
             0.7777777777777778,
             "#fb9f3a"
            ],
            [
             0.8888888888888888,
             "#fdca26"
            ],
            [
             1,
             "#f0f921"
            ]
           ]
          },
          "colorway": [
           "#636efa",
           "#EF553B",
           "#00cc96",
           "#ab63fa",
           "#FFA15A",
           "#19d3f3",
           "#FF6692",
           "#B6E880",
           "#FF97FF",
           "#FECB52"
          ],
          "font": {
           "color": "#2a3f5f"
          },
          "geo": {
           "bgcolor": "white",
           "lakecolor": "white",
           "landcolor": "#E5ECF6",
           "showlakes": true,
           "showland": true,
           "subunitcolor": "white"
          },
          "hoverlabel": {
           "align": "left"
          },
          "hovermode": "closest",
          "mapbox": {
           "style": "light"
          },
          "paper_bgcolor": "white",
          "plot_bgcolor": "#E5ECF6",
          "polar": {
           "angularaxis": {
            "gridcolor": "white",
            "linecolor": "white",
            "ticks": ""
           },
           "bgcolor": "#E5ECF6",
           "radialaxis": {
            "gridcolor": "white",
            "linecolor": "white",
            "ticks": ""
           }
          },
          "scene": {
           "xaxis": {
            "backgroundcolor": "#E5ECF6",
            "gridcolor": "white",
            "gridwidth": 2,
            "linecolor": "white",
            "showbackground": true,
            "ticks": "",
            "zerolinecolor": "white"
           },
           "yaxis": {
            "backgroundcolor": "#E5ECF6",
            "gridcolor": "white",
            "gridwidth": 2,
            "linecolor": "white",
            "showbackground": true,
            "ticks": "",
            "zerolinecolor": "white"
           },
           "zaxis": {
            "backgroundcolor": "#E5ECF6",
            "gridcolor": "white",
            "gridwidth": 2,
            "linecolor": "white",
            "showbackground": true,
            "ticks": "",
            "zerolinecolor": "white"
           }
          },
          "shapedefaults": {
           "line": {
            "color": "#2a3f5f"
           }
          },
          "ternary": {
           "aaxis": {
            "gridcolor": "white",
            "linecolor": "white",
            "ticks": ""
           },
           "baxis": {
            "gridcolor": "white",
            "linecolor": "white",
            "ticks": ""
           },
           "bgcolor": "#E5ECF6",
           "caxis": {
            "gridcolor": "white",
            "linecolor": "white",
            "ticks": ""
           }
          },
          "title": {
           "x": 0.05
          },
          "xaxis": {
           "automargin": true,
           "gridcolor": "white",
           "linecolor": "white",
           "ticks": "",
           "title": {
            "standoff": 15
           },
           "zerolinecolor": "white",
           "zerolinewidth": 2
          },
          "yaxis": {
           "automargin": true,
           "gridcolor": "white",
           "linecolor": "white",
           "ticks": "",
           "title": {
            "standoff": 15
           },
           "zerolinecolor": "white",
           "zerolinewidth": 2
          }
         }
        },
        "title": {
         "font": {
          "color": "#4D5663"
         }
        },
        "xaxis": {
         "gridcolor": "#E1E5ED",
         "showgrid": true,
         "tickfont": {
          "color": "#4D5663"
         },
         "title": {
          "font": {
           "color": "#4D5663"
          },
          "text": ""
         },
         "zerolinecolor": "#E1E5ED"
        },
        "xaxis2": {
         "anchor": "y2",
         "gridcolor": "#E1E5ED",
         "showgrid": true,
         "showticklabels": false,
         "tickfont": {
          "color": "#4D5663"
         },
         "title": {
          "font": {
           "color": "#4D5663"
          },
          "text": ""
         },
         "zerolinecolor": "#E1E5ED"
        },
        "yaxis": {
         "domain": [
          0.3,
          1
         ],
         "gridcolor": "#E1E5ED",
         "showgrid": true,
         "tickfont": {
          "color": "#4D5663"
         },
         "title": {
          "font": {
           "color": "#4D5663"
          },
          "text": ""
         },
         "zerolinecolor": "#E1E5ED"
        },
        "yaxis2": {
         "domain": [
          0,
          0.25
         ],
         "gridcolor": "#E1E5ED",
         "showgrid": true,
         "tickfont": {
          "color": "#4D5663"
         },
         "title": {
          "font": {
           "color": "#4D5663"
          },
          "text": "Spread"
         },
         "zerolinecolor": "#E1E5ED"
        }
       }
      },
      "text/html": [
       "<div>                            <div id=\"f444a12c-3299-4924-a16a-af7b1aa36f97\" class=\"plotly-graph-div\" style=\"height:525px; width:100%;\"></div>            <script type=\"text/javascript\">                require([\"plotly\"], function(Plotly) {                    window.PLOTLYENV=window.PLOTLYENV || {};\n",
       "                    window.PLOTLYENV.BASE_URL='https://plot.ly';                                    if (document.getElementById(\"f444a12c-3299-4924-a16a-af7b1aa36f97\")) {                    Plotly.newPlot(                        \"f444a12c-3299-4924-a16a-af7b1aa36f97\",                        [{\"line\":{\"color\":\"rgba(255, 153, 51, 1.0)\",\"dash\":\"solid\",\"shape\":\"linear\",\"width\":1.3},\"mode\":\"lines\",\"name\":\"A\",\"text\":\"\",\"type\":\"scatter\",\"x\":[0,1,2,3,4,5,6,7,8,9,10,11,12,13,14,15,16,17,18,19,20,21,22,23,24,25,26,27,28,29,30,31,32,33,34,35,36,37,38,39,40,41,42,43,44,45,46,47,48,49,50,51,52,53,54,55,56,57,58,59,60,61,62,63,64,65,66,67,68,69,70,71,72,73,74,75,76,77,78,79,80,81,82,83,84,85,86,87,88,89,90,91,92,93,94,95,96,97,98,99],\"y\":[0.6754782943325655,0.5676345968842824,0.1328881905375589,1.5598060655336465,0.20155851821828127,-0.1704342005504423,1.6382714620922407,0.5960123218986514,-1.3967502608685103,-0.4175266016308763,-1.4622195465874601,-0.4418238211952053,-0.9396201592840361,-0.13826138272671448,-0.8850161103888932,1.8504189241059084,-0.5670395261360621,-0.4512300334792727,-1.3659730557435033,-2.2195698637480628,0.3537368438916856,0.8011510663127747,0.9158535282283714,-0.10090839994435542,0.5197315429475056,0.542335737958651,-0.5888216723532752,-0.6521836708748141,-0.3603370324925614,-0.9552920009367587,-2.2849797147682933,0.4519183096797922,1.8842896639403863,1.1340897786363573,0.18372623294508642,-1.0237109171539454,-1.654003775689415,0.32167723924081354,1.2199528459728162,2.929925287765693,-0.8172173302082492,-1.6505368253468742,0.23446380237601086,0.36633509776946094,-1.410517557328883,-1.0885958183031015,1.41325542793449,-1.7040848451332873,0.03122408759234455,-0.32773165815662103,0.6662743949672889,-1.3245476957372868,-0.17648115279437038,0.5131658131312273,0.6254611583947094,-0.9504172530455163,-0.38056513766120054,-1.610980503470945,0.3138510000800175,1.2297882444657389,2.0612538048066784,1.7240572041477948,-0.7228253590566479,0.94310349502881,-2.011162597259447,-0.958977057005299,1.2929502033458233,1.1732776407222958,1.0006976463240154,0.07796519762881553,-0.4987650476806753,0.9764184595883123,-0.014106945313026645,1.5428496733376793,-1.091952698664168,0.4782947233641637,0.2752500905442413,-1.970375548198486,2.0526149916013905,-0.5355825007775484,0.7545279930637657,0.2863047840180115,-1.4025937393898347,0.9342278828335764,0.5624839596099094,1.1447907551414858,0.08961360380327707,-0.4817073117416022,-0.6319061449787831,2.343257288835841,-0.5589302132661069,0.7941564694900235,-0.6152341400737853,0.8544116644485762,0.41297969806072243,1.613308547129756,-0.19679692672583227,-0.2252424721695863,-1.101041110660023,-1.9043054451684438]},{\"line\":{\"color\":\"rgba(55, 128, 191, 1.0)\",\"dash\":\"solid\",\"shape\":\"linear\",\"width\":1.3},\"mode\":\"lines\",\"name\":\"B\",\"text\":\"\",\"type\":\"scatter\",\"x\":[0,1,2,3,4,5,6,7,8,9,10,11,12,13,14,15,16,17,18,19,20,21,22,23,24,25,26,27,28,29,30,31,32,33,34,35,36,37,38,39,40,41,42,43,44,45,46,47,48,49,50,51,52,53,54,55,56,57,58,59,60,61,62,63,64,65,66,67,68,69,70,71,72,73,74,75,76,77,78,79,80,81,82,83,84,85,86,87,88,89,90,91,92,93,94,95,96,97,98,99],\"y\":[-0.2217291443388921,-1.2371542355520193,0.8123200317942653,1.2443210913177807,0.15665068302727347,-0.49601188309501854,-1.5674118452306314,0.8681936946504126,-2.1588947361277944,0.004523669014418451,0.2224144998784712,-1.2047967088202578,-0.48311376209050955,0.5263364911407737,-0.6581025306060428,0.5859815825235286,1.2843285937087179,2.644736009199112,0.6686205905210374,0.41822294352248607,-1.0881429265518046,-0.2848994852918314,-1.0361040136959085,-0.43236691856491044,-1.2151060705229921,-1.0535802751145777,-1.7101393540602814,0.13700496725160327,-0.03639404936203314,-1.167416774354088,1.242824173634307,0.7555947464871007,-0.2358954009781537,1.7245172324003295,0.011408650486823966,1.468500443226724,-1.087452184127168,0.31587470047464566,-0.64965102521893,-0.18741629301066062,0.8643789608770887,0.1374916054046593,0.984915590803966,-0.5749850827580681,-0.31367705412547175,0.43808758668803777,0.5237444006175169,-1.933200354258214,0.24285826858388612,1.0770527002311396,0.8642237475271446,-2.8026546155389527,-1.269688258045194,0.13818859955011006,-0.7032899314435153,-1.6489195836048638,-0.10259177038998696,1.4542546939122745,-0.5144024244857891,-0.16761985394816561,0.18057974799115853,0.9153792574175322,-1.5625254164314404,0.7275749276372556,-0.8410916716639276,1.9702443659279567,1.0105656117288755,-0.33011431585845263,0.05896025014420832,-0.6182716108350788,-1.9307322255876471,-0.423044638561435,0.8242161598940201,0.7473086068676891,-0.06390385057859259,1.411752606998454,0.9490293076629773,0.009991847913236184,0.673086587444426,-0.12972617508859452,-1.4564557150623647,0.36259057467603667,-1.0036754215214432,-0.9933192141036302,-0.8830959235342006,0.0068193462280179895,0.7529614687362064,0.4431679290600762,0.7558262294932983,-1.87289174236139,2.6694207476365075,-0.03194188108580788,-1.1825587513883815,-0.6013875741485867,0.7019085379263506,-0.16891436238867008,-1.3841323134554913,1.5394640870582705,0.8545201128569784,0.8007369757347785]},{\"connectgaps\":false,\"fill\":\"tozeroy\",\"line\":{\"color\":\"green\",\"dash\":\"solid\",\"shape\":\"linear\",\"width\":0.5},\"mode\":\"lines\",\"name\":\"Spread\",\"showlegend\":false,\"type\":\"scatter\",\"x\":[0,1,2,3,4,5,6,7,8,9,10,11,12,13,14,15,16,17,18,19,20,21,22,23,24,25,26,27,28,29,30,31,32,33,34,35,36,37,38,39,40,41,42,43,44,45,46,47,48,49,50,51,52,53,54,55,56,57,58,59,60,61,62,63,64,65,66,67,68,69,70,71,72,73,74,75,76,77,78,79,80,81,82,83,84,85,86,87,88,89,90,91,92,93,94,95,96,97,98,99],\"xaxis\":\"x2\",\"y\":[0.8972074386714576,1.8047888324363017,\"\",0.31548497421586585,0.0449078351910078,0.3255776825445762,3.205683307322872,\"\",0.7621444752592841,\"\",\"\",0.7629728876250526,\"\",\"\",\"\",1.2644373415823797,\"\",\"\",\"\",\"\",1.44187977044349,1.0860505516046062,1.9519575419242798,0.33145851862055503,1.7348376134704977,1.5959160130732286,1.1213176817070063,\"\",\"\",0.21212477341732927,\"\",\"\",2.12018506491854,\"\",0.17231758245826245,\"\",\"\",0.005802538766167875,1.8696038711917462,3.1173415807763534,\"\",\"\",\"\",0.9413201805275291,\"\",\"\",0.8895110273169731,0.22911550912492662,\"\",\"\",\"\",1.4781069198016659,1.0932071052508237,0.37497721358111724,1.3287510898382247,0.6985023305593475,\"\",\"\",0.8282534245658066,1.3974080984139046,1.8806740568155198,0.8086779467302626,0.8397000573747925,0.21552856739155435,\"\",\"\",0.28238459161694784,1.5033919565807485,0.941737396179807,0.6962368084638942,1.4319671779069718,1.3994630981497473,\"\",0.7955410664699902,\"\",\"\",\"\",\"\",1.3795284041569644,\"\",2.2109837081261303,\"\",\"\",1.9275470969372066,1.44557988314411,1.1379714089134678,\"\",\"\",\"\",4.216149031197231,\"\",0.8260983505758314,0.5673246113145962,1.4557992385971628,\"\",1.7822229095184259,1.187335386729659,\"\",\"\",\"\"],\"yaxis\":\"y2\"},{\"connectgaps\":false,\"fill\":\"tozeroy\",\"line\":{\"color\":\"red\",\"dash\":\"solid\",\"shape\":\"linear\",\"width\":0.5},\"mode\":\"lines\",\"name\":\"Spread\",\"showlegend\":false,\"type\":\"scatter\",\"x\":[0,1,2,3,4,5,6,7,8,9,10,11,12,13,14,15,16,17,18,19,20,21,22,23,24,25,26,27,28,29,30,31,32,33,34,35,36,37,38,39,40,41,42,43,44,45,46,47,48,49,50,51,52,53,54,55,56,57,58,59,60,61,62,63,64,65,66,67,68,69,70,71,72,73,74,75,76,77,78,79,80,81,82,83,84,85,86,87,88,89,90,91,92,93,94,95,96,97,98,99],\"xaxis\":\"x2\",\"y\":[\"\",\"\",-0.6794318412567064,\"\",\"\",\"\",\"\",-0.27218137275176124,\"\",-0.42205027064529477,-1.6846340464659313,\"\",-0.45650639719352654,-0.6645978738674883,-0.22691357978285032,\"\",-1.85136811984478,-3.095966042678385,-2.0345936462645406,-2.6377928072705488,\"\",\"\",\"\",\"\",\"\",\"\",\"\",-0.7891886381264174,-0.3239429831305283,\"\",-3.5278038884026004,-0.3036764368073085,\"\",-0.5904274537639722,\"\",-2.4922113603806695,-0.566551591562247,\"\",\"\",\"\",-1.681596291085338,-1.7880284307515335,-0.7504517884279551,\"\",-1.0968405032034112,-1.5266834049911393,\"\",\"\",-0.21163418099154158,-1.4047843583877606,-0.19794935255985568,\"\",\"\",\"\",\"\",\"\",-0.2779733672712136,-3.0652351973832195,\"\",\"\",\"\",\"\",\"\",\"\",-1.1700709255955193,-2.9292214229332556,\"\",\"\",\"\",\"\",\"\",\"\",-0.8383231052070468,\"\",-1.0280488480855756,-0.9334578836342904,-0.673779217118736,-1.980367396111722,\"\",-0.4058563256889539,\"\",-0.07628579065802515,-0.3989183178683915,\"\",\"\",\"\",-0.6633478649329293,-0.9248752408016784,-1.3877323744720813,\"\",-3.228350960902614,\"\",\"\",\"\",-0.2889288398656281,\"\",\"\",-1.7647065592278568,-1.9555612235170015,-2.7050424209032222],\"yaxis\":\"y2\"}],                        {\"hovermode\":\"x\",\"legend\":{\"bgcolor\":\"#F5F6F9\",\"font\":{\"color\":\"#4D5663\"}},\"paper_bgcolor\":\"#F5F6F9\",\"plot_bgcolor\":\"#F5F6F9\",\"template\":{\"data\":{\"bar\":[{\"error_x\":{\"color\":\"#2a3f5f\"},\"error_y\":{\"color\":\"#2a3f5f\"},\"marker\":{\"line\":{\"color\":\"#E5ECF6\",\"width\":0.5},\"pattern\":{\"fillmode\":\"overlay\",\"size\":10,\"solidity\":0.2}},\"type\":\"bar\"}],\"barpolar\":[{\"marker\":{\"line\":{\"color\":\"#E5ECF6\",\"width\":0.5},\"pattern\":{\"fillmode\":\"overlay\",\"size\":10,\"solidity\":0.2}},\"type\":\"barpolar\"}],\"carpet\":[{\"aaxis\":{\"endlinecolor\":\"#2a3f5f\",\"gridcolor\":\"white\",\"linecolor\":\"white\",\"minorgridcolor\":\"white\",\"startlinecolor\":\"#2a3f5f\"},\"baxis\":{\"endlinecolor\":\"#2a3f5f\",\"gridcolor\":\"white\",\"linecolor\":\"white\",\"minorgridcolor\":\"white\",\"startlinecolor\":\"#2a3f5f\"},\"type\":\"carpet\"}],\"choropleth\":[{\"colorbar\":{\"outlinewidth\":0,\"ticks\":\"\"},\"type\":\"choropleth\"}],\"contour\":[{\"colorbar\":{\"outlinewidth\":0,\"ticks\":\"\"},\"colorscale\":[[0.0,\"#0d0887\"],[0.1111111111111111,\"#46039f\"],[0.2222222222222222,\"#7201a8\"],[0.3333333333333333,\"#9c179e\"],[0.4444444444444444,\"#bd3786\"],[0.5555555555555556,\"#d8576b\"],[0.6666666666666666,\"#ed7953\"],[0.7777777777777778,\"#fb9f3a\"],[0.8888888888888888,\"#fdca26\"],[1.0,\"#f0f921\"]],\"type\":\"contour\"}],\"contourcarpet\":[{\"colorbar\":{\"outlinewidth\":0,\"ticks\":\"\"},\"type\":\"contourcarpet\"}],\"heatmap\":[{\"colorbar\":{\"outlinewidth\":0,\"ticks\":\"\"},\"colorscale\":[[0.0,\"#0d0887\"],[0.1111111111111111,\"#46039f\"],[0.2222222222222222,\"#7201a8\"],[0.3333333333333333,\"#9c179e\"],[0.4444444444444444,\"#bd3786\"],[0.5555555555555556,\"#d8576b\"],[0.6666666666666666,\"#ed7953\"],[0.7777777777777778,\"#fb9f3a\"],[0.8888888888888888,\"#fdca26\"],[1.0,\"#f0f921\"]],\"type\":\"heatmap\"}],\"heatmapgl\":[{\"colorbar\":{\"outlinewidth\":0,\"ticks\":\"\"},\"colorscale\":[[0.0,\"#0d0887\"],[0.1111111111111111,\"#46039f\"],[0.2222222222222222,\"#7201a8\"],[0.3333333333333333,\"#9c179e\"],[0.4444444444444444,\"#bd3786\"],[0.5555555555555556,\"#d8576b\"],[0.6666666666666666,\"#ed7953\"],[0.7777777777777778,\"#fb9f3a\"],[0.8888888888888888,\"#fdca26\"],[1.0,\"#f0f921\"]],\"type\":\"heatmapgl\"}],\"histogram\":[{\"marker\":{\"pattern\":{\"fillmode\":\"overlay\",\"size\":10,\"solidity\":0.2}},\"type\":\"histogram\"}],\"histogram2d\":[{\"colorbar\":{\"outlinewidth\":0,\"ticks\":\"\"},\"colorscale\":[[0.0,\"#0d0887\"],[0.1111111111111111,\"#46039f\"],[0.2222222222222222,\"#7201a8\"],[0.3333333333333333,\"#9c179e\"],[0.4444444444444444,\"#bd3786\"],[0.5555555555555556,\"#d8576b\"],[0.6666666666666666,\"#ed7953\"],[0.7777777777777778,\"#fb9f3a\"],[0.8888888888888888,\"#fdca26\"],[1.0,\"#f0f921\"]],\"type\":\"histogram2d\"}],\"histogram2dcontour\":[{\"colorbar\":{\"outlinewidth\":0,\"ticks\":\"\"},\"colorscale\":[[0.0,\"#0d0887\"],[0.1111111111111111,\"#46039f\"],[0.2222222222222222,\"#7201a8\"],[0.3333333333333333,\"#9c179e\"],[0.4444444444444444,\"#bd3786\"],[0.5555555555555556,\"#d8576b\"],[0.6666666666666666,\"#ed7953\"],[0.7777777777777778,\"#fb9f3a\"],[0.8888888888888888,\"#fdca26\"],[1.0,\"#f0f921\"]],\"type\":\"histogram2dcontour\"}],\"mesh3d\":[{\"colorbar\":{\"outlinewidth\":0,\"ticks\":\"\"},\"type\":\"mesh3d\"}],\"parcoords\":[{\"line\":{\"colorbar\":{\"outlinewidth\":0,\"ticks\":\"\"}},\"type\":\"parcoords\"}],\"pie\":[{\"automargin\":true,\"type\":\"pie\"}],\"scatter\":[{\"marker\":{\"colorbar\":{\"outlinewidth\":0,\"ticks\":\"\"}},\"type\":\"scatter\"}],\"scatter3d\":[{\"line\":{\"colorbar\":{\"outlinewidth\":0,\"ticks\":\"\"}},\"marker\":{\"colorbar\":{\"outlinewidth\":0,\"ticks\":\"\"}},\"type\":\"scatter3d\"}],\"scattercarpet\":[{\"marker\":{\"colorbar\":{\"outlinewidth\":0,\"ticks\":\"\"}},\"type\":\"scattercarpet\"}],\"scattergeo\":[{\"marker\":{\"colorbar\":{\"outlinewidth\":0,\"ticks\":\"\"}},\"type\":\"scattergeo\"}],\"scattergl\":[{\"marker\":{\"colorbar\":{\"outlinewidth\":0,\"ticks\":\"\"}},\"type\":\"scattergl\"}],\"scattermapbox\":[{\"marker\":{\"colorbar\":{\"outlinewidth\":0,\"ticks\":\"\"}},\"type\":\"scattermapbox\"}],\"scatterpolar\":[{\"marker\":{\"colorbar\":{\"outlinewidth\":0,\"ticks\":\"\"}},\"type\":\"scatterpolar\"}],\"scatterpolargl\":[{\"marker\":{\"colorbar\":{\"outlinewidth\":0,\"ticks\":\"\"}},\"type\":\"scatterpolargl\"}],\"scatterternary\":[{\"marker\":{\"colorbar\":{\"outlinewidth\":0,\"ticks\":\"\"}},\"type\":\"scatterternary\"}],\"surface\":[{\"colorbar\":{\"outlinewidth\":0,\"ticks\":\"\"},\"colorscale\":[[0.0,\"#0d0887\"],[0.1111111111111111,\"#46039f\"],[0.2222222222222222,\"#7201a8\"],[0.3333333333333333,\"#9c179e\"],[0.4444444444444444,\"#bd3786\"],[0.5555555555555556,\"#d8576b\"],[0.6666666666666666,\"#ed7953\"],[0.7777777777777778,\"#fb9f3a\"],[0.8888888888888888,\"#fdca26\"],[1.0,\"#f0f921\"]],\"type\":\"surface\"}],\"table\":[{\"cells\":{\"fill\":{\"color\":\"#EBF0F8\"},\"line\":{\"color\":\"white\"}},\"header\":{\"fill\":{\"color\":\"#C8D4E3\"},\"line\":{\"color\":\"white\"}},\"type\":\"table\"}]},\"layout\":{\"annotationdefaults\":{\"arrowcolor\":\"#2a3f5f\",\"arrowhead\":0,\"arrowwidth\":1},\"autotypenumbers\":\"strict\",\"coloraxis\":{\"colorbar\":{\"outlinewidth\":0,\"ticks\":\"\"}},\"colorscale\":{\"diverging\":[[0,\"#8e0152\"],[0.1,\"#c51b7d\"],[0.2,\"#de77ae\"],[0.3,\"#f1b6da\"],[0.4,\"#fde0ef\"],[0.5,\"#f7f7f7\"],[0.6,\"#e6f5d0\"],[0.7,\"#b8e186\"],[0.8,\"#7fbc41\"],[0.9,\"#4d9221\"],[1,\"#276419\"]],\"sequential\":[[0.0,\"#0d0887\"],[0.1111111111111111,\"#46039f\"],[0.2222222222222222,\"#7201a8\"],[0.3333333333333333,\"#9c179e\"],[0.4444444444444444,\"#bd3786\"],[0.5555555555555556,\"#d8576b\"],[0.6666666666666666,\"#ed7953\"],[0.7777777777777778,\"#fb9f3a\"],[0.8888888888888888,\"#fdca26\"],[1.0,\"#f0f921\"]],\"sequentialminus\":[[0.0,\"#0d0887\"],[0.1111111111111111,\"#46039f\"],[0.2222222222222222,\"#7201a8\"],[0.3333333333333333,\"#9c179e\"],[0.4444444444444444,\"#bd3786\"],[0.5555555555555556,\"#d8576b\"],[0.6666666666666666,\"#ed7953\"],[0.7777777777777778,\"#fb9f3a\"],[0.8888888888888888,\"#fdca26\"],[1.0,\"#f0f921\"]]},\"colorway\":[\"#636efa\",\"#EF553B\",\"#00cc96\",\"#ab63fa\",\"#FFA15A\",\"#19d3f3\",\"#FF6692\",\"#B6E880\",\"#FF97FF\",\"#FECB52\"],\"font\":{\"color\":\"#2a3f5f\"},\"geo\":{\"bgcolor\":\"white\",\"lakecolor\":\"white\",\"landcolor\":\"#E5ECF6\",\"showlakes\":true,\"showland\":true,\"subunitcolor\":\"white\"},\"hoverlabel\":{\"align\":\"left\"},\"hovermode\":\"closest\",\"mapbox\":{\"style\":\"light\"},\"paper_bgcolor\":\"white\",\"plot_bgcolor\":\"#E5ECF6\",\"polar\":{\"angularaxis\":{\"gridcolor\":\"white\",\"linecolor\":\"white\",\"ticks\":\"\"},\"bgcolor\":\"#E5ECF6\",\"radialaxis\":{\"gridcolor\":\"white\",\"linecolor\":\"white\",\"ticks\":\"\"}},\"scene\":{\"xaxis\":{\"backgroundcolor\":\"#E5ECF6\",\"gridcolor\":\"white\",\"gridwidth\":2,\"linecolor\":\"white\",\"showbackground\":true,\"ticks\":\"\",\"zerolinecolor\":\"white\"},\"yaxis\":{\"backgroundcolor\":\"#E5ECF6\",\"gridcolor\":\"white\",\"gridwidth\":2,\"linecolor\":\"white\",\"showbackground\":true,\"ticks\":\"\",\"zerolinecolor\":\"white\"},\"zaxis\":{\"backgroundcolor\":\"#E5ECF6\",\"gridcolor\":\"white\",\"gridwidth\":2,\"linecolor\":\"white\",\"showbackground\":true,\"ticks\":\"\",\"zerolinecolor\":\"white\"}},\"shapedefaults\":{\"line\":{\"color\":\"#2a3f5f\"}},\"ternary\":{\"aaxis\":{\"gridcolor\":\"white\",\"linecolor\":\"white\",\"ticks\":\"\"},\"baxis\":{\"gridcolor\":\"white\",\"linecolor\":\"white\",\"ticks\":\"\"},\"bgcolor\":\"#E5ECF6\",\"caxis\":{\"gridcolor\":\"white\",\"linecolor\":\"white\",\"ticks\":\"\"}},\"title\":{\"x\":0.05},\"xaxis\":{\"automargin\":true,\"gridcolor\":\"white\",\"linecolor\":\"white\",\"ticks\":\"\",\"title\":{\"standoff\":15},\"zerolinecolor\":\"white\",\"zerolinewidth\":2},\"yaxis\":{\"automargin\":true,\"gridcolor\":\"white\",\"linecolor\":\"white\",\"ticks\":\"\",\"title\":{\"standoff\":15},\"zerolinecolor\":\"white\",\"zerolinewidth\":2}}},\"title\":{\"font\":{\"color\":\"#4D5663\"}},\"xaxis\":{\"gridcolor\":\"#E1E5ED\",\"showgrid\":true,\"tickfont\":{\"color\":\"#4D5663\"},\"title\":{\"font\":{\"color\":\"#4D5663\"},\"text\":\"\"},\"zerolinecolor\":\"#E1E5ED\"},\"xaxis2\":{\"anchor\":\"y2\",\"gridcolor\":\"#E1E5ED\",\"showgrid\":true,\"showticklabels\":false,\"tickfont\":{\"color\":\"#4D5663\"},\"title\":{\"font\":{\"color\":\"#4D5663\"},\"text\":\"\"},\"zerolinecolor\":\"#E1E5ED\"},\"yaxis\":{\"domain\":[0.3,1],\"gridcolor\":\"#E1E5ED\",\"showgrid\":true,\"tickfont\":{\"color\":\"#4D5663\"},\"title\":{\"font\":{\"color\":\"#4D5663\"},\"text\":\"\"},\"zerolinecolor\":\"#E1E5ED\"},\"yaxis2\":{\"domain\":[0,0.25],\"gridcolor\":\"#E1E5ED\",\"showgrid\":true,\"tickfont\":{\"color\":\"#4D5663\"},\"title\":{\"font\":{\"color\":\"#4D5663\"},\"text\":\"Spread\"},\"zerolinecolor\":\"#E1E5ED\"}},                        {\"showLink\": true, \"linkText\": \"Export to plot.ly\", \"plotlyServerURL\": \"https://plot.ly\", \"responsive\": true}                    ).then(function(){\n",
       "                            \n",
       "var gd = document.getElementById('f444a12c-3299-4924-a16a-af7b1aa36f97');\n",
       "var x = new MutationObserver(function (mutations, observer) {{\n",
       "        var display = window.getComputedStyle(gd).display;\n",
       "        if (!display || display === 'none') {{\n",
       "            console.log([gd, 'removed!']);\n",
       "            Plotly.purge(gd);\n",
       "            observer.disconnect();\n",
       "        }}\n",
       "}});\n",
       "\n",
       "// Listen for the removal of the full notebook cells\n",
       "var notebookContainer = gd.closest('#notebook-container');\n",
       "if (notebookContainer) {{\n",
       "    x.observe(notebookContainer, {childList: true});\n",
       "}}\n",
       "\n",
       "// Listen for the clearing of the current output cell\n",
       "var outputEl = gd.closest('.output');\n",
       "if (outputEl) {{\n",
       "    x.observe(outputEl, {childList: true});\n",
       "}}\n",
       "\n",
       "                        })                };                });            </script>        </div>"
      ]
     },
     "metadata": {},
     "output_type": "display_data"
    }
   ],
   "source": [
    "df[['A','B']].iplot(kind='spread')"
   ]
  },
  {
   "cell_type": "markdown",
   "metadata": {},
   "source": [
    "## histogram"
   ]
  },
  {
   "cell_type": "code",
   "execution_count": 18,
   "metadata": {},
   "outputs": [
    {
     "data": {
      "application/vnd.plotly.v1+json": {
       "config": {
        "linkText": "Export to plot.ly",
        "plotlyServerURL": "https://plot.ly",
        "showLink": true
       },
       "data": [
        {
         "histfunc": "count",
         "histnorm": "",
         "marker": {
          "color": "rgba(255, 153, 51, 1.0)",
          "line": {
           "color": "#4D5663",
           "width": 1.3
          }
         },
         "name": "A",
         "nbinsx": 25,
         "opacity": 0.8,
         "orientation": "v",
         "type": "histogram",
         "x": [
          0.6754782943325655,
          0.5676345968842824,
          0.1328881905375589,
          1.5598060655336465,
          0.20155851821828127,
          -0.1704342005504423,
          1.6382714620922407,
          0.5960123218986514,
          -1.3967502608685103,
          -0.4175266016308763,
          -1.4622195465874601,
          -0.4418238211952053,
          -0.9396201592840361,
          -0.13826138272671448,
          -0.8850161103888932,
          1.8504189241059084,
          -0.5670395261360621,
          -0.4512300334792727,
          -1.3659730557435033,
          -2.2195698637480628,
          0.3537368438916856,
          0.8011510663127747,
          0.9158535282283714,
          -0.10090839994435542,
          0.5197315429475056,
          0.542335737958651,
          -0.5888216723532752,
          -0.6521836708748141,
          -0.3603370324925614,
          -0.9552920009367587,
          -2.2849797147682933,
          0.4519183096797922,
          1.8842896639403863,
          1.1340897786363573,
          0.18372623294508642,
          -1.0237109171539454,
          -1.654003775689415,
          0.32167723924081354,
          1.2199528459728162,
          2.929925287765693,
          -0.8172173302082492,
          -1.6505368253468742,
          0.23446380237601086,
          0.36633509776946094,
          -1.410517557328883,
          -1.0885958183031015,
          1.41325542793449,
          -1.7040848451332873,
          0.03122408759234455,
          -0.32773165815662103,
          0.6662743949672889,
          -1.3245476957372868,
          -0.17648115279437038,
          0.5131658131312273,
          0.6254611583947094,
          -0.9504172530455163,
          -0.38056513766120054,
          -1.610980503470945,
          0.3138510000800175,
          1.2297882444657389,
          2.0612538048066784,
          1.7240572041477948,
          -0.7228253590566479,
          0.94310349502881,
          -2.011162597259447,
          -0.958977057005299,
          1.2929502033458233,
          1.1732776407222958,
          1.0006976463240154,
          0.07796519762881553,
          -0.4987650476806753,
          0.9764184595883123,
          -0.014106945313026645,
          1.5428496733376793,
          -1.091952698664168,
          0.4782947233641637,
          0.2752500905442413,
          -1.970375548198486,
          2.0526149916013905,
          -0.5355825007775484,
          0.7545279930637657,
          0.2863047840180115,
          -1.4025937393898347,
          0.9342278828335764,
          0.5624839596099094,
          1.1447907551414858,
          0.08961360380327707,
          -0.4817073117416022,
          -0.6319061449787831,
          2.343257288835841,
          -0.5589302132661069,
          0.7941564694900235,
          -0.6152341400737853,
          0.8544116644485762,
          0.41297969806072243,
          1.613308547129756,
          -0.19679692672583227,
          -0.2252424721695863,
          -1.101041110660023,
          -1.9043054451684438
         ]
        }
       ],
       "layout": {
        "barmode": "overlay",
        "legend": {
         "bgcolor": "#F5F6F9",
         "font": {
          "color": "#4D5663"
         }
        },
        "paper_bgcolor": "#F5F6F9",
        "plot_bgcolor": "#F5F6F9",
        "template": {
         "data": {
          "bar": [
           {
            "error_x": {
             "color": "#2a3f5f"
            },
            "error_y": {
             "color": "#2a3f5f"
            },
            "marker": {
             "line": {
              "color": "#E5ECF6",
              "width": 0.5
             },
             "pattern": {
              "fillmode": "overlay",
              "size": 10,
              "solidity": 0.2
             }
            },
            "type": "bar"
           }
          ],
          "barpolar": [
           {
            "marker": {
             "line": {
              "color": "#E5ECF6",
              "width": 0.5
             },
             "pattern": {
              "fillmode": "overlay",
              "size": 10,
              "solidity": 0.2
             }
            },
            "type": "barpolar"
           }
          ],
          "carpet": [
           {
            "aaxis": {
             "endlinecolor": "#2a3f5f",
             "gridcolor": "white",
             "linecolor": "white",
             "minorgridcolor": "white",
             "startlinecolor": "#2a3f5f"
            },
            "baxis": {
             "endlinecolor": "#2a3f5f",
             "gridcolor": "white",
             "linecolor": "white",
             "minorgridcolor": "white",
             "startlinecolor": "#2a3f5f"
            },
            "type": "carpet"
           }
          ],
          "choropleth": [
           {
            "colorbar": {
             "outlinewidth": 0,
             "ticks": ""
            },
            "type": "choropleth"
           }
          ],
          "contour": [
           {
            "colorbar": {
             "outlinewidth": 0,
             "ticks": ""
            },
            "colorscale": [
             [
              0,
              "#0d0887"
             ],
             [
              0.1111111111111111,
              "#46039f"
             ],
             [
              0.2222222222222222,
              "#7201a8"
             ],
             [
              0.3333333333333333,
              "#9c179e"
             ],
             [
              0.4444444444444444,
              "#bd3786"
             ],
             [
              0.5555555555555556,
              "#d8576b"
             ],
             [
              0.6666666666666666,
              "#ed7953"
             ],
             [
              0.7777777777777778,
              "#fb9f3a"
             ],
             [
              0.8888888888888888,
              "#fdca26"
             ],
             [
              1,
              "#f0f921"
             ]
            ],
            "type": "contour"
           }
          ],
          "contourcarpet": [
           {
            "colorbar": {
             "outlinewidth": 0,
             "ticks": ""
            },
            "type": "contourcarpet"
           }
          ],
          "heatmap": [
           {
            "colorbar": {
             "outlinewidth": 0,
             "ticks": ""
            },
            "colorscale": [
             [
              0,
              "#0d0887"
             ],
             [
              0.1111111111111111,
              "#46039f"
             ],
             [
              0.2222222222222222,
              "#7201a8"
             ],
             [
              0.3333333333333333,
              "#9c179e"
             ],
             [
              0.4444444444444444,
              "#bd3786"
             ],
             [
              0.5555555555555556,
              "#d8576b"
             ],
             [
              0.6666666666666666,
              "#ed7953"
             ],
             [
              0.7777777777777778,
              "#fb9f3a"
             ],
             [
              0.8888888888888888,
              "#fdca26"
             ],
             [
              1,
              "#f0f921"
             ]
            ],
            "type": "heatmap"
           }
          ],
          "heatmapgl": [
           {
            "colorbar": {
             "outlinewidth": 0,
             "ticks": ""
            },
            "colorscale": [
             [
              0,
              "#0d0887"
             ],
             [
              0.1111111111111111,
              "#46039f"
             ],
             [
              0.2222222222222222,
              "#7201a8"
             ],
             [
              0.3333333333333333,
              "#9c179e"
             ],
             [
              0.4444444444444444,
              "#bd3786"
             ],
             [
              0.5555555555555556,
              "#d8576b"
             ],
             [
              0.6666666666666666,
              "#ed7953"
             ],
             [
              0.7777777777777778,
              "#fb9f3a"
             ],
             [
              0.8888888888888888,
              "#fdca26"
             ],
             [
              1,
              "#f0f921"
             ]
            ],
            "type": "heatmapgl"
           }
          ],
          "histogram": [
           {
            "marker": {
             "pattern": {
              "fillmode": "overlay",
              "size": 10,
              "solidity": 0.2
             }
            },
            "type": "histogram"
           }
          ],
          "histogram2d": [
           {
            "colorbar": {
             "outlinewidth": 0,
             "ticks": ""
            },
            "colorscale": [
             [
              0,
              "#0d0887"
             ],
             [
              0.1111111111111111,
              "#46039f"
             ],
             [
              0.2222222222222222,
              "#7201a8"
             ],
             [
              0.3333333333333333,
              "#9c179e"
             ],
             [
              0.4444444444444444,
              "#bd3786"
             ],
             [
              0.5555555555555556,
              "#d8576b"
             ],
             [
              0.6666666666666666,
              "#ed7953"
             ],
             [
              0.7777777777777778,
              "#fb9f3a"
             ],
             [
              0.8888888888888888,
              "#fdca26"
             ],
             [
              1,
              "#f0f921"
             ]
            ],
            "type": "histogram2d"
           }
          ],
          "histogram2dcontour": [
           {
            "colorbar": {
             "outlinewidth": 0,
             "ticks": ""
            },
            "colorscale": [
             [
              0,
              "#0d0887"
             ],
             [
              0.1111111111111111,
              "#46039f"
             ],
             [
              0.2222222222222222,
              "#7201a8"
             ],
             [
              0.3333333333333333,
              "#9c179e"
             ],
             [
              0.4444444444444444,
              "#bd3786"
             ],
             [
              0.5555555555555556,
              "#d8576b"
             ],
             [
              0.6666666666666666,
              "#ed7953"
             ],
             [
              0.7777777777777778,
              "#fb9f3a"
             ],
             [
              0.8888888888888888,
              "#fdca26"
             ],
             [
              1,
              "#f0f921"
             ]
            ],
            "type": "histogram2dcontour"
           }
          ],
          "mesh3d": [
           {
            "colorbar": {
             "outlinewidth": 0,
             "ticks": ""
            },
            "type": "mesh3d"
           }
          ],
          "parcoords": [
           {
            "line": {
             "colorbar": {
              "outlinewidth": 0,
              "ticks": ""
             }
            },
            "type": "parcoords"
           }
          ],
          "pie": [
           {
            "automargin": true,
            "type": "pie"
           }
          ],
          "scatter": [
           {
            "marker": {
             "colorbar": {
              "outlinewidth": 0,
              "ticks": ""
             }
            },
            "type": "scatter"
           }
          ],
          "scatter3d": [
           {
            "line": {
             "colorbar": {
              "outlinewidth": 0,
              "ticks": ""
             }
            },
            "marker": {
             "colorbar": {
              "outlinewidth": 0,
              "ticks": ""
             }
            },
            "type": "scatter3d"
           }
          ],
          "scattercarpet": [
           {
            "marker": {
             "colorbar": {
              "outlinewidth": 0,
              "ticks": ""
             }
            },
            "type": "scattercarpet"
           }
          ],
          "scattergeo": [
           {
            "marker": {
             "colorbar": {
              "outlinewidth": 0,
              "ticks": ""
             }
            },
            "type": "scattergeo"
           }
          ],
          "scattergl": [
           {
            "marker": {
             "colorbar": {
              "outlinewidth": 0,
              "ticks": ""
             }
            },
            "type": "scattergl"
           }
          ],
          "scattermapbox": [
           {
            "marker": {
             "colorbar": {
              "outlinewidth": 0,
              "ticks": ""
             }
            },
            "type": "scattermapbox"
           }
          ],
          "scatterpolar": [
           {
            "marker": {
             "colorbar": {
              "outlinewidth": 0,
              "ticks": ""
             }
            },
            "type": "scatterpolar"
           }
          ],
          "scatterpolargl": [
           {
            "marker": {
             "colorbar": {
              "outlinewidth": 0,
              "ticks": ""
             }
            },
            "type": "scatterpolargl"
           }
          ],
          "scatterternary": [
           {
            "marker": {
             "colorbar": {
              "outlinewidth": 0,
              "ticks": ""
             }
            },
            "type": "scatterternary"
           }
          ],
          "surface": [
           {
            "colorbar": {
             "outlinewidth": 0,
             "ticks": ""
            },
            "colorscale": [
             [
              0,
              "#0d0887"
             ],
             [
              0.1111111111111111,
              "#46039f"
             ],
             [
              0.2222222222222222,
              "#7201a8"
             ],
             [
              0.3333333333333333,
              "#9c179e"
             ],
             [
              0.4444444444444444,
              "#bd3786"
             ],
             [
              0.5555555555555556,
              "#d8576b"
             ],
             [
              0.6666666666666666,
              "#ed7953"
             ],
             [
              0.7777777777777778,
              "#fb9f3a"
             ],
             [
              0.8888888888888888,
              "#fdca26"
             ],
             [
              1,
              "#f0f921"
             ]
            ],
            "type": "surface"
           }
          ],
          "table": [
           {
            "cells": {
             "fill": {
              "color": "#EBF0F8"
             },
             "line": {
              "color": "white"
             }
            },
            "header": {
             "fill": {
              "color": "#C8D4E3"
             },
             "line": {
              "color": "white"
             }
            },
            "type": "table"
           }
          ]
         },
         "layout": {
          "annotationdefaults": {
           "arrowcolor": "#2a3f5f",
           "arrowhead": 0,
           "arrowwidth": 1
          },
          "autotypenumbers": "strict",
          "coloraxis": {
           "colorbar": {
            "outlinewidth": 0,
            "ticks": ""
           }
          },
          "colorscale": {
           "diverging": [
            [
             0,
             "#8e0152"
            ],
            [
             0.1,
             "#c51b7d"
            ],
            [
             0.2,
             "#de77ae"
            ],
            [
             0.3,
             "#f1b6da"
            ],
            [
             0.4,
             "#fde0ef"
            ],
            [
             0.5,
             "#f7f7f7"
            ],
            [
             0.6,
             "#e6f5d0"
            ],
            [
             0.7,
             "#b8e186"
            ],
            [
             0.8,
             "#7fbc41"
            ],
            [
             0.9,
             "#4d9221"
            ],
            [
             1,
             "#276419"
            ]
           ],
           "sequential": [
            [
             0,
             "#0d0887"
            ],
            [
             0.1111111111111111,
             "#46039f"
            ],
            [
             0.2222222222222222,
             "#7201a8"
            ],
            [
             0.3333333333333333,
             "#9c179e"
            ],
            [
             0.4444444444444444,
             "#bd3786"
            ],
            [
             0.5555555555555556,
             "#d8576b"
            ],
            [
             0.6666666666666666,
             "#ed7953"
            ],
            [
             0.7777777777777778,
             "#fb9f3a"
            ],
            [
             0.8888888888888888,
             "#fdca26"
            ],
            [
             1,
             "#f0f921"
            ]
           ],
           "sequentialminus": [
            [
             0,
             "#0d0887"
            ],
            [
             0.1111111111111111,
             "#46039f"
            ],
            [
             0.2222222222222222,
             "#7201a8"
            ],
            [
             0.3333333333333333,
             "#9c179e"
            ],
            [
             0.4444444444444444,
             "#bd3786"
            ],
            [
             0.5555555555555556,
             "#d8576b"
            ],
            [
             0.6666666666666666,
             "#ed7953"
            ],
            [
             0.7777777777777778,
             "#fb9f3a"
            ],
            [
             0.8888888888888888,
             "#fdca26"
            ],
            [
             1,
             "#f0f921"
            ]
           ]
          },
          "colorway": [
           "#636efa",
           "#EF553B",
           "#00cc96",
           "#ab63fa",
           "#FFA15A",
           "#19d3f3",
           "#FF6692",
           "#B6E880",
           "#FF97FF",
           "#FECB52"
          ],
          "font": {
           "color": "#2a3f5f"
          },
          "geo": {
           "bgcolor": "white",
           "lakecolor": "white",
           "landcolor": "#E5ECF6",
           "showlakes": true,
           "showland": true,
           "subunitcolor": "white"
          },
          "hoverlabel": {
           "align": "left"
          },
          "hovermode": "closest",
          "mapbox": {
           "style": "light"
          },
          "paper_bgcolor": "white",
          "plot_bgcolor": "#E5ECF6",
          "polar": {
           "angularaxis": {
            "gridcolor": "white",
            "linecolor": "white",
            "ticks": ""
           },
           "bgcolor": "#E5ECF6",
           "radialaxis": {
            "gridcolor": "white",
            "linecolor": "white",
            "ticks": ""
           }
          },
          "scene": {
           "xaxis": {
            "backgroundcolor": "#E5ECF6",
            "gridcolor": "white",
            "gridwidth": 2,
            "linecolor": "white",
            "showbackground": true,
            "ticks": "",
            "zerolinecolor": "white"
           },
           "yaxis": {
            "backgroundcolor": "#E5ECF6",
            "gridcolor": "white",
            "gridwidth": 2,
            "linecolor": "white",
            "showbackground": true,
            "ticks": "",
            "zerolinecolor": "white"
           },
           "zaxis": {
            "backgroundcolor": "#E5ECF6",
            "gridcolor": "white",
            "gridwidth": 2,
            "linecolor": "white",
            "showbackground": true,
            "ticks": "",
            "zerolinecolor": "white"
           }
          },
          "shapedefaults": {
           "line": {
            "color": "#2a3f5f"
           }
          },
          "ternary": {
           "aaxis": {
            "gridcolor": "white",
            "linecolor": "white",
            "ticks": ""
           },
           "baxis": {
            "gridcolor": "white",
            "linecolor": "white",
            "ticks": ""
           },
           "bgcolor": "#E5ECF6",
           "caxis": {
            "gridcolor": "white",
            "linecolor": "white",
            "ticks": ""
           }
          },
          "title": {
           "x": 0.05
          },
          "xaxis": {
           "automargin": true,
           "gridcolor": "white",
           "linecolor": "white",
           "ticks": "",
           "title": {
            "standoff": 15
           },
           "zerolinecolor": "white",
           "zerolinewidth": 2
          },
          "yaxis": {
           "automargin": true,
           "gridcolor": "white",
           "linecolor": "white",
           "ticks": "",
           "title": {
            "standoff": 15
           },
           "zerolinecolor": "white",
           "zerolinewidth": 2
          }
         }
        },
        "title": {
         "font": {
          "color": "#4D5663"
         }
        },
        "xaxis": {
         "gridcolor": "#E1E5ED",
         "showgrid": true,
         "tickfont": {
          "color": "#4D5663"
         },
         "title": {
          "font": {
           "color": "#4D5663"
          },
          "text": ""
         },
         "zerolinecolor": "#E1E5ED"
        },
        "yaxis": {
         "gridcolor": "#E1E5ED",
         "showgrid": true,
         "tickfont": {
          "color": "#4D5663"
         },
         "title": {
          "font": {
           "color": "#4D5663"
          },
          "text": ""
         },
         "zerolinecolor": "#E1E5ED"
        }
       }
      },
      "text/html": [
       "<div>                            <div id=\"47ee5444-9fc6-4ac3-80b4-4766c84ce226\" class=\"plotly-graph-div\" style=\"height:525px; width:100%;\"></div>            <script type=\"text/javascript\">                require([\"plotly\"], function(Plotly) {                    window.PLOTLYENV=window.PLOTLYENV || {};\n",
       "                    window.PLOTLYENV.BASE_URL='https://plot.ly';                                    if (document.getElementById(\"47ee5444-9fc6-4ac3-80b4-4766c84ce226\")) {                    Plotly.newPlot(                        \"47ee5444-9fc6-4ac3-80b4-4766c84ce226\",                        [{\"histfunc\":\"count\",\"histnorm\":\"\",\"marker\":{\"color\":\"rgba(255, 153, 51, 1.0)\",\"line\":{\"color\":\"#4D5663\",\"width\":1.3}},\"name\":\"A\",\"nbinsx\":25,\"opacity\":0.8,\"orientation\":\"v\",\"type\":\"histogram\",\"x\":[0.6754782943325655,0.5676345968842824,0.1328881905375589,1.5598060655336465,0.20155851821828127,-0.1704342005504423,1.6382714620922407,0.5960123218986514,-1.3967502608685103,-0.4175266016308763,-1.4622195465874601,-0.4418238211952053,-0.9396201592840361,-0.13826138272671448,-0.8850161103888932,1.8504189241059084,-0.5670395261360621,-0.4512300334792727,-1.3659730557435033,-2.2195698637480628,0.3537368438916856,0.8011510663127747,0.9158535282283714,-0.10090839994435542,0.5197315429475056,0.542335737958651,-0.5888216723532752,-0.6521836708748141,-0.3603370324925614,-0.9552920009367587,-2.2849797147682933,0.4519183096797922,1.8842896639403863,1.1340897786363573,0.18372623294508642,-1.0237109171539454,-1.654003775689415,0.32167723924081354,1.2199528459728162,2.929925287765693,-0.8172173302082492,-1.6505368253468742,0.23446380237601086,0.36633509776946094,-1.410517557328883,-1.0885958183031015,1.41325542793449,-1.7040848451332873,0.03122408759234455,-0.32773165815662103,0.6662743949672889,-1.3245476957372868,-0.17648115279437038,0.5131658131312273,0.6254611583947094,-0.9504172530455163,-0.38056513766120054,-1.610980503470945,0.3138510000800175,1.2297882444657389,2.0612538048066784,1.7240572041477948,-0.7228253590566479,0.94310349502881,-2.011162597259447,-0.958977057005299,1.2929502033458233,1.1732776407222958,1.0006976463240154,0.07796519762881553,-0.4987650476806753,0.9764184595883123,-0.014106945313026645,1.5428496733376793,-1.091952698664168,0.4782947233641637,0.2752500905442413,-1.970375548198486,2.0526149916013905,-0.5355825007775484,0.7545279930637657,0.2863047840180115,-1.4025937393898347,0.9342278828335764,0.5624839596099094,1.1447907551414858,0.08961360380327707,-0.4817073117416022,-0.6319061449787831,2.343257288835841,-0.5589302132661069,0.7941564694900235,-0.6152341400737853,0.8544116644485762,0.41297969806072243,1.613308547129756,-0.19679692672583227,-0.2252424721695863,-1.101041110660023,-1.9043054451684438]}],                        {\"barmode\":\"overlay\",\"legend\":{\"bgcolor\":\"#F5F6F9\",\"font\":{\"color\":\"#4D5663\"}},\"paper_bgcolor\":\"#F5F6F9\",\"plot_bgcolor\":\"#F5F6F9\",\"template\":{\"data\":{\"bar\":[{\"error_x\":{\"color\":\"#2a3f5f\"},\"error_y\":{\"color\":\"#2a3f5f\"},\"marker\":{\"line\":{\"color\":\"#E5ECF6\",\"width\":0.5},\"pattern\":{\"fillmode\":\"overlay\",\"size\":10,\"solidity\":0.2}},\"type\":\"bar\"}],\"barpolar\":[{\"marker\":{\"line\":{\"color\":\"#E5ECF6\",\"width\":0.5},\"pattern\":{\"fillmode\":\"overlay\",\"size\":10,\"solidity\":0.2}},\"type\":\"barpolar\"}],\"carpet\":[{\"aaxis\":{\"endlinecolor\":\"#2a3f5f\",\"gridcolor\":\"white\",\"linecolor\":\"white\",\"minorgridcolor\":\"white\",\"startlinecolor\":\"#2a3f5f\"},\"baxis\":{\"endlinecolor\":\"#2a3f5f\",\"gridcolor\":\"white\",\"linecolor\":\"white\",\"minorgridcolor\":\"white\",\"startlinecolor\":\"#2a3f5f\"},\"type\":\"carpet\"}],\"choropleth\":[{\"colorbar\":{\"outlinewidth\":0,\"ticks\":\"\"},\"type\":\"choropleth\"}],\"contour\":[{\"colorbar\":{\"outlinewidth\":0,\"ticks\":\"\"},\"colorscale\":[[0.0,\"#0d0887\"],[0.1111111111111111,\"#46039f\"],[0.2222222222222222,\"#7201a8\"],[0.3333333333333333,\"#9c179e\"],[0.4444444444444444,\"#bd3786\"],[0.5555555555555556,\"#d8576b\"],[0.6666666666666666,\"#ed7953\"],[0.7777777777777778,\"#fb9f3a\"],[0.8888888888888888,\"#fdca26\"],[1.0,\"#f0f921\"]],\"type\":\"contour\"}],\"contourcarpet\":[{\"colorbar\":{\"outlinewidth\":0,\"ticks\":\"\"},\"type\":\"contourcarpet\"}],\"heatmap\":[{\"colorbar\":{\"outlinewidth\":0,\"ticks\":\"\"},\"colorscale\":[[0.0,\"#0d0887\"],[0.1111111111111111,\"#46039f\"],[0.2222222222222222,\"#7201a8\"],[0.3333333333333333,\"#9c179e\"],[0.4444444444444444,\"#bd3786\"],[0.5555555555555556,\"#d8576b\"],[0.6666666666666666,\"#ed7953\"],[0.7777777777777778,\"#fb9f3a\"],[0.8888888888888888,\"#fdca26\"],[1.0,\"#f0f921\"]],\"type\":\"heatmap\"}],\"heatmapgl\":[{\"colorbar\":{\"outlinewidth\":0,\"ticks\":\"\"},\"colorscale\":[[0.0,\"#0d0887\"],[0.1111111111111111,\"#46039f\"],[0.2222222222222222,\"#7201a8\"],[0.3333333333333333,\"#9c179e\"],[0.4444444444444444,\"#bd3786\"],[0.5555555555555556,\"#d8576b\"],[0.6666666666666666,\"#ed7953\"],[0.7777777777777778,\"#fb9f3a\"],[0.8888888888888888,\"#fdca26\"],[1.0,\"#f0f921\"]],\"type\":\"heatmapgl\"}],\"histogram\":[{\"marker\":{\"pattern\":{\"fillmode\":\"overlay\",\"size\":10,\"solidity\":0.2}},\"type\":\"histogram\"}],\"histogram2d\":[{\"colorbar\":{\"outlinewidth\":0,\"ticks\":\"\"},\"colorscale\":[[0.0,\"#0d0887\"],[0.1111111111111111,\"#46039f\"],[0.2222222222222222,\"#7201a8\"],[0.3333333333333333,\"#9c179e\"],[0.4444444444444444,\"#bd3786\"],[0.5555555555555556,\"#d8576b\"],[0.6666666666666666,\"#ed7953\"],[0.7777777777777778,\"#fb9f3a\"],[0.8888888888888888,\"#fdca26\"],[1.0,\"#f0f921\"]],\"type\":\"histogram2d\"}],\"histogram2dcontour\":[{\"colorbar\":{\"outlinewidth\":0,\"ticks\":\"\"},\"colorscale\":[[0.0,\"#0d0887\"],[0.1111111111111111,\"#46039f\"],[0.2222222222222222,\"#7201a8\"],[0.3333333333333333,\"#9c179e\"],[0.4444444444444444,\"#bd3786\"],[0.5555555555555556,\"#d8576b\"],[0.6666666666666666,\"#ed7953\"],[0.7777777777777778,\"#fb9f3a\"],[0.8888888888888888,\"#fdca26\"],[1.0,\"#f0f921\"]],\"type\":\"histogram2dcontour\"}],\"mesh3d\":[{\"colorbar\":{\"outlinewidth\":0,\"ticks\":\"\"},\"type\":\"mesh3d\"}],\"parcoords\":[{\"line\":{\"colorbar\":{\"outlinewidth\":0,\"ticks\":\"\"}},\"type\":\"parcoords\"}],\"pie\":[{\"automargin\":true,\"type\":\"pie\"}],\"scatter\":[{\"marker\":{\"colorbar\":{\"outlinewidth\":0,\"ticks\":\"\"}},\"type\":\"scatter\"}],\"scatter3d\":[{\"line\":{\"colorbar\":{\"outlinewidth\":0,\"ticks\":\"\"}},\"marker\":{\"colorbar\":{\"outlinewidth\":0,\"ticks\":\"\"}},\"type\":\"scatter3d\"}],\"scattercarpet\":[{\"marker\":{\"colorbar\":{\"outlinewidth\":0,\"ticks\":\"\"}},\"type\":\"scattercarpet\"}],\"scattergeo\":[{\"marker\":{\"colorbar\":{\"outlinewidth\":0,\"ticks\":\"\"}},\"type\":\"scattergeo\"}],\"scattergl\":[{\"marker\":{\"colorbar\":{\"outlinewidth\":0,\"ticks\":\"\"}},\"type\":\"scattergl\"}],\"scattermapbox\":[{\"marker\":{\"colorbar\":{\"outlinewidth\":0,\"ticks\":\"\"}},\"type\":\"scattermapbox\"}],\"scatterpolar\":[{\"marker\":{\"colorbar\":{\"outlinewidth\":0,\"ticks\":\"\"}},\"type\":\"scatterpolar\"}],\"scatterpolargl\":[{\"marker\":{\"colorbar\":{\"outlinewidth\":0,\"ticks\":\"\"}},\"type\":\"scatterpolargl\"}],\"scatterternary\":[{\"marker\":{\"colorbar\":{\"outlinewidth\":0,\"ticks\":\"\"}},\"type\":\"scatterternary\"}],\"surface\":[{\"colorbar\":{\"outlinewidth\":0,\"ticks\":\"\"},\"colorscale\":[[0.0,\"#0d0887\"],[0.1111111111111111,\"#46039f\"],[0.2222222222222222,\"#7201a8\"],[0.3333333333333333,\"#9c179e\"],[0.4444444444444444,\"#bd3786\"],[0.5555555555555556,\"#d8576b\"],[0.6666666666666666,\"#ed7953\"],[0.7777777777777778,\"#fb9f3a\"],[0.8888888888888888,\"#fdca26\"],[1.0,\"#f0f921\"]],\"type\":\"surface\"}],\"table\":[{\"cells\":{\"fill\":{\"color\":\"#EBF0F8\"},\"line\":{\"color\":\"white\"}},\"header\":{\"fill\":{\"color\":\"#C8D4E3\"},\"line\":{\"color\":\"white\"}},\"type\":\"table\"}]},\"layout\":{\"annotationdefaults\":{\"arrowcolor\":\"#2a3f5f\",\"arrowhead\":0,\"arrowwidth\":1},\"autotypenumbers\":\"strict\",\"coloraxis\":{\"colorbar\":{\"outlinewidth\":0,\"ticks\":\"\"}},\"colorscale\":{\"diverging\":[[0,\"#8e0152\"],[0.1,\"#c51b7d\"],[0.2,\"#de77ae\"],[0.3,\"#f1b6da\"],[0.4,\"#fde0ef\"],[0.5,\"#f7f7f7\"],[0.6,\"#e6f5d0\"],[0.7,\"#b8e186\"],[0.8,\"#7fbc41\"],[0.9,\"#4d9221\"],[1,\"#276419\"]],\"sequential\":[[0.0,\"#0d0887\"],[0.1111111111111111,\"#46039f\"],[0.2222222222222222,\"#7201a8\"],[0.3333333333333333,\"#9c179e\"],[0.4444444444444444,\"#bd3786\"],[0.5555555555555556,\"#d8576b\"],[0.6666666666666666,\"#ed7953\"],[0.7777777777777778,\"#fb9f3a\"],[0.8888888888888888,\"#fdca26\"],[1.0,\"#f0f921\"]],\"sequentialminus\":[[0.0,\"#0d0887\"],[0.1111111111111111,\"#46039f\"],[0.2222222222222222,\"#7201a8\"],[0.3333333333333333,\"#9c179e\"],[0.4444444444444444,\"#bd3786\"],[0.5555555555555556,\"#d8576b\"],[0.6666666666666666,\"#ed7953\"],[0.7777777777777778,\"#fb9f3a\"],[0.8888888888888888,\"#fdca26\"],[1.0,\"#f0f921\"]]},\"colorway\":[\"#636efa\",\"#EF553B\",\"#00cc96\",\"#ab63fa\",\"#FFA15A\",\"#19d3f3\",\"#FF6692\",\"#B6E880\",\"#FF97FF\",\"#FECB52\"],\"font\":{\"color\":\"#2a3f5f\"},\"geo\":{\"bgcolor\":\"white\",\"lakecolor\":\"white\",\"landcolor\":\"#E5ECF6\",\"showlakes\":true,\"showland\":true,\"subunitcolor\":\"white\"},\"hoverlabel\":{\"align\":\"left\"},\"hovermode\":\"closest\",\"mapbox\":{\"style\":\"light\"},\"paper_bgcolor\":\"white\",\"plot_bgcolor\":\"#E5ECF6\",\"polar\":{\"angularaxis\":{\"gridcolor\":\"white\",\"linecolor\":\"white\",\"ticks\":\"\"},\"bgcolor\":\"#E5ECF6\",\"radialaxis\":{\"gridcolor\":\"white\",\"linecolor\":\"white\",\"ticks\":\"\"}},\"scene\":{\"xaxis\":{\"backgroundcolor\":\"#E5ECF6\",\"gridcolor\":\"white\",\"gridwidth\":2,\"linecolor\":\"white\",\"showbackground\":true,\"ticks\":\"\",\"zerolinecolor\":\"white\"},\"yaxis\":{\"backgroundcolor\":\"#E5ECF6\",\"gridcolor\":\"white\",\"gridwidth\":2,\"linecolor\":\"white\",\"showbackground\":true,\"ticks\":\"\",\"zerolinecolor\":\"white\"},\"zaxis\":{\"backgroundcolor\":\"#E5ECF6\",\"gridcolor\":\"white\",\"gridwidth\":2,\"linecolor\":\"white\",\"showbackground\":true,\"ticks\":\"\",\"zerolinecolor\":\"white\"}},\"shapedefaults\":{\"line\":{\"color\":\"#2a3f5f\"}},\"ternary\":{\"aaxis\":{\"gridcolor\":\"white\",\"linecolor\":\"white\",\"ticks\":\"\"},\"baxis\":{\"gridcolor\":\"white\",\"linecolor\":\"white\",\"ticks\":\"\"},\"bgcolor\":\"#E5ECF6\",\"caxis\":{\"gridcolor\":\"white\",\"linecolor\":\"white\",\"ticks\":\"\"}},\"title\":{\"x\":0.05},\"xaxis\":{\"automargin\":true,\"gridcolor\":\"white\",\"linecolor\":\"white\",\"ticks\":\"\",\"title\":{\"standoff\":15},\"zerolinecolor\":\"white\",\"zerolinewidth\":2},\"yaxis\":{\"automargin\":true,\"gridcolor\":\"white\",\"linecolor\":\"white\",\"ticks\":\"\",\"title\":{\"standoff\":15},\"zerolinecolor\":\"white\",\"zerolinewidth\":2}}},\"title\":{\"font\":{\"color\":\"#4D5663\"}},\"xaxis\":{\"gridcolor\":\"#E1E5ED\",\"showgrid\":true,\"tickfont\":{\"color\":\"#4D5663\"},\"title\":{\"font\":{\"color\":\"#4D5663\"},\"text\":\"\"},\"zerolinecolor\":\"#E1E5ED\"},\"yaxis\":{\"gridcolor\":\"#E1E5ED\",\"showgrid\":true,\"tickfont\":{\"color\":\"#4D5663\"},\"title\":{\"font\":{\"color\":\"#4D5663\"},\"text\":\"\"},\"zerolinecolor\":\"#E1E5ED\"}},                        {\"showLink\": true, \"linkText\": \"Export to plot.ly\", \"plotlyServerURL\": \"https://plot.ly\", \"responsive\": true}                    ).then(function(){\n",
       "                            \n",
       "var gd = document.getElementById('47ee5444-9fc6-4ac3-80b4-4766c84ce226');\n",
       "var x = new MutationObserver(function (mutations, observer) {{\n",
       "        var display = window.getComputedStyle(gd).display;\n",
       "        if (!display || display === 'none') {{\n",
       "            console.log([gd, 'removed!']);\n",
       "            Plotly.purge(gd);\n",
       "            observer.disconnect();\n",
       "        }}\n",
       "}});\n",
       "\n",
       "// Listen for the removal of the full notebook cells\n",
       "var notebookContainer = gd.closest('#notebook-container');\n",
       "if (notebookContainer) {{\n",
       "    x.observe(notebookContainer, {childList: true});\n",
       "}}\n",
       "\n",
       "// Listen for the clearing of the current output cell\n",
       "var outputEl = gd.closest('.output');\n",
       "if (outputEl) {{\n",
       "    x.observe(outputEl, {childList: true});\n",
       "}}\n",
       "\n",
       "                        })                };                });            </script>        </div>"
      ]
     },
     "metadata": {},
     "output_type": "display_data"
    }
   ],
   "source": [
    "df['A'].iplot(kind='hist',bins=25)"
   ]
  },
  {
   "cell_type": "code",
   "execution_count": 19,
   "metadata": {},
   "outputs": [
    {
     "data": {
      "application/vnd.plotly.v1+json": {
       "config": {
        "linkText": "Export to plot.ly",
        "plotlyServerURL": "https://plot.ly",
        "showLink": true
       },
       "data": [
        {
         "marker": {
          "color": [
           "rgb(255, 153, 51)",
           "rgb(55, 128, 191)",
           "rgb(50, 171, 96)",
           "rgb(128, 0, 128)",
           "rgb(219, 64, 82)",
           "rgb(0, 128, 128)",
           "rgb(255, 255, 51)",
           "rgb(128, 128, 0)",
           "rgb(251, 128, 114)",
           "rgb(128, 177, 211)"
          ],
          "line": {
           "width": 1.3
          },
          "size": [
           65,
           51,
           74,
           63,
           91,
           47,
           58,
           93,
           60,
           71,
           62,
           32,
           64,
           88,
           72,
           63,
           88,
           46,
           90,
           92,
           105,
           61,
           60,
           12,
           43,
           71,
           74,
           69,
           86,
           32,
           83,
           38,
           27,
           59,
           92,
           80,
           61,
           93,
           72,
           88,
           75,
           65,
           89,
           31,
           71,
           98,
           62,
           71,
           68,
           36,
           68,
           55,
           59,
           37,
           78,
           97,
           65,
           49,
           60,
           74,
           91,
           48,
           52,
           56,
           94,
           55,
           79,
           36,
           56,
           100,
           63,
           69,
           103,
           63,
           49,
           23,
           51,
           72,
           82,
           94,
           44,
           38,
           66,
           71,
           34,
           64,
           70,
           48,
           56,
           21,
           47,
           48,
           57,
           53,
           76,
           28,
           112,
           76,
           61,
           42
          ],
          "symbol": "circle"
         },
         "mode": "markers",
         "text": "",
         "type": "scatter",
         "x": [
          0.6754782943325655,
          0.5676345968842824,
          0.1328881905375589,
          1.5598060655336465,
          0.20155851821828127,
          -0.1704342005504423,
          1.6382714620922407,
          0.5960123218986514,
          -1.3967502608685103,
          -0.4175266016308763,
          -1.4622195465874601,
          -0.4418238211952053,
          -0.9396201592840361,
          -0.13826138272671448,
          -0.8850161103888932,
          1.8504189241059084,
          -0.5670395261360621,
          -0.4512300334792727,
          -1.3659730557435033,
          -2.2195698637480628,
          0.3537368438916856,
          0.8011510663127747,
          0.9158535282283714,
          -0.10090839994435542,
          0.5197315429475056,
          0.542335737958651,
          -0.5888216723532752,
          -0.6521836708748141,
          -0.3603370324925614,
          -0.9552920009367587,
          -2.2849797147682933,
          0.4519183096797922,
          1.8842896639403863,
          1.1340897786363573,
          0.18372623294508642,
          -1.0237109171539454,
          -1.654003775689415,
          0.32167723924081354,
          1.2199528459728162,
          2.929925287765693,
          -0.8172173302082492,
          -1.6505368253468742,
          0.23446380237601086,
          0.36633509776946094,
          -1.410517557328883,
          -1.0885958183031015,
          1.41325542793449,
          -1.7040848451332873,
          0.03122408759234455,
          -0.32773165815662103,
          0.6662743949672889,
          -1.3245476957372868,
          -0.17648115279437038,
          0.5131658131312273,
          0.6254611583947094,
          -0.9504172530455163,
          -0.38056513766120054,
          -1.610980503470945,
          0.3138510000800175,
          1.2297882444657389,
          2.0612538048066784,
          1.7240572041477948,
          -0.7228253590566479,
          0.94310349502881,
          -2.011162597259447,
          -0.958977057005299,
          1.2929502033458233,
          1.1732776407222958,
          1.0006976463240154,
          0.07796519762881553,
          -0.4987650476806753,
          0.9764184595883123,
          -0.014106945313026645,
          1.5428496733376793,
          -1.091952698664168,
          0.4782947233641637,
          0.2752500905442413,
          -1.970375548198486,
          2.0526149916013905,
          -0.5355825007775484,
          0.7545279930637657,
          0.2863047840180115,
          -1.4025937393898347,
          0.9342278828335764,
          0.5624839596099094,
          1.1447907551414858,
          0.08961360380327707,
          -0.4817073117416022,
          -0.6319061449787831,
          2.343257288835841,
          -0.5589302132661069,
          0.7941564694900235,
          -0.6152341400737853,
          0.8544116644485762,
          0.41297969806072243,
          1.613308547129756,
          -0.19679692672583227,
          -0.2252424721695863,
          -1.101041110660023,
          -1.9043054451684438
         ],
         "y": [
          -0.2217291443388921,
          -1.2371542355520193,
          0.8123200317942653,
          1.2443210913177807,
          0.15665068302727347,
          -0.49601188309501854,
          -1.5674118452306314,
          0.8681936946504126,
          -2.1588947361277944,
          0.004523669014418451,
          0.2224144998784712,
          -1.2047967088202578,
          -0.48311376209050955,
          0.5263364911407737,
          -0.6581025306060428,
          0.5859815825235286,
          1.2843285937087179,
          2.644736009199112,
          0.6686205905210374,
          0.41822294352248607,
          -1.0881429265518046,
          -0.2848994852918314,
          -1.0361040136959085,
          -0.43236691856491044,
          -1.2151060705229921,
          -1.0535802751145777,
          -1.7101393540602814,
          0.13700496725160327,
          -0.03639404936203314,
          -1.167416774354088,
          1.242824173634307,
          0.7555947464871007,
          -0.2358954009781537,
          1.7245172324003295,
          0.011408650486823966,
          1.468500443226724,
          -1.087452184127168,
          0.31587470047464566,
          -0.64965102521893,
          -0.18741629301066062,
          0.8643789608770887,
          0.1374916054046593,
          0.984915590803966,
          -0.5749850827580681,
          -0.31367705412547175,
          0.43808758668803777,
          0.5237444006175169,
          -1.933200354258214,
          0.24285826858388612,
          1.0770527002311396,
          0.8642237475271446,
          -2.8026546155389527,
          -1.269688258045194,
          0.13818859955011006,
          -0.7032899314435153,
          -1.6489195836048638,
          -0.10259177038998696,
          1.4542546939122745,
          -0.5144024244857891,
          -0.16761985394816561,
          0.18057974799115853,
          0.9153792574175322,
          -1.5625254164314404,
          0.7275749276372556,
          -0.8410916716639276,
          1.9702443659279567,
          1.0105656117288755,
          -0.33011431585845263,
          0.05896025014420832,
          -0.6182716108350788,
          -1.9307322255876471,
          -0.423044638561435,
          0.8242161598940201,
          0.7473086068676891,
          -0.06390385057859259,
          1.411752606998454,
          0.9490293076629773,
          0.009991847913236184,
          0.673086587444426,
          -0.12972617508859452,
          -1.4564557150623647,
          0.36259057467603667,
          -1.0036754215214432,
          -0.9933192141036302,
          -0.8830959235342006,
          0.0068193462280179895,
          0.7529614687362064,
          0.4431679290600762,
          0.7558262294932983,
          -1.87289174236139,
          2.6694207476365075,
          -0.03194188108580788,
          -1.1825587513883815,
          -0.6013875741485867,
          0.7019085379263506,
          -0.16891436238867008,
          -1.3841323134554913,
          1.5394640870582705,
          0.8545201128569784,
          0.8007369757347785
         ]
        }
       ],
       "layout": {
        "legend": {
         "bgcolor": "#F5F6F9",
         "font": {
          "color": "#4D5663"
         }
        },
        "paper_bgcolor": "#F5F6F9",
        "plot_bgcolor": "#F5F6F9",
        "template": {
         "data": {
          "bar": [
           {
            "error_x": {
             "color": "#2a3f5f"
            },
            "error_y": {
             "color": "#2a3f5f"
            },
            "marker": {
             "line": {
              "color": "#E5ECF6",
              "width": 0.5
             },
             "pattern": {
              "fillmode": "overlay",
              "size": 10,
              "solidity": 0.2
             }
            },
            "type": "bar"
           }
          ],
          "barpolar": [
           {
            "marker": {
             "line": {
              "color": "#E5ECF6",
              "width": 0.5
             },
             "pattern": {
              "fillmode": "overlay",
              "size": 10,
              "solidity": 0.2
             }
            },
            "type": "barpolar"
           }
          ],
          "carpet": [
           {
            "aaxis": {
             "endlinecolor": "#2a3f5f",
             "gridcolor": "white",
             "linecolor": "white",
             "minorgridcolor": "white",
             "startlinecolor": "#2a3f5f"
            },
            "baxis": {
             "endlinecolor": "#2a3f5f",
             "gridcolor": "white",
             "linecolor": "white",
             "minorgridcolor": "white",
             "startlinecolor": "#2a3f5f"
            },
            "type": "carpet"
           }
          ],
          "choropleth": [
           {
            "colorbar": {
             "outlinewidth": 0,
             "ticks": ""
            },
            "type": "choropleth"
           }
          ],
          "contour": [
           {
            "colorbar": {
             "outlinewidth": 0,
             "ticks": ""
            },
            "colorscale": [
             [
              0,
              "#0d0887"
             ],
             [
              0.1111111111111111,
              "#46039f"
             ],
             [
              0.2222222222222222,
              "#7201a8"
             ],
             [
              0.3333333333333333,
              "#9c179e"
             ],
             [
              0.4444444444444444,
              "#bd3786"
             ],
             [
              0.5555555555555556,
              "#d8576b"
             ],
             [
              0.6666666666666666,
              "#ed7953"
             ],
             [
              0.7777777777777778,
              "#fb9f3a"
             ],
             [
              0.8888888888888888,
              "#fdca26"
             ],
             [
              1,
              "#f0f921"
             ]
            ],
            "type": "contour"
           }
          ],
          "contourcarpet": [
           {
            "colorbar": {
             "outlinewidth": 0,
             "ticks": ""
            },
            "type": "contourcarpet"
           }
          ],
          "heatmap": [
           {
            "colorbar": {
             "outlinewidth": 0,
             "ticks": ""
            },
            "colorscale": [
             [
              0,
              "#0d0887"
             ],
             [
              0.1111111111111111,
              "#46039f"
             ],
             [
              0.2222222222222222,
              "#7201a8"
             ],
             [
              0.3333333333333333,
              "#9c179e"
             ],
             [
              0.4444444444444444,
              "#bd3786"
             ],
             [
              0.5555555555555556,
              "#d8576b"
             ],
             [
              0.6666666666666666,
              "#ed7953"
             ],
             [
              0.7777777777777778,
              "#fb9f3a"
             ],
             [
              0.8888888888888888,
              "#fdca26"
             ],
             [
              1,
              "#f0f921"
             ]
            ],
            "type": "heatmap"
           }
          ],
          "heatmapgl": [
           {
            "colorbar": {
             "outlinewidth": 0,
             "ticks": ""
            },
            "colorscale": [
             [
              0,
              "#0d0887"
             ],
             [
              0.1111111111111111,
              "#46039f"
             ],
             [
              0.2222222222222222,
              "#7201a8"
             ],
             [
              0.3333333333333333,
              "#9c179e"
             ],
             [
              0.4444444444444444,
              "#bd3786"
             ],
             [
              0.5555555555555556,
              "#d8576b"
             ],
             [
              0.6666666666666666,
              "#ed7953"
             ],
             [
              0.7777777777777778,
              "#fb9f3a"
             ],
             [
              0.8888888888888888,
              "#fdca26"
             ],
             [
              1,
              "#f0f921"
             ]
            ],
            "type": "heatmapgl"
           }
          ],
          "histogram": [
           {
            "marker": {
             "pattern": {
              "fillmode": "overlay",
              "size": 10,
              "solidity": 0.2
             }
            },
            "type": "histogram"
           }
          ],
          "histogram2d": [
           {
            "colorbar": {
             "outlinewidth": 0,
             "ticks": ""
            },
            "colorscale": [
             [
              0,
              "#0d0887"
             ],
             [
              0.1111111111111111,
              "#46039f"
             ],
             [
              0.2222222222222222,
              "#7201a8"
             ],
             [
              0.3333333333333333,
              "#9c179e"
             ],
             [
              0.4444444444444444,
              "#bd3786"
             ],
             [
              0.5555555555555556,
              "#d8576b"
             ],
             [
              0.6666666666666666,
              "#ed7953"
             ],
             [
              0.7777777777777778,
              "#fb9f3a"
             ],
             [
              0.8888888888888888,
              "#fdca26"
             ],
             [
              1,
              "#f0f921"
             ]
            ],
            "type": "histogram2d"
           }
          ],
          "histogram2dcontour": [
           {
            "colorbar": {
             "outlinewidth": 0,
             "ticks": ""
            },
            "colorscale": [
             [
              0,
              "#0d0887"
             ],
             [
              0.1111111111111111,
              "#46039f"
             ],
             [
              0.2222222222222222,
              "#7201a8"
             ],
             [
              0.3333333333333333,
              "#9c179e"
             ],
             [
              0.4444444444444444,
              "#bd3786"
             ],
             [
              0.5555555555555556,
              "#d8576b"
             ],
             [
              0.6666666666666666,
              "#ed7953"
             ],
             [
              0.7777777777777778,
              "#fb9f3a"
             ],
             [
              0.8888888888888888,
              "#fdca26"
             ],
             [
              1,
              "#f0f921"
             ]
            ],
            "type": "histogram2dcontour"
           }
          ],
          "mesh3d": [
           {
            "colorbar": {
             "outlinewidth": 0,
             "ticks": ""
            },
            "type": "mesh3d"
           }
          ],
          "parcoords": [
           {
            "line": {
             "colorbar": {
              "outlinewidth": 0,
              "ticks": ""
             }
            },
            "type": "parcoords"
           }
          ],
          "pie": [
           {
            "automargin": true,
            "type": "pie"
           }
          ],
          "scatter": [
           {
            "marker": {
             "colorbar": {
              "outlinewidth": 0,
              "ticks": ""
             }
            },
            "type": "scatter"
           }
          ],
          "scatter3d": [
           {
            "line": {
             "colorbar": {
              "outlinewidth": 0,
              "ticks": ""
             }
            },
            "marker": {
             "colorbar": {
              "outlinewidth": 0,
              "ticks": ""
             }
            },
            "type": "scatter3d"
           }
          ],
          "scattercarpet": [
           {
            "marker": {
             "colorbar": {
              "outlinewidth": 0,
              "ticks": ""
             }
            },
            "type": "scattercarpet"
           }
          ],
          "scattergeo": [
           {
            "marker": {
             "colorbar": {
              "outlinewidth": 0,
              "ticks": ""
             }
            },
            "type": "scattergeo"
           }
          ],
          "scattergl": [
           {
            "marker": {
             "colorbar": {
              "outlinewidth": 0,
              "ticks": ""
             }
            },
            "type": "scattergl"
           }
          ],
          "scattermapbox": [
           {
            "marker": {
             "colorbar": {
              "outlinewidth": 0,
              "ticks": ""
             }
            },
            "type": "scattermapbox"
           }
          ],
          "scatterpolar": [
           {
            "marker": {
             "colorbar": {
              "outlinewidth": 0,
              "ticks": ""
             }
            },
            "type": "scatterpolar"
           }
          ],
          "scatterpolargl": [
           {
            "marker": {
             "colorbar": {
              "outlinewidth": 0,
              "ticks": ""
             }
            },
            "type": "scatterpolargl"
           }
          ],
          "scatterternary": [
           {
            "marker": {
             "colorbar": {
              "outlinewidth": 0,
              "ticks": ""
             }
            },
            "type": "scatterternary"
           }
          ],
          "surface": [
           {
            "colorbar": {
             "outlinewidth": 0,
             "ticks": ""
            },
            "colorscale": [
             [
              0,
              "#0d0887"
             ],
             [
              0.1111111111111111,
              "#46039f"
             ],
             [
              0.2222222222222222,
              "#7201a8"
             ],
             [
              0.3333333333333333,
              "#9c179e"
             ],
             [
              0.4444444444444444,
              "#bd3786"
             ],
             [
              0.5555555555555556,
              "#d8576b"
             ],
             [
              0.6666666666666666,
              "#ed7953"
             ],
             [
              0.7777777777777778,
              "#fb9f3a"
             ],
             [
              0.8888888888888888,
              "#fdca26"
             ],
             [
              1,
              "#f0f921"
             ]
            ],
            "type": "surface"
           }
          ],
          "table": [
           {
            "cells": {
             "fill": {
              "color": "#EBF0F8"
             },
             "line": {
              "color": "white"
             }
            },
            "header": {
             "fill": {
              "color": "#C8D4E3"
             },
             "line": {
              "color": "white"
             }
            },
            "type": "table"
           }
          ]
         },
         "layout": {
          "annotationdefaults": {
           "arrowcolor": "#2a3f5f",
           "arrowhead": 0,
           "arrowwidth": 1
          },
          "autotypenumbers": "strict",
          "coloraxis": {
           "colorbar": {
            "outlinewidth": 0,
            "ticks": ""
           }
          },
          "colorscale": {
           "diverging": [
            [
             0,
             "#8e0152"
            ],
            [
             0.1,
             "#c51b7d"
            ],
            [
             0.2,
             "#de77ae"
            ],
            [
             0.3,
             "#f1b6da"
            ],
            [
             0.4,
             "#fde0ef"
            ],
            [
             0.5,
             "#f7f7f7"
            ],
            [
             0.6,
             "#e6f5d0"
            ],
            [
             0.7,
             "#b8e186"
            ],
            [
             0.8,
             "#7fbc41"
            ],
            [
             0.9,
             "#4d9221"
            ],
            [
             1,
             "#276419"
            ]
           ],
           "sequential": [
            [
             0,
             "#0d0887"
            ],
            [
             0.1111111111111111,
             "#46039f"
            ],
            [
             0.2222222222222222,
             "#7201a8"
            ],
            [
             0.3333333333333333,
             "#9c179e"
            ],
            [
             0.4444444444444444,
             "#bd3786"
            ],
            [
             0.5555555555555556,
             "#d8576b"
            ],
            [
             0.6666666666666666,
             "#ed7953"
            ],
            [
             0.7777777777777778,
             "#fb9f3a"
            ],
            [
             0.8888888888888888,
             "#fdca26"
            ],
            [
             1,
             "#f0f921"
            ]
           ],
           "sequentialminus": [
            [
             0,
             "#0d0887"
            ],
            [
             0.1111111111111111,
             "#46039f"
            ],
            [
             0.2222222222222222,
             "#7201a8"
            ],
            [
             0.3333333333333333,
             "#9c179e"
            ],
            [
             0.4444444444444444,
             "#bd3786"
            ],
            [
             0.5555555555555556,
             "#d8576b"
            ],
            [
             0.6666666666666666,
             "#ed7953"
            ],
            [
             0.7777777777777778,
             "#fb9f3a"
            ],
            [
             0.8888888888888888,
             "#fdca26"
            ],
            [
             1,
             "#f0f921"
            ]
           ]
          },
          "colorway": [
           "#636efa",
           "#EF553B",
           "#00cc96",
           "#ab63fa",
           "#FFA15A",
           "#19d3f3",
           "#FF6692",
           "#B6E880",
           "#FF97FF",
           "#FECB52"
          ],
          "font": {
           "color": "#2a3f5f"
          },
          "geo": {
           "bgcolor": "white",
           "lakecolor": "white",
           "landcolor": "#E5ECF6",
           "showlakes": true,
           "showland": true,
           "subunitcolor": "white"
          },
          "hoverlabel": {
           "align": "left"
          },
          "hovermode": "closest",
          "mapbox": {
           "style": "light"
          },
          "paper_bgcolor": "white",
          "plot_bgcolor": "#E5ECF6",
          "polar": {
           "angularaxis": {
            "gridcolor": "white",
            "linecolor": "white",
            "ticks": ""
           },
           "bgcolor": "#E5ECF6",
           "radialaxis": {
            "gridcolor": "white",
            "linecolor": "white",
            "ticks": ""
           }
          },
          "scene": {
           "xaxis": {
            "backgroundcolor": "#E5ECF6",
            "gridcolor": "white",
            "gridwidth": 2,
            "linecolor": "white",
            "showbackground": true,
            "ticks": "",
            "zerolinecolor": "white"
           },
           "yaxis": {
            "backgroundcolor": "#E5ECF6",
            "gridcolor": "white",
            "gridwidth": 2,
            "linecolor": "white",
            "showbackground": true,
            "ticks": "",
            "zerolinecolor": "white"
           },
           "zaxis": {
            "backgroundcolor": "#E5ECF6",
            "gridcolor": "white",
            "gridwidth": 2,
            "linecolor": "white",
            "showbackground": true,
            "ticks": "",
            "zerolinecolor": "white"
           }
          },
          "shapedefaults": {
           "line": {
            "color": "#2a3f5f"
           }
          },
          "ternary": {
           "aaxis": {
            "gridcolor": "white",
            "linecolor": "white",
            "ticks": ""
           },
           "baxis": {
            "gridcolor": "white",
            "linecolor": "white",
            "ticks": ""
           },
           "bgcolor": "#E5ECF6",
           "caxis": {
            "gridcolor": "white",
            "linecolor": "white",
            "ticks": ""
           }
          },
          "title": {
           "x": 0.05
          },
          "xaxis": {
           "automargin": true,
           "gridcolor": "white",
           "linecolor": "white",
           "ticks": "",
           "title": {
            "standoff": 15
           },
           "zerolinecolor": "white",
           "zerolinewidth": 2
          },
          "yaxis": {
           "automargin": true,
           "gridcolor": "white",
           "linecolor": "white",
           "ticks": "",
           "title": {
            "standoff": 15
           },
           "zerolinecolor": "white",
           "zerolinewidth": 2
          }
         }
        },
        "title": {
         "font": {
          "color": "#4D5663"
         }
        },
        "xaxis": {
         "gridcolor": "#E1E5ED",
         "showgrid": true,
         "tickfont": {
          "color": "#4D5663"
         },
         "title": {
          "font": {
           "color": "#4D5663"
          },
          "text": ""
         },
         "zerolinecolor": "#E1E5ED"
        },
        "yaxis": {
         "gridcolor": "#E1E5ED",
         "showgrid": true,
         "tickfont": {
          "color": "#4D5663"
         },
         "title": {
          "font": {
           "color": "#4D5663"
          },
          "text": ""
         },
         "zerolinecolor": "#E1E5ED"
        }
       }
      },
      "text/html": [
       "<div>                            <div id=\"cb238f22-cc4f-49fe-904b-142f71d1fbb9\" class=\"plotly-graph-div\" style=\"height:525px; width:100%;\"></div>            <script type=\"text/javascript\">                require([\"plotly\"], function(Plotly) {                    window.PLOTLYENV=window.PLOTLYENV || {};\n",
       "                    window.PLOTLYENV.BASE_URL='https://plot.ly';                                    if (document.getElementById(\"cb238f22-cc4f-49fe-904b-142f71d1fbb9\")) {                    Plotly.newPlot(                        \"cb238f22-cc4f-49fe-904b-142f71d1fbb9\",                        [{\"marker\":{\"color\":[\"rgb(255, 153, 51)\",\"rgb(55, 128, 191)\",\"rgb(50, 171, 96)\",\"rgb(128, 0, 128)\",\"rgb(219, 64, 82)\",\"rgb(0, 128, 128)\",\"rgb(255, 255, 51)\",\"rgb(128, 128, 0)\",\"rgb(251, 128, 114)\",\"rgb(128, 177, 211)\"],\"line\":{\"width\":1.3},\"size\":[65,51,74,63,91,47,58,93,60,71,62,32,64,88,72,63,88,46,90,92,105,61,60,12,43,71,74,69,86,32,83,38,27,59,92,80,61,93,72,88,75,65,89,31,71,98,62,71,68,36,68,55,59,37,78,97,65,49,60,74,91,48,52,56,94,55,79,36,56,100,63,69,103,63,49,23,51,72,82,94,44,38,66,71,34,64,70,48,56,21,47,48,57,53,76,28,112,76,61,42],\"symbol\":\"circle\"},\"mode\":\"markers\",\"text\":\"\",\"type\":\"scatter\",\"x\":[0.6754782943325655,0.5676345968842824,0.1328881905375589,1.5598060655336465,0.20155851821828127,-0.1704342005504423,1.6382714620922407,0.5960123218986514,-1.3967502608685103,-0.4175266016308763,-1.4622195465874601,-0.4418238211952053,-0.9396201592840361,-0.13826138272671448,-0.8850161103888932,1.8504189241059084,-0.5670395261360621,-0.4512300334792727,-1.3659730557435033,-2.2195698637480628,0.3537368438916856,0.8011510663127747,0.9158535282283714,-0.10090839994435542,0.5197315429475056,0.542335737958651,-0.5888216723532752,-0.6521836708748141,-0.3603370324925614,-0.9552920009367587,-2.2849797147682933,0.4519183096797922,1.8842896639403863,1.1340897786363573,0.18372623294508642,-1.0237109171539454,-1.654003775689415,0.32167723924081354,1.2199528459728162,2.929925287765693,-0.8172173302082492,-1.6505368253468742,0.23446380237601086,0.36633509776946094,-1.410517557328883,-1.0885958183031015,1.41325542793449,-1.7040848451332873,0.03122408759234455,-0.32773165815662103,0.6662743949672889,-1.3245476957372868,-0.17648115279437038,0.5131658131312273,0.6254611583947094,-0.9504172530455163,-0.38056513766120054,-1.610980503470945,0.3138510000800175,1.2297882444657389,2.0612538048066784,1.7240572041477948,-0.7228253590566479,0.94310349502881,-2.011162597259447,-0.958977057005299,1.2929502033458233,1.1732776407222958,1.0006976463240154,0.07796519762881553,-0.4987650476806753,0.9764184595883123,-0.014106945313026645,1.5428496733376793,-1.091952698664168,0.4782947233641637,0.2752500905442413,-1.970375548198486,2.0526149916013905,-0.5355825007775484,0.7545279930637657,0.2863047840180115,-1.4025937393898347,0.9342278828335764,0.5624839596099094,1.1447907551414858,0.08961360380327707,-0.4817073117416022,-0.6319061449787831,2.343257288835841,-0.5589302132661069,0.7941564694900235,-0.6152341400737853,0.8544116644485762,0.41297969806072243,1.613308547129756,-0.19679692672583227,-0.2252424721695863,-1.101041110660023,-1.9043054451684438],\"y\":[-0.2217291443388921,-1.2371542355520193,0.8123200317942653,1.2443210913177807,0.15665068302727347,-0.49601188309501854,-1.5674118452306314,0.8681936946504126,-2.1588947361277944,0.004523669014418451,0.2224144998784712,-1.2047967088202578,-0.48311376209050955,0.5263364911407737,-0.6581025306060428,0.5859815825235286,1.2843285937087179,2.644736009199112,0.6686205905210374,0.41822294352248607,-1.0881429265518046,-0.2848994852918314,-1.0361040136959085,-0.43236691856491044,-1.2151060705229921,-1.0535802751145777,-1.7101393540602814,0.13700496725160327,-0.03639404936203314,-1.167416774354088,1.242824173634307,0.7555947464871007,-0.2358954009781537,1.7245172324003295,0.011408650486823966,1.468500443226724,-1.087452184127168,0.31587470047464566,-0.64965102521893,-0.18741629301066062,0.8643789608770887,0.1374916054046593,0.984915590803966,-0.5749850827580681,-0.31367705412547175,0.43808758668803777,0.5237444006175169,-1.933200354258214,0.24285826858388612,1.0770527002311396,0.8642237475271446,-2.8026546155389527,-1.269688258045194,0.13818859955011006,-0.7032899314435153,-1.6489195836048638,-0.10259177038998696,1.4542546939122745,-0.5144024244857891,-0.16761985394816561,0.18057974799115853,0.9153792574175322,-1.5625254164314404,0.7275749276372556,-0.8410916716639276,1.9702443659279567,1.0105656117288755,-0.33011431585845263,0.05896025014420832,-0.6182716108350788,-1.9307322255876471,-0.423044638561435,0.8242161598940201,0.7473086068676891,-0.06390385057859259,1.411752606998454,0.9490293076629773,0.009991847913236184,0.673086587444426,-0.12972617508859452,-1.4564557150623647,0.36259057467603667,-1.0036754215214432,-0.9933192141036302,-0.8830959235342006,0.0068193462280179895,0.7529614687362064,0.4431679290600762,0.7558262294932983,-1.87289174236139,2.6694207476365075,-0.03194188108580788,-1.1825587513883815,-0.6013875741485867,0.7019085379263506,-0.16891436238867008,-1.3841323134554913,1.5394640870582705,0.8545201128569784,0.8007369757347785]}],                        {\"legend\":{\"bgcolor\":\"#F5F6F9\",\"font\":{\"color\":\"#4D5663\"}},\"paper_bgcolor\":\"#F5F6F9\",\"plot_bgcolor\":\"#F5F6F9\",\"template\":{\"data\":{\"bar\":[{\"error_x\":{\"color\":\"#2a3f5f\"},\"error_y\":{\"color\":\"#2a3f5f\"},\"marker\":{\"line\":{\"color\":\"#E5ECF6\",\"width\":0.5},\"pattern\":{\"fillmode\":\"overlay\",\"size\":10,\"solidity\":0.2}},\"type\":\"bar\"}],\"barpolar\":[{\"marker\":{\"line\":{\"color\":\"#E5ECF6\",\"width\":0.5},\"pattern\":{\"fillmode\":\"overlay\",\"size\":10,\"solidity\":0.2}},\"type\":\"barpolar\"}],\"carpet\":[{\"aaxis\":{\"endlinecolor\":\"#2a3f5f\",\"gridcolor\":\"white\",\"linecolor\":\"white\",\"minorgridcolor\":\"white\",\"startlinecolor\":\"#2a3f5f\"},\"baxis\":{\"endlinecolor\":\"#2a3f5f\",\"gridcolor\":\"white\",\"linecolor\":\"white\",\"minorgridcolor\":\"white\",\"startlinecolor\":\"#2a3f5f\"},\"type\":\"carpet\"}],\"choropleth\":[{\"colorbar\":{\"outlinewidth\":0,\"ticks\":\"\"},\"type\":\"choropleth\"}],\"contour\":[{\"colorbar\":{\"outlinewidth\":0,\"ticks\":\"\"},\"colorscale\":[[0.0,\"#0d0887\"],[0.1111111111111111,\"#46039f\"],[0.2222222222222222,\"#7201a8\"],[0.3333333333333333,\"#9c179e\"],[0.4444444444444444,\"#bd3786\"],[0.5555555555555556,\"#d8576b\"],[0.6666666666666666,\"#ed7953\"],[0.7777777777777778,\"#fb9f3a\"],[0.8888888888888888,\"#fdca26\"],[1.0,\"#f0f921\"]],\"type\":\"contour\"}],\"contourcarpet\":[{\"colorbar\":{\"outlinewidth\":0,\"ticks\":\"\"},\"type\":\"contourcarpet\"}],\"heatmap\":[{\"colorbar\":{\"outlinewidth\":0,\"ticks\":\"\"},\"colorscale\":[[0.0,\"#0d0887\"],[0.1111111111111111,\"#46039f\"],[0.2222222222222222,\"#7201a8\"],[0.3333333333333333,\"#9c179e\"],[0.4444444444444444,\"#bd3786\"],[0.5555555555555556,\"#d8576b\"],[0.6666666666666666,\"#ed7953\"],[0.7777777777777778,\"#fb9f3a\"],[0.8888888888888888,\"#fdca26\"],[1.0,\"#f0f921\"]],\"type\":\"heatmap\"}],\"heatmapgl\":[{\"colorbar\":{\"outlinewidth\":0,\"ticks\":\"\"},\"colorscale\":[[0.0,\"#0d0887\"],[0.1111111111111111,\"#46039f\"],[0.2222222222222222,\"#7201a8\"],[0.3333333333333333,\"#9c179e\"],[0.4444444444444444,\"#bd3786\"],[0.5555555555555556,\"#d8576b\"],[0.6666666666666666,\"#ed7953\"],[0.7777777777777778,\"#fb9f3a\"],[0.8888888888888888,\"#fdca26\"],[1.0,\"#f0f921\"]],\"type\":\"heatmapgl\"}],\"histogram\":[{\"marker\":{\"pattern\":{\"fillmode\":\"overlay\",\"size\":10,\"solidity\":0.2}},\"type\":\"histogram\"}],\"histogram2d\":[{\"colorbar\":{\"outlinewidth\":0,\"ticks\":\"\"},\"colorscale\":[[0.0,\"#0d0887\"],[0.1111111111111111,\"#46039f\"],[0.2222222222222222,\"#7201a8\"],[0.3333333333333333,\"#9c179e\"],[0.4444444444444444,\"#bd3786\"],[0.5555555555555556,\"#d8576b\"],[0.6666666666666666,\"#ed7953\"],[0.7777777777777778,\"#fb9f3a\"],[0.8888888888888888,\"#fdca26\"],[1.0,\"#f0f921\"]],\"type\":\"histogram2d\"}],\"histogram2dcontour\":[{\"colorbar\":{\"outlinewidth\":0,\"ticks\":\"\"},\"colorscale\":[[0.0,\"#0d0887\"],[0.1111111111111111,\"#46039f\"],[0.2222222222222222,\"#7201a8\"],[0.3333333333333333,\"#9c179e\"],[0.4444444444444444,\"#bd3786\"],[0.5555555555555556,\"#d8576b\"],[0.6666666666666666,\"#ed7953\"],[0.7777777777777778,\"#fb9f3a\"],[0.8888888888888888,\"#fdca26\"],[1.0,\"#f0f921\"]],\"type\":\"histogram2dcontour\"}],\"mesh3d\":[{\"colorbar\":{\"outlinewidth\":0,\"ticks\":\"\"},\"type\":\"mesh3d\"}],\"parcoords\":[{\"line\":{\"colorbar\":{\"outlinewidth\":0,\"ticks\":\"\"}},\"type\":\"parcoords\"}],\"pie\":[{\"automargin\":true,\"type\":\"pie\"}],\"scatter\":[{\"marker\":{\"colorbar\":{\"outlinewidth\":0,\"ticks\":\"\"}},\"type\":\"scatter\"}],\"scatter3d\":[{\"line\":{\"colorbar\":{\"outlinewidth\":0,\"ticks\":\"\"}},\"marker\":{\"colorbar\":{\"outlinewidth\":0,\"ticks\":\"\"}},\"type\":\"scatter3d\"}],\"scattercarpet\":[{\"marker\":{\"colorbar\":{\"outlinewidth\":0,\"ticks\":\"\"}},\"type\":\"scattercarpet\"}],\"scattergeo\":[{\"marker\":{\"colorbar\":{\"outlinewidth\":0,\"ticks\":\"\"}},\"type\":\"scattergeo\"}],\"scattergl\":[{\"marker\":{\"colorbar\":{\"outlinewidth\":0,\"ticks\":\"\"}},\"type\":\"scattergl\"}],\"scattermapbox\":[{\"marker\":{\"colorbar\":{\"outlinewidth\":0,\"ticks\":\"\"}},\"type\":\"scattermapbox\"}],\"scatterpolar\":[{\"marker\":{\"colorbar\":{\"outlinewidth\":0,\"ticks\":\"\"}},\"type\":\"scatterpolar\"}],\"scatterpolargl\":[{\"marker\":{\"colorbar\":{\"outlinewidth\":0,\"ticks\":\"\"}},\"type\":\"scatterpolargl\"}],\"scatterternary\":[{\"marker\":{\"colorbar\":{\"outlinewidth\":0,\"ticks\":\"\"}},\"type\":\"scatterternary\"}],\"surface\":[{\"colorbar\":{\"outlinewidth\":0,\"ticks\":\"\"},\"colorscale\":[[0.0,\"#0d0887\"],[0.1111111111111111,\"#46039f\"],[0.2222222222222222,\"#7201a8\"],[0.3333333333333333,\"#9c179e\"],[0.4444444444444444,\"#bd3786\"],[0.5555555555555556,\"#d8576b\"],[0.6666666666666666,\"#ed7953\"],[0.7777777777777778,\"#fb9f3a\"],[0.8888888888888888,\"#fdca26\"],[1.0,\"#f0f921\"]],\"type\":\"surface\"}],\"table\":[{\"cells\":{\"fill\":{\"color\":\"#EBF0F8\"},\"line\":{\"color\":\"white\"}},\"header\":{\"fill\":{\"color\":\"#C8D4E3\"},\"line\":{\"color\":\"white\"}},\"type\":\"table\"}]},\"layout\":{\"annotationdefaults\":{\"arrowcolor\":\"#2a3f5f\",\"arrowhead\":0,\"arrowwidth\":1},\"autotypenumbers\":\"strict\",\"coloraxis\":{\"colorbar\":{\"outlinewidth\":0,\"ticks\":\"\"}},\"colorscale\":{\"diverging\":[[0,\"#8e0152\"],[0.1,\"#c51b7d\"],[0.2,\"#de77ae\"],[0.3,\"#f1b6da\"],[0.4,\"#fde0ef\"],[0.5,\"#f7f7f7\"],[0.6,\"#e6f5d0\"],[0.7,\"#b8e186\"],[0.8,\"#7fbc41\"],[0.9,\"#4d9221\"],[1,\"#276419\"]],\"sequential\":[[0.0,\"#0d0887\"],[0.1111111111111111,\"#46039f\"],[0.2222222222222222,\"#7201a8\"],[0.3333333333333333,\"#9c179e\"],[0.4444444444444444,\"#bd3786\"],[0.5555555555555556,\"#d8576b\"],[0.6666666666666666,\"#ed7953\"],[0.7777777777777778,\"#fb9f3a\"],[0.8888888888888888,\"#fdca26\"],[1.0,\"#f0f921\"]],\"sequentialminus\":[[0.0,\"#0d0887\"],[0.1111111111111111,\"#46039f\"],[0.2222222222222222,\"#7201a8\"],[0.3333333333333333,\"#9c179e\"],[0.4444444444444444,\"#bd3786\"],[0.5555555555555556,\"#d8576b\"],[0.6666666666666666,\"#ed7953\"],[0.7777777777777778,\"#fb9f3a\"],[0.8888888888888888,\"#fdca26\"],[1.0,\"#f0f921\"]]},\"colorway\":[\"#636efa\",\"#EF553B\",\"#00cc96\",\"#ab63fa\",\"#FFA15A\",\"#19d3f3\",\"#FF6692\",\"#B6E880\",\"#FF97FF\",\"#FECB52\"],\"font\":{\"color\":\"#2a3f5f\"},\"geo\":{\"bgcolor\":\"white\",\"lakecolor\":\"white\",\"landcolor\":\"#E5ECF6\",\"showlakes\":true,\"showland\":true,\"subunitcolor\":\"white\"},\"hoverlabel\":{\"align\":\"left\"},\"hovermode\":\"closest\",\"mapbox\":{\"style\":\"light\"},\"paper_bgcolor\":\"white\",\"plot_bgcolor\":\"#E5ECF6\",\"polar\":{\"angularaxis\":{\"gridcolor\":\"white\",\"linecolor\":\"white\",\"ticks\":\"\"},\"bgcolor\":\"#E5ECF6\",\"radialaxis\":{\"gridcolor\":\"white\",\"linecolor\":\"white\",\"ticks\":\"\"}},\"scene\":{\"xaxis\":{\"backgroundcolor\":\"#E5ECF6\",\"gridcolor\":\"white\",\"gridwidth\":2,\"linecolor\":\"white\",\"showbackground\":true,\"ticks\":\"\",\"zerolinecolor\":\"white\"},\"yaxis\":{\"backgroundcolor\":\"#E5ECF6\",\"gridcolor\":\"white\",\"gridwidth\":2,\"linecolor\":\"white\",\"showbackground\":true,\"ticks\":\"\",\"zerolinecolor\":\"white\"},\"zaxis\":{\"backgroundcolor\":\"#E5ECF6\",\"gridcolor\":\"white\",\"gridwidth\":2,\"linecolor\":\"white\",\"showbackground\":true,\"ticks\":\"\",\"zerolinecolor\":\"white\"}},\"shapedefaults\":{\"line\":{\"color\":\"#2a3f5f\"}},\"ternary\":{\"aaxis\":{\"gridcolor\":\"white\",\"linecolor\":\"white\",\"ticks\":\"\"},\"baxis\":{\"gridcolor\":\"white\",\"linecolor\":\"white\",\"ticks\":\"\"},\"bgcolor\":\"#E5ECF6\",\"caxis\":{\"gridcolor\":\"white\",\"linecolor\":\"white\",\"ticks\":\"\"}},\"title\":{\"x\":0.05},\"xaxis\":{\"automargin\":true,\"gridcolor\":\"white\",\"linecolor\":\"white\",\"ticks\":\"\",\"title\":{\"standoff\":15},\"zerolinecolor\":\"white\",\"zerolinewidth\":2},\"yaxis\":{\"automargin\":true,\"gridcolor\":\"white\",\"linecolor\":\"white\",\"ticks\":\"\",\"title\":{\"standoff\":15},\"zerolinecolor\":\"white\",\"zerolinewidth\":2}}},\"title\":{\"font\":{\"color\":\"#4D5663\"}},\"xaxis\":{\"gridcolor\":\"#E1E5ED\",\"showgrid\":true,\"tickfont\":{\"color\":\"#4D5663\"},\"title\":{\"font\":{\"color\":\"#4D5663\"},\"text\":\"\"},\"zerolinecolor\":\"#E1E5ED\"},\"yaxis\":{\"gridcolor\":\"#E1E5ED\",\"showgrid\":true,\"tickfont\":{\"color\":\"#4D5663\"},\"title\":{\"font\":{\"color\":\"#4D5663\"},\"text\":\"\"},\"zerolinecolor\":\"#E1E5ED\"}},                        {\"showLink\": true, \"linkText\": \"Export to plot.ly\", \"plotlyServerURL\": \"https://plot.ly\", \"responsive\": true}                    ).then(function(){\n",
       "                            \n",
       "var gd = document.getElementById('cb238f22-cc4f-49fe-904b-142f71d1fbb9');\n",
       "var x = new MutationObserver(function (mutations, observer) {{\n",
       "        var display = window.getComputedStyle(gd).display;\n",
       "        if (!display || display === 'none') {{\n",
       "            console.log([gd, 'removed!']);\n",
       "            Plotly.purge(gd);\n",
       "            observer.disconnect();\n",
       "        }}\n",
       "}});\n",
       "\n",
       "// Listen for the removal of the full notebook cells\n",
       "var notebookContainer = gd.closest('#notebook-container');\n",
       "if (notebookContainer) {{\n",
       "    x.observe(notebookContainer, {childList: true});\n",
       "}}\n",
       "\n",
       "// Listen for the clearing of the current output cell\n",
       "var outputEl = gd.closest('.output');\n",
       "if (outputEl) {{\n",
       "    x.observe(outputEl, {childList: true});\n",
       "}}\n",
       "\n",
       "                        })                };                });            </script>        </div>"
      ]
     },
     "metadata": {},
     "output_type": "display_data"
    }
   ],
   "source": [
    "df.iplot(kind='bubble',x='A',y='B',size='C')"
   ]
  },
  {
   "cell_type": "markdown",
   "metadata": {},
   "source": [
    "## scatter_matrix()\n",
    "\n",
    "Similar to sns.pairplot()"
   ]
  },
  {
   "cell_type": "code",
   "execution_count": 20,
   "metadata": {},
   "outputs": [
    {
     "data": {
      "application/vnd.plotly.v1+json": {
       "config": {
        "linkText": "Export to plot.ly",
        "plotlyServerURL": "https://plot.ly",
        "showLink": true
       },
       "data": [
        {
         "histfunc": "count",
         "histnorm": "",
         "marker": {
          "color": "rgba(255, 153, 51, 1.0)",
          "line": {
           "color": "#4D5663",
           "width": 1.3
          }
         },
         "name": "A",
         "nbinsx": 10,
         "opacity": 0.8,
         "orientation": "v",
         "type": "histogram",
         "x": [
          0.6754782943325655,
          0.5676345968842824,
          0.1328881905375589,
          1.5598060655336465,
          0.20155851821828127,
          -0.1704342005504423,
          1.6382714620922407,
          0.5960123218986514,
          -1.3967502608685103,
          -0.4175266016308763,
          -1.4622195465874601,
          -0.4418238211952053,
          -0.9396201592840361,
          -0.13826138272671448,
          -0.8850161103888932,
          1.8504189241059084,
          -0.5670395261360621,
          -0.4512300334792727,
          -1.3659730557435033,
          -2.2195698637480628,
          0.3537368438916856,
          0.8011510663127747,
          0.9158535282283714,
          -0.10090839994435542,
          0.5197315429475056,
          0.542335737958651,
          -0.5888216723532752,
          -0.6521836708748141,
          -0.3603370324925614,
          -0.9552920009367587,
          -2.2849797147682933,
          0.4519183096797922,
          1.8842896639403863,
          1.1340897786363573,
          0.18372623294508642,
          -1.0237109171539454,
          -1.654003775689415,
          0.32167723924081354,
          1.2199528459728162,
          2.929925287765693,
          -0.8172173302082492,
          -1.6505368253468742,
          0.23446380237601086,
          0.36633509776946094,
          -1.410517557328883,
          -1.0885958183031015,
          1.41325542793449,
          -1.7040848451332873,
          0.03122408759234455,
          -0.32773165815662103,
          0.6662743949672889,
          -1.3245476957372868,
          -0.17648115279437038,
          0.5131658131312273,
          0.6254611583947094,
          -0.9504172530455163,
          -0.38056513766120054,
          -1.610980503470945,
          0.3138510000800175,
          1.2297882444657389,
          2.0612538048066784,
          1.7240572041477948,
          -0.7228253590566479,
          0.94310349502881,
          -2.011162597259447,
          -0.958977057005299,
          1.2929502033458233,
          1.1732776407222958,
          1.0006976463240154,
          0.07796519762881553,
          -0.4987650476806753,
          0.9764184595883123,
          -0.014106945313026645,
          1.5428496733376793,
          -1.091952698664168,
          0.4782947233641637,
          0.2752500905442413,
          -1.970375548198486,
          2.0526149916013905,
          -0.5355825007775484,
          0.7545279930637657,
          0.2863047840180115,
          -1.4025937393898347,
          0.9342278828335764,
          0.5624839596099094,
          1.1447907551414858,
          0.08961360380327707,
          -0.4817073117416022,
          -0.6319061449787831,
          2.343257288835841,
          -0.5589302132661069,
          0.7941564694900235,
          -0.6152341400737853,
          0.8544116644485762,
          0.41297969806072243,
          1.613308547129756,
          -0.19679692672583227,
          -0.2252424721695863,
          -1.101041110660023,
          -1.9043054451684438
         ],
         "xaxis": "x",
         "yaxis": "y"
        },
        {
         "line": {
          "color": "rgba(128, 128, 128, 1.0)",
          "dash": "solid",
          "shape": "linear",
          "width": 1.3
         },
         "marker": {
          "size": 2,
          "symbol": "circle"
         },
         "mode": "markers",
         "name": "A",
         "text": "",
         "type": "scatter",
         "x": [
          -0.2217291443388921,
          -1.2371542355520193,
          0.8123200317942653,
          1.2443210913177807,
          0.15665068302727347,
          -0.49601188309501854,
          -1.5674118452306314,
          0.8681936946504126,
          -2.1588947361277944,
          0.004523669014418451,
          0.2224144998784712,
          -1.2047967088202578,
          -0.48311376209050955,
          0.5263364911407737,
          -0.6581025306060428,
          0.5859815825235286,
          1.2843285937087179,
          2.644736009199112,
          0.6686205905210374,
          0.41822294352248607,
          -1.0881429265518046,
          -0.2848994852918314,
          -1.0361040136959085,
          -0.43236691856491044,
          -1.2151060705229921,
          -1.0535802751145777,
          -1.7101393540602814,
          0.13700496725160327,
          -0.03639404936203314,
          -1.167416774354088,
          1.242824173634307,
          0.7555947464871007,
          -0.2358954009781537,
          1.7245172324003295,
          0.011408650486823966,
          1.468500443226724,
          -1.087452184127168,
          0.31587470047464566,
          -0.64965102521893,
          -0.18741629301066062,
          0.8643789608770887,
          0.1374916054046593,
          0.984915590803966,
          -0.5749850827580681,
          -0.31367705412547175,
          0.43808758668803777,
          0.5237444006175169,
          -1.933200354258214,
          0.24285826858388612,
          1.0770527002311396,
          0.8642237475271446,
          -2.8026546155389527,
          -1.269688258045194,
          0.13818859955011006,
          -0.7032899314435153,
          -1.6489195836048638,
          -0.10259177038998696,
          1.4542546939122745,
          -0.5144024244857891,
          -0.16761985394816561,
          0.18057974799115853,
          0.9153792574175322,
          -1.5625254164314404,
          0.7275749276372556,
          -0.8410916716639276,
          1.9702443659279567,
          1.0105656117288755,
          -0.33011431585845263,
          0.05896025014420832,
          -0.6182716108350788,
          -1.9307322255876471,
          -0.423044638561435,
          0.8242161598940201,
          0.7473086068676891,
          -0.06390385057859259,
          1.411752606998454,
          0.9490293076629773,
          0.009991847913236184,
          0.673086587444426,
          -0.12972617508859452,
          -1.4564557150623647,
          0.36259057467603667,
          -1.0036754215214432,
          -0.9933192141036302,
          -0.8830959235342006,
          0.0068193462280179895,
          0.7529614687362064,
          0.4431679290600762,
          0.7558262294932983,
          -1.87289174236139,
          2.6694207476365075,
          -0.03194188108580788,
          -1.1825587513883815,
          -0.6013875741485867,
          0.7019085379263506,
          -0.16891436238867008,
          -1.3841323134554913,
          1.5394640870582705,
          0.8545201128569784,
          0.8007369757347785
         ],
         "xaxis": "x2",
         "y": [
          0.6754782943325655,
          0.5676345968842824,
          0.1328881905375589,
          1.5598060655336465,
          0.20155851821828127,
          -0.1704342005504423,
          1.6382714620922407,
          0.5960123218986514,
          -1.3967502608685103,
          -0.4175266016308763,
          -1.4622195465874601,
          -0.4418238211952053,
          -0.9396201592840361,
          -0.13826138272671448,
          -0.8850161103888932,
          1.8504189241059084,
          -0.5670395261360621,
          -0.4512300334792727,
          -1.3659730557435033,
          -2.2195698637480628,
          0.3537368438916856,
          0.8011510663127747,
          0.9158535282283714,
          -0.10090839994435542,
          0.5197315429475056,
          0.542335737958651,
          -0.5888216723532752,
          -0.6521836708748141,
          -0.3603370324925614,
          -0.9552920009367587,
          -2.2849797147682933,
          0.4519183096797922,
          1.8842896639403863,
          1.1340897786363573,
          0.18372623294508642,
          -1.0237109171539454,
          -1.654003775689415,
          0.32167723924081354,
          1.2199528459728162,
          2.929925287765693,
          -0.8172173302082492,
          -1.6505368253468742,
          0.23446380237601086,
          0.36633509776946094,
          -1.410517557328883,
          -1.0885958183031015,
          1.41325542793449,
          -1.7040848451332873,
          0.03122408759234455,
          -0.32773165815662103,
          0.6662743949672889,
          -1.3245476957372868,
          -0.17648115279437038,
          0.5131658131312273,
          0.6254611583947094,
          -0.9504172530455163,
          -0.38056513766120054,
          -1.610980503470945,
          0.3138510000800175,
          1.2297882444657389,
          2.0612538048066784,
          1.7240572041477948,
          -0.7228253590566479,
          0.94310349502881,
          -2.011162597259447,
          -0.958977057005299,
          1.2929502033458233,
          1.1732776407222958,
          1.0006976463240154,
          0.07796519762881553,
          -0.4987650476806753,
          0.9764184595883123,
          -0.014106945313026645,
          1.5428496733376793,
          -1.091952698664168,
          0.4782947233641637,
          0.2752500905442413,
          -1.970375548198486,
          2.0526149916013905,
          -0.5355825007775484,
          0.7545279930637657,
          0.2863047840180115,
          -1.4025937393898347,
          0.9342278828335764,
          0.5624839596099094,
          1.1447907551414858,
          0.08961360380327707,
          -0.4817073117416022,
          -0.6319061449787831,
          2.343257288835841,
          -0.5589302132661069,
          0.7941564694900235,
          -0.6152341400737853,
          0.8544116644485762,
          0.41297969806072243,
          1.613308547129756,
          -0.19679692672583227,
          -0.2252424721695863,
          -1.101041110660023,
          -1.9043054451684438
         ],
         "yaxis": "y2"
        },
        {
         "line": {
          "color": "rgba(128, 128, 128, 1.0)",
          "dash": "solid",
          "shape": "linear",
          "width": 1.3
         },
         "marker": {
          "size": 2,
          "symbol": "circle"
         },
         "mode": "markers",
         "name": "A",
         "text": "",
         "type": "scatter",
         "x": [
          0.0784437314920932,
          -0.6274683178765565,
          0.5298269773625096,
          -0.026204610060682528,
          1.37969563905112,
          -0.8000786645365066,
          -0.2711977325666523,
          1.4726782220970804,
          -0.1547773948945247,
          0.36473944640186384,
          -0.08429883514455458,
          -1.5515062481753192,
          0.03205552259490915,
          1.2123548956418295,
          0.43058253591239376,
          -0.031117297861683987,
          1.2414500049237107,
          -0.8518608567833222,
          1.3288784861201977,
          1.439038188138787,
          2.0834823106921867,
          -0.13951482153101846,
          -0.16750640075993256,
          -2.596922050001098,
          -1.0344366694712204,
          0.3874677675410941,
          0.5300976846874239,
          0.2650623034781403,
          1.123632155716323,
          -1.5572785478146938,
          0.9594542248327607,
          -1.2557351597027717,
          -1.8360982088841002,
          -0.24171184000833357,
          1.4535229764820388,
          0.8434778332317928,
          -0.1390979275451528,
          1.4824149640051818,
          0.45160359629458197,
          1.2539319476365436,
          0.5844252340197015,
          0.10182632011854167,
          1.3062137404946352,
          -1.6230105028452513,
          0.3566611284157468,
          1.7308316510693198,
          -0.06209698721137085,
          0.3939301904060206,
          0.20960382548586007,
          -1.3716340073257205,
          0.2504460076052671,
          -0.40946158043083053,
          -0.21669459044608314,
          -1.3113978351731204,
          0.7301680983005864,
          1.6659322095726434,
          0.08792943985079187,
          -0.7318878119568767,
          -0.1752586144857245,
          0.5437074109358785,
          1.3754837271082254,
          -0.7535874213950295,
          -0.5878948226418345,
          -0.3610536843703974,
          1.5204262409258733,
          -0.43322783712311214,
          0.8035654301932148,
          -1.363808961916895,
          -0.3544827133614749,
          1.815037702042949,
          -0.010765358664600296,
          0.2633014458669041,
          1.9722229163077225,
          -0.04229984248442153,
          -0.723068086967317,
          -2.0357774272091373,
          -0.6350456554823967,
          0.45584953161270303,
          0.9067616582640229,
          1.5480251312081699,
          -0.9928566495105056,
          -1.28321428258695,
          0.14135966092114852,
          0.3578602496552667,
          -1.488692412653754,
          0.028263269062368666,
          0.33757401829189343,
          -0.7603609722621759,
          -0.3598963718688637,
          -2.1381875920361053,
          -0.7976158836639305,
          -0.7812095188111328,
          -0.3107933341853249,
          -0.4971599535565136,
          0.6180616657471829,
          -1.7780361709837333,
          2.408104100772878,
          0.6351956483184322,
          -0.12947334443327432,
          -1.081991236502051
         ],
         "xaxis": "x3",
         "y": [
          0.6754782943325655,
          0.5676345968842824,
          0.1328881905375589,
          1.5598060655336465,
          0.20155851821828127,
          -0.1704342005504423,
          1.6382714620922407,
          0.5960123218986514,
          -1.3967502608685103,
          -0.4175266016308763,
          -1.4622195465874601,
          -0.4418238211952053,
          -0.9396201592840361,
          -0.13826138272671448,
          -0.8850161103888932,
          1.8504189241059084,
          -0.5670395261360621,
          -0.4512300334792727,
          -1.3659730557435033,
          -2.2195698637480628,
          0.3537368438916856,
          0.8011510663127747,
          0.9158535282283714,
          -0.10090839994435542,
          0.5197315429475056,
          0.542335737958651,
          -0.5888216723532752,
          -0.6521836708748141,
          -0.3603370324925614,
          -0.9552920009367587,
          -2.2849797147682933,
          0.4519183096797922,
          1.8842896639403863,
          1.1340897786363573,
          0.18372623294508642,
          -1.0237109171539454,
          -1.654003775689415,
          0.32167723924081354,
          1.2199528459728162,
          2.929925287765693,
          -0.8172173302082492,
          -1.6505368253468742,
          0.23446380237601086,
          0.36633509776946094,
          -1.410517557328883,
          -1.0885958183031015,
          1.41325542793449,
          -1.7040848451332873,
          0.03122408759234455,
          -0.32773165815662103,
          0.6662743949672889,
          -1.3245476957372868,
          -0.17648115279437038,
          0.5131658131312273,
          0.6254611583947094,
          -0.9504172530455163,
          -0.38056513766120054,
          -1.610980503470945,
          0.3138510000800175,
          1.2297882444657389,
          2.0612538048066784,
          1.7240572041477948,
          -0.7228253590566479,
          0.94310349502881,
          -2.011162597259447,
          -0.958977057005299,
          1.2929502033458233,
          1.1732776407222958,
          1.0006976463240154,
          0.07796519762881553,
          -0.4987650476806753,
          0.9764184595883123,
          -0.014106945313026645,
          1.5428496733376793,
          -1.091952698664168,
          0.4782947233641637,
          0.2752500905442413,
          -1.970375548198486,
          2.0526149916013905,
          -0.5355825007775484,
          0.7545279930637657,
          0.2863047840180115,
          -1.4025937393898347,
          0.9342278828335764,
          0.5624839596099094,
          1.1447907551414858,
          0.08961360380327707,
          -0.4817073117416022,
          -0.6319061449787831,
          2.343257288835841,
          -0.5589302132661069,
          0.7941564694900235,
          -0.6152341400737853,
          0.8544116644485762,
          0.41297969806072243,
          1.613308547129756,
          -0.19679692672583227,
          -0.2252424721695863,
          -1.101041110660023,
          -1.9043054451684438
         ],
         "yaxis": "y3"
        },
        {
         "line": {
          "color": "rgba(128, 128, 128, 1.0)",
          "dash": "solid",
          "shape": "linear",
          "width": 1.3
         },
         "marker": {
          "size": 2,
          "symbol": "circle"
         },
         "mode": "markers",
         "name": "A",
         "text": "",
         "type": "scatter",
         "x": [
          1.3176171729312272,
          -0.9834880323385257,
          0.6411961838907011,
          0.669110779707614,
          0.6909807029692084,
          -0.4721750437619172,
          0.9276671831585144,
          0.004224855025634071,
          1.5855609956540089,
          -2.362573108645685,
          1.449613773680825,
          0.08392393763461577,
          1.4106686705608238,
          -0.14437037332746172,
          -1.3328496798693938,
          -0.37652589035939366,
          -0.4946055490266074,
          0.31911727130119266,
          -0.47358087026724893,
          0.16505353040464632,
          1.5140781357842468,
          0.8549407420138733,
          0.9997998467684753,
          -0.4938509276561391,
          0.10886655189684685,
          -0.45338661443259165,
          0.801666642873236,
          -0.10292637171679458,
          0.1762930848097405,
          -0.7435744978120609,
          -0.7828881051060924,
          -0.5449076415695722,
          -0.8829502763539031,
          -0.15656960504724496,
          -0.23525720483416326,
          -0.25459885591993897,
          -0.8960229288435273,
          -0.9809902582888329,
          -0.7603113561563828,
          -1.2892096628807506,
          0.6302925112779482,
          -0.3215614608890834,
          -0.45027111963134125,
          -0.32699236661256303,
          -0.9574633336697017,
          0.2646646949622887,
          -0.2821900739904608,
          -0.8968778040618786,
          -1.4277929316873632,
          -1.7956111453370855,
          -1.2976088427692183,
          -0.5530879697592308,
          0.3037174086766186,
          0.5556223777751071,
          1.7350025669748539,
          0.20697663508511632,
          -1.3913773527801154,
          1.5440766422195047,
          -0.6241203351108987,
          -1.923666382511092,
          0.4556263675530248,
          -0.349330977819222,
          -1.4393546206558492,
          -1.1811152857102594,
          -0.16930038167070804,
          -0.1292701898700492,
          1.037802622208697,
          0.8296283353615309,
          -0.9845185162741449,
          0.5701566902074574,
          1.6367428805438935,
          1.945251815442205,
          1.2840117045761732,
          -0.16430735928035567,
          1.1995560974603026,
          -1.0964725875195462,
          0.041578630666224685,
          0.3944469773059546,
          0.10880517897135732,
          0.35052365302338484,
          1.0006118784343434,
          0.7794816871241417,
          -0.42771077868518786,
          -0.4656016344090984,
          -0.0938138734703827,
          -1.1208302944841384,
          0.10526049306349472,
          0.24486250243615648,
          -0.8260289717409693,
          -0.3229038089718978,
          -0.8161886246811139,
          0.7359278700604573,
          -2.053293054572988,
          -0.7748654206211201,
          0.7264382231948154,
          0.3300205040387262,
          -0.24818884797599722,
          -0.9396493198859207,
          1.0587748727876582,
          0.005321853681144137
         ],
         "xaxis": "x4",
         "y": [
          0.6754782943325655,
          0.5676345968842824,
          0.1328881905375589,
          1.5598060655336465,
          0.20155851821828127,
          -0.1704342005504423,
          1.6382714620922407,
          0.5960123218986514,
          -1.3967502608685103,
          -0.4175266016308763,
          -1.4622195465874601,
          -0.4418238211952053,
          -0.9396201592840361,
          -0.13826138272671448,
          -0.8850161103888932,
          1.8504189241059084,
          -0.5670395261360621,
          -0.4512300334792727,
          -1.3659730557435033,
          -2.2195698637480628,
          0.3537368438916856,
          0.8011510663127747,
          0.9158535282283714,
          -0.10090839994435542,
          0.5197315429475056,
          0.542335737958651,
          -0.5888216723532752,
          -0.6521836708748141,
          -0.3603370324925614,
          -0.9552920009367587,
          -2.2849797147682933,
          0.4519183096797922,
          1.8842896639403863,
          1.1340897786363573,
          0.18372623294508642,
          -1.0237109171539454,
          -1.654003775689415,
          0.32167723924081354,
          1.2199528459728162,
          2.929925287765693,
          -0.8172173302082492,
          -1.6505368253468742,
          0.23446380237601086,
          0.36633509776946094,
          -1.410517557328883,
          -1.0885958183031015,
          1.41325542793449,
          -1.7040848451332873,
          0.03122408759234455,
          -0.32773165815662103,
          0.6662743949672889,
          -1.3245476957372868,
          -0.17648115279437038,
          0.5131658131312273,
          0.6254611583947094,
          -0.9504172530455163,
          -0.38056513766120054,
          -1.610980503470945,
          0.3138510000800175,
          1.2297882444657389,
          2.0612538048066784,
          1.7240572041477948,
          -0.7228253590566479,
          0.94310349502881,
          -2.011162597259447,
          -0.958977057005299,
          1.2929502033458233,
          1.1732776407222958,
          1.0006976463240154,
          0.07796519762881553,
          -0.4987650476806753,
          0.9764184595883123,
          -0.014106945313026645,
          1.5428496733376793,
          -1.091952698664168,
          0.4782947233641637,
          0.2752500905442413,
          -1.970375548198486,
          2.0526149916013905,
          -0.5355825007775484,
          0.7545279930637657,
          0.2863047840180115,
          -1.4025937393898347,
          0.9342278828335764,
          0.5624839596099094,
          1.1447907551414858,
          0.08961360380327707,
          -0.4817073117416022,
          -0.6319061449787831,
          2.343257288835841,
          -0.5589302132661069,
          0.7941564694900235,
          -0.6152341400737853,
          0.8544116644485762,
          0.41297969806072243,
          1.613308547129756,
          -0.19679692672583227,
          -0.2252424721695863,
          -1.101041110660023,
          -1.9043054451684438
         ],
         "yaxis": "y4"
        },
        {
         "line": {
          "color": "rgba(128, 128, 128, 1.0)",
          "dash": "solid",
          "shape": "linear",
          "width": 1.3
         },
         "marker": {
          "size": 2,
          "symbol": "circle"
         },
         "mode": "markers",
         "name": "B",
         "text": "",
         "type": "scatter",
         "x": [
          0.6754782943325655,
          0.5676345968842824,
          0.1328881905375589,
          1.5598060655336465,
          0.20155851821828127,
          -0.1704342005504423,
          1.6382714620922407,
          0.5960123218986514,
          -1.3967502608685103,
          -0.4175266016308763,
          -1.4622195465874601,
          -0.4418238211952053,
          -0.9396201592840361,
          -0.13826138272671448,
          -0.8850161103888932,
          1.8504189241059084,
          -0.5670395261360621,
          -0.4512300334792727,
          -1.3659730557435033,
          -2.2195698637480628,
          0.3537368438916856,
          0.8011510663127747,
          0.9158535282283714,
          -0.10090839994435542,
          0.5197315429475056,
          0.542335737958651,
          -0.5888216723532752,
          -0.6521836708748141,
          -0.3603370324925614,
          -0.9552920009367587,
          -2.2849797147682933,
          0.4519183096797922,
          1.8842896639403863,
          1.1340897786363573,
          0.18372623294508642,
          -1.0237109171539454,
          -1.654003775689415,
          0.32167723924081354,
          1.2199528459728162,
          2.929925287765693,
          -0.8172173302082492,
          -1.6505368253468742,
          0.23446380237601086,
          0.36633509776946094,
          -1.410517557328883,
          -1.0885958183031015,
          1.41325542793449,
          -1.7040848451332873,
          0.03122408759234455,
          -0.32773165815662103,
          0.6662743949672889,
          -1.3245476957372868,
          -0.17648115279437038,
          0.5131658131312273,
          0.6254611583947094,
          -0.9504172530455163,
          -0.38056513766120054,
          -1.610980503470945,
          0.3138510000800175,
          1.2297882444657389,
          2.0612538048066784,
          1.7240572041477948,
          -0.7228253590566479,
          0.94310349502881,
          -2.011162597259447,
          -0.958977057005299,
          1.2929502033458233,
          1.1732776407222958,
          1.0006976463240154,
          0.07796519762881553,
          -0.4987650476806753,
          0.9764184595883123,
          -0.014106945313026645,
          1.5428496733376793,
          -1.091952698664168,
          0.4782947233641637,
          0.2752500905442413,
          -1.970375548198486,
          2.0526149916013905,
          -0.5355825007775484,
          0.7545279930637657,
          0.2863047840180115,
          -1.4025937393898347,
          0.9342278828335764,
          0.5624839596099094,
          1.1447907551414858,
          0.08961360380327707,
          -0.4817073117416022,
          -0.6319061449787831,
          2.343257288835841,
          -0.5589302132661069,
          0.7941564694900235,
          -0.6152341400737853,
          0.8544116644485762,
          0.41297969806072243,
          1.613308547129756,
          -0.19679692672583227,
          -0.2252424721695863,
          -1.101041110660023,
          -1.9043054451684438
         ],
         "xaxis": "x5",
         "y": [
          -0.2217291443388921,
          -1.2371542355520193,
          0.8123200317942653,
          1.2443210913177807,
          0.15665068302727347,
          -0.49601188309501854,
          -1.5674118452306314,
          0.8681936946504126,
          -2.1588947361277944,
          0.004523669014418451,
          0.2224144998784712,
          -1.2047967088202578,
          -0.48311376209050955,
          0.5263364911407737,
          -0.6581025306060428,
          0.5859815825235286,
          1.2843285937087179,
          2.644736009199112,
          0.6686205905210374,
          0.41822294352248607,
          -1.0881429265518046,
          -0.2848994852918314,
          -1.0361040136959085,
          -0.43236691856491044,
          -1.2151060705229921,
          -1.0535802751145777,
          -1.7101393540602814,
          0.13700496725160327,
          -0.03639404936203314,
          -1.167416774354088,
          1.242824173634307,
          0.7555947464871007,
          -0.2358954009781537,
          1.7245172324003295,
          0.011408650486823966,
          1.468500443226724,
          -1.087452184127168,
          0.31587470047464566,
          -0.64965102521893,
          -0.18741629301066062,
          0.8643789608770887,
          0.1374916054046593,
          0.984915590803966,
          -0.5749850827580681,
          -0.31367705412547175,
          0.43808758668803777,
          0.5237444006175169,
          -1.933200354258214,
          0.24285826858388612,
          1.0770527002311396,
          0.8642237475271446,
          -2.8026546155389527,
          -1.269688258045194,
          0.13818859955011006,
          -0.7032899314435153,
          -1.6489195836048638,
          -0.10259177038998696,
          1.4542546939122745,
          -0.5144024244857891,
          -0.16761985394816561,
          0.18057974799115853,
          0.9153792574175322,
          -1.5625254164314404,
          0.7275749276372556,
          -0.8410916716639276,
          1.9702443659279567,
          1.0105656117288755,
          -0.33011431585845263,
          0.05896025014420832,
          -0.6182716108350788,
          -1.9307322255876471,
          -0.423044638561435,
          0.8242161598940201,
          0.7473086068676891,
          -0.06390385057859259,
          1.411752606998454,
          0.9490293076629773,
          0.009991847913236184,
          0.673086587444426,
          -0.12972617508859452,
          -1.4564557150623647,
          0.36259057467603667,
          -1.0036754215214432,
          -0.9933192141036302,
          -0.8830959235342006,
          0.0068193462280179895,
          0.7529614687362064,
          0.4431679290600762,
          0.7558262294932983,
          -1.87289174236139,
          2.6694207476365075,
          -0.03194188108580788,
          -1.1825587513883815,
          -0.6013875741485867,
          0.7019085379263506,
          -0.16891436238867008,
          -1.3841323134554913,
          1.5394640870582705,
          0.8545201128569784,
          0.8007369757347785
         ],
         "yaxis": "y5"
        },
        {
         "histfunc": "count",
         "histnorm": "",
         "marker": {
          "color": "rgba(55, 128, 191, 1.0)",
          "line": {
           "color": "#4D5663",
           "width": 1.3
          }
         },
         "name": "B",
         "nbinsx": 10,
         "opacity": 0.8,
         "orientation": "v",
         "type": "histogram",
         "x": [
          -0.2217291443388921,
          -1.2371542355520193,
          0.8123200317942653,
          1.2443210913177807,
          0.15665068302727347,
          -0.49601188309501854,
          -1.5674118452306314,
          0.8681936946504126,
          -2.1588947361277944,
          0.004523669014418451,
          0.2224144998784712,
          -1.2047967088202578,
          -0.48311376209050955,
          0.5263364911407737,
          -0.6581025306060428,
          0.5859815825235286,
          1.2843285937087179,
          2.644736009199112,
          0.6686205905210374,
          0.41822294352248607,
          -1.0881429265518046,
          -0.2848994852918314,
          -1.0361040136959085,
          -0.43236691856491044,
          -1.2151060705229921,
          -1.0535802751145777,
          -1.7101393540602814,
          0.13700496725160327,
          -0.03639404936203314,
          -1.167416774354088,
          1.242824173634307,
          0.7555947464871007,
          -0.2358954009781537,
          1.7245172324003295,
          0.011408650486823966,
          1.468500443226724,
          -1.087452184127168,
          0.31587470047464566,
          -0.64965102521893,
          -0.18741629301066062,
          0.8643789608770887,
          0.1374916054046593,
          0.984915590803966,
          -0.5749850827580681,
          -0.31367705412547175,
          0.43808758668803777,
          0.5237444006175169,
          -1.933200354258214,
          0.24285826858388612,
          1.0770527002311396,
          0.8642237475271446,
          -2.8026546155389527,
          -1.269688258045194,
          0.13818859955011006,
          -0.7032899314435153,
          -1.6489195836048638,
          -0.10259177038998696,
          1.4542546939122745,
          -0.5144024244857891,
          -0.16761985394816561,
          0.18057974799115853,
          0.9153792574175322,
          -1.5625254164314404,
          0.7275749276372556,
          -0.8410916716639276,
          1.9702443659279567,
          1.0105656117288755,
          -0.33011431585845263,
          0.05896025014420832,
          -0.6182716108350788,
          -1.9307322255876471,
          -0.423044638561435,
          0.8242161598940201,
          0.7473086068676891,
          -0.06390385057859259,
          1.411752606998454,
          0.9490293076629773,
          0.009991847913236184,
          0.673086587444426,
          -0.12972617508859452,
          -1.4564557150623647,
          0.36259057467603667,
          -1.0036754215214432,
          -0.9933192141036302,
          -0.8830959235342006,
          0.0068193462280179895,
          0.7529614687362064,
          0.4431679290600762,
          0.7558262294932983,
          -1.87289174236139,
          2.6694207476365075,
          -0.03194188108580788,
          -1.1825587513883815,
          -0.6013875741485867,
          0.7019085379263506,
          -0.16891436238867008,
          -1.3841323134554913,
          1.5394640870582705,
          0.8545201128569784,
          0.8007369757347785
         ],
         "xaxis": "x6",
         "yaxis": "y6"
        },
        {
         "line": {
          "color": "rgba(128, 128, 128, 1.0)",
          "dash": "solid",
          "shape": "linear",
          "width": 1.3
         },
         "marker": {
          "size": 2,
          "symbol": "circle"
         },
         "mode": "markers",
         "name": "B",
         "text": "",
         "type": "scatter",
         "x": [
          0.0784437314920932,
          -0.6274683178765565,
          0.5298269773625096,
          -0.026204610060682528,
          1.37969563905112,
          -0.8000786645365066,
          -0.2711977325666523,
          1.4726782220970804,
          -0.1547773948945247,
          0.36473944640186384,
          -0.08429883514455458,
          -1.5515062481753192,
          0.03205552259490915,
          1.2123548956418295,
          0.43058253591239376,
          -0.031117297861683987,
          1.2414500049237107,
          -0.8518608567833222,
          1.3288784861201977,
          1.439038188138787,
          2.0834823106921867,
          -0.13951482153101846,
          -0.16750640075993256,
          -2.596922050001098,
          -1.0344366694712204,
          0.3874677675410941,
          0.5300976846874239,
          0.2650623034781403,
          1.123632155716323,
          -1.5572785478146938,
          0.9594542248327607,
          -1.2557351597027717,
          -1.8360982088841002,
          -0.24171184000833357,
          1.4535229764820388,
          0.8434778332317928,
          -0.1390979275451528,
          1.4824149640051818,
          0.45160359629458197,
          1.2539319476365436,
          0.5844252340197015,
          0.10182632011854167,
          1.3062137404946352,
          -1.6230105028452513,
          0.3566611284157468,
          1.7308316510693198,
          -0.06209698721137085,
          0.3939301904060206,
          0.20960382548586007,
          -1.3716340073257205,
          0.2504460076052671,
          -0.40946158043083053,
          -0.21669459044608314,
          -1.3113978351731204,
          0.7301680983005864,
          1.6659322095726434,
          0.08792943985079187,
          -0.7318878119568767,
          -0.1752586144857245,
          0.5437074109358785,
          1.3754837271082254,
          -0.7535874213950295,
          -0.5878948226418345,
          -0.3610536843703974,
          1.5204262409258733,
          -0.43322783712311214,
          0.8035654301932148,
          -1.363808961916895,
          -0.3544827133614749,
          1.815037702042949,
          -0.010765358664600296,
          0.2633014458669041,
          1.9722229163077225,
          -0.04229984248442153,
          -0.723068086967317,
          -2.0357774272091373,
          -0.6350456554823967,
          0.45584953161270303,
          0.9067616582640229,
          1.5480251312081699,
          -0.9928566495105056,
          -1.28321428258695,
          0.14135966092114852,
          0.3578602496552667,
          -1.488692412653754,
          0.028263269062368666,
          0.33757401829189343,
          -0.7603609722621759,
          -0.3598963718688637,
          -2.1381875920361053,
          -0.7976158836639305,
          -0.7812095188111328,
          -0.3107933341853249,
          -0.4971599535565136,
          0.6180616657471829,
          -1.7780361709837333,
          2.408104100772878,
          0.6351956483184322,
          -0.12947334443327432,
          -1.081991236502051
         ],
         "xaxis": "x7",
         "y": [
          -0.2217291443388921,
          -1.2371542355520193,
          0.8123200317942653,
          1.2443210913177807,
          0.15665068302727347,
          -0.49601188309501854,
          -1.5674118452306314,
          0.8681936946504126,
          -2.1588947361277944,
          0.004523669014418451,
          0.2224144998784712,
          -1.2047967088202578,
          -0.48311376209050955,
          0.5263364911407737,
          -0.6581025306060428,
          0.5859815825235286,
          1.2843285937087179,
          2.644736009199112,
          0.6686205905210374,
          0.41822294352248607,
          -1.0881429265518046,
          -0.2848994852918314,
          -1.0361040136959085,
          -0.43236691856491044,
          -1.2151060705229921,
          -1.0535802751145777,
          -1.7101393540602814,
          0.13700496725160327,
          -0.03639404936203314,
          -1.167416774354088,
          1.242824173634307,
          0.7555947464871007,
          -0.2358954009781537,
          1.7245172324003295,
          0.011408650486823966,
          1.468500443226724,
          -1.087452184127168,
          0.31587470047464566,
          -0.64965102521893,
          -0.18741629301066062,
          0.8643789608770887,
          0.1374916054046593,
          0.984915590803966,
          -0.5749850827580681,
          -0.31367705412547175,
          0.43808758668803777,
          0.5237444006175169,
          -1.933200354258214,
          0.24285826858388612,
          1.0770527002311396,
          0.8642237475271446,
          -2.8026546155389527,
          -1.269688258045194,
          0.13818859955011006,
          -0.7032899314435153,
          -1.6489195836048638,
          -0.10259177038998696,
          1.4542546939122745,
          -0.5144024244857891,
          -0.16761985394816561,
          0.18057974799115853,
          0.9153792574175322,
          -1.5625254164314404,
          0.7275749276372556,
          -0.8410916716639276,
          1.9702443659279567,
          1.0105656117288755,
          -0.33011431585845263,
          0.05896025014420832,
          -0.6182716108350788,
          -1.9307322255876471,
          -0.423044638561435,
          0.8242161598940201,
          0.7473086068676891,
          -0.06390385057859259,
          1.411752606998454,
          0.9490293076629773,
          0.009991847913236184,
          0.673086587444426,
          -0.12972617508859452,
          -1.4564557150623647,
          0.36259057467603667,
          -1.0036754215214432,
          -0.9933192141036302,
          -0.8830959235342006,
          0.0068193462280179895,
          0.7529614687362064,
          0.4431679290600762,
          0.7558262294932983,
          -1.87289174236139,
          2.6694207476365075,
          -0.03194188108580788,
          -1.1825587513883815,
          -0.6013875741485867,
          0.7019085379263506,
          -0.16891436238867008,
          -1.3841323134554913,
          1.5394640870582705,
          0.8545201128569784,
          0.8007369757347785
         ],
         "yaxis": "y7"
        },
        {
         "line": {
          "color": "rgba(128, 128, 128, 1.0)",
          "dash": "solid",
          "shape": "linear",
          "width": 1.3
         },
         "marker": {
          "size": 2,
          "symbol": "circle"
         },
         "mode": "markers",
         "name": "B",
         "text": "",
         "type": "scatter",
         "x": [
          1.3176171729312272,
          -0.9834880323385257,
          0.6411961838907011,
          0.669110779707614,
          0.6909807029692084,
          -0.4721750437619172,
          0.9276671831585144,
          0.004224855025634071,
          1.5855609956540089,
          -2.362573108645685,
          1.449613773680825,
          0.08392393763461577,
          1.4106686705608238,
          -0.14437037332746172,
          -1.3328496798693938,
          -0.37652589035939366,
          -0.4946055490266074,
          0.31911727130119266,
          -0.47358087026724893,
          0.16505353040464632,
          1.5140781357842468,
          0.8549407420138733,
          0.9997998467684753,
          -0.4938509276561391,
          0.10886655189684685,
          -0.45338661443259165,
          0.801666642873236,
          -0.10292637171679458,
          0.1762930848097405,
          -0.7435744978120609,
          -0.7828881051060924,
          -0.5449076415695722,
          -0.8829502763539031,
          -0.15656960504724496,
          -0.23525720483416326,
          -0.25459885591993897,
          -0.8960229288435273,
          -0.9809902582888329,
          -0.7603113561563828,
          -1.2892096628807506,
          0.6302925112779482,
          -0.3215614608890834,
          -0.45027111963134125,
          -0.32699236661256303,
          -0.9574633336697017,
          0.2646646949622887,
          -0.2821900739904608,
          -0.8968778040618786,
          -1.4277929316873632,
          -1.7956111453370855,
          -1.2976088427692183,
          -0.5530879697592308,
          0.3037174086766186,
          0.5556223777751071,
          1.7350025669748539,
          0.20697663508511632,
          -1.3913773527801154,
          1.5440766422195047,
          -0.6241203351108987,
          -1.923666382511092,
          0.4556263675530248,
          -0.349330977819222,
          -1.4393546206558492,
          -1.1811152857102594,
          -0.16930038167070804,
          -0.1292701898700492,
          1.037802622208697,
          0.8296283353615309,
          -0.9845185162741449,
          0.5701566902074574,
          1.6367428805438935,
          1.945251815442205,
          1.2840117045761732,
          -0.16430735928035567,
          1.1995560974603026,
          -1.0964725875195462,
          0.041578630666224685,
          0.3944469773059546,
          0.10880517897135732,
          0.35052365302338484,
          1.0006118784343434,
          0.7794816871241417,
          -0.42771077868518786,
          -0.4656016344090984,
          -0.0938138734703827,
          -1.1208302944841384,
          0.10526049306349472,
          0.24486250243615648,
          -0.8260289717409693,
          -0.3229038089718978,
          -0.8161886246811139,
          0.7359278700604573,
          -2.053293054572988,
          -0.7748654206211201,
          0.7264382231948154,
          0.3300205040387262,
          -0.24818884797599722,
          -0.9396493198859207,
          1.0587748727876582,
          0.005321853681144137
         ],
         "xaxis": "x8",
         "y": [
          -0.2217291443388921,
          -1.2371542355520193,
          0.8123200317942653,
          1.2443210913177807,
          0.15665068302727347,
          -0.49601188309501854,
          -1.5674118452306314,
          0.8681936946504126,
          -2.1588947361277944,
          0.004523669014418451,
          0.2224144998784712,
          -1.2047967088202578,
          -0.48311376209050955,
          0.5263364911407737,
          -0.6581025306060428,
          0.5859815825235286,
          1.2843285937087179,
          2.644736009199112,
          0.6686205905210374,
          0.41822294352248607,
          -1.0881429265518046,
          -0.2848994852918314,
          -1.0361040136959085,
          -0.43236691856491044,
          -1.2151060705229921,
          -1.0535802751145777,
          -1.7101393540602814,
          0.13700496725160327,
          -0.03639404936203314,
          -1.167416774354088,
          1.242824173634307,
          0.7555947464871007,
          -0.2358954009781537,
          1.7245172324003295,
          0.011408650486823966,
          1.468500443226724,
          -1.087452184127168,
          0.31587470047464566,
          -0.64965102521893,
          -0.18741629301066062,
          0.8643789608770887,
          0.1374916054046593,
          0.984915590803966,
          -0.5749850827580681,
          -0.31367705412547175,
          0.43808758668803777,
          0.5237444006175169,
          -1.933200354258214,
          0.24285826858388612,
          1.0770527002311396,
          0.8642237475271446,
          -2.8026546155389527,
          -1.269688258045194,
          0.13818859955011006,
          -0.7032899314435153,
          -1.6489195836048638,
          -0.10259177038998696,
          1.4542546939122745,
          -0.5144024244857891,
          -0.16761985394816561,
          0.18057974799115853,
          0.9153792574175322,
          -1.5625254164314404,
          0.7275749276372556,
          -0.8410916716639276,
          1.9702443659279567,
          1.0105656117288755,
          -0.33011431585845263,
          0.05896025014420832,
          -0.6182716108350788,
          -1.9307322255876471,
          -0.423044638561435,
          0.8242161598940201,
          0.7473086068676891,
          -0.06390385057859259,
          1.411752606998454,
          0.9490293076629773,
          0.009991847913236184,
          0.673086587444426,
          -0.12972617508859452,
          -1.4564557150623647,
          0.36259057467603667,
          -1.0036754215214432,
          -0.9933192141036302,
          -0.8830959235342006,
          0.0068193462280179895,
          0.7529614687362064,
          0.4431679290600762,
          0.7558262294932983,
          -1.87289174236139,
          2.6694207476365075,
          -0.03194188108580788,
          -1.1825587513883815,
          -0.6013875741485867,
          0.7019085379263506,
          -0.16891436238867008,
          -1.3841323134554913,
          1.5394640870582705,
          0.8545201128569784,
          0.8007369757347785
         ],
         "yaxis": "y8"
        },
        {
         "line": {
          "color": "rgba(128, 128, 128, 1.0)",
          "dash": "solid",
          "shape": "linear",
          "width": 1.3
         },
         "marker": {
          "size": 2,
          "symbol": "circle"
         },
         "mode": "markers",
         "name": "C",
         "text": "",
         "type": "scatter",
         "x": [
          0.6754782943325655,
          0.5676345968842824,
          0.1328881905375589,
          1.5598060655336465,
          0.20155851821828127,
          -0.1704342005504423,
          1.6382714620922407,
          0.5960123218986514,
          -1.3967502608685103,
          -0.4175266016308763,
          -1.4622195465874601,
          -0.4418238211952053,
          -0.9396201592840361,
          -0.13826138272671448,
          -0.8850161103888932,
          1.8504189241059084,
          -0.5670395261360621,
          -0.4512300334792727,
          -1.3659730557435033,
          -2.2195698637480628,
          0.3537368438916856,
          0.8011510663127747,
          0.9158535282283714,
          -0.10090839994435542,
          0.5197315429475056,
          0.542335737958651,
          -0.5888216723532752,
          -0.6521836708748141,
          -0.3603370324925614,
          -0.9552920009367587,
          -2.2849797147682933,
          0.4519183096797922,
          1.8842896639403863,
          1.1340897786363573,
          0.18372623294508642,
          -1.0237109171539454,
          -1.654003775689415,
          0.32167723924081354,
          1.2199528459728162,
          2.929925287765693,
          -0.8172173302082492,
          -1.6505368253468742,
          0.23446380237601086,
          0.36633509776946094,
          -1.410517557328883,
          -1.0885958183031015,
          1.41325542793449,
          -1.7040848451332873,
          0.03122408759234455,
          -0.32773165815662103,
          0.6662743949672889,
          -1.3245476957372868,
          -0.17648115279437038,
          0.5131658131312273,
          0.6254611583947094,
          -0.9504172530455163,
          -0.38056513766120054,
          -1.610980503470945,
          0.3138510000800175,
          1.2297882444657389,
          2.0612538048066784,
          1.7240572041477948,
          -0.7228253590566479,
          0.94310349502881,
          -2.011162597259447,
          -0.958977057005299,
          1.2929502033458233,
          1.1732776407222958,
          1.0006976463240154,
          0.07796519762881553,
          -0.4987650476806753,
          0.9764184595883123,
          -0.014106945313026645,
          1.5428496733376793,
          -1.091952698664168,
          0.4782947233641637,
          0.2752500905442413,
          -1.970375548198486,
          2.0526149916013905,
          -0.5355825007775484,
          0.7545279930637657,
          0.2863047840180115,
          -1.4025937393898347,
          0.9342278828335764,
          0.5624839596099094,
          1.1447907551414858,
          0.08961360380327707,
          -0.4817073117416022,
          -0.6319061449787831,
          2.343257288835841,
          -0.5589302132661069,
          0.7941564694900235,
          -0.6152341400737853,
          0.8544116644485762,
          0.41297969806072243,
          1.613308547129756,
          -0.19679692672583227,
          -0.2252424721695863,
          -1.101041110660023,
          -1.9043054451684438
         ],
         "xaxis": "x9",
         "y": [
          0.0784437314920932,
          -0.6274683178765565,
          0.5298269773625096,
          -0.026204610060682528,
          1.37969563905112,
          -0.8000786645365066,
          -0.2711977325666523,
          1.4726782220970804,
          -0.1547773948945247,
          0.36473944640186384,
          -0.08429883514455458,
          -1.5515062481753192,
          0.03205552259490915,
          1.2123548956418295,
          0.43058253591239376,
          -0.031117297861683987,
          1.2414500049237107,
          -0.8518608567833222,
          1.3288784861201977,
          1.439038188138787,
          2.0834823106921867,
          -0.13951482153101846,
          -0.16750640075993256,
          -2.596922050001098,
          -1.0344366694712204,
          0.3874677675410941,
          0.5300976846874239,
          0.2650623034781403,
          1.123632155716323,
          -1.5572785478146938,
          0.9594542248327607,
          -1.2557351597027717,
          -1.8360982088841002,
          -0.24171184000833357,
          1.4535229764820388,
          0.8434778332317928,
          -0.1390979275451528,
          1.4824149640051818,
          0.45160359629458197,
          1.2539319476365436,
          0.5844252340197015,
          0.10182632011854167,
          1.3062137404946352,
          -1.6230105028452513,
          0.3566611284157468,
          1.7308316510693198,
          -0.06209698721137085,
          0.3939301904060206,
          0.20960382548586007,
          -1.3716340073257205,
          0.2504460076052671,
          -0.40946158043083053,
          -0.21669459044608314,
          -1.3113978351731204,
          0.7301680983005864,
          1.6659322095726434,
          0.08792943985079187,
          -0.7318878119568767,
          -0.1752586144857245,
          0.5437074109358785,
          1.3754837271082254,
          -0.7535874213950295,
          -0.5878948226418345,
          -0.3610536843703974,
          1.5204262409258733,
          -0.43322783712311214,
          0.8035654301932148,
          -1.363808961916895,
          -0.3544827133614749,
          1.815037702042949,
          -0.010765358664600296,
          0.2633014458669041,
          1.9722229163077225,
          -0.04229984248442153,
          -0.723068086967317,
          -2.0357774272091373,
          -0.6350456554823967,
          0.45584953161270303,
          0.9067616582640229,
          1.5480251312081699,
          -0.9928566495105056,
          -1.28321428258695,
          0.14135966092114852,
          0.3578602496552667,
          -1.488692412653754,
          0.028263269062368666,
          0.33757401829189343,
          -0.7603609722621759,
          -0.3598963718688637,
          -2.1381875920361053,
          -0.7976158836639305,
          -0.7812095188111328,
          -0.3107933341853249,
          -0.4971599535565136,
          0.6180616657471829,
          -1.7780361709837333,
          2.408104100772878,
          0.6351956483184322,
          -0.12947334443327432,
          -1.081991236502051
         ],
         "yaxis": "y9"
        },
        {
         "line": {
          "color": "rgba(128, 128, 128, 1.0)",
          "dash": "solid",
          "shape": "linear",
          "width": 1.3
         },
         "marker": {
          "size": 2,
          "symbol": "circle"
         },
         "mode": "markers",
         "name": "C",
         "text": "",
         "type": "scatter",
         "x": [
          -0.2217291443388921,
          -1.2371542355520193,
          0.8123200317942653,
          1.2443210913177807,
          0.15665068302727347,
          -0.49601188309501854,
          -1.5674118452306314,
          0.8681936946504126,
          -2.1588947361277944,
          0.004523669014418451,
          0.2224144998784712,
          -1.2047967088202578,
          -0.48311376209050955,
          0.5263364911407737,
          -0.6581025306060428,
          0.5859815825235286,
          1.2843285937087179,
          2.644736009199112,
          0.6686205905210374,
          0.41822294352248607,
          -1.0881429265518046,
          -0.2848994852918314,
          -1.0361040136959085,
          -0.43236691856491044,
          -1.2151060705229921,
          -1.0535802751145777,
          -1.7101393540602814,
          0.13700496725160327,
          -0.03639404936203314,
          -1.167416774354088,
          1.242824173634307,
          0.7555947464871007,
          -0.2358954009781537,
          1.7245172324003295,
          0.011408650486823966,
          1.468500443226724,
          -1.087452184127168,
          0.31587470047464566,
          -0.64965102521893,
          -0.18741629301066062,
          0.8643789608770887,
          0.1374916054046593,
          0.984915590803966,
          -0.5749850827580681,
          -0.31367705412547175,
          0.43808758668803777,
          0.5237444006175169,
          -1.933200354258214,
          0.24285826858388612,
          1.0770527002311396,
          0.8642237475271446,
          -2.8026546155389527,
          -1.269688258045194,
          0.13818859955011006,
          -0.7032899314435153,
          -1.6489195836048638,
          -0.10259177038998696,
          1.4542546939122745,
          -0.5144024244857891,
          -0.16761985394816561,
          0.18057974799115853,
          0.9153792574175322,
          -1.5625254164314404,
          0.7275749276372556,
          -0.8410916716639276,
          1.9702443659279567,
          1.0105656117288755,
          -0.33011431585845263,
          0.05896025014420832,
          -0.6182716108350788,
          -1.9307322255876471,
          -0.423044638561435,
          0.8242161598940201,
          0.7473086068676891,
          -0.06390385057859259,
          1.411752606998454,
          0.9490293076629773,
          0.009991847913236184,
          0.673086587444426,
          -0.12972617508859452,
          -1.4564557150623647,
          0.36259057467603667,
          -1.0036754215214432,
          -0.9933192141036302,
          -0.8830959235342006,
          0.0068193462280179895,
          0.7529614687362064,
          0.4431679290600762,
          0.7558262294932983,
          -1.87289174236139,
          2.6694207476365075,
          -0.03194188108580788,
          -1.1825587513883815,
          -0.6013875741485867,
          0.7019085379263506,
          -0.16891436238867008,
          -1.3841323134554913,
          1.5394640870582705,
          0.8545201128569784,
          0.8007369757347785
         ],
         "xaxis": "x10",
         "y": [
          0.0784437314920932,
          -0.6274683178765565,
          0.5298269773625096,
          -0.026204610060682528,
          1.37969563905112,
          -0.8000786645365066,
          -0.2711977325666523,
          1.4726782220970804,
          -0.1547773948945247,
          0.36473944640186384,
          -0.08429883514455458,
          -1.5515062481753192,
          0.03205552259490915,
          1.2123548956418295,
          0.43058253591239376,
          -0.031117297861683987,
          1.2414500049237107,
          -0.8518608567833222,
          1.3288784861201977,
          1.439038188138787,
          2.0834823106921867,
          -0.13951482153101846,
          -0.16750640075993256,
          -2.596922050001098,
          -1.0344366694712204,
          0.3874677675410941,
          0.5300976846874239,
          0.2650623034781403,
          1.123632155716323,
          -1.5572785478146938,
          0.9594542248327607,
          -1.2557351597027717,
          -1.8360982088841002,
          -0.24171184000833357,
          1.4535229764820388,
          0.8434778332317928,
          -0.1390979275451528,
          1.4824149640051818,
          0.45160359629458197,
          1.2539319476365436,
          0.5844252340197015,
          0.10182632011854167,
          1.3062137404946352,
          -1.6230105028452513,
          0.3566611284157468,
          1.7308316510693198,
          -0.06209698721137085,
          0.3939301904060206,
          0.20960382548586007,
          -1.3716340073257205,
          0.2504460076052671,
          -0.40946158043083053,
          -0.21669459044608314,
          -1.3113978351731204,
          0.7301680983005864,
          1.6659322095726434,
          0.08792943985079187,
          -0.7318878119568767,
          -0.1752586144857245,
          0.5437074109358785,
          1.3754837271082254,
          -0.7535874213950295,
          -0.5878948226418345,
          -0.3610536843703974,
          1.5204262409258733,
          -0.43322783712311214,
          0.8035654301932148,
          -1.363808961916895,
          -0.3544827133614749,
          1.815037702042949,
          -0.010765358664600296,
          0.2633014458669041,
          1.9722229163077225,
          -0.04229984248442153,
          -0.723068086967317,
          -2.0357774272091373,
          -0.6350456554823967,
          0.45584953161270303,
          0.9067616582640229,
          1.5480251312081699,
          -0.9928566495105056,
          -1.28321428258695,
          0.14135966092114852,
          0.3578602496552667,
          -1.488692412653754,
          0.028263269062368666,
          0.33757401829189343,
          -0.7603609722621759,
          -0.3598963718688637,
          -2.1381875920361053,
          -0.7976158836639305,
          -0.7812095188111328,
          -0.3107933341853249,
          -0.4971599535565136,
          0.6180616657471829,
          -1.7780361709837333,
          2.408104100772878,
          0.6351956483184322,
          -0.12947334443327432,
          -1.081991236502051
         ],
         "yaxis": "y10"
        },
        {
         "histfunc": "count",
         "histnorm": "",
         "marker": {
          "color": "rgba(50, 171, 96, 1.0)",
          "line": {
           "color": "#4D5663",
           "width": 1.3
          }
         },
         "name": "C",
         "nbinsx": 10,
         "opacity": 0.8,
         "orientation": "v",
         "type": "histogram",
         "x": [
          0.0784437314920932,
          -0.6274683178765565,
          0.5298269773625096,
          -0.026204610060682528,
          1.37969563905112,
          -0.8000786645365066,
          -0.2711977325666523,
          1.4726782220970804,
          -0.1547773948945247,
          0.36473944640186384,
          -0.08429883514455458,
          -1.5515062481753192,
          0.03205552259490915,
          1.2123548956418295,
          0.43058253591239376,
          -0.031117297861683987,
          1.2414500049237107,
          -0.8518608567833222,
          1.3288784861201977,
          1.439038188138787,
          2.0834823106921867,
          -0.13951482153101846,
          -0.16750640075993256,
          -2.596922050001098,
          -1.0344366694712204,
          0.3874677675410941,
          0.5300976846874239,
          0.2650623034781403,
          1.123632155716323,
          -1.5572785478146938,
          0.9594542248327607,
          -1.2557351597027717,
          -1.8360982088841002,
          -0.24171184000833357,
          1.4535229764820388,
          0.8434778332317928,
          -0.1390979275451528,
          1.4824149640051818,
          0.45160359629458197,
          1.2539319476365436,
          0.5844252340197015,
          0.10182632011854167,
          1.3062137404946352,
          -1.6230105028452513,
          0.3566611284157468,
          1.7308316510693198,
          -0.06209698721137085,
          0.3939301904060206,
          0.20960382548586007,
          -1.3716340073257205,
          0.2504460076052671,
          -0.40946158043083053,
          -0.21669459044608314,
          -1.3113978351731204,
          0.7301680983005864,
          1.6659322095726434,
          0.08792943985079187,
          -0.7318878119568767,
          -0.1752586144857245,
          0.5437074109358785,
          1.3754837271082254,
          -0.7535874213950295,
          -0.5878948226418345,
          -0.3610536843703974,
          1.5204262409258733,
          -0.43322783712311214,
          0.8035654301932148,
          -1.363808961916895,
          -0.3544827133614749,
          1.815037702042949,
          -0.010765358664600296,
          0.2633014458669041,
          1.9722229163077225,
          -0.04229984248442153,
          -0.723068086967317,
          -2.0357774272091373,
          -0.6350456554823967,
          0.45584953161270303,
          0.9067616582640229,
          1.5480251312081699,
          -0.9928566495105056,
          -1.28321428258695,
          0.14135966092114852,
          0.3578602496552667,
          -1.488692412653754,
          0.028263269062368666,
          0.33757401829189343,
          -0.7603609722621759,
          -0.3598963718688637,
          -2.1381875920361053,
          -0.7976158836639305,
          -0.7812095188111328,
          -0.3107933341853249,
          -0.4971599535565136,
          0.6180616657471829,
          -1.7780361709837333,
          2.408104100772878,
          0.6351956483184322,
          -0.12947334443327432,
          -1.081991236502051
         ],
         "xaxis": "x11",
         "yaxis": "y11"
        },
        {
         "line": {
          "color": "rgba(128, 128, 128, 1.0)",
          "dash": "solid",
          "shape": "linear",
          "width": 1.3
         },
         "marker": {
          "size": 2,
          "symbol": "circle"
         },
         "mode": "markers",
         "name": "C",
         "text": "",
         "type": "scatter",
         "x": [
          1.3176171729312272,
          -0.9834880323385257,
          0.6411961838907011,
          0.669110779707614,
          0.6909807029692084,
          -0.4721750437619172,
          0.9276671831585144,
          0.004224855025634071,
          1.5855609956540089,
          -2.362573108645685,
          1.449613773680825,
          0.08392393763461577,
          1.4106686705608238,
          -0.14437037332746172,
          -1.3328496798693938,
          -0.37652589035939366,
          -0.4946055490266074,
          0.31911727130119266,
          -0.47358087026724893,
          0.16505353040464632,
          1.5140781357842468,
          0.8549407420138733,
          0.9997998467684753,
          -0.4938509276561391,
          0.10886655189684685,
          -0.45338661443259165,
          0.801666642873236,
          -0.10292637171679458,
          0.1762930848097405,
          -0.7435744978120609,
          -0.7828881051060924,
          -0.5449076415695722,
          -0.8829502763539031,
          -0.15656960504724496,
          -0.23525720483416326,
          -0.25459885591993897,
          -0.8960229288435273,
          -0.9809902582888329,
          -0.7603113561563828,
          -1.2892096628807506,
          0.6302925112779482,
          -0.3215614608890834,
          -0.45027111963134125,
          -0.32699236661256303,
          -0.9574633336697017,
          0.2646646949622887,
          -0.2821900739904608,
          -0.8968778040618786,
          -1.4277929316873632,
          -1.7956111453370855,
          -1.2976088427692183,
          -0.5530879697592308,
          0.3037174086766186,
          0.5556223777751071,
          1.7350025669748539,
          0.20697663508511632,
          -1.3913773527801154,
          1.5440766422195047,
          -0.6241203351108987,
          -1.923666382511092,
          0.4556263675530248,
          -0.349330977819222,
          -1.4393546206558492,
          -1.1811152857102594,
          -0.16930038167070804,
          -0.1292701898700492,
          1.037802622208697,
          0.8296283353615309,
          -0.9845185162741449,
          0.5701566902074574,
          1.6367428805438935,
          1.945251815442205,
          1.2840117045761732,
          -0.16430735928035567,
          1.1995560974603026,
          -1.0964725875195462,
          0.041578630666224685,
          0.3944469773059546,
          0.10880517897135732,
          0.35052365302338484,
          1.0006118784343434,
          0.7794816871241417,
          -0.42771077868518786,
          -0.4656016344090984,
          -0.0938138734703827,
          -1.1208302944841384,
          0.10526049306349472,
          0.24486250243615648,
          -0.8260289717409693,
          -0.3229038089718978,
          -0.8161886246811139,
          0.7359278700604573,
          -2.053293054572988,
          -0.7748654206211201,
          0.7264382231948154,
          0.3300205040387262,
          -0.24818884797599722,
          -0.9396493198859207,
          1.0587748727876582,
          0.005321853681144137
         ],
         "xaxis": "x12",
         "y": [
          0.0784437314920932,
          -0.6274683178765565,
          0.5298269773625096,
          -0.026204610060682528,
          1.37969563905112,
          -0.8000786645365066,
          -0.2711977325666523,
          1.4726782220970804,
          -0.1547773948945247,
          0.36473944640186384,
          -0.08429883514455458,
          -1.5515062481753192,
          0.03205552259490915,
          1.2123548956418295,
          0.43058253591239376,
          -0.031117297861683987,
          1.2414500049237107,
          -0.8518608567833222,
          1.3288784861201977,
          1.439038188138787,
          2.0834823106921867,
          -0.13951482153101846,
          -0.16750640075993256,
          -2.596922050001098,
          -1.0344366694712204,
          0.3874677675410941,
          0.5300976846874239,
          0.2650623034781403,
          1.123632155716323,
          -1.5572785478146938,
          0.9594542248327607,
          -1.2557351597027717,
          -1.8360982088841002,
          -0.24171184000833357,
          1.4535229764820388,
          0.8434778332317928,
          -0.1390979275451528,
          1.4824149640051818,
          0.45160359629458197,
          1.2539319476365436,
          0.5844252340197015,
          0.10182632011854167,
          1.3062137404946352,
          -1.6230105028452513,
          0.3566611284157468,
          1.7308316510693198,
          -0.06209698721137085,
          0.3939301904060206,
          0.20960382548586007,
          -1.3716340073257205,
          0.2504460076052671,
          -0.40946158043083053,
          -0.21669459044608314,
          -1.3113978351731204,
          0.7301680983005864,
          1.6659322095726434,
          0.08792943985079187,
          -0.7318878119568767,
          -0.1752586144857245,
          0.5437074109358785,
          1.3754837271082254,
          -0.7535874213950295,
          -0.5878948226418345,
          -0.3610536843703974,
          1.5204262409258733,
          -0.43322783712311214,
          0.8035654301932148,
          -1.363808961916895,
          -0.3544827133614749,
          1.815037702042949,
          -0.010765358664600296,
          0.2633014458669041,
          1.9722229163077225,
          -0.04229984248442153,
          -0.723068086967317,
          -2.0357774272091373,
          -0.6350456554823967,
          0.45584953161270303,
          0.9067616582640229,
          1.5480251312081699,
          -0.9928566495105056,
          -1.28321428258695,
          0.14135966092114852,
          0.3578602496552667,
          -1.488692412653754,
          0.028263269062368666,
          0.33757401829189343,
          -0.7603609722621759,
          -0.3598963718688637,
          -2.1381875920361053,
          -0.7976158836639305,
          -0.7812095188111328,
          -0.3107933341853249,
          -0.4971599535565136,
          0.6180616657471829,
          -1.7780361709837333,
          2.408104100772878,
          0.6351956483184322,
          -0.12947334443327432,
          -1.081991236502051
         ],
         "yaxis": "y12"
        },
        {
         "line": {
          "color": "rgba(128, 128, 128, 1.0)",
          "dash": "solid",
          "shape": "linear",
          "width": 1.3
         },
         "marker": {
          "size": 2,
          "symbol": "circle"
         },
         "mode": "markers",
         "name": "D",
         "text": "",
         "type": "scatter",
         "x": [
          0.6754782943325655,
          0.5676345968842824,
          0.1328881905375589,
          1.5598060655336465,
          0.20155851821828127,
          -0.1704342005504423,
          1.6382714620922407,
          0.5960123218986514,
          -1.3967502608685103,
          -0.4175266016308763,
          -1.4622195465874601,
          -0.4418238211952053,
          -0.9396201592840361,
          -0.13826138272671448,
          -0.8850161103888932,
          1.8504189241059084,
          -0.5670395261360621,
          -0.4512300334792727,
          -1.3659730557435033,
          -2.2195698637480628,
          0.3537368438916856,
          0.8011510663127747,
          0.9158535282283714,
          -0.10090839994435542,
          0.5197315429475056,
          0.542335737958651,
          -0.5888216723532752,
          -0.6521836708748141,
          -0.3603370324925614,
          -0.9552920009367587,
          -2.2849797147682933,
          0.4519183096797922,
          1.8842896639403863,
          1.1340897786363573,
          0.18372623294508642,
          -1.0237109171539454,
          -1.654003775689415,
          0.32167723924081354,
          1.2199528459728162,
          2.929925287765693,
          -0.8172173302082492,
          -1.6505368253468742,
          0.23446380237601086,
          0.36633509776946094,
          -1.410517557328883,
          -1.0885958183031015,
          1.41325542793449,
          -1.7040848451332873,
          0.03122408759234455,
          -0.32773165815662103,
          0.6662743949672889,
          -1.3245476957372868,
          -0.17648115279437038,
          0.5131658131312273,
          0.6254611583947094,
          -0.9504172530455163,
          -0.38056513766120054,
          -1.610980503470945,
          0.3138510000800175,
          1.2297882444657389,
          2.0612538048066784,
          1.7240572041477948,
          -0.7228253590566479,
          0.94310349502881,
          -2.011162597259447,
          -0.958977057005299,
          1.2929502033458233,
          1.1732776407222958,
          1.0006976463240154,
          0.07796519762881553,
          -0.4987650476806753,
          0.9764184595883123,
          -0.014106945313026645,
          1.5428496733376793,
          -1.091952698664168,
          0.4782947233641637,
          0.2752500905442413,
          -1.970375548198486,
          2.0526149916013905,
          -0.5355825007775484,
          0.7545279930637657,
          0.2863047840180115,
          -1.4025937393898347,
          0.9342278828335764,
          0.5624839596099094,
          1.1447907551414858,
          0.08961360380327707,
          -0.4817073117416022,
          -0.6319061449787831,
          2.343257288835841,
          -0.5589302132661069,
          0.7941564694900235,
          -0.6152341400737853,
          0.8544116644485762,
          0.41297969806072243,
          1.613308547129756,
          -0.19679692672583227,
          -0.2252424721695863,
          -1.101041110660023,
          -1.9043054451684438
         ],
         "xaxis": "x13",
         "y": [
          1.3176171729312272,
          -0.9834880323385257,
          0.6411961838907011,
          0.669110779707614,
          0.6909807029692084,
          -0.4721750437619172,
          0.9276671831585144,
          0.004224855025634071,
          1.5855609956540089,
          -2.362573108645685,
          1.449613773680825,
          0.08392393763461577,
          1.4106686705608238,
          -0.14437037332746172,
          -1.3328496798693938,
          -0.37652589035939366,
          -0.4946055490266074,
          0.31911727130119266,
          -0.47358087026724893,
          0.16505353040464632,
          1.5140781357842468,
          0.8549407420138733,
          0.9997998467684753,
          -0.4938509276561391,
          0.10886655189684685,
          -0.45338661443259165,
          0.801666642873236,
          -0.10292637171679458,
          0.1762930848097405,
          -0.7435744978120609,
          -0.7828881051060924,
          -0.5449076415695722,
          -0.8829502763539031,
          -0.15656960504724496,
          -0.23525720483416326,
          -0.25459885591993897,
          -0.8960229288435273,
          -0.9809902582888329,
          -0.7603113561563828,
          -1.2892096628807506,
          0.6302925112779482,
          -0.3215614608890834,
          -0.45027111963134125,
          -0.32699236661256303,
          -0.9574633336697017,
          0.2646646949622887,
          -0.2821900739904608,
          -0.8968778040618786,
          -1.4277929316873632,
          -1.7956111453370855,
          -1.2976088427692183,
          -0.5530879697592308,
          0.3037174086766186,
          0.5556223777751071,
          1.7350025669748539,
          0.20697663508511632,
          -1.3913773527801154,
          1.5440766422195047,
          -0.6241203351108987,
          -1.923666382511092,
          0.4556263675530248,
          -0.349330977819222,
          -1.4393546206558492,
          -1.1811152857102594,
          -0.16930038167070804,
          -0.1292701898700492,
          1.037802622208697,
          0.8296283353615309,
          -0.9845185162741449,
          0.5701566902074574,
          1.6367428805438935,
          1.945251815442205,
          1.2840117045761732,
          -0.16430735928035567,
          1.1995560974603026,
          -1.0964725875195462,
          0.041578630666224685,
          0.3944469773059546,
          0.10880517897135732,
          0.35052365302338484,
          1.0006118784343434,
          0.7794816871241417,
          -0.42771077868518786,
          -0.4656016344090984,
          -0.0938138734703827,
          -1.1208302944841384,
          0.10526049306349472,
          0.24486250243615648,
          -0.8260289717409693,
          -0.3229038089718978,
          -0.8161886246811139,
          0.7359278700604573,
          -2.053293054572988,
          -0.7748654206211201,
          0.7264382231948154,
          0.3300205040387262,
          -0.24818884797599722,
          -0.9396493198859207,
          1.0587748727876582,
          0.005321853681144137
         ],
         "yaxis": "y13"
        },
        {
         "line": {
          "color": "rgba(128, 128, 128, 1.0)",
          "dash": "solid",
          "shape": "linear",
          "width": 1.3
         },
         "marker": {
          "size": 2,
          "symbol": "circle"
         },
         "mode": "markers",
         "name": "D",
         "text": "",
         "type": "scatter",
         "x": [
          -0.2217291443388921,
          -1.2371542355520193,
          0.8123200317942653,
          1.2443210913177807,
          0.15665068302727347,
          -0.49601188309501854,
          -1.5674118452306314,
          0.8681936946504126,
          -2.1588947361277944,
          0.004523669014418451,
          0.2224144998784712,
          -1.2047967088202578,
          -0.48311376209050955,
          0.5263364911407737,
          -0.6581025306060428,
          0.5859815825235286,
          1.2843285937087179,
          2.644736009199112,
          0.6686205905210374,
          0.41822294352248607,
          -1.0881429265518046,
          -0.2848994852918314,
          -1.0361040136959085,
          -0.43236691856491044,
          -1.2151060705229921,
          -1.0535802751145777,
          -1.7101393540602814,
          0.13700496725160327,
          -0.03639404936203314,
          -1.167416774354088,
          1.242824173634307,
          0.7555947464871007,
          -0.2358954009781537,
          1.7245172324003295,
          0.011408650486823966,
          1.468500443226724,
          -1.087452184127168,
          0.31587470047464566,
          -0.64965102521893,
          -0.18741629301066062,
          0.8643789608770887,
          0.1374916054046593,
          0.984915590803966,
          -0.5749850827580681,
          -0.31367705412547175,
          0.43808758668803777,
          0.5237444006175169,
          -1.933200354258214,
          0.24285826858388612,
          1.0770527002311396,
          0.8642237475271446,
          -2.8026546155389527,
          -1.269688258045194,
          0.13818859955011006,
          -0.7032899314435153,
          -1.6489195836048638,
          -0.10259177038998696,
          1.4542546939122745,
          -0.5144024244857891,
          -0.16761985394816561,
          0.18057974799115853,
          0.9153792574175322,
          -1.5625254164314404,
          0.7275749276372556,
          -0.8410916716639276,
          1.9702443659279567,
          1.0105656117288755,
          -0.33011431585845263,
          0.05896025014420832,
          -0.6182716108350788,
          -1.9307322255876471,
          -0.423044638561435,
          0.8242161598940201,
          0.7473086068676891,
          -0.06390385057859259,
          1.411752606998454,
          0.9490293076629773,
          0.009991847913236184,
          0.673086587444426,
          -0.12972617508859452,
          -1.4564557150623647,
          0.36259057467603667,
          -1.0036754215214432,
          -0.9933192141036302,
          -0.8830959235342006,
          0.0068193462280179895,
          0.7529614687362064,
          0.4431679290600762,
          0.7558262294932983,
          -1.87289174236139,
          2.6694207476365075,
          -0.03194188108580788,
          -1.1825587513883815,
          -0.6013875741485867,
          0.7019085379263506,
          -0.16891436238867008,
          -1.3841323134554913,
          1.5394640870582705,
          0.8545201128569784,
          0.8007369757347785
         ],
         "xaxis": "x14",
         "y": [
          1.3176171729312272,
          -0.9834880323385257,
          0.6411961838907011,
          0.669110779707614,
          0.6909807029692084,
          -0.4721750437619172,
          0.9276671831585144,
          0.004224855025634071,
          1.5855609956540089,
          -2.362573108645685,
          1.449613773680825,
          0.08392393763461577,
          1.4106686705608238,
          -0.14437037332746172,
          -1.3328496798693938,
          -0.37652589035939366,
          -0.4946055490266074,
          0.31911727130119266,
          -0.47358087026724893,
          0.16505353040464632,
          1.5140781357842468,
          0.8549407420138733,
          0.9997998467684753,
          -0.4938509276561391,
          0.10886655189684685,
          -0.45338661443259165,
          0.801666642873236,
          -0.10292637171679458,
          0.1762930848097405,
          -0.7435744978120609,
          -0.7828881051060924,
          -0.5449076415695722,
          -0.8829502763539031,
          -0.15656960504724496,
          -0.23525720483416326,
          -0.25459885591993897,
          -0.8960229288435273,
          -0.9809902582888329,
          -0.7603113561563828,
          -1.2892096628807506,
          0.6302925112779482,
          -0.3215614608890834,
          -0.45027111963134125,
          -0.32699236661256303,
          -0.9574633336697017,
          0.2646646949622887,
          -0.2821900739904608,
          -0.8968778040618786,
          -1.4277929316873632,
          -1.7956111453370855,
          -1.2976088427692183,
          -0.5530879697592308,
          0.3037174086766186,
          0.5556223777751071,
          1.7350025669748539,
          0.20697663508511632,
          -1.3913773527801154,
          1.5440766422195047,
          -0.6241203351108987,
          -1.923666382511092,
          0.4556263675530248,
          -0.349330977819222,
          -1.4393546206558492,
          -1.1811152857102594,
          -0.16930038167070804,
          -0.1292701898700492,
          1.037802622208697,
          0.8296283353615309,
          -0.9845185162741449,
          0.5701566902074574,
          1.6367428805438935,
          1.945251815442205,
          1.2840117045761732,
          -0.16430735928035567,
          1.1995560974603026,
          -1.0964725875195462,
          0.041578630666224685,
          0.3944469773059546,
          0.10880517897135732,
          0.35052365302338484,
          1.0006118784343434,
          0.7794816871241417,
          -0.42771077868518786,
          -0.4656016344090984,
          -0.0938138734703827,
          -1.1208302944841384,
          0.10526049306349472,
          0.24486250243615648,
          -0.8260289717409693,
          -0.3229038089718978,
          -0.8161886246811139,
          0.7359278700604573,
          -2.053293054572988,
          -0.7748654206211201,
          0.7264382231948154,
          0.3300205040387262,
          -0.24818884797599722,
          -0.9396493198859207,
          1.0587748727876582,
          0.005321853681144137
         ],
         "yaxis": "y14"
        },
        {
         "line": {
          "color": "rgba(128, 128, 128, 1.0)",
          "dash": "solid",
          "shape": "linear",
          "width": 1.3
         },
         "marker": {
          "size": 2,
          "symbol": "circle"
         },
         "mode": "markers",
         "name": "D",
         "text": "",
         "type": "scatter",
         "x": [
          0.0784437314920932,
          -0.6274683178765565,
          0.5298269773625096,
          -0.026204610060682528,
          1.37969563905112,
          -0.8000786645365066,
          -0.2711977325666523,
          1.4726782220970804,
          -0.1547773948945247,
          0.36473944640186384,
          -0.08429883514455458,
          -1.5515062481753192,
          0.03205552259490915,
          1.2123548956418295,
          0.43058253591239376,
          -0.031117297861683987,
          1.2414500049237107,
          -0.8518608567833222,
          1.3288784861201977,
          1.439038188138787,
          2.0834823106921867,
          -0.13951482153101846,
          -0.16750640075993256,
          -2.596922050001098,
          -1.0344366694712204,
          0.3874677675410941,
          0.5300976846874239,
          0.2650623034781403,
          1.123632155716323,
          -1.5572785478146938,
          0.9594542248327607,
          -1.2557351597027717,
          -1.8360982088841002,
          -0.24171184000833357,
          1.4535229764820388,
          0.8434778332317928,
          -0.1390979275451528,
          1.4824149640051818,
          0.45160359629458197,
          1.2539319476365436,
          0.5844252340197015,
          0.10182632011854167,
          1.3062137404946352,
          -1.6230105028452513,
          0.3566611284157468,
          1.7308316510693198,
          -0.06209698721137085,
          0.3939301904060206,
          0.20960382548586007,
          -1.3716340073257205,
          0.2504460076052671,
          -0.40946158043083053,
          -0.21669459044608314,
          -1.3113978351731204,
          0.7301680983005864,
          1.6659322095726434,
          0.08792943985079187,
          -0.7318878119568767,
          -0.1752586144857245,
          0.5437074109358785,
          1.3754837271082254,
          -0.7535874213950295,
          -0.5878948226418345,
          -0.3610536843703974,
          1.5204262409258733,
          -0.43322783712311214,
          0.8035654301932148,
          -1.363808961916895,
          -0.3544827133614749,
          1.815037702042949,
          -0.010765358664600296,
          0.2633014458669041,
          1.9722229163077225,
          -0.04229984248442153,
          -0.723068086967317,
          -2.0357774272091373,
          -0.6350456554823967,
          0.45584953161270303,
          0.9067616582640229,
          1.5480251312081699,
          -0.9928566495105056,
          -1.28321428258695,
          0.14135966092114852,
          0.3578602496552667,
          -1.488692412653754,
          0.028263269062368666,
          0.33757401829189343,
          -0.7603609722621759,
          -0.3598963718688637,
          -2.1381875920361053,
          -0.7976158836639305,
          -0.7812095188111328,
          -0.3107933341853249,
          -0.4971599535565136,
          0.6180616657471829,
          -1.7780361709837333,
          2.408104100772878,
          0.6351956483184322,
          -0.12947334443327432,
          -1.081991236502051
         ],
         "xaxis": "x15",
         "y": [
          1.3176171729312272,
          -0.9834880323385257,
          0.6411961838907011,
          0.669110779707614,
          0.6909807029692084,
          -0.4721750437619172,
          0.9276671831585144,
          0.004224855025634071,
          1.5855609956540089,
          -2.362573108645685,
          1.449613773680825,
          0.08392393763461577,
          1.4106686705608238,
          -0.14437037332746172,
          -1.3328496798693938,
          -0.37652589035939366,
          -0.4946055490266074,
          0.31911727130119266,
          -0.47358087026724893,
          0.16505353040464632,
          1.5140781357842468,
          0.8549407420138733,
          0.9997998467684753,
          -0.4938509276561391,
          0.10886655189684685,
          -0.45338661443259165,
          0.801666642873236,
          -0.10292637171679458,
          0.1762930848097405,
          -0.7435744978120609,
          -0.7828881051060924,
          -0.5449076415695722,
          -0.8829502763539031,
          -0.15656960504724496,
          -0.23525720483416326,
          -0.25459885591993897,
          -0.8960229288435273,
          -0.9809902582888329,
          -0.7603113561563828,
          -1.2892096628807506,
          0.6302925112779482,
          -0.3215614608890834,
          -0.45027111963134125,
          -0.32699236661256303,
          -0.9574633336697017,
          0.2646646949622887,
          -0.2821900739904608,
          -0.8968778040618786,
          -1.4277929316873632,
          -1.7956111453370855,
          -1.2976088427692183,
          -0.5530879697592308,
          0.3037174086766186,
          0.5556223777751071,
          1.7350025669748539,
          0.20697663508511632,
          -1.3913773527801154,
          1.5440766422195047,
          -0.6241203351108987,
          -1.923666382511092,
          0.4556263675530248,
          -0.349330977819222,
          -1.4393546206558492,
          -1.1811152857102594,
          -0.16930038167070804,
          -0.1292701898700492,
          1.037802622208697,
          0.8296283353615309,
          -0.9845185162741449,
          0.5701566902074574,
          1.6367428805438935,
          1.945251815442205,
          1.2840117045761732,
          -0.16430735928035567,
          1.1995560974603026,
          -1.0964725875195462,
          0.041578630666224685,
          0.3944469773059546,
          0.10880517897135732,
          0.35052365302338484,
          1.0006118784343434,
          0.7794816871241417,
          -0.42771077868518786,
          -0.4656016344090984,
          -0.0938138734703827,
          -1.1208302944841384,
          0.10526049306349472,
          0.24486250243615648,
          -0.8260289717409693,
          -0.3229038089718978,
          -0.8161886246811139,
          0.7359278700604573,
          -2.053293054572988,
          -0.7748654206211201,
          0.7264382231948154,
          0.3300205040387262,
          -0.24818884797599722,
          -0.9396493198859207,
          1.0587748727876582,
          0.005321853681144137
         ],
         "yaxis": "y15"
        },
        {
         "histfunc": "count",
         "histnorm": "",
         "marker": {
          "color": "rgba(128, 0, 128, 1.0)",
          "line": {
           "color": "#4D5663",
           "width": 1.3
          }
         },
         "name": "D",
         "nbinsx": 10,
         "opacity": 0.8,
         "orientation": "v",
         "type": "histogram",
         "x": [
          1.3176171729312272,
          -0.9834880323385257,
          0.6411961838907011,
          0.669110779707614,
          0.6909807029692084,
          -0.4721750437619172,
          0.9276671831585144,
          0.004224855025634071,
          1.5855609956540089,
          -2.362573108645685,
          1.449613773680825,
          0.08392393763461577,
          1.4106686705608238,
          -0.14437037332746172,
          -1.3328496798693938,
          -0.37652589035939366,
          -0.4946055490266074,
          0.31911727130119266,
          -0.47358087026724893,
          0.16505353040464632,
          1.5140781357842468,
          0.8549407420138733,
          0.9997998467684753,
          -0.4938509276561391,
          0.10886655189684685,
          -0.45338661443259165,
          0.801666642873236,
          -0.10292637171679458,
          0.1762930848097405,
          -0.7435744978120609,
          -0.7828881051060924,
          -0.5449076415695722,
          -0.8829502763539031,
          -0.15656960504724496,
          -0.23525720483416326,
          -0.25459885591993897,
          -0.8960229288435273,
          -0.9809902582888329,
          -0.7603113561563828,
          -1.2892096628807506,
          0.6302925112779482,
          -0.3215614608890834,
          -0.45027111963134125,
          -0.32699236661256303,
          -0.9574633336697017,
          0.2646646949622887,
          -0.2821900739904608,
          -0.8968778040618786,
          -1.4277929316873632,
          -1.7956111453370855,
          -1.2976088427692183,
          -0.5530879697592308,
          0.3037174086766186,
          0.5556223777751071,
          1.7350025669748539,
          0.20697663508511632,
          -1.3913773527801154,
          1.5440766422195047,
          -0.6241203351108987,
          -1.923666382511092,
          0.4556263675530248,
          -0.349330977819222,
          -1.4393546206558492,
          -1.1811152857102594,
          -0.16930038167070804,
          -0.1292701898700492,
          1.037802622208697,
          0.8296283353615309,
          -0.9845185162741449,
          0.5701566902074574,
          1.6367428805438935,
          1.945251815442205,
          1.2840117045761732,
          -0.16430735928035567,
          1.1995560974603026,
          -1.0964725875195462,
          0.041578630666224685,
          0.3944469773059546,
          0.10880517897135732,
          0.35052365302338484,
          1.0006118784343434,
          0.7794816871241417,
          -0.42771077868518786,
          -0.4656016344090984,
          -0.0938138734703827,
          -1.1208302944841384,
          0.10526049306349472,
          0.24486250243615648,
          -0.8260289717409693,
          -0.3229038089718978,
          -0.8161886246811139,
          0.7359278700604573,
          -2.053293054572988,
          -0.7748654206211201,
          0.7264382231948154,
          0.3300205040387262,
          -0.24818884797599722,
          -0.9396493198859207,
          1.0587748727876582,
          0.005321853681144137
         ],
         "xaxis": "x16",
         "yaxis": "y16"
        }
       ],
       "layout": {
        "bargap": 0.02,
        "legend": {
         "bgcolor": "#F5F6F9",
         "font": {
          "color": "#4D5663"
         }
        },
        "paper_bgcolor": "#F5F6F9",
        "plot_bgcolor": "#F5F6F9",
        "showlegend": false,
        "template": {
         "data": {
          "bar": [
           {
            "error_x": {
             "color": "#2a3f5f"
            },
            "error_y": {
             "color": "#2a3f5f"
            },
            "marker": {
             "line": {
              "color": "#E5ECF6",
              "width": 0.5
             },
             "pattern": {
              "fillmode": "overlay",
              "size": 10,
              "solidity": 0.2
             }
            },
            "type": "bar"
           }
          ],
          "barpolar": [
           {
            "marker": {
             "line": {
              "color": "#E5ECF6",
              "width": 0.5
             },
             "pattern": {
              "fillmode": "overlay",
              "size": 10,
              "solidity": 0.2
             }
            },
            "type": "barpolar"
           }
          ],
          "carpet": [
           {
            "aaxis": {
             "endlinecolor": "#2a3f5f",
             "gridcolor": "white",
             "linecolor": "white",
             "minorgridcolor": "white",
             "startlinecolor": "#2a3f5f"
            },
            "baxis": {
             "endlinecolor": "#2a3f5f",
             "gridcolor": "white",
             "linecolor": "white",
             "minorgridcolor": "white",
             "startlinecolor": "#2a3f5f"
            },
            "type": "carpet"
           }
          ],
          "choropleth": [
           {
            "colorbar": {
             "outlinewidth": 0,
             "ticks": ""
            },
            "type": "choropleth"
           }
          ],
          "contour": [
           {
            "colorbar": {
             "outlinewidth": 0,
             "ticks": ""
            },
            "colorscale": [
             [
              0,
              "#0d0887"
             ],
             [
              0.1111111111111111,
              "#46039f"
             ],
             [
              0.2222222222222222,
              "#7201a8"
             ],
             [
              0.3333333333333333,
              "#9c179e"
             ],
             [
              0.4444444444444444,
              "#bd3786"
             ],
             [
              0.5555555555555556,
              "#d8576b"
             ],
             [
              0.6666666666666666,
              "#ed7953"
             ],
             [
              0.7777777777777778,
              "#fb9f3a"
             ],
             [
              0.8888888888888888,
              "#fdca26"
             ],
             [
              1,
              "#f0f921"
             ]
            ],
            "type": "contour"
           }
          ],
          "contourcarpet": [
           {
            "colorbar": {
             "outlinewidth": 0,
             "ticks": ""
            },
            "type": "contourcarpet"
           }
          ],
          "heatmap": [
           {
            "colorbar": {
             "outlinewidth": 0,
             "ticks": ""
            },
            "colorscale": [
             [
              0,
              "#0d0887"
             ],
             [
              0.1111111111111111,
              "#46039f"
             ],
             [
              0.2222222222222222,
              "#7201a8"
             ],
             [
              0.3333333333333333,
              "#9c179e"
             ],
             [
              0.4444444444444444,
              "#bd3786"
             ],
             [
              0.5555555555555556,
              "#d8576b"
             ],
             [
              0.6666666666666666,
              "#ed7953"
             ],
             [
              0.7777777777777778,
              "#fb9f3a"
             ],
             [
              0.8888888888888888,
              "#fdca26"
             ],
             [
              1,
              "#f0f921"
             ]
            ],
            "type": "heatmap"
           }
          ],
          "heatmapgl": [
           {
            "colorbar": {
             "outlinewidth": 0,
             "ticks": ""
            },
            "colorscale": [
             [
              0,
              "#0d0887"
             ],
             [
              0.1111111111111111,
              "#46039f"
             ],
             [
              0.2222222222222222,
              "#7201a8"
             ],
             [
              0.3333333333333333,
              "#9c179e"
             ],
             [
              0.4444444444444444,
              "#bd3786"
             ],
             [
              0.5555555555555556,
              "#d8576b"
             ],
             [
              0.6666666666666666,
              "#ed7953"
             ],
             [
              0.7777777777777778,
              "#fb9f3a"
             ],
             [
              0.8888888888888888,
              "#fdca26"
             ],
             [
              1,
              "#f0f921"
             ]
            ],
            "type": "heatmapgl"
           }
          ],
          "histogram": [
           {
            "marker": {
             "pattern": {
              "fillmode": "overlay",
              "size": 10,
              "solidity": 0.2
             }
            },
            "type": "histogram"
           }
          ],
          "histogram2d": [
           {
            "colorbar": {
             "outlinewidth": 0,
             "ticks": ""
            },
            "colorscale": [
             [
              0,
              "#0d0887"
             ],
             [
              0.1111111111111111,
              "#46039f"
             ],
             [
              0.2222222222222222,
              "#7201a8"
             ],
             [
              0.3333333333333333,
              "#9c179e"
             ],
             [
              0.4444444444444444,
              "#bd3786"
             ],
             [
              0.5555555555555556,
              "#d8576b"
             ],
             [
              0.6666666666666666,
              "#ed7953"
             ],
             [
              0.7777777777777778,
              "#fb9f3a"
             ],
             [
              0.8888888888888888,
              "#fdca26"
             ],
             [
              1,
              "#f0f921"
             ]
            ],
            "type": "histogram2d"
           }
          ],
          "histogram2dcontour": [
           {
            "colorbar": {
             "outlinewidth": 0,
             "ticks": ""
            },
            "colorscale": [
             [
              0,
              "#0d0887"
             ],
             [
              0.1111111111111111,
              "#46039f"
             ],
             [
              0.2222222222222222,
              "#7201a8"
             ],
             [
              0.3333333333333333,
              "#9c179e"
             ],
             [
              0.4444444444444444,
              "#bd3786"
             ],
             [
              0.5555555555555556,
              "#d8576b"
             ],
             [
              0.6666666666666666,
              "#ed7953"
             ],
             [
              0.7777777777777778,
              "#fb9f3a"
             ],
             [
              0.8888888888888888,
              "#fdca26"
             ],
             [
              1,
              "#f0f921"
             ]
            ],
            "type": "histogram2dcontour"
           }
          ],
          "mesh3d": [
           {
            "colorbar": {
             "outlinewidth": 0,
             "ticks": ""
            },
            "type": "mesh3d"
           }
          ],
          "parcoords": [
           {
            "line": {
             "colorbar": {
              "outlinewidth": 0,
              "ticks": ""
             }
            },
            "type": "parcoords"
           }
          ],
          "pie": [
           {
            "automargin": true,
            "type": "pie"
           }
          ],
          "scatter": [
           {
            "marker": {
             "colorbar": {
              "outlinewidth": 0,
              "ticks": ""
             }
            },
            "type": "scatter"
           }
          ],
          "scatter3d": [
           {
            "line": {
             "colorbar": {
              "outlinewidth": 0,
              "ticks": ""
             }
            },
            "marker": {
             "colorbar": {
              "outlinewidth": 0,
              "ticks": ""
             }
            },
            "type": "scatter3d"
           }
          ],
          "scattercarpet": [
           {
            "marker": {
             "colorbar": {
              "outlinewidth": 0,
              "ticks": ""
             }
            },
            "type": "scattercarpet"
           }
          ],
          "scattergeo": [
           {
            "marker": {
             "colorbar": {
              "outlinewidth": 0,
              "ticks": ""
             }
            },
            "type": "scattergeo"
           }
          ],
          "scattergl": [
           {
            "marker": {
             "colorbar": {
              "outlinewidth": 0,
              "ticks": ""
             }
            },
            "type": "scattergl"
           }
          ],
          "scattermapbox": [
           {
            "marker": {
             "colorbar": {
              "outlinewidth": 0,
              "ticks": ""
             }
            },
            "type": "scattermapbox"
           }
          ],
          "scatterpolar": [
           {
            "marker": {
             "colorbar": {
              "outlinewidth": 0,
              "ticks": ""
             }
            },
            "type": "scatterpolar"
           }
          ],
          "scatterpolargl": [
           {
            "marker": {
             "colorbar": {
              "outlinewidth": 0,
              "ticks": ""
             }
            },
            "type": "scatterpolargl"
           }
          ],
          "scatterternary": [
           {
            "marker": {
             "colorbar": {
              "outlinewidth": 0,
              "ticks": ""
             }
            },
            "type": "scatterternary"
           }
          ],
          "surface": [
           {
            "colorbar": {
             "outlinewidth": 0,
             "ticks": ""
            },
            "colorscale": [
             [
              0,
              "#0d0887"
             ],
             [
              0.1111111111111111,
              "#46039f"
             ],
             [
              0.2222222222222222,
              "#7201a8"
             ],
             [
              0.3333333333333333,
              "#9c179e"
             ],
             [
              0.4444444444444444,
              "#bd3786"
             ],
             [
              0.5555555555555556,
              "#d8576b"
             ],
             [
              0.6666666666666666,
              "#ed7953"
             ],
             [
              0.7777777777777778,
              "#fb9f3a"
             ],
             [
              0.8888888888888888,
              "#fdca26"
             ],
             [
              1,
              "#f0f921"
             ]
            ],
            "type": "surface"
           }
          ],
          "table": [
           {
            "cells": {
             "fill": {
              "color": "#EBF0F8"
             },
             "line": {
              "color": "white"
             }
            },
            "header": {
             "fill": {
              "color": "#C8D4E3"
             },
             "line": {
              "color": "white"
             }
            },
            "type": "table"
           }
          ]
         },
         "layout": {
          "annotationdefaults": {
           "arrowcolor": "#2a3f5f",
           "arrowhead": 0,
           "arrowwidth": 1
          },
          "autotypenumbers": "strict",
          "coloraxis": {
           "colorbar": {
            "outlinewidth": 0,
            "ticks": ""
           }
          },
          "colorscale": {
           "diverging": [
            [
             0,
             "#8e0152"
            ],
            [
             0.1,
             "#c51b7d"
            ],
            [
             0.2,
             "#de77ae"
            ],
            [
             0.3,
             "#f1b6da"
            ],
            [
             0.4,
             "#fde0ef"
            ],
            [
             0.5,
             "#f7f7f7"
            ],
            [
             0.6,
             "#e6f5d0"
            ],
            [
             0.7,
             "#b8e186"
            ],
            [
             0.8,
             "#7fbc41"
            ],
            [
             0.9,
             "#4d9221"
            ],
            [
             1,
             "#276419"
            ]
           ],
           "sequential": [
            [
             0,
             "#0d0887"
            ],
            [
             0.1111111111111111,
             "#46039f"
            ],
            [
             0.2222222222222222,
             "#7201a8"
            ],
            [
             0.3333333333333333,
             "#9c179e"
            ],
            [
             0.4444444444444444,
             "#bd3786"
            ],
            [
             0.5555555555555556,
             "#d8576b"
            ],
            [
             0.6666666666666666,
             "#ed7953"
            ],
            [
             0.7777777777777778,
             "#fb9f3a"
            ],
            [
             0.8888888888888888,
             "#fdca26"
            ],
            [
             1,
             "#f0f921"
            ]
           ],
           "sequentialminus": [
            [
             0,
             "#0d0887"
            ],
            [
             0.1111111111111111,
             "#46039f"
            ],
            [
             0.2222222222222222,
             "#7201a8"
            ],
            [
             0.3333333333333333,
             "#9c179e"
            ],
            [
             0.4444444444444444,
             "#bd3786"
            ],
            [
             0.5555555555555556,
             "#d8576b"
            ],
            [
             0.6666666666666666,
             "#ed7953"
            ],
            [
             0.7777777777777778,
             "#fb9f3a"
            ],
            [
             0.8888888888888888,
             "#fdca26"
            ],
            [
             1,
             "#f0f921"
            ]
           ]
          },
          "colorway": [
           "#636efa",
           "#EF553B",
           "#00cc96",
           "#ab63fa",
           "#FFA15A",
           "#19d3f3",
           "#FF6692",
           "#B6E880",
           "#FF97FF",
           "#FECB52"
          ],
          "font": {
           "color": "#2a3f5f"
          },
          "geo": {
           "bgcolor": "white",
           "lakecolor": "white",
           "landcolor": "#E5ECF6",
           "showlakes": true,
           "showland": true,
           "subunitcolor": "white"
          },
          "hoverlabel": {
           "align": "left"
          },
          "hovermode": "closest",
          "mapbox": {
           "style": "light"
          },
          "paper_bgcolor": "white",
          "plot_bgcolor": "#E5ECF6",
          "polar": {
           "angularaxis": {
            "gridcolor": "white",
            "linecolor": "white",
            "ticks": ""
           },
           "bgcolor": "#E5ECF6",
           "radialaxis": {
            "gridcolor": "white",
            "linecolor": "white",
            "ticks": ""
           }
          },
          "scene": {
           "xaxis": {
            "backgroundcolor": "#E5ECF6",
            "gridcolor": "white",
            "gridwidth": 2,
            "linecolor": "white",
            "showbackground": true,
            "ticks": "",
            "zerolinecolor": "white"
           },
           "yaxis": {
            "backgroundcolor": "#E5ECF6",
            "gridcolor": "white",
            "gridwidth": 2,
            "linecolor": "white",
            "showbackground": true,
            "ticks": "",
            "zerolinecolor": "white"
           },
           "zaxis": {
            "backgroundcolor": "#E5ECF6",
            "gridcolor": "white",
            "gridwidth": 2,
            "linecolor": "white",
            "showbackground": true,
            "ticks": "",
            "zerolinecolor": "white"
           }
          },
          "shapedefaults": {
           "line": {
            "color": "#2a3f5f"
           }
          },
          "ternary": {
           "aaxis": {
            "gridcolor": "white",
            "linecolor": "white",
            "ticks": ""
           },
           "baxis": {
            "gridcolor": "white",
            "linecolor": "white",
            "ticks": ""
           },
           "bgcolor": "#E5ECF6",
           "caxis": {
            "gridcolor": "white",
            "linecolor": "white",
            "ticks": ""
           }
          },
          "title": {
           "x": 0.05
          },
          "xaxis": {
           "automargin": true,
           "gridcolor": "white",
           "linecolor": "white",
           "ticks": "",
           "title": {
            "standoff": 15
           },
           "zerolinecolor": "white",
           "zerolinewidth": 2
          },
          "yaxis": {
           "automargin": true,
           "gridcolor": "white",
           "linecolor": "white",
           "ticks": "",
           "title": {
            "standoff": 15
           },
           "zerolinecolor": "white",
           "zerolinewidth": 2
          }
         }
        },
        "title": {
         "font": {
          "color": "#4D5663"
         }
        },
        "xaxis": {
         "anchor": "y",
         "domain": [
          0,
          0.2125
         ],
         "gridcolor": "#E1E5ED",
         "showgrid": false,
         "tickfont": {
          "color": "#4D5663"
         },
         "title": {
          "font": {
           "color": "#4D5663"
          },
          "text": ""
         },
         "zerolinecolor": "#E1E5ED"
        },
        "xaxis10": {
         "anchor": "y10",
         "domain": [
          0.2625,
          0.475
         ],
         "gridcolor": "#E1E5ED",
         "showgrid": false,
         "tickfont": {
          "color": "#4D5663"
         },
         "title": {
          "font": {
           "color": "#4D5663"
          },
          "text": ""
         },
         "zerolinecolor": "#E1E5ED"
        },
        "xaxis11": {
         "anchor": "y11",
         "domain": [
          0.525,
          0.7375
         ],
         "gridcolor": "#E1E5ED",
         "showgrid": false,
         "tickfont": {
          "color": "#4D5663"
         },
         "title": {
          "font": {
           "color": "#4D5663"
          },
          "text": ""
         },
         "zerolinecolor": "#E1E5ED"
        },
        "xaxis12": {
         "anchor": "y12",
         "domain": [
          0.7875,
          1
         ],
         "gridcolor": "#E1E5ED",
         "showgrid": false,
         "tickfont": {
          "color": "#4D5663"
         },
         "title": {
          "font": {
           "color": "#4D5663"
          },
          "text": ""
         },
         "zerolinecolor": "#E1E5ED"
        },
        "xaxis13": {
         "anchor": "y13",
         "domain": [
          0,
          0.2125
         ],
         "gridcolor": "#E1E5ED",
         "showgrid": false,
         "tickfont": {
          "color": "#4D5663"
         },
         "title": {
          "font": {
           "color": "#4D5663"
          },
          "text": ""
         },
         "zerolinecolor": "#E1E5ED"
        },
        "xaxis14": {
         "anchor": "y14",
         "domain": [
          0.2625,
          0.475
         ],
         "gridcolor": "#E1E5ED",
         "showgrid": false,
         "tickfont": {
          "color": "#4D5663"
         },
         "title": {
          "font": {
           "color": "#4D5663"
          },
          "text": ""
         },
         "zerolinecolor": "#E1E5ED"
        },
        "xaxis15": {
         "anchor": "y15",
         "domain": [
          0.525,
          0.7375
         ],
         "gridcolor": "#E1E5ED",
         "showgrid": false,
         "tickfont": {
          "color": "#4D5663"
         },
         "title": {
          "font": {
           "color": "#4D5663"
          },
          "text": ""
         },
         "zerolinecolor": "#E1E5ED"
        },
        "xaxis16": {
         "anchor": "y16",
         "domain": [
          0.7875,
          1
         ],
         "gridcolor": "#E1E5ED",
         "showgrid": false,
         "tickfont": {
          "color": "#4D5663"
         },
         "title": {
          "font": {
           "color": "#4D5663"
          },
          "text": ""
         },
         "zerolinecolor": "#E1E5ED"
        },
        "xaxis2": {
         "anchor": "y2",
         "domain": [
          0.2625,
          0.475
         ],
         "gridcolor": "#E1E5ED",
         "showgrid": false,
         "tickfont": {
          "color": "#4D5663"
         },
         "title": {
          "font": {
           "color": "#4D5663"
          },
          "text": ""
         },
         "zerolinecolor": "#E1E5ED"
        },
        "xaxis3": {
         "anchor": "y3",
         "domain": [
          0.525,
          0.7375
         ],
         "gridcolor": "#E1E5ED",
         "showgrid": false,
         "tickfont": {
          "color": "#4D5663"
         },
         "title": {
          "font": {
           "color": "#4D5663"
          },
          "text": ""
         },
         "zerolinecolor": "#E1E5ED"
        },
        "xaxis4": {
         "anchor": "y4",
         "domain": [
          0.7875,
          1
         ],
         "gridcolor": "#E1E5ED",
         "showgrid": false,
         "tickfont": {
          "color": "#4D5663"
         },
         "title": {
          "font": {
           "color": "#4D5663"
          },
          "text": ""
         },
         "zerolinecolor": "#E1E5ED"
        },
        "xaxis5": {
         "anchor": "y5",
         "domain": [
          0,
          0.2125
         ],
         "gridcolor": "#E1E5ED",
         "showgrid": false,
         "tickfont": {
          "color": "#4D5663"
         },
         "title": {
          "font": {
           "color": "#4D5663"
          },
          "text": ""
         },
         "zerolinecolor": "#E1E5ED"
        },
        "xaxis6": {
         "anchor": "y6",
         "domain": [
          0.2625,
          0.475
         ],
         "gridcolor": "#E1E5ED",
         "showgrid": false,
         "tickfont": {
          "color": "#4D5663"
         },
         "title": {
          "font": {
           "color": "#4D5663"
          },
          "text": ""
         },
         "zerolinecolor": "#E1E5ED"
        },
        "xaxis7": {
         "anchor": "y7",
         "domain": [
          0.525,
          0.7375
         ],
         "gridcolor": "#E1E5ED",
         "showgrid": false,
         "tickfont": {
          "color": "#4D5663"
         },
         "title": {
          "font": {
           "color": "#4D5663"
          },
          "text": ""
         },
         "zerolinecolor": "#E1E5ED"
        },
        "xaxis8": {
         "anchor": "y8",
         "domain": [
          0.7875,
          1
         ],
         "gridcolor": "#E1E5ED",
         "showgrid": false,
         "tickfont": {
          "color": "#4D5663"
         },
         "title": {
          "font": {
           "color": "#4D5663"
          },
          "text": ""
         },
         "zerolinecolor": "#E1E5ED"
        },
        "xaxis9": {
         "anchor": "y9",
         "domain": [
          0,
          0.2125
         ],
         "gridcolor": "#E1E5ED",
         "showgrid": false,
         "tickfont": {
          "color": "#4D5663"
         },
         "title": {
          "font": {
           "color": "#4D5663"
          },
          "text": ""
         },
         "zerolinecolor": "#E1E5ED"
        },
        "yaxis": {
         "anchor": "x",
         "domain": [
          0.8025,
          1
         ],
         "gridcolor": "#E1E5ED",
         "showgrid": false,
         "tickfont": {
          "color": "#4D5663"
         },
         "title": {
          "font": {
           "color": "#4D5663"
          },
          "text": ""
         },
         "zerolinecolor": "#E1E5ED"
        },
        "yaxis10": {
         "anchor": "x10",
         "domain": [
          0.2675,
          0.465
         ],
         "gridcolor": "#E1E5ED",
         "showgrid": false,
         "tickfont": {
          "color": "#4D5663"
         },
         "title": {
          "font": {
           "color": "#4D5663"
          },
          "text": ""
         },
         "zerolinecolor": "#E1E5ED"
        },
        "yaxis11": {
         "anchor": "x11",
         "domain": [
          0.2675,
          0.465
         ],
         "gridcolor": "#E1E5ED",
         "showgrid": false,
         "tickfont": {
          "color": "#4D5663"
         },
         "title": {
          "font": {
           "color": "#4D5663"
          },
          "text": ""
         },
         "zerolinecolor": "#E1E5ED"
        },
        "yaxis12": {
         "anchor": "x12",
         "domain": [
          0.2675,
          0.465
         ],
         "gridcolor": "#E1E5ED",
         "showgrid": false,
         "tickfont": {
          "color": "#4D5663"
         },
         "title": {
          "font": {
           "color": "#4D5663"
          },
          "text": ""
         },
         "zerolinecolor": "#E1E5ED"
        },
        "yaxis13": {
         "anchor": "x13",
         "domain": [
          0,
          0.1975
         ],
         "gridcolor": "#E1E5ED",
         "showgrid": false,
         "tickfont": {
          "color": "#4D5663"
         },
         "title": {
          "font": {
           "color": "#4D5663"
          },
          "text": ""
         },
         "zerolinecolor": "#E1E5ED"
        },
        "yaxis14": {
         "anchor": "x14",
         "domain": [
          0,
          0.1975
         ],
         "gridcolor": "#E1E5ED",
         "showgrid": false,
         "tickfont": {
          "color": "#4D5663"
         },
         "title": {
          "font": {
           "color": "#4D5663"
          },
          "text": ""
         },
         "zerolinecolor": "#E1E5ED"
        },
        "yaxis15": {
         "anchor": "x15",
         "domain": [
          0,
          0.1975
         ],
         "gridcolor": "#E1E5ED",
         "showgrid": false,
         "tickfont": {
          "color": "#4D5663"
         },
         "title": {
          "font": {
           "color": "#4D5663"
          },
          "text": ""
         },
         "zerolinecolor": "#E1E5ED"
        },
        "yaxis16": {
         "anchor": "x16",
         "domain": [
          0,
          0.1975
         ],
         "gridcolor": "#E1E5ED",
         "showgrid": false,
         "tickfont": {
          "color": "#4D5663"
         },
         "title": {
          "font": {
           "color": "#4D5663"
          },
          "text": ""
         },
         "zerolinecolor": "#E1E5ED"
        },
        "yaxis2": {
         "anchor": "x2",
         "domain": [
          0.8025,
          1
         ],
         "gridcolor": "#E1E5ED",
         "showgrid": false,
         "tickfont": {
          "color": "#4D5663"
         },
         "title": {
          "font": {
           "color": "#4D5663"
          },
          "text": ""
         },
         "zerolinecolor": "#E1E5ED"
        },
        "yaxis3": {
         "anchor": "x3",
         "domain": [
          0.8025,
          1
         ],
         "gridcolor": "#E1E5ED",
         "showgrid": false,
         "tickfont": {
          "color": "#4D5663"
         },
         "title": {
          "font": {
           "color": "#4D5663"
          },
          "text": ""
         },
         "zerolinecolor": "#E1E5ED"
        },
        "yaxis4": {
         "anchor": "x4",
         "domain": [
          0.8025,
          1
         ],
         "gridcolor": "#E1E5ED",
         "showgrid": false,
         "tickfont": {
          "color": "#4D5663"
         },
         "title": {
          "font": {
           "color": "#4D5663"
          },
          "text": ""
         },
         "zerolinecolor": "#E1E5ED"
        },
        "yaxis5": {
         "anchor": "x5",
         "domain": [
          0.535,
          0.7325
         ],
         "gridcolor": "#E1E5ED",
         "showgrid": false,
         "tickfont": {
          "color": "#4D5663"
         },
         "title": {
          "font": {
           "color": "#4D5663"
          },
          "text": ""
         },
         "zerolinecolor": "#E1E5ED"
        },
        "yaxis6": {
         "anchor": "x6",
         "domain": [
          0.535,
          0.7325
         ],
         "gridcolor": "#E1E5ED",
         "showgrid": false,
         "tickfont": {
          "color": "#4D5663"
         },
         "title": {
          "font": {
           "color": "#4D5663"
          },
          "text": ""
         },
         "zerolinecolor": "#E1E5ED"
        },
        "yaxis7": {
         "anchor": "x7",
         "domain": [
          0.535,
          0.7325
         ],
         "gridcolor": "#E1E5ED",
         "showgrid": false,
         "tickfont": {
          "color": "#4D5663"
         },
         "title": {
          "font": {
           "color": "#4D5663"
          },
          "text": ""
         },
         "zerolinecolor": "#E1E5ED"
        },
        "yaxis8": {
         "anchor": "x8",
         "domain": [
          0.535,
          0.7325
         ],
         "gridcolor": "#E1E5ED",
         "showgrid": false,
         "tickfont": {
          "color": "#4D5663"
         },
         "title": {
          "font": {
           "color": "#4D5663"
          },
          "text": ""
         },
         "zerolinecolor": "#E1E5ED"
        },
        "yaxis9": {
         "anchor": "x9",
         "domain": [
          0.2675,
          0.465
         ],
         "gridcolor": "#E1E5ED",
         "showgrid": false,
         "tickfont": {
          "color": "#4D5663"
         },
         "title": {
          "font": {
           "color": "#4D5663"
          },
          "text": ""
         },
         "zerolinecolor": "#E1E5ED"
        }
       }
      },
      "text/html": [
       "<div>                            <div id=\"3eee8309-4d85-4c6a-896c-e871cbb40f87\" class=\"plotly-graph-div\" style=\"height:525px; width:100%;\"></div>            <script type=\"text/javascript\">                require([\"plotly\"], function(Plotly) {                    window.PLOTLYENV=window.PLOTLYENV || {};\n",
       "                    window.PLOTLYENV.BASE_URL='https://plot.ly';                                    if (document.getElementById(\"3eee8309-4d85-4c6a-896c-e871cbb40f87\")) {                    Plotly.newPlot(                        \"3eee8309-4d85-4c6a-896c-e871cbb40f87\",                        [{\"histfunc\":\"count\",\"histnorm\":\"\",\"marker\":{\"color\":\"rgba(255, 153, 51, 1.0)\",\"line\":{\"color\":\"#4D5663\",\"width\":1.3}},\"name\":\"A\",\"nbinsx\":10,\"opacity\":0.8,\"orientation\":\"v\",\"type\":\"histogram\",\"x\":[0.6754782943325655,0.5676345968842824,0.1328881905375589,1.5598060655336465,0.20155851821828127,-0.1704342005504423,1.6382714620922407,0.5960123218986514,-1.3967502608685103,-0.4175266016308763,-1.4622195465874601,-0.4418238211952053,-0.9396201592840361,-0.13826138272671448,-0.8850161103888932,1.8504189241059084,-0.5670395261360621,-0.4512300334792727,-1.3659730557435033,-2.2195698637480628,0.3537368438916856,0.8011510663127747,0.9158535282283714,-0.10090839994435542,0.5197315429475056,0.542335737958651,-0.5888216723532752,-0.6521836708748141,-0.3603370324925614,-0.9552920009367587,-2.2849797147682933,0.4519183096797922,1.8842896639403863,1.1340897786363573,0.18372623294508642,-1.0237109171539454,-1.654003775689415,0.32167723924081354,1.2199528459728162,2.929925287765693,-0.8172173302082492,-1.6505368253468742,0.23446380237601086,0.36633509776946094,-1.410517557328883,-1.0885958183031015,1.41325542793449,-1.7040848451332873,0.03122408759234455,-0.32773165815662103,0.6662743949672889,-1.3245476957372868,-0.17648115279437038,0.5131658131312273,0.6254611583947094,-0.9504172530455163,-0.38056513766120054,-1.610980503470945,0.3138510000800175,1.2297882444657389,2.0612538048066784,1.7240572041477948,-0.7228253590566479,0.94310349502881,-2.011162597259447,-0.958977057005299,1.2929502033458233,1.1732776407222958,1.0006976463240154,0.07796519762881553,-0.4987650476806753,0.9764184595883123,-0.014106945313026645,1.5428496733376793,-1.091952698664168,0.4782947233641637,0.2752500905442413,-1.970375548198486,2.0526149916013905,-0.5355825007775484,0.7545279930637657,0.2863047840180115,-1.4025937393898347,0.9342278828335764,0.5624839596099094,1.1447907551414858,0.08961360380327707,-0.4817073117416022,-0.6319061449787831,2.343257288835841,-0.5589302132661069,0.7941564694900235,-0.6152341400737853,0.8544116644485762,0.41297969806072243,1.613308547129756,-0.19679692672583227,-0.2252424721695863,-1.101041110660023,-1.9043054451684438],\"xaxis\":\"x\",\"yaxis\":\"y\"},{\"line\":{\"color\":\"rgba(128, 128, 128, 1.0)\",\"dash\":\"solid\",\"shape\":\"linear\",\"width\":1.3},\"marker\":{\"size\":2,\"symbol\":\"circle\"},\"mode\":\"markers\",\"name\":\"A\",\"text\":\"\",\"type\":\"scatter\",\"x\":[-0.2217291443388921,-1.2371542355520193,0.8123200317942653,1.2443210913177807,0.15665068302727347,-0.49601188309501854,-1.5674118452306314,0.8681936946504126,-2.1588947361277944,0.004523669014418451,0.2224144998784712,-1.2047967088202578,-0.48311376209050955,0.5263364911407737,-0.6581025306060428,0.5859815825235286,1.2843285937087179,2.644736009199112,0.6686205905210374,0.41822294352248607,-1.0881429265518046,-0.2848994852918314,-1.0361040136959085,-0.43236691856491044,-1.2151060705229921,-1.0535802751145777,-1.7101393540602814,0.13700496725160327,-0.03639404936203314,-1.167416774354088,1.242824173634307,0.7555947464871007,-0.2358954009781537,1.7245172324003295,0.011408650486823966,1.468500443226724,-1.087452184127168,0.31587470047464566,-0.64965102521893,-0.18741629301066062,0.8643789608770887,0.1374916054046593,0.984915590803966,-0.5749850827580681,-0.31367705412547175,0.43808758668803777,0.5237444006175169,-1.933200354258214,0.24285826858388612,1.0770527002311396,0.8642237475271446,-2.8026546155389527,-1.269688258045194,0.13818859955011006,-0.7032899314435153,-1.6489195836048638,-0.10259177038998696,1.4542546939122745,-0.5144024244857891,-0.16761985394816561,0.18057974799115853,0.9153792574175322,-1.5625254164314404,0.7275749276372556,-0.8410916716639276,1.9702443659279567,1.0105656117288755,-0.33011431585845263,0.05896025014420832,-0.6182716108350788,-1.9307322255876471,-0.423044638561435,0.8242161598940201,0.7473086068676891,-0.06390385057859259,1.411752606998454,0.9490293076629773,0.009991847913236184,0.673086587444426,-0.12972617508859452,-1.4564557150623647,0.36259057467603667,-1.0036754215214432,-0.9933192141036302,-0.8830959235342006,0.0068193462280179895,0.7529614687362064,0.4431679290600762,0.7558262294932983,-1.87289174236139,2.6694207476365075,-0.03194188108580788,-1.1825587513883815,-0.6013875741485867,0.7019085379263506,-0.16891436238867008,-1.3841323134554913,1.5394640870582705,0.8545201128569784,0.8007369757347785],\"xaxis\":\"x2\",\"y\":[0.6754782943325655,0.5676345968842824,0.1328881905375589,1.5598060655336465,0.20155851821828127,-0.1704342005504423,1.6382714620922407,0.5960123218986514,-1.3967502608685103,-0.4175266016308763,-1.4622195465874601,-0.4418238211952053,-0.9396201592840361,-0.13826138272671448,-0.8850161103888932,1.8504189241059084,-0.5670395261360621,-0.4512300334792727,-1.3659730557435033,-2.2195698637480628,0.3537368438916856,0.8011510663127747,0.9158535282283714,-0.10090839994435542,0.5197315429475056,0.542335737958651,-0.5888216723532752,-0.6521836708748141,-0.3603370324925614,-0.9552920009367587,-2.2849797147682933,0.4519183096797922,1.8842896639403863,1.1340897786363573,0.18372623294508642,-1.0237109171539454,-1.654003775689415,0.32167723924081354,1.2199528459728162,2.929925287765693,-0.8172173302082492,-1.6505368253468742,0.23446380237601086,0.36633509776946094,-1.410517557328883,-1.0885958183031015,1.41325542793449,-1.7040848451332873,0.03122408759234455,-0.32773165815662103,0.6662743949672889,-1.3245476957372868,-0.17648115279437038,0.5131658131312273,0.6254611583947094,-0.9504172530455163,-0.38056513766120054,-1.610980503470945,0.3138510000800175,1.2297882444657389,2.0612538048066784,1.7240572041477948,-0.7228253590566479,0.94310349502881,-2.011162597259447,-0.958977057005299,1.2929502033458233,1.1732776407222958,1.0006976463240154,0.07796519762881553,-0.4987650476806753,0.9764184595883123,-0.014106945313026645,1.5428496733376793,-1.091952698664168,0.4782947233641637,0.2752500905442413,-1.970375548198486,2.0526149916013905,-0.5355825007775484,0.7545279930637657,0.2863047840180115,-1.4025937393898347,0.9342278828335764,0.5624839596099094,1.1447907551414858,0.08961360380327707,-0.4817073117416022,-0.6319061449787831,2.343257288835841,-0.5589302132661069,0.7941564694900235,-0.6152341400737853,0.8544116644485762,0.41297969806072243,1.613308547129756,-0.19679692672583227,-0.2252424721695863,-1.101041110660023,-1.9043054451684438],\"yaxis\":\"y2\"},{\"line\":{\"color\":\"rgba(128, 128, 128, 1.0)\",\"dash\":\"solid\",\"shape\":\"linear\",\"width\":1.3},\"marker\":{\"size\":2,\"symbol\":\"circle\"},\"mode\":\"markers\",\"name\":\"A\",\"text\":\"\",\"type\":\"scatter\",\"x\":[0.0784437314920932,-0.6274683178765565,0.5298269773625096,-0.026204610060682528,1.37969563905112,-0.8000786645365066,-0.2711977325666523,1.4726782220970804,-0.1547773948945247,0.36473944640186384,-0.08429883514455458,-1.5515062481753192,0.03205552259490915,1.2123548956418295,0.43058253591239376,-0.031117297861683987,1.2414500049237107,-0.8518608567833222,1.3288784861201977,1.439038188138787,2.0834823106921867,-0.13951482153101846,-0.16750640075993256,-2.596922050001098,-1.0344366694712204,0.3874677675410941,0.5300976846874239,0.2650623034781403,1.123632155716323,-1.5572785478146938,0.9594542248327607,-1.2557351597027717,-1.8360982088841002,-0.24171184000833357,1.4535229764820388,0.8434778332317928,-0.1390979275451528,1.4824149640051818,0.45160359629458197,1.2539319476365436,0.5844252340197015,0.10182632011854167,1.3062137404946352,-1.6230105028452513,0.3566611284157468,1.7308316510693198,-0.06209698721137085,0.3939301904060206,0.20960382548586007,-1.3716340073257205,0.2504460076052671,-0.40946158043083053,-0.21669459044608314,-1.3113978351731204,0.7301680983005864,1.6659322095726434,0.08792943985079187,-0.7318878119568767,-0.1752586144857245,0.5437074109358785,1.3754837271082254,-0.7535874213950295,-0.5878948226418345,-0.3610536843703974,1.5204262409258733,-0.43322783712311214,0.8035654301932148,-1.363808961916895,-0.3544827133614749,1.815037702042949,-0.010765358664600296,0.2633014458669041,1.9722229163077225,-0.04229984248442153,-0.723068086967317,-2.0357774272091373,-0.6350456554823967,0.45584953161270303,0.9067616582640229,1.5480251312081699,-0.9928566495105056,-1.28321428258695,0.14135966092114852,0.3578602496552667,-1.488692412653754,0.028263269062368666,0.33757401829189343,-0.7603609722621759,-0.3598963718688637,-2.1381875920361053,-0.7976158836639305,-0.7812095188111328,-0.3107933341853249,-0.4971599535565136,0.6180616657471829,-1.7780361709837333,2.408104100772878,0.6351956483184322,-0.12947334443327432,-1.081991236502051],\"xaxis\":\"x3\",\"y\":[0.6754782943325655,0.5676345968842824,0.1328881905375589,1.5598060655336465,0.20155851821828127,-0.1704342005504423,1.6382714620922407,0.5960123218986514,-1.3967502608685103,-0.4175266016308763,-1.4622195465874601,-0.4418238211952053,-0.9396201592840361,-0.13826138272671448,-0.8850161103888932,1.8504189241059084,-0.5670395261360621,-0.4512300334792727,-1.3659730557435033,-2.2195698637480628,0.3537368438916856,0.8011510663127747,0.9158535282283714,-0.10090839994435542,0.5197315429475056,0.542335737958651,-0.5888216723532752,-0.6521836708748141,-0.3603370324925614,-0.9552920009367587,-2.2849797147682933,0.4519183096797922,1.8842896639403863,1.1340897786363573,0.18372623294508642,-1.0237109171539454,-1.654003775689415,0.32167723924081354,1.2199528459728162,2.929925287765693,-0.8172173302082492,-1.6505368253468742,0.23446380237601086,0.36633509776946094,-1.410517557328883,-1.0885958183031015,1.41325542793449,-1.7040848451332873,0.03122408759234455,-0.32773165815662103,0.6662743949672889,-1.3245476957372868,-0.17648115279437038,0.5131658131312273,0.6254611583947094,-0.9504172530455163,-0.38056513766120054,-1.610980503470945,0.3138510000800175,1.2297882444657389,2.0612538048066784,1.7240572041477948,-0.7228253590566479,0.94310349502881,-2.011162597259447,-0.958977057005299,1.2929502033458233,1.1732776407222958,1.0006976463240154,0.07796519762881553,-0.4987650476806753,0.9764184595883123,-0.014106945313026645,1.5428496733376793,-1.091952698664168,0.4782947233641637,0.2752500905442413,-1.970375548198486,2.0526149916013905,-0.5355825007775484,0.7545279930637657,0.2863047840180115,-1.4025937393898347,0.9342278828335764,0.5624839596099094,1.1447907551414858,0.08961360380327707,-0.4817073117416022,-0.6319061449787831,2.343257288835841,-0.5589302132661069,0.7941564694900235,-0.6152341400737853,0.8544116644485762,0.41297969806072243,1.613308547129756,-0.19679692672583227,-0.2252424721695863,-1.101041110660023,-1.9043054451684438],\"yaxis\":\"y3\"},{\"line\":{\"color\":\"rgba(128, 128, 128, 1.0)\",\"dash\":\"solid\",\"shape\":\"linear\",\"width\":1.3},\"marker\":{\"size\":2,\"symbol\":\"circle\"},\"mode\":\"markers\",\"name\":\"A\",\"text\":\"\",\"type\":\"scatter\",\"x\":[1.3176171729312272,-0.9834880323385257,0.6411961838907011,0.669110779707614,0.6909807029692084,-0.4721750437619172,0.9276671831585144,0.004224855025634071,1.5855609956540089,-2.362573108645685,1.449613773680825,0.08392393763461577,1.4106686705608238,-0.14437037332746172,-1.3328496798693938,-0.37652589035939366,-0.4946055490266074,0.31911727130119266,-0.47358087026724893,0.16505353040464632,1.5140781357842468,0.8549407420138733,0.9997998467684753,-0.4938509276561391,0.10886655189684685,-0.45338661443259165,0.801666642873236,-0.10292637171679458,0.1762930848097405,-0.7435744978120609,-0.7828881051060924,-0.5449076415695722,-0.8829502763539031,-0.15656960504724496,-0.23525720483416326,-0.25459885591993897,-0.8960229288435273,-0.9809902582888329,-0.7603113561563828,-1.2892096628807506,0.6302925112779482,-0.3215614608890834,-0.45027111963134125,-0.32699236661256303,-0.9574633336697017,0.2646646949622887,-0.2821900739904608,-0.8968778040618786,-1.4277929316873632,-1.7956111453370855,-1.2976088427692183,-0.5530879697592308,0.3037174086766186,0.5556223777751071,1.7350025669748539,0.20697663508511632,-1.3913773527801154,1.5440766422195047,-0.6241203351108987,-1.923666382511092,0.4556263675530248,-0.349330977819222,-1.4393546206558492,-1.1811152857102594,-0.16930038167070804,-0.1292701898700492,1.037802622208697,0.8296283353615309,-0.9845185162741449,0.5701566902074574,1.6367428805438935,1.945251815442205,1.2840117045761732,-0.16430735928035567,1.1995560974603026,-1.0964725875195462,0.041578630666224685,0.3944469773059546,0.10880517897135732,0.35052365302338484,1.0006118784343434,0.7794816871241417,-0.42771077868518786,-0.4656016344090984,-0.0938138734703827,-1.1208302944841384,0.10526049306349472,0.24486250243615648,-0.8260289717409693,-0.3229038089718978,-0.8161886246811139,0.7359278700604573,-2.053293054572988,-0.7748654206211201,0.7264382231948154,0.3300205040387262,-0.24818884797599722,-0.9396493198859207,1.0587748727876582,0.005321853681144137],\"xaxis\":\"x4\",\"y\":[0.6754782943325655,0.5676345968842824,0.1328881905375589,1.5598060655336465,0.20155851821828127,-0.1704342005504423,1.6382714620922407,0.5960123218986514,-1.3967502608685103,-0.4175266016308763,-1.4622195465874601,-0.4418238211952053,-0.9396201592840361,-0.13826138272671448,-0.8850161103888932,1.8504189241059084,-0.5670395261360621,-0.4512300334792727,-1.3659730557435033,-2.2195698637480628,0.3537368438916856,0.8011510663127747,0.9158535282283714,-0.10090839994435542,0.5197315429475056,0.542335737958651,-0.5888216723532752,-0.6521836708748141,-0.3603370324925614,-0.9552920009367587,-2.2849797147682933,0.4519183096797922,1.8842896639403863,1.1340897786363573,0.18372623294508642,-1.0237109171539454,-1.654003775689415,0.32167723924081354,1.2199528459728162,2.929925287765693,-0.8172173302082492,-1.6505368253468742,0.23446380237601086,0.36633509776946094,-1.410517557328883,-1.0885958183031015,1.41325542793449,-1.7040848451332873,0.03122408759234455,-0.32773165815662103,0.6662743949672889,-1.3245476957372868,-0.17648115279437038,0.5131658131312273,0.6254611583947094,-0.9504172530455163,-0.38056513766120054,-1.610980503470945,0.3138510000800175,1.2297882444657389,2.0612538048066784,1.7240572041477948,-0.7228253590566479,0.94310349502881,-2.011162597259447,-0.958977057005299,1.2929502033458233,1.1732776407222958,1.0006976463240154,0.07796519762881553,-0.4987650476806753,0.9764184595883123,-0.014106945313026645,1.5428496733376793,-1.091952698664168,0.4782947233641637,0.2752500905442413,-1.970375548198486,2.0526149916013905,-0.5355825007775484,0.7545279930637657,0.2863047840180115,-1.4025937393898347,0.9342278828335764,0.5624839596099094,1.1447907551414858,0.08961360380327707,-0.4817073117416022,-0.6319061449787831,2.343257288835841,-0.5589302132661069,0.7941564694900235,-0.6152341400737853,0.8544116644485762,0.41297969806072243,1.613308547129756,-0.19679692672583227,-0.2252424721695863,-1.101041110660023,-1.9043054451684438],\"yaxis\":\"y4\"},{\"line\":{\"color\":\"rgba(128, 128, 128, 1.0)\",\"dash\":\"solid\",\"shape\":\"linear\",\"width\":1.3},\"marker\":{\"size\":2,\"symbol\":\"circle\"},\"mode\":\"markers\",\"name\":\"B\",\"text\":\"\",\"type\":\"scatter\",\"x\":[0.6754782943325655,0.5676345968842824,0.1328881905375589,1.5598060655336465,0.20155851821828127,-0.1704342005504423,1.6382714620922407,0.5960123218986514,-1.3967502608685103,-0.4175266016308763,-1.4622195465874601,-0.4418238211952053,-0.9396201592840361,-0.13826138272671448,-0.8850161103888932,1.8504189241059084,-0.5670395261360621,-0.4512300334792727,-1.3659730557435033,-2.2195698637480628,0.3537368438916856,0.8011510663127747,0.9158535282283714,-0.10090839994435542,0.5197315429475056,0.542335737958651,-0.5888216723532752,-0.6521836708748141,-0.3603370324925614,-0.9552920009367587,-2.2849797147682933,0.4519183096797922,1.8842896639403863,1.1340897786363573,0.18372623294508642,-1.0237109171539454,-1.654003775689415,0.32167723924081354,1.2199528459728162,2.929925287765693,-0.8172173302082492,-1.6505368253468742,0.23446380237601086,0.36633509776946094,-1.410517557328883,-1.0885958183031015,1.41325542793449,-1.7040848451332873,0.03122408759234455,-0.32773165815662103,0.6662743949672889,-1.3245476957372868,-0.17648115279437038,0.5131658131312273,0.6254611583947094,-0.9504172530455163,-0.38056513766120054,-1.610980503470945,0.3138510000800175,1.2297882444657389,2.0612538048066784,1.7240572041477948,-0.7228253590566479,0.94310349502881,-2.011162597259447,-0.958977057005299,1.2929502033458233,1.1732776407222958,1.0006976463240154,0.07796519762881553,-0.4987650476806753,0.9764184595883123,-0.014106945313026645,1.5428496733376793,-1.091952698664168,0.4782947233641637,0.2752500905442413,-1.970375548198486,2.0526149916013905,-0.5355825007775484,0.7545279930637657,0.2863047840180115,-1.4025937393898347,0.9342278828335764,0.5624839596099094,1.1447907551414858,0.08961360380327707,-0.4817073117416022,-0.6319061449787831,2.343257288835841,-0.5589302132661069,0.7941564694900235,-0.6152341400737853,0.8544116644485762,0.41297969806072243,1.613308547129756,-0.19679692672583227,-0.2252424721695863,-1.101041110660023,-1.9043054451684438],\"xaxis\":\"x5\",\"y\":[-0.2217291443388921,-1.2371542355520193,0.8123200317942653,1.2443210913177807,0.15665068302727347,-0.49601188309501854,-1.5674118452306314,0.8681936946504126,-2.1588947361277944,0.004523669014418451,0.2224144998784712,-1.2047967088202578,-0.48311376209050955,0.5263364911407737,-0.6581025306060428,0.5859815825235286,1.2843285937087179,2.644736009199112,0.6686205905210374,0.41822294352248607,-1.0881429265518046,-0.2848994852918314,-1.0361040136959085,-0.43236691856491044,-1.2151060705229921,-1.0535802751145777,-1.7101393540602814,0.13700496725160327,-0.03639404936203314,-1.167416774354088,1.242824173634307,0.7555947464871007,-0.2358954009781537,1.7245172324003295,0.011408650486823966,1.468500443226724,-1.087452184127168,0.31587470047464566,-0.64965102521893,-0.18741629301066062,0.8643789608770887,0.1374916054046593,0.984915590803966,-0.5749850827580681,-0.31367705412547175,0.43808758668803777,0.5237444006175169,-1.933200354258214,0.24285826858388612,1.0770527002311396,0.8642237475271446,-2.8026546155389527,-1.269688258045194,0.13818859955011006,-0.7032899314435153,-1.6489195836048638,-0.10259177038998696,1.4542546939122745,-0.5144024244857891,-0.16761985394816561,0.18057974799115853,0.9153792574175322,-1.5625254164314404,0.7275749276372556,-0.8410916716639276,1.9702443659279567,1.0105656117288755,-0.33011431585845263,0.05896025014420832,-0.6182716108350788,-1.9307322255876471,-0.423044638561435,0.8242161598940201,0.7473086068676891,-0.06390385057859259,1.411752606998454,0.9490293076629773,0.009991847913236184,0.673086587444426,-0.12972617508859452,-1.4564557150623647,0.36259057467603667,-1.0036754215214432,-0.9933192141036302,-0.8830959235342006,0.0068193462280179895,0.7529614687362064,0.4431679290600762,0.7558262294932983,-1.87289174236139,2.6694207476365075,-0.03194188108580788,-1.1825587513883815,-0.6013875741485867,0.7019085379263506,-0.16891436238867008,-1.3841323134554913,1.5394640870582705,0.8545201128569784,0.8007369757347785],\"yaxis\":\"y5\"},{\"histfunc\":\"count\",\"histnorm\":\"\",\"marker\":{\"color\":\"rgba(55, 128, 191, 1.0)\",\"line\":{\"color\":\"#4D5663\",\"width\":1.3}},\"name\":\"B\",\"nbinsx\":10,\"opacity\":0.8,\"orientation\":\"v\",\"type\":\"histogram\",\"x\":[-0.2217291443388921,-1.2371542355520193,0.8123200317942653,1.2443210913177807,0.15665068302727347,-0.49601188309501854,-1.5674118452306314,0.8681936946504126,-2.1588947361277944,0.004523669014418451,0.2224144998784712,-1.2047967088202578,-0.48311376209050955,0.5263364911407737,-0.6581025306060428,0.5859815825235286,1.2843285937087179,2.644736009199112,0.6686205905210374,0.41822294352248607,-1.0881429265518046,-0.2848994852918314,-1.0361040136959085,-0.43236691856491044,-1.2151060705229921,-1.0535802751145777,-1.7101393540602814,0.13700496725160327,-0.03639404936203314,-1.167416774354088,1.242824173634307,0.7555947464871007,-0.2358954009781537,1.7245172324003295,0.011408650486823966,1.468500443226724,-1.087452184127168,0.31587470047464566,-0.64965102521893,-0.18741629301066062,0.8643789608770887,0.1374916054046593,0.984915590803966,-0.5749850827580681,-0.31367705412547175,0.43808758668803777,0.5237444006175169,-1.933200354258214,0.24285826858388612,1.0770527002311396,0.8642237475271446,-2.8026546155389527,-1.269688258045194,0.13818859955011006,-0.7032899314435153,-1.6489195836048638,-0.10259177038998696,1.4542546939122745,-0.5144024244857891,-0.16761985394816561,0.18057974799115853,0.9153792574175322,-1.5625254164314404,0.7275749276372556,-0.8410916716639276,1.9702443659279567,1.0105656117288755,-0.33011431585845263,0.05896025014420832,-0.6182716108350788,-1.9307322255876471,-0.423044638561435,0.8242161598940201,0.7473086068676891,-0.06390385057859259,1.411752606998454,0.9490293076629773,0.009991847913236184,0.673086587444426,-0.12972617508859452,-1.4564557150623647,0.36259057467603667,-1.0036754215214432,-0.9933192141036302,-0.8830959235342006,0.0068193462280179895,0.7529614687362064,0.4431679290600762,0.7558262294932983,-1.87289174236139,2.6694207476365075,-0.03194188108580788,-1.1825587513883815,-0.6013875741485867,0.7019085379263506,-0.16891436238867008,-1.3841323134554913,1.5394640870582705,0.8545201128569784,0.8007369757347785],\"xaxis\":\"x6\",\"yaxis\":\"y6\"},{\"line\":{\"color\":\"rgba(128, 128, 128, 1.0)\",\"dash\":\"solid\",\"shape\":\"linear\",\"width\":1.3},\"marker\":{\"size\":2,\"symbol\":\"circle\"},\"mode\":\"markers\",\"name\":\"B\",\"text\":\"\",\"type\":\"scatter\",\"x\":[0.0784437314920932,-0.6274683178765565,0.5298269773625096,-0.026204610060682528,1.37969563905112,-0.8000786645365066,-0.2711977325666523,1.4726782220970804,-0.1547773948945247,0.36473944640186384,-0.08429883514455458,-1.5515062481753192,0.03205552259490915,1.2123548956418295,0.43058253591239376,-0.031117297861683987,1.2414500049237107,-0.8518608567833222,1.3288784861201977,1.439038188138787,2.0834823106921867,-0.13951482153101846,-0.16750640075993256,-2.596922050001098,-1.0344366694712204,0.3874677675410941,0.5300976846874239,0.2650623034781403,1.123632155716323,-1.5572785478146938,0.9594542248327607,-1.2557351597027717,-1.8360982088841002,-0.24171184000833357,1.4535229764820388,0.8434778332317928,-0.1390979275451528,1.4824149640051818,0.45160359629458197,1.2539319476365436,0.5844252340197015,0.10182632011854167,1.3062137404946352,-1.6230105028452513,0.3566611284157468,1.7308316510693198,-0.06209698721137085,0.3939301904060206,0.20960382548586007,-1.3716340073257205,0.2504460076052671,-0.40946158043083053,-0.21669459044608314,-1.3113978351731204,0.7301680983005864,1.6659322095726434,0.08792943985079187,-0.7318878119568767,-0.1752586144857245,0.5437074109358785,1.3754837271082254,-0.7535874213950295,-0.5878948226418345,-0.3610536843703974,1.5204262409258733,-0.43322783712311214,0.8035654301932148,-1.363808961916895,-0.3544827133614749,1.815037702042949,-0.010765358664600296,0.2633014458669041,1.9722229163077225,-0.04229984248442153,-0.723068086967317,-2.0357774272091373,-0.6350456554823967,0.45584953161270303,0.9067616582640229,1.5480251312081699,-0.9928566495105056,-1.28321428258695,0.14135966092114852,0.3578602496552667,-1.488692412653754,0.028263269062368666,0.33757401829189343,-0.7603609722621759,-0.3598963718688637,-2.1381875920361053,-0.7976158836639305,-0.7812095188111328,-0.3107933341853249,-0.4971599535565136,0.6180616657471829,-1.7780361709837333,2.408104100772878,0.6351956483184322,-0.12947334443327432,-1.081991236502051],\"xaxis\":\"x7\",\"y\":[-0.2217291443388921,-1.2371542355520193,0.8123200317942653,1.2443210913177807,0.15665068302727347,-0.49601188309501854,-1.5674118452306314,0.8681936946504126,-2.1588947361277944,0.004523669014418451,0.2224144998784712,-1.2047967088202578,-0.48311376209050955,0.5263364911407737,-0.6581025306060428,0.5859815825235286,1.2843285937087179,2.644736009199112,0.6686205905210374,0.41822294352248607,-1.0881429265518046,-0.2848994852918314,-1.0361040136959085,-0.43236691856491044,-1.2151060705229921,-1.0535802751145777,-1.7101393540602814,0.13700496725160327,-0.03639404936203314,-1.167416774354088,1.242824173634307,0.7555947464871007,-0.2358954009781537,1.7245172324003295,0.011408650486823966,1.468500443226724,-1.087452184127168,0.31587470047464566,-0.64965102521893,-0.18741629301066062,0.8643789608770887,0.1374916054046593,0.984915590803966,-0.5749850827580681,-0.31367705412547175,0.43808758668803777,0.5237444006175169,-1.933200354258214,0.24285826858388612,1.0770527002311396,0.8642237475271446,-2.8026546155389527,-1.269688258045194,0.13818859955011006,-0.7032899314435153,-1.6489195836048638,-0.10259177038998696,1.4542546939122745,-0.5144024244857891,-0.16761985394816561,0.18057974799115853,0.9153792574175322,-1.5625254164314404,0.7275749276372556,-0.8410916716639276,1.9702443659279567,1.0105656117288755,-0.33011431585845263,0.05896025014420832,-0.6182716108350788,-1.9307322255876471,-0.423044638561435,0.8242161598940201,0.7473086068676891,-0.06390385057859259,1.411752606998454,0.9490293076629773,0.009991847913236184,0.673086587444426,-0.12972617508859452,-1.4564557150623647,0.36259057467603667,-1.0036754215214432,-0.9933192141036302,-0.8830959235342006,0.0068193462280179895,0.7529614687362064,0.4431679290600762,0.7558262294932983,-1.87289174236139,2.6694207476365075,-0.03194188108580788,-1.1825587513883815,-0.6013875741485867,0.7019085379263506,-0.16891436238867008,-1.3841323134554913,1.5394640870582705,0.8545201128569784,0.8007369757347785],\"yaxis\":\"y7\"},{\"line\":{\"color\":\"rgba(128, 128, 128, 1.0)\",\"dash\":\"solid\",\"shape\":\"linear\",\"width\":1.3},\"marker\":{\"size\":2,\"symbol\":\"circle\"},\"mode\":\"markers\",\"name\":\"B\",\"text\":\"\",\"type\":\"scatter\",\"x\":[1.3176171729312272,-0.9834880323385257,0.6411961838907011,0.669110779707614,0.6909807029692084,-0.4721750437619172,0.9276671831585144,0.004224855025634071,1.5855609956540089,-2.362573108645685,1.449613773680825,0.08392393763461577,1.4106686705608238,-0.14437037332746172,-1.3328496798693938,-0.37652589035939366,-0.4946055490266074,0.31911727130119266,-0.47358087026724893,0.16505353040464632,1.5140781357842468,0.8549407420138733,0.9997998467684753,-0.4938509276561391,0.10886655189684685,-0.45338661443259165,0.801666642873236,-0.10292637171679458,0.1762930848097405,-0.7435744978120609,-0.7828881051060924,-0.5449076415695722,-0.8829502763539031,-0.15656960504724496,-0.23525720483416326,-0.25459885591993897,-0.8960229288435273,-0.9809902582888329,-0.7603113561563828,-1.2892096628807506,0.6302925112779482,-0.3215614608890834,-0.45027111963134125,-0.32699236661256303,-0.9574633336697017,0.2646646949622887,-0.2821900739904608,-0.8968778040618786,-1.4277929316873632,-1.7956111453370855,-1.2976088427692183,-0.5530879697592308,0.3037174086766186,0.5556223777751071,1.7350025669748539,0.20697663508511632,-1.3913773527801154,1.5440766422195047,-0.6241203351108987,-1.923666382511092,0.4556263675530248,-0.349330977819222,-1.4393546206558492,-1.1811152857102594,-0.16930038167070804,-0.1292701898700492,1.037802622208697,0.8296283353615309,-0.9845185162741449,0.5701566902074574,1.6367428805438935,1.945251815442205,1.2840117045761732,-0.16430735928035567,1.1995560974603026,-1.0964725875195462,0.041578630666224685,0.3944469773059546,0.10880517897135732,0.35052365302338484,1.0006118784343434,0.7794816871241417,-0.42771077868518786,-0.4656016344090984,-0.0938138734703827,-1.1208302944841384,0.10526049306349472,0.24486250243615648,-0.8260289717409693,-0.3229038089718978,-0.8161886246811139,0.7359278700604573,-2.053293054572988,-0.7748654206211201,0.7264382231948154,0.3300205040387262,-0.24818884797599722,-0.9396493198859207,1.0587748727876582,0.005321853681144137],\"xaxis\":\"x8\",\"y\":[-0.2217291443388921,-1.2371542355520193,0.8123200317942653,1.2443210913177807,0.15665068302727347,-0.49601188309501854,-1.5674118452306314,0.8681936946504126,-2.1588947361277944,0.004523669014418451,0.2224144998784712,-1.2047967088202578,-0.48311376209050955,0.5263364911407737,-0.6581025306060428,0.5859815825235286,1.2843285937087179,2.644736009199112,0.6686205905210374,0.41822294352248607,-1.0881429265518046,-0.2848994852918314,-1.0361040136959085,-0.43236691856491044,-1.2151060705229921,-1.0535802751145777,-1.7101393540602814,0.13700496725160327,-0.03639404936203314,-1.167416774354088,1.242824173634307,0.7555947464871007,-0.2358954009781537,1.7245172324003295,0.011408650486823966,1.468500443226724,-1.087452184127168,0.31587470047464566,-0.64965102521893,-0.18741629301066062,0.8643789608770887,0.1374916054046593,0.984915590803966,-0.5749850827580681,-0.31367705412547175,0.43808758668803777,0.5237444006175169,-1.933200354258214,0.24285826858388612,1.0770527002311396,0.8642237475271446,-2.8026546155389527,-1.269688258045194,0.13818859955011006,-0.7032899314435153,-1.6489195836048638,-0.10259177038998696,1.4542546939122745,-0.5144024244857891,-0.16761985394816561,0.18057974799115853,0.9153792574175322,-1.5625254164314404,0.7275749276372556,-0.8410916716639276,1.9702443659279567,1.0105656117288755,-0.33011431585845263,0.05896025014420832,-0.6182716108350788,-1.9307322255876471,-0.423044638561435,0.8242161598940201,0.7473086068676891,-0.06390385057859259,1.411752606998454,0.9490293076629773,0.009991847913236184,0.673086587444426,-0.12972617508859452,-1.4564557150623647,0.36259057467603667,-1.0036754215214432,-0.9933192141036302,-0.8830959235342006,0.0068193462280179895,0.7529614687362064,0.4431679290600762,0.7558262294932983,-1.87289174236139,2.6694207476365075,-0.03194188108580788,-1.1825587513883815,-0.6013875741485867,0.7019085379263506,-0.16891436238867008,-1.3841323134554913,1.5394640870582705,0.8545201128569784,0.8007369757347785],\"yaxis\":\"y8\"},{\"line\":{\"color\":\"rgba(128, 128, 128, 1.0)\",\"dash\":\"solid\",\"shape\":\"linear\",\"width\":1.3},\"marker\":{\"size\":2,\"symbol\":\"circle\"},\"mode\":\"markers\",\"name\":\"C\",\"text\":\"\",\"type\":\"scatter\",\"x\":[0.6754782943325655,0.5676345968842824,0.1328881905375589,1.5598060655336465,0.20155851821828127,-0.1704342005504423,1.6382714620922407,0.5960123218986514,-1.3967502608685103,-0.4175266016308763,-1.4622195465874601,-0.4418238211952053,-0.9396201592840361,-0.13826138272671448,-0.8850161103888932,1.8504189241059084,-0.5670395261360621,-0.4512300334792727,-1.3659730557435033,-2.2195698637480628,0.3537368438916856,0.8011510663127747,0.9158535282283714,-0.10090839994435542,0.5197315429475056,0.542335737958651,-0.5888216723532752,-0.6521836708748141,-0.3603370324925614,-0.9552920009367587,-2.2849797147682933,0.4519183096797922,1.8842896639403863,1.1340897786363573,0.18372623294508642,-1.0237109171539454,-1.654003775689415,0.32167723924081354,1.2199528459728162,2.929925287765693,-0.8172173302082492,-1.6505368253468742,0.23446380237601086,0.36633509776946094,-1.410517557328883,-1.0885958183031015,1.41325542793449,-1.7040848451332873,0.03122408759234455,-0.32773165815662103,0.6662743949672889,-1.3245476957372868,-0.17648115279437038,0.5131658131312273,0.6254611583947094,-0.9504172530455163,-0.38056513766120054,-1.610980503470945,0.3138510000800175,1.2297882444657389,2.0612538048066784,1.7240572041477948,-0.7228253590566479,0.94310349502881,-2.011162597259447,-0.958977057005299,1.2929502033458233,1.1732776407222958,1.0006976463240154,0.07796519762881553,-0.4987650476806753,0.9764184595883123,-0.014106945313026645,1.5428496733376793,-1.091952698664168,0.4782947233641637,0.2752500905442413,-1.970375548198486,2.0526149916013905,-0.5355825007775484,0.7545279930637657,0.2863047840180115,-1.4025937393898347,0.9342278828335764,0.5624839596099094,1.1447907551414858,0.08961360380327707,-0.4817073117416022,-0.6319061449787831,2.343257288835841,-0.5589302132661069,0.7941564694900235,-0.6152341400737853,0.8544116644485762,0.41297969806072243,1.613308547129756,-0.19679692672583227,-0.2252424721695863,-1.101041110660023,-1.9043054451684438],\"xaxis\":\"x9\",\"y\":[0.0784437314920932,-0.6274683178765565,0.5298269773625096,-0.026204610060682528,1.37969563905112,-0.8000786645365066,-0.2711977325666523,1.4726782220970804,-0.1547773948945247,0.36473944640186384,-0.08429883514455458,-1.5515062481753192,0.03205552259490915,1.2123548956418295,0.43058253591239376,-0.031117297861683987,1.2414500049237107,-0.8518608567833222,1.3288784861201977,1.439038188138787,2.0834823106921867,-0.13951482153101846,-0.16750640075993256,-2.596922050001098,-1.0344366694712204,0.3874677675410941,0.5300976846874239,0.2650623034781403,1.123632155716323,-1.5572785478146938,0.9594542248327607,-1.2557351597027717,-1.8360982088841002,-0.24171184000833357,1.4535229764820388,0.8434778332317928,-0.1390979275451528,1.4824149640051818,0.45160359629458197,1.2539319476365436,0.5844252340197015,0.10182632011854167,1.3062137404946352,-1.6230105028452513,0.3566611284157468,1.7308316510693198,-0.06209698721137085,0.3939301904060206,0.20960382548586007,-1.3716340073257205,0.2504460076052671,-0.40946158043083053,-0.21669459044608314,-1.3113978351731204,0.7301680983005864,1.6659322095726434,0.08792943985079187,-0.7318878119568767,-0.1752586144857245,0.5437074109358785,1.3754837271082254,-0.7535874213950295,-0.5878948226418345,-0.3610536843703974,1.5204262409258733,-0.43322783712311214,0.8035654301932148,-1.363808961916895,-0.3544827133614749,1.815037702042949,-0.010765358664600296,0.2633014458669041,1.9722229163077225,-0.04229984248442153,-0.723068086967317,-2.0357774272091373,-0.6350456554823967,0.45584953161270303,0.9067616582640229,1.5480251312081699,-0.9928566495105056,-1.28321428258695,0.14135966092114852,0.3578602496552667,-1.488692412653754,0.028263269062368666,0.33757401829189343,-0.7603609722621759,-0.3598963718688637,-2.1381875920361053,-0.7976158836639305,-0.7812095188111328,-0.3107933341853249,-0.4971599535565136,0.6180616657471829,-1.7780361709837333,2.408104100772878,0.6351956483184322,-0.12947334443327432,-1.081991236502051],\"yaxis\":\"y9\"},{\"line\":{\"color\":\"rgba(128, 128, 128, 1.0)\",\"dash\":\"solid\",\"shape\":\"linear\",\"width\":1.3},\"marker\":{\"size\":2,\"symbol\":\"circle\"},\"mode\":\"markers\",\"name\":\"C\",\"text\":\"\",\"type\":\"scatter\",\"x\":[-0.2217291443388921,-1.2371542355520193,0.8123200317942653,1.2443210913177807,0.15665068302727347,-0.49601188309501854,-1.5674118452306314,0.8681936946504126,-2.1588947361277944,0.004523669014418451,0.2224144998784712,-1.2047967088202578,-0.48311376209050955,0.5263364911407737,-0.6581025306060428,0.5859815825235286,1.2843285937087179,2.644736009199112,0.6686205905210374,0.41822294352248607,-1.0881429265518046,-0.2848994852918314,-1.0361040136959085,-0.43236691856491044,-1.2151060705229921,-1.0535802751145777,-1.7101393540602814,0.13700496725160327,-0.03639404936203314,-1.167416774354088,1.242824173634307,0.7555947464871007,-0.2358954009781537,1.7245172324003295,0.011408650486823966,1.468500443226724,-1.087452184127168,0.31587470047464566,-0.64965102521893,-0.18741629301066062,0.8643789608770887,0.1374916054046593,0.984915590803966,-0.5749850827580681,-0.31367705412547175,0.43808758668803777,0.5237444006175169,-1.933200354258214,0.24285826858388612,1.0770527002311396,0.8642237475271446,-2.8026546155389527,-1.269688258045194,0.13818859955011006,-0.7032899314435153,-1.6489195836048638,-0.10259177038998696,1.4542546939122745,-0.5144024244857891,-0.16761985394816561,0.18057974799115853,0.9153792574175322,-1.5625254164314404,0.7275749276372556,-0.8410916716639276,1.9702443659279567,1.0105656117288755,-0.33011431585845263,0.05896025014420832,-0.6182716108350788,-1.9307322255876471,-0.423044638561435,0.8242161598940201,0.7473086068676891,-0.06390385057859259,1.411752606998454,0.9490293076629773,0.009991847913236184,0.673086587444426,-0.12972617508859452,-1.4564557150623647,0.36259057467603667,-1.0036754215214432,-0.9933192141036302,-0.8830959235342006,0.0068193462280179895,0.7529614687362064,0.4431679290600762,0.7558262294932983,-1.87289174236139,2.6694207476365075,-0.03194188108580788,-1.1825587513883815,-0.6013875741485867,0.7019085379263506,-0.16891436238867008,-1.3841323134554913,1.5394640870582705,0.8545201128569784,0.8007369757347785],\"xaxis\":\"x10\",\"y\":[0.0784437314920932,-0.6274683178765565,0.5298269773625096,-0.026204610060682528,1.37969563905112,-0.8000786645365066,-0.2711977325666523,1.4726782220970804,-0.1547773948945247,0.36473944640186384,-0.08429883514455458,-1.5515062481753192,0.03205552259490915,1.2123548956418295,0.43058253591239376,-0.031117297861683987,1.2414500049237107,-0.8518608567833222,1.3288784861201977,1.439038188138787,2.0834823106921867,-0.13951482153101846,-0.16750640075993256,-2.596922050001098,-1.0344366694712204,0.3874677675410941,0.5300976846874239,0.2650623034781403,1.123632155716323,-1.5572785478146938,0.9594542248327607,-1.2557351597027717,-1.8360982088841002,-0.24171184000833357,1.4535229764820388,0.8434778332317928,-0.1390979275451528,1.4824149640051818,0.45160359629458197,1.2539319476365436,0.5844252340197015,0.10182632011854167,1.3062137404946352,-1.6230105028452513,0.3566611284157468,1.7308316510693198,-0.06209698721137085,0.3939301904060206,0.20960382548586007,-1.3716340073257205,0.2504460076052671,-0.40946158043083053,-0.21669459044608314,-1.3113978351731204,0.7301680983005864,1.6659322095726434,0.08792943985079187,-0.7318878119568767,-0.1752586144857245,0.5437074109358785,1.3754837271082254,-0.7535874213950295,-0.5878948226418345,-0.3610536843703974,1.5204262409258733,-0.43322783712311214,0.8035654301932148,-1.363808961916895,-0.3544827133614749,1.815037702042949,-0.010765358664600296,0.2633014458669041,1.9722229163077225,-0.04229984248442153,-0.723068086967317,-2.0357774272091373,-0.6350456554823967,0.45584953161270303,0.9067616582640229,1.5480251312081699,-0.9928566495105056,-1.28321428258695,0.14135966092114852,0.3578602496552667,-1.488692412653754,0.028263269062368666,0.33757401829189343,-0.7603609722621759,-0.3598963718688637,-2.1381875920361053,-0.7976158836639305,-0.7812095188111328,-0.3107933341853249,-0.4971599535565136,0.6180616657471829,-1.7780361709837333,2.408104100772878,0.6351956483184322,-0.12947334443327432,-1.081991236502051],\"yaxis\":\"y10\"},{\"histfunc\":\"count\",\"histnorm\":\"\",\"marker\":{\"color\":\"rgba(50, 171, 96, 1.0)\",\"line\":{\"color\":\"#4D5663\",\"width\":1.3}},\"name\":\"C\",\"nbinsx\":10,\"opacity\":0.8,\"orientation\":\"v\",\"type\":\"histogram\",\"x\":[0.0784437314920932,-0.6274683178765565,0.5298269773625096,-0.026204610060682528,1.37969563905112,-0.8000786645365066,-0.2711977325666523,1.4726782220970804,-0.1547773948945247,0.36473944640186384,-0.08429883514455458,-1.5515062481753192,0.03205552259490915,1.2123548956418295,0.43058253591239376,-0.031117297861683987,1.2414500049237107,-0.8518608567833222,1.3288784861201977,1.439038188138787,2.0834823106921867,-0.13951482153101846,-0.16750640075993256,-2.596922050001098,-1.0344366694712204,0.3874677675410941,0.5300976846874239,0.2650623034781403,1.123632155716323,-1.5572785478146938,0.9594542248327607,-1.2557351597027717,-1.8360982088841002,-0.24171184000833357,1.4535229764820388,0.8434778332317928,-0.1390979275451528,1.4824149640051818,0.45160359629458197,1.2539319476365436,0.5844252340197015,0.10182632011854167,1.3062137404946352,-1.6230105028452513,0.3566611284157468,1.7308316510693198,-0.06209698721137085,0.3939301904060206,0.20960382548586007,-1.3716340073257205,0.2504460076052671,-0.40946158043083053,-0.21669459044608314,-1.3113978351731204,0.7301680983005864,1.6659322095726434,0.08792943985079187,-0.7318878119568767,-0.1752586144857245,0.5437074109358785,1.3754837271082254,-0.7535874213950295,-0.5878948226418345,-0.3610536843703974,1.5204262409258733,-0.43322783712311214,0.8035654301932148,-1.363808961916895,-0.3544827133614749,1.815037702042949,-0.010765358664600296,0.2633014458669041,1.9722229163077225,-0.04229984248442153,-0.723068086967317,-2.0357774272091373,-0.6350456554823967,0.45584953161270303,0.9067616582640229,1.5480251312081699,-0.9928566495105056,-1.28321428258695,0.14135966092114852,0.3578602496552667,-1.488692412653754,0.028263269062368666,0.33757401829189343,-0.7603609722621759,-0.3598963718688637,-2.1381875920361053,-0.7976158836639305,-0.7812095188111328,-0.3107933341853249,-0.4971599535565136,0.6180616657471829,-1.7780361709837333,2.408104100772878,0.6351956483184322,-0.12947334443327432,-1.081991236502051],\"xaxis\":\"x11\",\"yaxis\":\"y11\"},{\"line\":{\"color\":\"rgba(128, 128, 128, 1.0)\",\"dash\":\"solid\",\"shape\":\"linear\",\"width\":1.3},\"marker\":{\"size\":2,\"symbol\":\"circle\"},\"mode\":\"markers\",\"name\":\"C\",\"text\":\"\",\"type\":\"scatter\",\"x\":[1.3176171729312272,-0.9834880323385257,0.6411961838907011,0.669110779707614,0.6909807029692084,-0.4721750437619172,0.9276671831585144,0.004224855025634071,1.5855609956540089,-2.362573108645685,1.449613773680825,0.08392393763461577,1.4106686705608238,-0.14437037332746172,-1.3328496798693938,-0.37652589035939366,-0.4946055490266074,0.31911727130119266,-0.47358087026724893,0.16505353040464632,1.5140781357842468,0.8549407420138733,0.9997998467684753,-0.4938509276561391,0.10886655189684685,-0.45338661443259165,0.801666642873236,-0.10292637171679458,0.1762930848097405,-0.7435744978120609,-0.7828881051060924,-0.5449076415695722,-0.8829502763539031,-0.15656960504724496,-0.23525720483416326,-0.25459885591993897,-0.8960229288435273,-0.9809902582888329,-0.7603113561563828,-1.2892096628807506,0.6302925112779482,-0.3215614608890834,-0.45027111963134125,-0.32699236661256303,-0.9574633336697017,0.2646646949622887,-0.2821900739904608,-0.8968778040618786,-1.4277929316873632,-1.7956111453370855,-1.2976088427692183,-0.5530879697592308,0.3037174086766186,0.5556223777751071,1.7350025669748539,0.20697663508511632,-1.3913773527801154,1.5440766422195047,-0.6241203351108987,-1.923666382511092,0.4556263675530248,-0.349330977819222,-1.4393546206558492,-1.1811152857102594,-0.16930038167070804,-0.1292701898700492,1.037802622208697,0.8296283353615309,-0.9845185162741449,0.5701566902074574,1.6367428805438935,1.945251815442205,1.2840117045761732,-0.16430735928035567,1.1995560974603026,-1.0964725875195462,0.041578630666224685,0.3944469773059546,0.10880517897135732,0.35052365302338484,1.0006118784343434,0.7794816871241417,-0.42771077868518786,-0.4656016344090984,-0.0938138734703827,-1.1208302944841384,0.10526049306349472,0.24486250243615648,-0.8260289717409693,-0.3229038089718978,-0.8161886246811139,0.7359278700604573,-2.053293054572988,-0.7748654206211201,0.7264382231948154,0.3300205040387262,-0.24818884797599722,-0.9396493198859207,1.0587748727876582,0.005321853681144137],\"xaxis\":\"x12\",\"y\":[0.0784437314920932,-0.6274683178765565,0.5298269773625096,-0.026204610060682528,1.37969563905112,-0.8000786645365066,-0.2711977325666523,1.4726782220970804,-0.1547773948945247,0.36473944640186384,-0.08429883514455458,-1.5515062481753192,0.03205552259490915,1.2123548956418295,0.43058253591239376,-0.031117297861683987,1.2414500049237107,-0.8518608567833222,1.3288784861201977,1.439038188138787,2.0834823106921867,-0.13951482153101846,-0.16750640075993256,-2.596922050001098,-1.0344366694712204,0.3874677675410941,0.5300976846874239,0.2650623034781403,1.123632155716323,-1.5572785478146938,0.9594542248327607,-1.2557351597027717,-1.8360982088841002,-0.24171184000833357,1.4535229764820388,0.8434778332317928,-0.1390979275451528,1.4824149640051818,0.45160359629458197,1.2539319476365436,0.5844252340197015,0.10182632011854167,1.3062137404946352,-1.6230105028452513,0.3566611284157468,1.7308316510693198,-0.06209698721137085,0.3939301904060206,0.20960382548586007,-1.3716340073257205,0.2504460076052671,-0.40946158043083053,-0.21669459044608314,-1.3113978351731204,0.7301680983005864,1.6659322095726434,0.08792943985079187,-0.7318878119568767,-0.1752586144857245,0.5437074109358785,1.3754837271082254,-0.7535874213950295,-0.5878948226418345,-0.3610536843703974,1.5204262409258733,-0.43322783712311214,0.8035654301932148,-1.363808961916895,-0.3544827133614749,1.815037702042949,-0.010765358664600296,0.2633014458669041,1.9722229163077225,-0.04229984248442153,-0.723068086967317,-2.0357774272091373,-0.6350456554823967,0.45584953161270303,0.9067616582640229,1.5480251312081699,-0.9928566495105056,-1.28321428258695,0.14135966092114852,0.3578602496552667,-1.488692412653754,0.028263269062368666,0.33757401829189343,-0.7603609722621759,-0.3598963718688637,-2.1381875920361053,-0.7976158836639305,-0.7812095188111328,-0.3107933341853249,-0.4971599535565136,0.6180616657471829,-1.7780361709837333,2.408104100772878,0.6351956483184322,-0.12947334443327432,-1.081991236502051],\"yaxis\":\"y12\"},{\"line\":{\"color\":\"rgba(128, 128, 128, 1.0)\",\"dash\":\"solid\",\"shape\":\"linear\",\"width\":1.3},\"marker\":{\"size\":2,\"symbol\":\"circle\"},\"mode\":\"markers\",\"name\":\"D\",\"text\":\"\",\"type\":\"scatter\",\"x\":[0.6754782943325655,0.5676345968842824,0.1328881905375589,1.5598060655336465,0.20155851821828127,-0.1704342005504423,1.6382714620922407,0.5960123218986514,-1.3967502608685103,-0.4175266016308763,-1.4622195465874601,-0.4418238211952053,-0.9396201592840361,-0.13826138272671448,-0.8850161103888932,1.8504189241059084,-0.5670395261360621,-0.4512300334792727,-1.3659730557435033,-2.2195698637480628,0.3537368438916856,0.8011510663127747,0.9158535282283714,-0.10090839994435542,0.5197315429475056,0.542335737958651,-0.5888216723532752,-0.6521836708748141,-0.3603370324925614,-0.9552920009367587,-2.2849797147682933,0.4519183096797922,1.8842896639403863,1.1340897786363573,0.18372623294508642,-1.0237109171539454,-1.654003775689415,0.32167723924081354,1.2199528459728162,2.929925287765693,-0.8172173302082492,-1.6505368253468742,0.23446380237601086,0.36633509776946094,-1.410517557328883,-1.0885958183031015,1.41325542793449,-1.7040848451332873,0.03122408759234455,-0.32773165815662103,0.6662743949672889,-1.3245476957372868,-0.17648115279437038,0.5131658131312273,0.6254611583947094,-0.9504172530455163,-0.38056513766120054,-1.610980503470945,0.3138510000800175,1.2297882444657389,2.0612538048066784,1.7240572041477948,-0.7228253590566479,0.94310349502881,-2.011162597259447,-0.958977057005299,1.2929502033458233,1.1732776407222958,1.0006976463240154,0.07796519762881553,-0.4987650476806753,0.9764184595883123,-0.014106945313026645,1.5428496733376793,-1.091952698664168,0.4782947233641637,0.2752500905442413,-1.970375548198486,2.0526149916013905,-0.5355825007775484,0.7545279930637657,0.2863047840180115,-1.4025937393898347,0.9342278828335764,0.5624839596099094,1.1447907551414858,0.08961360380327707,-0.4817073117416022,-0.6319061449787831,2.343257288835841,-0.5589302132661069,0.7941564694900235,-0.6152341400737853,0.8544116644485762,0.41297969806072243,1.613308547129756,-0.19679692672583227,-0.2252424721695863,-1.101041110660023,-1.9043054451684438],\"xaxis\":\"x13\",\"y\":[1.3176171729312272,-0.9834880323385257,0.6411961838907011,0.669110779707614,0.6909807029692084,-0.4721750437619172,0.9276671831585144,0.004224855025634071,1.5855609956540089,-2.362573108645685,1.449613773680825,0.08392393763461577,1.4106686705608238,-0.14437037332746172,-1.3328496798693938,-0.37652589035939366,-0.4946055490266074,0.31911727130119266,-0.47358087026724893,0.16505353040464632,1.5140781357842468,0.8549407420138733,0.9997998467684753,-0.4938509276561391,0.10886655189684685,-0.45338661443259165,0.801666642873236,-0.10292637171679458,0.1762930848097405,-0.7435744978120609,-0.7828881051060924,-0.5449076415695722,-0.8829502763539031,-0.15656960504724496,-0.23525720483416326,-0.25459885591993897,-0.8960229288435273,-0.9809902582888329,-0.7603113561563828,-1.2892096628807506,0.6302925112779482,-0.3215614608890834,-0.45027111963134125,-0.32699236661256303,-0.9574633336697017,0.2646646949622887,-0.2821900739904608,-0.8968778040618786,-1.4277929316873632,-1.7956111453370855,-1.2976088427692183,-0.5530879697592308,0.3037174086766186,0.5556223777751071,1.7350025669748539,0.20697663508511632,-1.3913773527801154,1.5440766422195047,-0.6241203351108987,-1.923666382511092,0.4556263675530248,-0.349330977819222,-1.4393546206558492,-1.1811152857102594,-0.16930038167070804,-0.1292701898700492,1.037802622208697,0.8296283353615309,-0.9845185162741449,0.5701566902074574,1.6367428805438935,1.945251815442205,1.2840117045761732,-0.16430735928035567,1.1995560974603026,-1.0964725875195462,0.041578630666224685,0.3944469773059546,0.10880517897135732,0.35052365302338484,1.0006118784343434,0.7794816871241417,-0.42771077868518786,-0.4656016344090984,-0.0938138734703827,-1.1208302944841384,0.10526049306349472,0.24486250243615648,-0.8260289717409693,-0.3229038089718978,-0.8161886246811139,0.7359278700604573,-2.053293054572988,-0.7748654206211201,0.7264382231948154,0.3300205040387262,-0.24818884797599722,-0.9396493198859207,1.0587748727876582,0.005321853681144137],\"yaxis\":\"y13\"},{\"line\":{\"color\":\"rgba(128, 128, 128, 1.0)\",\"dash\":\"solid\",\"shape\":\"linear\",\"width\":1.3},\"marker\":{\"size\":2,\"symbol\":\"circle\"},\"mode\":\"markers\",\"name\":\"D\",\"text\":\"\",\"type\":\"scatter\",\"x\":[-0.2217291443388921,-1.2371542355520193,0.8123200317942653,1.2443210913177807,0.15665068302727347,-0.49601188309501854,-1.5674118452306314,0.8681936946504126,-2.1588947361277944,0.004523669014418451,0.2224144998784712,-1.2047967088202578,-0.48311376209050955,0.5263364911407737,-0.6581025306060428,0.5859815825235286,1.2843285937087179,2.644736009199112,0.6686205905210374,0.41822294352248607,-1.0881429265518046,-0.2848994852918314,-1.0361040136959085,-0.43236691856491044,-1.2151060705229921,-1.0535802751145777,-1.7101393540602814,0.13700496725160327,-0.03639404936203314,-1.167416774354088,1.242824173634307,0.7555947464871007,-0.2358954009781537,1.7245172324003295,0.011408650486823966,1.468500443226724,-1.087452184127168,0.31587470047464566,-0.64965102521893,-0.18741629301066062,0.8643789608770887,0.1374916054046593,0.984915590803966,-0.5749850827580681,-0.31367705412547175,0.43808758668803777,0.5237444006175169,-1.933200354258214,0.24285826858388612,1.0770527002311396,0.8642237475271446,-2.8026546155389527,-1.269688258045194,0.13818859955011006,-0.7032899314435153,-1.6489195836048638,-0.10259177038998696,1.4542546939122745,-0.5144024244857891,-0.16761985394816561,0.18057974799115853,0.9153792574175322,-1.5625254164314404,0.7275749276372556,-0.8410916716639276,1.9702443659279567,1.0105656117288755,-0.33011431585845263,0.05896025014420832,-0.6182716108350788,-1.9307322255876471,-0.423044638561435,0.8242161598940201,0.7473086068676891,-0.06390385057859259,1.411752606998454,0.9490293076629773,0.009991847913236184,0.673086587444426,-0.12972617508859452,-1.4564557150623647,0.36259057467603667,-1.0036754215214432,-0.9933192141036302,-0.8830959235342006,0.0068193462280179895,0.7529614687362064,0.4431679290600762,0.7558262294932983,-1.87289174236139,2.6694207476365075,-0.03194188108580788,-1.1825587513883815,-0.6013875741485867,0.7019085379263506,-0.16891436238867008,-1.3841323134554913,1.5394640870582705,0.8545201128569784,0.8007369757347785],\"xaxis\":\"x14\",\"y\":[1.3176171729312272,-0.9834880323385257,0.6411961838907011,0.669110779707614,0.6909807029692084,-0.4721750437619172,0.9276671831585144,0.004224855025634071,1.5855609956540089,-2.362573108645685,1.449613773680825,0.08392393763461577,1.4106686705608238,-0.14437037332746172,-1.3328496798693938,-0.37652589035939366,-0.4946055490266074,0.31911727130119266,-0.47358087026724893,0.16505353040464632,1.5140781357842468,0.8549407420138733,0.9997998467684753,-0.4938509276561391,0.10886655189684685,-0.45338661443259165,0.801666642873236,-0.10292637171679458,0.1762930848097405,-0.7435744978120609,-0.7828881051060924,-0.5449076415695722,-0.8829502763539031,-0.15656960504724496,-0.23525720483416326,-0.25459885591993897,-0.8960229288435273,-0.9809902582888329,-0.7603113561563828,-1.2892096628807506,0.6302925112779482,-0.3215614608890834,-0.45027111963134125,-0.32699236661256303,-0.9574633336697017,0.2646646949622887,-0.2821900739904608,-0.8968778040618786,-1.4277929316873632,-1.7956111453370855,-1.2976088427692183,-0.5530879697592308,0.3037174086766186,0.5556223777751071,1.7350025669748539,0.20697663508511632,-1.3913773527801154,1.5440766422195047,-0.6241203351108987,-1.923666382511092,0.4556263675530248,-0.349330977819222,-1.4393546206558492,-1.1811152857102594,-0.16930038167070804,-0.1292701898700492,1.037802622208697,0.8296283353615309,-0.9845185162741449,0.5701566902074574,1.6367428805438935,1.945251815442205,1.2840117045761732,-0.16430735928035567,1.1995560974603026,-1.0964725875195462,0.041578630666224685,0.3944469773059546,0.10880517897135732,0.35052365302338484,1.0006118784343434,0.7794816871241417,-0.42771077868518786,-0.4656016344090984,-0.0938138734703827,-1.1208302944841384,0.10526049306349472,0.24486250243615648,-0.8260289717409693,-0.3229038089718978,-0.8161886246811139,0.7359278700604573,-2.053293054572988,-0.7748654206211201,0.7264382231948154,0.3300205040387262,-0.24818884797599722,-0.9396493198859207,1.0587748727876582,0.005321853681144137],\"yaxis\":\"y14\"},{\"line\":{\"color\":\"rgba(128, 128, 128, 1.0)\",\"dash\":\"solid\",\"shape\":\"linear\",\"width\":1.3},\"marker\":{\"size\":2,\"symbol\":\"circle\"},\"mode\":\"markers\",\"name\":\"D\",\"text\":\"\",\"type\":\"scatter\",\"x\":[0.0784437314920932,-0.6274683178765565,0.5298269773625096,-0.026204610060682528,1.37969563905112,-0.8000786645365066,-0.2711977325666523,1.4726782220970804,-0.1547773948945247,0.36473944640186384,-0.08429883514455458,-1.5515062481753192,0.03205552259490915,1.2123548956418295,0.43058253591239376,-0.031117297861683987,1.2414500049237107,-0.8518608567833222,1.3288784861201977,1.439038188138787,2.0834823106921867,-0.13951482153101846,-0.16750640075993256,-2.596922050001098,-1.0344366694712204,0.3874677675410941,0.5300976846874239,0.2650623034781403,1.123632155716323,-1.5572785478146938,0.9594542248327607,-1.2557351597027717,-1.8360982088841002,-0.24171184000833357,1.4535229764820388,0.8434778332317928,-0.1390979275451528,1.4824149640051818,0.45160359629458197,1.2539319476365436,0.5844252340197015,0.10182632011854167,1.3062137404946352,-1.6230105028452513,0.3566611284157468,1.7308316510693198,-0.06209698721137085,0.3939301904060206,0.20960382548586007,-1.3716340073257205,0.2504460076052671,-0.40946158043083053,-0.21669459044608314,-1.3113978351731204,0.7301680983005864,1.6659322095726434,0.08792943985079187,-0.7318878119568767,-0.1752586144857245,0.5437074109358785,1.3754837271082254,-0.7535874213950295,-0.5878948226418345,-0.3610536843703974,1.5204262409258733,-0.43322783712311214,0.8035654301932148,-1.363808961916895,-0.3544827133614749,1.815037702042949,-0.010765358664600296,0.2633014458669041,1.9722229163077225,-0.04229984248442153,-0.723068086967317,-2.0357774272091373,-0.6350456554823967,0.45584953161270303,0.9067616582640229,1.5480251312081699,-0.9928566495105056,-1.28321428258695,0.14135966092114852,0.3578602496552667,-1.488692412653754,0.028263269062368666,0.33757401829189343,-0.7603609722621759,-0.3598963718688637,-2.1381875920361053,-0.7976158836639305,-0.7812095188111328,-0.3107933341853249,-0.4971599535565136,0.6180616657471829,-1.7780361709837333,2.408104100772878,0.6351956483184322,-0.12947334443327432,-1.081991236502051],\"xaxis\":\"x15\",\"y\":[1.3176171729312272,-0.9834880323385257,0.6411961838907011,0.669110779707614,0.6909807029692084,-0.4721750437619172,0.9276671831585144,0.004224855025634071,1.5855609956540089,-2.362573108645685,1.449613773680825,0.08392393763461577,1.4106686705608238,-0.14437037332746172,-1.3328496798693938,-0.37652589035939366,-0.4946055490266074,0.31911727130119266,-0.47358087026724893,0.16505353040464632,1.5140781357842468,0.8549407420138733,0.9997998467684753,-0.4938509276561391,0.10886655189684685,-0.45338661443259165,0.801666642873236,-0.10292637171679458,0.1762930848097405,-0.7435744978120609,-0.7828881051060924,-0.5449076415695722,-0.8829502763539031,-0.15656960504724496,-0.23525720483416326,-0.25459885591993897,-0.8960229288435273,-0.9809902582888329,-0.7603113561563828,-1.2892096628807506,0.6302925112779482,-0.3215614608890834,-0.45027111963134125,-0.32699236661256303,-0.9574633336697017,0.2646646949622887,-0.2821900739904608,-0.8968778040618786,-1.4277929316873632,-1.7956111453370855,-1.2976088427692183,-0.5530879697592308,0.3037174086766186,0.5556223777751071,1.7350025669748539,0.20697663508511632,-1.3913773527801154,1.5440766422195047,-0.6241203351108987,-1.923666382511092,0.4556263675530248,-0.349330977819222,-1.4393546206558492,-1.1811152857102594,-0.16930038167070804,-0.1292701898700492,1.037802622208697,0.8296283353615309,-0.9845185162741449,0.5701566902074574,1.6367428805438935,1.945251815442205,1.2840117045761732,-0.16430735928035567,1.1995560974603026,-1.0964725875195462,0.041578630666224685,0.3944469773059546,0.10880517897135732,0.35052365302338484,1.0006118784343434,0.7794816871241417,-0.42771077868518786,-0.4656016344090984,-0.0938138734703827,-1.1208302944841384,0.10526049306349472,0.24486250243615648,-0.8260289717409693,-0.3229038089718978,-0.8161886246811139,0.7359278700604573,-2.053293054572988,-0.7748654206211201,0.7264382231948154,0.3300205040387262,-0.24818884797599722,-0.9396493198859207,1.0587748727876582,0.005321853681144137],\"yaxis\":\"y15\"},{\"histfunc\":\"count\",\"histnorm\":\"\",\"marker\":{\"color\":\"rgba(128, 0, 128, 1.0)\",\"line\":{\"color\":\"#4D5663\",\"width\":1.3}},\"name\":\"D\",\"nbinsx\":10,\"opacity\":0.8,\"orientation\":\"v\",\"type\":\"histogram\",\"x\":[1.3176171729312272,-0.9834880323385257,0.6411961838907011,0.669110779707614,0.6909807029692084,-0.4721750437619172,0.9276671831585144,0.004224855025634071,1.5855609956540089,-2.362573108645685,1.449613773680825,0.08392393763461577,1.4106686705608238,-0.14437037332746172,-1.3328496798693938,-0.37652589035939366,-0.4946055490266074,0.31911727130119266,-0.47358087026724893,0.16505353040464632,1.5140781357842468,0.8549407420138733,0.9997998467684753,-0.4938509276561391,0.10886655189684685,-0.45338661443259165,0.801666642873236,-0.10292637171679458,0.1762930848097405,-0.7435744978120609,-0.7828881051060924,-0.5449076415695722,-0.8829502763539031,-0.15656960504724496,-0.23525720483416326,-0.25459885591993897,-0.8960229288435273,-0.9809902582888329,-0.7603113561563828,-1.2892096628807506,0.6302925112779482,-0.3215614608890834,-0.45027111963134125,-0.32699236661256303,-0.9574633336697017,0.2646646949622887,-0.2821900739904608,-0.8968778040618786,-1.4277929316873632,-1.7956111453370855,-1.2976088427692183,-0.5530879697592308,0.3037174086766186,0.5556223777751071,1.7350025669748539,0.20697663508511632,-1.3913773527801154,1.5440766422195047,-0.6241203351108987,-1.923666382511092,0.4556263675530248,-0.349330977819222,-1.4393546206558492,-1.1811152857102594,-0.16930038167070804,-0.1292701898700492,1.037802622208697,0.8296283353615309,-0.9845185162741449,0.5701566902074574,1.6367428805438935,1.945251815442205,1.2840117045761732,-0.16430735928035567,1.1995560974603026,-1.0964725875195462,0.041578630666224685,0.3944469773059546,0.10880517897135732,0.35052365302338484,1.0006118784343434,0.7794816871241417,-0.42771077868518786,-0.4656016344090984,-0.0938138734703827,-1.1208302944841384,0.10526049306349472,0.24486250243615648,-0.8260289717409693,-0.3229038089718978,-0.8161886246811139,0.7359278700604573,-2.053293054572988,-0.7748654206211201,0.7264382231948154,0.3300205040387262,-0.24818884797599722,-0.9396493198859207,1.0587748727876582,0.005321853681144137],\"xaxis\":\"x16\",\"yaxis\":\"y16\"}],                        {\"bargap\":0.02,\"legend\":{\"bgcolor\":\"#F5F6F9\",\"font\":{\"color\":\"#4D5663\"}},\"paper_bgcolor\":\"#F5F6F9\",\"plot_bgcolor\":\"#F5F6F9\",\"showlegend\":false,\"template\":{\"data\":{\"bar\":[{\"error_x\":{\"color\":\"#2a3f5f\"},\"error_y\":{\"color\":\"#2a3f5f\"},\"marker\":{\"line\":{\"color\":\"#E5ECF6\",\"width\":0.5},\"pattern\":{\"fillmode\":\"overlay\",\"size\":10,\"solidity\":0.2}},\"type\":\"bar\"}],\"barpolar\":[{\"marker\":{\"line\":{\"color\":\"#E5ECF6\",\"width\":0.5},\"pattern\":{\"fillmode\":\"overlay\",\"size\":10,\"solidity\":0.2}},\"type\":\"barpolar\"}],\"carpet\":[{\"aaxis\":{\"endlinecolor\":\"#2a3f5f\",\"gridcolor\":\"white\",\"linecolor\":\"white\",\"minorgridcolor\":\"white\",\"startlinecolor\":\"#2a3f5f\"},\"baxis\":{\"endlinecolor\":\"#2a3f5f\",\"gridcolor\":\"white\",\"linecolor\":\"white\",\"minorgridcolor\":\"white\",\"startlinecolor\":\"#2a3f5f\"},\"type\":\"carpet\"}],\"choropleth\":[{\"colorbar\":{\"outlinewidth\":0,\"ticks\":\"\"},\"type\":\"choropleth\"}],\"contour\":[{\"colorbar\":{\"outlinewidth\":0,\"ticks\":\"\"},\"colorscale\":[[0.0,\"#0d0887\"],[0.1111111111111111,\"#46039f\"],[0.2222222222222222,\"#7201a8\"],[0.3333333333333333,\"#9c179e\"],[0.4444444444444444,\"#bd3786\"],[0.5555555555555556,\"#d8576b\"],[0.6666666666666666,\"#ed7953\"],[0.7777777777777778,\"#fb9f3a\"],[0.8888888888888888,\"#fdca26\"],[1.0,\"#f0f921\"]],\"type\":\"contour\"}],\"contourcarpet\":[{\"colorbar\":{\"outlinewidth\":0,\"ticks\":\"\"},\"type\":\"contourcarpet\"}],\"heatmap\":[{\"colorbar\":{\"outlinewidth\":0,\"ticks\":\"\"},\"colorscale\":[[0.0,\"#0d0887\"],[0.1111111111111111,\"#46039f\"],[0.2222222222222222,\"#7201a8\"],[0.3333333333333333,\"#9c179e\"],[0.4444444444444444,\"#bd3786\"],[0.5555555555555556,\"#d8576b\"],[0.6666666666666666,\"#ed7953\"],[0.7777777777777778,\"#fb9f3a\"],[0.8888888888888888,\"#fdca26\"],[1.0,\"#f0f921\"]],\"type\":\"heatmap\"}],\"heatmapgl\":[{\"colorbar\":{\"outlinewidth\":0,\"ticks\":\"\"},\"colorscale\":[[0.0,\"#0d0887\"],[0.1111111111111111,\"#46039f\"],[0.2222222222222222,\"#7201a8\"],[0.3333333333333333,\"#9c179e\"],[0.4444444444444444,\"#bd3786\"],[0.5555555555555556,\"#d8576b\"],[0.6666666666666666,\"#ed7953\"],[0.7777777777777778,\"#fb9f3a\"],[0.8888888888888888,\"#fdca26\"],[1.0,\"#f0f921\"]],\"type\":\"heatmapgl\"}],\"histogram\":[{\"marker\":{\"pattern\":{\"fillmode\":\"overlay\",\"size\":10,\"solidity\":0.2}},\"type\":\"histogram\"}],\"histogram2d\":[{\"colorbar\":{\"outlinewidth\":0,\"ticks\":\"\"},\"colorscale\":[[0.0,\"#0d0887\"],[0.1111111111111111,\"#46039f\"],[0.2222222222222222,\"#7201a8\"],[0.3333333333333333,\"#9c179e\"],[0.4444444444444444,\"#bd3786\"],[0.5555555555555556,\"#d8576b\"],[0.6666666666666666,\"#ed7953\"],[0.7777777777777778,\"#fb9f3a\"],[0.8888888888888888,\"#fdca26\"],[1.0,\"#f0f921\"]],\"type\":\"histogram2d\"}],\"histogram2dcontour\":[{\"colorbar\":{\"outlinewidth\":0,\"ticks\":\"\"},\"colorscale\":[[0.0,\"#0d0887\"],[0.1111111111111111,\"#46039f\"],[0.2222222222222222,\"#7201a8\"],[0.3333333333333333,\"#9c179e\"],[0.4444444444444444,\"#bd3786\"],[0.5555555555555556,\"#d8576b\"],[0.6666666666666666,\"#ed7953\"],[0.7777777777777778,\"#fb9f3a\"],[0.8888888888888888,\"#fdca26\"],[1.0,\"#f0f921\"]],\"type\":\"histogram2dcontour\"}],\"mesh3d\":[{\"colorbar\":{\"outlinewidth\":0,\"ticks\":\"\"},\"type\":\"mesh3d\"}],\"parcoords\":[{\"line\":{\"colorbar\":{\"outlinewidth\":0,\"ticks\":\"\"}},\"type\":\"parcoords\"}],\"pie\":[{\"automargin\":true,\"type\":\"pie\"}],\"scatter\":[{\"marker\":{\"colorbar\":{\"outlinewidth\":0,\"ticks\":\"\"}},\"type\":\"scatter\"}],\"scatter3d\":[{\"line\":{\"colorbar\":{\"outlinewidth\":0,\"ticks\":\"\"}},\"marker\":{\"colorbar\":{\"outlinewidth\":0,\"ticks\":\"\"}},\"type\":\"scatter3d\"}],\"scattercarpet\":[{\"marker\":{\"colorbar\":{\"outlinewidth\":0,\"ticks\":\"\"}},\"type\":\"scattercarpet\"}],\"scattergeo\":[{\"marker\":{\"colorbar\":{\"outlinewidth\":0,\"ticks\":\"\"}},\"type\":\"scattergeo\"}],\"scattergl\":[{\"marker\":{\"colorbar\":{\"outlinewidth\":0,\"ticks\":\"\"}},\"type\":\"scattergl\"}],\"scattermapbox\":[{\"marker\":{\"colorbar\":{\"outlinewidth\":0,\"ticks\":\"\"}},\"type\":\"scattermapbox\"}],\"scatterpolar\":[{\"marker\":{\"colorbar\":{\"outlinewidth\":0,\"ticks\":\"\"}},\"type\":\"scatterpolar\"}],\"scatterpolargl\":[{\"marker\":{\"colorbar\":{\"outlinewidth\":0,\"ticks\":\"\"}},\"type\":\"scatterpolargl\"}],\"scatterternary\":[{\"marker\":{\"colorbar\":{\"outlinewidth\":0,\"ticks\":\"\"}},\"type\":\"scatterternary\"}],\"surface\":[{\"colorbar\":{\"outlinewidth\":0,\"ticks\":\"\"},\"colorscale\":[[0.0,\"#0d0887\"],[0.1111111111111111,\"#46039f\"],[0.2222222222222222,\"#7201a8\"],[0.3333333333333333,\"#9c179e\"],[0.4444444444444444,\"#bd3786\"],[0.5555555555555556,\"#d8576b\"],[0.6666666666666666,\"#ed7953\"],[0.7777777777777778,\"#fb9f3a\"],[0.8888888888888888,\"#fdca26\"],[1.0,\"#f0f921\"]],\"type\":\"surface\"}],\"table\":[{\"cells\":{\"fill\":{\"color\":\"#EBF0F8\"},\"line\":{\"color\":\"white\"}},\"header\":{\"fill\":{\"color\":\"#C8D4E3\"},\"line\":{\"color\":\"white\"}},\"type\":\"table\"}]},\"layout\":{\"annotationdefaults\":{\"arrowcolor\":\"#2a3f5f\",\"arrowhead\":0,\"arrowwidth\":1},\"autotypenumbers\":\"strict\",\"coloraxis\":{\"colorbar\":{\"outlinewidth\":0,\"ticks\":\"\"}},\"colorscale\":{\"diverging\":[[0,\"#8e0152\"],[0.1,\"#c51b7d\"],[0.2,\"#de77ae\"],[0.3,\"#f1b6da\"],[0.4,\"#fde0ef\"],[0.5,\"#f7f7f7\"],[0.6,\"#e6f5d0\"],[0.7,\"#b8e186\"],[0.8,\"#7fbc41\"],[0.9,\"#4d9221\"],[1,\"#276419\"]],\"sequential\":[[0.0,\"#0d0887\"],[0.1111111111111111,\"#46039f\"],[0.2222222222222222,\"#7201a8\"],[0.3333333333333333,\"#9c179e\"],[0.4444444444444444,\"#bd3786\"],[0.5555555555555556,\"#d8576b\"],[0.6666666666666666,\"#ed7953\"],[0.7777777777777778,\"#fb9f3a\"],[0.8888888888888888,\"#fdca26\"],[1.0,\"#f0f921\"]],\"sequentialminus\":[[0.0,\"#0d0887\"],[0.1111111111111111,\"#46039f\"],[0.2222222222222222,\"#7201a8\"],[0.3333333333333333,\"#9c179e\"],[0.4444444444444444,\"#bd3786\"],[0.5555555555555556,\"#d8576b\"],[0.6666666666666666,\"#ed7953\"],[0.7777777777777778,\"#fb9f3a\"],[0.8888888888888888,\"#fdca26\"],[1.0,\"#f0f921\"]]},\"colorway\":[\"#636efa\",\"#EF553B\",\"#00cc96\",\"#ab63fa\",\"#FFA15A\",\"#19d3f3\",\"#FF6692\",\"#B6E880\",\"#FF97FF\",\"#FECB52\"],\"font\":{\"color\":\"#2a3f5f\"},\"geo\":{\"bgcolor\":\"white\",\"lakecolor\":\"white\",\"landcolor\":\"#E5ECF6\",\"showlakes\":true,\"showland\":true,\"subunitcolor\":\"white\"},\"hoverlabel\":{\"align\":\"left\"},\"hovermode\":\"closest\",\"mapbox\":{\"style\":\"light\"},\"paper_bgcolor\":\"white\",\"plot_bgcolor\":\"#E5ECF6\",\"polar\":{\"angularaxis\":{\"gridcolor\":\"white\",\"linecolor\":\"white\",\"ticks\":\"\"},\"bgcolor\":\"#E5ECF6\",\"radialaxis\":{\"gridcolor\":\"white\",\"linecolor\":\"white\",\"ticks\":\"\"}},\"scene\":{\"xaxis\":{\"backgroundcolor\":\"#E5ECF6\",\"gridcolor\":\"white\",\"gridwidth\":2,\"linecolor\":\"white\",\"showbackground\":true,\"ticks\":\"\",\"zerolinecolor\":\"white\"},\"yaxis\":{\"backgroundcolor\":\"#E5ECF6\",\"gridcolor\":\"white\",\"gridwidth\":2,\"linecolor\":\"white\",\"showbackground\":true,\"ticks\":\"\",\"zerolinecolor\":\"white\"},\"zaxis\":{\"backgroundcolor\":\"#E5ECF6\",\"gridcolor\":\"white\",\"gridwidth\":2,\"linecolor\":\"white\",\"showbackground\":true,\"ticks\":\"\",\"zerolinecolor\":\"white\"}},\"shapedefaults\":{\"line\":{\"color\":\"#2a3f5f\"}},\"ternary\":{\"aaxis\":{\"gridcolor\":\"white\",\"linecolor\":\"white\",\"ticks\":\"\"},\"baxis\":{\"gridcolor\":\"white\",\"linecolor\":\"white\",\"ticks\":\"\"},\"bgcolor\":\"#E5ECF6\",\"caxis\":{\"gridcolor\":\"white\",\"linecolor\":\"white\",\"ticks\":\"\"}},\"title\":{\"x\":0.05},\"xaxis\":{\"automargin\":true,\"gridcolor\":\"white\",\"linecolor\":\"white\",\"ticks\":\"\",\"title\":{\"standoff\":15},\"zerolinecolor\":\"white\",\"zerolinewidth\":2},\"yaxis\":{\"automargin\":true,\"gridcolor\":\"white\",\"linecolor\":\"white\",\"ticks\":\"\",\"title\":{\"standoff\":15},\"zerolinecolor\":\"white\",\"zerolinewidth\":2}}},\"title\":{\"font\":{\"color\":\"#4D5663\"}},\"xaxis\":{\"anchor\":\"y\",\"domain\":[0.0,0.2125],\"gridcolor\":\"#E1E5ED\",\"showgrid\":false,\"tickfont\":{\"color\":\"#4D5663\"},\"title\":{\"font\":{\"color\":\"#4D5663\"},\"text\":\"\"},\"zerolinecolor\":\"#E1E5ED\"},\"xaxis10\":{\"anchor\":\"y10\",\"domain\":[0.2625,0.475],\"gridcolor\":\"#E1E5ED\",\"showgrid\":false,\"tickfont\":{\"color\":\"#4D5663\"},\"title\":{\"font\":{\"color\":\"#4D5663\"},\"text\":\"\"},\"zerolinecolor\":\"#E1E5ED\"},\"xaxis11\":{\"anchor\":\"y11\",\"domain\":[0.525,0.7375],\"gridcolor\":\"#E1E5ED\",\"showgrid\":false,\"tickfont\":{\"color\":\"#4D5663\"},\"title\":{\"font\":{\"color\":\"#4D5663\"},\"text\":\"\"},\"zerolinecolor\":\"#E1E5ED\"},\"xaxis12\":{\"anchor\":\"y12\",\"domain\":[0.7875,1.0],\"gridcolor\":\"#E1E5ED\",\"showgrid\":false,\"tickfont\":{\"color\":\"#4D5663\"},\"title\":{\"font\":{\"color\":\"#4D5663\"},\"text\":\"\"},\"zerolinecolor\":\"#E1E5ED\"},\"xaxis13\":{\"anchor\":\"y13\",\"domain\":[0.0,0.2125],\"gridcolor\":\"#E1E5ED\",\"showgrid\":false,\"tickfont\":{\"color\":\"#4D5663\"},\"title\":{\"font\":{\"color\":\"#4D5663\"},\"text\":\"\"},\"zerolinecolor\":\"#E1E5ED\"},\"xaxis14\":{\"anchor\":\"y14\",\"domain\":[0.2625,0.475],\"gridcolor\":\"#E1E5ED\",\"showgrid\":false,\"tickfont\":{\"color\":\"#4D5663\"},\"title\":{\"font\":{\"color\":\"#4D5663\"},\"text\":\"\"},\"zerolinecolor\":\"#E1E5ED\"},\"xaxis15\":{\"anchor\":\"y15\",\"domain\":[0.525,0.7375],\"gridcolor\":\"#E1E5ED\",\"showgrid\":false,\"tickfont\":{\"color\":\"#4D5663\"},\"title\":{\"font\":{\"color\":\"#4D5663\"},\"text\":\"\"},\"zerolinecolor\":\"#E1E5ED\"},\"xaxis16\":{\"anchor\":\"y16\",\"domain\":[0.7875,1.0],\"gridcolor\":\"#E1E5ED\",\"showgrid\":false,\"tickfont\":{\"color\":\"#4D5663\"},\"title\":{\"font\":{\"color\":\"#4D5663\"},\"text\":\"\"},\"zerolinecolor\":\"#E1E5ED\"},\"xaxis2\":{\"anchor\":\"y2\",\"domain\":[0.2625,0.475],\"gridcolor\":\"#E1E5ED\",\"showgrid\":false,\"tickfont\":{\"color\":\"#4D5663\"},\"title\":{\"font\":{\"color\":\"#4D5663\"},\"text\":\"\"},\"zerolinecolor\":\"#E1E5ED\"},\"xaxis3\":{\"anchor\":\"y3\",\"domain\":[0.525,0.7375],\"gridcolor\":\"#E1E5ED\",\"showgrid\":false,\"tickfont\":{\"color\":\"#4D5663\"},\"title\":{\"font\":{\"color\":\"#4D5663\"},\"text\":\"\"},\"zerolinecolor\":\"#E1E5ED\"},\"xaxis4\":{\"anchor\":\"y4\",\"domain\":[0.7875,1.0],\"gridcolor\":\"#E1E5ED\",\"showgrid\":false,\"tickfont\":{\"color\":\"#4D5663\"},\"title\":{\"font\":{\"color\":\"#4D5663\"},\"text\":\"\"},\"zerolinecolor\":\"#E1E5ED\"},\"xaxis5\":{\"anchor\":\"y5\",\"domain\":[0.0,0.2125],\"gridcolor\":\"#E1E5ED\",\"showgrid\":false,\"tickfont\":{\"color\":\"#4D5663\"},\"title\":{\"font\":{\"color\":\"#4D5663\"},\"text\":\"\"},\"zerolinecolor\":\"#E1E5ED\"},\"xaxis6\":{\"anchor\":\"y6\",\"domain\":[0.2625,0.475],\"gridcolor\":\"#E1E5ED\",\"showgrid\":false,\"tickfont\":{\"color\":\"#4D5663\"},\"title\":{\"font\":{\"color\":\"#4D5663\"},\"text\":\"\"},\"zerolinecolor\":\"#E1E5ED\"},\"xaxis7\":{\"anchor\":\"y7\",\"domain\":[0.525,0.7375],\"gridcolor\":\"#E1E5ED\",\"showgrid\":false,\"tickfont\":{\"color\":\"#4D5663\"},\"title\":{\"font\":{\"color\":\"#4D5663\"},\"text\":\"\"},\"zerolinecolor\":\"#E1E5ED\"},\"xaxis8\":{\"anchor\":\"y8\",\"domain\":[0.7875,1.0],\"gridcolor\":\"#E1E5ED\",\"showgrid\":false,\"tickfont\":{\"color\":\"#4D5663\"},\"title\":{\"font\":{\"color\":\"#4D5663\"},\"text\":\"\"},\"zerolinecolor\":\"#E1E5ED\"},\"xaxis9\":{\"anchor\":\"y9\",\"domain\":[0.0,0.2125],\"gridcolor\":\"#E1E5ED\",\"showgrid\":false,\"tickfont\":{\"color\":\"#4D5663\"},\"title\":{\"font\":{\"color\":\"#4D5663\"},\"text\":\"\"},\"zerolinecolor\":\"#E1E5ED\"},\"yaxis\":{\"anchor\":\"x\",\"domain\":[0.8025,1.0],\"gridcolor\":\"#E1E5ED\",\"showgrid\":false,\"tickfont\":{\"color\":\"#4D5663\"},\"title\":{\"font\":{\"color\":\"#4D5663\"},\"text\":\"\"},\"zerolinecolor\":\"#E1E5ED\"},\"yaxis10\":{\"anchor\":\"x10\",\"domain\":[0.2675,0.465],\"gridcolor\":\"#E1E5ED\",\"showgrid\":false,\"tickfont\":{\"color\":\"#4D5663\"},\"title\":{\"font\":{\"color\":\"#4D5663\"},\"text\":\"\"},\"zerolinecolor\":\"#E1E5ED\"},\"yaxis11\":{\"anchor\":\"x11\",\"domain\":[0.2675,0.465],\"gridcolor\":\"#E1E5ED\",\"showgrid\":false,\"tickfont\":{\"color\":\"#4D5663\"},\"title\":{\"font\":{\"color\":\"#4D5663\"},\"text\":\"\"},\"zerolinecolor\":\"#E1E5ED\"},\"yaxis12\":{\"anchor\":\"x12\",\"domain\":[0.2675,0.465],\"gridcolor\":\"#E1E5ED\",\"showgrid\":false,\"tickfont\":{\"color\":\"#4D5663\"},\"title\":{\"font\":{\"color\":\"#4D5663\"},\"text\":\"\"},\"zerolinecolor\":\"#E1E5ED\"},\"yaxis13\":{\"anchor\":\"x13\",\"domain\":[0.0,0.1975],\"gridcolor\":\"#E1E5ED\",\"showgrid\":false,\"tickfont\":{\"color\":\"#4D5663\"},\"title\":{\"font\":{\"color\":\"#4D5663\"},\"text\":\"\"},\"zerolinecolor\":\"#E1E5ED\"},\"yaxis14\":{\"anchor\":\"x14\",\"domain\":[0.0,0.1975],\"gridcolor\":\"#E1E5ED\",\"showgrid\":false,\"tickfont\":{\"color\":\"#4D5663\"},\"title\":{\"font\":{\"color\":\"#4D5663\"},\"text\":\"\"},\"zerolinecolor\":\"#E1E5ED\"},\"yaxis15\":{\"anchor\":\"x15\",\"domain\":[0.0,0.1975],\"gridcolor\":\"#E1E5ED\",\"showgrid\":false,\"tickfont\":{\"color\":\"#4D5663\"},\"title\":{\"font\":{\"color\":\"#4D5663\"},\"text\":\"\"},\"zerolinecolor\":\"#E1E5ED\"},\"yaxis16\":{\"anchor\":\"x16\",\"domain\":[0.0,0.1975],\"gridcolor\":\"#E1E5ED\",\"showgrid\":false,\"tickfont\":{\"color\":\"#4D5663\"},\"title\":{\"font\":{\"color\":\"#4D5663\"},\"text\":\"\"},\"zerolinecolor\":\"#E1E5ED\"},\"yaxis2\":{\"anchor\":\"x2\",\"domain\":[0.8025,1.0],\"gridcolor\":\"#E1E5ED\",\"showgrid\":false,\"tickfont\":{\"color\":\"#4D5663\"},\"title\":{\"font\":{\"color\":\"#4D5663\"},\"text\":\"\"},\"zerolinecolor\":\"#E1E5ED\"},\"yaxis3\":{\"anchor\":\"x3\",\"domain\":[0.8025,1.0],\"gridcolor\":\"#E1E5ED\",\"showgrid\":false,\"tickfont\":{\"color\":\"#4D5663\"},\"title\":{\"font\":{\"color\":\"#4D5663\"},\"text\":\"\"},\"zerolinecolor\":\"#E1E5ED\"},\"yaxis4\":{\"anchor\":\"x4\",\"domain\":[0.8025,1.0],\"gridcolor\":\"#E1E5ED\",\"showgrid\":false,\"tickfont\":{\"color\":\"#4D5663\"},\"title\":{\"font\":{\"color\":\"#4D5663\"},\"text\":\"\"},\"zerolinecolor\":\"#E1E5ED\"},\"yaxis5\":{\"anchor\":\"x5\",\"domain\":[0.535,0.7325],\"gridcolor\":\"#E1E5ED\",\"showgrid\":false,\"tickfont\":{\"color\":\"#4D5663\"},\"title\":{\"font\":{\"color\":\"#4D5663\"},\"text\":\"\"},\"zerolinecolor\":\"#E1E5ED\"},\"yaxis6\":{\"anchor\":\"x6\",\"domain\":[0.535,0.7325],\"gridcolor\":\"#E1E5ED\",\"showgrid\":false,\"tickfont\":{\"color\":\"#4D5663\"},\"title\":{\"font\":{\"color\":\"#4D5663\"},\"text\":\"\"},\"zerolinecolor\":\"#E1E5ED\"},\"yaxis7\":{\"anchor\":\"x7\",\"domain\":[0.535,0.7325],\"gridcolor\":\"#E1E5ED\",\"showgrid\":false,\"tickfont\":{\"color\":\"#4D5663\"},\"title\":{\"font\":{\"color\":\"#4D5663\"},\"text\":\"\"},\"zerolinecolor\":\"#E1E5ED\"},\"yaxis8\":{\"anchor\":\"x8\",\"domain\":[0.535,0.7325],\"gridcolor\":\"#E1E5ED\",\"showgrid\":false,\"tickfont\":{\"color\":\"#4D5663\"},\"title\":{\"font\":{\"color\":\"#4D5663\"},\"text\":\"\"},\"zerolinecolor\":\"#E1E5ED\"},\"yaxis9\":{\"anchor\":\"x9\",\"domain\":[0.2675,0.465],\"gridcolor\":\"#E1E5ED\",\"showgrid\":false,\"tickfont\":{\"color\":\"#4D5663\"},\"title\":{\"font\":{\"color\":\"#4D5663\"},\"text\":\"\"},\"zerolinecolor\":\"#E1E5ED\"}},                        {\"showLink\": true, \"linkText\": \"Export to plot.ly\", \"plotlyServerURL\": \"https://plot.ly\", \"responsive\": true}                    ).then(function(){\n",
       "                            \n",
       "var gd = document.getElementById('3eee8309-4d85-4c6a-896c-e871cbb40f87');\n",
       "var x = new MutationObserver(function (mutations, observer) {{\n",
       "        var display = window.getComputedStyle(gd).display;\n",
       "        if (!display || display === 'none') {{\n",
       "            console.log([gd, 'removed!']);\n",
       "            Plotly.purge(gd);\n",
       "            observer.disconnect();\n",
       "        }}\n",
       "}});\n",
       "\n",
       "// Listen for the removal of the full notebook cells\n",
       "var notebookContainer = gd.closest('#notebook-container');\n",
       "if (notebookContainer) {{\n",
       "    x.observe(notebookContainer, {childList: true});\n",
       "}}\n",
       "\n",
       "// Listen for the clearing of the current output cell\n",
       "var outputEl = gd.closest('.output');\n",
       "if (outputEl) {{\n",
       "    x.observe(outputEl, {childList: true});\n",
       "}}\n",
       "\n",
       "                        })                };                });            </script>        </div>"
      ]
     },
     "metadata": {},
     "output_type": "display_data"
    }
   ],
   "source": [
    "df.scatter_matrix()"
   ]
  },
  {
   "cell_type": "markdown",
   "metadata": {
    "collapsed": true
   },
   "source": [
    "# Great Job!"
   ]
  }
 ],
 "metadata": {
  "kernelspec": {
   "display_name": "Python 3",
   "language": "python",
   "name": "python3"
  },
  "language_info": {
   "codemirror_mode": {
    "name": "ipython",
    "version": 3
   },
   "file_extension": ".py",
   "mimetype": "text/x-python",
   "name": "python",
   "nbconvert_exporter": "python",
   "pygments_lexer": "ipython3",
   "version": "3.8.5"
  }
 },
 "nbformat": 4,
 "nbformat_minor": 1
}
