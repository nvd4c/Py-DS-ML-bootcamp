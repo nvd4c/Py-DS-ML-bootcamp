{
 "cells": [
  {
   "cell_type": "markdown",
   "metadata": {},
   "source": [
    "___\n",
    "\n",
    "<a href='http://www.pieriandata.com'> <img src='../Pierian_Data_Logo.png' /></a>\n",
    "___\n",
    "# Plotly and Cufflinks"
   ]
  },
  {
   "cell_type": "markdown",
   "metadata": {},
   "source": [
    "Plotly là một thư viện cho phép bạn tạo các plot tương tác mà bạn có thể sử dụng trong trang tổng quan hoặc trang web (bạn có thể lưu chúng dưới dạng tệp html hoặc hình ảnh tĩnh).\n",
    "\n",
    "## Cài đặt\n",
    "\n",
    "Để tất cả điều này hoạt động, bạn sẽ cần cài đặt các plotly and cufflinks (liên kết âm mưu và khuy măng sét) để gọi các lô trực tiếp ra khỏi khung dữ liệu pandas. Các thư viện này hiện không có sẵn thông qua **conda** nhưng có sẵn thông qua **pip**. Cài đặt các thư viện tại dòng lệnh / thiết bị đầu cuối của bạn bằng cách sử dụng:\n",
    "\n",
    "     pip install plotly\n",
    "     pip install cufflinks\n",
    "\n",
    "** LƯU Ý: Đảm bảo rằng bạn chỉ có một bản cài đặt Python trên máy tính của mình khi bạn thực hiện việc này, nếu không quá trình cài đặt có thể không hoạt động. **\n",
    "\n",
    "## Imports and Set-up"
   ]
  },
  {
   "cell_type": "code",
   "execution_count": 1,
   "metadata": {},
   "outputs": [],
   "source": [
    "import pandas as pd\n",
    "import numpy as np\n",
    "%matplotlib inline"
   ]
  },
  {
   "cell_type": "code",
   "execution_count": 2,
   "metadata": {},
   "outputs": [],
   "source": [
    "#pip install plotly"
   ]
  },
  {
   "cell_type": "code",
   "execution_count": 3,
   "metadata": {},
   "outputs": [],
   "source": [
    "#pip install cufflinks"
   ]
  },
  {
   "cell_type": "code",
   "execution_count": 4,
   "metadata": {},
   "outputs": [
    {
     "name": "stdout",
     "output_type": "stream",
     "text": [
      "5.1.0\n"
     ]
    }
   ],
   "source": [
    "from plotly import __version__\n",
    "from plotly.offline import download_plotlyjs, init_notebook_mode, plot, iplot\n",
    "\n",
    "print(__version__) # requires version >= 1.9.0"
   ]
  },
  {
   "cell_type": "code",
   "execution_count": 5,
   "metadata": {},
   "outputs": [],
   "source": [
    "import cufflinks as cf"
   ]
  },
  {
   "cell_type": "code",
   "execution_count": 6,
   "metadata": {},
   "outputs": [
    {
     "data": {
      "text/html": [
       "        <script type=\"text/javascript\">\n",
       "        window.PlotlyConfig = {MathJaxConfig: 'local'};\n",
       "        if (window.MathJax) {MathJax.Hub.Config({SVG: {font: \"STIX-Web\"}});}\n",
       "        if (typeof require !== 'undefined') {\n",
       "        require.undef(\"plotly\");\n",
       "        requirejs.config({\n",
       "            paths: {\n",
       "                'plotly': ['https://cdn.plot.ly/plotly-2.2.0.min']\n",
       "            }\n",
       "        });\n",
       "        require(['plotly'], function(Plotly) {\n",
       "            window._Plotly = Plotly;\n",
       "        });\n",
       "        }\n",
       "        </script>\n",
       "        "
      ]
     },
     "metadata": {},
     "output_type": "display_data"
    }
   ],
   "source": [
    "# For Notebooks\n",
    "init_notebook_mode(connected=True)"
   ]
  },
  {
   "cell_type": "code",
   "execution_count": 7,
   "metadata": {},
   "outputs": [
    {
     "data": {
      "text/html": [
       "        <script type=\"text/javascript\">\n",
       "        window.PlotlyConfig = {MathJaxConfig: 'local'};\n",
       "        if (window.MathJax) {MathJax.Hub.Config({SVG: {font: \"STIX-Web\"}});}\n",
       "        if (typeof require !== 'undefined') {\n",
       "        require.undef(\"plotly\");\n",
       "        requirejs.config({\n",
       "            paths: {\n",
       "                'plotly': ['https://cdn.plot.ly/plotly-2.2.0.min']\n",
       "            }\n",
       "        });\n",
       "        require(['plotly'], function(Plotly) {\n",
       "            window._Plotly = Plotly;\n",
       "        });\n",
       "        }\n",
       "        </script>\n",
       "        "
      ]
     },
     "metadata": {},
     "output_type": "display_data"
    }
   ],
   "source": [
    "# For offline use\n",
    "cf.go_offline()"
   ]
  },
  {
   "cell_type": "markdown",
   "metadata": {},
   "source": [
    "### Fake Data"
   ]
  },
  {
   "cell_type": "code",
   "execution_count": 8,
   "metadata": {},
   "outputs": [],
   "source": [
    "df = pd.DataFrame(np.random.randn(100,4),columns='A B C D'.split())"
   ]
  },
  {
   "cell_type": "code",
   "execution_count": 9,
   "metadata": {},
   "outputs": [
    {
     "data": {
      "text/html": [
       "<div>\n",
       "<style scoped>\n",
       "    .dataframe tbody tr th:only-of-type {\n",
       "        vertical-align: middle;\n",
       "    }\n",
       "\n",
       "    .dataframe tbody tr th {\n",
       "        vertical-align: top;\n",
       "    }\n",
       "\n",
       "    .dataframe thead th {\n",
       "        text-align: right;\n",
       "    }\n",
       "</style>\n",
       "<table border=\"1\" class=\"dataframe\">\n",
       "  <thead>\n",
       "    <tr style=\"text-align: right;\">\n",
       "      <th></th>\n",
       "      <th>A</th>\n",
       "      <th>B</th>\n",
       "      <th>C</th>\n",
       "      <th>D</th>\n",
       "    </tr>\n",
       "  </thead>\n",
       "  <tbody>\n",
       "    <tr>\n",
       "      <th>0</th>\n",
       "      <td>0.183374</td>\n",
       "      <td>-2.070372</td>\n",
       "      <td>-0.102303</td>\n",
       "      <td>-0.915377</td>\n",
       "    </tr>\n",
       "    <tr>\n",
       "      <th>1</th>\n",
       "      <td>0.257740</td>\n",
       "      <td>1.987135</td>\n",
       "      <td>-0.985616</td>\n",
       "      <td>-0.401292</td>\n",
       "    </tr>\n",
       "    <tr>\n",
       "      <th>2</th>\n",
       "      <td>-0.399405</td>\n",
       "      <td>0.447114</td>\n",
       "      <td>-2.339900</td>\n",
       "      <td>1.093853</td>\n",
       "    </tr>\n",
       "    <tr>\n",
       "      <th>3</th>\n",
       "      <td>0.194299</td>\n",
       "      <td>-0.136251</td>\n",
       "      <td>0.212929</td>\n",
       "      <td>-0.058764</td>\n",
       "    </tr>\n",
       "    <tr>\n",
       "      <th>4</th>\n",
       "      <td>0.341965</td>\n",
       "      <td>-0.884748</td>\n",
       "      <td>-0.471903</td>\n",
       "      <td>-0.892853</td>\n",
       "    </tr>\n",
       "  </tbody>\n",
       "</table>\n",
       "</div>"
      ],
      "text/plain": [
       "          A         B         C         D\n",
       "0  0.183374 -2.070372 -0.102303 -0.915377\n",
       "1  0.257740  1.987135 -0.985616 -0.401292\n",
       "2 -0.399405  0.447114 -2.339900  1.093853\n",
       "3  0.194299 -0.136251  0.212929 -0.058764\n",
       "4  0.341965 -0.884748 -0.471903 -0.892853"
      ]
     },
     "execution_count": 9,
     "metadata": {},
     "output_type": "execute_result"
    }
   ],
   "source": [
    "df.head()"
   ]
  },
  {
   "cell_type": "code",
   "execution_count": 10,
   "metadata": {},
   "outputs": [],
   "source": [
    "df2 = pd.DataFrame({'Category':['A','B','C'],'Values':[32,43,50]})"
   ]
  },
  {
   "cell_type": "code",
   "execution_count": 11,
   "metadata": {},
   "outputs": [
    {
     "data": {
      "text/html": [
       "<div>\n",
       "<style scoped>\n",
       "    .dataframe tbody tr th:only-of-type {\n",
       "        vertical-align: middle;\n",
       "    }\n",
       "\n",
       "    .dataframe tbody tr th {\n",
       "        vertical-align: top;\n",
       "    }\n",
       "\n",
       "    .dataframe thead th {\n",
       "        text-align: right;\n",
       "    }\n",
       "</style>\n",
       "<table border=\"1\" class=\"dataframe\">\n",
       "  <thead>\n",
       "    <tr style=\"text-align: right;\">\n",
       "      <th></th>\n",
       "      <th>Category</th>\n",
       "      <th>Values</th>\n",
       "    </tr>\n",
       "  </thead>\n",
       "  <tbody>\n",
       "    <tr>\n",
       "      <th>0</th>\n",
       "      <td>A</td>\n",
       "      <td>32</td>\n",
       "    </tr>\n",
       "    <tr>\n",
       "      <th>1</th>\n",
       "      <td>B</td>\n",
       "      <td>43</td>\n",
       "    </tr>\n",
       "    <tr>\n",
       "      <th>2</th>\n",
       "      <td>C</td>\n",
       "      <td>50</td>\n",
       "    </tr>\n",
       "  </tbody>\n",
       "</table>\n",
       "</div>"
      ],
      "text/plain": [
       "  Category  Values\n",
       "0        A      32\n",
       "1        B      43\n",
       "2        C      50"
      ]
     },
     "execution_count": 11,
     "metadata": {},
     "output_type": "execute_result"
    }
   ],
   "source": [
    "df2.head()"
   ]
  },
  {
   "cell_type": "markdown",
   "metadata": {},
   "source": [
    "## Using Cufflinks and iplot()\n",
    "\n",
    "* scatter\n",
    "* bar\n",
    "* box\n",
    "* spread\n",
    "* ratio\n",
    "* heatmap\n",
    "* surface\n",
    "* histogram\n",
    "* bubble"
   ]
  },
  {
   "cell_type": "markdown",
   "metadata": {},
   "source": [
    "## Scatter"
   ]
  },
  {
   "cell_type": "code",
   "execution_count": 12,
   "metadata": {},
   "outputs": [
    {
     "data": {
      "application/vnd.plotly.v1+json": {
       "config": {
        "linkText": "Export to plot.ly",
        "plotlyServerURL": "https://plot.ly",
        "showLink": true
       },
       "data": [
        {
         "line": {
          "color": "rgba(255, 153, 51, 1.0)",
          "dash": "solid",
          "shape": "linear",
          "width": 1.3
         },
         "marker": {
          "size": 10,
          "symbol": "circle"
         },
         "mode": "markers",
         "name": "B",
         "text": "",
         "type": "scatter",
         "x": [
          0.18337390211043783,
          0.2577404769175627,
          -0.39940465232467737,
          0.194298848170503,
          0.34196496904498935,
          -0.6377170807139307,
          -1.049758108993871,
          0.49300518799557336,
          0.028811941662308698,
          -1.6269205354091907,
          -0.5202694534605817,
          -0.16098816834008395,
          0.05160848098571894,
          0.5364326233078089,
          0.4378795481417151,
          -0.03756114724023949,
          0.28914666492343494,
          -0.03814971702482578,
          1.1504709154224924,
          -0.7412218639075389,
          0.42086582271660816,
          0.9009691688219829,
          1.0400314771630996,
          -1.372257148733933,
          -0.4355821151470618,
          -0.09938130947803488,
          -0.9491201685059797,
          -0.8600172231155638,
          -0.7362359562302916,
          -0.1430515701566955,
          -0.617813406266883,
          -0.28055737559377186,
          0.46932264288215353,
          0.1514629997731117,
          -0.6583950527318917,
          -0.26662490652025683,
          0.5093904738392812,
          0.12592079431582454,
          1.1508237867549065,
          1.3284069604847262,
          -0.8627769007465207,
          -1.0231645951528927,
          -1.2276778357296108,
          -1.1730477649540723,
          1.6063794992902511,
          -0.023057504024252704,
          -0.01960344616633247,
          -1.0409575465574499,
          0.5256968428705312,
          0.5633261139142187,
          -1.277429648427179,
          -0.8594207760740425,
          -0.806527698662659,
          -1.3223242506953758,
          1.3971352314374699,
          0.3631614499519548,
          0.19128780513812077,
          0.39550446961128843,
          1.317416404924919,
          0.2756482721294413,
          0.9479537637621035,
          0.26781448001741226,
          1.2863595640654364,
          1.0377301080259809,
          0.18731377850380862,
          0.8097847708703942,
          0.21174695841002827,
          -0.7233239976517987,
          -0.2877696122095113,
          -1.2224779263270227,
          1.2959808963832966,
          1.2980313763074227,
          -0.4516678608167582,
          0.7301014683457027,
          -0.9165040725691428,
          -1.7967471408255278,
          0.09604702398927319,
          -0.8605396305059785,
          -0.972811531987986,
          -0.7769208316082751,
          2.02672405942737,
          -1.2194940629705828,
          -0.6034537463065365,
          -1.3731528380456066,
          0.478397263066975,
          0.3532628705494607,
          1.0128502952860179,
          -0.3372046017404665,
          -0.12940898816063387,
          -1.622834708604428,
          0.6955740306917982,
          0.048620002313087676,
          -1.8922763025622593,
          -2.368987592395905,
          -0.290907389966216,
          -0.19595573626291243,
          0.6964336785010147,
          0.9147274409544851,
          -0.6849847790150455,
          0.17976801555813846
         ],
         "y": [
          -2.070372363174357,
          1.9871349625586698,
          0.44711385640110934,
          -0.1362509032529231,
          -0.8847481240368797,
          -0.3005585206574886,
          -0.4577370292878276,
          1.1257225790814913,
          1.6515424424291352,
          -1.1639372746696197,
          -0.4900512762265639,
          -0.9183246527863396,
          -0.5898528388193658,
          -1.9828423762964589,
          1.9251031300815986,
          -0.8516206949989477,
          -0.15077106194697446,
          0.39095318163453546,
          -0.04605799383381456,
          0.13106206252913166,
          -0.4492203115833142,
          0.8614098734884785,
          -0.30181904964322304,
          1.4124315275404664,
          1.2928582774051667,
          0.08553156946078898,
          -1.5202409642832018,
          -1.2972509965846963,
          -0.2554031732774126,
          1.1700927343793435,
          -1.4436089799837097,
          1.772822591539189,
          1.0437749024442213,
          -0.8655170969412663,
          0.07470374986811237,
          0.19696979466097256,
          0.71748915045575,
          0.5493037055770226,
          0.792387270172692,
          0.4388182367525948,
          0.8343802553032624,
          -0.27411066445450055,
          -0.759132779704796,
          -0.5510511505395224,
          0.7010550007848114,
          0.7436324676228472,
          -0.8167506411613927,
          -0.8309399064145929,
          -0.48367397638508636,
          0.40109935333422264,
          0.14717905622379798,
          0.4035364305538702,
          -1.4376361064073133,
          0.884504560227829,
          0.0756105825725042,
          1.3027235848809706,
          -0.410445635139286,
          1.664269298035139,
          0.8046955068796645,
          -1.608477203721027,
          0.11905357356672844,
          -0.8362872444628309,
          -1.0394082418010007,
          1.4718633565264032,
          0.3949671088451408,
          0.21605324037427268,
          -0.26067877739383255,
          0.20558921783396097,
          0.43336888717474037,
          -0.1724582369969408,
          -0.8898077313946257,
          -0.7966001330099107,
          -1.9096285209970933,
          -0.6234503963821106,
          -0.7492278502366498,
          -0.3937069363627399,
          0.4764640049465655,
          -0.0317529356831129,
          -1.2467218127574538,
          1.4515849281312752,
          1.0601562766774255,
          0.011700845601488541,
          -0.7004541496592039,
          0.2487099113720825,
          1.3953319784837215,
          0.8170929436416009,
          -1.093574826202585,
          -1.5190998335113597,
          1.565582460077773,
          0.6003738353358095,
          0.48003413782184207,
          -0.8768051319567273,
          1.1653769552823892,
          -0.09369210118747875,
          -1.236308547878392,
          1.069663761619053,
          -0.5090666413472539,
          0.5484467083147206,
          1.4116269424540293,
          1.4288779803279275
         ]
        }
       ],
       "layout": {
        "legend": {
         "bgcolor": "#F5F6F9",
         "font": {
          "color": "#4D5663"
         }
        },
        "paper_bgcolor": "#F5F6F9",
        "plot_bgcolor": "#F5F6F9",
        "template": {
         "data": {
          "bar": [
           {
            "error_x": {
             "color": "#2a3f5f"
            },
            "error_y": {
             "color": "#2a3f5f"
            },
            "marker": {
             "line": {
              "color": "#E5ECF6",
              "width": 0.5
             },
             "pattern": {
              "fillmode": "overlay",
              "size": 10,
              "solidity": 0.2
             }
            },
            "type": "bar"
           }
          ],
          "barpolar": [
           {
            "marker": {
             "line": {
              "color": "#E5ECF6",
              "width": 0.5
             },
             "pattern": {
              "fillmode": "overlay",
              "size": 10,
              "solidity": 0.2
             }
            },
            "type": "barpolar"
           }
          ],
          "carpet": [
           {
            "aaxis": {
             "endlinecolor": "#2a3f5f",
             "gridcolor": "white",
             "linecolor": "white",
             "minorgridcolor": "white",
             "startlinecolor": "#2a3f5f"
            },
            "baxis": {
             "endlinecolor": "#2a3f5f",
             "gridcolor": "white",
             "linecolor": "white",
             "minorgridcolor": "white",
             "startlinecolor": "#2a3f5f"
            },
            "type": "carpet"
           }
          ],
          "choropleth": [
           {
            "colorbar": {
             "outlinewidth": 0,
             "ticks": ""
            },
            "type": "choropleth"
           }
          ],
          "contour": [
           {
            "colorbar": {
             "outlinewidth": 0,
             "ticks": ""
            },
            "colorscale": [
             [
              0,
              "#0d0887"
             ],
             [
              0.1111111111111111,
              "#46039f"
             ],
             [
              0.2222222222222222,
              "#7201a8"
             ],
             [
              0.3333333333333333,
              "#9c179e"
             ],
             [
              0.4444444444444444,
              "#bd3786"
             ],
             [
              0.5555555555555556,
              "#d8576b"
             ],
             [
              0.6666666666666666,
              "#ed7953"
             ],
             [
              0.7777777777777778,
              "#fb9f3a"
             ],
             [
              0.8888888888888888,
              "#fdca26"
             ],
             [
              1,
              "#f0f921"
             ]
            ],
            "type": "contour"
           }
          ],
          "contourcarpet": [
           {
            "colorbar": {
             "outlinewidth": 0,
             "ticks": ""
            },
            "type": "contourcarpet"
           }
          ],
          "heatmap": [
           {
            "colorbar": {
             "outlinewidth": 0,
             "ticks": ""
            },
            "colorscale": [
             [
              0,
              "#0d0887"
             ],
             [
              0.1111111111111111,
              "#46039f"
             ],
             [
              0.2222222222222222,
              "#7201a8"
             ],
             [
              0.3333333333333333,
              "#9c179e"
             ],
             [
              0.4444444444444444,
              "#bd3786"
             ],
             [
              0.5555555555555556,
              "#d8576b"
             ],
             [
              0.6666666666666666,
              "#ed7953"
             ],
             [
              0.7777777777777778,
              "#fb9f3a"
             ],
             [
              0.8888888888888888,
              "#fdca26"
             ],
             [
              1,
              "#f0f921"
             ]
            ],
            "type": "heatmap"
           }
          ],
          "heatmapgl": [
           {
            "colorbar": {
             "outlinewidth": 0,
             "ticks": ""
            },
            "colorscale": [
             [
              0,
              "#0d0887"
             ],
             [
              0.1111111111111111,
              "#46039f"
             ],
             [
              0.2222222222222222,
              "#7201a8"
             ],
             [
              0.3333333333333333,
              "#9c179e"
             ],
             [
              0.4444444444444444,
              "#bd3786"
             ],
             [
              0.5555555555555556,
              "#d8576b"
             ],
             [
              0.6666666666666666,
              "#ed7953"
             ],
             [
              0.7777777777777778,
              "#fb9f3a"
             ],
             [
              0.8888888888888888,
              "#fdca26"
             ],
             [
              1,
              "#f0f921"
             ]
            ],
            "type": "heatmapgl"
           }
          ],
          "histogram": [
           {
            "marker": {
             "pattern": {
              "fillmode": "overlay",
              "size": 10,
              "solidity": 0.2
             }
            },
            "type": "histogram"
           }
          ],
          "histogram2d": [
           {
            "colorbar": {
             "outlinewidth": 0,
             "ticks": ""
            },
            "colorscale": [
             [
              0,
              "#0d0887"
             ],
             [
              0.1111111111111111,
              "#46039f"
             ],
             [
              0.2222222222222222,
              "#7201a8"
             ],
             [
              0.3333333333333333,
              "#9c179e"
             ],
             [
              0.4444444444444444,
              "#bd3786"
             ],
             [
              0.5555555555555556,
              "#d8576b"
             ],
             [
              0.6666666666666666,
              "#ed7953"
             ],
             [
              0.7777777777777778,
              "#fb9f3a"
             ],
             [
              0.8888888888888888,
              "#fdca26"
             ],
             [
              1,
              "#f0f921"
             ]
            ],
            "type": "histogram2d"
           }
          ],
          "histogram2dcontour": [
           {
            "colorbar": {
             "outlinewidth": 0,
             "ticks": ""
            },
            "colorscale": [
             [
              0,
              "#0d0887"
             ],
             [
              0.1111111111111111,
              "#46039f"
             ],
             [
              0.2222222222222222,
              "#7201a8"
             ],
             [
              0.3333333333333333,
              "#9c179e"
             ],
             [
              0.4444444444444444,
              "#bd3786"
             ],
             [
              0.5555555555555556,
              "#d8576b"
             ],
             [
              0.6666666666666666,
              "#ed7953"
             ],
             [
              0.7777777777777778,
              "#fb9f3a"
             ],
             [
              0.8888888888888888,
              "#fdca26"
             ],
             [
              1,
              "#f0f921"
             ]
            ],
            "type": "histogram2dcontour"
           }
          ],
          "mesh3d": [
           {
            "colorbar": {
             "outlinewidth": 0,
             "ticks": ""
            },
            "type": "mesh3d"
           }
          ],
          "parcoords": [
           {
            "line": {
             "colorbar": {
              "outlinewidth": 0,
              "ticks": ""
             }
            },
            "type": "parcoords"
           }
          ],
          "pie": [
           {
            "automargin": true,
            "type": "pie"
           }
          ],
          "scatter": [
           {
            "marker": {
             "colorbar": {
              "outlinewidth": 0,
              "ticks": ""
             }
            },
            "type": "scatter"
           }
          ],
          "scatter3d": [
           {
            "line": {
             "colorbar": {
              "outlinewidth": 0,
              "ticks": ""
             }
            },
            "marker": {
             "colorbar": {
              "outlinewidth": 0,
              "ticks": ""
             }
            },
            "type": "scatter3d"
           }
          ],
          "scattercarpet": [
           {
            "marker": {
             "colorbar": {
              "outlinewidth": 0,
              "ticks": ""
             }
            },
            "type": "scattercarpet"
           }
          ],
          "scattergeo": [
           {
            "marker": {
             "colorbar": {
              "outlinewidth": 0,
              "ticks": ""
             }
            },
            "type": "scattergeo"
           }
          ],
          "scattergl": [
           {
            "marker": {
             "colorbar": {
              "outlinewidth": 0,
              "ticks": ""
             }
            },
            "type": "scattergl"
           }
          ],
          "scattermapbox": [
           {
            "marker": {
             "colorbar": {
              "outlinewidth": 0,
              "ticks": ""
             }
            },
            "type": "scattermapbox"
           }
          ],
          "scatterpolar": [
           {
            "marker": {
             "colorbar": {
              "outlinewidth": 0,
              "ticks": ""
             }
            },
            "type": "scatterpolar"
           }
          ],
          "scatterpolargl": [
           {
            "marker": {
             "colorbar": {
              "outlinewidth": 0,
              "ticks": ""
             }
            },
            "type": "scatterpolargl"
           }
          ],
          "scatterternary": [
           {
            "marker": {
             "colorbar": {
              "outlinewidth": 0,
              "ticks": ""
             }
            },
            "type": "scatterternary"
           }
          ],
          "surface": [
           {
            "colorbar": {
             "outlinewidth": 0,
             "ticks": ""
            },
            "colorscale": [
             [
              0,
              "#0d0887"
             ],
             [
              0.1111111111111111,
              "#46039f"
             ],
             [
              0.2222222222222222,
              "#7201a8"
             ],
             [
              0.3333333333333333,
              "#9c179e"
             ],
             [
              0.4444444444444444,
              "#bd3786"
             ],
             [
              0.5555555555555556,
              "#d8576b"
             ],
             [
              0.6666666666666666,
              "#ed7953"
             ],
             [
              0.7777777777777778,
              "#fb9f3a"
             ],
             [
              0.8888888888888888,
              "#fdca26"
             ],
             [
              1,
              "#f0f921"
             ]
            ],
            "type": "surface"
           }
          ],
          "table": [
           {
            "cells": {
             "fill": {
              "color": "#EBF0F8"
             },
             "line": {
              "color": "white"
             }
            },
            "header": {
             "fill": {
              "color": "#C8D4E3"
             },
             "line": {
              "color": "white"
             }
            },
            "type": "table"
           }
          ]
         },
         "layout": {
          "annotationdefaults": {
           "arrowcolor": "#2a3f5f",
           "arrowhead": 0,
           "arrowwidth": 1
          },
          "autotypenumbers": "strict",
          "coloraxis": {
           "colorbar": {
            "outlinewidth": 0,
            "ticks": ""
           }
          },
          "colorscale": {
           "diverging": [
            [
             0,
             "#8e0152"
            ],
            [
             0.1,
             "#c51b7d"
            ],
            [
             0.2,
             "#de77ae"
            ],
            [
             0.3,
             "#f1b6da"
            ],
            [
             0.4,
             "#fde0ef"
            ],
            [
             0.5,
             "#f7f7f7"
            ],
            [
             0.6,
             "#e6f5d0"
            ],
            [
             0.7,
             "#b8e186"
            ],
            [
             0.8,
             "#7fbc41"
            ],
            [
             0.9,
             "#4d9221"
            ],
            [
             1,
             "#276419"
            ]
           ],
           "sequential": [
            [
             0,
             "#0d0887"
            ],
            [
             0.1111111111111111,
             "#46039f"
            ],
            [
             0.2222222222222222,
             "#7201a8"
            ],
            [
             0.3333333333333333,
             "#9c179e"
            ],
            [
             0.4444444444444444,
             "#bd3786"
            ],
            [
             0.5555555555555556,
             "#d8576b"
            ],
            [
             0.6666666666666666,
             "#ed7953"
            ],
            [
             0.7777777777777778,
             "#fb9f3a"
            ],
            [
             0.8888888888888888,
             "#fdca26"
            ],
            [
             1,
             "#f0f921"
            ]
           ],
           "sequentialminus": [
            [
             0,
             "#0d0887"
            ],
            [
             0.1111111111111111,
             "#46039f"
            ],
            [
             0.2222222222222222,
             "#7201a8"
            ],
            [
             0.3333333333333333,
             "#9c179e"
            ],
            [
             0.4444444444444444,
             "#bd3786"
            ],
            [
             0.5555555555555556,
             "#d8576b"
            ],
            [
             0.6666666666666666,
             "#ed7953"
            ],
            [
             0.7777777777777778,
             "#fb9f3a"
            ],
            [
             0.8888888888888888,
             "#fdca26"
            ],
            [
             1,
             "#f0f921"
            ]
           ]
          },
          "colorway": [
           "#636efa",
           "#EF553B",
           "#00cc96",
           "#ab63fa",
           "#FFA15A",
           "#19d3f3",
           "#FF6692",
           "#B6E880",
           "#FF97FF",
           "#FECB52"
          ],
          "font": {
           "color": "#2a3f5f"
          },
          "geo": {
           "bgcolor": "white",
           "lakecolor": "white",
           "landcolor": "#E5ECF6",
           "showlakes": true,
           "showland": true,
           "subunitcolor": "white"
          },
          "hoverlabel": {
           "align": "left"
          },
          "hovermode": "closest",
          "mapbox": {
           "style": "light"
          },
          "paper_bgcolor": "white",
          "plot_bgcolor": "#E5ECF6",
          "polar": {
           "angularaxis": {
            "gridcolor": "white",
            "linecolor": "white",
            "ticks": ""
           },
           "bgcolor": "#E5ECF6",
           "radialaxis": {
            "gridcolor": "white",
            "linecolor": "white",
            "ticks": ""
           }
          },
          "scene": {
           "xaxis": {
            "backgroundcolor": "#E5ECF6",
            "gridcolor": "white",
            "gridwidth": 2,
            "linecolor": "white",
            "showbackground": true,
            "ticks": "",
            "zerolinecolor": "white"
           },
           "yaxis": {
            "backgroundcolor": "#E5ECF6",
            "gridcolor": "white",
            "gridwidth": 2,
            "linecolor": "white",
            "showbackground": true,
            "ticks": "",
            "zerolinecolor": "white"
           },
           "zaxis": {
            "backgroundcolor": "#E5ECF6",
            "gridcolor": "white",
            "gridwidth": 2,
            "linecolor": "white",
            "showbackground": true,
            "ticks": "",
            "zerolinecolor": "white"
           }
          },
          "shapedefaults": {
           "line": {
            "color": "#2a3f5f"
           }
          },
          "ternary": {
           "aaxis": {
            "gridcolor": "white",
            "linecolor": "white",
            "ticks": ""
           },
           "baxis": {
            "gridcolor": "white",
            "linecolor": "white",
            "ticks": ""
           },
           "bgcolor": "#E5ECF6",
           "caxis": {
            "gridcolor": "white",
            "linecolor": "white",
            "ticks": ""
           }
          },
          "title": {
           "x": 0.05
          },
          "xaxis": {
           "automargin": true,
           "gridcolor": "white",
           "linecolor": "white",
           "ticks": "",
           "title": {
            "standoff": 15
           },
           "zerolinecolor": "white",
           "zerolinewidth": 2
          },
          "yaxis": {
           "automargin": true,
           "gridcolor": "white",
           "linecolor": "white",
           "ticks": "",
           "title": {
            "standoff": 15
           },
           "zerolinecolor": "white",
           "zerolinewidth": 2
          }
         }
        },
        "title": {
         "font": {
          "color": "#4D5663"
         }
        },
        "xaxis": {
         "gridcolor": "#E1E5ED",
         "showgrid": true,
         "tickfont": {
          "color": "#4D5663"
         },
         "title": {
          "font": {
           "color": "#4D5663"
          },
          "text": ""
         },
         "zerolinecolor": "#E1E5ED"
        },
        "yaxis": {
         "gridcolor": "#E1E5ED",
         "showgrid": true,
         "tickfont": {
          "color": "#4D5663"
         },
         "title": {
          "font": {
           "color": "#4D5663"
          },
          "text": ""
         },
         "zerolinecolor": "#E1E5ED"
        }
       }
      },
      "text/html": [
       "<div>                            <div id=\"2524d028-7f51-4cc5-a76b-b838f3df2f70\" class=\"plotly-graph-div\" style=\"height:525px; width:100%;\"></div>            <script type=\"text/javascript\">                require([\"plotly\"], function(Plotly) {                    window.PLOTLYENV=window.PLOTLYENV || {};\n",
       "                    window.PLOTLYENV.BASE_URL='https://plot.ly';                                    if (document.getElementById(\"2524d028-7f51-4cc5-a76b-b838f3df2f70\")) {                    Plotly.newPlot(                        \"2524d028-7f51-4cc5-a76b-b838f3df2f70\",                        [{\"line\":{\"color\":\"rgba(255, 153, 51, 1.0)\",\"dash\":\"solid\",\"shape\":\"linear\",\"width\":1.3},\"marker\":{\"size\":10,\"symbol\":\"circle\"},\"mode\":\"markers\",\"name\":\"B\",\"text\":\"\",\"type\":\"scatter\",\"x\":[0.18337390211043783,0.2577404769175627,-0.39940465232467737,0.194298848170503,0.34196496904498935,-0.6377170807139307,-1.049758108993871,0.49300518799557336,0.028811941662308698,-1.6269205354091907,-0.5202694534605817,-0.16098816834008395,0.05160848098571894,0.5364326233078089,0.4378795481417151,-0.03756114724023949,0.28914666492343494,-0.03814971702482578,1.1504709154224924,-0.7412218639075389,0.42086582271660816,0.9009691688219829,1.0400314771630996,-1.372257148733933,-0.4355821151470618,-0.09938130947803488,-0.9491201685059797,-0.8600172231155638,-0.7362359562302916,-0.1430515701566955,-0.617813406266883,-0.28055737559377186,0.46932264288215353,0.1514629997731117,-0.6583950527318917,-0.26662490652025683,0.5093904738392812,0.12592079431582454,1.1508237867549065,1.3284069604847262,-0.8627769007465207,-1.0231645951528927,-1.2276778357296108,-1.1730477649540723,1.6063794992902511,-0.023057504024252704,-0.01960344616633247,-1.0409575465574499,0.5256968428705312,0.5633261139142187,-1.277429648427179,-0.8594207760740425,-0.806527698662659,-1.3223242506953758,1.3971352314374699,0.3631614499519548,0.19128780513812077,0.39550446961128843,1.317416404924919,0.2756482721294413,0.9479537637621035,0.26781448001741226,1.2863595640654364,1.0377301080259809,0.18731377850380862,0.8097847708703942,0.21174695841002827,-0.7233239976517987,-0.2877696122095113,-1.2224779263270227,1.2959808963832966,1.2980313763074227,-0.4516678608167582,0.7301014683457027,-0.9165040725691428,-1.7967471408255278,0.09604702398927319,-0.8605396305059785,-0.972811531987986,-0.7769208316082751,2.02672405942737,-1.2194940629705828,-0.6034537463065365,-1.3731528380456066,0.478397263066975,0.3532628705494607,1.0128502952860179,-0.3372046017404665,-0.12940898816063387,-1.622834708604428,0.6955740306917982,0.048620002313087676,-1.8922763025622593,-2.368987592395905,-0.290907389966216,-0.19595573626291243,0.6964336785010147,0.9147274409544851,-0.6849847790150455,0.17976801555813846],\"y\":[-2.070372363174357,1.9871349625586698,0.44711385640110934,-0.1362509032529231,-0.8847481240368797,-0.3005585206574886,-0.4577370292878276,1.1257225790814913,1.6515424424291352,-1.1639372746696197,-0.4900512762265639,-0.9183246527863396,-0.5898528388193658,-1.9828423762964589,1.9251031300815986,-0.8516206949989477,-0.15077106194697446,0.39095318163453546,-0.04605799383381456,0.13106206252913166,-0.4492203115833142,0.8614098734884785,-0.30181904964322304,1.4124315275404664,1.2928582774051667,0.08553156946078898,-1.5202409642832018,-1.2972509965846963,-0.2554031732774126,1.1700927343793435,-1.4436089799837097,1.772822591539189,1.0437749024442213,-0.8655170969412663,0.07470374986811237,0.19696979466097256,0.71748915045575,0.5493037055770226,0.792387270172692,0.4388182367525948,0.8343802553032624,-0.27411066445450055,-0.759132779704796,-0.5510511505395224,0.7010550007848114,0.7436324676228472,-0.8167506411613927,-0.8309399064145929,-0.48367397638508636,0.40109935333422264,0.14717905622379798,0.4035364305538702,-1.4376361064073133,0.884504560227829,0.0756105825725042,1.3027235848809706,-0.410445635139286,1.664269298035139,0.8046955068796645,-1.608477203721027,0.11905357356672844,-0.8362872444628309,-1.0394082418010007,1.4718633565264032,0.3949671088451408,0.21605324037427268,-0.26067877739383255,0.20558921783396097,0.43336888717474037,-0.1724582369969408,-0.8898077313946257,-0.7966001330099107,-1.9096285209970933,-0.6234503963821106,-0.7492278502366498,-0.3937069363627399,0.4764640049465655,-0.0317529356831129,-1.2467218127574538,1.4515849281312752,1.0601562766774255,0.011700845601488541,-0.7004541496592039,0.2487099113720825,1.3953319784837215,0.8170929436416009,-1.093574826202585,-1.5190998335113597,1.565582460077773,0.6003738353358095,0.48003413782184207,-0.8768051319567273,1.1653769552823892,-0.09369210118747875,-1.236308547878392,1.069663761619053,-0.5090666413472539,0.5484467083147206,1.4116269424540293,1.4288779803279275]}],                        {\"legend\":{\"bgcolor\":\"#F5F6F9\",\"font\":{\"color\":\"#4D5663\"}},\"paper_bgcolor\":\"#F5F6F9\",\"plot_bgcolor\":\"#F5F6F9\",\"template\":{\"data\":{\"bar\":[{\"error_x\":{\"color\":\"#2a3f5f\"},\"error_y\":{\"color\":\"#2a3f5f\"},\"marker\":{\"line\":{\"color\":\"#E5ECF6\",\"width\":0.5},\"pattern\":{\"fillmode\":\"overlay\",\"size\":10,\"solidity\":0.2}},\"type\":\"bar\"}],\"barpolar\":[{\"marker\":{\"line\":{\"color\":\"#E5ECF6\",\"width\":0.5},\"pattern\":{\"fillmode\":\"overlay\",\"size\":10,\"solidity\":0.2}},\"type\":\"barpolar\"}],\"carpet\":[{\"aaxis\":{\"endlinecolor\":\"#2a3f5f\",\"gridcolor\":\"white\",\"linecolor\":\"white\",\"minorgridcolor\":\"white\",\"startlinecolor\":\"#2a3f5f\"},\"baxis\":{\"endlinecolor\":\"#2a3f5f\",\"gridcolor\":\"white\",\"linecolor\":\"white\",\"minorgridcolor\":\"white\",\"startlinecolor\":\"#2a3f5f\"},\"type\":\"carpet\"}],\"choropleth\":[{\"colorbar\":{\"outlinewidth\":0,\"ticks\":\"\"},\"type\":\"choropleth\"}],\"contour\":[{\"colorbar\":{\"outlinewidth\":0,\"ticks\":\"\"},\"colorscale\":[[0.0,\"#0d0887\"],[0.1111111111111111,\"#46039f\"],[0.2222222222222222,\"#7201a8\"],[0.3333333333333333,\"#9c179e\"],[0.4444444444444444,\"#bd3786\"],[0.5555555555555556,\"#d8576b\"],[0.6666666666666666,\"#ed7953\"],[0.7777777777777778,\"#fb9f3a\"],[0.8888888888888888,\"#fdca26\"],[1.0,\"#f0f921\"]],\"type\":\"contour\"}],\"contourcarpet\":[{\"colorbar\":{\"outlinewidth\":0,\"ticks\":\"\"},\"type\":\"contourcarpet\"}],\"heatmap\":[{\"colorbar\":{\"outlinewidth\":0,\"ticks\":\"\"},\"colorscale\":[[0.0,\"#0d0887\"],[0.1111111111111111,\"#46039f\"],[0.2222222222222222,\"#7201a8\"],[0.3333333333333333,\"#9c179e\"],[0.4444444444444444,\"#bd3786\"],[0.5555555555555556,\"#d8576b\"],[0.6666666666666666,\"#ed7953\"],[0.7777777777777778,\"#fb9f3a\"],[0.8888888888888888,\"#fdca26\"],[1.0,\"#f0f921\"]],\"type\":\"heatmap\"}],\"heatmapgl\":[{\"colorbar\":{\"outlinewidth\":0,\"ticks\":\"\"},\"colorscale\":[[0.0,\"#0d0887\"],[0.1111111111111111,\"#46039f\"],[0.2222222222222222,\"#7201a8\"],[0.3333333333333333,\"#9c179e\"],[0.4444444444444444,\"#bd3786\"],[0.5555555555555556,\"#d8576b\"],[0.6666666666666666,\"#ed7953\"],[0.7777777777777778,\"#fb9f3a\"],[0.8888888888888888,\"#fdca26\"],[1.0,\"#f0f921\"]],\"type\":\"heatmapgl\"}],\"histogram\":[{\"marker\":{\"pattern\":{\"fillmode\":\"overlay\",\"size\":10,\"solidity\":0.2}},\"type\":\"histogram\"}],\"histogram2d\":[{\"colorbar\":{\"outlinewidth\":0,\"ticks\":\"\"},\"colorscale\":[[0.0,\"#0d0887\"],[0.1111111111111111,\"#46039f\"],[0.2222222222222222,\"#7201a8\"],[0.3333333333333333,\"#9c179e\"],[0.4444444444444444,\"#bd3786\"],[0.5555555555555556,\"#d8576b\"],[0.6666666666666666,\"#ed7953\"],[0.7777777777777778,\"#fb9f3a\"],[0.8888888888888888,\"#fdca26\"],[1.0,\"#f0f921\"]],\"type\":\"histogram2d\"}],\"histogram2dcontour\":[{\"colorbar\":{\"outlinewidth\":0,\"ticks\":\"\"},\"colorscale\":[[0.0,\"#0d0887\"],[0.1111111111111111,\"#46039f\"],[0.2222222222222222,\"#7201a8\"],[0.3333333333333333,\"#9c179e\"],[0.4444444444444444,\"#bd3786\"],[0.5555555555555556,\"#d8576b\"],[0.6666666666666666,\"#ed7953\"],[0.7777777777777778,\"#fb9f3a\"],[0.8888888888888888,\"#fdca26\"],[1.0,\"#f0f921\"]],\"type\":\"histogram2dcontour\"}],\"mesh3d\":[{\"colorbar\":{\"outlinewidth\":0,\"ticks\":\"\"},\"type\":\"mesh3d\"}],\"parcoords\":[{\"line\":{\"colorbar\":{\"outlinewidth\":0,\"ticks\":\"\"}},\"type\":\"parcoords\"}],\"pie\":[{\"automargin\":true,\"type\":\"pie\"}],\"scatter\":[{\"marker\":{\"colorbar\":{\"outlinewidth\":0,\"ticks\":\"\"}},\"type\":\"scatter\"}],\"scatter3d\":[{\"line\":{\"colorbar\":{\"outlinewidth\":0,\"ticks\":\"\"}},\"marker\":{\"colorbar\":{\"outlinewidth\":0,\"ticks\":\"\"}},\"type\":\"scatter3d\"}],\"scattercarpet\":[{\"marker\":{\"colorbar\":{\"outlinewidth\":0,\"ticks\":\"\"}},\"type\":\"scattercarpet\"}],\"scattergeo\":[{\"marker\":{\"colorbar\":{\"outlinewidth\":0,\"ticks\":\"\"}},\"type\":\"scattergeo\"}],\"scattergl\":[{\"marker\":{\"colorbar\":{\"outlinewidth\":0,\"ticks\":\"\"}},\"type\":\"scattergl\"}],\"scattermapbox\":[{\"marker\":{\"colorbar\":{\"outlinewidth\":0,\"ticks\":\"\"}},\"type\":\"scattermapbox\"}],\"scatterpolar\":[{\"marker\":{\"colorbar\":{\"outlinewidth\":0,\"ticks\":\"\"}},\"type\":\"scatterpolar\"}],\"scatterpolargl\":[{\"marker\":{\"colorbar\":{\"outlinewidth\":0,\"ticks\":\"\"}},\"type\":\"scatterpolargl\"}],\"scatterternary\":[{\"marker\":{\"colorbar\":{\"outlinewidth\":0,\"ticks\":\"\"}},\"type\":\"scatterternary\"}],\"surface\":[{\"colorbar\":{\"outlinewidth\":0,\"ticks\":\"\"},\"colorscale\":[[0.0,\"#0d0887\"],[0.1111111111111111,\"#46039f\"],[0.2222222222222222,\"#7201a8\"],[0.3333333333333333,\"#9c179e\"],[0.4444444444444444,\"#bd3786\"],[0.5555555555555556,\"#d8576b\"],[0.6666666666666666,\"#ed7953\"],[0.7777777777777778,\"#fb9f3a\"],[0.8888888888888888,\"#fdca26\"],[1.0,\"#f0f921\"]],\"type\":\"surface\"}],\"table\":[{\"cells\":{\"fill\":{\"color\":\"#EBF0F8\"},\"line\":{\"color\":\"white\"}},\"header\":{\"fill\":{\"color\":\"#C8D4E3\"},\"line\":{\"color\":\"white\"}},\"type\":\"table\"}]},\"layout\":{\"annotationdefaults\":{\"arrowcolor\":\"#2a3f5f\",\"arrowhead\":0,\"arrowwidth\":1},\"autotypenumbers\":\"strict\",\"coloraxis\":{\"colorbar\":{\"outlinewidth\":0,\"ticks\":\"\"}},\"colorscale\":{\"diverging\":[[0,\"#8e0152\"],[0.1,\"#c51b7d\"],[0.2,\"#de77ae\"],[0.3,\"#f1b6da\"],[0.4,\"#fde0ef\"],[0.5,\"#f7f7f7\"],[0.6,\"#e6f5d0\"],[0.7,\"#b8e186\"],[0.8,\"#7fbc41\"],[0.9,\"#4d9221\"],[1,\"#276419\"]],\"sequential\":[[0.0,\"#0d0887\"],[0.1111111111111111,\"#46039f\"],[0.2222222222222222,\"#7201a8\"],[0.3333333333333333,\"#9c179e\"],[0.4444444444444444,\"#bd3786\"],[0.5555555555555556,\"#d8576b\"],[0.6666666666666666,\"#ed7953\"],[0.7777777777777778,\"#fb9f3a\"],[0.8888888888888888,\"#fdca26\"],[1.0,\"#f0f921\"]],\"sequentialminus\":[[0.0,\"#0d0887\"],[0.1111111111111111,\"#46039f\"],[0.2222222222222222,\"#7201a8\"],[0.3333333333333333,\"#9c179e\"],[0.4444444444444444,\"#bd3786\"],[0.5555555555555556,\"#d8576b\"],[0.6666666666666666,\"#ed7953\"],[0.7777777777777778,\"#fb9f3a\"],[0.8888888888888888,\"#fdca26\"],[1.0,\"#f0f921\"]]},\"colorway\":[\"#636efa\",\"#EF553B\",\"#00cc96\",\"#ab63fa\",\"#FFA15A\",\"#19d3f3\",\"#FF6692\",\"#B6E880\",\"#FF97FF\",\"#FECB52\"],\"font\":{\"color\":\"#2a3f5f\"},\"geo\":{\"bgcolor\":\"white\",\"lakecolor\":\"white\",\"landcolor\":\"#E5ECF6\",\"showlakes\":true,\"showland\":true,\"subunitcolor\":\"white\"},\"hoverlabel\":{\"align\":\"left\"},\"hovermode\":\"closest\",\"mapbox\":{\"style\":\"light\"},\"paper_bgcolor\":\"white\",\"plot_bgcolor\":\"#E5ECF6\",\"polar\":{\"angularaxis\":{\"gridcolor\":\"white\",\"linecolor\":\"white\",\"ticks\":\"\"},\"bgcolor\":\"#E5ECF6\",\"radialaxis\":{\"gridcolor\":\"white\",\"linecolor\":\"white\",\"ticks\":\"\"}},\"scene\":{\"xaxis\":{\"backgroundcolor\":\"#E5ECF6\",\"gridcolor\":\"white\",\"gridwidth\":2,\"linecolor\":\"white\",\"showbackground\":true,\"ticks\":\"\",\"zerolinecolor\":\"white\"},\"yaxis\":{\"backgroundcolor\":\"#E5ECF6\",\"gridcolor\":\"white\",\"gridwidth\":2,\"linecolor\":\"white\",\"showbackground\":true,\"ticks\":\"\",\"zerolinecolor\":\"white\"},\"zaxis\":{\"backgroundcolor\":\"#E5ECF6\",\"gridcolor\":\"white\",\"gridwidth\":2,\"linecolor\":\"white\",\"showbackground\":true,\"ticks\":\"\",\"zerolinecolor\":\"white\"}},\"shapedefaults\":{\"line\":{\"color\":\"#2a3f5f\"}},\"ternary\":{\"aaxis\":{\"gridcolor\":\"white\",\"linecolor\":\"white\",\"ticks\":\"\"},\"baxis\":{\"gridcolor\":\"white\",\"linecolor\":\"white\",\"ticks\":\"\"},\"bgcolor\":\"#E5ECF6\",\"caxis\":{\"gridcolor\":\"white\",\"linecolor\":\"white\",\"ticks\":\"\"}},\"title\":{\"x\":0.05},\"xaxis\":{\"automargin\":true,\"gridcolor\":\"white\",\"linecolor\":\"white\",\"ticks\":\"\",\"title\":{\"standoff\":15},\"zerolinecolor\":\"white\",\"zerolinewidth\":2},\"yaxis\":{\"automargin\":true,\"gridcolor\":\"white\",\"linecolor\":\"white\",\"ticks\":\"\",\"title\":{\"standoff\":15},\"zerolinecolor\":\"white\",\"zerolinewidth\":2}}},\"title\":{\"font\":{\"color\":\"#4D5663\"}},\"xaxis\":{\"gridcolor\":\"#E1E5ED\",\"showgrid\":true,\"tickfont\":{\"color\":\"#4D5663\"},\"title\":{\"font\":{\"color\":\"#4D5663\"},\"text\":\"\"},\"zerolinecolor\":\"#E1E5ED\"},\"yaxis\":{\"gridcolor\":\"#E1E5ED\",\"showgrid\":true,\"tickfont\":{\"color\":\"#4D5663\"},\"title\":{\"font\":{\"color\":\"#4D5663\"},\"text\":\"\"},\"zerolinecolor\":\"#E1E5ED\"}},                        {\"showLink\": true, \"linkText\": \"Export to plot.ly\", \"plotlyServerURL\": \"https://plot.ly\", \"responsive\": true}                    ).then(function(){\n",
       "                            \n",
       "var gd = document.getElementById('2524d028-7f51-4cc5-a76b-b838f3df2f70');\n",
       "var x = new MutationObserver(function (mutations, observer) {{\n",
       "        var display = window.getComputedStyle(gd).display;\n",
       "        if (!display || display === 'none') {{\n",
       "            console.log([gd, 'removed!']);\n",
       "            Plotly.purge(gd);\n",
       "            observer.disconnect();\n",
       "        }}\n",
       "}});\n",
       "\n",
       "// Listen for the removal of the full notebook cells\n",
       "var notebookContainer = gd.closest('#notebook-container');\n",
       "if (notebookContainer) {{\n",
       "    x.observe(notebookContainer, {childList: true});\n",
       "}}\n",
       "\n",
       "// Listen for the clearing of the current output cell\n",
       "var outputEl = gd.closest('.output');\n",
       "if (outputEl) {{\n",
       "    x.observe(outputEl, {childList: true});\n",
       "}}\n",
       "\n",
       "                        })                };                });            </script>        </div>"
      ]
     },
     "metadata": {},
     "output_type": "display_data"
    }
   ],
   "source": [
    "df.iplot(kind='scatter',x='A',y='B',mode='markers',size=10)"
   ]
  },
  {
   "cell_type": "markdown",
   "metadata": {},
   "source": [
    "## Bar Plots"
   ]
  },
  {
   "cell_type": "code",
   "execution_count": 13,
   "metadata": {},
   "outputs": [
    {
     "data": {
      "application/vnd.plotly.v1+json": {
       "config": {
        "linkText": "Export to plot.ly",
        "plotlyServerURL": "https://plot.ly",
        "showLink": true
       },
       "data": [
        {
         "marker": {
          "color": "rgba(255, 153, 51, 0.6)",
          "line": {
           "color": "rgba(255, 153, 51, 1.0)",
           "width": 1
          }
         },
         "name": "Values",
         "orientation": "v",
         "text": "",
         "type": "bar",
         "x": [
          "A",
          "B",
          "C"
         ],
         "y": [
          32,
          43,
          50
         ]
        }
       ],
       "layout": {
        "legend": {
         "bgcolor": "#F5F6F9",
         "font": {
          "color": "#4D5663"
         }
        },
        "paper_bgcolor": "#F5F6F9",
        "plot_bgcolor": "#F5F6F9",
        "template": {
         "data": {
          "bar": [
           {
            "error_x": {
             "color": "#2a3f5f"
            },
            "error_y": {
             "color": "#2a3f5f"
            },
            "marker": {
             "line": {
              "color": "#E5ECF6",
              "width": 0.5
             },
             "pattern": {
              "fillmode": "overlay",
              "size": 10,
              "solidity": 0.2
             }
            },
            "type": "bar"
           }
          ],
          "barpolar": [
           {
            "marker": {
             "line": {
              "color": "#E5ECF6",
              "width": 0.5
             },
             "pattern": {
              "fillmode": "overlay",
              "size": 10,
              "solidity": 0.2
             }
            },
            "type": "barpolar"
           }
          ],
          "carpet": [
           {
            "aaxis": {
             "endlinecolor": "#2a3f5f",
             "gridcolor": "white",
             "linecolor": "white",
             "minorgridcolor": "white",
             "startlinecolor": "#2a3f5f"
            },
            "baxis": {
             "endlinecolor": "#2a3f5f",
             "gridcolor": "white",
             "linecolor": "white",
             "minorgridcolor": "white",
             "startlinecolor": "#2a3f5f"
            },
            "type": "carpet"
           }
          ],
          "choropleth": [
           {
            "colorbar": {
             "outlinewidth": 0,
             "ticks": ""
            },
            "type": "choropleth"
           }
          ],
          "contour": [
           {
            "colorbar": {
             "outlinewidth": 0,
             "ticks": ""
            },
            "colorscale": [
             [
              0,
              "#0d0887"
             ],
             [
              0.1111111111111111,
              "#46039f"
             ],
             [
              0.2222222222222222,
              "#7201a8"
             ],
             [
              0.3333333333333333,
              "#9c179e"
             ],
             [
              0.4444444444444444,
              "#bd3786"
             ],
             [
              0.5555555555555556,
              "#d8576b"
             ],
             [
              0.6666666666666666,
              "#ed7953"
             ],
             [
              0.7777777777777778,
              "#fb9f3a"
             ],
             [
              0.8888888888888888,
              "#fdca26"
             ],
             [
              1,
              "#f0f921"
             ]
            ],
            "type": "contour"
           }
          ],
          "contourcarpet": [
           {
            "colorbar": {
             "outlinewidth": 0,
             "ticks": ""
            },
            "type": "contourcarpet"
           }
          ],
          "heatmap": [
           {
            "colorbar": {
             "outlinewidth": 0,
             "ticks": ""
            },
            "colorscale": [
             [
              0,
              "#0d0887"
             ],
             [
              0.1111111111111111,
              "#46039f"
             ],
             [
              0.2222222222222222,
              "#7201a8"
             ],
             [
              0.3333333333333333,
              "#9c179e"
             ],
             [
              0.4444444444444444,
              "#bd3786"
             ],
             [
              0.5555555555555556,
              "#d8576b"
             ],
             [
              0.6666666666666666,
              "#ed7953"
             ],
             [
              0.7777777777777778,
              "#fb9f3a"
             ],
             [
              0.8888888888888888,
              "#fdca26"
             ],
             [
              1,
              "#f0f921"
             ]
            ],
            "type": "heatmap"
           }
          ],
          "heatmapgl": [
           {
            "colorbar": {
             "outlinewidth": 0,
             "ticks": ""
            },
            "colorscale": [
             [
              0,
              "#0d0887"
             ],
             [
              0.1111111111111111,
              "#46039f"
             ],
             [
              0.2222222222222222,
              "#7201a8"
             ],
             [
              0.3333333333333333,
              "#9c179e"
             ],
             [
              0.4444444444444444,
              "#bd3786"
             ],
             [
              0.5555555555555556,
              "#d8576b"
             ],
             [
              0.6666666666666666,
              "#ed7953"
             ],
             [
              0.7777777777777778,
              "#fb9f3a"
             ],
             [
              0.8888888888888888,
              "#fdca26"
             ],
             [
              1,
              "#f0f921"
             ]
            ],
            "type": "heatmapgl"
           }
          ],
          "histogram": [
           {
            "marker": {
             "pattern": {
              "fillmode": "overlay",
              "size": 10,
              "solidity": 0.2
             }
            },
            "type": "histogram"
           }
          ],
          "histogram2d": [
           {
            "colorbar": {
             "outlinewidth": 0,
             "ticks": ""
            },
            "colorscale": [
             [
              0,
              "#0d0887"
             ],
             [
              0.1111111111111111,
              "#46039f"
             ],
             [
              0.2222222222222222,
              "#7201a8"
             ],
             [
              0.3333333333333333,
              "#9c179e"
             ],
             [
              0.4444444444444444,
              "#bd3786"
             ],
             [
              0.5555555555555556,
              "#d8576b"
             ],
             [
              0.6666666666666666,
              "#ed7953"
             ],
             [
              0.7777777777777778,
              "#fb9f3a"
             ],
             [
              0.8888888888888888,
              "#fdca26"
             ],
             [
              1,
              "#f0f921"
             ]
            ],
            "type": "histogram2d"
           }
          ],
          "histogram2dcontour": [
           {
            "colorbar": {
             "outlinewidth": 0,
             "ticks": ""
            },
            "colorscale": [
             [
              0,
              "#0d0887"
             ],
             [
              0.1111111111111111,
              "#46039f"
             ],
             [
              0.2222222222222222,
              "#7201a8"
             ],
             [
              0.3333333333333333,
              "#9c179e"
             ],
             [
              0.4444444444444444,
              "#bd3786"
             ],
             [
              0.5555555555555556,
              "#d8576b"
             ],
             [
              0.6666666666666666,
              "#ed7953"
             ],
             [
              0.7777777777777778,
              "#fb9f3a"
             ],
             [
              0.8888888888888888,
              "#fdca26"
             ],
             [
              1,
              "#f0f921"
             ]
            ],
            "type": "histogram2dcontour"
           }
          ],
          "mesh3d": [
           {
            "colorbar": {
             "outlinewidth": 0,
             "ticks": ""
            },
            "type": "mesh3d"
           }
          ],
          "parcoords": [
           {
            "line": {
             "colorbar": {
              "outlinewidth": 0,
              "ticks": ""
             }
            },
            "type": "parcoords"
           }
          ],
          "pie": [
           {
            "automargin": true,
            "type": "pie"
           }
          ],
          "scatter": [
           {
            "marker": {
             "colorbar": {
              "outlinewidth": 0,
              "ticks": ""
             }
            },
            "type": "scatter"
           }
          ],
          "scatter3d": [
           {
            "line": {
             "colorbar": {
              "outlinewidth": 0,
              "ticks": ""
             }
            },
            "marker": {
             "colorbar": {
              "outlinewidth": 0,
              "ticks": ""
             }
            },
            "type": "scatter3d"
           }
          ],
          "scattercarpet": [
           {
            "marker": {
             "colorbar": {
              "outlinewidth": 0,
              "ticks": ""
             }
            },
            "type": "scattercarpet"
           }
          ],
          "scattergeo": [
           {
            "marker": {
             "colorbar": {
              "outlinewidth": 0,
              "ticks": ""
             }
            },
            "type": "scattergeo"
           }
          ],
          "scattergl": [
           {
            "marker": {
             "colorbar": {
              "outlinewidth": 0,
              "ticks": ""
             }
            },
            "type": "scattergl"
           }
          ],
          "scattermapbox": [
           {
            "marker": {
             "colorbar": {
              "outlinewidth": 0,
              "ticks": ""
             }
            },
            "type": "scattermapbox"
           }
          ],
          "scatterpolar": [
           {
            "marker": {
             "colorbar": {
              "outlinewidth": 0,
              "ticks": ""
             }
            },
            "type": "scatterpolar"
           }
          ],
          "scatterpolargl": [
           {
            "marker": {
             "colorbar": {
              "outlinewidth": 0,
              "ticks": ""
             }
            },
            "type": "scatterpolargl"
           }
          ],
          "scatterternary": [
           {
            "marker": {
             "colorbar": {
              "outlinewidth": 0,
              "ticks": ""
             }
            },
            "type": "scatterternary"
           }
          ],
          "surface": [
           {
            "colorbar": {
             "outlinewidth": 0,
             "ticks": ""
            },
            "colorscale": [
             [
              0,
              "#0d0887"
             ],
             [
              0.1111111111111111,
              "#46039f"
             ],
             [
              0.2222222222222222,
              "#7201a8"
             ],
             [
              0.3333333333333333,
              "#9c179e"
             ],
             [
              0.4444444444444444,
              "#bd3786"
             ],
             [
              0.5555555555555556,
              "#d8576b"
             ],
             [
              0.6666666666666666,
              "#ed7953"
             ],
             [
              0.7777777777777778,
              "#fb9f3a"
             ],
             [
              0.8888888888888888,
              "#fdca26"
             ],
             [
              1,
              "#f0f921"
             ]
            ],
            "type": "surface"
           }
          ],
          "table": [
           {
            "cells": {
             "fill": {
              "color": "#EBF0F8"
             },
             "line": {
              "color": "white"
             }
            },
            "header": {
             "fill": {
              "color": "#C8D4E3"
             },
             "line": {
              "color": "white"
             }
            },
            "type": "table"
           }
          ]
         },
         "layout": {
          "annotationdefaults": {
           "arrowcolor": "#2a3f5f",
           "arrowhead": 0,
           "arrowwidth": 1
          },
          "autotypenumbers": "strict",
          "coloraxis": {
           "colorbar": {
            "outlinewidth": 0,
            "ticks": ""
           }
          },
          "colorscale": {
           "diverging": [
            [
             0,
             "#8e0152"
            ],
            [
             0.1,
             "#c51b7d"
            ],
            [
             0.2,
             "#de77ae"
            ],
            [
             0.3,
             "#f1b6da"
            ],
            [
             0.4,
             "#fde0ef"
            ],
            [
             0.5,
             "#f7f7f7"
            ],
            [
             0.6,
             "#e6f5d0"
            ],
            [
             0.7,
             "#b8e186"
            ],
            [
             0.8,
             "#7fbc41"
            ],
            [
             0.9,
             "#4d9221"
            ],
            [
             1,
             "#276419"
            ]
           ],
           "sequential": [
            [
             0,
             "#0d0887"
            ],
            [
             0.1111111111111111,
             "#46039f"
            ],
            [
             0.2222222222222222,
             "#7201a8"
            ],
            [
             0.3333333333333333,
             "#9c179e"
            ],
            [
             0.4444444444444444,
             "#bd3786"
            ],
            [
             0.5555555555555556,
             "#d8576b"
            ],
            [
             0.6666666666666666,
             "#ed7953"
            ],
            [
             0.7777777777777778,
             "#fb9f3a"
            ],
            [
             0.8888888888888888,
             "#fdca26"
            ],
            [
             1,
             "#f0f921"
            ]
           ],
           "sequentialminus": [
            [
             0,
             "#0d0887"
            ],
            [
             0.1111111111111111,
             "#46039f"
            ],
            [
             0.2222222222222222,
             "#7201a8"
            ],
            [
             0.3333333333333333,
             "#9c179e"
            ],
            [
             0.4444444444444444,
             "#bd3786"
            ],
            [
             0.5555555555555556,
             "#d8576b"
            ],
            [
             0.6666666666666666,
             "#ed7953"
            ],
            [
             0.7777777777777778,
             "#fb9f3a"
            ],
            [
             0.8888888888888888,
             "#fdca26"
            ],
            [
             1,
             "#f0f921"
            ]
           ]
          },
          "colorway": [
           "#636efa",
           "#EF553B",
           "#00cc96",
           "#ab63fa",
           "#FFA15A",
           "#19d3f3",
           "#FF6692",
           "#B6E880",
           "#FF97FF",
           "#FECB52"
          ],
          "font": {
           "color": "#2a3f5f"
          },
          "geo": {
           "bgcolor": "white",
           "lakecolor": "white",
           "landcolor": "#E5ECF6",
           "showlakes": true,
           "showland": true,
           "subunitcolor": "white"
          },
          "hoverlabel": {
           "align": "left"
          },
          "hovermode": "closest",
          "mapbox": {
           "style": "light"
          },
          "paper_bgcolor": "white",
          "plot_bgcolor": "#E5ECF6",
          "polar": {
           "angularaxis": {
            "gridcolor": "white",
            "linecolor": "white",
            "ticks": ""
           },
           "bgcolor": "#E5ECF6",
           "radialaxis": {
            "gridcolor": "white",
            "linecolor": "white",
            "ticks": ""
           }
          },
          "scene": {
           "xaxis": {
            "backgroundcolor": "#E5ECF6",
            "gridcolor": "white",
            "gridwidth": 2,
            "linecolor": "white",
            "showbackground": true,
            "ticks": "",
            "zerolinecolor": "white"
           },
           "yaxis": {
            "backgroundcolor": "#E5ECF6",
            "gridcolor": "white",
            "gridwidth": 2,
            "linecolor": "white",
            "showbackground": true,
            "ticks": "",
            "zerolinecolor": "white"
           },
           "zaxis": {
            "backgroundcolor": "#E5ECF6",
            "gridcolor": "white",
            "gridwidth": 2,
            "linecolor": "white",
            "showbackground": true,
            "ticks": "",
            "zerolinecolor": "white"
           }
          },
          "shapedefaults": {
           "line": {
            "color": "#2a3f5f"
           }
          },
          "ternary": {
           "aaxis": {
            "gridcolor": "white",
            "linecolor": "white",
            "ticks": ""
           },
           "baxis": {
            "gridcolor": "white",
            "linecolor": "white",
            "ticks": ""
           },
           "bgcolor": "#E5ECF6",
           "caxis": {
            "gridcolor": "white",
            "linecolor": "white",
            "ticks": ""
           }
          },
          "title": {
           "x": 0.05
          },
          "xaxis": {
           "automargin": true,
           "gridcolor": "white",
           "linecolor": "white",
           "ticks": "",
           "title": {
            "standoff": 15
           },
           "zerolinecolor": "white",
           "zerolinewidth": 2
          },
          "yaxis": {
           "automargin": true,
           "gridcolor": "white",
           "linecolor": "white",
           "ticks": "",
           "title": {
            "standoff": 15
           },
           "zerolinecolor": "white",
           "zerolinewidth": 2
          }
         }
        },
        "title": {
         "font": {
          "color": "#4D5663"
         }
        },
        "xaxis": {
         "gridcolor": "#E1E5ED",
         "showgrid": true,
         "tickfont": {
          "color": "#4D5663"
         },
         "title": {
          "font": {
           "color": "#4D5663"
          },
          "text": ""
         },
         "zerolinecolor": "#E1E5ED"
        },
        "yaxis": {
         "gridcolor": "#E1E5ED",
         "showgrid": true,
         "tickfont": {
          "color": "#4D5663"
         },
         "title": {
          "font": {
           "color": "#4D5663"
          },
          "text": ""
         },
         "zerolinecolor": "#E1E5ED"
        }
       }
      },
      "text/html": [
       "<div>                            <div id=\"a0fd8fbc-75e6-41ab-8509-da0f4fa98636\" class=\"plotly-graph-div\" style=\"height:525px; width:100%;\"></div>            <script type=\"text/javascript\">                require([\"plotly\"], function(Plotly) {                    window.PLOTLYENV=window.PLOTLYENV || {};\n",
       "                    window.PLOTLYENV.BASE_URL='https://plot.ly';                                    if (document.getElementById(\"a0fd8fbc-75e6-41ab-8509-da0f4fa98636\")) {                    Plotly.newPlot(                        \"a0fd8fbc-75e6-41ab-8509-da0f4fa98636\",                        [{\"marker\":{\"color\":\"rgba(255, 153, 51, 0.6)\",\"line\":{\"color\":\"rgba(255, 153, 51, 1.0)\",\"width\":1}},\"name\":\"Values\",\"orientation\":\"v\",\"text\":\"\",\"type\":\"bar\",\"x\":[\"A\",\"B\",\"C\"],\"y\":[32,43,50]}],                        {\"legend\":{\"bgcolor\":\"#F5F6F9\",\"font\":{\"color\":\"#4D5663\"}},\"paper_bgcolor\":\"#F5F6F9\",\"plot_bgcolor\":\"#F5F6F9\",\"template\":{\"data\":{\"bar\":[{\"error_x\":{\"color\":\"#2a3f5f\"},\"error_y\":{\"color\":\"#2a3f5f\"},\"marker\":{\"line\":{\"color\":\"#E5ECF6\",\"width\":0.5},\"pattern\":{\"fillmode\":\"overlay\",\"size\":10,\"solidity\":0.2}},\"type\":\"bar\"}],\"barpolar\":[{\"marker\":{\"line\":{\"color\":\"#E5ECF6\",\"width\":0.5},\"pattern\":{\"fillmode\":\"overlay\",\"size\":10,\"solidity\":0.2}},\"type\":\"barpolar\"}],\"carpet\":[{\"aaxis\":{\"endlinecolor\":\"#2a3f5f\",\"gridcolor\":\"white\",\"linecolor\":\"white\",\"minorgridcolor\":\"white\",\"startlinecolor\":\"#2a3f5f\"},\"baxis\":{\"endlinecolor\":\"#2a3f5f\",\"gridcolor\":\"white\",\"linecolor\":\"white\",\"minorgridcolor\":\"white\",\"startlinecolor\":\"#2a3f5f\"},\"type\":\"carpet\"}],\"choropleth\":[{\"colorbar\":{\"outlinewidth\":0,\"ticks\":\"\"},\"type\":\"choropleth\"}],\"contour\":[{\"colorbar\":{\"outlinewidth\":0,\"ticks\":\"\"},\"colorscale\":[[0.0,\"#0d0887\"],[0.1111111111111111,\"#46039f\"],[0.2222222222222222,\"#7201a8\"],[0.3333333333333333,\"#9c179e\"],[0.4444444444444444,\"#bd3786\"],[0.5555555555555556,\"#d8576b\"],[0.6666666666666666,\"#ed7953\"],[0.7777777777777778,\"#fb9f3a\"],[0.8888888888888888,\"#fdca26\"],[1.0,\"#f0f921\"]],\"type\":\"contour\"}],\"contourcarpet\":[{\"colorbar\":{\"outlinewidth\":0,\"ticks\":\"\"},\"type\":\"contourcarpet\"}],\"heatmap\":[{\"colorbar\":{\"outlinewidth\":0,\"ticks\":\"\"},\"colorscale\":[[0.0,\"#0d0887\"],[0.1111111111111111,\"#46039f\"],[0.2222222222222222,\"#7201a8\"],[0.3333333333333333,\"#9c179e\"],[0.4444444444444444,\"#bd3786\"],[0.5555555555555556,\"#d8576b\"],[0.6666666666666666,\"#ed7953\"],[0.7777777777777778,\"#fb9f3a\"],[0.8888888888888888,\"#fdca26\"],[1.0,\"#f0f921\"]],\"type\":\"heatmap\"}],\"heatmapgl\":[{\"colorbar\":{\"outlinewidth\":0,\"ticks\":\"\"},\"colorscale\":[[0.0,\"#0d0887\"],[0.1111111111111111,\"#46039f\"],[0.2222222222222222,\"#7201a8\"],[0.3333333333333333,\"#9c179e\"],[0.4444444444444444,\"#bd3786\"],[0.5555555555555556,\"#d8576b\"],[0.6666666666666666,\"#ed7953\"],[0.7777777777777778,\"#fb9f3a\"],[0.8888888888888888,\"#fdca26\"],[1.0,\"#f0f921\"]],\"type\":\"heatmapgl\"}],\"histogram\":[{\"marker\":{\"pattern\":{\"fillmode\":\"overlay\",\"size\":10,\"solidity\":0.2}},\"type\":\"histogram\"}],\"histogram2d\":[{\"colorbar\":{\"outlinewidth\":0,\"ticks\":\"\"},\"colorscale\":[[0.0,\"#0d0887\"],[0.1111111111111111,\"#46039f\"],[0.2222222222222222,\"#7201a8\"],[0.3333333333333333,\"#9c179e\"],[0.4444444444444444,\"#bd3786\"],[0.5555555555555556,\"#d8576b\"],[0.6666666666666666,\"#ed7953\"],[0.7777777777777778,\"#fb9f3a\"],[0.8888888888888888,\"#fdca26\"],[1.0,\"#f0f921\"]],\"type\":\"histogram2d\"}],\"histogram2dcontour\":[{\"colorbar\":{\"outlinewidth\":0,\"ticks\":\"\"},\"colorscale\":[[0.0,\"#0d0887\"],[0.1111111111111111,\"#46039f\"],[0.2222222222222222,\"#7201a8\"],[0.3333333333333333,\"#9c179e\"],[0.4444444444444444,\"#bd3786\"],[0.5555555555555556,\"#d8576b\"],[0.6666666666666666,\"#ed7953\"],[0.7777777777777778,\"#fb9f3a\"],[0.8888888888888888,\"#fdca26\"],[1.0,\"#f0f921\"]],\"type\":\"histogram2dcontour\"}],\"mesh3d\":[{\"colorbar\":{\"outlinewidth\":0,\"ticks\":\"\"},\"type\":\"mesh3d\"}],\"parcoords\":[{\"line\":{\"colorbar\":{\"outlinewidth\":0,\"ticks\":\"\"}},\"type\":\"parcoords\"}],\"pie\":[{\"automargin\":true,\"type\":\"pie\"}],\"scatter\":[{\"marker\":{\"colorbar\":{\"outlinewidth\":0,\"ticks\":\"\"}},\"type\":\"scatter\"}],\"scatter3d\":[{\"line\":{\"colorbar\":{\"outlinewidth\":0,\"ticks\":\"\"}},\"marker\":{\"colorbar\":{\"outlinewidth\":0,\"ticks\":\"\"}},\"type\":\"scatter3d\"}],\"scattercarpet\":[{\"marker\":{\"colorbar\":{\"outlinewidth\":0,\"ticks\":\"\"}},\"type\":\"scattercarpet\"}],\"scattergeo\":[{\"marker\":{\"colorbar\":{\"outlinewidth\":0,\"ticks\":\"\"}},\"type\":\"scattergeo\"}],\"scattergl\":[{\"marker\":{\"colorbar\":{\"outlinewidth\":0,\"ticks\":\"\"}},\"type\":\"scattergl\"}],\"scattermapbox\":[{\"marker\":{\"colorbar\":{\"outlinewidth\":0,\"ticks\":\"\"}},\"type\":\"scattermapbox\"}],\"scatterpolar\":[{\"marker\":{\"colorbar\":{\"outlinewidth\":0,\"ticks\":\"\"}},\"type\":\"scatterpolar\"}],\"scatterpolargl\":[{\"marker\":{\"colorbar\":{\"outlinewidth\":0,\"ticks\":\"\"}},\"type\":\"scatterpolargl\"}],\"scatterternary\":[{\"marker\":{\"colorbar\":{\"outlinewidth\":0,\"ticks\":\"\"}},\"type\":\"scatterternary\"}],\"surface\":[{\"colorbar\":{\"outlinewidth\":0,\"ticks\":\"\"},\"colorscale\":[[0.0,\"#0d0887\"],[0.1111111111111111,\"#46039f\"],[0.2222222222222222,\"#7201a8\"],[0.3333333333333333,\"#9c179e\"],[0.4444444444444444,\"#bd3786\"],[0.5555555555555556,\"#d8576b\"],[0.6666666666666666,\"#ed7953\"],[0.7777777777777778,\"#fb9f3a\"],[0.8888888888888888,\"#fdca26\"],[1.0,\"#f0f921\"]],\"type\":\"surface\"}],\"table\":[{\"cells\":{\"fill\":{\"color\":\"#EBF0F8\"},\"line\":{\"color\":\"white\"}},\"header\":{\"fill\":{\"color\":\"#C8D4E3\"},\"line\":{\"color\":\"white\"}},\"type\":\"table\"}]},\"layout\":{\"annotationdefaults\":{\"arrowcolor\":\"#2a3f5f\",\"arrowhead\":0,\"arrowwidth\":1},\"autotypenumbers\":\"strict\",\"coloraxis\":{\"colorbar\":{\"outlinewidth\":0,\"ticks\":\"\"}},\"colorscale\":{\"diverging\":[[0,\"#8e0152\"],[0.1,\"#c51b7d\"],[0.2,\"#de77ae\"],[0.3,\"#f1b6da\"],[0.4,\"#fde0ef\"],[0.5,\"#f7f7f7\"],[0.6,\"#e6f5d0\"],[0.7,\"#b8e186\"],[0.8,\"#7fbc41\"],[0.9,\"#4d9221\"],[1,\"#276419\"]],\"sequential\":[[0.0,\"#0d0887\"],[0.1111111111111111,\"#46039f\"],[0.2222222222222222,\"#7201a8\"],[0.3333333333333333,\"#9c179e\"],[0.4444444444444444,\"#bd3786\"],[0.5555555555555556,\"#d8576b\"],[0.6666666666666666,\"#ed7953\"],[0.7777777777777778,\"#fb9f3a\"],[0.8888888888888888,\"#fdca26\"],[1.0,\"#f0f921\"]],\"sequentialminus\":[[0.0,\"#0d0887\"],[0.1111111111111111,\"#46039f\"],[0.2222222222222222,\"#7201a8\"],[0.3333333333333333,\"#9c179e\"],[0.4444444444444444,\"#bd3786\"],[0.5555555555555556,\"#d8576b\"],[0.6666666666666666,\"#ed7953\"],[0.7777777777777778,\"#fb9f3a\"],[0.8888888888888888,\"#fdca26\"],[1.0,\"#f0f921\"]]},\"colorway\":[\"#636efa\",\"#EF553B\",\"#00cc96\",\"#ab63fa\",\"#FFA15A\",\"#19d3f3\",\"#FF6692\",\"#B6E880\",\"#FF97FF\",\"#FECB52\"],\"font\":{\"color\":\"#2a3f5f\"},\"geo\":{\"bgcolor\":\"white\",\"lakecolor\":\"white\",\"landcolor\":\"#E5ECF6\",\"showlakes\":true,\"showland\":true,\"subunitcolor\":\"white\"},\"hoverlabel\":{\"align\":\"left\"},\"hovermode\":\"closest\",\"mapbox\":{\"style\":\"light\"},\"paper_bgcolor\":\"white\",\"plot_bgcolor\":\"#E5ECF6\",\"polar\":{\"angularaxis\":{\"gridcolor\":\"white\",\"linecolor\":\"white\",\"ticks\":\"\"},\"bgcolor\":\"#E5ECF6\",\"radialaxis\":{\"gridcolor\":\"white\",\"linecolor\":\"white\",\"ticks\":\"\"}},\"scene\":{\"xaxis\":{\"backgroundcolor\":\"#E5ECF6\",\"gridcolor\":\"white\",\"gridwidth\":2,\"linecolor\":\"white\",\"showbackground\":true,\"ticks\":\"\",\"zerolinecolor\":\"white\"},\"yaxis\":{\"backgroundcolor\":\"#E5ECF6\",\"gridcolor\":\"white\",\"gridwidth\":2,\"linecolor\":\"white\",\"showbackground\":true,\"ticks\":\"\",\"zerolinecolor\":\"white\"},\"zaxis\":{\"backgroundcolor\":\"#E5ECF6\",\"gridcolor\":\"white\",\"gridwidth\":2,\"linecolor\":\"white\",\"showbackground\":true,\"ticks\":\"\",\"zerolinecolor\":\"white\"}},\"shapedefaults\":{\"line\":{\"color\":\"#2a3f5f\"}},\"ternary\":{\"aaxis\":{\"gridcolor\":\"white\",\"linecolor\":\"white\",\"ticks\":\"\"},\"baxis\":{\"gridcolor\":\"white\",\"linecolor\":\"white\",\"ticks\":\"\"},\"bgcolor\":\"#E5ECF6\",\"caxis\":{\"gridcolor\":\"white\",\"linecolor\":\"white\",\"ticks\":\"\"}},\"title\":{\"x\":0.05},\"xaxis\":{\"automargin\":true,\"gridcolor\":\"white\",\"linecolor\":\"white\",\"ticks\":\"\",\"title\":{\"standoff\":15},\"zerolinecolor\":\"white\",\"zerolinewidth\":2},\"yaxis\":{\"automargin\":true,\"gridcolor\":\"white\",\"linecolor\":\"white\",\"ticks\":\"\",\"title\":{\"standoff\":15},\"zerolinecolor\":\"white\",\"zerolinewidth\":2}}},\"title\":{\"font\":{\"color\":\"#4D5663\"}},\"xaxis\":{\"gridcolor\":\"#E1E5ED\",\"showgrid\":true,\"tickfont\":{\"color\":\"#4D5663\"},\"title\":{\"font\":{\"color\":\"#4D5663\"},\"text\":\"\"},\"zerolinecolor\":\"#E1E5ED\"},\"yaxis\":{\"gridcolor\":\"#E1E5ED\",\"showgrid\":true,\"tickfont\":{\"color\":\"#4D5663\"},\"title\":{\"font\":{\"color\":\"#4D5663\"},\"text\":\"\"},\"zerolinecolor\":\"#E1E5ED\"}},                        {\"showLink\": true, \"linkText\": \"Export to plot.ly\", \"plotlyServerURL\": \"https://plot.ly\", \"responsive\": true}                    ).then(function(){\n",
       "                            \n",
       "var gd = document.getElementById('a0fd8fbc-75e6-41ab-8509-da0f4fa98636');\n",
       "var x = new MutationObserver(function (mutations, observer) {{\n",
       "        var display = window.getComputedStyle(gd).display;\n",
       "        if (!display || display === 'none') {{\n",
       "            console.log([gd, 'removed!']);\n",
       "            Plotly.purge(gd);\n",
       "            observer.disconnect();\n",
       "        }}\n",
       "}});\n",
       "\n",
       "// Listen for the removal of the full notebook cells\n",
       "var notebookContainer = gd.closest('#notebook-container');\n",
       "if (notebookContainer) {{\n",
       "    x.observe(notebookContainer, {childList: true});\n",
       "}}\n",
       "\n",
       "// Listen for the clearing of the current output cell\n",
       "var outputEl = gd.closest('.output');\n",
       "if (outputEl) {{\n",
       "    x.observe(outputEl, {childList: true});\n",
       "}}\n",
       "\n",
       "                        })                };                });            </script>        </div>"
      ]
     },
     "metadata": {},
     "output_type": "display_data"
    }
   ],
   "source": [
    "df2.iplot(kind='bar',x='Category',y='Values')"
   ]
  },
  {
   "cell_type": "code",
   "execution_count": 14,
   "metadata": {},
   "outputs": [
    {
     "data": {
      "application/vnd.plotly.v1+json": {
       "config": {
        "linkText": "Export to plot.ly",
        "plotlyServerURL": "https://plot.ly",
        "showLink": true
       },
       "data": [
        {
         "marker": {
          "color": "rgba(255, 153, 51, 0.6)",
          "line": {
           "color": "rgba(255, 153, 51, 1.0)",
           "width": 1
          }
         },
         "name": "None",
         "orientation": "v",
         "text": "",
         "type": "bar",
         "x": [
          "A",
          "B",
          "C",
          "D"
         ],
         "y": [
          100,
          100,
          100,
          100
         ]
        }
       ],
       "layout": {
        "legend": {
         "bgcolor": "#F5F6F9",
         "font": {
          "color": "#4D5663"
         }
        },
        "paper_bgcolor": "#F5F6F9",
        "plot_bgcolor": "#F5F6F9",
        "template": {
         "data": {
          "bar": [
           {
            "error_x": {
             "color": "#2a3f5f"
            },
            "error_y": {
             "color": "#2a3f5f"
            },
            "marker": {
             "line": {
              "color": "#E5ECF6",
              "width": 0.5
             },
             "pattern": {
              "fillmode": "overlay",
              "size": 10,
              "solidity": 0.2
             }
            },
            "type": "bar"
           }
          ],
          "barpolar": [
           {
            "marker": {
             "line": {
              "color": "#E5ECF6",
              "width": 0.5
             },
             "pattern": {
              "fillmode": "overlay",
              "size": 10,
              "solidity": 0.2
             }
            },
            "type": "barpolar"
           }
          ],
          "carpet": [
           {
            "aaxis": {
             "endlinecolor": "#2a3f5f",
             "gridcolor": "white",
             "linecolor": "white",
             "minorgridcolor": "white",
             "startlinecolor": "#2a3f5f"
            },
            "baxis": {
             "endlinecolor": "#2a3f5f",
             "gridcolor": "white",
             "linecolor": "white",
             "minorgridcolor": "white",
             "startlinecolor": "#2a3f5f"
            },
            "type": "carpet"
           }
          ],
          "choropleth": [
           {
            "colorbar": {
             "outlinewidth": 0,
             "ticks": ""
            },
            "type": "choropleth"
           }
          ],
          "contour": [
           {
            "colorbar": {
             "outlinewidth": 0,
             "ticks": ""
            },
            "colorscale": [
             [
              0,
              "#0d0887"
             ],
             [
              0.1111111111111111,
              "#46039f"
             ],
             [
              0.2222222222222222,
              "#7201a8"
             ],
             [
              0.3333333333333333,
              "#9c179e"
             ],
             [
              0.4444444444444444,
              "#bd3786"
             ],
             [
              0.5555555555555556,
              "#d8576b"
             ],
             [
              0.6666666666666666,
              "#ed7953"
             ],
             [
              0.7777777777777778,
              "#fb9f3a"
             ],
             [
              0.8888888888888888,
              "#fdca26"
             ],
             [
              1,
              "#f0f921"
             ]
            ],
            "type": "contour"
           }
          ],
          "contourcarpet": [
           {
            "colorbar": {
             "outlinewidth": 0,
             "ticks": ""
            },
            "type": "contourcarpet"
           }
          ],
          "heatmap": [
           {
            "colorbar": {
             "outlinewidth": 0,
             "ticks": ""
            },
            "colorscale": [
             [
              0,
              "#0d0887"
             ],
             [
              0.1111111111111111,
              "#46039f"
             ],
             [
              0.2222222222222222,
              "#7201a8"
             ],
             [
              0.3333333333333333,
              "#9c179e"
             ],
             [
              0.4444444444444444,
              "#bd3786"
             ],
             [
              0.5555555555555556,
              "#d8576b"
             ],
             [
              0.6666666666666666,
              "#ed7953"
             ],
             [
              0.7777777777777778,
              "#fb9f3a"
             ],
             [
              0.8888888888888888,
              "#fdca26"
             ],
             [
              1,
              "#f0f921"
             ]
            ],
            "type": "heatmap"
           }
          ],
          "heatmapgl": [
           {
            "colorbar": {
             "outlinewidth": 0,
             "ticks": ""
            },
            "colorscale": [
             [
              0,
              "#0d0887"
             ],
             [
              0.1111111111111111,
              "#46039f"
             ],
             [
              0.2222222222222222,
              "#7201a8"
             ],
             [
              0.3333333333333333,
              "#9c179e"
             ],
             [
              0.4444444444444444,
              "#bd3786"
             ],
             [
              0.5555555555555556,
              "#d8576b"
             ],
             [
              0.6666666666666666,
              "#ed7953"
             ],
             [
              0.7777777777777778,
              "#fb9f3a"
             ],
             [
              0.8888888888888888,
              "#fdca26"
             ],
             [
              1,
              "#f0f921"
             ]
            ],
            "type": "heatmapgl"
           }
          ],
          "histogram": [
           {
            "marker": {
             "pattern": {
              "fillmode": "overlay",
              "size": 10,
              "solidity": 0.2
             }
            },
            "type": "histogram"
           }
          ],
          "histogram2d": [
           {
            "colorbar": {
             "outlinewidth": 0,
             "ticks": ""
            },
            "colorscale": [
             [
              0,
              "#0d0887"
             ],
             [
              0.1111111111111111,
              "#46039f"
             ],
             [
              0.2222222222222222,
              "#7201a8"
             ],
             [
              0.3333333333333333,
              "#9c179e"
             ],
             [
              0.4444444444444444,
              "#bd3786"
             ],
             [
              0.5555555555555556,
              "#d8576b"
             ],
             [
              0.6666666666666666,
              "#ed7953"
             ],
             [
              0.7777777777777778,
              "#fb9f3a"
             ],
             [
              0.8888888888888888,
              "#fdca26"
             ],
             [
              1,
              "#f0f921"
             ]
            ],
            "type": "histogram2d"
           }
          ],
          "histogram2dcontour": [
           {
            "colorbar": {
             "outlinewidth": 0,
             "ticks": ""
            },
            "colorscale": [
             [
              0,
              "#0d0887"
             ],
             [
              0.1111111111111111,
              "#46039f"
             ],
             [
              0.2222222222222222,
              "#7201a8"
             ],
             [
              0.3333333333333333,
              "#9c179e"
             ],
             [
              0.4444444444444444,
              "#bd3786"
             ],
             [
              0.5555555555555556,
              "#d8576b"
             ],
             [
              0.6666666666666666,
              "#ed7953"
             ],
             [
              0.7777777777777778,
              "#fb9f3a"
             ],
             [
              0.8888888888888888,
              "#fdca26"
             ],
             [
              1,
              "#f0f921"
             ]
            ],
            "type": "histogram2dcontour"
           }
          ],
          "mesh3d": [
           {
            "colorbar": {
             "outlinewidth": 0,
             "ticks": ""
            },
            "type": "mesh3d"
           }
          ],
          "parcoords": [
           {
            "line": {
             "colorbar": {
              "outlinewidth": 0,
              "ticks": ""
             }
            },
            "type": "parcoords"
           }
          ],
          "pie": [
           {
            "automargin": true,
            "type": "pie"
           }
          ],
          "scatter": [
           {
            "marker": {
             "colorbar": {
              "outlinewidth": 0,
              "ticks": ""
             }
            },
            "type": "scatter"
           }
          ],
          "scatter3d": [
           {
            "line": {
             "colorbar": {
              "outlinewidth": 0,
              "ticks": ""
             }
            },
            "marker": {
             "colorbar": {
              "outlinewidth": 0,
              "ticks": ""
             }
            },
            "type": "scatter3d"
           }
          ],
          "scattercarpet": [
           {
            "marker": {
             "colorbar": {
              "outlinewidth": 0,
              "ticks": ""
             }
            },
            "type": "scattercarpet"
           }
          ],
          "scattergeo": [
           {
            "marker": {
             "colorbar": {
              "outlinewidth": 0,
              "ticks": ""
             }
            },
            "type": "scattergeo"
           }
          ],
          "scattergl": [
           {
            "marker": {
             "colorbar": {
              "outlinewidth": 0,
              "ticks": ""
             }
            },
            "type": "scattergl"
           }
          ],
          "scattermapbox": [
           {
            "marker": {
             "colorbar": {
              "outlinewidth": 0,
              "ticks": ""
             }
            },
            "type": "scattermapbox"
           }
          ],
          "scatterpolar": [
           {
            "marker": {
             "colorbar": {
              "outlinewidth": 0,
              "ticks": ""
             }
            },
            "type": "scatterpolar"
           }
          ],
          "scatterpolargl": [
           {
            "marker": {
             "colorbar": {
              "outlinewidth": 0,
              "ticks": ""
             }
            },
            "type": "scatterpolargl"
           }
          ],
          "scatterternary": [
           {
            "marker": {
             "colorbar": {
              "outlinewidth": 0,
              "ticks": ""
             }
            },
            "type": "scatterternary"
           }
          ],
          "surface": [
           {
            "colorbar": {
             "outlinewidth": 0,
             "ticks": ""
            },
            "colorscale": [
             [
              0,
              "#0d0887"
             ],
             [
              0.1111111111111111,
              "#46039f"
             ],
             [
              0.2222222222222222,
              "#7201a8"
             ],
             [
              0.3333333333333333,
              "#9c179e"
             ],
             [
              0.4444444444444444,
              "#bd3786"
             ],
             [
              0.5555555555555556,
              "#d8576b"
             ],
             [
              0.6666666666666666,
              "#ed7953"
             ],
             [
              0.7777777777777778,
              "#fb9f3a"
             ],
             [
              0.8888888888888888,
              "#fdca26"
             ],
             [
              1,
              "#f0f921"
             ]
            ],
            "type": "surface"
           }
          ],
          "table": [
           {
            "cells": {
             "fill": {
              "color": "#EBF0F8"
             },
             "line": {
              "color": "white"
             }
            },
            "header": {
             "fill": {
              "color": "#C8D4E3"
             },
             "line": {
              "color": "white"
             }
            },
            "type": "table"
           }
          ]
         },
         "layout": {
          "annotationdefaults": {
           "arrowcolor": "#2a3f5f",
           "arrowhead": 0,
           "arrowwidth": 1
          },
          "autotypenumbers": "strict",
          "coloraxis": {
           "colorbar": {
            "outlinewidth": 0,
            "ticks": ""
           }
          },
          "colorscale": {
           "diverging": [
            [
             0,
             "#8e0152"
            ],
            [
             0.1,
             "#c51b7d"
            ],
            [
             0.2,
             "#de77ae"
            ],
            [
             0.3,
             "#f1b6da"
            ],
            [
             0.4,
             "#fde0ef"
            ],
            [
             0.5,
             "#f7f7f7"
            ],
            [
             0.6,
             "#e6f5d0"
            ],
            [
             0.7,
             "#b8e186"
            ],
            [
             0.8,
             "#7fbc41"
            ],
            [
             0.9,
             "#4d9221"
            ],
            [
             1,
             "#276419"
            ]
           ],
           "sequential": [
            [
             0,
             "#0d0887"
            ],
            [
             0.1111111111111111,
             "#46039f"
            ],
            [
             0.2222222222222222,
             "#7201a8"
            ],
            [
             0.3333333333333333,
             "#9c179e"
            ],
            [
             0.4444444444444444,
             "#bd3786"
            ],
            [
             0.5555555555555556,
             "#d8576b"
            ],
            [
             0.6666666666666666,
             "#ed7953"
            ],
            [
             0.7777777777777778,
             "#fb9f3a"
            ],
            [
             0.8888888888888888,
             "#fdca26"
            ],
            [
             1,
             "#f0f921"
            ]
           ],
           "sequentialminus": [
            [
             0,
             "#0d0887"
            ],
            [
             0.1111111111111111,
             "#46039f"
            ],
            [
             0.2222222222222222,
             "#7201a8"
            ],
            [
             0.3333333333333333,
             "#9c179e"
            ],
            [
             0.4444444444444444,
             "#bd3786"
            ],
            [
             0.5555555555555556,
             "#d8576b"
            ],
            [
             0.6666666666666666,
             "#ed7953"
            ],
            [
             0.7777777777777778,
             "#fb9f3a"
            ],
            [
             0.8888888888888888,
             "#fdca26"
            ],
            [
             1,
             "#f0f921"
            ]
           ]
          },
          "colorway": [
           "#636efa",
           "#EF553B",
           "#00cc96",
           "#ab63fa",
           "#FFA15A",
           "#19d3f3",
           "#FF6692",
           "#B6E880",
           "#FF97FF",
           "#FECB52"
          ],
          "font": {
           "color": "#2a3f5f"
          },
          "geo": {
           "bgcolor": "white",
           "lakecolor": "white",
           "landcolor": "#E5ECF6",
           "showlakes": true,
           "showland": true,
           "subunitcolor": "white"
          },
          "hoverlabel": {
           "align": "left"
          },
          "hovermode": "closest",
          "mapbox": {
           "style": "light"
          },
          "paper_bgcolor": "white",
          "plot_bgcolor": "#E5ECF6",
          "polar": {
           "angularaxis": {
            "gridcolor": "white",
            "linecolor": "white",
            "ticks": ""
           },
           "bgcolor": "#E5ECF6",
           "radialaxis": {
            "gridcolor": "white",
            "linecolor": "white",
            "ticks": ""
           }
          },
          "scene": {
           "xaxis": {
            "backgroundcolor": "#E5ECF6",
            "gridcolor": "white",
            "gridwidth": 2,
            "linecolor": "white",
            "showbackground": true,
            "ticks": "",
            "zerolinecolor": "white"
           },
           "yaxis": {
            "backgroundcolor": "#E5ECF6",
            "gridcolor": "white",
            "gridwidth": 2,
            "linecolor": "white",
            "showbackground": true,
            "ticks": "",
            "zerolinecolor": "white"
           },
           "zaxis": {
            "backgroundcolor": "#E5ECF6",
            "gridcolor": "white",
            "gridwidth": 2,
            "linecolor": "white",
            "showbackground": true,
            "ticks": "",
            "zerolinecolor": "white"
           }
          },
          "shapedefaults": {
           "line": {
            "color": "#2a3f5f"
           }
          },
          "ternary": {
           "aaxis": {
            "gridcolor": "white",
            "linecolor": "white",
            "ticks": ""
           },
           "baxis": {
            "gridcolor": "white",
            "linecolor": "white",
            "ticks": ""
           },
           "bgcolor": "#E5ECF6",
           "caxis": {
            "gridcolor": "white",
            "linecolor": "white",
            "ticks": ""
           }
          },
          "title": {
           "x": 0.05
          },
          "xaxis": {
           "automargin": true,
           "gridcolor": "white",
           "linecolor": "white",
           "ticks": "",
           "title": {
            "standoff": 15
           },
           "zerolinecolor": "white",
           "zerolinewidth": 2
          },
          "yaxis": {
           "automargin": true,
           "gridcolor": "white",
           "linecolor": "white",
           "ticks": "",
           "title": {
            "standoff": 15
           },
           "zerolinecolor": "white",
           "zerolinewidth": 2
          }
         }
        },
        "title": {
         "font": {
          "color": "#4D5663"
         }
        },
        "xaxis": {
         "gridcolor": "#E1E5ED",
         "showgrid": true,
         "tickfont": {
          "color": "#4D5663"
         },
         "title": {
          "font": {
           "color": "#4D5663"
          },
          "text": ""
         },
         "zerolinecolor": "#E1E5ED"
        },
        "yaxis": {
         "gridcolor": "#E1E5ED",
         "showgrid": true,
         "tickfont": {
          "color": "#4D5663"
         },
         "title": {
          "font": {
           "color": "#4D5663"
          },
          "text": ""
         },
         "zerolinecolor": "#E1E5ED"
        }
       }
      },
      "text/html": [
       "<div>                            <div id=\"03c80d7a-8232-4496-a834-078196049882\" class=\"plotly-graph-div\" style=\"height:525px; width:100%;\"></div>            <script type=\"text/javascript\">                require([\"plotly\"], function(Plotly) {                    window.PLOTLYENV=window.PLOTLYENV || {};\n",
       "                    window.PLOTLYENV.BASE_URL='https://plot.ly';                                    if (document.getElementById(\"03c80d7a-8232-4496-a834-078196049882\")) {                    Plotly.newPlot(                        \"03c80d7a-8232-4496-a834-078196049882\",                        [{\"marker\":{\"color\":\"rgba(255, 153, 51, 0.6)\",\"line\":{\"color\":\"rgba(255, 153, 51, 1.0)\",\"width\":1}},\"name\":\"None\",\"orientation\":\"v\",\"text\":\"\",\"type\":\"bar\",\"x\":[\"A\",\"B\",\"C\",\"D\"],\"y\":[100,100,100,100]}],                        {\"legend\":{\"bgcolor\":\"#F5F6F9\",\"font\":{\"color\":\"#4D5663\"}},\"paper_bgcolor\":\"#F5F6F9\",\"plot_bgcolor\":\"#F5F6F9\",\"template\":{\"data\":{\"bar\":[{\"error_x\":{\"color\":\"#2a3f5f\"},\"error_y\":{\"color\":\"#2a3f5f\"},\"marker\":{\"line\":{\"color\":\"#E5ECF6\",\"width\":0.5},\"pattern\":{\"fillmode\":\"overlay\",\"size\":10,\"solidity\":0.2}},\"type\":\"bar\"}],\"barpolar\":[{\"marker\":{\"line\":{\"color\":\"#E5ECF6\",\"width\":0.5},\"pattern\":{\"fillmode\":\"overlay\",\"size\":10,\"solidity\":0.2}},\"type\":\"barpolar\"}],\"carpet\":[{\"aaxis\":{\"endlinecolor\":\"#2a3f5f\",\"gridcolor\":\"white\",\"linecolor\":\"white\",\"minorgridcolor\":\"white\",\"startlinecolor\":\"#2a3f5f\"},\"baxis\":{\"endlinecolor\":\"#2a3f5f\",\"gridcolor\":\"white\",\"linecolor\":\"white\",\"minorgridcolor\":\"white\",\"startlinecolor\":\"#2a3f5f\"},\"type\":\"carpet\"}],\"choropleth\":[{\"colorbar\":{\"outlinewidth\":0,\"ticks\":\"\"},\"type\":\"choropleth\"}],\"contour\":[{\"colorbar\":{\"outlinewidth\":0,\"ticks\":\"\"},\"colorscale\":[[0.0,\"#0d0887\"],[0.1111111111111111,\"#46039f\"],[0.2222222222222222,\"#7201a8\"],[0.3333333333333333,\"#9c179e\"],[0.4444444444444444,\"#bd3786\"],[0.5555555555555556,\"#d8576b\"],[0.6666666666666666,\"#ed7953\"],[0.7777777777777778,\"#fb9f3a\"],[0.8888888888888888,\"#fdca26\"],[1.0,\"#f0f921\"]],\"type\":\"contour\"}],\"contourcarpet\":[{\"colorbar\":{\"outlinewidth\":0,\"ticks\":\"\"},\"type\":\"contourcarpet\"}],\"heatmap\":[{\"colorbar\":{\"outlinewidth\":0,\"ticks\":\"\"},\"colorscale\":[[0.0,\"#0d0887\"],[0.1111111111111111,\"#46039f\"],[0.2222222222222222,\"#7201a8\"],[0.3333333333333333,\"#9c179e\"],[0.4444444444444444,\"#bd3786\"],[0.5555555555555556,\"#d8576b\"],[0.6666666666666666,\"#ed7953\"],[0.7777777777777778,\"#fb9f3a\"],[0.8888888888888888,\"#fdca26\"],[1.0,\"#f0f921\"]],\"type\":\"heatmap\"}],\"heatmapgl\":[{\"colorbar\":{\"outlinewidth\":0,\"ticks\":\"\"},\"colorscale\":[[0.0,\"#0d0887\"],[0.1111111111111111,\"#46039f\"],[0.2222222222222222,\"#7201a8\"],[0.3333333333333333,\"#9c179e\"],[0.4444444444444444,\"#bd3786\"],[0.5555555555555556,\"#d8576b\"],[0.6666666666666666,\"#ed7953\"],[0.7777777777777778,\"#fb9f3a\"],[0.8888888888888888,\"#fdca26\"],[1.0,\"#f0f921\"]],\"type\":\"heatmapgl\"}],\"histogram\":[{\"marker\":{\"pattern\":{\"fillmode\":\"overlay\",\"size\":10,\"solidity\":0.2}},\"type\":\"histogram\"}],\"histogram2d\":[{\"colorbar\":{\"outlinewidth\":0,\"ticks\":\"\"},\"colorscale\":[[0.0,\"#0d0887\"],[0.1111111111111111,\"#46039f\"],[0.2222222222222222,\"#7201a8\"],[0.3333333333333333,\"#9c179e\"],[0.4444444444444444,\"#bd3786\"],[0.5555555555555556,\"#d8576b\"],[0.6666666666666666,\"#ed7953\"],[0.7777777777777778,\"#fb9f3a\"],[0.8888888888888888,\"#fdca26\"],[1.0,\"#f0f921\"]],\"type\":\"histogram2d\"}],\"histogram2dcontour\":[{\"colorbar\":{\"outlinewidth\":0,\"ticks\":\"\"},\"colorscale\":[[0.0,\"#0d0887\"],[0.1111111111111111,\"#46039f\"],[0.2222222222222222,\"#7201a8\"],[0.3333333333333333,\"#9c179e\"],[0.4444444444444444,\"#bd3786\"],[0.5555555555555556,\"#d8576b\"],[0.6666666666666666,\"#ed7953\"],[0.7777777777777778,\"#fb9f3a\"],[0.8888888888888888,\"#fdca26\"],[1.0,\"#f0f921\"]],\"type\":\"histogram2dcontour\"}],\"mesh3d\":[{\"colorbar\":{\"outlinewidth\":0,\"ticks\":\"\"},\"type\":\"mesh3d\"}],\"parcoords\":[{\"line\":{\"colorbar\":{\"outlinewidth\":0,\"ticks\":\"\"}},\"type\":\"parcoords\"}],\"pie\":[{\"automargin\":true,\"type\":\"pie\"}],\"scatter\":[{\"marker\":{\"colorbar\":{\"outlinewidth\":0,\"ticks\":\"\"}},\"type\":\"scatter\"}],\"scatter3d\":[{\"line\":{\"colorbar\":{\"outlinewidth\":0,\"ticks\":\"\"}},\"marker\":{\"colorbar\":{\"outlinewidth\":0,\"ticks\":\"\"}},\"type\":\"scatter3d\"}],\"scattercarpet\":[{\"marker\":{\"colorbar\":{\"outlinewidth\":0,\"ticks\":\"\"}},\"type\":\"scattercarpet\"}],\"scattergeo\":[{\"marker\":{\"colorbar\":{\"outlinewidth\":0,\"ticks\":\"\"}},\"type\":\"scattergeo\"}],\"scattergl\":[{\"marker\":{\"colorbar\":{\"outlinewidth\":0,\"ticks\":\"\"}},\"type\":\"scattergl\"}],\"scattermapbox\":[{\"marker\":{\"colorbar\":{\"outlinewidth\":0,\"ticks\":\"\"}},\"type\":\"scattermapbox\"}],\"scatterpolar\":[{\"marker\":{\"colorbar\":{\"outlinewidth\":0,\"ticks\":\"\"}},\"type\":\"scatterpolar\"}],\"scatterpolargl\":[{\"marker\":{\"colorbar\":{\"outlinewidth\":0,\"ticks\":\"\"}},\"type\":\"scatterpolargl\"}],\"scatterternary\":[{\"marker\":{\"colorbar\":{\"outlinewidth\":0,\"ticks\":\"\"}},\"type\":\"scatterternary\"}],\"surface\":[{\"colorbar\":{\"outlinewidth\":0,\"ticks\":\"\"},\"colorscale\":[[0.0,\"#0d0887\"],[0.1111111111111111,\"#46039f\"],[0.2222222222222222,\"#7201a8\"],[0.3333333333333333,\"#9c179e\"],[0.4444444444444444,\"#bd3786\"],[0.5555555555555556,\"#d8576b\"],[0.6666666666666666,\"#ed7953\"],[0.7777777777777778,\"#fb9f3a\"],[0.8888888888888888,\"#fdca26\"],[1.0,\"#f0f921\"]],\"type\":\"surface\"}],\"table\":[{\"cells\":{\"fill\":{\"color\":\"#EBF0F8\"},\"line\":{\"color\":\"white\"}},\"header\":{\"fill\":{\"color\":\"#C8D4E3\"},\"line\":{\"color\":\"white\"}},\"type\":\"table\"}]},\"layout\":{\"annotationdefaults\":{\"arrowcolor\":\"#2a3f5f\",\"arrowhead\":0,\"arrowwidth\":1},\"autotypenumbers\":\"strict\",\"coloraxis\":{\"colorbar\":{\"outlinewidth\":0,\"ticks\":\"\"}},\"colorscale\":{\"diverging\":[[0,\"#8e0152\"],[0.1,\"#c51b7d\"],[0.2,\"#de77ae\"],[0.3,\"#f1b6da\"],[0.4,\"#fde0ef\"],[0.5,\"#f7f7f7\"],[0.6,\"#e6f5d0\"],[0.7,\"#b8e186\"],[0.8,\"#7fbc41\"],[0.9,\"#4d9221\"],[1,\"#276419\"]],\"sequential\":[[0.0,\"#0d0887\"],[0.1111111111111111,\"#46039f\"],[0.2222222222222222,\"#7201a8\"],[0.3333333333333333,\"#9c179e\"],[0.4444444444444444,\"#bd3786\"],[0.5555555555555556,\"#d8576b\"],[0.6666666666666666,\"#ed7953\"],[0.7777777777777778,\"#fb9f3a\"],[0.8888888888888888,\"#fdca26\"],[1.0,\"#f0f921\"]],\"sequentialminus\":[[0.0,\"#0d0887\"],[0.1111111111111111,\"#46039f\"],[0.2222222222222222,\"#7201a8\"],[0.3333333333333333,\"#9c179e\"],[0.4444444444444444,\"#bd3786\"],[0.5555555555555556,\"#d8576b\"],[0.6666666666666666,\"#ed7953\"],[0.7777777777777778,\"#fb9f3a\"],[0.8888888888888888,\"#fdca26\"],[1.0,\"#f0f921\"]]},\"colorway\":[\"#636efa\",\"#EF553B\",\"#00cc96\",\"#ab63fa\",\"#FFA15A\",\"#19d3f3\",\"#FF6692\",\"#B6E880\",\"#FF97FF\",\"#FECB52\"],\"font\":{\"color\":\"#2a3f5f\"},\"geo\":{\"bgcolor\":\"white\",\"lakecolor\":\"white\",\"landcolor\":\"#E5ECF6\",\"showlakes\":true,\"showland\":true,\"subunitcolor\":\"white\"},\"hoverlabel\":{\"align\":\"left\"},\"hovermode\":\"closest\",\"mapbox\":{\"style\":\"light\"},\"paper_bgcolor\":\"white\",\"plot_bgcolor\":\"#E5ECF6\",\"polar\":{\"angularaxis\":{\"gridcolor\":\"white\",\"linecolor\":\"white\",\"ticks\":\"\"},\"bgcolor\":\"#E5ECF6\",\"radialaxis\":{\"gridcolor\":\"white\",\"linecolor\":\"white\",\"ticks\":\"\"}},\"scene\":{\"xaxis\":{\"backgroundcolor\":\"#E5ECF6\",\"gridcolor\":\"white\",\"gridwidth\":2,\"linecolor\":\"white\",\"showbackground\":true,\"ticks\":\"\",\"zerolinecolor\":\"white\"},\"yaxis\":{\"backgroundcolor\":\"#E5ECF6\",\"gridcolor\":\"white\",\"gridwidth\":2,\"linecolor\":\"white\",\"showbackground\":true,\"ticks\":\"\",\"zerolinecolor\":\"white\"},\"zaxis\":{\"backgroundcolor\":\"#E5ECF6\",\"gridcolor\":\"white\",\"gridwidth\":2,\"linecolor\":\"white\",\"showbackground\":true,\"ticks\":\"\",\"zerolinecolor\":\"white\"}},\"shapedefaults\":{\"line\":{\"color\":\"#2a3f5f\"}},\"ternary\":{\"aaxis\":{\"gridcolor\":\"white\",\"linecolor\":\"white\",\"ticks\":\"\"},\"baxis\":{\"gridcolor\":\"white\",\"linecolor\":\"white\",\"ticks\":\"\"},\"bgcolor\":\"#E5ECF6\",\"caxis\":{\"gridcolor\":\"white\",\"linecolor\":\"white\",\"ticks\":\"\"}},\"title\":{\"x\":0.05},\"xaxis\":{\"automargin\":true,\"gridcolor\":\"white\",\"linecolor\":\"white\",\"ticks\":\"\",\"title\":{\"standoff\":15},\"zerolinecolor\":\"white\",\"zerolinewidth\":2},\"yaxis\":{\"automargin\":true,\"gridcolor\":\"white\",\"linecolor\":\"white\",\"ticks\":\"\",\"title\":{\"standoff\":15},\"zerolinecolor\":\"white\",\"zerolinewidth\":2}}},\"title\":{\"font\":{\"color\":\"#4D5663\"}},\"xaxis\":{\"gridcolor\":\"#E1E5ED\",\"showgrid\":true,\"tickfont\":{\"color\":\"#4D5663\"},\"title\":{\"font\":{\"color\":\"#4D5663\"},\"text\":\"\"},\"zerolinecolor\":\"#E1E5ED\"},\"yaxis\":{\"gridcolor\":\"#E1E5ED\",\"showgrid\":true,\"tickfont\":{\"color\":\"#4D5663\"},\"title\":{\"font\":{\"color\":\"#4D5663\"},\"text\":\"\"},\"zerolinecolor\":\"#E1E5ED\"}},                        {\"showLink\": true, \"linkText\": \"Export to plot.ly\", \"plotlyServerURL\": \"https://plot.ly\", \"responsive\": true}                    ).then(function(){\n",
       "                            \n",
       "var gd = document.getElementById('03c80d7a-8232-4496-a834-078196049882');\n",
       "var x = new MutationObserver(function (mutations, observer) {{\n",
       "        var display = window.getComputedStyle(gd).display;\n",
       "        if (!display || display === 'none') {{\n",
       "            console.log([gd, 'removed!']);\n",
       "            Plotly.purge(gd);\n",
       "            observer.disconnect();\n",
       "        }}\n",
       "}});\n",
       "\n",
       "// Listen for the removal of the full notebook cells\n",
       "var notebookContainer = gd.closest('#notebook-container');\n",
       "if (notebookContainer) {{\n",
       "    x.observe(notebookContainer, {childList: true});\n",
       "}}\n",
       "\n",
       "// Listen for the clearing of the current output cell\n",
       "var outputEl = gd.closest('.output');\n",
       "if (outputEl) {{\n",
       "    x.observe(outputEl, {childList: true});\n",
       "}}\n",
       "\n",
       "                        })                };                });            </script>        </div>"
      ]
     },
     "metadata": {},
     "output_type": "display_data"
    }
   ],
   "source": [
    "df.count().iplot(kind='bar')"
   ]
  },
  {
   "cell_type": "markdown",
   "metadata": {},
   "source": [
    "## Boxplots"
   ]
  },
  {
   "cell_type": "code",
   "execution_count": 15,
   "metadata": {},
   "outputs": [
    {
     "data": {
      "application/vnd.plotly.v1+json": {
       "config": {
        "linkText": "Export to plot.ly",
        "plotlyServerURL": "https://plot.ly",
        "showLink": true
       },
       "data": [
        {
         "boxpoints": false,
         "line": {
          "width": 1.3
         },
         "marker": {
          "color": "rgba(255, 153, 51, 1.0)"
         },
         "name": "A",
         "orientation": "v",
         "type": "box",
         "y": [
          0.18337390211043783,
          0.2577404769175627,
          -0.39940465232467737,
          0.194298848170503,
          0.34196496904498935,
          -0.6377170807139307,
          -1.049758108993871,
          0.49300518799557336,
          0.028811941662308698,
          -1.6269205354091907,
          -0.5202694534605817,
          -0.16098816834008395,
          0.05160848098571894,
          0.5364326233078089,
          0.4378795481417151,
          -0.03756114724023949,
          0.28914666492343494,
          -0.03814971702482578,
          1.1504709154224924,
          -0.7412218639075389,
          0.42086582271660816,
          0.9009691688219829,
          1.0400314771630996,
          -1.372257148733933,
          -0.4355821151470618,
          -0.09938130947803488,
          -0.9491201685059797,
          -0.8600172231155638,
          -0.7362359562302916,
          -0.1430515701566955,
          -0.617813406266883,
          -0.28055737559377186,
          0.46932264288215353,
          0.1514629997731117,
          -0.6583950527318917,
          -0.26662490652025683,
          0.5093904738392812,
          0.12592079431582454,
          1.1508237867549065,
          1.3284069604847262,
          -0.8627769007465207,
          -1.0231645951528927,
          -1.2276778357296108,
          -1.1730477649540723,
          1.6063794992902511,
          -0.023057504024252704,
          -0.01960344616633247,
          -1.0409575465574499,
          0.5256968428705312,
          0.5633261139142187,
          -1.277429648427179,
          -0.8594207760740425,
          -0.806527698662659,
          -1.3223242506953758,
          1.3971352314374699,
          0.3631614499519548,
          0.19128780513812077,
          0.39550446961128843,
          1.317416404924919,
          0.2756482721294413,
          0.9479537637621035,
          0.26781448001741226,
          1.2863595640654364,
          1.0377301080259809,
          0.18731377850380862,
          0.8097847708703942,
          0.21174695841002827,
          -0.7233239976517987,
          -0.2877696122095113,
          -1.2224779263270227,
          1.2959808963832966,
          1.2980313763074227,
          -0.4516678608167582,
          0.7301014683457027,
          -0.9165040725691428,
          -1.7967471408255278,
          0.09604702398927319,
          -0.8605396305059785,
          -0.972811531987986,
          -0.7769208316082751,
          2.02672405942737,
          -1.2194940629705828,
          -0.6034537463065365,
          -1.3731528380456066,
          0.478397263066975,
          0.3532628705494607,
          1.0128502952860179,
          -0.3372046017404665,
          -0.12940898816063387,
          -1.622834708604428,
          0.6955740306917982,
          0.048620002313087676,
          -1.8922763025622593,
          -2.368987592395905,
          -0.290907389966216,
          -0.19595573626291243,
          0.6964336785010147,
          0.9147274409544851,
          -0.6849847790150455,
          0.17976801555813846
         ]
        },
        {
         "boxpoints": false,
         "line": {
          "width": 1.3
         },
         "marker": {
          "color": "rgba(55, 128, 191, 1.0)"
         },
         "name": "B",
         "orientation": "v",
         "type": "box",
         "y": [
          -2.070372363174357,
          1.9871349625586698,
          0.44711385640110934,
          -0.1362509032529231,
          -0.8847481240368797,
          -0.3005585206574886,
          -0.4577370292878276,
          1.1257225790814913,
          1.6515424424291352,
          -1.1639372746696197,
          -0.4900512762265639,
          -0.9183246527863396,
          -0.5898528388193658,
          -1.9828423762964589,
          1.9251031300815986,
          -0.8516206949989477,
          -0.15077106194697446,
          0.39095318163453546,
          -0.04605799383381456,
          0.13106206252913166,
          -0.4492203115833142,
          0.8614098734884785,
          -0.30181904964322304,
          1.4124315275404664,
          1.2928582774051667,
          0.08553156946078898,
          -1.5202409642832018,
          -1.2972509965846963,
          -0.2554031732774126,
          1.1700927343793435,
          -1.4436089799837097,
          1.772822591539189,
          1.0437749024442213,
          -0.8655170969412663,
          0.07470374986811237,
          0.19696979466097256,
          0.71748915045575,
          0.5493037055770226,
          0.792387270172692,
          0.4388182367525948,
          0.8343802553032624,
          -0.27411066445450055,
          -0.759132779704796,
          -0.5510511505395224,
          0.7010550007848114,
          0.7436324676228472,
          -0.8167506411613927,
          -0.8309399064145929,
          -0.48367397638508636,
          0.40109935333422264,
          0.14717905622379798,
          0.4035364305538702,
          -1.4376361064073133,
          0.884504560227829,
          0.0756105825725042,
          1.3027235848809706,
          -0.410445635139286,
          1.664269298035139,
          0.8046955068796645,
          -1.608477203721027,
          0.11905357356672844,
          -0.8362872444628309,
          -1.0394082418010007,
          1.4718633565264032,
          0.3949671088451408,
          0.21605324037427268,
          -0.26067877739383255,
          0.20558921783396097,
          0.43336888717474037,
          -0.1724582369969408,
          -0.8898077313946257,
          -0.7966001330099107,
          -1.9096285209970933,
          -0.6234503963821106,
          -0.7492278502366498,
          -0.3937069363627399,
          0.4764640049465655,
          -0.0317529356831129,
          -1.2467218127574538,
          1.4515849281312752,
          1.0601562766774255,
          0.011700845601488541,
          -0.7004541496592039,
          0.2487099113720825,
          1.3953319784837215,
          0.8170929436416009,
          -1.093574826202585,
          -1.5190998335113597,
          1.565582460077773,
          0.6003738353358095,
          0.48003413782184207,
          -0.8768051319567273,
          1.1653769552823892,
          -0.09369210118747875,
          -1.236308547878392,
          1.069663761619053,
          -0.5090666413472539,
          0.5484467083147206,
          1.4116269424540293,
          1.4288779803279275
         ]
        },
        {
         "boxpoints": false,
         "line": {
          "width": 1.3
         },
         "marker": {
          "color": "rgba(50, 171, 96, 1.0)"
         },
         "name": "C",
         "orientation": "v",
         "type": "box",
         "y": [
          -0.10230251371271422,
          -0.9856164436609978,
          -2.3399000383333437,
          0.2129287217145665,
          -0.47190285990270525,
          -0.4455893739004875,
          -1.1074018197778728,
          -0.8470605012484446,
          -0.9627109543290664,
          1.470073977808318,
          0.47084265356054933,
          0.7108155263744863,
          1.2401437007945428,
          -0.054593330145385206,
          -0.8547017402721327,
          -0.6017006769118647,
          0.054778381869349656,
          -0.4058615198359087,
          2.1756281307509666,
          1.9184151737376318,
          0.44156846411607875,
          0.6910112638382438,
          0.6180384485757757,
          -1.6737460076007349,
          0.24474274221880774,
          -0.05308243547510542,
          -0.3965050268153458,
          1.1158397901214172,
          -0.5191277071590583,
          -0.3742543454169045,
          0.32384098822286733,
          -0.9424240637732767,
          1.1624649454706169,
          0.403125008198161,
          -0.9108548571391996,
          -0.651014853519304,
          0.7594866172513838,
          -0.3692304927976512,
          1.0437660044364991,
          -0.7733794248520502,
          1.5802947319123615,
          -0.16694697346930254,
          -1.0537387547253623,
          0.7013102740251326,
          -0.25754264065038185,
          -0.5983995472437618,
          1.1024279335020388,
          -0.6361436010196305,
          1.0991555577904437,
          -0.23720122737068883,
          0.4422899782991347,
          -0.5988490557671503,
          -1.3346809455137536,
          -0.43122102824485803,
          1.9219788064136207,
          -0.40544130367258896,
          1.3423525215964787,
          1.256244571124063,
          0.3878877159071746,
          1.1382884131961375,
          -0.003257827151230089,
          -0.09878325140987494,
          -0.20378769773266844,
          -1.1522675096066486,
          0.08080163698515844,
          -0.44036771455025914,
          1.233541752252848,
          0.9809443162533105,
          1.2631387206383407,
          -0.14264650094562623,
          -0.28000106089175586,
          1.3415758234101816,
          -0.6239886301883519,
          -1.4500061362097343,
          -2.132568546188851,
          0.2985428090164885,
          0.014505993157389211,
          0.37727125206455775,
          -1.0794649827264955,
          1.505965384769507,
          -0.03716136608344573,
          -0.856448775823809,
          -0.8990139243173874,
          -0.9992424485619582,
          0.031418080681642716,
          0.6138366430139701,
          -2.0588113484633164,
          -2.6456597987520913,
          -1.3327064288424864,
          -0.13244130030483175,
          -0.8487573392629163,
          0.003511668648794605,
          0.8829461215799975,
          0.804021933184372,
          0.29668720205261867,
          -0.9629788026960224,
          -0.47711184392417805,
          0.07439884523606405,
          -1.039320063953802,
          0.7544691806713081
         ]
        },
        {
         "boxpoints": false,
         "line": {
          "width": 1.3
         },
         "marker": {
          "color": "rgba(128, 0, 128, 1.0)"
         },
         "name": "D",
         "orientation": "v",
         "type": "box",
         "y": [
          -0.9153771784213612,
          -0.4012924245057284,
          1.0938533103513841,
          -0.05876449087620939,
          -0.8928530670168028,
          0.8931516319027041,
          -1.2122585675519313,
          0.6336739053482365,
          0.6864409540871593,
          -2.450450162325935,
          1.3766362169548811,
          -0.09498972740325429,
          0.018249696688834572,
          0.00838371990785256,
          0.02637371267571218,
          -0.2494784700290381,
          -2.381179415567164,
          -0.8986148420620415,
          -0.6000789066669335,
          0.9901496738837742,
          0.5750403551444729,
          -1.1530766373329144,
          -0.10248929149795707,
          1.2879406999929592,
          0.9340275168061343,
          -0.36629099505249096,
          -0.21971945689411818,
          -2.1794559389850905,
          -1.128600301594586,
          0.38181810365012026,
          -0.3456615896544399,
          1.076840489089549,
          0.9702514291306714,
          -1.129889632834949,
          -1.5237686296693125,
          0.9893442639629663,
          0.02188116620021201,
          -0.3990886268885891,
          -0.26235256642600163,
          -0.9447050028143288,
          0.3285538558596209,
          -0.4949627482678983,
          -1.2410567632788745,
          -0.03117667293720784,
          0.27318088707611077,
          -1.4105882016730553,
          -0.6971444892873604,
          -0.2046839616180518,
          0.21311682457265613,
          0.05648021937646679,
          -1.7821486230559918,
          0.26138035559451905,
          0.9745360424409939,
          -0.46590150404526515,
          1.0163625781591268,
          -1.206430930878384,
          -0.28219484087131047,
          0.3370380040067882,
          -1.174709156907135,
          -0.9937967513245821,
          -1.2103419890348956,
          0.9666256144943123,
          0.7653167310678071,
          -0.5639565361190263,
          1.127287563860516,
          0.4597180739400952,
          0.9611780321994388,
          -0.1274364898935791,
          -3.144384054953149,
          0.3452719343299374,
          1.0108657267279595,
          0.560382773064362,
          -0.34389869715087096,
          -1.4172642705243446,
          -0.5403661751113938,
          1.751483965078072,
          -1.8536007651466044,
          0.7509631080228982,
          -1.3931867910949483,
          3.8348263491846044,
          -0.8803894827348969,
          -0.027395874356677143,
          -1.2836992348042278,
          0.07864063552442437,
          1.764684418462631,
          1.1831678276825883,
          0.3598658647264078,
          1.2684552760340417,
          1.28190870875007,
          1.144415560151816,
          0.08766066909626503,
          -0.15841220047729188,
          0.7748636032208857,
          -0.38719619122350646,
          2.338915126318817,
          0.46867997123726074,
          -0.3425382611596975,
          0.392730431721023,
          1.1755743201772637,
          -0.12158534043582828
         ]
        }
       ],
       "layout": {
        "legend": {
         "bgcolor": "#F5F6F9",
         "font": {
          "color": "#4D5663"
         }
        },
        "paper_bgcolor": "#F5F6F9",
        "plot_bgcolor": "#F5F6F9",
        "template": {
         "data": {
          "bar": [
           {
            "error_x": {
             "color": "#2a3f5f"
            },
            "error_y": {
             "color": "#2a3f5f"
            },
            "marker": {
             "line": {
              "color": "#E5ECF6",
              "width": 0.5
             },
             "pattern": {
              "fillmode": "overlay",
              "size": 10,
              "solidity": 0.2
             }
            },
            "type": "bar"
           }
          ],
          "barpolar": [
           {
            "marker": {
             "line": {
              "color": "#E5ECF6",
              "width": 0.5
             },
             "pattern": {
              "fillmode": "overlay",
              "size": 10,
              "solidity": 0.2
             }
            },
            "type": "barpolar"
           }
          ],
          "carpet": [
           {
            "aaxis": {
             "endlinecolor": "#2a3f5f",
             "gridcolor": "white",
             "linecolor": "white",
             "minorgridcolor": "white",
             "startlinecolor": "#2a3f5f"
            },
            "baxis": {
             "endlinecolor": "#2a3f5f",
             "gridcolor": "white",
             "linecolor": "white",
             "minorgridcolor": "white",
             "startlinecolor": "#2a3f5f"
            },
            "type": "carpet"
           }
          ],
          "choropleth": [
           {
            "colorbar": {
             "outlinewidth": 0,
             "ticks": ""
            },
            "type": "choropleth"
           }
          ],
          "contour": [
           {
            "colorbar": {
             "outlinewidth": 0,
             "ticks": ""
            },
            "colorscale": [
             [
              0,
              "#0d0887"
             ],
             [
              0.1111111111111111,
              "#46039f"
             ],
             [
              0.2222222222222222,
              "#7201a8"
             ],
             [
              0.3333333333333333,
              "#9c179e"
             ],
             [
              0.4444444444444444,
              "#bd3786"
             ],
             [
              0.5555555555555556,
              "#d8576b"
             ],
             [
              0.6666666666666666,
              "#ed7953"
             ],
             [
              0.7777777777777778,
              "#fb9f3a"
             ],
             [
              0.8888888888888888,
              "#fdca26"
             ],
             [
              1,
              "#f0f921"
             ]
            ],
            "type": "contour"
           }
          ],
          "contourcarpet": [
           {
            "colorbar": {
             "outlinewidth": 0,
             "ticks": ""
            },
            "type": "contourcarpet"
           }
          ],
          "heatmap": [
           {
            "colorbar": {
             "outlinewidth": 0,
             "ticks": ""
            },
            "colorscale": [
             [
              0,
              "#0d0887"
             ],
             [
              0.1111111111111111,
              "#46039f"
             ],
             [
              0.2222222222222222,
              "#7201a8"
             ],
             [
              0.3333333333333333,
              "#9c179e"
             ],
             [
              0.4444444444444444,
              "#bd3786"
             ],
             [
              0.5555555555555556,
              "#d8576b"
             ],
             [
              0.6666666666666666,
              "#ed7953"
             ],
             [
              0.7777777777777778,
              "#fb9f3a"
             ],
             [
              0.8888888888888888,
              "#fdca26"
             ],
             [
              1,
              "#f0f921"
             ]
            ],
            "type": "heatmap"
           }
          ],
          "heatmapgl": [
           {
            "colorbar": {
             "outlinewidth": 0,
             "ticks": ""
            },
            "colorscale": [
             [
              0,
              "#0d0887"
             ],
             [
              0.1111111111111111,
              "#46039f"
             ],
             [
              0.2222222222222222,
              "#7201a8"
             ],
             [
              0.3333333333333333,
              "#9c179e"
             ],
             [
              0.4444444444444444,
              "#bd3786"
             ],
             [
              0.5555555555555556,
              "#d8576b"
             ],
             [
              0.6666666666666666,
              "#ed7953"
             ],
             [
              0.7777777777777778,
              "#fb9f3a"
             ],
             [
              0.8888888888888888,
              "#fdca26"
             ],
             [
              1,
              "#f0f921"
             ]
            ],
            "type": "heatmapgl"
           }
          ],
          "histogram": [
           {
            "marker": {
             "pattern": {
              "fillmode": "overlay",
              "size": 10,
              "solidity": 0.2
             }
            },
            "type": "histogram"
           }
          ],
          "histogram2d": [
           {
            "colorbar": {
             "outlinewidth": 0,
             "ticks": ""
            },
            "colorscale": [
             [
              0,
              "#0d0887"
             ],
             [
              0.1111111111111111,
              "#46039f"
             ],
             [
              0.2222222222222222,
              "#7201a8"
             ],
             [
              0.3333333333333333,
              "#9c179e"
             ],
             [
              0.4444444444444444,
              "#bd3786"
             ],
             [
              0.5555555555555556,
              "#d8576b"
             ],
             [
              0.6666666666666666,
              "#ed7953"
             ],
             [
              0.7777777777777778,
              "#fb9f3a"
             ],
             [
              0.8888888888888888,
              "#fdca26"
             ],
             [
              1,
              "#f0f921"
             ]
            ],
            "type": "histogram2d"
           }
          ],
          "histogram2dcontour": [
           {
            "colorbar": {
             "outlinewidth": 0,
             "ticks": ""
            },
            "colorscale": [
             [
              0,
              "#0d0887"
             ],
             [
              0.1111111111111111,
              "#46039f"
             ],
             [
              0.2222222222222222,
              "#7201a8"
             ],
             [
              0.3333333333333333,
              "#9c179e"
             ],
             [
              0.4444444444444444,
              "#bd3786"
             ],
             [
              0.5555555555555556,
              "#d8576b"
             ],
             [
              0.6666666666666666,
              "#ed7953"
             ],
             [
              0.7777777777777778,
              "#fb9f3a"
             ],
             [
              0.8888888888888888,
              "#fdca26"
             ],
             [
              1,
              "#f0f921"
             ]
            ],
            "type": "histogram2dcontour"
           }
          ],
          "mesh3d": [
           {
            "colorbar": {
             "outlinewidth": 0,
             "ticks": ""
            },
            "type": "mesh3d"
           }
          ],
          "parcoords": [
           {
            "line": {
             "colorbar": {
              "outlinewidth": 0,
              "ticks": ""
             }
            },
            "type": "parcoords"
           }
          ],
          "pie": [
           {
            "automargin": true,
            "type": "pie"
           }
          ],
          "scatter": [
           {
            "marker": {
             "colorbar": {
              "outlinewidth": 0,
              "ticks": ""
             }
            },
            "type": "scatter"
           }
          ],
          "scatter3d": [
           {
            "line": {
             "colorbar": {
              "outlinewidth": 0,
              "ticks": ""
             }
            },
            "marker": {
             "colorbar": {
              "outlinewidth": 0,
              "ticks": ""
             }
            },
            "type": "scatter3d"
           }
          ],
          "scattercarpet": [
           {
            "marker": {
             "colorbar": {
              "outlinewidth": 0,
              "ticks": ""
             }
            },
            "type": "scattercarpet"
           }
          ],
          "scattergeo": [
           {
            "marker": {
             "colorbar": {
              "outlinewidth": 0,
              "ticks": ""
             }
            },
            "type": "scattergeo"
           }
          ],
          "scattergl": [
           {
            "marker": {
             "colorbar": {
              "outlinewidth": 0,
              "ticks": ""
             }
            },
            "type": "scattergl"
           }
          ],
          "scattermapbox": [
           {
            "marker": {
             "colorbar": {
              "outlinewidth": 0,
              "ticks": ""
             }
            },
            "type": "scattermapbox"
           }
          ],
          "scatterpolar": [
           {
            "marker": {
             "colorbar": {
              "outlinewidth": 0,
              "ticks": ""
             }
            },
            "type": "scatterpolar"
           }
          ],
          "scatterpolargl": [
           {
            "marker": {
             "colorbar": {
              "outlinewidth": 0,
              "ticks": ""
             }
            },
            "type": "scatterpolargl"
           }
          ],
          "scatterternary": [
           {
            "marker": {
             "colorbar": {
              "outlinewidth": 0,
              "ticks": ""
             }
            },
            "type": "scatterternary"
           }
          ],
          "surface": [
           {
            "colorbar": {
             "outlinewidth": 0,
             "ticks": ""
            },
            "colorscale": [
             [
              0,
              "#0d0887"
             ],
             [
              0.1111111111111111,
              "#46039f"
             ],
             [
              0.2222222222222222,
              "#7201a8"
             ],
             [
              0.3333333333333333,
              "#9c179e"
             ],
             [
              0.4444444444444444,
              "#bd3786"
             ],
             [
              0.5555555555555556,
              "#d8576b"
             ],
             [
              0.6666666666666666,
              "#ed7953"
             ],
             [
              0.7777777777777778,
              "#fb9f3a"
             ],
             [
              0.8888888888888888,
              "#fdca26"
             ],
             [
              1,
              "#f0f921"
             ]
            ],
            "type": "surface"
           }
          ],
          "table": [
           {
            "cells": {
             "fill": {
              "color": "#EBF0F8"
             },
             "line": {
              "color": "white"
             }
            },
            "header": {
             "fill": {
              "color": "#C8D4E3"
             },
             "line": {
              "color": "white"
             }
            },
            "type": "table"
           }
          ]
         },
         "layout": {
          "annotationdefaults": {
           "arrowcolor": "#2a3f5f",
           "arrowhead": 0,
           "arrowwidth": 1
          },
          "autotypenumbers": "strict",
          "coloraxis": {
           "colorbar": {
            "outlinewidth": 0,
            "ticks": ""
           }
          },
          "colorscale": {
           "diverging": [
            [
             0,
             "#8e0152"
            ],
            [
             0.1,
             "#c51b7d"
            ],
            [
             0.2,
             "#de77ae"
            ],
            [
             0.3,
             "#f1b6da"
            ],
            [
             0.4,
             "#fde0ef"
            ],
            [
             0.5,
             "#f7f7f7"
            ],
            [
             0.6,
             "#e6f5d0"
            ],
            [
             0.7,
             "#b8e186"
            ],
            [
             0.8,
             "#7fbc41"
            ],
            [
             0.9,
             "#4d9221"
            ],
            [
             1,
             "#276419"
            ]
           ],
           "sequential": [
            [
             0,
             "#0d0887"
            ],
            [
             0.1111111111111111,
             "#46039f"
            ],
            [
             0.2222222222222222,
             "#7201a8"
            ],
            [
             0.3333333333333333,
             "#9c179e"
            ],
            [
             0.4444444444444444,
             "#bd3786"
            ],
            [
             0.5555555555555556,
             "#d8576b"
            ],
            [
             0.6666666666666666,
             "#ed7953"
            ],
            [
             0.7777777777777778,
             "#fb9f3a"
            ],
            [
             0.8888888888888888,
             "#fdca26"
            ],
            [
             1,
             "#f0f921"
            ]
           ],
           "sequentialminus": [
            [
             0,
             "#0d0887"
            ],
            [
             0.1111111111111111,
             "#46039f"
            ],
            [
             0.2222222222222222,
             "#7201a8"
            ],
            [
             0.3333333333333333,
             "#9c179e"
            ],
            [
             0.4444444444444444,
             "#bd3786"
            ],
            [
             0.5555555555555556,
             "#d8576b"
            ],
            [
             0.6666666666666666,
             "#ed7953"
            ],
            [
             0.7777777777777778,
             "#fb9f3a"
            ],
            [
             0.8888888888888888,
             "#fdca26"
            ],
            [
             1,
             "#f0f921"
            ]
           ]
          },
          "colorway": [
           "#636efa",
           "#EF553B",
           "#00cc96",
           "#ab63fa",
           "#FFA15A",
           "#19d3f3",
           "#FF6692",
           "#B6E880",
           "#FF97FF",
           "#FECB52"
          ],
          "font": {
           "color": "#2a3f5f"
          },
          "geo": {
           "bgcolor": "white",
           "lakecolor": "white",
           "landcolor": "#E5ECF6",
           "showlakes": true,
           "showland": true,
           "subunitcolor": "white"
          },
          "hoverlabel": {
           "align": "left"
          },
          "hovermode": "closest",
          "mapbox": {
           "style": "light"
          },
          "paper_bgcolor": "white",
          "plot_bgcolor": "#E5ECF6",
          "polar": {
           "angularaxis": {
            "gridcolor": "white",
            "linecolor": "white",
            "ticks": ""
           },
           "bgcolor": "#E5ECF6",
           "radialaxis": {
            "gridcolor": "white",
            "linecolor": "white",
            "ticks": ""
           }
          },
          "scene": {
           "xaxis": {
            "backgroundcolor": "#E5ECF6",
            "gridcolor": "white",
            "gridwidth": 2,
            "linecolor": "white",
            "showbackground": true,
            "ticks": "",
            "zerolinecolor": "white"
           },
           "yaxis": {
            "backgroundcolor": "#E5ECF6",
            "gridcolor": "white",
            "gridwidth": 2,
            "linecolor": "white",
            "showbackground": true,
            "ticks": "",
            "zerolinecolor": "white"
           },
           "zaxis": {
            "backgroundcolor": "#E5ECF6",
            "gridcolor": "white",
            "gridwidth": 2,
            "linecolor": "white",
            "showbackground": true,
            "ticks": "",
            "zerolinecolor": "white"
           }
          },
          "shapedefaults": {
           "line": {
            "color": "#2a3f5f"
           }
          },
          "ternary": {
           "aaxis": {
            "gridcolor": "white",
            "linecolor": "white",
            "ticks": ""
           },
           "baxis": {
            "gridcolor": "white",
            "linecolor": "white",
            "ticks": ""
           },
           "bgcolor": "#E5ECF6",
           "caxis": {
            "gridcolor": "white",
            "linecolor": "white",
            "ticks": ""
           }
          },
          "title": {
           "x": 0.05
          },
          "xaxis": {
           "automargin": true,
           "gridcolor": "white",
           "linecolor": "white",
           "ticks": "",
           "title": {
            "standoff": 15
           },
           "zerolinecolor": "white",
           "zerolinewidth": 2
          },
          "yaxis": {
           "automargin": true,
           "gridcolor": "white",
           "linecolor": "white",
           "ticks": "",
           "title": {
            "standoff": 15
           },
           "zerolinecolor": "white",
           "zerolinewidth": 2
          }
         }
        },
        "title": {
         "font": {
          "color": "#4D5663"
         }
        },
        "xaxis": {
         "gridcolor": "#E1E5ED",
         "showgrid": true,
         "tickfont": {
          "color": "#4D5663"
         },
         "title": {
          "font": {
           "color": "#4D5663"
          },
          "text": ""
         },
         "zerolinecolor": "#E1E5ED"
        },
        "yaxis": {
         "gridcolor": "#E1E5ED",
         "showgrid": true,
         "tickfont": {
          "color": "#4D5663"
         },
         "title": {
          "font": {
           "color": "#4D5663"
          },
          "text": ""
         },
         "zerolinecolor": "#E1E5ED"
        }
       }
      },
      "text/html": [
       "<div>                            <div id=\"1250acdc-e9ba-4a72-ab7f-5abed5be69f2\" class=\"plotly-graph-div\" style=\"height:525px; width:100%;\"></div>            <script type=\"text/javascript\">                require([\"plotly\"], function(Plotly) {                    window.PLOTLYENV=window.PLOTLYENV || {};\n",
       "                    window.PLOTLYENV.BASE_URL='https://plot.ly';                                    if (document.getElementById(\"1250acdc-e9ba-4a72-ab7f-5abed5be69f2\")) {                    Plotly.newPlot(                        \"1250acdc-e9ba-4a72-ab7f-5abed5be69f2\",                        [{\"boxpoints\":false,\"line\":{\"width\":1.3},\"marker\":{\"color\":\"rgba(255, 153, 51, 1.0)\"},\"name\":\"A\",\"orientation\":\"v\",\"type\":\"box\",\"y\":[0.18337390211043783,0.2577404769175627,-0.39940465232467737,0.194298848170503,0.34196496904498935,-0.6377170807139307,-1.049758108993871,0.49300518799557336,0.028811941662308698,-1.6269205354091907,-0.5202694534605817,-0.16098816834008395,0.05160848098571894,0.5364326233078089,0.4378795481417151,-0.03756114724023949,0.28914666492343494,-0.03814971702482578,1.1504709154224924,-0.7412218639075389,0.42086582271660816,0.9009691688219829,1.0400314771630996,-1.372257148733933,-0.4355821151470618,-0.09938130947803488,-0.9491201685059797,-0.8600172231155638,-0.7362359562302916,-0.1430515701566955,-0.617813406266883,-0.28055737559377186,0.46932264288215353,0.1514629997731117,-0.6583950527318917,-0.26662490652025683,0.5093904738392812,0.12592079431582454,1.1508237867549065,1.3284069604847262,-0.8627769007465207,-1.0231645951528927,-1.2276778357296108,-1.1730477649540723,1.6063794992902511,-0.023057504024252704,-0.01960344616633247,-1.0409575465574499,0.5256968428705312,0.5633261139142187,-1.277429648427179,-0.8594207760740425,-0.806527698662659,-1.3223242506953758,1.3971352314374699,0.3631614499519548,0.19128780513812077,0.39550446961128843,1.317416404924919,0.2756482721294413,0.9479537637621035,0.26781448001741226,1.2863595640654364,1.0377301080259809,0.18731377850380862,0.8097847708703942,0.21174695841002827,-0.7233239976517987,-0.2877696122095113,-1.2224779263270227,1.2959808963832966,1.2980313763074227,-0.4516678608167582,0.7301014683457027,-0.9165040725691428,-1.7967471408255278,0.09604702398927319,-0.8605396305059785,-0.972811531987986,-0.7769208316082751,2.02672405942737,-1.2194940629705828,-0.6034537463065365,-1.3731528380456066,0.478397263066975,0.3532628705494607,1.0128502952860179,-0.3372046017404665,-0.12940898816063387,-1.622834708604428,0.6955740306917982,0.048620002313087676,-1.8922763025622593,-2.368987592395905,-0.290907389966216,-0.19595573626291243,0.6964336785010147,0.9147274409544851,-0.6849847790150455,0.17976801555813846]},{\"boxpoints\":false,\"line\":{\"width\":1.3},\"marker\":{\"color\":\"rgba(55, 128, 191, 1.0)\"},\"name\":\"B\",\"orientation\":\"v\",\"type\":\"box\",\"y\":[-2.070372363174357,1.9871349625586698,0.44711385640110934,-0.1362509032529231,-0.8847481240368797,-0.3005585206574886,-0.4577370292878276,1.1257225790814913,1.6515424424291352,-1.1639372746696197,-0.4900512762265639,-0.9183246527863396,-0.5898528388193658,-1.9828423762964589,1.9251031300815986,-0.8516206949989477,-0.15077106194697446,0.39095318163453546,-0.04605799383381456,0.13106206252913166,-0.4492203115833142,0.8614098734884785,-0.30181904964322304,1.4124315275404664,1.2928582774051667,0.08553156946078898,-1.5202409642832018,-1.2972509965846963,-0.2554031732774126,1.1700927343793435,-1.4436089799837097,1.772822591539189,1.0437749024442213,-0.8655170969412663,0.07470374986811237,0.19696979466097256,0.71748915045575,0.5493037055770226,0.792387270172692,0.4388182367525948,0.8343802553032624,-0.27411066445450055,-0.759132779704796,-0.5510511505395224,0.7010550007848114,0.7436324676228472,-0.8167506411613927,-0.8309399064145929,-0.48367397638508636,0.40109935333422264,0.14717905622379798,0.4035364305538702,-1.4376361064073133,0.884504560227829,0.0756105825725042,1.3027235848809706,-0.410445635139286,1.664269298035139,0.8046955068796645,-1.608477203721027,0.11905357356672844,-0.8362872444628309,-1.0394082418010007,1.4718633565264032,0.3949671088451408,0.21605324037427268,-0.26067877739383255,0.20558921783396097,0.43336888717474037,-0.1724582369969408,-0.8898077313946257,-0.7966001330099107,-1.9096285209970933,-0.6234503963821106,-0.7492278502366498,-0.3937069363627399,0.4764640049465655,-0.0317529356831129,-1.2467218127574538,1.4515849281312752,1.0601562766774255,0.011700845601488541,-0.7004541496592039,0.2487099113720825,1.3953319784837215,0.8170929436416009,-1.093574826202585,-1.5190998335113597,1.565582460077773,0.6003738353358095,0.48003413782184207,-0.8768051319567273,1.1653769552823892,-0.09369210118747875,-1.236308547878392,1.069663761619053,-0.5090666413472539,0.5484467083147206,1.4116269424540293,1.4288779803279275]},{\"boxpoints\":false,\"line\":{\"width\":1.3},\"marker\":{\"color\":\"rgba(50, 171, 96, 1.0)\"},\"name\":\"C\",\"orientation\":\"v\",\"type\":\"box\",\"y\":[-0.10230251371271422,-0.9856164436609978,-2.3399000383333437,0.2129287217145665,-0.47190285990270525,-0.4455893739004875,-1.1074018197778728,-0.8470605012484446,-0.9627109543290664,1.470073977808318,0.47084265356054933,0.7108155263744863,1.2401437007945428,-0.054593330145385206,-0.8547017402721327,-0.6017006769118647,0.054778381869349656,-0.4058615198359087,2.1756281307509666,1.9184151737376318,0.44156846411607875,0.6910112638382438,0.6180384485757757,-1.6737460076007349,0.24474274221880774,-0.05308243547510542,-0.3965050268153458,1.1158397901214172,-0.5191277071590583,-0.3742543454169045,0.32384098822286733,-0.9424240637732767,1.1624649454706169,0.403125008198161,-0.9108548571391996,-0.651014853519304,0.7594866172513838,-0.3692304927976512,1.0437660044364991,-0.7733794248520502,1.5802947319123615,-0.16694697346930254,-1.0537387547253623,0.7013102740251326,-0.25754264065038185,-0.5983995472437618,1.1024279335020388,-0.6361436010196305,1.0991555577904437,-0.23720122737068883,0.4422899782991347,-0.5988490557671503,-1.3346809455137536,-0.43122102824485803,1.9219788064136207,-0.40544130367258896,1.3423525215964787,1.256244571124063,0.3878877159071746,1.1382884131961375,-0.003257827151230089,-0.09878325140987494,-0.20378769773266844,-1.1522675096066486,0.08080163698515844,-0.44036771455025914,1.233541752252848,0.9809443162533105,1.2631387206383407,-0.14264650094562623,-0.28000106089175586,1.3415758234101816,-0.6239886301883519,-1.4500061362097343,-2.132568546188851,0.2985428090164885,0.014505993157389211,0.37727125206455775,-1.0794649827264955,1.505965384769507,-0.03716136608344573,-0.856448775823809,-0.8990139243173874,-0.9992424485619582,0.031418080681642716,0.6138366430139701,-2.0588113484633164,-2.6456597987520913,-1.3327064288424864,-0.13244130030483175,-0.8487573392629163,0.003511668648794605,0.8829461215799975,0.804021933184372,0.29668720205261867,-0.9629788026960224,-0.47711184392417805,0.07439884523606405,-1.039320063953802,0.7544691806713081]},{\"boxpoints\":false,\"line\":{\"width\":1.3},\"marker\":{\"color\":\"rgba(128, 0, 128, 1.0)\"},\"name\":\"D\",\"orientation\":\"v\",\"type\":\"box\",\"y\":[-0.9153771784213612,-0.4012924245057284,1.0938533103513841,-0.05876449087620939,-0.8928530670168028,0.8931516319027041,-1.2122585675519313,0.6336739053482365,0.6864409540871593,-2.450450162325935,1.3766362169548811,-0.09498972740325429,0.018249696688834572,0.00838371990785256,0.02637371267571218,-0.2494784700290381,-2.381179415567164,-0.8986148420620415,-0.6000789066669335,0.9901496738837742,0.5750403551444729,-1.1530766373329144,-0.10248929149795707,1.2879406999929592,0.9340275168061343,-0.36629099505249096,-0.21971945689411818,-2.1794559389850905,-1.128600301594586,0.38181810365012026,-0.3456615896544399,1.076840489089549,0.9702514291306714,-1.129889632834949,-1.5237686296693125,0.9893442639629663,0.02188116620021201,-0.3990886268885891,-0.26235256642600163,-0.9447050028143288,0.3285538558596209,-0.4949627482678983,-1.2410567632788745,-0.03117667293720784,0.27318088707611077,-1.4105882016730553,-0.6971444892873604,-0.2046839616180518,0.21311682457265613,0.05648021937646679,-1.7821486230559918,0.26138035559451905,0.9745360424409939,-0.46590150404526515,1.0163625781591268,-1.206430930878384,-0.28219484087131047,0.3370380040067882,-1.174709156907135,-0.9937967513245821,-1.2103419890348956,0.9666256144943123,0.7653167310678071,-0.5639565361190263,1.127287563860516,0.4597180739400952,0.9611780321994388,-0.1274364898935791,-3.144384054953149,0.3452719343299374,1.0108657267279595,0.560382773064362,-0.34389869715087096,-1.4172642705243446,-0.5403661751113938,1.751483965078072,-1.8536007651466044,0.7509631080228982,-1.3931867910949483,3.8348263491846044,-0.8803894827348969,-0.027395874356677143,-1.2836992348042278,0.07864063552442437,1.764684418462631,1.1831678276825883,0.3598658647264078,1.2684552760340417,1.28190870875007,1.144415560151816,0.08766066909626503,-0.15841220047729188,0.7748636032208857,-0.38719619122350646,2.338915126318817,0.46867997123726074,-0.3425382611596975,0.392730431721023,1.1755743201772637,-0.12158534043582828]}],                        {\"legend\":{\"bgcolor\":\"#F5F6F9\",\"font\":{\"color\":\"#4D5663\"}},\"paper_bgcolor\":\"#F5F6F9\",\"plot_bgcolor\":\"#F5F6F9\",\"template\":{\"data\":{\"bar\":[{\"error_x\":{\"color\":\"#2a3f5f\"},\"error_y\":{\"color\":\"#2a3f5f\"},\"marker\":{\"line\":{\"color\":\"#E5ECF6\",\"width\":0.5},\"pattern\":{\"fillmode\":\"overlay\",\"size\":10,\"solidity\":0.2}},\"type\":\"bar\"}],\"barpolar\":[{\"marker\":{\"line\":{\"color\":\"#E5ECF6\",\"width\":0.5},\"pattern\":{\"fillmode\":\"overlay\",\"size\":10,\"solidity\":0.2}},\"type\":\"barpolar\"}],\"carpet\":[{\"aaxis\":{\"endlinecolor\":\"#2a3f5f\",\"gridcolor\":\"white\",\"linecolor\":\"white\",\"minorgridcolor\":\"white\",\"startlinecolor\":\"#2a3f5f\"},\"baxis\":{\"endlinecolor\":\"#2a3f5f\",\"gridcolor\":\"white\",\"linecolor\":\"white\",\"minorgridcolor\":\"white\",\"startlinecolor\":\"#2a3f5f\"},\"type\":\"carpet\"}],\"choropleth\":[{\"colorbar\":{\"outlinewidth\":0,\"ticks\":\"\"},\"type\":\"choropleth\"}],\"contour\":[{\"colorbar\":{\"outlinewidth\":0,\"ticks\":\"\"},\"colorscale\":[[0.0,\"#0d0887\"],[0.1111111111111111,\"#46039f\"],[0.2222222222222222,\"#7201a8\"],[0.3333333333333333,\"#9c179e\"],[0.4444444444444444,\"#bd3786\"],[0.5555555555555556,\"#d8576b\"],[0.6666666666666666,\"#ed7953\"],[0.7777777777777778,\"#fb9f3a\"],[0.8888888888888888,\"#fdca26\"],[1.0,\"#f0f921\"]],\"type\":\"contour\"}],\"contourcarpet\":[{\"colorbar\":{\"outlinewidth\":0,\"ticks\":\"\"},\"type\":\"contourcarpet\"}],\"heatmap\":[{\"colorbar\":{\"outlinewidth\":0,\"ticks\":\"\"},\"colorscale\":[[0.0,\"#0d0887\"],[0.1111111111111111,\"#46039f\"],[0.2222222222222222,\"#7201a8\"],[0.3333333333333333,\"#9c179e\"],[0.4444444444444444,\"#bd3786\"],[0.5555555555555556,\"#d8576b\"],[0.6666666666666666,\"#ed7953\"],[0.7777777777777778,\"#fb9f3a\"],[0.8888888888888888,\"#fdca26\"],[1.0,\"#f0f921\"]],\"type\":\"heatmap\"}],\"heatmapgl\":[{\"colorbar\":{\"outlinewidth\":0,\"ticks\":\"\"},\"colorscale\":[[0.0,\"#0d0887\"],[0.1111111111111111,\"#46039f\"],[0.2222222222222222,\"#7201a8\"],[0.3333333333333333,\"#9c179e\"],[0.4444444444444444,\"#bd3786\"],[0.5555555555555556,\"#d8576b\"],[0.6666666666666666,\"#ed7953\"],[0.7777777777777778,\"#fb9f3a\"],[0.8888888888888888,\"#fdca26\"],[1.0,\"#f0f921\"]],\"type\":\"heatmapgl\"}],\"histogram\":[{\"marker\":{\"pattern\":{\"fillmode\":\"overlay\",\"size\":10,\"solidity\":0.2}},\"type\":\"histogram\"}],\"histogram2d\":[{\"colorbar\":{\"outlinewidth\":0,\"ticks\":\"\"},\"colorscale\":[[0.0,\"#0d0887\"],[0.1111111111111111,\"#46039f\"],[0.2222222222222222,\"#7201a8\"],[0.3333333333333333,\"#9c179e\"],[0.4444444444444444,\"#bd3786\"],[0.5555555555555556,\"#d8576b\"],[0.6666666666666666,\"#ed7953\"],[0.7777777777777778,\"#fb9f3a\"],[0.8888888888888888,\"#fdca26\"],[1.0,\"#f0f921\"]],\"type\":\"histogram2d\"}],\"histogram2dcontour\":[{\"colorbar\":{\"outlinewidth\":0,\"ticks\":\"\"},\"colorscale\":[[0.0,\"#0d0887\"],[0.1111111111111111,\"#46039f\"],[0.2222222222222222,\"#7201a8\"],[0.3333333333333333,\"#9c179e\"],[0.4444444444444444,\"#bd3786\"],[0.5555555555555556,\"#d8576b\"],[0.6666666666666666,\"#ed7953\"],[0.7777777777777778,\"#fb9f3a\"],[0.8888888888888888,\"#fdca26\"],[1.0,\"#f0f921\"]],\"type\":\"histogram2dcontour\"}],\"mesh3d\":[{\"colorbar\":{\"outlinewidth\":0,\"ticks\":\"\"},\"type\":\"mesh3d\"}],\"parcoords\":[{\"line\":{\"colorbar\":{\"outlinewidth\":0,\"ticks\":\"\"}},\"type\":\"parcoords\"}],\"pie\":[{\"automargin\":true,\"type\":\"pie\"}],\"scatter\":[{\"marker\":{\"colorbar\":{\"outlinewidth\":0,\"ticks\":\"\"}},\"type\":\"scatter\"}],\"scatter3d\":[{\"line\":{\"colorbar\":{\"outlinewidth\":0,\"ticks\":\"\"}},\"marker\":{\"colorbar\":{\"outlinewidth\":0,\"ticks\":\"\"}},\"type\":\"scatter3d\"}],\"scattercarpet\":[{\"marker\":{\"colorbar\":{\"outlinewidth\":0,\"ticks\":\"\"}},\"type\":\"scattercarpet\"}],\"scattergeo\":[{\"marker\":{\"colorbar\":{\"outlinewidth\":0,\"ticks\":\"\"}},\"type\":\"scattergeo\"}],\"scattergl\":[{\"marker\":{\"colorbar\":{\"outlinewidth\":0,\"ticks\":\"\"}},\"type\":\"scattergl\"}],\"scattermapbox\":[{\"marker\":{\"colorbar\":{\"outlinewidth\":0,\"ticks\":\"\"}},\"type\":\"scattermapbox\"}],\"scatterpolar\":[{\"marker\":{\"colorbar\":{\"outlinewidth\":0,\"ticks\":\"\"}},\"type\":\"scatterpolar\"}],\"scatterpolargl\":[{\"marker\":{\"colorbar\":{\"outlinewidth\":0,\"ticks\":\"\"}},\"type\":\"scatterpolargl\"}],\"scatterternary\":[{\"marker\":{\"colorbar\":{\"outlinewidth\":0,\"ticks\":\"\"}},\"type\":\"scatterternary\"}],\"surface\":[{\"colorbar\":{\"outlinewidth\":0,\"ticks\":\"\"},\"colorscale\":[[0.0,\"#0d0887\"],[0.1111111111111111,\"#46039f\"],[0.2222222222222222,\"#7201a8\"],[0.3333333333333333,\"#9c179e\"],[0.4444444444444444,\"#bd3786\"],[0.5555555555555556,\"#d8576b\"],[0.6666666666666666,\"#ed7953\"],[0.7777777777777778,\"#fb9f3a\"],[0.8888888888888888,\"#fdca26\"],[1.0,\"#f0f921\"]],\"type\":\"surface\"}],\"table\":[{\"cells\":{\"fill\":{\"color\":\"#EBF0F8\"},\"line\":{\"color\":\"white\"}},\"header\":{\"fill\":{\"color\":\"#C8D4E3\"},\"line\":{\"color\":\"white\"}},\"type\":\"table\"}]},\"layout\":{\"annotationdefaults\":{\"arrowcolor\":\"#2a3f5f\",\"arrowhead\":0,\"arrowwidth\":1},\"autotypenumbers\":\"strict\",\"coloraxis\":{\"colorbar\":{\"outlinewidth\":0,\"ticks\":\"\"}},\"colorscale\":{\"diverging\":[[0,\"#8e0152\"],[0.1,\"#c51b7d\"],[0.2,\"#de77ae\"],[0.3,\"#f1b6da\"],[0.4,\"#fde0ef\"],[0.5,\"#f7f7f7\"],[0.6,\"#e6f5d0\"],[0.7,\"#b8e186\"],[0.8,\"#7fbc41\"],[0.9,\"#4d9221\"],[1,\"#276419\"]],\"sequential\":[[0.0,\"#0d0887\"],[0.1111111111111111,\"#46039f\"],[0.2222222222222222,\"#7201a8\"],[0.3333333333333333,\"#9c179e\"],[0.4444444444444444,\"#bd3786\"],[0.5555555555555556,\"#d8576b\"],[0.6666666666666666,\"#ed7953\"],[0.7777777777777778,\"#fb9f3a\"],[0.8888888888888888,\"#fdca26\"],[1.0,\"#f0f921\"]],\"sequentialminus\":[[0.0,\"#0d0887\"],[0.1111111111111111,\"#46039f\"],[0.2222222222222222,\"#7201a8\"],[0.3333333333333333,\"#9c179e\"],[0.4444444444444444,\"#bd3786\"],[0.5555555555555556,\"#d8576b\"],[0.6666666666666666,\"#ed7953\"],[0.7777777777777778,\"#fb9f3a\"],[0.8888888888888888,\"#fdca26\"],[1.0,\"#f0f921\"]]},\"colorway\":[\"#636efa\",\"#EF553B\",\"#00cc96\",\"#ab63fa\",\"#FFA15A\",\"#19d3f3\",\"#FF6692\",\"#B6E880\",\"#FF97FF\",\"#FECB52\"],\"font\":{\"color\":\"#2a3f5f\"},\"geo\":{\"bgcolor\":\"white\",\"lakecolor\":\"white\",\"landcolor\":\"#E5ECF6\",\"showlakes\":true,\"showland\":true,\"subunitcolor\":\"white\"},\"hoverlabel\":{\"align\":\"left\"},\"hovermode\":\"closest\",\"mapbox\":{\"style\":\"light\"},\"paper_bgcolor\":\"white\",\"plot_bgcolor\":\"#E5ECF6\",\"polar\":{\"angularaxis\":{\"gridcolor\":\"white\",\"linecolor\":\"white\",\"ticks\":\"\"},\"bgcolor\":\"#E5ECF6\",\"radialaxis\":{\"gridcolor\":\"white\",\"linecolor\":\"white\",\"ticks\":\"\"}},\"scene\":{\"xaxis\":{\"backgroundcolor\":\"#E5ECF6\",\"gridcolor\":\"white\",\"gridwidth\":2,\"linecolor\":\"white\",\"showbackground\":true,\"ticks\":\"\",\"zerolinecolor\":\"white\"},\"yaxis\":{\"backgroundcolor\":\"#E5ECF6\",\"gridcolor\":\"white\",\"gridwidth\":2,\"linecolor\":\"white\",\"showbackground\":true,\"ticks\":\"\",\"zerolinecolor\":\"white\"},\"zaxis\":{\"backgroundcolor\":\"#E5ECF6\",\"gridcolor\":\"white\",\"gridwidth\":2,\"linecolor\":\"white\",\"showbackground\":true,\"ticks\":\"\",\"zerolinecolor\":\"white\"}},\"shapedefaults\":{\"line\":{\"color\":\"#2a3f5f\"}},\"ternary\":{\"aaxis\":{\"gridcolor\":\"white\",\"linecolor\":\"white\",\"ticks\":\"\"},\"baxis\":{\"gridcolor\":\"white\",\"linecolor\":\"white\",\"ticks\":\"\"},\"bgcolor\":\"#E5ECF6\",\"caxis\":{\"gridcolor\":\"white\",\"linecolor\":\"white\",\"ticks\":\"\"}},\"title\":{\"x\":0.05},\"xaxis\":{\"automargin\":true,\"gridcolor\":\"white\",\"linecolor\":\"white\",\"ticks\":\"\",\"title\":{\"standoff\":15},\"zerolinecolor\":\"white\",\"zerolinewidth\":2},\"yaxis\":{\"automargin\":true,\"gridcolor\":\"white\",\"linecolor\":\"white\",\"ticks\":\"\",\"title\":{\"standoff\":15},\"zerolinecolor\":\"white\",\"zerolinewidth\":2}}},\"title\":{\"font\":{\"color\":\"#4D5663\"}},\"xaxis\":{\"gridcolor\":\"#E1E5ED\",\"showgrid\":true,\"tickfont\":{\"color\":\"#4D5663\"},\"title\":{\"font\":{\"color\":\"#4D5663\"},\"text\":\"\"},\"zerolinecolor\":\"#E1E5ED\"},\"yaxis\":{\"gridcolor\":\"#E1E5ED\",\"showgrid\":true,\"tickfont\":{\"color\":\"#4D5663\"},\"title\":{\"font\":{\"color\":\"#4D5663\"},\"text\":\"\"},\"zerolinecolor\":\"#E1E5ED\"}},                        {\"showLink\": true, \"linkText\": \"Export to plot.ly\", \"plotlyServerURL\": \"https://plot.ly\", \"responsive\": true}                    ).then(function(){\n",
       "                            \n",
       "var gd = document.getElementById('1250acdc-e9ba-4a72-ab7f-5abed5be69f2');\n",
       "var x = new MutationObserver(function (mutations, observer) {{\n",
       "        var display = window.getComputedStyle(gd).display;\n",
       "        if (!display || display === 'none') {{\n",
       "            console.log([gd, 'removed!']);\n",
       "            Plotly.purge(gd);\n",
       "            observer.disconnect();\n",
       "        }}\n",
       "}});\n",
       "\n",
       "// Listen for the removal of the full notebook cells\n",
       "var notebookContainer = gd.closest('#notebook-container');\n",
       "if (notebookContainer) {{\n",
       "    x.observe(notebookContainer, {childList: true});\n",
       "}}\n",
       "\n",
       "// Listen for the clearing of the current output cell\n",
       "var outputEl = gd.closest('.output');\n",
       "if (outputEl) {{\n",
       "    x.observe(outputEl, {childList: true});\n",
       "}}\n",
       "\n",
       "                        })                };                });            </script>        </div>"
      ]
     },
     "metadata": {},
     "output_type": "display_data"
    }
   ],
   "source": [
    "df.iplot(kind='box')"
   ]
  },
  {
   "cell_type": "markdown",
   "metadata": {},
   "source": [
    "## 3d Surface"
   ]
  },
  {
   "cell_type": "code",
   "execution_count": 16,
   "metadata": {},
   "outputs": [
    {
     "data": {
      "application/vnd.plotly.v1+json": {
       "config": {
        "linkText": "Export to plot.ly",
        "plotlyServerURL": "https://plot.ly",
        "showLink": true
       },
       "data": [
        {
         "colorscale": [
          [
           0,
           "rgb(165,0,38)"
          ],
          [
           0.1,
           "rgb(215,48,39)"
          ],
          [
           0.2,
           "rgb(244,109,67)"
          ],
          [
           0.3,
           "rgb(253,174,97)"
          ],
          [
           0.4,
           "rgb(254,224,144)"
          ],
          [
           0.5,
           "rgb(255,255,191)"
          ],
          [
           0.6,
           "rgb(224,243,248)"
          ],
          [
           0.7,
           "rgb(171,217,233)"
          ],
          [
           0.8,
           "rgb(116,173,209)"
          ],
          [
           0.9,
           "rgb(69,117,180)"
          ],
          [
           1,
           "rgb(49,54,149)"
          ]
         ],
         "type": "surface",
         "x": [
          0,
          1,
          2,
          3,
          4
         ],
         "y": [
          "x",
          "y",
          "z"
         ],
         "z": [
          [
           1,
           2,
           3,
           4,
           5
          ],
          [
           10,
           20,
           30,
           20,
           10
          ],
          [
           5,
           4,
           3,
           2,
           1
          ]
         ]
        }
       ],
       "layout": {
        "legend": {
         "bgcolor": "#F5F6F9",
         "font": {
          "color": "#4D5663"
         }
        },
        "paper_bgcolor": "#F5F6F9",
        "plot_bgcolor": "#F5F6F9",
        "template": {
         "data": {
          "bar": [
           {
            "error_x": {
             "color": "#2a3f5f"
            },
            "error_y": {
             "color": "#2a3f5f"
            },
            "marker": {
             "line": {
              "color": "#E5ECF6",
              "width": 0.5
             },
             "pattern": {
              "fillmode": "overlay",
              "size": 10,
              "solidity": 0.2
             }
            },
            "type": "bar"
           }
          ],
          "barpolar": [
           {
            "marker": {
             "line": {
              "color": "#E5ECF6",
              "width": 0.5
             },
             "pattern": {
              "fillmode": "overlay",
              "size": 10,
              "solidity": 0.2
             }
            },
            "type": "barpolar"
           }
          ],
          "carpet": [
           {
            "aaxis": {
             "endlinecolor": "#2a3f5f",
             "gridcolor": "white",
             "linecolor": "white",
             "minorgridcolor": "white",
             "startlinecolor": "#2a3f5f"
            },
            "baxis": {
             "endlinecolor": "#2a3f5f",
             "gridcolor": "white",
             "linecolor": "white",
             "minorgridcolor": "white",
             "startlinecolor": "#2a3f5f"
            },
            "type": "carpet"
           }
          ],
          "choropleth": [
           {
            "colorbar": {
             "outlinewidth": 0,
             "ticks": ""
            },
            "type": "choropleth"
           }
          ],
          "contour": [
           {
            "colorbar": {
             "outlinewidth": 0,
             "ticks": ""
            },
            "colorscale": [
             [
              0,
              "#0d0887"
             ],
             [
              0.1111111111111111,
              "#46039f"
             ],
             [
              0.2222222222222222,
              "#7201a8"
             ],
             [
              0.3333333333333333,
              "#9c179e"
             ],
             [
              0.4444444444444444,
              "#bd3786"
             ],
             [
              0.5555555555555556,
              "#d8576b"
             ],
             [
              0.6666666666666666,
              "#ed7953"
             ],
             [
              0.7777777777777778,
              "#fb9f3a"
             ],
             [
              0.8888888888888888,
              "#fdca26"
             ],
             [
              1,
              "#f0f921"
             ]
            ],
            "type": "contour"
           }
          ],
          "contourcarpet": [
           {
            "colorbar": {
             "outlinewidth": 0,
             "ticks": ""
            },
            "type": "contourcarpet"
           }
          ],
          "heatmap": [
           {
            "colorbar": {
             "outlinewidth": 0,
             "ticks": ""
            },
            "colorscale": [
             [
              0,
              "#0d0887"
             ],
             [
              0.1111111111111111,
              "#46039f"
             ],
             [
              0.2222222222222222,
              "#7201a8"
             ],
             [
              0.3333333333333333,
              "#9c179e"
             ],
             [
              0.4444444444444444,
              "#bd3786"
             ],
             [
              0.5555555555555556,
              "#d8576b"
             ],
             [
              0.6666666666666666,
              "#ed7953"
             ],
             [
              0.7777777777777778,
              "#fb9f3a"
             ],
             [
              0.8888888888888888,
              "#fdca26"
             ],
             [
              1,
              "#f0f921"
             ]
            ],
            "type": "heatmap"
           }
          ],
          "heatmapgl": [
           {
            "colorbar": {
             "outlinewidth": 0,
             "ticks": ""
            },
            "colorscale": [
             [
              0,
              "#0d0887"
             ],
             [
              0.1111111111111111,
              "#46039f"
             ],
             [
              0.2222222222222222,
              "#7201a8"
             ],
             [
              0.3333333333333333,
              "#9c179e"
             ],
             [
              0.4444444444444444,
              "#bd3786"
             ],
             [
              0.5555555555555556,
              "#d8576b"
             ],
             [
              0.6666666666666666,
              "#ed7953"
             ],
             [
              0.7777777777777778,
              "#fb9f3a"
             ],
             [
              0.8888888888888888,
              "#fdca26"
             ],
             [
              1,
              "#f0f921"
             ]
            ],
            "type": "heatmapgl"
           }
          ],
          "histogram": [
           {
            "marker": {
             "pattern": {
              "fillmode": "overlay",
              "size": 10,
              "solidity": 0.2
             }
            },
            "type": "histogram"
           }
          ],
          "histogram2d": [
           {
            "colorbar": {
             "outlinewidth": 0,
             "ticks": ""
            },
            "colorscale": [
             [
              0,
              "#0d0887"
             ],
             [
              0.1111111111111111,
              "#46039f"
             ],
             [
              0.2222222222222222,
              "#7201a8"
             ],
             [
              0.3333333333333333,
              "#9c179e"
             ],
             [
              0.4444444444444444,
              "#bd3786"
             ],
             [
              0.5555555555555556,
              "#d8576b"
             ],
             [
              0.6666666666666666,
              "#ed7953"
             ],
             [
              0.7777777777777778,
              "#fb9f3a"
             ],
             [
              0.8888888888888888,
              "#fdca26"
             ],
             [
              1,
              "#f0f921"
             ]
            ],
            "type": "histogram2d"
           }
          ],
          "histogram2dcontour": [
           {
            "colorbar": {
             "outlinewidth": 0,
             "ticks": ""
            },
            "colorscale": [
             [
              0,
              "#0d0887"
             ],
             [
              0.1111111111111111,
              "#46039f"
             ],
             [
              0.2222222222222222,
              "#7201a8"
             ],
             [
              0.3333333333333333,
              "#9c179e"
             ],
             [
              0.4444444444444444,
              "#bd3786"
             ],
             [
              0.5555555555555556,
              "#d8576b"
             ],
             [
              0.6666666666666666,
              "#ed7953"
             ],
             [
              0.7777777777777778,
              "#fb9f3a"
             ],
             [
              0.8888888888888888,
              "#fdca26"
             ],
             [
              1,
              "#f0f921"
             ]
            ],
            "type": "histogram2dcontour"
           }
          ],
          "mesh3d": [
           {
            "colorbar": {
             "outlinewidth": 0,
             "ticks": ""
            },
            "type": "mesh3d"
           }
          ],
          "parcoords": [
           {
            "line": {
             "colorbar": {
              "outlinewidth": 0,
              "ticks": ""
             }
            },
            "type": "parcoords"
           }
          ],
          "pie": [
           {
            "automargin": true,
            "type": "pie"
           }
          ],
          "scatter": [
           {
            "marker": {
             "colorbar": {
              "outlinewidth": 0,
              "ticks": ""
             }
            },
            "type": "scatter"
           }
          ],
          "scatter3d": [
           {
            "line": {
             "colorbar": {
              "outlinewidth": 0,
              "ticks": ""
             }
            },
            "marker": {
             "colorbar": {
              "outlinewidth": 0,
              "ticks": ""
             }
            },
            "type": "scatter3d"
           }
          ],
          "scattercarpet": [
           {
            "marker": {
             "colorbar": {
              "outlinewidth": 0,
              "ticks": ""
             }
            },
            "type": "scattercarpet"
           }
          ],
          "scattergeo": [
           {
            "marker": {
             "colorbar": {
              "outlinewidth": 0,
              "ticks": ""
             }
            },
            "type": "scattergeo"
           }
          ],
          "scattergl": [
           {
            "marker": {
             "colorbar": {
              "outlinewidth": 0,
              "ticks": ""
             }
            },
            "type": "scattergl"
           }
          ],
          "scattermapbox": [
           {
            "marker": {
             "colorbar": {
              "outlinewidth": 0,
              "ticks": ""
             }
            },
            "type": "scattermapbox"
           }
          ],
          "scatterpolar": [
           {
            "marker": {
             "colorbar": {
              "outlinewidth": 0,
              "ticks": ""
             }
            },
            "type": "scatterpolar"
           }
          ],
          "scatterpolargl": [
           {
            "marker": {
             "colorbar": {
              "outlinewidth": 0,
              "ticks": ""
             }
            },
            "type": "scatterpolargl"
           }
          ],
          "scatterternary": [
           {
            "marker": {
             "colorbar": {
              "outlinewidth": 0,
              "ticks": ""
             }
            },
            "type": "scatterternary"
           }
          ],
          "surface": [
           {
            "colorbar": {
             "outlinewidth": 0,
             "ticks": ""
            },
            "colorscale": [
             [
              0,
              "#0d0887"
             ],
             [
              0.1111111111111111,
              "#46039f"
             ],
             [
              0.2222222222222222,
              "#7201a8"
             ],
             [
              0.3333333333333333,
              "#9c179e"
             ],
             [
              0.4444444444444444,
              "#bd3786"
             ],
             [
              0.5555555555555556,
              "#d8576b"
             ],
             [
              0.6666666666666666,
              "#ed7953"
             ],
             [
              0.7777777777777778,
              "#fb9f3a"
             ],
             [
              0.8888888888888888,
              "#fdca26"
             ],
             [
              1,
              "#f0f921"
             ]
            ],
            "type": "surface"
           }
          ],
          "table": [
           {
            "cells": {
             "fill": {
              "color": "#EBF0F8"
             },
             "line": {
              "color": "white"
             }
            },
            "header": {
             "fill": {
              "color": "#C8D4E3"
             },
             "line": {
              "color": "white"
             }
            },
            "type": "table"
           }
          ]
         },
         "layout": {
          "annotationdefaults": {
           "arrowcolor": "#2a3f5f",
           "arrowhead": 0,
           "arrowwidth": 1
          },
          "autotypenumbers": "strict",
          "coloraxis": {
           "colorbar": {
            "outlinewidth": 0,
            "ticks": ""
           }
          },
          "colorscale": {
           "diverging": [
            [
             0,
             "#8e0152"
            ],
            [
             0.1,
             "#c51b7d"
            ],
            [
             0.2,
             "#de77ae"
            ],
            [
             0.3,
             "#f1b6da"
            ],
            [
             0.4,
             "#fde0ef"
            ],
            [
             0.5,
             "#f7f7f7"
            ],
            [
             0.6,
             "#e6f5d0"
            ],
            [
             0.7,
             "#b8e186"
            ],
            [
             0.8,
             "#7fbc41"
            ],
            [
             0.9,
             "#4d9221"
            ],
            [
             1,
             "#276419"
            ]
           ],
           "sequential": [
            [
             0,
             "#0d0887"
            ],
            [
             0.1111111111111111,
             "#46039f"
            ],
            [
             0.2222222222222222,
             "#7201a8"
            ],
            [
             0.3333333333333333,
             "#9c179e"
            ],
            [
             0.4444444444444444,
             "#bd3786"
            ],
            [
             0.5555555555555556,
             "#d8576b"
            ],
            [
             0.6666666666666666,
             "#ed7953"
            ],
            [
             0.7777777777777778,
             "#fb9f3a"
            ],
            [
             0.8888888888888888,
             "#fdca26"
            ],
            [
             1,
             "#f0f921"
            ]
           ],
           "sequentialminus": [
            [
             0,
             "#0d0887"
            ],
            [
             0.1111111111111111,
             "#46039f"
            ],
            [
             0.2222222222222222,
             "#7201a8"
            ],
            [
             0.3333333333333333,
             "#9c179e"
            ],
            [
             0.4444444444444444,
             "#bd3786"
            ],
            [
             0.5555555555555556,
             "#d8576b"
            ],
            [
             0.6666666666666666,
             "#ed7953"
            ],
            [
             0.7777777777777778,
             "#fb9f3a"
            ],
            [
             0.8888888888888888,
             "#fdca26"
            ],
            [
             1,
             "#f0f921"
            ]
           ]
          },
          "colorway": [
           "#636efa",
           "#EF553B",
           "#00cc96",
           "#ab63fa",
           "#FFA15A",
           "#19d3f3",
           "#FF6692",
           "#B6E880",
           "#FF97FF",
           "#FECB52"
          ],
          "font": {
           "color": "#2a3f5f"
          },
          "geo": {
           "bgcolor": "white",
           "lakecolor": "white",
           "landcolor": "#E5ECF6",
           "showlakes": true,
           "showland": true,
           "subunitcolor": "white"
          },
          "hoverlabel": {
           "align": "left"
          },
          "hovermode": "closest",
          "mapbox": {
           "style": "light"
          },
          "paper_bgcolor": "white",
          "plot_bgcolor": "#E5ECF6",
          "polar": {
           "angularaxis": {
            "gridcolor": "white",
            "linecolor": "white",
            "ticks": ""
           },
           "bgcolor": "#E5ECF6",
           "radialaxis": {
            "gridcolor": "white",
            "linecolor": "white",
            "ticks": ""
           }
          },
          "scene": {
           "xaxis": {
            "backgroundcolor": "#E5ECF6",
            "gridcolor": "white",
            "gridwidth": 2,
            "linecolor": "white",
            "showbackground": true,
            "ticks": "",
            "zerolinecolor": "white"
           },
           "yaxis": {
            "backgroundcolor": "#E5ECF6",
            "gridcolor": "white",
            "gridwidth": 2,
            "linecolor": "white",
            "showbackground": true,
            "ticks": "",
            "zerolinecolor": "white"
           },
           "zaxis": {
            "backgroundcolor": "#E5ECF6",
            "gridcolor": "white",
            "gridwidth": 2,
            "linecolor": "white",
            "showbackground": true,
            "ticks": "",
            "zerolinecolor": "white"
           }
          },
          "shapedefaults": {
           "line": {
            "color": "#2a3f5f"
           }
          },
          "ternary": {
           "aaxis": {
            "gridcolor": "white",
            "linecolor": "white",
            "ticks": ""
           },
           "baxis": {
            "gridcolor": "white",
            "linecolor": "white",
            "ticks": ""
           },
           "bgcolor": "#E5ECF6",
           "caxis": {
            "gridcolor": "white",
            "linecolor": "white",
            "ticks": ""
           }
          },
          "title": {
           "x": 0.05
          },
          "xaxis": {
           "automargin": true,
           "gridcolor": "white",
           "linecolor": "white",
           "ticks": "",
           "title": {
            "standoff": 15
           },
           "zerolinecolor": "white",
           "zerolinewidth": 2
          },
          "yaxis": {
           "automargin": true,
           "gridcolor": "white",
           "linecolor": "white",
           "ticks": "",
           "title": {
            "standoff": 15
           },
           "zerolinecolor": "white",
           "zerolinewidth": 2
          }
         }
        },
        "title": {
         "font": {
          "color": "#4D5663"
         }
        },
        "xaxis": {
         "gridcolor": "#E1E5ED",
         "showgrid": true,
         "tickfont": {
          "color": "#4D5663"
         },
         "title": {
          "font": {
           "color": "#4D5663"
          },
          "text": ""
         },
         "zerolinecolor": "#E1E5ED"
        },
        "yaxis": {
         "gridcolor": "#E1E5ED",
         "showgrid": true,
         "tickfont": {
          "color": "#4D5663"
         },
         "title": {
          "font": {
           "color": "#4D5663"
          },
          "text": ""
         },
         "zerolinecolor": "#E1E5ED"
        }
       }
      },
      "text/html": [
       "<div>                            <div id=\"59577490-3d5b-4d4c-be3d-38b72226e735\" class=\"plotly-graph-div\" style=\"height:525px; width:100%;\"></div>            <script type=\"text/javascript\">                require([\"plotly\"], function(Plotly) {                    window.PLOTLYENV=window.PLOTLYENV || {};\n",
       "                    window.PLOTLYENV.BASE_URL='https://plot.ly';                                    if (document.getElementById(\"59577490-3d5b-4d4c-be3d-38b72226e735\")) {                    Plotly.newPlot(                        \"59577490-3d5b-4d4c-be3d-38b72226e735\",                        [{\"colorscale\":[[0.0,\"rgb(165,0,38)\"],[0.1,\"rgb(215,48,39)\"],[0.2,\"rgb(244,109,67)\"],[0.3,\"rgb(253,174,97)\"],[0.4,\"rgb(254,224,144)\"],[0.5,\"rgb(255,255,191)\"],[0.6,\"rgb(224,243,248)\"],[0.7,\"rgb(171,217,233)\"],[0.8,\"rgb(116,173,209)\"],[0.9,\"rgb(69,117,180)\"],[1.0,\"rgb(49,54,149)\"]],\"type\":\"surface\",\"x\":[0,1,2,3,4],\"y\":[\"x\",\"y\",\"z\"],\"z\":[[1,2,3,4,5],[10,20,30,20,10],[5,4,3,2,1]]}],                        {\"legend\":{\"bgcolor\":\"#F5F6F9\",\"font\":{\"color\":\"#4D5663\"}},\"paper_bgcolor\":\"#F5F6F9\",\"plot_bgcolor\":\"#F5F6F9\",\"template\":{\"data\":{\"bar\":[{\"error_x\":{\"color\":\"#2a3f5f\"},\"error_y\":{\"color\":\"#2a3f5f\"},\"marker\":{\"line\":{\"color\":\"#E5ECF6\",\"width\":0.5},\"pattern\":{\"fillmode\":\"overlay\",\"size\":10,\"solidity\":0.2}},\"type\":\"bar\"}],\"barpolar\":[{\"marker\":{\"line\":{\"color\":\"#E5ECF6\",\"width\":0.5},\"pattern\":{\"fillmode\":\"overlay\",\"size\":10,\"solidity\":0.2}},\"type\":\"barpolar\"}],\"carpet\":[{\"aaxis\":{\"endlinecolor\":\"#2a3f5f\",\"gridcolor\":\"white\",\"linecolor\":\"white\",\"minorgridcolor\":\"white\",\"startlinecolor\":\"#2a3f5f\"},\"baxis\":{\"endlinecolor\":\"#2a3f5f\",\"gridcolor\":\"white\",\"linecolor\":\"white\",\"minorgridcolor\":\"white\",\"startlinecolor\":\"#2a3f5f\"},\"type\":\"carpet\"}],\"choropleth\":[{\"colorbar\":{\"outlinewidth\":0,\"ticks\":\"\"},\"type\":\"choropleth\"}],\"contour\":[{\"colorbar\":{\"outlinewidth\":0,\"ticks\":\"\"},\"colorscale\":[[0.0,\"#0d0887\"],[0.1111111111111111,\"#46039f\"],[0.2222222222222222,\"#7201a8\"],[0.3333333333333333,\"#9c179e\"],[0.4444444444444444,\"#bd3786\"],[0.5555555555555556,\"#d8576b\"],[0.6666666666666666,\"#ed7953\"],[0.7777777777777778,\"#fb9f3a\"],[0.8888888888888888,\"#fdca26\"],[1.0,\"#f0f921\"]],\"type\":\"contour\"}],\"contourcarpet\":[{\"colorbar\":{\"outlinewidth\":0,\"ticks\":\"\"},\"type\":\"contourcarpet\"}],\"heatmap\":[{\"colorbar\":{\"outlinewidth\":0,\"ticks\":\"\"},\"colorscale\":[[0.0,\"#0d0887\"],[0.1111111111111111,\"#46039f\"],[0.2222222222222222,\"#7201a8\"],[0.3333333333333333,\"#9c179e\"],[0.4444444444444444,\"#bd3786\"],[0.5555555555555556,\"#d8576b\"],[0.6666666666666666,\"#ed7953\"],[0.7777777777777778,\"#fb9f3a\"],[0.8888888888888888,\"#fdca26\"],[1.0,\"#f0f921\"]],\"type\":\"heatmap\"}],\"heatmapgl\":[{\"colorbar\":{\"outlinewidth\":0,\"ticks\":\"\"},\"colorscale\":[[0.0,\"#0d0887\"],[0.1111111111111111,\"#46039f\"],[0.2222222222222222,\"#7201a8\"],[0.3333333333333333,\"#9c179e\"],[0.4444444444444444,\"#bd3786\"],[0.5555555555555556,\"#d8576b\"],[0.6666666666666666,\"#ed7953\"],[0.7777777777777778,\"#fb9f3a\"],[0.8888888888888888,\"#fdca26\"],[1.0,\"#f0f921\"]],\"type\":\"heatmapgl\"}],\"histogram\":[{\"marker\":{\"pattern\":{\"fillmode\":\"overlay\",\"size\":10,\"solidity\":0.2}},\"type\":\"histogram\"}],\"histogram2d\":[{\"colorbar\":{\"outlinewidth\":0,\"ticks\":\"\"},\"colorscale\":[[0.0,\"#0d0887\"],[0.1111111111111111,\"#46039f\"],[0.2222222222222222,\"#7201a8\"],[0.3333333333333333,\"#9c179e\"],[0.4444444444444444,\"#bd3786\"],[0.5555555555555556,\"#d8576b\"],[0.6666666666666666,\"#ed7953\"],[0.7777777777777778,\"#fb9f3a\"],[0.8888888888888888,\"#fdca26\"],[1.0,\"#f0f921\"]],\"type\":\"histogram2d\"}],\"histogram2dcontour\":[{\"colorbar\":{\"outlinewidth\":0,\"ticks\":\"\"},\"colorscale\":[[0.0,\"#0d0887\"],[0.1111111111111111,\"#46039f\"],[0.2222222222222222,\"#7201a8\"],[0.3333333333333333,\"#9c179e\"],[0.4444444444444444,\"#bd3786\"],[0.5555555555555556,\"#d8576b\"],[0.6666666666666666,\"#ed7953\"],[0.7777777777777778,\"#fb9f3a\"],[0.8888888888888888,\"#fdca26\"],[1.0,\"#f0f921\"]],\"type\":\"histogram2dcontour\"}],\"mesh3d\":[{\"colorbar\":{\"outlinewidth\":0,\"ticks\":\"\"},\"type\":\"mesh3d\"}],\"parcoords\":[{\"line\":{\"colorbar\":{\"outlinewidth\":0,\"ticks\":\"\"}},\"type\":\"parcoords\"}],\"pie\":[{\"automargin\":true,\"type\":\"pie\"}],\"scatter\":[{\"marker\":{\"colorbar\":{\"outlinewidth\":0,\"ticks\":\"\"}},\"type\":\"scatter\"}],\"scatter3d\":[{\"line\":{\"colorbar\":{\"outlinewidth\":0,\"ticks\":\"\"}},\"marker\":{\"colorbar\":{\"outlinewidth\":0,\"ticks\":\"\"}},\"type\":\"scatter3d\"}],\"scattercarpet\":[{\"marker\":{\"colorbar\":{\"outlinewidth\":0,\"ticks\":\"\"}},\"type\":\"scattercarpet\"}],\"scattergeo\":[{\"marker\":{\"colorbar\":{\"outlinewidth\":0,\"ticks\":\"\"}},\"type\":\"scattergeo\"}],\"scattergl\":[{\"marker\":{\"colorbar\":{\"outlinewidth\":0,\"ticks\":\"\"}},\"type\":\"scattergl\"}],\"scattermapbox\":[{\"marker\":{\"colorbar\":{\"outlinewidth\":0,\"ticks\":\"\"}},\"type\":\"scattermapbox\"}],\"scatterpolar\":[{\"marker\":{\"colorbar\":{\"outlinewidth\":0,\"ticks\":\"\"}},\"type\":\"scatterpolar\"}],\"scatterpolargl\":[{\"marker\":{\"colorbar\":{\"outlinewidth\":0,\"ticks\":\"\"}},\"type\":\"scatterpolargl\"}],\"scatterternary\":[{\"marker\":{\"colorbar\":{\"outlinewidth\":0,\"ticks\":\"\"}},\"type\":\"scatterternary\"}],\"surface\":[{\"colorbar\":{\"outlinewidth\":0,\"ticks\":\"\"},\"colorscale\":[[0.0,\"#0d0887\"],[0.1111111111111111,\"#46039f\"],[0.2222222222222222,\"#7201a8\"],[0.3333333333333333,\"#9c179e\"],[0.4444444444444444,\"#bd3786\"],[0.5555555555555556,\"#d8576b\"],[0.6666666666666666,\"#ed7953\"],[0.7777777777777778,\"#fb9f3a\"],[0.8888888888888888,\"#fdca26\"],[1.0,\"#f0f921\"]],\"type\":\"surface\"}],\"table\":[{\"cells\":{\"fill\":{\"color\":\"#EBF0F8\"},\"line\":{\"color\":\"white\"}},\"header\":{\"fill\":{\"color\":\"#C8D4E3\"},\"line\":{\"color\":\"white\"}},\"type\":\"table\"}]},\"layout\":{\"annotationdefaults\":{\"arrowcolor\":\"#2a3f5f\",\"arrowhead\":0,\"arrowwidth\":1},\"autotypenumbers\":\"strict\",\"coloraxis\":{\"colorbar\":{\"outlinewidth\":0,\"ticks\":\"\"}},\"colorscale\":{\"diverging\":[[0,\"#8e0152\"],[0.1,\"#c51b7d\"],[0.2,\"#de77ae\"],[0.3,\"#f1b6da\"],[0.4,\"#fde0ef\"],[0.5,\"#f7f7f7\"],[0.6,\"#e6f5d0\"],[0.7,\"#b8e186\"],[0.8,\"#7fbc41\"],[0.9,\"#4d9221\"],[1,\"#276419\"]],\"sequential\":[[0.0,\"#0d0887\"],[0.1111111111111111,\"#46039f\"],[0.2222222222222222,\"#7201a8\"],[0.3333333333333333,\"#9c179e\"],[0.4444444444444444,\"#bd3786\"],[0.5555555555555556,\"#d8576b\"],[0.6666666666666666,\"#ed7953\"],[0.7777777777777778,\"#fb9f3a\"],[0.8888888888888888,\"#fdca26\"],[1.0,\"#f0f921\"]],\"sequentialminus\":[[0.0,\"#0d0887\"],[0.1111111111111111,\"#46039f\"],[0.2222222222222222,\"#7201a8\"],[0.3333333333333333,\"#9c179e\"],[0.4444444444444444,\"#bd3786\"],[0.5555555555555556,\"#d8576b\"],[0.6666666666666666,\"#ed7953\"],[0.7777777777777778,\"#fb9f3a\"],[0.8888888888888888,\"#fdca26\"],[1.0,\"#f0f921\"]]},\"colorway\":[\"#636efa\",\"#EF553B\",\"#00cc96\",\"#ab63fa\",\"#FFA15A\",\"#19d3f3\",\"#FF6692\",\"#B6E880\",\"#FF97FF\",\"#FECB52\"],\"font\":{\"color\":\"#2a3f5f\"},\"geo\":{\"bgcolor\":\"white\",\"lakecolor\":\"white\",\"landcolor\":\"#E5ECF6\",\"showlakes\":true,\"showland\":true,\"subunitcolor\":\"white\"},\"hoverlabel\":{\"align\":\"left\"},\"hovermode\":\"closest\",\"mapbox\":{\"style\":\"light\"},\"paper_bgcolor\":\"white\",\"plot_bgcolor\":\"#E5ECF6\",\"polar\":{\"angularaxis\":{\"gridcolor\":\"white\",\"linecolor\":\"white\",\"ticks\":\"\"},\"bgcolor\":\"#E5ECF6\",\"radialaxis\":{\"gridcolor\":\"white\",\"linecolor\":\"white\",\"ticks\":\"\"}},\"scene\":{\"xaxis\":{\"backgroundcolor\":\"#E5ECF6\",\"gridcolor\":\"white\",\"gridwidth\":2,\"linecolor\":\"white\",\"showbackground\":true,\"ticks\":\"\",\"zerolinecolor\":\"white\"},\"yaxis\":{\"backgroundcolor\":\"#E5ECF6\",\"gridcolor\":\"white\",\"gridwidth\":2,\"linecolor\":\"white\",\"showbackground\":true,\"ticks\":\"\",\"zerolinecolor\":\"white\"},\"zaxis\":{\"backgroundcolor\":\"#E5ECF6\",\"gridcolor\":\"white\",\"gridwidth\":2,\"linecolor\":\"white\",\"showbackground\":true,\"ticks\":\"\",\"zerolinecolor\":\"white\"}},\"shapedefaults\":{\"line\":{\"color\":\"#2a3f5f\"}},\"ternary\":{\"aaxis\":{\"gridcolor\":\"white\",\"linecolor\":\"white\",\"ticks\":\"\"},\"baxis\":{\"gridcolor\":\"white\",\"linecolor\":\"white\",\"ticks\":\"\"},\"bgcolor\":\"#E5ECF6\",\"caxis\":{\"gridcolor\":\"white\",\"linecolor\":\"white\",\"ticks\":\"\"}},\"title\":{\"x\":0.05},\"xaxis\":{\"automargin\":true,\"gridcolor\":\"white\",\"linecolor\":\"white\",\"ticks\":\"\",\"title\":{\"standoff\":15},\"zerolinecolor\":\"white\",\"zerolinewidth\":2},\"yaxis\":{\"automargin\":true,\"gridcolor\":\"white\",\"linecolor\":\"white\",\"ticks\":\"\",\"title\":{\"standoff\":15},\"zerolinecolor\":\"white\",\"zerolinewidth\":2}}},\"title\":{\"font\":{\"color\":\"#4D5663\"}},\"xaxis\":{\"gridcolor\":\"#E1E5ED\",\"showgrid\":true,\"tickfont\":{\"color\":\"#4D5663\"},\"title\":{\"font\":{\"color\":\"#4D5663\"},\"text\":\"\"},\"zerolinecolor\":\"#E1E5ED\"},\"yaxis\":{\"gridcolor\":\"#E1E5ED\",\"showgrid\":true,\"tickfont\":{\"color\":\"#4D5663\"},\"title\":{\"font\":{\"color\":\"#4D5663\"},\"text\":\"\"},\"zerolinecolor\":\"#E1E5ED\"}},                        {\"showLink\": true, \"linkText\": \"Export to plot.ly\", \"plotlyServerURL\": \"https://plot.ly\", \"responsive\": true}                    ).then(function(){\n",
       "                            \n",
       "var gd = document.getElementById('59577490-3d5b-4d4c-be3d-38b72226e735');\n",
       "var x = new MutationObserver(function (mutations, observer) {{\n",
       "        var display = window.getComputedStyle(gd).display;\n",
       "        if (!display || display === 'none') {{\n",
       "            console.log([gd, 'removed!']);\n",
       "            Plotly.purge(gd);\n",
       "            observer.disconnect();\n",
       "        }}\n",
       "}});\n",
       "\n",
       "// Listen for the removal of the full notebook cells\n",
       "var notebookContainer = gd.closest('#notebook-container');\n",
       "if (notebookContainer) {{\n",
       "    x.observe(notebookContainer, {childList: true});\n",
       "}}\n",
       "\n",
       "// Listen for the clearing of the current output cell\n",
       "var outputEl = gd.closest('.output');\n",
       "if (outputEl) {{\n",
       "    x.observe(outputEl, {childList: true});\n",
       "}}\n",
       "\n",
       "                        })                };                });            </script>        </div>"
      ]
     },
     "metadata": {},
     "output_type": "display_data"
    }
   ],
   "source": [
    "df3 = pd.DataFrame({'x':[1,2,3,4,5],'y':[10,20,30,20,10],'z':[5,4,3,2,1]})\n",
    "df3.iplot(kind='surface',colorscale='rdylbu')"
   ]
  },
  {
   "cell_type": "markdown",
   "metadata": {},
   "source": [
    "## Spread"
   ]
  },
  {
   "cell_type": "code",
   "execution_count": 17,
   "metadata": {},
   "outputs": [
    {
     "name": "stderr",
     "output_type": "stream",
     "text": [
      "C:\\Users\\Admin\\anaconda3\\lib\\site-packages\\cufflinks\\plotlytools.py:849: FutureWarning:\n",
      "\n",
      "The pandas.np module is deprecated and will be removed from pandas in a future version. Import numpy directly instead\n",
      "\n",
      "C:\\Users\\Admin\\anaconda3\\lib\\site-packages\\cufflinks\\plotlytools.py:850: FutureWarning:\n",
      "\n",
      "The pandas.np module is deprecated and will be removed from pandas in a future version. Import numpy directly instead\n",
      "\n"
     ]
    },
    {
     "data": {
      "application/vnd.plotly.v1+json": {
       "config": {
        "linkText": "Export to plot.ly",
        "plotlyServerURL": "https://plot.ly",
        "showLink": true
       },
       "data": [
        {
         "line": {
          "color": "rgba(255, 153, 51, 1.0)",
          "dash": "solid",
          "shape": "linear",
          "width": 1.3
         },
         "mode": "lines",
         "name": "A",
         "text": "",
         "type": "scatter",
         "x": [
          0,
          1,
          2,
          3,
          4,
          5,
          6,
          7,
          8,
          9,
          10,
          11,
          12,
          13,
          14,
          15,
          16,
          17,
          18,
          19,
          20,
          21,
          22,
          23,
          24,
          25,
          26,
          27,
          28,
          29,
          30,
          31,
          32,
          33,
          34,
          35,
          36,
          37,
          38,
          39,
          40,
          41,
          42,
          43,
          44,
          45,
          46,
          47,
          48,
          49,
          50,
          51,
          52,
          53,
          54,
          55,
          56,
          57,
          58,
          59,
          60,
          61,
          62,
          63,
          64,
          65,
          66,
          67,
          68,
          69,
          70,
          71,
          72,
          73,
          74,
          75,
          76,
          77,
          78,
          79,
          80,
          81,
          82,
          83,
          84,
          85,
          86,
          87,
          88,
          89,
          90,
          91,
          92,
          93,
          94,
          95,
          96,
          97,
          98,
          99
         ],
         "y": [
          0.18337390211043783,
          0.2577404769175627,
          -0.39940465232467737,
          0.194298848170503,
          0.34196496904498935,
          -0.6377170807139307,
          -1.049758108993871,
          0.49300518799557336,
          0.028811941662308698,
          -1.6269205354091907,
          -0.5202694534605817,
          -0.16098816834008395,
          0.05160848098571894,
          0.5364326233078089,
          0.4378795481417151,
          -0.03756114724023949,
          0.28914666492343494,
          -0.03814971702482578,
          1.1504709154224924,
          -0.7412218639075389,
          0.42086582271660816,
          0.9009691688219829,
          1.0400314771630996,
          -1.372257148733933,
          -0.4355821151470618,
          -0.09938130947803488,
          -0.9491201685059797,
          -0.8600172231155638,
          -0.7362359562302916,
          -0.1430515701566955,
          -0.617813406266883,
          -0.28055737559377186,
          0.46932264288215353,
          0.1514629997731117,
          -0.6583950527318917,
          -0.26662490652025683,
          0.5093904738392812,
          0.12592079431582454,
          1.1508237867549065,
          1.3284069604847262,
          -0.8627769007465207,
          -1.0231645951528927,
          -1.2276778357296108,
          -1.1730477649540723,
          1.6063794992902511,
          -0.023057504024252704,
          -0.01960344616633247,
          -1.0409575465574499,
          0.5256968428705312,
          0.5633261139142187,
          -1.277429648427179,
          -0.8594207760740425,
          -0.806527698662659,
          -1.3223242506953758,
          1.3971352314374699,
          0.3631614499519548,
          0.19128780513812077,
          0.39550446961128843,
          1.317416404924919,
          0.2756482721294413,
          0.9479537637621035,
          0.26781448001741226,
          1.2863595640654364,
          1.0377301080259809,
          0.18731377850380862,
          0.8097847708703942,
          0.21174695841002827,
          -0.7233239976517987,
          -0.2877696122095113,
          -1.2224779263270227,
          1.2959808963832966,
          1.2980313763074227,
          -0.4516678608167582,
          0.7301014683457027,
          -0.9165040725691428,
          -1.7967471408255278,
          0.09604702398927319,
          -0.8605396305059785,
          -0.972811531987986,
          -0.7769208316082751,
          2.02672405942737,
          -1.2194940629705828,
          -0.6034537463065365,
          -1.3731528380456066,
          0.478397263066975,
          0.3532628705494607,
          1.0128502952860179,
          -0.3372046017404665,
          -0.12940898816063387,
          -1.622834708604428,
          0.6955740306917982,
          0.048620002313087676,
          -1.8922763025622593,
          -2.368987592395905,
          -0.290907389966216,
          -0.19595573626291243,
          0.6964336785010147,
          0.9147274409544851,
          -0.6849847790150455,
          0.17976801555813846
         ]
        },
        {
         "line": {
          "color": "rgba(55, 128, 191, 1.0)",
          "dash": "solid",
          "shape": "linear",
          "width": 1.3
         },
         "mode": "lines",
         "name": "B",
         "text": "",
         "type": "scatter",
         "x": [
          0,
          1,
          2,
          3,
          4,
          5,
          6,
          7,
          8,
          9,
          10,
          11,
          12,
          13,
          14,
          15,
          16,
          17,
          18,
          19,
          20,
          21,
          22,
          23,
          24,
          25,
          26,
          27,
          28,
          29,
          30,
          31,
          32,
          33,
          34,
          35,
          36,
          37,
          38,
          39,
          40,
          41,
          42,
          43,
          44,
          45,
          46,
          47,
          48,
          49,
          50,
          51,
          52,
          53,
          54,
          55,
          56,
          57,
          58,
          59,
          60,
          61,
          62,
          63,
          64,
          65,
          66,
          67,
          68,
          69,
          70,
          71,
          72,
          73,
          74,
          75,
          76,
          77,
          78,
          79,
          80,
          81,
          82,
          83,
          84,
          85,
          86,
          87,
          88,
          89,
          90,
          91,
          92,
          93,
          94,
          95,
          96,
          97,
          98,
          99
         ],
         "y": [
          -2.070372363174357,
          1.9871349625586698,
          0.44711385640110934,
          -0.1362509032529231,
          -0.8847481240368797,
          -0.3005585206574886,
          -0.4577370292878276,
          1.1257225790814913,
          1.6515424424291352,
          -1.1639372746696197,
          -0.4900512762265639,
          -0.9183246527863396,
          -0.5898528388193658,
          -1.9828423762964589,
          1.9251031300815986,
          -0.8516206949989477,
          -0.15077106194697446,
          0.39095318163453546,
          -0.04605799383381456,
          0.13106206252913166,
          -0.4492203115833142,
          0.8614098734884785,
          -0.30181904964322304,
          1.4124315275404664,
          1.2928582774051667,
          0.08553156946078898,
          -1.5202409642832018,
          -1.2972509965846963,
          -0.2554031732774126,
          1.1700927343793435,
          -1.4436089799837097,
          1.772822591539189,
          1.0437749024442213,
          -0.8655170969412663,
          0.07470374986811237,
          0.19696979466097256,
          0.71748915045575,
          0.5493037055770226,
          0.792387270172692,
          0.4388182367525948,
          0.8343802553032624,
          -0.27411066445450055,
          -0.759132779704796,
          -0.5510511505395224,
          0.7010550007848114,
          0.7436324676228472,
          -0.8167506411613927,
          -0.8309399064145929,
          -0.48367397638508636,
          0.40109935333422264,
          0.14717905622379798,
          0.4035364305538702,
          -1.4376361064073133,
          0.884504560227829,
          0.0756105825725042,
          1.3027235848809706,
          -0.410445635139286,
          1.664269298035139,
          0.8046955068796645,
          -1.608477203721027,
          0.11905357356672844,
          -0.8362872444628309,
          -1.0394082418010007,
          1.4718633565264032,
          0.3949671088451408,
          0.21605324037427268,
          -0.26067877739383255,
          0.20558921783396097,
          0.43336888717474037,
          -0.1724582369969408,
          -0.8898077313946257,
          -0.7966001330099107,
          -1.9096285209970933,
          -0.6234503963821106,
          -0.7492278502366498,
          -0.3937069363627399,
          0.4764640049465655,
          -0.0317529356831129,
          -1.2467218127574538,
          1.4515849281312752,
          1.0601562766774255,
          0.011700845601488541,
          -0.7004541496592039,
          0.2487099113720825,
          1.3953319784837215,
          0.8170929436416009,
          -1.093574826202585,
          -1.5190998335113597,
          1.565582460077773,
          0.6003738353358095,
          0.48003413782184207,
          -0.8768051319567273,
          1.1653769552823892,
          -0.09369210118747875,
          -1.236308547878392,
          1.069663761619053,
          -0.5090666413472539,
          0.5484467083147206,
          1.4116269424540293,
          1.4288779803279275
         ]
        },
        {
         "connectgaps": false,
         "fill": "tozeroy",
         "line": {
          "color": "green",
          "dash": "solid",
          "shape": "linear",
          "width": 0.5
         },
         "mode": "lines",
         "name": "Spread",
         "showlegend": false,
         "type": "scatter",
         "x": [
          0,
          1,
          2,
          3,
          4,
          5,
          6,
          7,
          8,
          9,
          10,
          11,
          12,
          13,
          14,
          15,
          16,
          17,
          18,
          19,
          20,
          21,
          22,
          23,
          24,
          25,
          26,
          27,
          28,
          29,
          30,
          31,
          32,
          33,
          34,
          35,
          36,
          37,
          38,
          39,
          40,
          41,
          42,
          43,
          44,
          45,
          46,
          47,
          48,
          49,
          50,
          51,
          52,
          53,
          54,
          55,
          56,
          57,
          58,
          59,
          60,
          61,
          62,
          63,
          64,
          65,
          66,
          67,
          68,
          69,
          70,
          71,
          72,
          73,
          74,
          75,
          76,
          77,
          78,
          79,
          80,
          81,
          82,
          83,
          84,
          85,
          86,
          87,
          88,
          89,
          90,
          91,
          92,
          93,
          94,
          95,
          96,
          97,
          98,
          99
         ],
         "xaxis": "x2",
         "y": [
          2.253746265284795,
          "",
          "",
          0.33054975142342613,
          1.226713093081869,
          "",
          "",
          "",
          "",
          "",
          "",
          0.7573364844462556,
          0.6414613198050847,
          2.519274999604268,
          "",
          0.8140595477587081,
          0.4399177268704094,
          "",
          1.196528909256307,
          "",
          0.8700861342999224,
          0.03955929533350433,
          1.3418505268063226,
          "",
          "",
          "",
          0.5711207957772221,
          0.4372337734691325,
          "",
          "",
          0.8257955737168268,
          "",
          "",
          1.016980096714378,
          "",
          "",
          "",
          "",
          0.35843651658221454,
          0.8895887237321314,
          "",
          "",
          "",
          "",
          0.9053244985054397,
          "",
          0.7971471949950603,
          "",
          1.0093708192556177,
          0.16222676057999608,
          "",
          "",
          0.6311084077446543,
          "",
          1.3215246488649657,
          "",
          0.6017334402774068,
          "",
          0.5127208980452546,
          1.8841254758504684,
          0.8289001901953751,
          1.1041017244802431,
          2.325767805866437,
          "",
          "",
          0.5937315304961216,
          0.4724257358038608,
          "",
          "",
          "",
          2.185788627777922,
          2.0946315093173333,
          1.4579606601803352,
          1.3535518647278133,
          "",
          "",
          "",
          "",
          0.2739102807694678,
          "",
          0.9665677827499444,
          "",
          0.09700040335266746,
          "",
          "",
          "",
          2.106425121488603,
          1.181895231770893,
          "",
          "",
          0.21553989286995617,
          0.925425134269815,
          "",
          "",
          0.9454011579121759,
          "",
          1.2055003198482686,
          0.36628073263976446,
          "",
          ""
         ],
         "yaxis": "y2"
        },
        {
         "connectgaps": false,
         "fill": "tozeroy",
         "line": {
          "color": "red",
          "dash": "solid",
          "shape": "linear",
          "width": 0.5
         },
         "mode": "lines",
         "name": "Spread",
         "showlegend": false,
         "type": "scatter",
         "x": [
          0,
          1,
          2,
          3,
          4,
          5,
          6,
          7,
          8,
          9,
          10,
          11,
          12,
          13,
          14,
          15,
          16,
          17,
          18,
          19,
          20,
          21,
          22,
          23,
          24,
          25,
          26,
          27,
          28,
          29,
          30,
          31,
          32,
          33,
          34,
          35,
          36,
          37,
          38,
          39,
          40,
          41,
          42,
          43,
          44,
          45,
          46,
          47,
          48,
          49,
          50,
          51,
          52,
          53,
          54,
          55,
          56,
          57,
          58,
          59,
          60,
          61,
          62,
          63,
          64,
          65,
          66,
          67,
          68,
          69,
          70,
          71,
          72,
          73,
          74,
          75,
          76,
          77,
          78,
          79,
          80,
          81,
          82,
          83,
          84,
          85,
          86,
          87,
          88,
          89,
          90,
          91,
          92,
          93,
          94,
          95,
          96,
          97,
          98,
          99
         ],
         "xaxis": "x2",
         "y": [
          "",
          -1.7293944856411072,
          -0.8465185087257867,
          "",
          "",
          -0.3371585600564421,
          -0.5920210797060435,
          -0.632717391085918,
          -1.6227305007668265,
          -0.46298326073957097,
          -0.030218177234017818,
          "",
          "",
          "",
          -1.4872235819398836,
          "",
          "",
          -0.42910289865936124,
          "",
          -0.8722839264366705,
          "",
          "",
          "",
          -2.784688676274399,
          -1.7284403925522285,
          -0.18491287893882385,
          "",
          "",
          -0.480832782952879,
          -1.313144304536039,
          "",
          -2.053379967132961,
          -0.5744522595620678,
          "",
          -0.733098802600004,
          -0.46359470118122936,
          -0.20809867661646886,
          -0.42338291126119804,
          "",
          "",
          -1.6971571560497831,
          -0.7490539306983921,
          -0.4685450560248148,
          -0.6219966144145499,
          "",
          -0.7666899716470998,
          "",
          -0.21001764014285695,
          "",
          "",
          -1.424608704650977,
          -1.2629572066279127,
          "",
          -2.206828810923205,
          "",
          -0.9395621349290157,
          "",
          -1.2687648284238506,
          "",
          "",
          "",
          "",
          "",
          -0.43413324850042234,
          -0.20765333034133218,
          "",
          "",
          -0.9289132154857597,
          -0.7211384993842517,
          -1.050019689330082,
          "",
          "",
          "",
          "",
          -0.16727622233249295,
          -1.4030402044627879,
          -0.3804169809572923,
          -0.8287866948228656,
          "",
          -2.22850575973955,
          "",
          -1.2311949085720713,
          "",
          -1.6218627494176892,
          -0.9169347154167464,
          -0.4638300730921402,
          "",
          "",
          -1.694991448238407,
          -2.2232085439402374,
          "",
          "",
          -3.0576532578446485,
          -2.2752954912084262,
          "",
          -1.2656194978819655,
          "",
          "",
          -2.096611721469075,
          -1.249109964769789
         ],
         "yaxis": "y2"
        }
       ],
       "layout": {
        "hovermode": "x",
        "legend": {
         "bgcolor": "#F5F6F9",
         "font": {
          "color": "#4D5663"
         }
        },
        "paper_bgcolor": "#F5F6F9",
        "plot_bgcolor": "#F5F6F9",
        "template": {
         "data": {
          "bar": [
           {
            "error_x": {
             "color": "#2a3f5f"
            },
            "error_y": {
             "color": "#2a3f5f"
            },
            "marker": {
             "line": {
              "color": "#E5ECF6",
              "width": 0.5
             },
             "pattern": {
              "fillmode": "overlay",
              "size": 10,
              "solidity": 0.2
             }
            },
            "type": "bar"
           }
          ],
          "barpolar": [
           {
            "marker": {
             "line": {
              "color": "#E5ECF6",
              "width": 0.5
             },
             "pattern": {
              "fillmode": "overlay",
              "size": 10,
              "solidity": 0.2
             }
            },
            "type": "barpolar"
           }
          ],
          "carpet": [
           {
            "aaxis": {
             "endlinecolor": "#2a3f5f",
             "gridcolor": "white",
             "linecolor": "white",
             "minorgridcolor": "white",
             "startlinecolor": "#2a3f5f"
            },
            "baxis": {
             "endlinecolor": "#2a3f5f",
             "gridcolor": "white",
             "linecolor": "white",
             "minorgridcolor": "white",
             "startlinecolor": "#2a3f5f"
            },
            "type": "carpet"
           }
          ],
          "choropleth": [
           {
            "colorbar": {
             "outlinewidth": 0,
             "ticks": ""
            },
            "type": "choropleth"
           }
          ],
          "contour": [
           {
            "colorbar": {
             "outlinewidth": 0,
             "ticks": ""
            },
            "colorscale": [
             [
              0,
              "#0d0887"
             ],
             [
              0.1111111111111111,
              "#46039f"
             ],
             [
              0.2222222222222222,
              "#7201a8"
             ],
             [
              0.3333333333333333,
              "#9c179e"
             ],
             [
              0.4444444444444444,
              "#bd3786"
             ],
             [
              0.5555555555555556,
              "#d8576b"
             ],
             [
              0.6666666666666666,
              "#ed7953"
             ],
             [
              0.7777777777777778,
              "#fb9f3a"
             ],
             [
              0.8888888888888888,
              "#fdca26"
             ],
             [
              1,
              "#f0f921"
             ]
            ],
            "type": "contour"
           }
          ],
          "contourcarpet": [
           {
            "colorbar": {
             "outlinewidth": 0,
             "ticks": ""
            },
            "type": "contourcarpet"
           }
          ],
          "heatmap": [
           {
            "colorbar": {
             "outlinewidth": 0,
             "ticks": ""
            },
            "colorscale": [
             [
              0,
              "#0d0887"
             ],
             [
              0.1111111111111111,
              "#46039f"
             ],
             [
              0.2222222222222222,
              "#7201a8"
             ],
             [
              0.3333333333333333,
              "#9c179e"
             ],
             [
              0.4444444444444444,
              "#bd3786"
             ],
             [
              0.5555555555555556,
              "#d8576b"
             ],
             [
              0.6666666666666666,
              "#ed7953"
             ],
             [
              0.7777777777777778,
              "#fb9f3a"
             ],
             [
              0.8888888888888888,
              "#fdca26"
             ],
             [
              1,
              "#f0f921"
             ]
            ],
            "type": "heatmap"
           }
          ],
          "heatmapgl": [
           {
            "colorbar": {
             "outlinewidth": 0,
             "ticks": ""
            },
            "colorscale": [
             [
              0,
              "#0d0887"
             ],
             [
              0.1111111111111111,
              "#46039f"
             ],
             [
              0.2222222222222222,
              "#7201a8"
             ],
             [
              0.3333333333333333,
              "#9c179e"
             ],
             [
              0.4444444444444444,
              "#bd3786"
             ],
             [
              0.5555555555555556,
              "#d8576b"
             ],
             [
              0.6666666666666666,
              "#ed7953"
             ],
             [
              0.7777777777777778,
              "#fb9f3a"
             ],
             [
              0.8888888888888888,
              "#fdca26"
             ],
             [
              1,
              "#f0f921"
             ]
            ],
            "type": "heatmapgl"
           }
          ],
          "histogram": [
           {
            "marker": {
             "pattern": {
              "fillmode": "overlay",
              "size": 10,
              "solidity": 0.2
             }
            },
            "type": "histogram"
           }
          ],
          "histogram2d": [
           {
            "colorbar": {
             "outlinewidth": 0,
             "ticks": ""
            },
            "colorscale": [
             [
              0,
              "#0d0887"
             ],
             [
              0.1111111111111111,
              "#46039f"
             ],
             [
              0.2222222222222222,
              "#7201a8"
             ],
             [
              0.3333333333333333,
              "#9c179e"
             ],
             [
              0.4444444444444444,
              "#bd3786"
             ],
             [
              0.5555555555555556,
              "#d8576b"
             ],
             [
              0.6666666666666666,
              "#ed7953"
             ],
             [
              0.7777777777777778,
              "#fb9f3a"
             ],
             [
              0.8888888888888888,
              "#fdca26"
             ],
             [
              1,
              "#f0f921"
             ]
            ],
            "type": "histogram2d"
           }
          ],
          "histogram2dcontour": [
           {
            "colorbar": {
             "outlinewidth": 0,
             "ticks": ""
            },
            "colorscale": [
             [
              0,
              "#0d0887"
             ],
             [
              0.1111111111111111,
              "#46039f"
             ],
             [
              0.2222222222222222,
              "#7201a8"
             ],
             [
              0.3333333333333333,
              "#9c179e"
             ],
             [
              0.4444444444444444,
              "#bd3786"
             ],
             [
              0.5555555555555556,
              "#d8576b"
             ],
             [
              0.6666666666666666,
              "#ed7953"
             ],
             [
              0.7777777777777778,
              "#fb9f3a"
             ],
             [
              0.8888888888888888,
              "#fdca26"
             ],
             [
              1,
              "#f0f921"
             ]
            ],
            "type": "histogram2dcontour"
           }
          ],
          "mesh3d": [
           {
            "colorbar": {
             "outlinewidth": 0,
             "ticks": ""
            },
            "type": "mesh3d"
           }
          ],
          "parcoords": [
           {
            "line": {
             "colorbar": {
              "outlinewidth": 0,
              "ticks": ""
             }
            },
            "type": "parcoords"
           }
          ],
          "pie": [
           {
            "automargin": true,
            "type": "pie"
           }
          ],
          "scatter": [
           {
            "marker": {
             "colorbar": {
              "outlinewidth": 0,
              "ticks": ""
             }
            },
            "type": "scatter"
           }
          ],
          "scatter3d": [
           {
            "line": {
             "colorbar": {
              "outlinewidth": 0,
              "ticks": ""
             }
            },
            "marker": {
             "colorbar": {
              "outlinewidth": 0,
              "ticks": ""
             }
            },
            "type": "scatter3d"
           }
          ],
          "scattercarpet": [
           {
            "marker": {
             "colorbar": {
              "outlinewidth": 0,
              "ticks": ""
             }
            },
            "type": "scattercarpet"
           }
          ],
          "scattergeo": [
           {
            "marker": {
             "colorbar": {
              "outlinewidth": 0,
              "ticks": ""
             }
            },
            "type": "scattergeo"
           }
          ],
          "scattergl": [
           {
            "marker": {
             "colorbar": {
              "outlinewidth": 0,
              "ticks": ""
             }
            },
            "type": "scattergl"
           }
          ],
          "scattermapbox": [
           {
            "marker": {
             "colorbar": {
              "outlinewidth": 0,
              "ticks": ""
             }
            },
            "type": "scattermapbox"
           }
          ],
          "scatterpolar": [
           {
            "marker": {
             "colorbar": {
              "outlinewidth": 0,
              "ticks": ""
             }
            },
            "type": "scatterpolar"
           }
          ],
          "scatterpolargl": [
           {
            "marker": {
             "colorbar": {
              "outlinewidth": 0,
              "ticks": ""
             }
            },
            "type": "scatterpolargl"
           }
          ],
          "scatterternary": [
           {
            "marker": {
             "colorbar": {
              "outlinewidth": 0,
              "ticks": ""
             }
            },
            "type": "scatterternary"
           }
          ],
          "surface": [
           {
            "colorbar": {
             "outlinewidth": 0,
             "ticks": ""
            },
            "colorscale": [
             [
              0,
              "#0d0887"
             ],
             [
              0.1111111111111111,
              "#46039f"
             ],
             [
              0.2222222222222222,
              "#7201a8"
             ],
             [
              0.3333333333333333,
              "#9c179e"
             ],
             [
              0.4444444444444444,
              "#bd3786"
             ],
             [
              0.5555555555555556,
              "#d8576b"
             ],
             [
              0.6666666666666666,
              "#ed7953"
             ],
             [
              0.7777777777777778,
              "#fb9f3a"
             ],
             [
              0.8888888888888888,
              "#fdca26"
             ],
             [
              1,
              "#f0f921"
             ]
            ],
            "type": "surface"
           }
          ],
          "table": [
           {
            "cells": {
             "fill": {
              "color": "#EBF0F8"
             },
             "line": {
              "color": "white"
             }
            },
            "header": {
             "fill": {
              "color": "#C8D4E3"
             },
             "line": {
              "color": "white"
             }
            },
            "type": "table"
           }
          ]
         },
         "layout": {
          "annotationdefaults": {
           "arrowcolor": "#2a3f5f",
           "arrowhead": 0,
           "arrowwidth": 1
          },
          "autotypenumbers": "strict",
          "coloraxis": {
           "colorbar": {
            "outlinewidth": 0,
            "ticks": ""
           }
          },
          "colorscale": {
           "diverging": [
            [
             0,
             "#8e0152"
            ],
            [
             0.1,
             "#c51b7d"
            ],
            [
             0.2,
             "#de77ae"
            ],
            [
             0.3,
             "#f1b6da"
            ],
            [
             0.4,
             "#fde0ef"
            ],
            [
             0.5,
             "#f7f7f7"
            ],
            [
             0.6,
             "#e6f5d0"
            ],
            [
             0.7,
             "#b8e186"
            ],
            [
             0.8,
             "#7fbc41"
            ],
            [
             0.9,
             "#4d9221"
            ],
            [
             1,
             "#276419"
            ]
           ],
           "sequential": [
            [
             0,
             "#0d0887"
            ],
            [
             0.1111111111111111,
             "#46039f"
            ],
            [
             0.2222222222222222,
             "#7201a8"
            ],
            [
             0.3333333333333333,
             "#9c179e"
            ],
            [
             0.4444444444444444,
             "#bd3786"
            ],
            [
             0.5555555555555556,
             "#d8576b"
            ],
            [
             0.6666666666666666,
             "#ed7953"
            ],
            [
             0.7777777777777778,
             "#fb9f3a"
            ],
            [
             0.8888888888888888,
             "#fdca26"
            ],
            [
             1,
             "#f0f921"
            ]
           ],
           "sequentialminus": [
            [
             0,
             "#0d0887"
            ],
            [
             0.1111111111111111,
             "#46039f"
            ],
            [
             0.2222222222222222,
             "#7201a8"
            ],
            [
             0.3333333333333333,
             "#9c179e"
            ],
            [
             0.4444444444444444,
             "#bd3786"
            ],
            [
             0.5555555555555556,
             "#d8576b"
            ],
            [
             0.6666666666666666,
             "#ed7953"
            ],
            [
             0.7777777777777778,
             "#fb9f3a"
            ],
            [
             0.8888888888888888,
             "#fdca26"
            ],
            [
             1,
             "#f0f921"
            ]
           ]
          },
          "colorway": [
           "#636efa",
           "#EF553B",
           "#00cc96",
           "#ab63fa",
           "#FFA15A",
           "#19d3f3",
           "#FF6692",
           "#B6E880",
           "#FF97FF",
           "#FECB52"
          ],
          "font": {
           "color": "#2a3f5f"
          },
          "geo": {
           "bgcolor": "white",
           "lakecolor": "white",
           "landcolor": "#E5ECF6",
           "showlakes": true,
           "showland": true,
           "subunitcolor": "white"
          },
          "hoverlabel": {
           "align": "left"
          },
          "hovermode": "closest",
          "mapbox": {
           "style": "light"
          },
          "paper_bgcolor": "white",
          "plot_bgcolor": "#E5ECF6",
          "polar": {
           "angularaxis": {
            "gridcolor": "white",
            "linecolor": "white",
            "ticks": ""
           },
           "bgcolor": "#E5ECF6",
           "radialaxis": {
            "gridcolor": "white",
            "linecolor": "white",
            "ticks": ""
           }
          },
          "scene": {
           "xaxis": {
            "backgroundcolor": "#E5ECF6",
            "gridcolor": "white",
            "gridwidth": 2,
            "linecolor": "white",
            "showbackground": true,
            "ticks": "",
            "zerolinecolor": "white"
           },
           "yaxis": {
            "backgroundcolor": "#E5ECF6",
            "gridcolor": "white",
            "gridwidth": 2,
            "linecolor": "white",
            "showbackground": true,
            "ticks": "",
            "zerolinecolor": "white"
           },
           "zaxis": {
            "backgroundcolor": "#E5ECF6",
            "gridcolor": "white",
            "gridwidth": 2,
            "linecolor": "white",
            "showbackground": true,
            "ticks": "",
            "zerolinecolor": "white"
           }
          },
          "shapedefaults": {
           "line": {
            "color": "#2a3f5f"
           }
          },
          "ternary": {
           "aaxis": {
            "gridcolor": "white",
            "linecolor": "white",
            "ticks": ""
           },
           "baxis": {
            "gridcolor": "white",
            "linecolor": "white",
            "ticks": ""
           },
           "bgcolor": "#E5ECF6",
           "caxis": {
            "gridcolor": "white",
            "linecolor": "white",
            "ticks": ""
           }
          },
          "title": {
           "x": 0.05
          },
          "xaxis": {
           "automargin": true,
           "gridcolor": "white",
           "linecolor": "white",
           "ticks": "",
           "title": {
            "standoff": 15
           },
           "zerolinecolor": "white",
           "zerolinewidth": 2
          },
          "yaxis": {
           "automargin": true,
           "gridcolor": "white",
           "linecolor": "white",
           "ticks": "",
           "title": {
            "standoff": 15
           },
           "zerolinecolor": "white",
           "zerolinewidth": 2
          }
         }
        },
        "title": {
         "font": {
          "color": "#4D5663"
         }
        },
        "xaxis": {
         "gridcolor": "#E1E5ED",
         "showgrid": true,
         "tickfont": {
          "color": "#4D5663"
         },
         "title": {
          "font": {
           "color": "#4D5663"
          },
          "text": ""
         },
         "zerolinecolor": "#E1E5ED"
        },
        "xaxis2": {
         "anchor": "y2",
         "gridcolor": "#E1E5ED",
         "showgrid": true,
         "showticklabels": false,
         "tickfont": {
          "color": "#4D5663"
         },
         "title": {
          "font": {
           "color": "#4D5663"
          },
          "text": ""
         },
         "zerolinecolor": "#E1E5ED"
        },
        "yaxis": {
         "domain": [
          0.3,
          1
         ],
         "gridcolor": "#E1E5ED",
         "showgrid": true,
         "tickfont": {
          "color": "#4D5663"
         },
         "title": {
          "font": {
           "color": "#4D5663"
          },
          "text": ""
         },
         "zerolinecolor": "#E1E5ED"
        },
        "yaxis2": {
         "domain": [
          0,
          0.25
         ],
         "gridcolor": "#E1E5ED",
         "showgrid": true,
         "tickfont": {
          "color": "#4D5663"
         },
         "title": {
          "font": {
           "color": "#4D5663"
          },
          "text": "Spread"
         },
         "zerolinecolor": "#E1E5ED"
        }
       }
      },
      "text/html": [
       "<div>                            <div id=\"3ea3cdb4-3361-4ec4-9d88-501f393a5359\" class=\"plotly-graph-div\" style=\"height:525px; width:100%;\"></div>            <script type=\"text/javascript\">                require([\"plotly\"], function(Plotly) {                    window.PLOTLYENV=window.PLOTLYENV || {};\n",
       "                    window.PLOTLYENV.BASE_URL='https://plot.ly';                                    if (document.getElementById(\"3ea3cdb4-3361-4ec4-9d88-501f393a5359\")) {                    Plotly.newPlot(                        \"3ea3cdb4-3361-4ec4-9d88-501f393a5359\",                        [{\"line\":{\"color\":\"rgba(255, 153, 51, 1.0)\",\"dash\":\"solid\",\"shape\":\"linear\",\"width\":1.3},\"mode\":\"lines\",\"name\":\"A\",\"text\":\"\",\"type\":\"scatter\",\"x\":[0,1,2,3,4,5,6,7,8,9,10,11,12,13,14,15,16,17,18,19,20,21,22,23,24,25,26,27,28,29,30,31,32,33,34,35,36,37,38,39,40,41,42,43,44,45,46,47,48,49,50,51,52,53,54,55,56,57,58,59,60,61,62,63,64,65,66,67,68,69,70,71,72,73,74,75,76,77,78,79,80,81,82,83,84,85,86,87,88,89,90,91,92,93,94,95,96,97,98,99],\"y\":[0.18337390211043783,0.2577404769175627,-0.39940465232467737,0.194298848170503,0.34196496904498935,-0.6377170807139307,-1.049758108993871,0.49300518799557336,0.028811941662308698,-1.6269205354091907,-0.5202694534605817,-0.16098816834008395,0.05160848098571894,0.5364326233078089,0.4378795481417151,-0.03756114724023949,0.28914666492343494,-0.03814971702482578,1.1504709154224924,-0.7412218639075389,0.42086582271660816,0.9009691688219829,1.0400314771630996,-1.372257148733933,-0.4355821151470618,-0.09938130947803488,-0.9491201685059797,-0.8600172231155638,-0.7362359562302916,-0.1430515701566955,-0.617813406266883,-0.28055737559377186,0.46932264288215353,0.1514629997731117,-0.6583950527318917,-0.26662490652025683,0.5093904738392812,0.12592079431582454,1.1508237867549065,1.3284069604847262,-0.8627769007465207,-1.0231645951528927,-1.2276778357296108,-1.1730477649540723,1.6063794992902511,-0.023057504024252704,-0.01960344616633247,-1.0409575465574499,0.5256968428705312,0.5633261139142187,-1.277429648427179,-0.8594207760740425,-0.806527698662659,-1.3223242506953758,1.3971352314374699,0.3631614499519548,0.19128780513812077,0.39550446961128843,1.317416404924919,0.2756482721294413,0.9479537637621035,0.26781448001741226,1.2863595640654364,1.0377301080259809,0.18731377850380862,0.8097847708703942,0.21174695841002827,-0.7233239976517987,-0.2877696122095113,-1.2224779263270227,1.2959808963832966,1.2980313763074227,-0.4516678608167582,0.7301014683457027,-0.9165040725691428,-1.7967471408255278,0.09604702398927319,-0.8605396305059785,-0.972811531987986,-0.7769208316082751,2.02672405942737,-1.2194940629705828,-0.6034537463065365,-1.3731528380456066,0.478397263066975,0.3532628705494607,1.0128502952860179,-0.3372046017404665,-0.12940898816063387,-1.622834708604428,0.6955740306917982,0.048620002313087676,-1.8922763025622593,-2.368987592395905,-0.290907389966216,-0.19595573626291243,0.6964336785010147,0.9147274409544851,-0.6849847790150455,0.17976801555813846]},{\"line\":{\"color\":\"rgba(55, 128, 191, 1.0)\",\"dash\":\"solid\",\"shape\":\"linear\",\"width\":1.3},\"mode\":\"lines\",\"name\":\"B\",\"text\":\"\",\"type\":\"scatter\",\"x\":[0,1,2,3,4,5,6,7,8,9,10,11,12,13,14,15,16,17,18,19,20,21,22,23,24,25,26,27,28,29,30,31,32,33,34,35,36,37,38,39,40,41,42,43,44,45,46,47,48,49,50,51,52,53,54,55,56,57,58,59,60,61,62,63,64,65,66,67,68,69,70,71,72,73,74,75,76,77,78,79,80,81,82,83,84,85,86,87,88,89,90,91,92,93,94,95,96,97,98,99],\"y\":[-2.070372363174357,1.9871349625586698,0.44711385640110934,-0.1362509032529231,-0.8847481240368797,-0.3005585206574886,-0.4577370292878276,1.1257225790814913,1.6515424424291352,-1.1639372746696197,-0.4900512762265639,-0.9183246527863396,-0.5898528388193658,-1.9828423762964589,1.9251031300815986,-0.8516206949989477,-0.15077106194697446,0.39095318163453546,-0.04605799383381456,0.13106206252913166,-0.4492203115833142,0.8614098734884785,-0.30181904964322304,1.4124315275404664,1.2928582774051667,0.08553156946078898,-1.5202409642832018,-1.2972509965846963,-0.2554031732774126,1.1700927343793435,-1.4436089799837097,1.772822591539189,1.0437749024442213,-0.8655170969412663,0.07470374986811237,0.19696979466097256,0.71748915045575,0.5493037055770226,0.792387270172692,0.4388182367525948,0.8343802553032624,-0.27411066445450055,-0.759132779704796,-0.5510511505395224,0.7010550007848114,0.7436324676228472,-0.8167506411613927,-0.8309399064145929,-0.48367397638508636,0.40109935333422264,0.14717905622379798,0.4035364305538702,-1.4376361064073133,0.884504560227829,0.0756105825725042,1.3027235848809706,-0.410445635139286,1.664269298035139,0.8046955068796645,-1.608477203721027,0.11905357356672844,-0.8362872444628309,-1.0394082418010007,1.4718633565264032,0.3949671088451408,0.21605324037427268,-0.26067877739383255,0.20558921783396097,0.43336888717474037,-0.1724582369969408,-0.8898077313946257,-0.7966001330099107,-1.9096285209970933,-0.6234503963821106,-0.7492278502366498,-0.3937069363627399,0.4764640049465655,-0.0317529356831129,-1.2467218127574538,1.4515849281312752,1.0601562766774255,0.011700845601488541,-0.7004541496592039,0.2487099113720825,1.3953319784837215,0.8170929436416009,-1.093574826202585,-1.5190998335113597,1.565582460077773,0.6003738353358095,0.48003413782184207,-0.8768051319567273,1.1653769552823892,-0.09369210118747875,-1.236308547878392,1.069663761619053,-0.5090666413472539,0.5484467083147206,1.4116269424540293,1.4288779803279275]},{\"connectgaps\":false,\"fill\":\"tozeroy\",\"line\":{\"color\":\"green\",\"dash\":\"solid\",\"shape\":\"linear\",\"width\":0.5},\"mode\":\"lines\",\"name\":\"Spread\",\"showlegend\":false,\"type\":\"scatter\",\"x\":[0,1,2,3,4,5,6,7,8,9,10,11,12,13,14,15,16,17,18,19,20,21,22,23,24,25,26,27,28,29,30,31,32,33,34,35,36,37,38,39,40,41,42,43,44,45,46,47,48,49,50,51,52,53,54,55,56,57,58,59,60,61,62,63,64,65,66,67,68,69,70,71,72,73,74,75,76,77,78,79,80,81,82,83,84,85,86,87,88,89,90,91,92,93,94,95,96,97,98,99],\"xaxis\":\"x2\",\"y\":[2.253746265284795,\"\",\"\",0.33054975142342613,1.226713093081869,\"\",\"\",\"\",\"\",\"\",\"\",0.7573364844462556,0.6414613198050847,2.519274999604268,\"\",0.8140595477587081,0.4399177268704094,\"\",1.196528909256307,\"\",0.8700861342999224,0.03955929533350433,1.3418505268063226,\"\",\"\",\"\",0.5711207957772221,0.4372337734691325,\"\",\"\",0.8257955737168268,\"\",\"\",1.016980096714378,\"\",\"\",\"\",\"\",0.35843651658221454,0.8895887237321314,\"\",\"\",\"\",\"\",0.9053244985054397,\"\",0.7971471949950603,\"\",1.0093708192556177,0.16222676057999608,\"\",\"\",0.6311084077446543,\"\",1.3215246488649657,\"\",0.6017334402774068,\"\",0.5127208980452546,1.8841254758504684,0.8289001901953751,1.1041017244802431,2.325767805866437,\"\",\"\",0.5937315304961216,0.4724257358038608,\"\",\"\",\"\",2.185788627777922,2.0946315093173333,1.4579606601803352,1.3535518647278133,\"\",\"\",\"\",\"\",0.2739102807694678,\"\",0.9665677827499444,\"\",0.09700040335266746,\"\",\"\",\"\",2.106425121488603,1.181895231770893,\"\",\"\",0.21553989286995617,0.925425134269815,\"\",\"\",0.9454011579121759,\"\",1.2055003198482686,0.36628073263976446,\"\",\"\"],\"yaxis\":\"y2\"},{\"connectgaps\":false,\"fill\":\"tozeroy\",\"line\":{\"color\":\"red\",\"dash\":\"solid\",\"shape\":\"linear\",\"width\":0.5},\"mode\":\"lines\",\"name\":\"Spread\",\"showlegend\":false,\"type\":\"scatter\",\"x\":[0,1,2,3,4,5,6,7,8,9,10,11,12,13,14,15,16,17,18,19,20,21,22,23,24,25,26,27,28,29,30,31,32,33,34,35,36,37,38,39,40,41,42,43,44,45,46,47,48,49,50,51,52,53,54,55,56,57,58,59,60,61,62,63,64,65,66,67,68,69,70,71,72,73,74,75,76,77,78,79,80,81,82,83,84,85,86,87,88,89,90,91,92,93,94,95,96,97,98,99],\"xaxis\":\"x2\",\"y\":[\"\",-1.7293944856411072,-0.8465185087257867,\"\",\"\",-0.3371585600564421,-0.5920210797060435,-0.632717391085918,-1.6227305007668265,-0.46298326073957097,-0.030218177234017818,\"\",\"\",\"\",-1.4872235819398836,\"\",\"\",-0.42910289865936124,\"\",-0.8722839264366705,\"\",\"\",\"\",-2.784688676274399,-1.7284403925522285,-0.18491287893882385,\"\",\"\",-0.480832782952879,-1.313144304536039,\"\",-2.053379967132961,-0.5744522595620678,\"\",-0.733098802600004,-0.46359470118122936,-0.20809867661646886,-0.42338291126119804,\"\",\"\",-1.6971571560497831,-0.7490539306983921,-0.4685450560248148,-0.6219966144145499,\"\",-0.7666899716470998,\"\",-0.21001764014285695,\"\",\"\",-1.424608704650977,-1.2629572066279127,\"\",-2.206828810923205,\"\",-0.9395621349290157,\"\",-1.2687648284238506,\"\",\"\",\"\",\"\",\"\",-0.43413324850042234,-0.20765333034133218,\"\",\"\",-0.9289132154857597,-0.7211384993842517,-1.050019689330082,\"\",\"\",\"\",\"\",-0.16727622233249295,-1.4030402044627879,-0.3804169809572923,-0.8287866948228656,\"\",-2.22850575973955,\"\",-1.2311949085720713,\"\",-1.6218627494176892,-0.9169347154167464,-0.4638300730921402,\"\",\"\",-1.694991448238407,-2.2232085439402374,\"\",\"\",-3.0576532578446485,-2.2752954912084262,\"\",-1.2656194978819655,\"\",\"\",-2.096611721469075,-1.249109964769789],\"yaxis\":\"y2\"}],                        {\"hovermode\":\"x\",\"legend\":{\"bgcolor\":\"#F5F6F9\",\"font\":{\"color\":\"#4D5663\"}},\"paper_bgcolor\":\"#F5F6F9\",\"plot_bgcolor\":\"#F5F6F9\",\"template\":{\"data\":{\"bar\":[{\"error_x\":{\"color\":\"#2a3f5f\"},\"error_y\":{\"color\":\"#2a3f5f\"},\"marker\":{\"line\":{\"color\":\"#E5ECF6\",\"width\":0.5},\"pattern\":{\"fillmode\":\"overlay\",\"size\":10,\"solidity\":0.2}},\"type\":\"bar\"}],\"barpolar\":[{\"marker\":{\"line\":{\"color\":\"#E5ECF6\",\"width\":0.5},\"pattern\":{\"fillmode\":\"overlay\",\"size\":10,\"solidity\":0.2}},\"type\":\"barpolar\"}],\"carpet\":[{\"aaxis\":{\"endlinecolor\":\"#2a3f5f\",\"gridcolor\":\"white\",\"linecolor\":\"white\",\"minorgridcolor\":\"white\",\"startlinecolor\":\"#2a3f5f\"},\"baxis\":{\"endlinecolor\":\"#2a3f5f\",\"gridcolor\":\"white\",\"linecolor\":\"white\",\"minorgridcolor\":\"white\",\"startlinecolor\":\"#2a3f5f\"},\"type\":\"carpet\"}],\"choropleth\":[{\"colorbar\":{\"outlinewidth\":0,\"ticks\":\"\"},\"type\":\"choropleth\"}],\"contour\":[{\"colorbar\":{\"outlinewidth\":0,\"ticks\":\"\"},\"colorscale\":[[0.0,\"#0d0887\"],[0.1111111111111111,\"#46039f\"],[0.2222222222222222,\"#7201a8\"],[0.3333333333333333,\"#9c179e\"],[0.4444444444444444,\"#bd3786\"],[0.5555555555555556,\"#d8576b\"],[0.6666666666666666,\"#ed7953\"],[0.7777777777777778,\"#fb9f3a\"],[0.8888888888888888,\"#fdca26\"],[1.0,\"#f0f921\"]],\"type\":\"contour\"}],\"contourcarpet\":[{\"colorbar\":{\"outlinewidth\":0,\"ticks\":\"\"},\"type\":\"contourcarpet\"}],\"heatmap\":[{\"colorbar\":{\"outlinewidth\":0,\"ticks\":\"\"},\"colorscale\":[[0.0,\"#0d0887\"],[0.1111111111111111,\"#46039f\"],[0.2222222222222222,\"#7201a8\"],[0.3333333333333333,\"#9c179e\"],[0.4444444444444444,\"#bd3786\"],[0.5555555555555556,\"#d8576b\"],[0.6666666666666666,\"#ed7953\"],[0.7777777777777778,\"#fb9f3a\"],[0.8888888888888888,\"#fdca26\"],[1.0,\"#f0f921\"]],\"type\":\"heatmap\"}],\"heatmapgl\":[{\"colorbar\":{\"outlinewidth\":0,\"ticks\":\"\"},\"colorscale\":[[0.0,\"#0d0887\"],[0.1111111111111111,\"#46039f\"],[0.2222222222222222,\"#7201a8\"],[0.3333333333333333,\"#9c179e\"],[0.4444444444444444,\"#bd3786\"],[0.5555555555555556,\"#d8576b\"],[0.6666666666666666,\"#ed7953\"],[0.7777777777777778,\"#fb9f3a\"],[0.8888888888888888,\"#fdca26\"],[1.0,\"#f0f921\"]],\"type\":\"heatmapgl\"}],\"histogram\":[{\"marker\":{\"pattern\":{\"fillmode\":\"overlay\",\"size\":10,\"solidity\":0.2}},\"type\":\"histogram\"}],\"histogram2d\":[{\"colorbar\":{\"outlinewidth\":0,\"ticks\":\"\"},\"colorscale\":[[0.0,\"#0d0887\"],[0.1111111111111111,\"#46039f\"],[0.2222222222222222,\"#7201a8\"],[0.3333333333333333,\"#9c179e\"],[0.4444444444444444,\"#bd3786\"],[0.5555555555555556,\"#d8576b\"],[0.6666666666666666,\"#ed7953\"],[0.7777777777777778,\"#fb9f3a\"],[0.8888888888888888,\"#fdca26\"],[1.0,\"#f0f921\"]],\"type\":\"histogram2d\"}],\"histogram2dcontour\":[{\"colorbar\":{\"outlinewidth\":0,\"ticks\":\"\"},\"colorscale\":[[0.0,\"#0d0887\"],[0.1111111111111111,\"#46039f\"],[0.2222222222222222,\"#7201a8\"],[0.3333333333333333,\"#9c179e\"],[0.4444444444444444,\"#bd3786\"],[0.5555555555555556,\"#d8576b\"],[0.6666666666666666,\"#ed7953\"],[0.7777777777777778,\"#fb9f3a\"],[0.8888888888888888,\"#fdca26\"],[1.0,\"#f0f921\"]],\"type\":\"histogram2dcontour\"}],\"mesh3d\":[{\"colorbar\":{\"outlinewidth\":0,\"ticks\":\"\"},\"type\":\"mesh3d\"}],\"parcoords\":[{\"line\":{\"colorbar\":{\"outlinewidth\":0,\"ticks\":\"\"}},\"type\":\"parcoords\"}],\"pie\":[{\"automargin\":true,\"type\":\"pie\"}],\"scatter\":[{\"marker\":{\"colorbar\":{\"outlinewidth\":0,\"ticks\":\"\"}},\"type\":\"scatter\"}],\"scatter3d\":[{\"line\":{\"colorbar\":{\"outlinewidth\":0,\"ticks\":\"\"}},\"marker\":{\"colorbar\":{\"outlinewidth\":0,\"ticks\":\"\"}},\"type\":\"scatter3d\"}],\"scattercarpet\":[{\"marker\":{\"colorbar\":{\"outlinewidth\":0,\"ticks\":\"\"}},\"type\":\"scattercarpet\"}],\"scattergeo\":[{\"marker\":{\"colorbar\":{\"outlinewidth\":0,\"ticks\":\"\"}},\"type\":\"scattergeo\"}],\"scattergl\":[{\"marker\":{\"colorbar\":{\"outlinewidth\":0,\"ticks\":\"\"}},\"type\":\"scattergl\"}],\"scattermapbox\":[{\"marker\":{\"colorbar\":{\"outlinewidth\":0,\"ticks\":\"\"}},\"type\":\"scattermapbox\"}],\"scatterpolar\":[{\"marker\":{\"colorbar\":{\"outlinewidth\":0,\"ticks\":\"\"}},\"type\":\"scatterpolar\"}],\"scatterpolargl\":[{\"marker\":{\"colorbar\":{\"outlinewidth\":0,\"ticks\":\"\"}},\"type\":\"scatterpolargl\"}],\"scatterternary\":[{\"marker\":{\"colorbar\":{\"outlinewidth\":0,\"ticks\":\"\"}},\"type\":\"scatterternary\"}],\"surface\":[{\"colorbar\":{\"outlinewidth\":0,\"ticks\":\"\"},\"colorscale\":[[0.0,\"#0d0887\"],[0.1111111111111111,\"#46039f\"],[0.2222222222222222,\"#7201a8\"],[0.3333333333333333,\"#9c179e\"],[0.4444444444444444,\"#bd3786\"],[0.5555555555555556,\"#d8576b\"],[0.6666666666666666,\"#ed7953\"],[0.7777777777777778,\"#fb9f3a\"],[0.8888888888888888,\"#fdca26\"],[1.0,\"#f0f921\"]],\"type\":\"surface\"}],\"table\":[{\"cells\":{\"fill\":{\"color\":\"#EBF0F8\"},\"line\":{\"color\":\"white\"}},\"header\":{\"fill\":{\"color\":\"#C8D4E3\"},\"line\":{\"color\":\"white\"}},\"type\":\"table\"}]},\"layout\":{\"annotationdefaults\":{\"arrowcolor\":\"#2a3f5f\",\"arrowhead\":0,\"arrowwidth\":1},\"autotypenumbers\":\"strict\",\"coloraxis\":{\"colorbar\":{\"outlinewidth\":0,\"ticks\":\"\"}},\"colorscale\":{\"diverging\":[[0,\"#8e0152\"],[0.1,\"#c51b7d\"],[0.2,\"#de77ae\"],[0.3,\"#f1b6da\"],[0.4,\"#fde0ef\"],[0.5,\"#f7f7f7\"],[0.6,\"#e6f5d0\"],[0.7,\"#b8e186\"],[0.8,\"#7fbc41\"],[0.9,\"#4d9221\"],[1,\"#276419\"]],\"sequential\":[[0.0,\"#0d0887\"],[0.1111111111111111,\"#46039f\"],[0.2222222222222222,\"#7201a8\"],[0.3333333333333333,\"#9c179e\"],[0.4444444444444444,\"#bd3786\"],[0.5555555555555556,\"#d8576b\"],[0.6666666666666666,\"#ed7953\"],[0.7777777777777778,\"#fb9f3a\"],[0.8888888888888888,\"#fdca26\"],[1.0,\"#f0f921\"]],\"sequentialminus\":[[0.0,\"#0d0887\"],[0.1111111111111111,\"#46039f\"],[0.2222222222222222,\"#7201a8\"],[0.3333333333333333,\"#9c179e\"],[0.4444444444444444,\"#bd3786\"],[0.5555555555555556,\"#d8576b\"],[0.6666666666666666,\"#ed7953\"],[0.7777777777777778,\"#fb9f3a\"],[0.8888888888888888,\"#fdca26\"],[1.0,\"#f0f921\"]]},\"colorway\":[\"#636efa\",\"#EF553B\",\"#00cc96\",\"#ab63fa\",\"#FFA15A\",\"#19d3f3\",\"#FF6692\",\"#B6E880\",\"#FF97FF\",\"#FECB52\"],\"font\":{\"color\":\"#2a3f5f\"},\"geo\":{\"bgcolor\":\"white\",\"lakecolor\":\"white\",\"landcolor\":\"#E5ECF6\",\"showlakes\":true,\"showland\":true,\"subunitcolor\":\"white\"},\"hoverlabel\":{\"align\":\"left\"},\"hovermode\":\"closest\",\"mapbox\":{\"style\":\"light\"},\"paper_bgcolor\":\"white\",\"plot_bgcolor\":\"#E5ECF6\",\"polar\":{\"angularaxis\":{\"gridcolor\":\"white\",\"linecolor\":\"white\",\"ticks\":\"\"},\"bgcolor\":\"#E5ECF6\",\"radialaxis\":{\"gridcolor\":\"white\",\"linecolor\":\"white\",\"ticks\":\"\"}},\"scene\":{\"xaxis\":{\"backgroundcolor\":\"#E5ECF6\",\"gridcolor\":\"white\",\"gridwidth\":2,\"linecolor\":\"white\",\"showbackground\":true,\"ticks\":\"\",\"zerolinecolor\":\"white\"},\"yaxis\":{\"backgroundcolor\":\"#E5ECF6\",\"gridcolor\":\"white\",\"gridwidth\":2,\"linecolor\":\"white\",\"showbackground\":true,\"ticks\":\"\",\"zerolinecolor\":\"white\"},\"zaxis\":{\"backgroundcolor\":\"#E5ECF6\",\"gridcolor\":\"white\",\"gridwidth\":2,\"linecolor\":\"white\",\"showbackground\":true,\"ticks\":\"\",\"zerolinecolor\":\"white\"}},\"shapedefaults\":{\"line\":{\"color\":\"#2a3f5f\"}},\"ternary\":{\"aaxis\":{\"gridcolor\":\"white\",\"linecolor\":\"white\",\"ticks\":\"\"},\"baxis\":{\"gridcolor\":\"white\",\"linecolor\":\"white\",\"ticks\":\"\"},\"bgcolor\":\"#E5ECF6\",\"caxis\":{\"gridcolor\":\"white\",\"linecolor\":\"white\",\"ticks\":\"\"}},\"title\":{\"x\":0.05},\"xaxis\":{\"automargin\":true,\"gridcolor\":\"white\",\"linecolor\":\"white\",\"ticks\":\"\",\"title\":{\"standoff\":15},\"zerolinecolor\":\"white\",\"zerolinewidth\":2},\"yaxis\":{\"automargin\":true,\"gridcolor\":\"white\",\"linecolor\":\"white\",\"ticks\":\"\",\"title\":{\"standoff\":15},\"zerolinecolor\":\"white\",\"zerolinewidth\":2}}},\"title\":{\"font\":{\"color\":\"#4D5663\"}},\"xaxis\":{\"gridcolor\":\"#E1E5ED\",\"showgrid\":true,\"tickfont\":{\"color\":\"#4D5663\"},\"title\":{\"font\":{\"color\":\"#4D5663\"},\"text\":\"\"},\"zerolinecolor\":\"#E1E5ED\"},\"xaxis2\":{\"anchor\":\"y2\",\"gridcolor\":\"#E1E5ED\",\"showgrid\":true,\"showticklabels\":false,\"tickfont\":{\"color\":\"#4D5663\"},\"title\":{\"font\":{\"color\":\"#4D5663\"},\"text\":\"\"},\"zerolinecolor\":\"#E1E5ED\"},\"yaxis\":{\"domain\":[0.3,1],\"gridcolor\":\"#E1E5ED\",\"showgrid\":true,\"tickfont\":{\"color\":\"#4D5663\"},\"title\":{\"font\":{\"color\":\"#4D5663\"},\"text\":\"\"},\"zerolinecolor\":\"#E1E5ED\"},\"yaxis2\":{\"domain\":[0,0.25],\"gridcolor\":\"#E1E5ED\",\"showgrid\":true,\"tickfont\":{\"color\":\"#4D5663\"},\"title\":{\"font\":{\"color\":\"#4D5663\"},\"text\":\"Spread\"},\"zerolinecolor\":\"#E1E5ED\"}},                        {\"showLink\": true, \"linkText\": \"Export to plot.ly\", \"plotlyServerURL\": \"https://plot.ly\", \"responsive\": true}                    ).then(function(){\n",
       "                            \n",
       "var gd = document.getElementById('3ea3cdb4-3361-4ec4-9d88-501f393a5359');\n",
       "var x = new MutationObserver(function (mutations, observer) {{\n",
       "        var display = window.getComputedStyle(gd).display;\n",
       "        if (!display || display === 'none') {{\n",
       "            console.log([gd, 'removed!']);\n",
       "            Plotly.purge(gd);\n",
       "            observer.disconnect();\n",
       "        }}\n",
       "}});\n",
       "\n",
       "// Listen for the removal of the full notebook cells\n",
       "var notebookContainer = gd.closest('#notebook-container');\n",
       "if (notebookContainer) {{\n",
       "    x.observe(notebookContainer, {childList: true});\n",
       "}}\n",
       "\n",
       "// Listen for the clearing of the current output cell\n",
       "var outputEl = gd.closest('.output');\n",
       "if (outputEl) {{\n",
       "    x.observe(outputEl, {childList: true});\n",
       "}}\n",
       "\n",
       "                        })                };                });            </script>        </div>"
      ]
     },
     "metadata": {},
     "output_type": "display_data"
    }
   ],
   "source": [
    "df[['A','B']].iplot(kind='spread')"
   ]
  },
  {
   "cell_type": "markdown",
   "metadata": {},
   "source": [
    "## histogram"
   ]
  },
  {
   "cell_type": "code",
   "execution_count": 18,
   "metadata": {},
   "outputs": [
    {
     "data": {
      "application/vnd.plotly.v1+json": {
       "config": {
        "linkText": "Export to plot.ly",
        "plotlyServerURL": "https://plot.ly",
        "showLink": true
       },
       "data": [
        {
         "histfunc": "count",
         "histnorm": "",
         "marker": {
          "color": "rgba(255, 153, 51, 1.0)",
          "line": {
           "color": "#4D5663",
           "width": 1.3
          }
         },
         "name": "A",
         "nbinsx": 25,
         "opacity": 0.8,
         "orientation": "v",
         "type": "histogram",
         "x": [
          0.18337390211043783,
          0.2577404769175627,
          -0.39940465232467737,
          0.194298848170503,
          0.34196496904498935,
          -0.6377170807139307,
          -1.049758108993871,
          0.49300518799557336,
          0.028811941662308698,
          -1.6269205354091907,
          -0.5202694534605817,
          -0.16098816834008395,
          0.05160848098571894,
          0.5364326233078089,
          0.4378795481417151,
          -0.03756114724023949,
          0.28914666492343494,
          -0.03814971702482578,
          1.1504709154224924,
          -0.7412218639075389,
          0.42086582271660816,
          0.9009691688219829,
          1.0400314771630996,
          -1.372257148733933,
          -0.4355821151470618,
          -0.09938130947803488,
          -0.9491201685059797,
          -0.8600172231155638,
          -0.7362359562302916,
          -0.1430515701566955,
          -0.617813406266883,
          -0.28055737559377186,
          0.46932264288215353,
          0.1514629997731117,
          -0.6583950527318917,
          -0.26662490652025683,
          0.5093904738392812,
          0.12592079431582454,
          1.1508237867549065,
          1.3284069604847262,
          -0.8627769007465207,
          -1.0231645951528927,
          -1.2276778357296108,
          -1.1730477649540723,
          1.6063794992902511,
          -0.023057504024252704,
          -0.01960344616633247,
          -1.0409575465574499,
          0.5256968428705312,
          0.5633261139142187,
          -1.277429648427179,
          -0.8594207760740425,
          -0.806527698662659,
          -1.3223242506953758,
          1.3971352314374699,
          0.3631614499519548,
          0.19128780513812077,
          0.39550446961128843,
          1.317416404924919,
          0.2756482721294413,
          0.9479537637621035,
          0.26781448001741226,
          1.2863595640654364,
          1.0377301080259809,
          0.18731377850380862,
          0.8097847708703942,
          0.21174695841002827,
          -0.7233239976517987,
          -0.2877696122095113,
          -1.2224779263270227,
          1.2959808963832966,
          1.2980313763074227,
          -0.4516678608167582,
          0.7301014683457027,
          -0.9165040725691428,
          -1.7967471408255278,
          0.09604702398927319,
          -0.8605396305059785,
          -0.972811531987986,
          -0.7769208316082751,
          2.02672405942737,
          -1.2194940629705828,
          -0.6034537463065365,
          -1.3731528380456066,
          0.478397263066975,
          0.3532628705494607,
          1.0128502952860179,
          -0.3372046017404665,
          -0.12940898816063387,
          -1.622834708604428,
          0.6955740306917982,
          0.048620002313087676,
          -1.8922763025622593,
          -2.368987592395905,
          -0.290907389966216,
          -0.19595573626291243,
          0.6964336785010147,
          0.9147274409544851,
          -0.6849847790150455,
          0.17976801555813846
         ]
        }
       ],
       "layout": {
        "barmode": "overlay",
        "legend": {
         "bgcolor": "#F5F6F9",
         "font": {
          "color": "#4D5663"
         }
        },
        "paper_bgcolor": "#F5F6F9",
        "plot_bgcolor": "#F5F6F9",
        "template": {
         "data": {
          "bar": [
           {
            "error_x": {
             "color": "#2a3f5f"
            },
            "error_y": {
             "color": "#2a3f5f"
            },
            "marker": {
             "line": {
              "color": "#E5ECF6",
              "width": 0.5
             },
             "pattern": {
              "fillmode": "overlay",
              "size": 10,
              "solidity": 0.2
             }
            },
            "type": "bar"
           }
          ],
          "barpolar": [
           {
            "marker": {
             "line": {
              "color": "#E5ECF6",
              "width": 0.5
             },
             "pattern": {
              "fillmode": "overlay",
              "size": 10,
              "solidity": 0.2
             }
            },
            "type": "barpolar"
           }
          ],
          "carpet": [
           {
            "aaxis": {
             "endlinecolor": "#2a3f5f",
             "gridcolor": "white",
             "linecolor": "white",
             "minorgridcolor": "white",
             "startlinecolor": "#2a3f5f"
            },
            "baxis": {
             "endlinecolor": "#2a3f5f",
             "gridcolor": "white",
             "linecolor": "white",
             "minorgridcolor": "white",
             "startlinecolor": "#2a3f5f"
            },
            "type": "carpet"
           }
          ],
          "choropleth": [
           {
            "colorbar": {
             "outlinewidth": 0,
             "ticks": ""
            },
            "type": "choropleth"
           }
          ],
          "contour": [
           {
            "colorbar": {
             "outlinewidth": 0,
             "ticks": ""
            },
            "colorscale": [
             [
              0,
              "#0d0887"
             ],
             [
              0.1111111111111111,
              "#46039f"
             ],
             [
              0.2222222222222222,
              "#7201a8"
             ],
             [
              0.3333333333333333,
              "#9c179e"
             ],
             [
              0.4444444444444444,
              "#bd3786"
             ],
             [
              0.5555555555555556,
              "#d8576b"
             ],
             [
              0.6666666666666666,
              "#ed7953"
             ],
             [
              0.7777777777777778,
              "#fb9f3a"
             ],
             [
              0.8888888888888888,
              "#fdca26"
             ],
             [
              1,
              "#f0f921"
             ]
            ],
            "type": "contour"
           }
          ],
          "contourcarpet": [
           {
            "colorbar": {
             "outlinewidth": 0,
             "ticks": ""
            },
            "type": "contourcarpet"
           }
          ],
          "heatmap": [
           {
            "colorbar": {
             "outlinewidth": 0,
             "ticks": ""
            },
            "colorscale": [
             [
              0,
              "#0d0887"
             ],
             [
              0.1111111111111111,
              "#46039f"
             ],
             [
              0.2222222222222222,
              "#7201a8"
             ],
             [
              0.3333333333333333,
              "#9c179e"
             ],
             [
              0.4444444444444444,
              "#bd3786"
             ],
             [
              0.5555555555555556,
              "#d8576b"
             ],
             [
              0.6666666666666666,
              "#ed7953"
             ],
             [
              0.7777777777777778,
              "#fb9f3a"
             ],
             [
              0.8888888888888888,
              "#fdca26"
             ],
             [
              1,
              "#f0f921"
             ]
            ],
            "type": "heatmap"
           }
          ],
          "heatmapgl": [
           {
            "colorbar": {
             "outlinewidth": 0,
             "ticks": ""
            },
            "colorscale": [
             [
              0,
              "#0d0887"
             ],
             [
              0.1111111111111111,
              "#46039f"
             ],
             [
              0.2222222222222222,
              "#7201a8"
             ],
             [
              0.3333333333333333,
              "#9c179e"
             ],
             [
              0.4444444444444444,
              "#bd3786"
             ],
             [
              0.5555555555555556,
              "#d8576b"
             ],
             [
              0.6666666666666666,
              "#ed7953"
             ],
             [
              0.7777777777777778,
              "#fb9f3a"
             ],
             [
              0.8888888888888888,
              "#fdca26"
             ],
             [
              1,
              "#f0f921"
             ]
            ],
            "type": "heatmapgl"
           }
          ],
          "histogram": [
           {
            "marker": {
             "pattern": {
              "fillmode": "overlay",
              "size": 10,
              "solidity": 0.2
             }
            },
            "type": "histogram"
           }
          ],
          "histogram2d": [
           {
            "colorbar": {
             "outlinewidth": 0,
             "ticks": ""
            },
            "colorscale": [
             [
              0,
              "#0d0887"
             ],
             [
              0.1111111111111111,
              "#46039f"
             ],
             [
              0.2222222222222222,
              "#7201a8"
             ],
             [
              0.3333333333333333,
              "#9c179e"
             ],
             [
              0.4444444444444444,
              "#bd3786"
             ],
             [
              0.5555555555555556,
              "#d8576b"
             ],
             [
              0.6666666666666666,
              "#ed7953"
             ],
             [
              0.7777777777777778,
              "#fb9f3a"
             ],
             [
              0.8888888888888888,
              "#fdca26"
             ],
             [
              1,
              "#f0f921"
             ]
            ],
            "type": "histogram2d"
           }
          ],
          "histogram2dcontour": [
           {
            "colorbar": {
             "outlinewidth": 0,
             "ticks": ""
            },
            "colorscale": [
             [
              0,
              "#0d0887"
             ],
             [
              0.1111111111111111,
              "#46039f"
             ],
             [
              0.2222222222222222,
              "#7201a8"
             ],
             [
              0.3333333333333333,
              "#9c179e"
             ],
             [
              0.4444444444444444,
              "#bd3786"
             ],
             [
              0.5555555555555556,
              "#d8576b"
             ],
             [
              0.6666666666666666,
              "#ed7953"
             ],
             [
              0.7777777777777778,
              "#fb9f3a"
             ],
             [
              0.8888888888888888,
              "#fdca26"
             ],
             [
              1,
              "#f0f921"
             ]
            ],
            "type": "histogram2dcontour"
           }
          ],
          "mesh3d": [
           {
            "colorbar": {
             "outlinewidth": 0,
             "ticks": ""
            },
            "type": "mesh3d"
           }
          ],
          "parcoords": [
           {
            "line": {
             "colorbar": {
              "outlinewidth": 0,
              "ticks": ""
             }
            },
            "type": "parcoords"
           }
          ],
          "pie": [
           {
            "automargin": true,
            "type": "pie"
           }
          ],
          "scatter": [
           {
            "marker": {
             "colorbar": {
              "outlinewidth": 0,
              "ticks": ""
             }
            },
            "type": "scatter"
           }
          ],
          "scatter3d": [
           {
            "line": {
             "colorbar": {
              "outlinewidth": 0,
              "ticks": ""
             }
            },
            "marker": {
             "colorbar": {
              "outlinewidth": 0,
              "ticks": ""
             }
            },
            "type": "scatter3d"
           }
          ],
          "scattercarpet": [
           {
            "marker": {
             "colorbar": {
              "outlinewidth": 0,
              "ticks": ""
             }
            },
            "type": "scattercarpet"
           }
          ],
          "scattergeo": [
           {
            "marker": {
             "colorbar": {
              "outlinewidth": 0,
              "ticks": ""
             }
            },
            "type": "scattergeo"
           }
          ],
          "scattergl": [
           {
            "marker": {
             "colorbar": {
              "outlinewidth": 0,
              "ticks": ""
             }
            },
            "type": "scattergl"
           }
          ],
          "scattermapbox": [
           {
            "marker": {
             "colorbar": {
              "outlinewidth": 0,
              "ticks": ""
             }
            },
            "type": "scattermapbox"
           }
          ],
          "scatterpolar": [
           {
            "marker": {
             "colorbar": {
              "outlinewidth": 0,
              "ticks": ""
             }
            },
            "type": "scatterpolar"
           }
          ],
          "scatterpolargl": [
           {
            "marker": {
             "colorbar": {
              "outlinewidth": 0,
              "ticks": ""
             }
            },
            "type": "scatterpolargl"
           }
          ],
          "scatterternary": [
           {
            "marker": {
             "colorbar": {
              "outlinewidth": 0,
              "ticks": ""
             }
            },
            "type": "scatterternary"
           }
          ],
          "surface": [
           {
            "colorbar": {
             "outlinewidth": 0,
             "ticks": ""
            },
            "colorscale": [
             [
              0,
              "#0d0887"
             ],
             [
              0.1111111111111111,
              "#46039f"
             ],
             [
              0.2222222222222222,
              "#7201a8"
             ],
             [
              0.3333333333333333,
              "#9c179e"
             ],
             [
              0.4444444444444444,
              "#bd3786"
             ],
             [
              0.5555555555555556,
              "#d8576b"
             ],
             [
              0.6666666666666666,
              "#ed7953"
             ],
             [
              0.7777777777777778,
              "#fb9f3a"
             ],
             [
              0.8888888888888888,
              "#fdca26"
             ],
             [
              1,
              "#f0f921"
             ]
            ],
            "type": "surface"
           }
          ],
          "table": [
           {
            "cells": {
             "fill": {
              "color": "#EBF0F8"
             },
             "line": {
              "color": "white"
             }
            },
            "header": {
             "fill": {
              "color": "#C8D4E3"
             },
             "line": {
              "color": "white"
             }
            },
            "type": "table"
           }
          ]
         },
         "layout": {
          "annotationdefaults": {
           "arrowcolor": "#2a3f5f",
           "arrowhead": 0,
           "arrowwidth": 1
          },
          "autotypenumbers": "strict",
          "coloraxis": {
           "colorbar": {
            "outlinewidth": 0,
            "ticks": ""
           }
          },
          "colorscale": {
           "diverging": [
            [
             0,
             "#8e0152"
            ],
            [
             0.1,
             "#c51b7d"
            ],
            [
             0.2,
             "#de77ae"
            ],
            [
             0.3,
             "#f1b6da"
            ],
            [
             0.4,
             "#fde0ef"
            ],
            [
             0.5,
             "#f7f7f7"
            ],
            [
             0.6,
             "#e6f5d0"
            ],
            [
             0.7,
             "#b8e186"
            ],
            [
             0.8,
             "#7fbc41"
            ],
            [
             0.9,
             "#4d9221"
            ],
            [
             1,
             "#276419"
            ]
           ],
           "sequential": [
            [
             0,
             "#0d0887"
            ],
            [
             0.1111111111111111,
             "#46039f"
            ],
            [
             0.2222222222222222,
             "#7201a8"
            ],
            [
             0.3333333333333333,
             "#9c179e"
            ],
            [
             0.4444444444444444,
             "#bd3786"
            ],
            [
             0.5555555555555556,
             "#d8576b"
            ],
            [
             0.6666666666666666,
             "#ed7953"
            ],
            [
             0.7777777777777778,
             "#fb9f3a"
            ],
            [
             0.8888888888888888,
             "#fdca26"
            ],
            [
             1,
             "#f0f921"
            ]
           ],
           "sequentialminus": [
            [
             0,
             "#0d0887"
            ],
            [
             0.1111111111111111,
             "#46039f"
            ],
            [
             0.2222222222222222,
             "#7201a8"
            ],
            [
             0.3333333333333333,
             "#9c179e"
            ],
            [
             0.4444444444444444,
             "#bd3786"
            ],
            [
             0.5555555555555556,
             "#d8576b"
            ],
            [
             0.6666666666666666,
             "#ed7953"
            ],
            [
             0.7777777777777778,
             "#fb9f3a"
            ],
            [
             0.8888888888888888,
             "#fdca26"
            ],
            [
             1,
             "#f0f921"
            ]
           ]
          },
          "colorway": [
           "#636efa",
           "#EF553B",
           "#00cc96",
           "#ab63fa",
           "#FFA15A",
           "#19d3f3",
           "#FF6692",
           "#B6E880",
           "#FF97FF",
           "#FECB52"
          ],
          "font": {
           "color": "#2a3f5f"
          },
          "geo": {
           "bgcolor": "white",
           "lakecolor": "white",
           "landcolor": "#E5ECF6",
           "showlakes": true,
           "showland": true,
           "subunitcolor": "white"
          },
          "hoverlabel": {
           "align": "left"
          },
          "hovermode": "closest",
          "mapbox": {
           "style": "light"
          },
          "paper_bgcolor": "white",
          "plot_bgcolor": "#E5ECF6",
          "polar": {
           "angularaxis": {
            "gridcolor": "white",
            "linecolor": "white",
            "ticks": ""
           },
           "bgcolor": "#E5ECF6",
           "radialaxis": {
            "gridcolor": "white",
            "linecolor": "white",
            "ticks": ""
           }
          },
          "scene": {
           "xaxis": {
            "backgroundcolor": "#E5ECF6",
            "gridcolor": "white",
            "gridwidth": 2,
            "linecolor": "white",
            "showbackground": true,
            "ticks": "",
            "zerolinecolor": "white"
           },
           "yaxis": {
            "backgroundcolor": "#E5ECF6",
            "gridcolor": "white",
            "gridwidth": 2,
            "linecolor": "white",
            "showbackground": true,
            "ticks": "",
            "zerolinecolor": "white"
           },
           "zaxis": {
            "backgroundcolor": "#E5ECF6",
            "gridcolor": "white",
            "gridwidth": 2,
            "linecolor": "white",
            "showbackground": true,
            "ticks": "",
            "zerolinecolor": "white"
           }
          },
          "shapedefaults": {
           "line": {
            "color": "#2a3f5f"
           }
          },
          "ternary": {
           "aaxis": {
            "gridcolor": "white",
            "linecolor": "white",
            "ticks": ""
           },
           "baxis": {
            "gridcolor": "white",
            "linecolor": "white",
            "ticks": ""
           },
           "bgcolor": "#E5ECF6",
           "caxis": {
            "gridcolor": "white",
            "linecolor": "white",
            "ticks": ""
           }
          },
          "title": {
           "x": 0.05
          },
          "xaxis": {
           "automargin": true,
           "gridcolor": "white",
           "linecolor": "white",
           "ticks": "",
           "title": {
            "standoff": 15
           },
           "zerolinecolor": "white",
           "zerolinewidth": 2
          },
          "yaxis": {
           "automargin": true,
           "gridcolor": "white",
           "linecolor": "white",
           "ticks": "",
           "title": {
            "standoff": 15
           },
           "zerolinecolor": "white",
           "zerolinewidth": 2
          }
         }
        },
        "title": {
         "font": {
          "color": "#4D5663"
         }
        },
        "xaxis": {
         "gridcolor": "#E1E5ED",
         "showgrid": true,
         "tickfont": {
          "color": "#4D5663"
         },
         "title": {
          "font": {
           "color": "#4D5663"
          },
          "text": ""
         },
         "zerolinecolor": "#E1E5ED"
        },
        "yaxis": {
         "gridcolor": "#E1E5ED",
         "showgrid": true,
         "tickfont": {
          "color": "#4D5663"
         },
         "title": {
          "font": {
           "color": "#4D5663"
          },
          "text": ""
         },
         "zerolinecolor": "#E1E5ED"
        }
       }
      },
      "text/html": [
       "<div>                            <div id=\"6eaca719-a8dc-4092-94f6-c0b42d546f45\" class=\"plotly-graph-div\" style=\"height:525px; width:100%;\"></div>            <script type=\"text/javascript\">                require([\"plotly\"], function(Plotly) {                    window.PLOTLYENV=window.PLOTLYENV || {};\n",
       "                    window.PLOTLYENV.BASE_URL='https://plot.ly';                                    if (document.getElementById(\"6eaca719-a8dc-4092-94f6-c0b42d546f45\")) {                    Plotly.newPlot(                        \"6eaca719-a8dc-4092-94f6-c0b42d546f45\",                        [{\"histfunc\":\"count\",\"histnorm\":\"\",\"marker\":{\"color\":\"rgba(255, 153, 51, 1.0)\",\"line\":{\"color\":\"#4D5663\",\"width\":1.3}},\"name\":\"A\",\"nbinsx\":25,\"opacity\":0.8,\"orientation\":\"v\",\"type\":\"histogram\",\"x\":[0.18337390211043783,0.2577404769175627,-0.39940465232467737,0.194298848170503,0.34196496904498935,-0.6377170807139307,-1.049758108993871,0.49300518799557336,0.028811941662308698,-1.6269205354091907,-0.5202694534605817,-0.16098816834008395,0.05160848098571894,0.5364326233078089,0.4378795481417151,-0.03756114724023949,0.28914666492343494,-0.03814971702482578,1.1504709154224924,-0.7412218639075389,0.42086582271660816,0.9009691688219829,1.0400314771630996,-1.372257148733933,-0.4355821151470618,-0.09938130947803488,-0.9491201685059797,-0.8600172231155638,-0.7362359562302916,-0.1430515701566955,-0.617813406266883,-0.28055737559377186,0.46932264288215353,0.1514629997731117,-0.6583950527318917,-0.26662490652025683,0.5093904738392812,0.12592079431582454,1.1508237867549065,1.3284069604847262,-0.8627769007465207,-1.0231645951528927,-1.2276778357296108,-1.1730477649540723,1.6063794992902511,-0.023057504024252704,-0.01960344616633247,-1.0409575465574499,0.5256968428705312,0.5633261139142187,-1.277429648427179,-0.8594207760740425,-0.806527698662659,-1.3223242506953758,1.3971352314374699,0.3631614499519548,0.19128780513812077,0.39550446961128843,1.317416404924919,0.2756482721294413,0.9479537637621035,0.26781448001741226,1.2863595640654364,1.0377301080259809,0.18731377850380862,0.8097847708703942,0.21174695841002827,-0.7233239976517987,-0.2877696122095113,-1.2224779263270227,1.2959808963832966,1.2980313763074227,-0.4516678608167582,0.7301014683457027,-0.9165040725691428,-1.7967471408255278,0.09604702398927319,-0.8605396305059785,-0.972811531987986,-0.7769208316082751,2.02672405942737,-1.2194940629705828,-0.6034537463065365,-1.3731528380456066,0.478397263066975,0.3532628705494607,1.0128502952860179,-0.3372046017404665,-0.12940898816063387,-1.622834708604428,0.6955740306917982,0.048620002313087676,-1.8922763025622593,-2.368987592395905,-0.290907389966216,-0.19595573626291243,0.6964336785010147,0.9147274409544851,-0.6849847790150455,0.17976801555813846]}],                        {\"barmode\":\"overlay\",\"legend\":{\"bgcolor\":\"#F5F6F9\",\"font\":{\"color\":\"#4D5663\"}},\"paper_bgcolor\":\"#F5F6F9\",\"plot_bgcolor\":\"#F5F6F9\",\"template\":{\"data\":{\"bar\":[{\"error_x\":{\"color\":\"#2a3f5f\"},\"error_y\":{\"color\":\"#2a3f5f\"},\"marker\":{\"line\":{\"color\":\"#E5ECF6\",\"width\":0.5},\"pattern\":{\"fillmode\":\"overlay\",\"size\":10,\"solidity\":0.2}},\"type\":\"bar\"}],\"barpolar\":[{\"marker\":{\"line\":{\"color\":\"#E5ECF6\",\"width\":0.5},\"pattern\":{\"fillmode\":\"overlay\",\"size\":10,\"solidity\":0.2}},\"type\":\"barpolar\"}],\"carpet\":[{\"aaxis\":{\"endlinecolor\":\"#2a3f5f\",\"gridcolor\":\"white\",\"linecolor\":\"white\",\"minorgridcolor\":\"white\",\"startlinecolor\":\"#2a3f5f\"},\"baxis\":{\"endlinecolor\":\"#2a3f5f\",\"gridcolor\":\"white\",\"linecolor\":\"white\",\"minorgridcolor\":\"white\",\"startlinecolor\":\"#2a3f5f\"},\"type\":\"carpet\"}],\"choropleth\":[{\"colorbar\":{\"outlinewidth\":0,\"ticks\":\"\"},\"type\":\"choropleth\"}],\"contour\":[{\"colorbar\":{\"outlinewidth\":0,\"ticks\":\"\"},\"colorscale\":[[0.0,\"#0d0887\"],[0.1111111111111111,\"#46039f\"],[0.2222222222222222,\"#7201a8\"],[0.3333333333333333,\"#9c179e\"],[0.4444444444444444,\"#bd3786\"],[0.5555555555555556,\"#d8576b\"],[0.6666666666666666,\"#ed7953\"],[0.7777777777777778,\"#fb9f3a\"],[0.8888888888888888,\"#fdca26\"],[1.0,\"#f0f921\"]],\"type\":\"contour\"}],\"contourcarpet\":[{\"colorbar\":{\"outlinewidth\":0,\"ticks\":\"\"},\"type\":\"contourcarpet\"}],\"heatmap\":[{\"colorbar\":{\"outlinewidth\":0,\"ticks\":\"\"},\"colorscale\":[[0.0,\"#0d0887\"],[0.1111111111111111,\"#46039f\"],[0.2222222222222222,\"#7201a8\"],[0.3333333333333333,\"#9c179e\"],[0.4444444444444444,\"#bd3786\"],[0.5555555555555556,\"#d8576b\"],[0.6666666666666666,\"#ed7953\"],[0.7777777777777778,\"#fb9f3a\"],[0.8888888888888888,\"#fdca26\"],[1.0,\"#f0f921\"]],\"type\":\"heatmap\"}],\"heatmapgl\":[{\"colorbar\":{\"outlinewidth\":0,\"ticks\":\"\"},\"colorscale\":[[0.0,\"#0d0887\"],[0.1111111111111111,\"#46039f\"],[0.2222222222222222,\"#7201a8\"],[0.3333333333333333,\"#9c179e\"],[0.4444444444444444,\"#bd3786\"],[0.5555555555555556,\"#d8576b\"],[0.6666666666666666,\"#ed7953\"],[0.7777777777777778,\"#fb9f3a\"],[0.8888888888888888,\"#fdca26\"],[1.0,\"#f0f921\"]],\"type\":\"heatmapgl\"}],\"histogram\":[{\"marker\":{\"pattern\":{\"fillmode\":\"overlay\",\"size\":10,\"solidity\":0.2}},\"type\":\"histogram\"}],\"histogram2d\":[{\"colorbar\":{\"outlinewidth\":0,\"ticks\":\"\"},\"colorscale\":[[0.0,\"#0d0887\"],[0.1111111111111111,\"#46039f\"],[0.2222222222222222,\"#7201a8\"],[0.3333333333333333,\"#9c179e\"],[0.4444444444444444,\"#bd3786\"],[0.5555555555555556,\"#d8576b\"],[0.6666666666666666,\"#ed7953\"],[0.7777777777777778,\"#fb9f3a\"],[0.8888888888888888,\"#fdca26\"],[1.0,\"#f0f921\"]],\"type\":\"histogram2d\"}],\"histogram2dcontour\":[{\"colorbar\":{\"outlinewidth\":0,\"ticks\":\"\"},\"colorscale\":[[0.0,\"#0d0887\"],[0.1111111111111111,\"#46039f\"],[0.2222222222222222,\"#7201a8\"],[0.3333333333333333,\"#9c179e\"],[0.4444444444444444,\"#bd3786\"],[0.5555555555555556,\"#d8576b\"],[0.6666666666666666,\"#ed7953\"],[0.7777777777777778,\"#fb9f3a\"],[0.8888888888888888,\"#fdca26\"],[1.0,\"#f0f921\"]],\"type\":\"histogram2dcontour\"}],\"mesh3d\":[{\"colorbar\":{\"outlinewidth\":0,\"ticks\":\"\"},\"type\":\"mesh3d\"}],\"parcoords\":[{\"line\":{\"colorbar\":{\"outlinewidth\":0,\"ticks\":\"\"}},\"type\":\"parcoords\"}],\"pie\":[{\"automargin\":true,\"type\":\"pie\"}],\"scatter\":[{\"marker\":{\"colorbar\":{\"outlinewidth\":0,\"ticks\":\"\"}},\"type\":\"scatter\"}],\"scatter3d\":[{\"line\":{\"colorbar\":{\"outlinewidth\":0,\"ticks\":\"\"}},\"marker\":{\"colorbar\":{\"outlinewidth\":0,\"ticks\":\"\"}},\"type\":\"scatter3d\"}],\"scattercarpet\":[{\"marker\":{\"colorbar\":{\"outlinewidth\":0,\"ticks\":\"\"}},\"type\":\"scattercarpet\"}],\"scattergeo\":[{\"marker\":{\"colorbar\":{\"outlinewidth\":0,\"ticks\":\"\"}},\"type\":\"scattergeo\"}],\"scattergl\":[{\"marker\":{\"colorbar\":{\"outlinewidth\":0,\"ticks\":\"\"}},\"type\":\"scattergl\"}],\"scattermapbox\":[{\"marker\":{\"colorbar\":{\"outlinewidth\":0,\"ticks\":\"\"}},\"type\":\"scattermapbox\"}],\"scatterpolar\":[{\"marker\":{\"colorbar\":{\"outlinewidth\":0,\"ticks\":\"\"}},\"type\":\"scatterpolar\"}],\"scatterpolargl\":[{\"marker\":{\"colorbar\":{\"outlinewidth\":0,\"ticks\":\"\"}},\"type\":\"scatterpolargl\"}],\"scatterternary\":[{\"marker\":{\"colorbar\":{\"outlinewidth\":0,\"ticks\":\"\"}},\"type\":\"scatterternary\"}],\"surface\":[{\"colorbar\":{\"outlinewidth\":0,\"ticks\":\"\"},\"colorscale\":[[0.0,\"#0d0887\"],[0.1111111111111111,\"#46039f\"],[0.2222222222222222,\"#7201a8\"],[0.3333333333333333,\"#9c179e\"],[0.4444444444444444,\"#bd3786\"],[0.5555555555555556,\"#d8576b\"],[0.6666666666666666,\"#ed7953\"],[0.7777777777777778,\"#fb9f3a\"],[0.8888888888888888,\"#fdca26\"],[1.0,\"#f0f921\"]],\"type\":\"surface\"}],\"table\":[{\"cells\":{\"fill\":{\"color\":\"#EBF0F8\"},\"line\":{\"color\":\"white\"}},\"header\":{\"fill\":{\"color\":\"#C8D4E3\"},\"line\":{\"color\":\"white\"}},\"type\":\"table\"}]},\"layout\":{\"annotationdefaults\":{\"arrowcolor\":\"#2a3f5f\",\"arrowhead\":0,\"arrowwidth\":1},\"autotypenumbers\":\"strict\",\"coloraxis\":{\"colorbar\":{\"outlinewidth\":0,\"ticks\":\"\"}},\"colorscale\":{\"diverging\":[[0,\"#8e0152\"],[0.1,\"#c51b7d\"],[0.2,\"#de77ae\"],[0.3,\"#f1b6da\"],[0.4,\"#fde0ef\"],[0.5,\"#f7f7f7\"],[0.6,\"#e6f5d0\"],[0.7,\"#b8e186\"],[0.8,\"#7fbc41\"],[0.9,\"#4d9221\"],[1,\"#276419\"]],\"sequential\":[[0.0,\"#0d0887\"],[0.1111111111111111,\"#46039f\"],[0.2222222222222222,\"#7201a8\"],[0.3333333333333333,\"#9c179e\"],[0.4444444444444444,\"#bd3786\"],[0.5555555555555556,\"#d8576b\"],[0.6666666666666666,\"#ed7953\"],[0.7777777777777778,\"#fb9f3a\"],[0.8888888888888888,\"#fdca26\"],[1.0,\"#f0f921\"]],\"sequentialminus\":[[0.0,\"#0d0887\"],[0.1111111111111111,\"#46039f\"],[0.2222222222222222,\"#7201a8\"],[0.3333333333333333,\"#9c179e\"],[0.4444444444444444,\"#bd3786\"],[0.5555555555555556,\"#d8576b\"],[0.6666666666666666,\"#ed7953\"],[0.7777777777777778,\"#fb9f3a\"],[0.8888888888888888,\"#fdca26\"],[1.0,\"#f0f921\"]]},\"colorway\":[\"#636efa\",\"#EF553B\",\"#00cc96\",\"#ab63fa\",\"#FFA15A\",\"#19d3f3\",\"#FF6692\",\"#B6E880\",\"#FF97FF\",\"#FECB52\"],\"font\":{\"color\":\"#2a3f5f\"},\"geo\":{\"bgcolor\":\"white\",\"lakecolor\":\"white\",\"landcolor\":\"#E5ECF6\",\"showlakes\":true,\"showland\":true,\"subunitcolor\":\"white\"},\"hoverlabel\":{\"align\":\"left\"},\"hovermode\":\"closest\",\"mapbox\":{\"style\":\"light\"},\"paper_bgcolor\":\"white\",\"plot_bgcolor\":\"#E5ECF6\",\"polar\":{\"angularaxis\":{\"gridcolor\":\"white\",\"linecolor\":\"white\",\"ticks\":\"\"},\"bgcolor\":\"#E5ECF6\",\"radialaxis\":{\"gridcolor\":\"white\",\"linecolor\":\"white\",\"ticks\":\"\"}},\"scene\":{\"xaxis\":{\"backgroundcolor\":\"#E5ECF6\",\"gridcolor\":\"white\",\"gridwidth\":2,\"linecolor\":\"white\",\"showbackground\":true,\"ticks\":\"\",\"zerolinecolor\":\"white\"},\"yaxis\":{\"backgroundcolor\":\"#E5ECF6\",\"gridcolor\":\"white\",\"gridwidth\":2,\"linecolor\":\"white\",\"showbackground\":true,\"ticks\":\"\",\"zerolinecolor\":\"white\"},\"zaxis\":{\"backgroundcolor\":\"#E5ECF6\",\"gridcolor\":\"white\",\"gridwidth\":2,\"linecolor\":\"white\",\"showbackground\":true,\"ticks\":\"\",\"zerolinecolor\":\"white\"}},\"shapedefaults\":{\"line\":{\"color\":\"#2a3f5f\"}},\"ternary\":{\"aaxis\":{\"gridcolor\":\"white\",\"linecolor\":\"white\",\"ticks\":\"\"},\"baxis\":{\"gridcolor\":\"white\",\"linecolor\":\"white\",\"ticks\":\"\"},\"bgcolor\":\"#E5ECF6\",\"caxis\":{\"gridcolor\":\"white\",\"linecolor\":\"white\",\"ticks\":\"\"}},\"title\":{\"x\":0.05},\"xaxis\":{\"automargin\":true,\"gridcolor\":\"white\",\"linecolor\":\"white\",\"ticks\":\"\",\"title\":{\"standoff\":15},\"zerolinecolor\":\"white\",\"zerolinewidth\":2},\"yaxis\":{\"automargin\":true,\"gridcolor\":\"white\",\"linecolor\":\"white\",\"ticks\":\"\",\"title\":{\"standoff\":15},\"zerolinecolor\":\"white\",\"zerolinewidth\":2}}},\"title\":{\"font\":{\"color\":\"#4D5663\"}},\"xaxis\":{\"gridcolor\":\"#E1E5ED\",\"showgrid\":true,\"tickfont\":{\"color\":\"#4D5663\"},\"title\":{\"font\":{\"color\":\"#4D5663\"},\"text\":\"\"},\"zerolinecolor\":\"#E1E5ED\"},\"yaxis\":{\"gridcolor\":\"#E1E5ED\",\"showgrid\":true,\"tickfont\":{\"color\":\"#4D5663\"},\"title\":{\"font\":{\"color\":\"#4D5663\"},\"text\":\"\"},\"zerolinecolor\":\"#E1E5ED\"}},                        {\"showLink\": true, \"linkText\": \"Export to plot.ly\", \"plotlyServerURL\": \"https://plot.ly\", \"responsive\": true}                    ).then(function(){\n",
       "                            \n",
       "var gd = document.getElementById('6eaca719-a8dc-4092-94f6-c0b42d546f45');\n",
       "var x = new MutationObserver(function (mutations, observer) {{\n",
       "        var display = window.getComputedStyle(gd).display;\n",
       "        if (!display || display === 'none') {{\n",
       "            console.log([gd, 'removed!']);\n",
       "            Plotly.purge(gd);\n",
       "            observer.disconnect();\n",
       "        }}\n",
       "}});\n",
       "\n",
       "// Listen for the removal of the full notebook cells\n",
       "var notebookContainer = gd.closest('#notebook-container');\n",
       "if (notebookContainer) {{\n",
       "    x.observe(notebookContainer, {childList: true});\n",
       "}}\n",
       "\n",
       "// Listen for the clearing of the current output cell\n",
       "var outputEl = gd.closest('.output');\n",
       "if (outputEl) {{\n",
       "    x.observe(outputEl, {childList: true});\n",
       "}}\n",
       "\n",
       "                        })                };                });            </script>        </div>"
      ]
     },
     "metadata": {},
     "output_type": "display_data"
    }
   ],
   "source": [
    "df['A'].iplot(kind='hist',bins=25)"
   ]
  },
  {
   "cell_type": "code",
   "execution_count": 19,
   "metadata": {},
   "outputs": [
    {
     "data": {
      "application/vnd.plotly.v1+json": {
       "config": {
        "linkText": "Export to plot.ly",
        "plotlyServerURL": "https://plot.ly",
        "showLink": true
       },
       "data": [
        {
         "marker": {
          "color": [
           "rgb(255, 153, 51)",
           "rgb(55, 128, 191)",
           "rgb(50, 171, 96)",
           "rgb(128, 0, 128)",
           "rgb(219, 64, 82)",
           "rgb(0, 128, 128)",
           "rgb(255, 255, 51)",
           "rgb(128, 128, 0)",
           "rgb(251, 128, 114)",
           "rgb(128, 177, 211)"
          ],
          "line": {
           "width": 1.3
          },
          "size": [
           64,
           46,
           18,
           71,
           57,
           57,
           43,
           49,
           46,
           97,
           76,
           81,
           92,
           65,
           49,
           54,
           68,
           58,
           112,
           106,
           76,
           81,
           79,
           32,
           71,
           65,
           58,
           90,
           56,
           59,
           73,
           47,
           90,
           75,
           47,
           53,
           82,
           59,
           88,
           50,
           99,
           63,
           45,
           81,
           61,
           54,
           89,
           53,
           89,
           61,
           76,
           54,
           39,
           57,
           106,
           58,
           94,
           92,
           74,
           90,
           66,
           64,
           62,
           42,
           68,
           57,
           92,
           87,
           93,
           63,
           61,
           94,
           53,
           36,
           22,
           73,
           67,
           74,
           44,
           98,
           66,
           49,
           48,
           46,
           67,
           79,
           24,
           12,
           39,
           64,
           49,
           66,
           85,
           83,
           73,
           46,
           56,
           68,
           45,
           82
          ],
          "symbol": "circle"
         },
         "mode": "markers",
         "text": "",
         "type": "scatter",
         "x": [
          0.18337390211043783,
          0.2577404769175627,
          -0.39940465232467737,
          0.194298848170503,
          0.34196496904498935,
          -0.6377170807139307,
          -1.049758108993871,
          0.49300518799557336,
          0.028811941662308698,
          -1.6269205354091907,
          -0.5202694534605817,
          -0.16098816834008395,
          0.05160848098571894,
          0.5364326233078089,
          0.4378795481417151,
          -0.03756114724023949,
          0.28914666492343494,
          -0.03814971702482578,
          1.1504709154224924,
          -0.7412218639075389,
          0.42086582271660816,
          0.9009691688219829,
          1.0400314771630996,
          -1.372257148733933,
          -0.4355821151470618,
          -0.09938130947803488,
          -0.9491201685059797,
          -0.8600172231155638,
          -0.7362359562302916,
          -0.1430515701566955,
          -0.617813406266883,
          -0.28055737559377186,
          0.46932264288215353,
          0.1514629997731117,
          -0.6583950527318917,
          -0.26662490652025683,
          0.5093904738392812,
          0.12592079431582454,
          1.1508237867549065,
          1.3284069604847262,
          -0.8627769007465207,
          -1.0231645951528927,
          -1.2276778357296108,
          -1.1730477649540723,
          1.6063794992902511,
          -0.023057504024252704,
          -0.01960344616633247,
          -1.0409575465574499,
          0.5256968428705312,
          0.5633261139142187,
          -1.277429648427179,
          -0.8594207760740425,
          -0.806527698662659,
          -1.3223242506953758,
          1.3971352314374699,
          0.3631614499519548,
          0.19128780513812077,
          0.39550446961128843,
          1.317416404924919,
          0.2756482721294413,
          0.9479537637621035,
          0.26781448001741226,
          1.2863595640654364,
          1.0377301080259809,
          0.18731377850380862,
          0.8097847708703942,
          0.21174695841002827,
          -0.7233239976517987,
          -0.2877696122095113,
          -1.2224779263270227,
          1.2959808963832966,
          1.2980313763074227,
          -0.4516678608167582,
          0.7301014683457027,
          -0.9165040725691428,
          -1.7967471408255278,
          0.09604702398927319,
          -0.8605396305059785,
          -0.972811531987986,
          -0.7769208316082751,
          2.02672405942737,
          -1.2194940629705828,
          -0.6034537463065365,
          -1.3731528380456066,
          0.478397263066975,
          0.3532628705494607,
          1.0128502952860179,
          -0.3372046017404665,
          -0.12940898816063387,
          -1.622834708604428,
          0.6955740306917982,
          0.048620002313087676,
          -1.8922763025622593,
          -2.368987592395905,
          -0.290907389966216,
          -0.19595573626291243,
          0.6964336785010147,
          0.9147274409544851,
          -0.6849847790150455,
          0.17976801555813846
         ],
         "y": [
          -2.070372363174357,
          1.9871349625586698,
          0.44711385640110934,
          -0.1362509032529231,
          -0.8847481240368797,
          -0.3005585206574886,
          -0.4577370292878276,
          1.1257225790814913,
          1.6515424424291352,
          -1.1639372746696197,
          -0.4900512762265639,
          -0.9183246527863396,
          -0.5898528388193658,
          -1.9828423762964589,
          1.9251031300815986,
          -0.8516206949989477,
          -0.15077106194697446,
          0.39095318163453546,
          -0.04605799383381456,
          0.13106206252913166,
          -0.4492203115833142,
          0.8614098734884785,
          -0.30181904964322304,
          1.4124315275404664,
          1.2928582774051667,
          0.08553156946078898,
          -1.5202409642832018,
          -1.2972509965846963,
          -0.2554031732774126,
          1.1700927343793435,
          -1.4436089799837097,
          1.772822591539189,
          1.0437749024442213,
          -0.8655170969412663,
          0.07470374986811237,
          0.19696979466097256,
          0.71748915045575,
          0.5493037055770226,
          0.792387270172692,
          0.4388182367525948,
          0.8343802553032624,
          -0.27411066445450055,
          -0.759132779704796,
          -0.5510511505395224,
          0.7010550007848114,
          0.7436324676228472,
          -0.8167506411613927,
          -0.8309399064145929,
          -0.48367397638508636,
          0.40109935333422264,
          0.14717905622379798,
          0.4035364305538702,
          -1.4376361064073133,
          0.884504560227829,
          0.0756105825725042,
          1.3027235848809706,
          -0.410445635139286,
          1.664269298035139,
          0.8046955068796645,
          -1.608477203721027,
          0.11905357356672844,
          -0.8362872444628309,
          -1.0394082418010007,
          1.4718633565264032,
          0.3949671088451408,
          0.21605324037427268,
          -0.26067877739383255,
          0.20558921783396097,
          0.43336888717474037,
          -0.1724582369969408,
          -0.8898077313946257,
          -0.7966001330099107,
          -1.9096285209970933,
          -0.6234503963821106,
          -0.7492278502366498,
          -0.3937069363627399,
          0.4764640049465655,
          -0.0317529356831129,
          -1.2467218127574538,
          1.4515849281312752,
          1.0601562766774255,
          0.011700845601488541,
          -0.7004541496592039,
          0.2487099113720825,
          1.3953319784837215,
          0.8170929436416009,
          -1.093574826202585,
          -1.5190998335113597,
          1.565582460077773,
          0.6003738353358095,
          0.48003413782184207,
          -0.8768051319567273,
          1.1653769552823892,
          -0.09369210118747875,
          -1.236308547878392,
          1.069663761619053,
          -0.5090666413472539,
          0.5484467083147206,
          1.4116269424540293,
          1.4288779803279275
         ]
        }
       ],
       "layout": {
        "legend": {
         "bgcolor": "#F5F6F9",
         "font": {
          "color": "#4D5663"
         }
        },
        "paper_bgcolor": "#F5F6F9",
        "plot_bgcolor": "#F5F6F9",
        "template": {
         "data": {
          "bar": [
           {
            "error_x": {
             "color": "#2a3f5f"
            },
            "error_y": {
             "color": "#2a3f5f"
            },
            "marker": {
             "line": {
              "color": "#E5ECF6",
              "width": 0.5
             },
             "pattern": {
              "fillmode": "overlay",
              "size": 10,
              "solidity": 0.2
             }
            },
            "type": "bar"
           }
          ],
          "barpolar": [
           {
            "marker": {
             "line": {
              "color": "#E5ECF6",
              "width": 0.5
             },
             "pattern": {
              "fillmode": "overlay",
              "size": 10,
              "solidity": 0.2
             }
            },
            "type": "barpolar"
           }
          ],
          "carpet": [
           {
            "aaxis": {
             "endlinecolor": "#2a3f5f",
             "gridcolor": "white",
             "linecolor": "white",
             "minorgridcolor": "white",
             "startlinecolor": "#2a3f5f"
            },
            "baxis": {
             "endlinecolor": "#2a3f5f",
             "gridcolor": "white",
             "linecolor": "white",
             "minorgridcolor": "white",
             "startlinecolor": "#2a3f5f"
            },
            "type": "carpet"
           }
          ],
          "choropleth": [
           {
            "colorbar": {
             "outlinewidth": 0,
             "ticks": ""
            },
            "type": "choropleth"
           }
          ],
          "contour": [
           {
            "colorbar": {
             "outlinewidth": 0,
             "ticks": ""
            },
            "colorscale": [
             [
              0,
              "#0d0887"
             ],
             [
              0.1111111111111111,
              "#46039f"
             ],
             [
              0.2222222222222222,
              "#7201a8"
             ],
             [
              0.3333333333333333,
              "#9c179e"
             ],
             [
              0.4444444444444444,
              "#bd3786"
             ],
             [
              0.5555555555555556,
              "#d8576b"
             ],
             [
              0.6666666666666666,
              "#ed7953"
             ],
             [
              0.7777777777777778,
              "#fb9f3a"
             ],
             [
              0.8888888888888888,
              "#fdca26"
             ],
             [
              1,
              "#f0f921"
             ]
            ],
            "type": "contour"
           }
          ],
          "contourcarpet": [
           {
            "colorbar": {
             "outlinewidth": 0,
             "ticks": ""
            },
            "type": "contourcarpet"
           }
          ],
          "heatmap": [
           {
            "colorbar": {
             "outlinewidth": 0,
             "ticks": ""
            },
            "colorscale": [
             [
              0,
              "#0d0887"
             ],
             [
              0.1111111111111111,
              "#46039f"
             ],
             [
              0.2222222222222222,
              "#7201a8"
             ],
             [
              0.3333333333333333,
              "#9c179e"
             ],
             [
              0.4444444444444444,
              "#bd3786"
             ],
             [
              0.5555555555555556,
              "#d8576b"
             ],
             [
              0.6666666666666666,
              "#ed7953"
             ],
             [
              0.7777777777777778,
              "#fb9f3a"
             ],
             [
              0.8888888888888888,
              "#fdca26"
             ],
             [
              1,
              "#f0f921"
             ]
            ],
            "type": "heatmap"
           }
          ],
          "heatmapgl": [
           {
            "colorbar": {
             "outlinewidth": 0,
             "ticks": ""
            },
            "colorscale": [
             [
              0,
              "#0d0887"
             ],
             [
              0.1111111111111111,
              "#46039f"
             ],
             [
              0.2222222222222222,
              "#7201a8"
             ],
             [
              0.3333333333333333,
              "#9c179e"
             ],
             [
              0.4444444444444444,
              "#bd3786"
             ],
             [
              0.5555555555555556,
              "#d8576b"
             ],
             [
              0.6666666666666666,
              "#ed7953"
             ],
             [
              0.7777777777777778,
              "#fb9f3a"
             ],
             [
              0.8888888888888888,
              "#fdca26"
             ],
             [
              1,
              "#f0f921"
             ]
            ],
            "type": "heatmapgl"
           }
          ],
          "histogram": [
           {
            "marker": {
             "pattern": {
              "fillmode": "overlay",
              "size": 10,
              "solidity": 0.2
             }
            },
            "type": "histogram"
           }
          ],
          "histogram2d": [
           {
            "colorbar": {
             "outlinewidth": 0,
             "ticks": ""
            },
            "colorscale": [
             [
              0,
              "#0d0887"
             ],
             [
              0.1111111111111111,
              "#46039f"
             ],
             [
              0.2222222222222222,
              "#7201a8"
             ],
             [
              0.3333333333333333,
              "#9c179e"
             ],
             [
              0.4444444444444444,
              "#bd3786"
             ],
             [
              0.5555555555555556,
              "#d8576b"
             ],
             [
              0.6666666666666666,
              "#ed7953"
             ],
             [
              0.7777777777777778,
              "#fb9f3a"
             ],
             [
              0.8888888888888888,
              "#fdca26"
             ],
             [
              1,
              "#f0f921"
             ]
            ],
            "type": "histogram2d"
           }
          ],
          "histogram2dcontour": [
           {
            "colorbar": {
             "outlinewidth": 0,
             "ticks": ""
            },
            "colorscale": [
             [
              0,
              "#0d0887"
             ],
             [
              0.1111111111111111,
              "#46039f"
             ],
             [
              0.2222222222222222,
              "#7201a8"
             ],
             [
              0.3333333333333333,
              "#9c179e"
             ],
             [
              0.4444444444444444,
              "#bd3786"
             ],
             [
              0.5555555555555556,
              "#d8576b"
             ],
             [
              0.6666666666666666,
              "#ed7953"
             ],
             [
              0.7777777777777778,
              "#fb9f3a"
             ],
             [
              0.8888888888888888,
              "#fdca26"
             ],
             [
              1,
              "#f0f921"
             ]
            ],
            "type": "histogram2dcontour"
           }
          ],
          "mesh3d": [
           {
            "colorbar": {
             "outlinewidth": 0,
             "ticks": ""
            },
            "type": "mesh3d"
           }
          ],
          "parcoords": [
           {
            "line": {
             "colorbar": {
              "outlinewidth": 0,
              "ticks": ""
             }
            },
            "type": "parcoords"
           }
          ],
          "pie": [
           {
            "automargin": true,
            "type": "pie"
           }
          ],
          "scatter": [
           {
            "marker": {
             "colorbar": {
              "outlinewidth": 0,
              "ticks": ""
             }
            },
            "type": "scatter"
           }
          ],
          "scatter3d": [
           {
            "line": {
             "colorbar": {
              "outlinewidth": 0,
              "ticks": ""
             }
            },
            "marker": {
             "colorbar": {
              "outlinewidth": 0,
              "ticks": ""
             }
            },
            "type": "scatter3d"
           }
          ],
          "scattercarpet": [
           {
            "marker": {
             "colorbar": {
              "outlinewidth": 0,
              "ticks": ""
             }
            },
            "type": "scattercarpet"
           }
          ],
          "scattergeo": [
           {
            "marker": {
             "colorbar": {
              "outlinewidth": 0,
              "ticks": ""
             }
            },
            "type": "scattergeo"
           }
          ],
          "scattergl": [
           {
            "marker": {
             "colorbar": {
              "outlinewidth": 0,
              "ticks": ""
             }
            },
            "type": "scattergl"
           }
          ],
          "scattermapbox": [
           {
            "marker": {
             "colorbar": {
              "outlinewidth": 0,
              "ticks": ""
             }
            },
            "type": "scattermapbox"
           }
          ],
          "scatterpolar": [
           {
            "marker": {
             "colorbar": {
              "outlinewidth": 0,
              "ticks": ""
             }
            },
            "type": "scatterpolar"
           }
          ],
          "scatterpolargl": [
           {
            "marker": {
             "colorbar": {
              "outlinewidth": 0,
              "ticks": ""
             }
            },
            "type": "scatterpolargl"
           }
          ],
          "scatterternary": [
           {
            "marker": {
             "colorbar": {
              "outlinewidth": 0,
              "ticks": ""
             }
            },
            "type": "scatterternary"
           }
          ],
          "surface": [
           {
            "colorbar": {
             "outlinewidth": 0,
             "ticks": ""
            },
            "colorscale": [
             [
              0,
              "#0d0887"
             ],
             [
              0.1111111111111111,
              "#46039f"
             ],
             [
              0.2222222222222222,
              "#7201a8"
             ],
             [
              0.3333333333333333,
              "#9c179e"
             ],
             [
              0.4444444444444444,
              "#bd3786"
             ],
             [
              0.5555555555555556,
              "#d8576b"
             ],
             [
              0.6666666666666666,
              "#ed7953"
             ],
             [
              0.7777777777777778,
              "#fb9f3a"
             ],
             [
              0.8888888888888888,
              "#fdca26"
             ],
             [
              1,
              "#f0f921"
             ]
            ],
            "type": "surface"
           }
          ],
          "table": [
           {
            "cells": {
             "fill": {
              "color": "#EBF0F8"
             },
             "line": {
              "color": "white"
             }
            },
            "header": {
             "fill": {
              "color": "#C8D4E3"
             },
             "line": {
              "color": "white"
             }
            },
            "type": "table"
           }
          ]
         },
         "layout": {
          "annotationdefaults": {
           "arrowcolor": "#2a3f5f",
           "arrowhead": 0,
           "arrowwidth": 1
          },
          "autotypenumbers": "strict",
          "coloraxis": {
           "colorbar": {
            "outlinewidth": 0,
            "ticks": ""
           }
          },
          "colorscale": {
           "diverging": [
            [
             0,
             "#8e0152"
            ],
            [
             0.1,
             "#c51b7d"
            ],
            [
             0.2,
             "#de77ae"
            ],
            [
             0.3,
             "#f1b6da"
            ],
            [
             0.4,
             "#fde0ef"
            ],
            [
             0.5,
             "#f7f7f7"
            ],
            [
             0.6,
             "#e6f5d0"
            ],
            [
             0.7,
             "#b8e186"
            ],
            [
             0.8,
             "#7fbc41"
            ],
            [
             0.9,
             "#4d9221"
            ],
            [
             1,
             "#276419"
            ]
           ],
           "sequential": [
            [
             0,
             "#0d0887"
            ],
            [
             0.1111111111111111,
             "#46039f"
            ],
            [
             0.2222222222222222,
             "#7201a8"
            ],
            [
             0.3333333333333333,
             "#9c179e"
            ],
            [
             0.4444444444444444,
             "#bd3786"
            ],
            [
             0.5555555555555556,
             "#d8576b"
            ],
            [
             0.6666666666666666,
             "#ed7953"
            ],
            [
             0.7777777777777778,
             "#fb9f3a"
            ],
            [
             0.8888888888888888,
             "#fdca26"
            ],
            [
             1,
             "#f0f921"
            ]
           ],
           "sequentialminus": [
            [
             0,
             "#0d0887"
            ],
            [
             0.1111111111111111,
             "#46039f"
            ],
            [
             0.2222222222222222,
             "#7201a8"
            ],
            [
             0.3333333333333333,
             "#9c179e"
            ],
            [
             0.4444444444444444,
             "#bd3786"
            ],
            [
             0.5555555555555556,
             "#d8576b"
            ],
            [
             0.6666666666666666,
             "#ed7953"
            ],
            [
             0.7777777777777778,
             "#fb9f3a"
            ],
            [
             0.8888888888888888,
             "#fdca26"
            ],
            [
             1,
             "#f0f921"
            ]
           ]
          },
          "colorway": [
           "#636efa",
           "#EF553B",
           "#00cc96",
           "#ab63fa",
           "#FFA15A",
           "#19d3f3",
           "#FF6692",
           "#B6E880",
           "#FF97FF",
           "#FECB52"
          ],
          "font": {
           "color": "#2a3f5f"
          },
          "geo": {
           "bgcolor": "white",
           "lakecolor": "white",
           "landcolor": "#E5ECF6",
           "showlakes": true,
           "showland": true,
           "subunitcolor": "white"
          },
          "hoverlabel": {
           "align": "left"
          },
          "hovermode": "closest",
          "mapbox": {
           "style": "light"
          },
          "paper_bgcolor": "white",
          "plot_bgcolor": "#E5ECF6",
          "polar": {
           "angularaxis": {
            "gridcolor": "white",
            "linecolor": "white",
            "ticks": ""
           },
           "bgcolor": "#E5ECF6",
           "radialaxis": {
            "gridcolor": "white",
            "linecolor": "white",
            "ticks": ""
           }
          },
          "scene": {
           "xaxis": {
            "backgroundcolor": "#E5ECF6",
            "gridcolor": "white",
            "gridwidth": 2,
            "linecolor": "white",
            "showbackground": true,
            "ticks": "",
            "zerolinecolor": "white"
           },
           "yaxis": {
            "backgroundcolor": "#E5ECF6",
            "gridcolor": "white",
            "gridwidth": 2,
            "linecolor": "white",
            "showbackground": true,
            "ticks": "",
            "zerolinecolor": "white"
           },
           "zaxis": {
            "backgroundcolor": "#E5ECF6",
            "gridcolor": "white",
            "gridwidth": 2,
            "linecolor": "white",
            "showbackground": true,
            "ticks": "",
            "zerolinecolor": "white"
           }
          },
          "shapedefaults": {
           "line": {
            "color": "#2a3f5f"
           }
          },
          "ternary": {
           "aaxis": {
            "gridcolor": "white",
            "linecolor": "white",
            "ticks": ""
           },
           "baxis": {
            "gridcolor": "white",
            "linecolor": "white",
            "ticks": ""
           },
           "bgcolor": "#E5ECF6",
           "caxis": {
            "gridcolor": "white",
            "linecolor": "white",
            "ticks": ""
           }
          },
          "title": {
           "x": 0.05
          },
          "xaxis": {
           "automargin": true,
           "gridcolor": "white",
           "linecolor": "white",
           "ticks": "",
           "title": {
            "standoff": 15
           },
           "zerolinecolor": "white",
           "zerolinewidth": 2
          },
          "yaxis": {
           "automargin": true,
           "gridcolor": "white",
           "linecolor": "white",
           "ticks": "",
           "title": {
            "standoff": 15
           },
           "zerolinecolor": "white",
           "zerolinewidth": 2
          }
         }
        },
        "title": {
         "font": {
          "color": "#4D5663"
         }
        },
        "xaxis": {
         "gridcolor": "#E1E5ED",
         "showgrid": true,
         "tickfont": {
          "color": "#4D5663"
         },
         "title": {
          "font": {
           "color": "#4D5663"
          },
          "text": ""
         },
         "zerolinecolor": "#E1E5ED"
        },
        "yaxis": {
         "gridcolor": "#E1E5ED",
         "showgrid": true,
         "tickfont": {
          "color": "#4D5663"
         },
         "title": {
          "font": {
           "color": "#4D5663"
          },
          "text": ""
         },
         "zerolinecolor": "#E1E5ED"
        }
       }
      },
      "text/html": [
       "<div>                            <div id=\"12b12696-5691-4785-a2c1-51fce97e1c98\" class=\"plotly-graph-div\" style=\"height:525px; width:100%;\"></div>            <script type=\"text/javascript\">                require([\"plotly\"], function(Plotly) {                    window.PLOTLYENV=window.PLOTLYENV || {};\n",
       "                    window.PLOTLYENV.BASE_URL='https://plot.ly';                                    if (document.getElementById(\"12b12696-5691-4785-a2c1-51fce97e1c98\")) {                    Plotly.newPlot(                        \"12b12696-5691-4785-a2c1-51fce97e1c98\",                        [{\"marker\":{\"color\":[\"rgb(255, 153, 51)\",\"rgb(55, 128, 191)\",\"rgb(50, 171, 96)\",\"rgb(128, 0, 128)\",\"rgb(219, 64, 82)\",\"rgb(0, 128, 128)\",\"rgb(255, 255, 51)\",\"rgb(128, 128, 0)\",\"rgb(251, 128, 114)\",\"rgb(128, 177, 211)\"],\"line\":{\"width\":1.3},\"size\":[64,46,18,71,57,57,43,49,46,97,76,81,92,65,49,54,68,58,112,106,76,81,79,32,71,65,58,90,56,59,73,47,90,75,47,53,82,59,88,50,99,63,45,81,61,54,89,53,89,61,76,54,39,57,106,58,94,92,74,90,66,64,62,42,68,57,92,87,93,63,61,94,53,36,22,73,67,74,44,98,66,49,48,46,67,79,24,12,39,64,49,66,85,83,73,46,56,68,45,82],\"symbol\":\"circle\"},\"mode\":\"markers\",\"text\":\"\",\"type\":\"scatter\",\"x\":[0.18337390211043783,0.2577404769175627,-0.39940465232467737,0.194298848170503,0.34196496904498935,-0.6377170807139307,-1.049758108993871,0.49300518799557336,0.028811941662308698,-1.6269205354091907,-0.5202694534605817,-0.16098816834008395,0.05160848098571894,0.5364326233078089,0.4378795481417151,-0.03756114724023949,0.28914666492343494,-0.03814971702482578,1.1504709154224924,-0.7412218639075389,0.42086582271660816,0.9009691688219829,1.0400314771630996,-1.372257148733933,-0.4355821151470618,-0.09938130947803488,-0.9491201685059797,-0.8600172231155638,-0.7362359562302916,-0.1430515701566955,-0.617813406266883,-0.28055737559377186,0.46932264288215353,0.1514629997731117,-0.6583950527318917,-0.26662490652025683,0.5093904738392812,0.12592079431582454,1.1508237867549065,1.3284069604847262,-0.8627769007465207,-1.0231645951528927,-1.2276778357296108,-1.1730477649540723,1.6063794992902511,-0.023057504024252704,-0.01960344616633247,-1.0409575465574499,0.5256968428705312,0.5633261139142187,-1.277429648427179,-0.8594207760740425,-0.806527698662659,-1.3223242506953758,1.3971352314374699,0.3631614499519548,0.19128780513812077,0.39550446961128843,1.317416404924919,0.2756482721294413,0.9479537637621035,0.26781448001741226,1.2863595640654364,1.0377301080259809,0.18731377850380862,0.8097847708703942,0.21174695841002827,-0.7233239976517987,-0.2877696122095113,-1.2224779263270227,1.2959808963832966,1.2980313763074227,-0.4516678608167582,0.7301014683457027,-0.9165040725691428,-1.7967471408255278,0.09604702398927319,-0.8605396305059785,-0.972811531987986,-0.7769208316082751,2.02672405942737,-1.2194940629705828,-0.6034537463065365,-1.3731528380456066,0.478397263066975,0.3532628705494607,1.0128502952860179,-0.3372046017404665,-0.12940898816063387,-1.622834708604428,0.6955740306917982,0.048620002313087676,-1.8922763025622593,-2.368987592395905,-0.290907389966216,-0.19595573626291243,0.6964336785010147,0.9147274409544851,-0.6849847790150455,0.17976801555813846],\"y\":[-2.070372363174357,1.9871349625586698,0.44711385640110934,-0.1362509032529231,-0.8847481240368797,-0.3005585206574886,-0.4577370292878276,1.1257225790814913,1.6515424424291352,-1.1639372746696197,-0.4900512762265639,-0.9183246527863396,-0.5898528388193658,-1.9828423762964589,1.9251031300815986,-0.8516206949989477,-0.15077106194697446,0.39095318163453546,-0.04605799383381456,0.13106206252913166,-0.4492203115833142,0.8614098734884785,-0.30181904964322304,1.4124315275404664,1.2928582774051667,0.08553156946078898,-1.5202409642832018,-1.2972509965846963,-0.2554031732774126,1.1700927343793435,-1.4436089799837097,1.772822591539189,1.0437749024442213,-0.8655170969412663,0.07470374986811237,0.19696979466097256,0.71748915045575,0.5493037055770226,0.792387270172692,0.4388182367525948,0.8343802553032624,-0.27411066445450055,-0.759132779704796,-0.5510511505395224,0.7010550007848114,0.7436324676228472,-0.8167506411613927,-0.8309399064145929,-0.48367397638508636,0.40109935333422264,0.14717905622379798,0.4035364305538702,-1.4376361064073133,0.884504560227829,0.0756105825725042,1.3027235848809706,-0.410445635139286,1.664269298035139,0.8046955068796645,-1.608477203721027,0.11905357356672844,-0.8362872444628309,-1.0394082418010007,1.4718633565264032,0.3949671088451408,0.21605324037427268,-0.26067877739383255,0.20558921783396097,0.43336888717474037,-0.1724582369969408,-0.8898077313946257,-0.7966001330099107,-1.9096285209970933,-0.6234503963821106,-0.7492278502366498,-0.3937069363627399,0.4764640049465655,-0.0317529356831129,-1.2467218127574538,1.4515849281312752,1.0601562766774255,0.011700845601488541,-0.7004541496592039,0.2487099113720825,1.3953319784837215,0.8170929436416009,-1.093574826202585,-1.5190998335113597,1.565582460077773,0.6003738353358095,0.48003413782184207,-0.8768051319567273,1.1653769552823892,-0.09369210118747875,-1.236308547878392,1.069663761619053,-0.5090666413472539,0.5484467083147206,1.4116269424540293,1.4288779803279275]}],                        {\"legend\":{\"bgcolor\":\"#F5F6F9\",\"font\":{\"color\":\"#4D5663\"}},\"paper_bgcolor\":\"#F5F6F9\",\"plot_bgcolor\":\"#F5F6F9\",\"template\":{\"data\":{\"bar\":[{\"error_x\":{\"color\":\"#2a3f5f\"},\"error_y\":{\"color\":\"#2a3f5f\"},\"marker\":{\"line\":{\"color\":\"#E5ECF6\",\"width\":0.5},\"pattern\":{\"fillmode\":\"overlay\",\"size\":10,\"solidity\":0.2}},\"type\":\"bar\"}],\"barpolar\":[{\"marker\":{\"line\":{\"color\":\"#E5ECF6\",\"width\":0.5},\"pattern\":{\"fillmode\":\"overlay\",\"size\":10,\"solidity\":0.2}},\"type\":\"barpolar\"}],\"carpet\":[{\"aaxis\":{\"endlinecolor\":\"#2a3f5f\",\"gridcolor\":\"white\",\"linecolor\":\"white\",\"minorgridcolor\":\"white\",\"startlinecolor\":\"#2a3f5f\"},\"baxis\":{\"endlinecolor\":\"#2a3f5f\",\"gridcolor\":\"white\",\"linecolor\":\"white\",\"minorgridcolor\":\"white\",\"startlinecolor\":\"#2a3f5f\"},\"type\":\"carpet\"}],\"choropleth\":[{\"colorbar\":{\"outlinewidth\":0,\"ticks\":\"\"},\"type\":\"choropleth\"}],\"contour\":[{\"colorbar\":{\"outlinewidth\":0,\"ticks\":\"\"},\"colorscale\":[[0.0,\"#0d0887\"],[0.1111111111111111,\"#46039f\"],[0.2222222222222222,\"#7201a8\"],[0.3333333333333333,\"#9c179e\"],[0.4444444444444444,\"#bd3786\"],[0.5555555555555556,\"#d8576b\"],[0.6666666666666666,\"#ed7953\"],[0.7777777777777778,\"#fb9f3a\"],[0.8888888888888888,\"#fdca26\"],[1.0,\"#f0f921\"]],\"type\":\"contour\"}],\"contourcarpet\":[{\"colorbar\":{\"outlinewidth\":0,\"ticks\":\"\"},\"type\":\"contourcarpet\"}],\"heatmap\":[{\"colorbar\":{\"outlinewidth\":0,\"ticks\":\"\"},\"colorscale\":[[0.0,\"#0d0887\"],[0.1111111111111111,\"#46039f\"],[0.2222222222222222,\"#7201a8\"],[0.3333333333333333,\"#9c179e\"],[0.4444444444444444,\"#bd3786\"],[0.5555555555555556,\"#d8576b\"],[0.6666666666666666,\"#ed7953\"],[0.7777777777777778,\"#fb9f3a\"],[0.8888888888888888,\"#fdca26\"],[1.0,\"#f0f921\"]],\"type\":\"heatmap\"}],\"heatmapgl\":[{\"colorbar\":{\"outlinewidth\":0,\"ticks\":\"\"},\"colorscale\":[[0.0,\"#0d0887\"],[0.1111111111111111,\"#46039f\"],[0.2222222222222222,\"#7201a8\"],[0.3333333333333333,\"#9c179e\"],[0.4444444444444444,\"#bd3786\"],[0.5555555555555556,\"#d8576b\"],[0.6666666666666666,\"#ed7953\"],[0.7777777777777778,\"#fb9f3a\"],[0.8888888888888888,\"#fdca26\"],[1.0,\"#f0f921\"]],\"type\":\"heatmapgl\"}],\"histogram\":[{\"marker\":{\"pattern\":{\"fillmode\":\"overlay\",\"size\":10,\"solidity\":0.2}},\"type\":\"histogram\"}],\"histogram2d\":[{\"colorbar\":{\"outlinewidth\":0,\"ticks\":\"\"},\"colorscale\":[[0.0,\"#0d0887\"],[0.1111111111111111,\"#46039f\"],[0.2222222222222222,\"#7201a8\"],[0.3333333333333333,\"#9c179e\"],[0.4444444444444444,\"#bd3786\"],[0.5555555555555556,\"#d8576b\"],[0.6666666666666666,\"#ed7953\"],[0.7777777777777778,\"#fb9f3a\"],[0.8888888888888888,\"#fdca26\"],[1.0,\"#f0f921\"]],\"type\":\"histogram2d\"}],\"histogram2dcontour\":[{\"colorbar\":{\"outlinewidth\":0,\"ticks\":\"\"},\"colorscale\":[[0.0,\"#0d0887\"],[0.1111111111111111,\"#46039f\"],[0.2222222222222222,\"#7201a8\"],[0.3333333333333333,\"#9c179e\"],[0.4444444444444444,\"#bd3786\"],[0.5555555555555556,\"#d8576b\"],[0.6666666666666666,\"#ed7953\"],[0.7777777777777778,\"#fb9f3a\"],[0.8888888888888888,\"#fdca26\"],[1.0,\"#f0f921\"]],\"type\":\"histogram2dcontour\"}],\"mesh3d\":[{\"colorbar\":{\"outlinewidth\":0,\"ticks\":\"\"},\"type\":\"mesh3d\"}],\"parcoords\":[{\"line\":{\"colorbar\":{\"outlinewidth\":0,\"ticks\":\"\"}},\"type\":\"parcoords\"}],\"pie\":[{\"automargin\":true,\"type\":\"pie\"}],\"scatter\":[{\"marker\":{\"colorbar\":{\"outlinewidth\":0,\"ticks\":\"\"}},\"type\":\"scatter\"}],\"scatter3d\":[{\"line\":{\"colorbar\":{\"outlinewidth\":0,\"ticks\":\"\"}},\"marker\":{\"colorbar\":{\"outlinewidth\":0,\"ticks\":\"\"}},\"type\":\"scatter3d\"}],\"scattercarpet\":[{\"marker\":{\"colorbar\":{\"outlinewidth\":0,\"ticks\":\"\"}},\"type\":\"scattercarpet\"}],\"scattergeo\":[{\"marker\":{\"colorbar\":{\"outlinewidth\":0,\"ticks\":\"\"}},\"type\":\"scattergeo\"}],\"scattergl\":[{\"marker\":{\"colorbar\":{\"outlinewidth\":0,\"ticks\":\"\"}},\"type\":\"scattergl\"}],\"scattermapbox\":[{\"marker\":{\"colorbar\":{\"outlinewidth\":0,\"ticks\":\"\"}},\"type\":\"scattermapbox\"}],\"scatterpolar\":[{\"marker\":{\"colorbar\":{\"outlinewidth\":0,\"ticks\":\"\"}},\"type\":\"scatterpolar\"}],\"scatterpolargl\":[{\"marker\":{\"colorbar\":{\"outlinewidth\":0,\"ticks\":\"\"}},\"type\":\"scatterpolargl\"}],\"scatterternary\":[{\"marker\":{\"colorbar\":{\"outlinewidth\":0,\"ticks\":\"\"}},\"type\":\"scatterternary\"}],\"surface\":[{\"colorbar\":{\"outlinewidth\":0,\"ticks\":\"\"},\"colorscale\":[[0.0,\"#0d0887\"],[0.1111111111111111,\"#46039f\"],[0.2222222222222222,\"#7201a8\"],[0.3333333333333333,\"#9c179e\"],[0.4444444444444444,\"#bd3786\"],[0.5555555555555556,\"#d8576b\"],[0.6666666666666666,\"#ed7953\"],[0.7777777777777778,\"#fb9f3a\"],[0.8888888888888888,\"#fdca26\"],[1.0,\"#f0f921\"]],\"type\":\"surface\"}],\"table\":[{\"cells\":{\"fill\":{\"color\":\"#EBF0F8\"},\"line\":{\"color\":\"white\"}},\"header\":{\"fill\":{\"color\":\"#C8D4E3\"},\"line\":{\"color\":\"white\"}},\"type\":\"table\"}]},\"layout\":{\"annotationdefaults\":{\"arrowcolor\":\"#2a3f5f\",\"arrowhead\":0,\"arrowwidth\":1},\"autotypenumbers\":\"strict\",\"coloraxis\":{\"colorbar\":{\"outlinewidth\":0,\"ticks\":\"\"}},\"colorscale\":{\"diverging\":[[0,\"#8e0152\"],[0.1,\"#c51b7d\"],[0.2,\"#de77ae\"],[0.3,\"#f1b6da\"],[0.4,\"#fde0ef\"],[0.5,\"#f7f7f7\"],[0.6,\"#e6f5d0\"],[0.7,\"#b8e186\"],[0.8,\"#7fbc41\"],[0.9,\"#4d9221\"],[1,\"#276419\"]],\"sequential\":[[0.0,\"#0d0887\"],[0.1111111111111111,\"#46039f\"],[0.2222222222222222,\"#7201a8\"],[0.3333333333333333,\"#9c179e\"],[0.4444444444444444,\"#bd3786\"],[0.5555555555555556,\"#d8576b\"],[0.6666666666666666,\"#ed7953\"],[0.7777777777777778,\"#fb9f3a\"],[0.8888888888888888,\"#fdca26\"],[1.0,\"#f0f921\"]],\"sequentialminus\":[[0.0,\"#0d0887\"],[0.1111111111111111,\"#46039f\"],[0.2222222222222222,\"#7201a8\"],[0.3333333333333333,\"#9c179e\"],[0.4444444444444444,\"#bd3786\"],[0.5555555555555556,\"#d8576b\"],[0.6666666666666666,\"#ed7953\"],[0.7777777777777778,\"#fb9f3a\"],[0.8888888888888888,\"#fdca26\"],[1.0,\"#f0f921\"]]},\"colorway\":[\"#636efa\",\"#EF553B\",\"#00cc96\",\"#ab63fa\",\"#FFA15A\",\"#19d3f3\",\"#FF6692\",\"#B6E880\",\"#FF97FF\",\"#FECB52\"],\"font\":{\"color\":\"#2a3f5f\"},\"geo\":{\"bgcolor\":\"white\",\"lakecolor\":\"white\",\"landcolor\":\"#E5ECF6\",\"showlakes\":true,\"showland\":true,\"subunitcolor\":\"white\"},\"hoverlabel\":{\"align\":\"left\"},\"hovermode\":\"closest\",\"mapbox\":{\"style\":\"light\"},\"paper_bgcolor\":\"white\",\"plot_bgcolor\":\"#E5ECF6\",\"polar\":{\"angularaxis\":{\"gridcolor\":\"white\",\"linecolor\":\"white\",\"ticks\":\"\"},\"bgcolor\":\"#E5ECF6\",\"radialaxis\":{\"gridcolor\":\"white\",\"linecolor\":\"white\",\"ticks\":\"\"}},\"scene\":{\"xaxis\":{\"backgroundcolor\":\"#E5ECF6\",\"gridcolor\":\"white\",\"gridwidth\":2,\"linecolor\":\"white\",\"showbackground\":true,\"ticks\":\"\",\"zerolinecolor\":\"white\"},\"yaxis\":{\"backgroundcolor\":\"#E5ECF6\",\"gridcolor\":\"white\",\"gridwidth\":2,\"linecolor\":\"white\",\"showbackground\":true,\"ticks\":\"\",\"zerolinecolor\":\"white\"},\"zaxis\":{\"backgroundcolor\":\"#E5ECF6\",\"gridcolor\":\"white\",\"gridwidth\":2,\"linecolor\":\"white\",\"showbackground\":true,\"ticks\":\"\",\"zerolinecolor\":\"white\"}},\"shapedefaults\":{\"line\":{\"color\":\"#2a3f5f\"}},\"ternary\":{\"aaxis\":{\"gridcolor\":\"white\",\"linecolor\":\"white\",\"ticks\":\"\"},\"baxis\":{\"gridcolor\":\"white\",\"linecolor\":\"white\",\"ticks\":\"\"},\"bgcolor\":\"#E5ECF6\",\"caxis\":{\"gridcolor\":\"white\",\"linecolor\":\"white\",\"ticks\":\"\"}},\"title\":{\"x\":0.05},\"xaxis\":{\"automargin\":true,\"gridcolor\":\"white\",\"linecolor\":\"white\",\"ticks\":\"\",\"title\":{\"standoff\":15},\"zerolinecolor\":\"white\",\"zerolinewidth\":2},\"yaxis\":{\"automargin\":true,\"gridcolor\":\"white\",\"linecolor\":\"white\",\"ticks\":\"\",\"title\":{\"standoff\":15},\"zerolinecolor\":\"white\",\"zerolinewidth\":2}}},\"title\":{\"font\":{\"color\":\"#4D5663\"}},\"xaxis\":{\"gridcolor\":\"#E1E5ED\",\"showgrid\":true,\"tickfont\":{\"color\":\"#4D5663\"},\"title\":{\"font\":{\"color\":\"#4D5663\"},\"text\":\"\"},\"zerolinecolor\":\"#E1E5ED\"},\"yaxis\":{\"gridcolor\":\"#E1E5ED\",\"showgrid\":true,\"tickfont\":{\"color\":\"#4D5663\"},\"title\":{\"font\":{\"color\":\"#4D5663\"},\"text\":\"\"},\"zerolinecolor\":\"#E1E5ED\"}},                        {\"showLink\": true, \"linkText\": \"Export to plot.ly\", \"plotlyServerURL\": \"https://plot.ly\", \"responsive\": true}                    ).then(function(){\n",
       "                            \n",
       "var gd = document.getElementById('12b12696-5691-4785-a2c1-51fce97e1c98');\n",
       "var x = new MutationObserver(function (mutations, observer) {{\n",
       "        var display = window.getComputedStyle(gd).display;\n",
       "        if (!display || display === 'none') {{\n",
       "            console.log([gd, 'removed!']);\n",
       "            Plotly.purge(gd);\n",
       "            observer.disconnect();\n",
       "        }}\n",
       "}});\n",
       "\n",
       "// Listen for the removal of the full notebook cells\n",
       "var notebookContainer = gd.closest('#notebook-container');\n",
       "if (notebookContainer) {{\n",
       "    x.observe(notebookContainer, {childList: true});\n",
       "}}\n",
       "\n",
       "// Listen for the clearing of the current output cell\n",
       "var outputEl = gd.closest('.output');\n",
       "if (outputEl) {{\n",
       "    x.observe(outputEl, {childList: true});\n",
       "}}\n",
       "\n",
       "                        })                };                });            </script>        </div>"
      ]
     },
     "metadata": {},
     "output_type": "display_data"
    }
   ],
   "source": [
    "df.iplot(kind='bubble',x='A',y='B',size='C')"
   ]
  },
  {
   "cell_type": "markdown",
   "metadata": {},
   "source": [
    "## scatter_matrix()\n",
    "\n",
    "Similar to sns.pairplot()"
   ]
  },
  {
   "cell_type": "code",
   "execution_count": 20,
   "metadata": {},
   "outputs": [
    {
     "data": {
      "application/vnd.plotly.v1+json": {
       "config": {
        "linkText": "Export to plot.ly",
        "plotlyServerURL": "https://plot.ly",
        "showLink": true
       },
       "data": [
        {
         "histfunc": "count",
         "histnorm": "",
         "marker": {
          "color": "rgba(255, 153, 51, 1.0)",
          "line": {
           "color": "#4D5663",
           "width": 1.3
          }
         },
         "name": "A",
         "nbinsx": 10,
         "opacity": 0.8,
         "orientation": "v",
         "type": "histogram",
         "x": [
          0.18337390211043783,
          0.2577404769175627,
          -0.39940465232467737,
          0.194298848170503,
          0.34196496904498935,
          -0.6377170807139307,
          -1.049758108993871,
          0.49300518799557336,
          0.028811941662308698,
          -1.6269205354091907,
          -0.5202694534605817,
          -0.16098816834008395,
          0.05160848098571894,
          0.5364326233078089,
          0.4378795481417151,
          -0.03756114724023949,
          0.28914666492343494,
          -0.03814971702482578,
          1.1504709154224924,
          -0.7412218639075389,
          0.42086582271660816,
          0.9009691688219829,
          1.0400314771630996,
          -1.372257148733933,
          -0.4355821151470618,
          -0.09938130947803488,
          -0.9491201685059797,
          -0.8600172231155638,
          -0.7362359562302916,
          -0.1430515701566955,
          -0.617813406266883,
          -0.28055737559377186,
          0.46932264288215353,
          0.1514629997731117,
          -0.6583950527318917,
          -0.26662490652025683,
          0.5093904738392812,
          0.12592079431582454,
          1.1508237867549065,
          1.3284069604847262,
          -0.8627769007465207,
          -1.0231645951528927,
          -1.2276778357296108,
          -1.1730477649540723,
          1.6063794992902511,
          -0.023057504024252704,
          -0.01960344616633247,
          -1.0409575465574499,
          0.5256968428705312,
          0.5633261139142187,
          -1.277429648427179,
          -0.8594207760740425,
          -0.806527698662659,
          -1.3223242506953758,
          1.3971352314374699,
          0.3631614499519548,
          0.19128780513812077,
          0.39550446961128843,
          1.317416404924919,
          0.2756482721294413,
          0.9479537637621035,
          0.26781448001741226,
          1.2863595640654364,
          1.0377301080259809,
          0.18731377850380862,
          0.8097847708703942,
          0.21174695841002827,
          -0.7233239976517987,
          -0.2877696122095113,
          -1.2224779263270227,
          1.2959808963832966,
          1.2980313763074227,
          -0.4516678608167582,
          0.7301014683457027,
          -0.9165040725691428,
          -1.7967471408255278,
          0.09604702398927319,
          -0.8605396305059785,
          -0.972811531987986,
          -0.7769208316082751,
          2.02672405942737,
          -1.2194940629705828,
          -0.6034537463065365,
          -1.3731528380456066,
          0.478397263066975,
          0.3532628705494607,
          1.0128502952860179,
          -0.3372046017404665,
          -0.12940898816063387,
          -1.622834708604428,
          0.6955740306917982,
          0.048620002313087676,
          -1.8922763025622593,
          -2.368987592395905,
          -0.290907389966216,
          -0.19595573626291243,
          0.6964336785010147,
          0.9147274409544851,
          -0.6849847790150455,
          0.17976801555813846
         ],
         "xaxis": "x",
         "yaxis": "y"
        },
        {
         "line": {
          "color": "rgba(128, 128, 128, 1.0)",
          "dash": "solid",
          "shape": "linear",
          "width": 1.3
         },
         "marker": {
          "size": 2,
          "symbol": "circle"
         },
         "mode": "markers",
         "name": "A",
         "text": "",
         "type": "scatter",
         "x": [
          -2.070372363174357,
          1.9871349625586698,
          0.44711385640110934,
          -0.1362509032529231,
          -0.8847481240368797,
          -0.3005585206574886,
          -0.4577370292878276,
          1.1257225790814913,
          1.6515424424291352,
          -1.1639372746696197,
          -0.4900512762265639,
          -0.9183246527863396,
          -0.5898528388193658,
          -1.9828423762964589,
          1.9251031300815986,
          -0.8516206949989477,
          -0.15077106194697446,
          0.39095318163453546,
          -0.04605799383381456,
          0.13106206252913166,
          -0.4492203115833142,
          0.8614098734884785,
          -0.30181904964322304,
          1.4124315275404664,
          1.2928582774051667,
          0.08553156946078898,
          -1.5202409642832018,
          -1.2972509965846963,
          -0.2554031732774126,
          1.1700927343793435,
          -1.4436089799837097,
          1.772822591539189,
          1.0437749024442213,
          -0.8655170969412663,
          0.07470374986811237,
          0.19696979466097256,
          0.71748915045575,
          0.5493037055770226,
          0.792387270172692,
          0.4388182367525948,
          0.8343802553032624,
          -0.27411066445450055,
          -0.759132779704796,
          -0.5510511505395224,
          0.7010550007848114,
          0.7436324676228472,
          -0.8167506411613927,
          -0.8309399064145929,
          -0.48367397638508636,
          0.40109935333422264,
          0.14717905622379798,
          0.4035364305538702,
          -1.4376361064073133,
          0.884504560227829,
          0.0756105825725042,
          1.3027235848809706,
          -0.410445635139286,
          1.664269298035139,
          0.8046955068796645,
          -1.608477203721027,
          0.11905357356672844,
          -0.8362872444628309,
          -1.0394082418010007,
          1.4718633565264032,
          0.3949671088451408,
          0.21605324037427268,
          -0.26067877739383255,
          0.20558921783396097,
          0.43336888717474037,
          -0.1724582369969408,
          -0.8898077313946257,
          -0.7966001330099107,
          -1.9096285209970933,
          -0.6234503963821106,
          -0.7492278502366498,
          -0.3937069363627399,
          0.4764640049465655,
          -0.0317529356831129,
          -1.2467218127574538,
          1.4515849281312752,
          1.0601562766774255,
          0.011700845601488541,
          -0.7004541496592039,
          0.2487099113720825,
          1.3953319784837215,
          0.8170929436416009,
          -1.093574826202585,
          -1.5190998335113597,
          1.565582460077773,
          0.6003738353358095,
          0.48003413782184207,
          -0.8768051319567273,
          1.1653769552823892,
          -0.09369210118747875,
          -1.236308547878392,
          1.069663761619053,
          -0.5090666413472539,
          0.5484467083147206,
          1.4116269424540293,
          1.4288779803279275
         ],
         "xaxis": "x2",
         "y": [
          0.18337390211043783,
          0.2577404769175627,
          -0.39940465232467737,
          0.194298848170503,
          0.34196496904498935,
          -0.6377170807139307,
          -1.049758108993871,
          0.49300518799557336,
          0.028811941662308698,
          -1.6269205354091907,
          -0.5202694534605817,
          -0.16098816834008395,
          0.05160848098571894,
          0.5364326233078089,
          0.4378795481417151,
          -0.03756114724023949,
          0.28914666492343494,
          -0.03814971702482578,
          1.1504709154224924,
          -0.7412218639075389,
          0.42086582271660816,
          0.9009691688219829,
          1.0400314771630996,
          -1.372257148733933,
          -0.4355821151470618,
          -0.09938130947803488,
          -0.9491201685059797,
          -0.8600172231155638,
          -0.7362359562302916,
          -0.1430515701566955,
          -0.617813406266883,
          -0.28055737559377186,
          0.46932264288215353,
          0.1514629997731117,
          -0.6583950527318917,
          -0.26662490652025683,
          0.5093904738392812,
          0.12592079431582454,
          1.1508237867549065,
          1.3284069604847262,
          -0.8627769007465207,
          -1.0231645951528927,
          -1.2276778357296108,
          -1.1730477649540723,
          1.6063794992902511,
          -0.023057504024252704,
          -0.01960344616633247,
          -1.0409575465574499,
          0.5256968428705312,
          0.5633261139142187,
          -1.277429648427179,
          -0.8594207760740425,
          -0.806527698662659,
          -1.3223242506953758,
          1.3971352314374699,
          0.3631614499519548,
          0.19128780513812077,
          0.39550446961128843,
          1.317416404924919,
          0.2756482721294413,
          0.9479537637621035,
          0.26781448001741226,
          1.2863595640654364,
          1.0377301080259809,
          0.18731377850380862,
          0.8097847708703942,
          0.21174695841002827,
          -0.7233239976517987,
          -0.2877696122095113,
          -1.2224779263270227,
          1.2959808963832966,
          1.2980313763074227,
          -0.4516678608167582,
          0.7301014683457027,
          -0.9165040725691428,
          -1.7967471408255278,
          0.09604702398927319,
          -0.8605396305059785,
          -0.972811531987986,
          -0.7769208316082751,
          2.02672405942737,
          -1.2194940629705828,
          -0.6034537463065365,
          -1.3731528380456066,
          0.478397263066975,
          0.3532628705494607,
          1.0128502952860179,
          -0.3372046017404665,
          -0.12940898816063387,
          -1.622834708604428,
          0.6955740306917982,
          0.048620002313087676,
          -1.8922763025622593,
          -2.368987592395905,
          -0.290907389966216,
          -0.19595573626291243,
          0.6964336785010147,
          0.9147274409544851,
          -0.6849847790150455,
          0.17976801555813846
         ],
         "yaxis": "y2"
        },
        {
         "line": {
          "color": "rgba(128, 128, 128, 1.0)",
          "dash": "solid",
          "shape": "linear",
          "width": 1.3
         },
         "marker": {
          "size": 2,
          "symbol": "circle"
         },
         "mode": "markers",
         "name": "A",
         "text": "",
         "type": "scatter",
         "x": [
          -0.10230251371271422,
          -0.9856164436609978,
          -2.3399000383333437,
          0.2129287217145665,
          -0.47190285990270525,
          -0.4455893739004875,
          -1.1074018197778728,
          -0.8470605012484446,
          -0.9627109543290664,
          1.470073977808318,
          0.47084265356054933,
          0.7108155263744863,
          1.2401437007945428,
          -0.054593330145385206,
          -0.8547017402721327,
          -0.6017006769118647,
          0.054778381869349656,
          -0.4058615198359087,
          2.1756281307509666,
          1.9184151737376318,
          0.44156846411607875,
          0.6910112638382438,
          0.6180384485757757,
          -1.6737460076007349,
          0.24474274221880774,
          -0.05308243547510542,
          -0.3965050268153458,
          1.1158397901214172,
          -0.5191277071590583,
          -0.3742543454169045,
          0.32384098822286733,
          -0.9424240637732767,
          1.1624649454706169,
          0.403125008198161,
          -0.9108548571391996,
          -0.651014853519304,
          0.7594866172513838,
          -0.3692304927976512,
          1.0437660044364991,
          -0.7733794248520502,
          1.5802947319123615,
          -0.16694697346930254,
          -1.0537387547253623,
          0.7013102740251326,
          -0.25754264065038185,
          -0.5983995472437618,
          1.1024279335020388,
          -0.6361436010196305,
          1.0991555577904437,
          -0.23720122737068883,
          0.4422899782991347,
          -0.5988490557671503,
          -1.3346809455137536,
          -0.43122102824485803,
          1.9219788064136207,
          -0.40544130367258896,
          1.3423525215964787,
          1.256244571124063,
          0.3878877159071746,
          1.1382884131961375,
          -0.003257827151230089,
          -0.09878325140987494,
          -0.20378769773266844,
          -1.1522675096066486,
          0.08080163698515844,
          -0.44036771455025914,
          1.233541752252848,
          0.9809443162533105,
          1.2631387206383407,
          -0.14264650094562623,
          -0.28000106089175586,
          1.3415758234101816,
          -0.6239886301883519,
          -1.4500061362097343,
          -2.132568546188851,
          0.2985428090164885,
          0.014505993157389211,
          0.37727125206455775,
          -1.0794649827264955,
          1.505965384769507,
          -0.03716136608344573,
          -0.856448775823809,
          -0.8990139243173874,
          -0.9992424485619582,
          0.031418080681642716,
          0.6138366430139701,
          -2.0588113484633164,
          -2.6456597987520913,
          -1.3327064288424864,
          -0.13244130030483175,
          -0.8487573392629163,
          0.003511668648794605,
          0.8829461215799975,
          0.804021933184372,
          0.29668720205261867,
          -0.9629788026960224,
          -0.47711184392417805,
          0.07439884523606405,
          -1.039320063953802,
          0.7544691806713081
         ],
         "xaxis": "x3",
         "y": [
          0.18337390211043783,
          0.2577404769175627,
          -0.39940465232467737,
          0.194298848170503,
          0.34196496904498935,
          -0.6377170807139307,
          -1.049758108993871,
          0.49300518799557336,
          0.028811941662308698,
          -1.6269205354091907,
          -0.5202694534605817,
          -0.16098816834008395,
          0.05160848098571894,
          0.5364326233078089,
          0.4378795481417151,
          -0.03756114724023949,
          0.28914666492343494,
          -0.03814971702482578,
          1.1504709154224924,
          -0.7412218639075389,
          0.42086582271660816,
          0.9009691688219829,
          1.0400314771630996,
          -1.372257148733933,
          -0.4355821151470618,
          -0.09938130947803488,
          -0.9491201685059797,
          -0.8600172231155638,
          -0.7362359562302916,
          -0.1430515701566955,
          -0.617813406266883,
          -0.28055737559377186,
          0.46932264288215353,
          0.1514629997731117,
          -0.6583950527318917,
          -0.26662490652025683,
          0.5093904738392812,
          0.12592079431582454,
          1.1508237867549065,
          1.3284069604847262,
          -0.8627769007465207,
          -1.0231645951528927,
          -1.2276778357296108,
          -1.1730477649540723,
          1.6063794992902511,
          -0.023057504024252704,
          -0.01960344616633247,
          -1.0409575465574499,
          0.5256968428705312,
          0.5633261139142187,
          -1.277429648427179,
          -0.8594207760740425,
          -0.806527698662659,
          -1.3223242506953758,
          1.3971352314374699,
          0.3631614499519548,
          0.19128780513812077,
          0.39550446961128843,
          1.317416404924919,
          0.2756482721294413,
          0.9479537637621035,
          0.26781448001741226,
          1.2863595640654364,
          1.0377301080259809,
          0.18731377850380862,
          0.8097847708703942,
          0.21174695841002827,
          -0.7233239976517987,
          -0.2877696122095113,
          -1.2224779263270227,
          1.2959808963832966,
          1.2980313763074227,
          -0.4516678608167582,
          0.7301014683457027,
          -0.9165040725691428,
          -1.7967471408255278,
          0.09604702398927319,
          -0.8605396305059785,
          -0.972811531987986,
          -0.7769208316082751,
          2.02672405942737,
          -1.2194940629705828,
          -0.6034537463065365,
          -1.3731528380456066,
          0.478397263066975,
          0.3532628705494607,
          1.0128502952860179,
          -0.3372046017404665,
          -0.12940898816063387,
          -1.622834708604428,
          0.6955740306917982,
          0.048620002313087676,
          -1.8922763025622593,
          -2.368987592395905,
          -0.290907389966216,
          -0.19595573626291243,
          0.6964336785010147,
          0.9147274409544851,
          -0.6849847790150455,
          0.17976801555813846
         ],
         "yaxis": "y3"
        },
        {
         "line": {
          "color": "rgba(128, 128, 128, 1.0)",
          "dash": "solid",
          "shape": "linear",
          "width": 1.3
         },
         "marker": {
          "size": 2,
          "symbol": "circle"
         },
         "mode": "markers",
         "name": "A",
         "text": "",
         "type": "scatter",
         "x": [
          -0.9153771784213612,
          -0.4012924245057284,
          1.0938533103513841,
          -0.05876449087620939,
          -0.8928530670168028,
          0.8931516319027041,
          -1.2122585675519313,
          0.6336739053482365,
          0.6864409540871593,
          -2.450450162325935,
          1.3766362169548811,
          -0.09498972740325429,
          0.018249696688834572,
          0.00838371990785256,
          0.02637371267571218,
          -0.2494784700290381,
          -2.381179415567164,
          -0.8986148420620415,
          -0.6000789066669335,
          0.9901496738837742,
          0.5750403551444729,
          -1.1530766373329144,
          -0.10248929149795707,
          1.2879406999929592,
          0.9340275168061343,
          -0.36629099505249096,
          -0.21971945689411818,
          -2.1794559389850905,
          -1.128600301594586,
          0.38181810365012026,
          -0.3456615896544399,
          1.076840489089549,
          0.9702514291306714,
          -1.129889632834949,
          -1.5237686296693125,
          0.9893442639629663,
          0.02188116620021201,
          -0.3990886268885891,
          -0.26235256642600163,
          -0.9447050028143288,
          0.3285538558596209,
          -0.4949627482678983,
          -1.2410567632788745,
          -0.03117667293720784,
          0.27318088707611077,
          -1.4105882016730553,
          -0.6971444892873604,
          -0.2046839616180518,
          0.21311682457265613,
          0.05648021937646679,
          -1.7821486230559918,
          0.26138035559451905,
          0.9745360424409939,
          -0.46590150404526515,
          1.0163625781591268,
          -1.206430930878384,
          -0.28219484087131047,
          0.3370380040067882,
          -1.174709156907135,
          -0.9937967513245821,
          -1.2103419890348956,
          0.9666256144943123,
          0.7653167310678071,
          -0.5639565361190263,
          1.127287563860516,
          0.4597180739400952,
          0.9611780321994388,
          -0.1274364898935791,
          -3.144384054953149,
          0.3452719343299374,
          1.0108657267279595,
          0.560382773064362,
          -0.34389869715087096,
          -1.4172642705243446,
          -0.5403661751113938,
          1.751483965078072,
          -1.8536007651466044,
          0.7509631080228982,
          -1.3931867910949483,
          3.8348263491846044,
          -0.8803894827348969,
          -0.027395874356677143,
          -1.2836992348042278,
          0.07864063552442437,
          1.764684418462631,
          1.1831678276825883,
          0.3598658647264078,
          1.2684552760340417,
          1.28190870875007,
          1.144415560151816,
          0.08766066909626503,
          -0.15841220047729188,
          0.7748636032208857,
          -0.38719619122350646,
          2.338915126318817,
          0.46867997123726074,
          -0.3425382611596975,
          0.392730431721023,
          1.1755743201772637,
          -0.12158534043582828
         ],
         "xaxis": "x4",
         "y": [
          0.18337390211043783,
          0.2577404769175627,
          -0.39940465232467737,
          0.194298848170503,
          0.34196496904498935,
          -0.6377170807139307,
          -1.049758108993871,
          0.49300518799557336,
          0.028811941662308698,
          -1.6269205354091907,
          -0.5202694534605817,
          -0.16098816834008395,
          0.05160848098571894,
          0.5364326233078089,
          0.4378795481417151,
          -0.03756114724023949,
          0.28914666492343494,
          -0.03814971702482578,
          1.1504709154224924,
          -0.7412218639075389,
          0.42086582271660816,
          0.9009691688219829,
          1.0400314771630996,
          -1.372257148733933,
          -0.4355821151470618,
          -0.09938130947803488,
          -0.9491201685059797,
          -0.8600172231155638,
          -0.7362359562302916,
          -0.1430515701566955,
          -0.617813406266883,
          -0.28055737559377186,
          0.46932264288215353,
          0.1514629997731117,
          -0.6583950527318917,
          -0.26662490652025683,
          0.5093904738392812,
          0.12592079431582454,
          1.1508237867549065,
          1.3284069604847262,
          -0.8627769007465207,
          -1.0231645951528927,
          -1.2276778357296108,
          -1.1730477649540723,
          1.6063794992902511,
          -0.023057504024252704,
          -0.01960344616633247,
          -1.0409575465574499,
          0.5256968428705312,
          0.5633261139142187,
          -1.277429648427179,
          -0.8594207760740425,
          -0.806527698662659,
          -1.3223242506953758,
          1.3971352314374699,
          0.3631614499519548,
          0.19128780513812077,
          0.39550446961128843,
          1.317416404924919,
          0.2756482721294413,
          0.9479537637621035,
          0.26781448001741226,
          1.2863595640654364,
          1.0377301080259809,
          0.18731377850380862,
          0.8097847708703942,
          0.21174695841002827,
          -0.7233239976517987,
          -0.2877696122095113,
          -1.2224779263270227,
          1.2959808963832966,
          1.2980313763074227,
          -0.4516678608167582,
          0.7301014683457027,
          -0.9165040725691428,
          -1.7967471408255278,
          0.09604702398927319,
          -0.8605396305059785,
          -0.972811531987986,
          -0.7769208316082751,
          2.02672405942737,
          -1.2194940629705828,
          -0.6034537463065365,
          -1.3731528380456066,
          0.478397263066975,
          0.3532628705494607,
          1.0128502952860179,
          -0.3372046017404665,
          -0.12940898816063387,
          -1.622834708604428,
          0.6955740306917982,
          0.048620002313087676,
          -1.8922763025622593,
          -2.368987592395905,
          -0.290907389966216,
          -0.19595573626291243,
          0.6964336785010147,
          0.9147274409544851,
          -0.6849847790150455,
          0.17976801555813846
         ],
         "yaxis": "y4"
        },
        {
         "line": {
          "color": "rgba(128, 128, 128, 1.0)",
          "dash": "solid",
          "shape": "linear",
          "width": 1.3
         },
         "marker": {
          "size": 2,
          "symbol": "circle"
         },
         "mode": "markers",
         "name": "B",
         "text": "",
         "type": "scatter",
         "x": [
          0.18337390211043783,
          0.2577404769175627,
          -0.39940465232467737,
          0.194298848170503,
          0.34196496904498935,
          -0.6377170807139307,
          -1.049758108993871,
          0.49300518799557336,
          0.028811941662308698,
          -1.6269205354091907,
          -0.5202694534605817,
          -0.16098816834008395,
          0.05160848098571894,
          0.5364326233078089,
          0.4378795481417151,
          -0.03756114724023949,
          0.28914666492343494,
          -0.03814971702482578,
          1.1504709154224924,
          -0.7412218639075389,
          0.42086582271660816,
          0.9009691688219829,
          1.0400314771630996,
          -1.372257148733933,
          -0.4355821151470618,
          -0.09938130947803488,
          -0.9491201685059797,
          -0.8600172231155638,
          -0.7362359562302916,
          -0.1430515701566955,
          -0.617813406266883,
          -0.28055737559377186,
          0.46932264288215353,
          0.1514629997731117,
          -0.6583950527318917,
          -0.26662490652025683,
          0.5093904738392812,
          0.12592079431582454,
          1.1508237867549065,
          1.3284069604847262,
          -0.8627769007465207,
          -1.0231645951528927,
          -1.2276778357296108,
          -1.1730477649540723,
          1.6063794992902511,
          -0.023057504024252704,
          -0.01960344616633247,
          -1.0409575465574499,
          0.5256968428705312,
          0.5633261139142187,
          -1.277429648427179,
          -0.8594207760740425,
          -0.806527698662659,
          -1.3223242506953758,
          1.3971352314374699,
          0.3631614499519548,
          0.19128780513812077,
          0.39550446961128843,
          1.317416404924919,
          0.2756482721294413,
          0.9479537637621035,
          0.26781448001741226,
          1.2863595640654364,
          1.0377301080259809,
          0.18731377850380862,
          0.8097847708703942,
          0.21174695841002827,
          -0.7233239976517987,
          -0.2877696122095113,
          -1.2224779263270227,
          1.2959808963832966,
          1.2980313763074227,
          -0.4516678608167582,
          0.7301014683457027,
          -0.9165040725691428,
          -1.7967471408255278,
          0.09604702398927319,
          -0.8605396305059785,
          -0.972811531987986,
          -0.7769208316082751,
          2.02672405942737,
          -1.2194940629705828,
          -0.6034537463065365,
          -1.3731528380456066,
          0.478397263066975,
          0.3532628705494607,
          1.0128502952860179,
          -0.3372046017404665,
          -0.12940898816063387,
          -1.622834708604428,
          0.6955740306917982,
          0.048620002313087676,
          -1.8922763025622593,
          -2.368987592395905,
          -0.290907389966216,
          -0.19595573626291243,
          0.6964336785010147,
          0.9147274409544851,
          -0.6849847790150455,
          0.17976801555813846
         ],
         "xaxis": "x5",
         "y": [
          -2.070372363174357,
          1.9871349625586698,
          0.44711385640110934,
          -0.1362509032529231,
          -0.8847481240368797,
          -0.3005585206574886,
          -0.4577370292878276,
          1.1257225790814913,
          1.6515424424291352,
          -1.1639372746696197,
          -0.4900512762265639,
          -0.9183246527863396,
          -0.5898528388193658,
          -1.9828423762964589,
          1.9251031300815986,
          -0.8516206949989477,
          -0.15077106194697446,
          0.39095318163453546,
          -0.04605799383381456,
          0.13106206252913166,
          -0.4492203115833142,
          0.8614098734884785,
          -0.30181904964322304,
          1.4124315275404664,
          1.2928582774051667,
          0.08553156946078898,
          -1.5202409642832018,
          -1.2972509965846963,
          -0.2554031732774126,
          1.1700927343793435,
          -1.4436089799837097,
          1.772822591539189,
          1.0437749024442213,
          -0.8655170969412663,
          0.07470374986811237,
          0.19696979466097256,
          0.71748915045575,
          0.5493037055770226,
          0.792387270172692,
          0.4388182367525948,
          0.8343802553032624,
          -0.27411066445450055,
          -0.759132779704796,
          -0.5510511505395224,
          0.7010550007848114,
          0.7436324676228472,
          -0.8167506411613927,
          -0.8309399064145929,
          -0.48367397638508636,
          0.40109935333422264,
          0.14717905622379798,
          0.4035364305538702,
          -1.4376361064073133,
          0.884504560227829,
          0.0756105825725042,
          1.3027235848809706,
          -0.410445635139286,
          1.664269298035139,
          0.8046955068796645,
          -1.608477203721027,
          0.11905357356672844,
          -0.8362872444628309,
          -1.0394082418010007,
          1.4718633565264032,
          0.3949671088451408,
          0.21605324037427268,
          -0.26067877739383255,
          0.20558921783396097,
          0.43336888717474037,
          -0.1724582369969408,
          -0.8898077313946257,
          -0.7966001330099107,
          -1.9096285209970933,
          -0.6234503963821106,
          -0.7492278502366498,
          -0.3937069363627399,
          0.4764640049465655,
          -0.0317529356831129,
          -1.2467218127574538,
          1.4515849281312752,
          1.0601562766774255,
          0.011700845601488541,
          -0.7004541496592039,
          0.2487099113720825,
          1.3953319784837215,
          0.8170929436416009,
          -1.093574826202585,
          -1.5190998335113597,
          1.565582460077773,
          0.6003738353358095,
          0.48003413782184207,
          -0.8768051319567273,
          1.1653769552823892,
          -0.09369210118747875,
          -1.236308547878392,
          1.069663761619053,
          -0.5090666413472539,
          0.5484467083147206,
          1.4116269424540293,
          1.4288779803279275
         ],
         "yaxis": "y5"
        },
        {
         "histfunc": "count",
         "histnorm": "",
         "marker": {
          "color": "rgba(55, 128, 191, 1.0)",
          "line": {
           "color": "#4D5663",
           "width": 1.3
          }
         },
         "name": "B",
         "nbinsx": 10,
         "opacity": 0.8,
         "orientation": "v",
         "type": "histogram",
         "x": [
          -2.070372363174357,
          1.9871349625586698,
          0.44711385640110934,
          -0.1362509032529231,
          -0.8847481240368797,
          -0.3005585206574886,
          -0.4577370292878276,
          1.1257225790814913,
          1.6515424424291352,
          -1.1639372746696197,
          -0.4900512762265639,
          -0.9183246527863396,
          -0.5898528388193658,
          -1.9828423762964589,
          1.9251031300815986,
          -0.8516206949989477,
          -0.15077106194697446,
          0.39095318163453546,
          -0.04605799383381456,
          0.13106206252913166,
          -0.4492203115833142,
          0.8614098734884785,
          -0.30181904964322304,
          1.4124315275404664,
          1.2928582774051667,
          0.08553156946078898,
          -1.5202409642832018,
          -1.2972509965846963,
          -0.2554031732774126,
          1.1700927343793435,
          -1.4436089799837097,
          1.772822591539189,
          1.0437749024442213,
          -0.8655170969412663,
          0.07470374986811237,
          0.19696979466097256,
          0.71748915045575,
          0.5493037055770226,
          0.792387270172692,
          0.4388182367525948,
          0.8343802553032624,
          -0.27411066445450055,
          -0.759132779704796,
          -0.5510511505395224,
          0.7010550007848114,
          0.7436324676228472,
          -0.8167506411613927,
          -0.8309399064145929,
          -0.48367397638508636,
          0.40109935333422264,
          0.14717905622379798,
          0.4035364305538702,
          -1.4376361064073133,
          0.884504560227829,
          0.0756105825725042,
          1.3027235848809706,
          -0.410445635139286,
          1.664269298035139,
          0.8046955068796645,
          -1.608477203721027,
          0.11905357356672844,
          -0.8362872444628309,
          -1.0394082418010007,
          1.4718633565264032,
          0.3949671088451408,
          0.21605324037427268,
          -0.26067877739383255,
          0.20558921783396097,
          0.43336888717474037,
          -0.1724582369969408,
          -0.8898077313946257,
          -0.7966001330099107,
          -1.9096285209970933,
          -0.6234503963821106,
          -0.7492278502366498,
          -0.3937069363627399,
          0.4764640049465655,
          -0.0317529356831129,
          -1.2467218127574538,
          1.4515849281312752,
          1.0601562766774255,
          0.011700845601488541,
          -0.7004541496592039,
          0.2487099113720825,
          1.3953319784837215,
          0.8170929436416009,
          -1.093574826202585,
          -1.5190998335113597,
          1.565582460077773,
          0.6003738353358095,
          0.48003413782184207,
          -0.8768051319567273,
          1.1653769552823892,
          -0.09369210118747875,
          -1.236308547878392,
          1.069663761619053,
          -0.5090666413472539,
          0.5484467083147206,
          1.4116269424540293,
          1.4288779803279275
         ],
         "xaxis": "x6",
         "yaxis": "y6"
        },
        {
         "line": {
          "color": "rgba(128, 128, 128, 1.0)",
          "dash": "solid",
          "shape": "linear",
          "width": 1.3
         },
         "marker": {
          "size": 2,
          "symbol": "circle"
         },
         "mode": "markers",
         "name": "B",
         "text": "",
         "type": "scatter",
         "x": [
          -0.10230251371271422,
          -0.9856164436609978,
          -2.3399000383333437,
          0.2129287217145665,
          -0.47190285990270525,
          -0.4455893739004875,
          -1.1074018197778728,
          -0.8470605012484446,
          -0.9627109543290664,
          1.470073977808318,
          0.47084265356054933,
          0.7108155263744863,
          1.2401437007945428,
          -0.054593330145385206,
          -0.8547017402721327,
          -0.6017006769118647,
          0.054778381869349656,
          -0.4058615198359087,
          2.1756281307509666,
          1.9184151737376318,
          0.44156846411607875,
          0.6910112638382438,
          0.6180384485757757,
          -1.6737460076007349,
          0.24474274221880774,
          -0.05308243547510542,
          -0.3965050268153458,
          1.1158397901214172,
          -0.5191277071590583,
          -0.3742543454169045,
          0.32384098822286733,
          -0.9424240637732767,
          1.1624649454706169,
          0.403125008198161,
          -0.9108548571391996,
          -0.651014853519304,
          0.7594866172513838,
          -0.3692304927976512,
          1.0437660044364991,
          -0.7733794248520502,
          1.5802947319123615,
          -0.16694697346930254,
          -1.0537387547253623,
          0.7013102740251326,
          -0.25754264065038185,
          -0.5983995472437618,
          1.1024279335020388,
          -0.6361436010196305,
          1.0991555577904437,
          -0.23720122737068883,
          0.4422899782991347,
          -0.5988490557671503,
          -1.3346809455137536,
          -0.43122102824485803,
          1.9219788064136207,
          -0.40544130367258896,
          1.3423525215964787,
          1.256244571124063,
          0.3878877159071746,
          1.1382884131961375,
          -0.003257827151230089,
          -0.09878325140987494,
          -0.20378769773266844,
          -1.1522675096066486,
          0.08080163698515844,
          -0.44036771455025914,
          1.233541752252848,
          0.9809443162533105,
          1.2631387206383407,
          -0.14264650094562623,
          -0.28000106089175586,
          1.3415758234101816,
          -0.6239886301883519,
          -1.4500061362097343,
          -2.132568546188851,
          0.2985428090164885,
          0.014505993157389211,
          0.37727125206455775,
          -1.0794649827264955,
          1.505965384769507,
          -0.03716136608344573,
          -0.856448775823809,
          -0.8990139243173874,
          -0.9992424485619582,
          0.031418080681642716,
          0.6138366430139701,
          -2.0588113484633164,
          -2.6456597987520913,
          -1.3327064288424864,
          -0.13244130030483175,
          -0.8487573392629163,
          0.003511668648794605,
          0.8829461215799975,
          0.804021933184372,
          0.29668720205261867,
          -0.9629788026960224,
          -0.47711184392417805,
          0.07439884523606405,
          -1.039320063953802,
          0.7544691806713081
         ],
         "xaxis": "x7",
         "y": [
          -2.070372363174357,
          1.9871349625586698,
          0.44711385640110934,
          -0.1362509032529231,
          -0.8847481240368797,
          -0.3005585206574886,
          -0.4577370292878276,
          1.1257225790814913,
          1.6515424424291352,
          -1.1639372746696197,
          -0.4900512762265639,
          -0.9183246527863396,
          -0.5898528388193658,
          -1.9828423762964589,
          1.9251031300815986,
          -0.8516206949989477,
          -0.15077106194697446,
          0.39095318163453546,
          -0.04605799383381456,
          0.13106206252913166,
          -0.4492203115833142,
          0.8614098734884785,
          -0.30181904964322304,
          1.4124315275404664,
          1.2928582774051667,
          0.08553156946078898,
          -1.5202409642832018,
          -1.2972509965846963,
          -0.2554031732774126,
          1.1700927343793435,
          -1.4436089799837097,
          1.772822591539189,
          1.0437749024442213,
          -0.8655170969412663,
          0.07470374986811237,
          0.19696979466097256,
          0.71748915045575,
          0.5493037055770226,
          0.792387270172692,
          0.4388182367525948,
          0.8343802553032624,
          -0.27411066445450055,
          -0.759132779704796,
          -0.5510511505395224,
          0.7010550007848114,
          0.7436324676228472,
          -0.8167506411613927,
          -0.8309399064145929,
          -0.48367397638508636,
          0.40109935333422264,
          0.14717905622379798,
          0.4035364305538702,
          -1.4376361064073133,
          0.884504560227829,
          0.0756105825725042,
          1.3027235848809706,
          -0.410445635139286,
          1.664269298035139,
          0.8046955068796645,
          -1.608477203721027,
          0.11905357356672844,
          -0.8362872444628309,
          -1.0394082418010007,
          1.4718633565264032,
          0.3949671088451408,
          0.21605324037427268,
          -0.26067877739383255,
          0.20558921783396097,
          0.43336888717474037,
          -0.1724582369969408,
          -0.8898077313946257,
          -0.7966001330099107,
          -1.9096285209970933,
          -0.6234503963821106,
          -0.7492278502366498,
          -0.3937069363627399,
          0.4764640049465655,
          -0.0317529356831129,
          -1.2467218127574538,
          1.4515849281312752,
          1.0601562766774255,
          0.011700845601488541,
          -0.7004541496592039,
          0.2487099113720825,
          1.3953319784837215,
          0.8170929436416009,
          -1.093574826202585,
          -1.5190998335113597,
          1.565582460077773,
          0.6003738353358095,
          0.48003413782184207,
          -0.8768051319567273,
          1.1653769552823892,
          -0.09369210118747875,
          -1.236308547878392,
          1.069663761619053,
          -0.5090666413472539,
          0.5484467083147206,
          1.4116269424540293,
          1.4288779803279275
         ],
         "yaxis": "y7"
        },
        {
         "line": {
          "color": "rgba(128, 128, 128, 1.0)",
          "dash": "solid",
          "shape": "linear",
          "width": 1.3
         },
         "marker": {
          "size": 2,
          "symbol": "circle"
         },
         "mode": "markers",
         "name": "B",
         "text": "",
         "type": "scatter",
         "x": [
          -0.9153771784213612,
          -0.4012924245057284,
          1.0938533103513841,
          -0.05876449087620939,
          -0.8928530670168028,
          0.8931516319027041,
          -1.2122585675519313,
          0.6336739053482365,
          0.6864409540871593,
          -2.450450162325935,
          1.3766362169548811,
          -0.09498972740325429,
          0.018249696688834572,
          0.00838371990785256,
          0.02637371267571218,
          -0.2494784700290381,
          -2.381179415567164,
          -0.8986148420620415,
          -0.6000789066669335,
          0.9901496738837742,
          0.5750403551444729,
          -1.1530766373329144,
          -0.10248929149795707,
          1.2879406999929592,
          0.9340275168061343,
          -0.36629099505249096,
          -0.21971945689411818,
          -2.1794559389850905,
          -1.128600301594586,
          0.38181810365012026,
          -0.3456615896544399,
          1.076840489089549,
          0.9702514291306714,
          -1.129889632834949,
          -1.5237686296693125,
          0.9893442639629663,
          0.02188116620021201,
          -0.3990886268885891,
          -0.26235256642600163,
          -0.9447050028143288,
          0.3285538558596209,
          -0.4949627482678983,
          -1.2410567632788745,
          -0.03117667293720784,
          0.27318088707611077,
          -1.4105882016730553,
          -0.6971444892873604,
          -0.2046839616180518,
          0.21311682457265613,
          0.05648021937646679,
          -1.7821486230559918,
          0.26138035559451905,
          0.9745360424409939,
          -0.46590150404526515,
          1.0163625781591268,
          -1.206430930878384,
          -0.28219484087131047,
          0.3370380040067882,
          -1.174709156907135,
          -0.9937967513245821,
          -1.2103419890348956,
          0.9666256144943123,
          0.7653167310678071,
          -0.5639565361190263,
          1.127287563860516,
          0.4597180739400952,
          0.9611780321994388,
          -0.1274364898935791,
          -3.144384054953149,
          0.3452719343299374,
          1.0108657267279595,
          0.560382773064362,
          -0.34389869715087096,
          -1.4172642705243446,
          -0.5403661751113938,
          1.751483965078072,
          -1.8536007651466044,
          0.7509631080228982,
          -1.3931867910949483,
          3.8348263491846044,
          -0.8803894827348969,
          -0.027395874356677143,
          -1.2836992348042278,
          0.07864063552442437,
          1.764684418462631,
          1.1831678276825883,
          0.3598658647264078,
          1.2684552760340417,
          1.28190870875007,
          1.144415560151816,
          0.08766066909626503,
          -0.15841220047729188,
          0.7748636032208857,
          -0.38719619122350646,
          2.338915126318817,
          0.46867997123726074,
          -0.3425382611596975,
          0.392730431721023,
          1.1755743201772637,
          -0.12158534043582828
         ],
         "xaxis": "x8",
         "y": [
          -2.070372363174357,
          1.9871349625586698,
          0.44711385640110934,
          -0.1362509032529231,
          -0.8847481240368797,
          -0.3005585206574886,
          -0.4577370292878276,
          1.1257225790814913,
          1.6515424424291352,
          -1.1639372746696197,
          -0.4900512762265639,
          -0.9183246527863396,
          -0.5898528388193658,
          -1.9828423762964589,
          1.9251031300815986,
          -0.8516206949989477,
          -0.15077106194697446,
          0.39095318163453546,
          -0.04605799383381456,
          0.13106206252913166,
          -0.4492203115833142,
          0.8614098734884785,
          -0.30181904964322304,
          1.4124315275404664,
          1.2928582774051667,
          0.08553156946078898,
          -1.5202409642832018,
          -1.2972509965846963,
          -0.2554031732774126,
          1.1700927343793435,
          -1.4436089799837097,
          1.772822591539189,
          1.0437749024442213,
          -0.8655170969412663,
          0.07470374986811237,
          0.19696979466097256,
          0.71748915045575,
          0.5493037055770226,
          0.792387270172692,
          0.4388182367525948,
          0.8343802553032624,
          -0.27411066445450055,
          -0.759132779704796,
          -0.5510511505395224,
          0.7010550007848114,
          0.7436324676228472,
          -0.8167506411613927,
          -0.8309399064145929,
          -0.48367397638508636,
          0.40109935333422264,
          0.14717905622379798,
          0.4035364305538702,
          -1.4376361064073133,
          0.884504560227829,
          0.0756105825725042,
          1.3027235848809706,
          -0.410445635139286,
          1.664269298035139,
          0.8046955068796645,
          -1.608477203721027,
          0.11905357356672844,
          -0.8362872444628309,
          -1.0394082418010007,
          1.4718633565264032,
          0.3949671088451408,
          0.21605324037427268,
          -0.26067877739383255,
          0.20558921783396097,
          0.43336888717474037,
          -0.1724582369969408,
          -0.8898077313946257,
          -0.7966001330099107,
          -1.9096285209970933,
          -0.6234503963821106,
          -0.7492278502366498,
          -0.3937069363627399,
          0.4764640049465655,
          -0.0317529356831129,
          -1.2467218127574538,
          1.4515849281312752,
          1.0601562766774255,
          0.011700845601488541,
          -0.7004541496592039,
          0.2487099113720825,
          1.3953319784837215,
          0.8170929436416009,
          -1.093574826202585,
          -1.5190998335113597,
          1.565582460077773,
          0.6003738353358095,
          0.48003413782184207,
          -0.8768051319567273,
          1.1653769552823892,
          -0.09369210118747875,
          -1.236308547878392,
          1.069663761619053,
          -0.5090666413472539,
          0.5484467083147206,
          1.4116269424540293,
          1.4288779803279275
         ],
         "yaxis": "y8"
        },
        {
         "line": {
          "color": "rgba(128, 128, 128, 1.0)",
          "dash": "solid",
          "shape": "linear",
          "width": 1.3
         },
         "marker": {
          "size": 2,
          "symbol": "circle"
         },
         "mode": "markers",
         "name": "C",
         "text": "",
         "type": "scatter",
         "x": [
          0.18337390211043783,
          0.2577404769175627,
          -0.39940465232467737,
          0.194298848170503,
          0.34196496904498935,
          -0.6377170807139307,
          -1.049758108993871,
          0.49300518799557336,
          0.028811941662308698,
          -1.6269205354091907,
          -0.5202694534605817,
          -0.16098816834008395,
          0.05160848098571894,
          0.5364326233078089,
          0.4378795481417151,
          -0.03756114724023949,
          0.28914666492343494,
          -0.03814971702482578,
          1.1504709154224924,
          -0.7412218639075389,
          0.42086582271660816,
          0.9009691688219829,
          1.0400314771630996,
          -1.372257148733933,
          -0.4355821151470618,
          -0.09938130947803488,
          -0.9491201685059797,
          -0.8600172231155638,
          -0.7362359562302916,
          -0.1430515701566955,
          -0.617813406266883,
          -0.28055737559377186,
          0.46932264288215353,
          0.1514629997731117,
          -0.6583950527318917,
          -0.26662490652025683,
          0.5093904738392812,
          0.12592079431582454,
          1.1508237867549065,
          1.3284069604847262,
          -0.8627769007465207,
          -1.0231645951528927,
          -1.2276778357296108,
          -1.1730477649540723,
          1.6063794992902511,
          -0.023057504024252704,
          -0.01960344616633247,
          -1.0409575465574499,
          0.5256968428705312,
          0.5633261139142187,
          -1.277429648427179,
          -0.8594207760740425,
          -0.806527698662659,
          -1.3223242506953758,
          1.3971352314374699,
          0.3631614499519548,
          0.19128780513812077,
          0.39550446961128843,
          1.317416404924919,
          0.2756482721294413,
          0.9479537637621035,
          0.26781448001741226,
          1.2863595640654364,
          1.0377301080259809,
          0.18731377850380862,
          0.8097847708703942,
          0.21174695841002827,
          -0.7233239976517987,
          -0.2877696122095113,
          -1.2224779263270227,
          1.2959808963832966,
          1.2980313763074227,
          -0.4516678608167582,
          0.7301014683457027,
          -0.9165040725691428,
          -1.7967471408255278,
          0.09604702398927319,
          -0.8605396305059785,
          -0.972811531987986,
          -0.7769208316082751,
          2.02672405942737,
          -1.2194940629705828,
          -0.6034537463065365,
          -1.3731528380456066,
          0.478397263066975,
          0.3532628705494607,
          1.0128502952860179,
          -0.3372046017404665,
          -0.12940898816063387,
          -1.622834708604428,
          0.6955740306917982,
          0.048620002313087676,
          -1.8922763025622593,
          -2.368987592395905,
          -0.290907389966216,
          -0.19595573626291243,
          0.6964336785010147,
          0.9147274409544851,
          -0.6849847790150455,
          0.17976801555813846
         ],
         "xaxis": "x9",
         "y": [
          -0.10230251371271422,
          -0.9856164436609978,
          -2.3399000383333437,
          0.2129287217145665,
          -0.47190285990270525,
          -0.4455893739004875,
          -1.1074018197778728,
          -0.8470605012484446,
          -0.9627109543290664,
          1.470073977808318,
          0.47084265356054933,
          0.7108155263744863,
          1.2401437007945428,
          -0.054593330145385206,
          -0.8547017402721327,
          -0.6017006769118647,
          0.054778381869349656,
          -0.4058615198359087,
          2.1756281307509666,
          1.9184151737376318,
          0.44156846411607875,
          0.6910112638382438,
          0.6180384485757757,
          -1.6737460076007349,
          0.24474274221880774,
          -0.05308243547510542,
          -0.3965050268153458,
          1.1158397901214172,
          -0.5191277071590583,
          -0.3742543454169045,
          0.32384098822286733,
          -0.9424240637732767,
          1.1624649454706169,
          0.403125008198161,
          -0.9108548571391996,
          -0.651014853519304,
          0.7594866172513838,
          -0.3692304927976512,
          1.0437660044364991,
          -0.7733794248520502,
          1.5802947319123615,
          -0.16694697346930254,
          -1.0537387547253623,
          0.7013102740251326,
          -0.25754264065038185,
          -0.5983995472437618,
          1.1024279335020388,
          -0.6361436010196305,
          1.0991555577904437,
          -0.23720122737068883,
          0.4422899782991347,
          -0.5988490557671503,
          -1.3346809455137536,
          -0.43122102824485803,
          1.9219788064136207,
          -0.40544130367258896,
          1.3423525215964787,
          1.256244571124063,
          0.3878877159071746,
          1.1382884131961375,
          -0.003257827151230089,
          -0.09878325140987494,
          -0.20378769773266844,
          -1.1522675096066486,
          0.08080163698515844,
          -0.44036771455025914,
          1.233541752252848,
          0.9809443162533105,
          1.2631387206383407,
          -0.14264650094562623,
          -0.28000106089175586,
          1.3415758234101816,
          -0.6239886301883519,
          -1.4500061362097343,
          -2.132568546188851,
          0.2985428090164885,
          0.014505993157389211,
          0.37727125206455775,
          -1.0794649827264955,
          1.505965384769507,
          -0.03716136608344573,
          -0.856448775823809,
          -0.8990139243173874,
          -0.9992424485619582,
          0.031418080681642716,
          0.6138366430139701,
          -2.0588113484633164,
          -2.6456597987520913,
          -1.3327064288424864,
          -0.13244130030483175,
          -0.8487573392629163,
          0.003511668648794605,
          0.8829461215799975,
          0.804021933184372,
          0.29668720205261867,
          -0.9629788026960224,
          -0.47711184392417805,
          0.07439884523606405,
          -1.039320063953802,
          0.7544691806713081
         ],
         "yaxis": "y9"
        },
        {
         "line": {
          "color": "rgba(128, 128, 128, 1.0)",
          "dash": "solid",
          "shape": "linear",
          "width": 1.3
         },
         "marker": {
          "size": 2,
          "symbol": "circle"
         },
         "mode": "markers",
         "name": "C",
         "text": "",
         "type": "scatter",
         "x": [
          -2.070372363174357,
          1.9871349625586698,
          0.44711385640110934,
          -0.1362509032529231,
          -0.8847481240368797,
          -0.3005585206574886,
          -0.4577370292878276,
          1.1257225790814913,
          1.6515424424291352,
          -1.1639372746696197,
          -0.4900512762265639,
          -0.9183246527863396,
          -0.5898528388193658,
          -1.9828423762964589,
          1.9251031300815986,
          -0.8516206949989477,
          -0.15077106194697446,
          0.39095318163453546,
          -0.04605799383381456,
          0.13106206252913166,
          -0.4492203115833142,
          0.8614098734884785,
          -0.30181904964322304,
          1.4124315275404664,
          1.2928582774051667,
          0.08553156946078898,
          -1.5202409642832018,
          -1.2972509965846963,
          -0.2554031732774126,
          1.1700927343793435,
          -1.4436089799837097,
          1.772822591539189,
          1.0437749024442213,
          -0.8655170969412663,
          0.07470374986811237,
          0.19696979466097256,
          0.71748915045575,
          0.5493037055770226,
          0.792387270172692,
          0.4388182367525948,
          0.8343802553032624,
          -0.27411066445450055,
          -0.759132779704796,
          -0.5510511505395224,
          0.7010550007848114,
          0.7436324676228472,
          -0.8167506411613927,
          -0.8309399064145929,
          -0.48367397638508636,
          0.40109935333422264,
          0.14717905622379798,
          0.4035364305538702,
          -1.4376361064073133,
          0.884504560227829,
          0.0756105825725042,
          1.3027235848809706,
          -0.410445635139286,
          1.664269298035139,
          0.8046955068796645,
          -1.608477203721027,
          0.11905357356672844,
          -0.8362872444628309,
          -1.0394082418010007,
          1.4718633565264032,
          0.3949671088451408,
          0.21605324037427268,
          -0.26067877739383255,
          0.20558921783396097,
          0.43336888717474037,
          -0.1724582369969408,
          -0.8898077313946257,
          -0.7966001330099107,
          -1.9096285209970933,
          -0.6234503963821106,
          -0.7492278502366498,
          -0.3937069363627399,
          0.4764640049465655,
          -0.0317529356831129,
          -1.2467218127574538,
          1.4515849281312752,
          1.0601562766774255,
          0.011700845601488541,
          -0.7004541496592039,
          0.2487099113720825,
          1.3953319784837215,
          0.8170929436416009,
          -1.093574826202585,
          -1.5190998335113597,
          1.565582460077773,
          0.6003738353358095,
          0.48003413782184207,
          -0.8768051319567273,
          1.1653769552823892,
          -0.09369210118747875,
          -1.236308547878392,
          1.069663761619053,
          -0.5090666413472539,
          0.5484467083147206,
          1.4116269424540293,
          1.4288779803279275
         ],
         "xaxis": "x10",
         "y": [
          -0.10230251371271422,
          -0.9856164436609978,
          -2.3399000383333437,
          0.2129287217145665,
          -0.47190285990270525,
          -0.4455893739004875,
          -1.1074018197778728,
          -0.8470605012484446,
          -0.9627109543290664,
          1.470073977808318,
          0.47084265356054933,
          0.7108155263744863,
          1.2401437007945428,
          -0.054593330145385206,
          -0.8547017402721327,
          -0.6017006769118647,
          0.054778381869349656,
          -0.4058615198359087,
          2.1756281307509666,
          1.9184151737376318,
          0.44156846411607875,
          0.6910112638382438,
          0.6180384485757757,
          -1.6737460076007349,
          0.24474274221880774,
          -0.05308243547510542,
          -0.3965050268153458,
          1.1158397901214172,
          -0.5191277071590583,
          -0.3742543454169045,
          0.32384098822286733,
          -0.9424240637732767,
          1.1624649454706169,
          0.403125008198161,
          -0.9108548571391996,
          -0.651014853519304,
          0.7594866172513838,
          -0.3692304927976512,
          1.0437660044364991,
          -0.7733794248520502,
          1.5802947319123615,
          -0.16694697346930254,
          -1.0537387547253623,
          0.7013102740251326,
          -0.25754264065038185,
          -0.5983995472437618,
          1.1024279335020388,
          -0.6361436010196305,
          1.0991555577904437,
          -0.23720122737068883,
          0.4422899782991347,
          -0.5988490557671503,
          -1.3346809455137536,
          -0.43122102824485803,
          1.9219788064136207,
          -0.40544130367258896,
          1.3423525215964787,
          1.256244571124063,
          0.3878877159071746,
          1.1382884131961375,
          -0.003257827151230089,
          -0.09878325140987494,
          -0.20378769773266844,
          -1.1522675096066486,
          0.08080163698515844,
          -0.44036771455025914,
          1.233541752252848,
          0.9809443162533105,
          1.2631387206383407,
          -0.14264650094562623,
          -0.28000106089175586,
          1.3415758234101816,
          -0.6239886301883519,
          -1.4500061362097343,
          -2.132568546188851,
          0.2985428090164885,
          0.014505993157389211,
          0.37727125206455775,
          -1.0794649827264955,
          1.505965384769507,
          -0.03716136608344573,
          -0.856448775823809,
          -0.8990139243173874,
          -0.9992424485619582,
          0.031418080681642716,
          0.6138366430139701,
          -2.0588113484633164,
          -2.6456597987520913,
          -1.3327064288424864,
          -0.13244130030483175,
          -0.8487573392629163,
          0.003511668648794605,
          0.8829461215799975,
          0.804021933184372,
          0.29668720205261867,
          -0.9629788026960224,
          -0.47711184392417805,
          0.07439884523606405,
          -1.039320063953802,
          0.7544691806713081
         ],
         "yaxis": "y10"
        },
        {
         "histfunc": "count",
         "histnorm": "",
         "marker": {
          "color": "rgba(50, 171, 96, 1.0)",
          "line": {
           "color": "#4D5663",
           "width": 1.3
          }
         },
         "name": "C",
         "nbinsx": 10,
         "opacity": 0.8,
         "orientation": "v",
         "type": "histogram",
         "x": [
          -0.10230251371271422,
          -0.9856164436609978,
          -2.3399000383333437,
          0.2129287217145665,
          -0.47190285990270525,
          -0.4455893739004875,
          -1.1074018197778728,
          -0.8470605012484446,
          -0.9627109543290664,
          1.470073977808318,
          0.47084265356054933,
          0.7108155263744863,
          1.2401437007945428,
          -0.054593330145385206,
          -0.8547017402721327,
          -0.6017006769118647,
          0.054778381869349656,
          -0.4058615198359087,
          2.1756281307509666,
          1.9184151737376318,
          0.44156846411607875,
          0.6910112638382438,
          0.6180384485757757,
          -1.6737460076007349,
          0.24474274221880774,
          -0.05308243547510542,
          -0.3965050268153458,
          1.1158397901214172,
          -0.5191277071590583,
          -0.3742543454169045,
          0.32384098822286733,
          -0.9424240637732767,
          1.1624649454706169,
          0.403125008198161,
          -0.9108548571391996,
          -0.651014853519304,
          0.7594866172513838,
          -0.3692304927976512,
          1.0437660044364991,
          -0.7733794248520502,
          1.5802947319123615,
          -0.16694697346930254,
          -1.0537387547253623,
          0.7013102740251326,
          -0.25754264065038185,
          -0.5983995472437618,
          1.1024279335020388,
          -0.6361436010196305,
          1.0991555577904437,
          -0.23720122737068883,
          0.4422899782991347,
          -0.5988490557671503,
          -1.3346809455137536,
          -0.43122102824485803,
          1.9219788064136207,
          -0.40544130367258896,
          1.3423525215964787,
          1.256244571124063,
          0.3878877159071746,
          1.1382884131961375,
          -0.003257827151230089,
          -0.09878325140987494,
          -0.20378769773266844,
          -1.1522675096066486,
          0.08080163698515844,
          -0.44036771455025914,
          1.233541752252848,
          0.9809443162533105,
          1.2631387206383407,
          -0.14264650094562623,
          -0.28000106089175586,
          1.3415758234101816,
          -0.6239886301883519,
          -1.4500061362097343,
          -2.132568546188851,
          0.2985428090164885,
          0.014505993157389211,
          0.37727125206455775,
          -1.0794649827264955,
          1.505965384769507,
          -0.03716136608344573,
          -0.856448775823809,
          -0.8990139243173874,
          -0.9992424485619582,
          0.031418080681642716,
          0.6138366430139701,
          -2.0588113484633164,
          -2.6456597987520913,
          -1.3327064288424864,
          -0.13244130030483175,
          -0.8487573392629163,
          0.003511668648794605,
          0.8829461215799975,
          0.804021933184372,
          0.29668720205261867,
          -0.9629788026960224,
          -0.47711184392417805,
          0.07439884523606405,
          -1.039320063953802,
          0.7544691806713081
         ],
         "xaxis": "x11",
         "yaxis": "y11"
        },
        {
         "line": {
          "color": "rgba(128, 128, 128, 1.0)",
          "dash": "solid",
          "shape": "linear",
          "width": 1.3
         },
         "marker": {
          "size": 2,
          "symbol": "circle"
         },
         "mode": "markers",
         "name": "C",
         "text": "",
         "type": "scatter",
         "x": [
          -0.9153771784213612,
          -0.4012924245057284,
          1.0938533103513841,
          -0.05876449087620939,
          -0.8928530670168028,
          0.8931516319027041,
          -1.2122585675519313,
          0.6336739053482365,
          0.6864409540871593,
          -2.450450162325935,
          1.3766362169548811,
          -0.09498972740325429,
          0.018249696688834572,
          0.00838371990785256,
          0.02637371267571218,
          -0.2494784700290381,
          -2.381179415567164,
          -0.8986148420620415,
          -0.6000789066669335,
          0.9901496738837742,
          0.5750403551444729,
          -1.1530766373329144,
          -0.10248929149795707,
          1.2879406999929592,
          0.9340275168061343,
          -0.36629099505249096,
          -0.21971945689411818,
          -2.1794559389850905,
          -1.128600301594586,
          0.38181810365012026,
          -0.3456615896544399,
          1.076840489089549,
          0.9702514291306714,
          -1.129889632834949,
          -1.5237686296693125,
          0.9893442639629663,
          0.02188116620021201,
          -0.3990886268885891,
          -0.26235256642600163,
          -0.9447050028143288,
          0.3285538558596209,
          -0.4949627482678983,
          -1.2410567632788745,
          -0.03117667293720784,
          0.27318088707611077,
          -1.4105882016730553,
          -0.6971444892873604,
          -0.2046839616180518,
          0.21311682457265613,
          0.05648021937646679,
          -1.7821486230559918,
          0.26138035559451905,
          0.9745360424409939,
          -0.46590150404526515,
          1.0163625781591268,
          -1.206430930878384,
          -0.28219484087131047,
          0.3370380040067882,
          -1.174709156907135,
          -0.9937967513245821,
          -1.2103419890348956,
          0.9666256144943123,
          0.7653167310678071,
          -0.5639565361190263,
          1.127287563860516,
          0.4597180739400952,
          0.9611780321994388,
          -0.1274364898935791,
          -3.144384054953149,
          0.3452719343299374,
          1.0108657267279595,
          0.560382773064362,
          -0.34389869715087096,
          -1.4172642705243446,
          -0.5403661751113938,
          1.751483965078072,
          -1.8536007651466044,
          0.7509631080228982,
          -1.3931867910949483,
          3.8348263491846044,
          -0.8803894827348969,
          -0.027395874356677143,
          -1.2836992348042278,
          0.07864063552442437,
          1.764684418462631,
          1.1831678276825883,
          0.3598658647264078,
          1.2684552760340417,
          1.28190870875007,
          1.144415560151816,
          0.08766066909626503,
          -0.15841220047729188,
          0.7748636032208857,
          -0.38719619122350646,
          2.338915126318817,
          0.46867997123726074,
          -0.3425382611596975,
          0.392730431721023,
          1.1755743201772637,
          -0.12158534043582828
         ],
         "xaxis": "x12",
         "y": [
          -0.10230251371271422,
          -0.9856164436609978,
          -2.3399000383333437,
          0.2129287217145665,
          -0.47190285990270525,
          -0.4455893739004875,
          -1.1074018197778728,
          -0.8470605012484446,
          -0.9627109543290664,
          1.470073977808318,
          0.47084265356054933,
          0.7108155263744863,
          1.2401437007945428,
          -0.054593330145385206,
          -0.8547017402721327,
          -0.6017006769118647,
          0.054778381869349656,
          -0.4058615198359087,
          2.1756281307509666,
          1.9184151737376318,
          0.44156846411607875,
          0.6910112638382438,
          0.6180384485757757,
          -1.6737460076007349,
          0.24474274221880774,
          -0.05308243547510542,
          -0.3965050268153458,
          1.1158397901214172,
          -0.5191277071590583,
          -0.3742543454169045,
          0.32384098822286733,
          -0.9424240637732767,
          1.1624649454706169,
          0.403125008198161,
          -0.9108548571391996,
          -0.651014853519304,
          0.7594866172513838,
          -0.3692304927976512,
          1.0437660044364991,
          -0.7733794248520502,
          1.5802947319123615,
          -0.16694697346930254,
          -1.0537387547253623,
          0.7013102740251326,
          -0.25754264065038185,
          -0.5983995472437618,
          1.1024279335020388,
          -0.6361436010196305,
          1.0991555577904437,
          -0.23720122737068883,
          0.4422899782991347,
          -0.5988490557671503,
          -1.3346809455137536,
          -0.43122102824485803,
          1.9219788064136207,
          -0.40544130367258896,
          1.3423525215964787,
          1.256244571124063,
          0.3878877159071746,
          1.1382884131961375,
          -0.003257827151230089,
          -0.09878325140987494,
          -0.20378769773266844,
          -1.1522675096066486,
          0.08080163698515844,
          -0.44036771455025914,
          1.233541752252848,
          0.9809443162533105,
          1.2631387206383407,
          -0.14264650094562623,
          -0.28000106089175586,
          1.3415758234101816,
          -0.6239886301883519,
          -1.4500061362097343,
          -2.132568546188851,
          0.2985428090164885,
          0.014505993157389211,
          0.37727125206455775,
          -1.0794649827264955,
          1.505965384769507,
          -0.03716136608344573,
          -0.856448775823809,
          -0.8990139243173874,
          -0.9992424485619582,
          0.031418080681642716,
          0.6138366430139701,
          -2.0588113484633164,
          -2.6456597987520913,
          -1.3327064288424864,
          -0.13244130030483175,
          -0.8487573392629163,
          0.003511668648794605,
          0.8829461215799975,
          0.804021933184372,
          0.29668720205261867,
          -0.9629788026960224,
          -0.47711184392417805,
          0.07439884523606405,
          -1.039320063953802,
          0.7544691806713081
         ],
         "yaxis": "y12"
        },
        {
         "line": {
          "color": "rgba(128, 128, 128, 1.0)",
          "dash": "solid",
          "shape": "linear",
          "width": 1.3
         },
         "marker": {
          "size": 2,
          "symbol": "circle"
         },
         "mode": "markers",
         "name": "D",
         "text": "",
         "type": "scatter",
         "x": [
          0.18337390211043783,
          0.2577404769175627,
          -0.39940465232467737,
          0.194298848170503,
          0.34196496904498935,
          -0.6377170807139307,
          -1.049758108993871,
          0.49300518799557336,
          0.028811941662308698,
          -1.6269205354091907,
          -0.5202694534605817,
          -0.16098816834008395,
          0.05160848098571894,
          0.5364326233078089,
          0.4378795481417151,
          -0.03756114724023949,
          0.28914666492343494,
          -0.03814971702482578,
          1.1504709154224924,
          -0.7412218639075389,
          0.42086582271660816,
          0.9009691688219829,
          1.0400314771630996,
          -1.372257148733933,
          -0.4355821151470618,
          -0.09938130947803488,
          -0.9491201685059797,
          -0.8600172231155638,
          -0.7362359562302916,
          -0.1430515701566955,
          -0.617813406266883,
          -0.28055737559377186,
          0.46932264288215353,
          0.1514629997731117,
          -0.6583950527318917,
          -0.26662490652025683,
          0.5093904738392812,
          0.12592079431582454,
          1.1508237867549065,
          1.3284069604847262,
          -0.8627769007465207,
          -1.0231645951528927,
          -1.2276778357296108,
          -1.1730477649540723,
          1.6063794992902511,
          -0.023057504024252704,
          -0.01960344616633247,
          -1.0409575465574499,
          0.5256968428705312,
          0.5633261139142187,
          -1.277429648427179,
          -0.8594207760740425,
          -0.806527698662659,
          -1.3223242506953758,
          1.3971352314374699,
          0.3631614499519548,
          0.19128780513812077,
          0.39550446961128843,
          1.317416404924919,
          0.2756482721294413,
          0.9479537637621035,
          0.26781448001741226,
          1.2863595640654364,
          1.0377301080259809,
          0.18731377850380862,
          0.8097847708703942,
          0.21174695841002827,
          -0.7233239976517987,
          -0.2877696122095113,
          -1.2224779263270227,
          1.2959808963832966,
          1.2980313763074227,
          -0.4516678608167582,
          0.7301014683457027,
          -0.9165040725691428,
          -1.7967471408255278,
          0.09604702398927319,
          -0.8605396305059785,
          -0.972811531987986,
          -0.7769208316082751,
          2.02672405942737,
          -1.2194940629705828,
          -0.6034537463065365,
          -1.3731528380456066,
          0.478397263066975,
          0.3532628705494607,
          1.0128502952860179,
          -0.3372046017404665,
          -0.12940898816063387,
          -1.622834708604428,
          0.6955740306917982,
          0.048620002313087676,
          -1.8922763025622593,
          -2.368987592395905,
          -0.290907389966216,
          -0.19595573626291243,
          0.6964336785010147,
          0.9147274409544851,
          -0.6849847790150455,
          0.17976801555813846
         ],
         "xaxis": "x13",
         "y": [
          -0.9153771784213612,
          -0.4012924245057284,
          1.0938533103513841,
          -0.05876449087620939,
          -0.8928530670168028,
          0.8931516319027041,
          -1.2122585675519313,
          0.6336739053482365,
          0.6864409540871593,
          -2.450450162325935,
          1.3766362169548811,
          -0.09498972740325429,
          0.018249696688834572,
          0.00838371990785256,
          0.02637371267571218,
          -0.2494784700290381,
          -2.381179415567164,
          -0.8986148420620415,
          -0.6000789066669335,
          0.9901496738837742,
          0.5750403551444729,
          -1.1530766373329144,
          -0.10248929149795707,
          1.2879406999929592,
          0.9340275168061343,
          -0.36629099505249096,
          -0.21971945689411818,
          -2.1794559389850905,
          -1.128600301594586,
          0.38181810365012026,
          -0.3456615896544399,
          1.076840489089549,
          0.9702514291306714,
          -1.129889632834949,
          -1.5237686296693125,
          0.9893442639629663,
          0.02188116620021201,
          -0.3990886268885891,
          -0.26235256642600163,
          -0.9447050028143288,
          0.3285538558596209,
          -0.4949627482678983,
          -1.2410567632788745,
          -0.03117667293720784,
          0.27318088707611077,
          -1.4105882016730553,
          -0.6971444892873604,
          -0.2046839616180518,
          0.21311682457265613,
          0.05648021937646679,
          -1.7821486230559918,
          0.26138035559451905,
          0.9745360424409939,
          -0.46590150404526515,
          1.0163625781591268,
          -1.206430930878384,
          -0.28219484087131047,
          0.3370380040067882,
          -1.174709156907135,
          -0.9937967513245821,
          -1.2103419890348956,
          0.9666256144943123,
          0.7653167310678071,
          -0.5639565361190263,
          1.127287563860516,
          0.4597180739400952,
          0.9611780321994388,
          -0.1274364898935791,
          -3.144384054953149,
          0.3452719343299374,
          1.0108657267279595,
          0.560382773064362,
          -0.34389869715087096,
          -1.4172642705243446,
          -0.5403661751113938,
          1.751483965078072,
          -1.8536007651466044,
          0.7509631080228982,
          -1.3931867910949483,
          3.8348263491846044,
          -0.8803894827348969,
          -0.027395874356677143,
          -1.2836992348042278,
          0.07864063552442437,
          1.764684418462631,
          1.1831678276825883,
          0.3598658647264078,
          1.2684552760340417,
          1.28190870875007,
          1.144415560151816,
          0.08766066909626503,
          -0.15841220047729188,
          0.7748636032208857,
          -0.38719619122350646,
          2.338915126318817,
          0.46867997123726074,
          -0.3425382611596975,
          0.392730431721023,
          1.1755743201772637,
          -0.12158534043582828
         ],
         "yaxis": "y13"
        },
        {
         "line": {
          "color": "rgba(128, 128, 128, 1.0)",
          "dash": "solid",
          "shape": "linear",
          "width": 1.3
         },
         "marker": {
          "size": 2,
          "symbol": "circle"
         },
         "mode": "markers",
         "name": "D",
         "text": "",
         "type": "scatter",
         "x": [
          -2.070372363174357,
          1.9871349625586698,
          0.44711385640110934,
          -0.1362509032529231,
          -0.8847481240368797,
          -0.3005585206574886,
          -0.4577370292878276,
          1.1257225790814913,
          1.6515424424291352,
          -1.1639372746696197,
          -0.4900512762265639,
          -0.9183246527863396,
          -0.5898528388193658,
          -1.9828423762964589,
          1.9251031300815986,
          -0.8516206949989477,
          -0.15077106194697446,
          0.39095318163453546,
          -0.04605799383381456,
          0.13106206252913166,
          -0.4492203115833142,
          0.8614098734884785,
          -0.30181904964322304,
          1.4124315275404664,
          1.2928582774051667,
          0.08553156946078898,
          -1.5202409642832018,
          -1.2972509965846963,
          -0.2554031732774126,
          1.1700927343793435,
          -1.4436089799837097,
          1.772822591539189,
          1.0437749024442213,
          -0.8655170969412663,
          0.07470374986811237,
          0.19696979466097256,
          0.71748915045575,
          0.5493037055770226,
          0.792387270172692,
          0.4388182367525948,
          0.8343802553032624,
          -0.27411066445450055,
          -0.759132779704796,
          -0.5510511505395224,
          0.7010550007848114,
          0.7436324676228472,
          -0.8167506411613927,
          -0.8309399064145929,
          -0.48367397638508636,
          0.40109935333422264,
          0.14717905622379798,
          0.4035364305538702,
          -1.4376361064073133,
          0.884504560227829,
          0.0756105825725042,
          1.3027235848809706,
          -0.410445635139286,
          1.664269298035139,
          0.8046955068796645,
          -1.608477203721027,
          0.11905357356672844,
          -0.8362872444628309,
          -1.0394082418010007,
          1.4718633565264032,
          0.3949671088451408,
          0.21605324037427268,
          -0.26067877739383255,
          0.20558921783396097,
          0.43336888717474037,
          -0.1724582369969408,
          -0.8898077313946257,
          -0.7966001330099107,
          -1.9096285209970933,
          -0.6234503963821106,
          -0.7492278502366498,
          -0.3937069363627399,
          0.4764640049465655,
          -0.0317529356831129,
          -1.2467218127574538,
          1.4515849281312752,
          1.0601562766774255,
          0.011700845601488541,
          -0.7004541496592039,
          0.2487099113720825,
          1.3953319784837215,
          0.8170929436416009,
          -1.093574826202585,
          -1.5190998335113597,
          1.565582460077773,
          0.6003738353358095,
          0.48003413782184207,
          -0.8768051319567273,
          1.1653769552823892,
          -0.09369210118747875,
          -1.236308547878392,
          1.069663761619053,
          -0.5090666413472539,
          0.5484467083147206,
          1.4116269424540293,
          1.4288779803279275
         ],
         "xaxis": "x14",
         "y": [
          -0.9153771784213612,
          -0.4012924245057284,
          1.0938533103513841,
          -0.05876449087620939,
          -0.8928530670168028,
          0.8931516319027041,
          -1.2122585675519313,
          0.6336739053482365,
          0.6864409540871593,
          -2.450450162325935,
          1.3766362169548811,
          -0.09498972740325429,
          0.018249696688834572,
          0.00838371990785256,
          0.02637371267571218,
          -0.2494784700290381,
          -2.381179415567164,
          -0.8986148420620415,
          -0.6000789066669335,
          0.9901496738837742,
          0.5750403551444729,
          -1.1530766373329144,
          -0.10248929149795707,
          1.2879406999929592,
          0.9340275168061343,
          -0.36629099505249096,
          -0.21971945689411818,
          -2.1794559389850905,
          -1.128600301594586,
          0.38181810365012026,
          -0.3456615896544399,
          1.076840489089549,
          0.9702514291306714,
          -1.129889632834949,
          -1.5237686296693125,
          0.9893442639629663,
          0.02188116620021201,
          -0.3990886268885891,
          -0.26235256642600163,
          -0.9447050028143288,
          0.3285538558596209,
          -0.4949627482678983,
          -1.2410567632788745,
          -0.03117667293720784,
          0.27318088707611077,
          -1.4105882016730553,
          -0.6971444892873604,
          -0.2046839616180518,
          0.21311682457265613,
          0.05648021937646679,
          -1.7821486230559918,
          0.26138035559451905,
          0.9745360424409939,
          -0.46590150404526515,
          1.0163625781591268,
          -1.206430930878384,
          -0.28219484087131047,
          0.3370380040067882,
          -1.174709156907135,
          -0.9937967513245821,
          -1.2103419890348956,
          0.9666256144943123,
          0.7653167310678071,
          -0.5639565361190263,
          1.127287563860516,
          0.4597180739400952,
          0.9611780321994388,
          -0.1274364898935791,
          -3.144384054953149,
          0.3452719343299374,
          1.0108657267279595,
          0.560382773064362,
          -0.34389869715087096,
          -1.4172642705243446,
          -0.5403661751113938,
          1.751483965078072,
          -1.8536007651466044,
          0.7509631080228982,
          -1.3931867910949483,
          3.8348263491846044,
          -0.8803894827348969,
          -0.027395874356677143,
          -1.2836992348042278,
          0.07864063552442437,
          1.764684418462631,
          1.1831678276825883,
          0.3598658647264078,
          1.2684552760340417,
          1.28190870875007,
          1.144415560151816,
          0.08766066909626503,
          -0.15841220047729188,
          0.7748636032208857,
          -0.38719619122350646,
          2.338915126318817,
          0.46867997123726074,
          -0.3425382611596975,
          0.392730431721023,
          1.1755743201772637,
          -0.12158534043582828
         ],
         "yaxis": "y14"
        },
        {
         "line": {
          "color": "rgba(128, 128, 128, 1.0)",
          "dash": "solid",
          "shape": "linear",
          "width": 1.3
         },
         "marker": {
          "size": 2,
          "symbol": "circle"
         },
         "mode": "markers",
         "name": "D",
         "text": "",
         "type": "scatter",
         "x": [
          -0.10230251371271422,
          -0.9856164436609978,
          -2.3399000383333437,
          0.2129287217145665,
          -0.47190285990270525,
          -0.4455893739004875,
          -1.1074018197778728,
          -0.8470605012484446,
          -0.9627109543290664,
          1.470073977808318,
          0.47084265356054933,
          0.7108155263744863,
          1.2401437007945428,
          -0.054593330145385206,
          -0.8547017402721327,
          -0.6017006769118647,
          0.054778381869349656,
          -0.4058615198359087,
          2.1756281307509666,
          1.9184151737376318,
          0.44156846411607875,
          0.6910112638382438,
          0.6180384485757757,
          -1.6737460076007349,
          0.24474274221880774,
          -0.05308243547510542,
          -0.3965050268153458,
          1.1158397901214172,
          -0.5191277071590583,
          -0.3742543454169045,
          0.32384098822286733,
          -0.9424240637732767,
          1.1624649454706169,
          0.403125008198161,
          -0.9108548571391996,
          -0.651014853519304,
          0.7594866172513838,
          -0.3692304927976512,
          1.0437660044364991,
          -0.7733794248520502,
          1.5802947319123615,
          -0.16694697346930254,
          -1.0537387547253623,
          0.7013102740251326,
          -0.25754264065038185,
          -0.5983995472437618,
          1.1024279335020388,
          -0.6361436010196305,
          1.0991555577904437,
          -0.23720122737068883,
          0.4422899782991347,
          -0.5988490557671503,
          -1.3346809455137536,
          -0.43122102824485803,
          1.9219788064136207,
          -0.40544130367258896,
          1.3423525215964787,
          1.256244571124063,
          0.3878877159071746,
          1.1382884131961375,
          -0.003257827151230089,
          -0.09878325140987494,
          -0.20378769773266844,
          -1.1522675096066486,
          0.08080163698515844,
          -0.44036771455025914,
          1.233541752252848,
          0.9809443162533105,
          1.2631387206383407,
          -0.14264650094562623,
          -0.28000106089175586,
          1.3415758234101816,
          -0.6239886301883519,
          -1.4500061362097343,
          -2.132568546188851,
          0.2985428090164885,
          0.014505993157389211,
          0.37727125206455775,
          -1.0794649827264955,
          1.505965384769507,
          -0.03716136608344573,
          -0.856448775823809,
          -0.8990139243173874,
          -0.9992424485619582,
          0.031418080681642716,
          0.6138366430139701,
          -2.0588113484633164,
          -2.6456597987520913,
          -1.3327064288424864,
          -0.13244130030483175,
          -0.8487573392629163,
          0.003511668648794605,
          0.8829461215799975,
          0.804021933184372,
          0.29668720205261867,
          -0.9629788026960224,
          -0.47711184392417805,
          0.07439884523606405,
          -1.039320063953802,
          0.7544691806713081
         ],
         "xaxis": "x15",
         "y": [
          -0.9153771784213612,
          -0.4012924245057284,
          1.0938533103513841,
          -0.05876449087620939,
          -0.8928530670168028,
          0.8931516319027041,
          -1.2122585675519313,
          0.6336739053482365,
          0.6864409540871593,
          -2.450450162325935,
          1.3766362169548811,
          -0.09498972740325429,
          0.018249696688834572,
          0.00838371990785256,
          0.02637371267571218,
          -0.2494784700290381,
          -2.381179415567164,
          -0.8986148420620415,
          -0.6000789066669335,
          0.9901496738837742,
          0.5750403551444729,
          -1.1530766373329144,
          -0.10248929149795707,
          1.2879406999929592,
          0.9340275168061343,
          -0.36629099505249096,
          -0.21971945689411818,
          -2.1794559389850905,
          -1.128600301594586,
          0.38181810365012026,
          -0.3456615896544399,
          1.076840489089549,
          0.9702514291306714,
          -1.129889632834949,
          -1.5237686296693125,
          0.9893442639629663,
          0.02188116620021201,
          -0.3990886268885891,
          -0.26235256642600163,
          -0.9447050028143288,
          0.3285538558596209,
          -0.4949627482678983,
          -1.2410567632788745,
          -0.03117667293720784,
          0.27318088707611077,
          -1.4105882016730553,
          -0.6971444892873604,
          -0.2046839616180518,
          0.21311682457265613,
          0.05648021937646679,
          -1.7821486230559918,
          0.26138035559451905,
          0.9745360424409939,
          -0.46590150404526515,
          1.0163625781591268,
          -1.206430930878384,
          -0.28219484087131047,
          0.3370380040067882,
          -1.174709156907135,
          -0.9937967513245821,
          -1.2103419890348956,
          0.9666256144943123,
          0.7653167310678071,
          -0.5639565361190263,
          1.127287563860516,
          0.4597180739400952,
          0.9611780321994388,
          -0.1274364898935791,
          -3.144384054953149,
          0.3452719343299374,
          1.0108657267279595,
          0.560382773064362,
          -0.34389869715087096,
          -1.4172642705243446,
          -0.5403661751113938,
          1.751483965078072,
          -1.8536007651466044,
          0.7509631080228982,
          -1.3931867910949483,
          3.8348263491846044,
          -0.8803894827348969,
          -0.027395874356677143,
          -1.2836992348042278,
          0.07864063552442437,
          1.764684418462631,
          1.1831678276825883,
          0.3598658647264078,
          1.2684552760340417,
          1.28190870875007,
          1.144415560151816,
          0.08766066909626503,
          -0.15841220047729188,
          0.7748636032208857,
          -0.38719619122350646,
          2.338915126318817,
          0.46867997123726074,
          -0.3425382611596975,
          0.392730431721023,
          1.1755743201772637,
          -0.12158534043582828
         ],
         "yaxis": "y15"
        },
        {
         "histfunc": "count",
         "histnorm": "",
         "marker": {
          "color": "rgba(128, 0, 128, 1.0)",
          "line": {
           "color": "#4D5663",
           "width": 1.3
          }
         },
         "name": "D",
         "nbinsx": 10,
         "opacity": 0.8,
         "orientation": "v",
         "type": "histogram",
         "x": [
          -0.9153771784213612,
          -0.4012924245057284,
          1.0938533103513841,
          -0.05876449087620939,
          -0.8928530670168028,
          0.8931516319027041,
          -1.2122585675519313,
          0.6336739053482365,
          0.6864409540871593,
          -2.450450162325935,
          1.3766362169548811,
          -0.09498972740325429,
          0.018249696688834572,
          0.00838371990785256,
          0.02637371267571218,
          -0.2494784700290381,
          -2.381179415567164,
          -0.8986148420620415,
          -0.6000789066669335,
          0.9901496738837742,
          0.5750403551444729,
          -1.1530766373329144,
          -0.10248929149795707,
          1.2879406999929592,
          0.9340275168061343,
          -0.36629099505249096,
          -0.21971945689411818,
          -2.1794559389850905,
          -1.128600301594586,
          0.38181810365012026,
          -0.3456615896544399,
          1.076840489089549,
          0.9702514291306714,
          -1.129889632834949,
          -1.5237686296693125,
          0.9893442639629663,
          0.02188116620021201,
          -0.3990886268885891,
          -0.26235256642600163,
          -0.9447050028143288,
          0.3285538558596209,
          -0.4949627482678983,
          -1.2410567632788745,
          -0.03117667293720784,
          0.27318088707611077,
          -1.4105882016730553,
          -0.6971444892873604,
          -0.2046839616180518,
          0.21311682457265613,
          0.05648021937646679,
          -1.7821486230559918,
          0.26138035559451905,
          0.9745360424409939,
          -0.46590150404526515,
          1.0163625781591268,
          -1.206430930878384,
          -0.28219484087131047,
          0.3370380040067882,
          -1.174709156907135,
          -0.9937967513245821,
          -1.2103419890348956,
          0.9666256144943123,
          0.7653167310678071,
          -0.5639565361190263,
          1.127287563860516,
          0.4597180739400952,
          0.9611780321994388,
          -0.1274364898935791,
          -3.144384054953149,
          0.3452719343299374,
          1.0108657267279595,
          0.560382773064362,
          -0.34389869715087096,
          -1.4172642705243446,
          -0.5403661751113938,
          1.751483965078072,
          -1.8536007651466044,
          0.7509631080228982,
          -1.3931867910949483,
          3.8348263491846044,
          -0.8803894827348969,
          -0.027395874356677143,
          -1.2836992348042278,
          0.07864063552442437,
          1.764684418462631,
          1.1831678276825883,
          0.3598658647264078,
          1.2684552760340417,
          1.28190870875007,
          1.144415560151816,
          0.08766066909626503,
          -0.15841220047729188,
          0.7748636032208857,
          -0.38719619122350646,
          2.338915126318817,
          0.46867997123726074,
          -0.3425382611596975,
          0.392730431721023,
          1.1755743201772637,
          -0.12158534043582828
         ],
         "xaxis": "x16",
         "yaxis": "y16"
        }
       ],
       "layout": {
        "bargap": 0.02,
        "legend": {
         "bgcolor": "#F5F6F9",
         "font": {
          "color": "#4D5663"
         }
        },
        "paper_bgcolor": "#F5F6F9",
        "plot_bgcolor": "#F5F6F9",
        "showlegend": false,
        "template": {
         "data": {
          "bar": [
           {
            "error_x": {
             "color": "#2a3f5f"
            },
            "error_y": {
             "color": "#2a3f5f"
            },
            "marker": {
             "line": {
              "color": "#E5ECF6",
              "width": 0.5
             },
             "pattern": {
              "fillmode": "overlay",
              "size": 10,
              "solidity": 0.2
             }
            },
            "type": "bar"
           }
          ],
          "barpolar": [
           {
            "marker": {
             "line": {
              "color": "#E5ECF6",
              "width": 0.5
             },
             "pattern": {
              "fillmode": "overlay",
              "size": 10,
              "solidity": 0.2
             }
            },
            "type": "barpolar"
           }
          ],
          "carpet": [
           {
            "aaxis": {
             "endlinecolor": "#2a3f5f",
             "gridcolor": "white",
             "linecolor": "white",
             "minorgridcolor": "white",
             "startlinecolor": "#2a3f5f"
            },
            "baxis": {
             "endlinecolor": "#2a3f5f",
             "gridcolor": "white",
             "linecolor": "white",
             "minorgridcolor": "white",
             "startlinecolor": "#2a3f5f"
            },
            "type": "carpet"
           }
          ],
          "choropleth": [
           {
            "colorbar": {
             "outlinewidth": 0,
             "ticks": ""
            },
            "type": "choropleth"
           }
          ],
          "contour": [
           {
            "colorbar": {
             "outlinewidth": 0,
             "ticks": ""
            },
            "colorscale": [
             [
              0,
              "#0d0887"
             ],
             [
              0.1111111111111111,
              "#46039f"
             ],
             [
              0.2222222222222222,
              "#7201a8"
             ],
             [
              0.3333333333333333,
              "#9c179e"
             ],
             [
              0.4444444444444444,
              "#bd3786"
             ],
             [
              0.5555555555555556,
              "#d8576b"
             ],
             [
              0.6666666666666666,
              "#ed7953"
             ],
             [
              0.7777777777777778,
              "#fb9f3a"
             ],
             [
              0.8888888888888888,
              "#fdca26"
             ],
             [
              1,
              "#f0f921"
             ]
            ],
            "type": "contour"
           }
          ],
          "contourcarpet": [
           {
            "colorbar": {
             "outlinewidth": 0,
             "ticks": ""
            },
            "type": "contourcarpet"
           }
          ],
          "heatmap": [
           {
            "colorbar": {
             "outlinewidth": 0,
             "ticks": ""
            },
            "colorscale": [
             [
              0,
              "#0d0887"
             ],
             [
              0.1111111111111111,
              "#46039f"
             ],
             [
              0.2222222222222222,
              "#7201a8"
             ],
             [
              0.3333333333333333,
              "#9c179e"
             ],
             [
              0.4444444444444444,
              "#bd3786"
             ],
             [
              0.5555555555555556,
              "#d8576b"
             ],
             [
              0.6666666666666666,
              "#ed7953"
             ],
             [
              0.7777777777777778,
              "#fb9f3a"
             ],
             [
              0.8888888888888888,
              "#fdca26"
             ],
             [
              1,
              "#f0f921"
             ]
            ],
            "type": "heatmap"
           }
          ],
          "heatmapgl": [
           {
            "colorbar": {
             "outlinewidth": 0,
             "ticks": ""
            },
            "colorscale": [
             [
              0,
              "#0d0887"
             ],
             [
              0.1111111111111111,
              "#46039f"
             ],
             [
              0.2222222222222222,
              "#7201a8"
             ],
             [
              0.3333333333333333,
              "#9c179e"
             ],
             [
              0.4444444444444444,
              "#bd3786"
             ],
             [
              0.5555555555555556,
              "#d8576b"
             ],
             [
              0.6666666666666666,
              "#ed7953"
             ],
             [
              0.7777777777777778,
              "#fb9f3a"
             ],
             [
              0.8888888888888888,
              "#fdca26"
             ],
             [
              1,
              "#f0f921"
             ]
            ],
            "type": "heatmapgl"
           }
          ],
          "histogram": [
           {
            "marker": {
             "pattern": {
              "fillmode": "overlay",
              "size": 10,
              "solidity": 0.2
             }
            },
            "type": "histogram"
           }
          ],
          "histogram2d": [
           {
            "colorbar": {
             "outlinewidth": 0,
             "ticks": ""
            },
            "colorscale": [
             [
              0,
              "#0d0887"
             ],
             [
              0.1111111111111111,
              "#46039f"
             ],
             [
              0.2222222222222222,
              "#7201a8"
             ],
             [
              0.3333333333333333,
              "#9c179e"
             ],
             [
              0.4444444444444444,
              "#bd3786"
             ],
             [
              0.5555555555555556,
              "#d8576b"
             ],
             [
              0.6666666666666666,
              "#ed7953"
             ],
             [
              0.7777777777777778,
              "#fb9f3a"
             ],
             [
              0.8888888888888888,
              "#fdca26"
             ],
             [
              1,
              "#f0f921"
             ]
            ],
            "type": "histogram2d"
           }
          ],
          "histogram2dcontour": [
           {
            "colorbar": {
             "outlinewidth": 0,
             "ticks": ""
            },
            "colorscale": [
             [
              0,
              "#0d0887"
             ],
             [
              0.1111111111111111,
              "#46039f"
             ],
             [
              0.2222222222222222,
              "#7201a8"
             ],
             [
              0.3333333333333333,
              "#9c179e"
             ],
             [
              0.4444444444444444,
              "#bd3786"
             ],
             [
              0.5555555555555556,
              "#d8576b"
             ],
             [
              0.6666666666666666,
              "#ed7953"
             ],
             [
              0.7777777777777778,
              "#fb9f3a"
             ],
             [
              0.8888888888888888,
              "#fdca26"
             ],
             [
              1,
              "#f0f921"
             ]
            ],
            "type": "histogram2dcontour"
           }
          ],
          "mesh3d": [
           {
            "colorbar": {
             "outlinewidth": 0,
             "ticks": ""
            },
            "type": "mesh3d"
           }
          ],
          "parcoords": [
           {
            "line": {
             "colorbar": {
              "outlinewidth": 0,
              "ticks": ""
             }
            },
            "type": "parcoords"
           }
          ],
          "pie": [
           {
            "automargin": true,
            "type": "pie"
           }
          ],
          "scatter": [
           {
            "marker": {
             "colorbar": {
              "outlinewidth": 0,
              "ticks": ""
             }
            },
            "type": "scatter"
           }
          ],
          "scatter3d": [
           {
            "line": {
             "colorbar": {
              "outlinewidth": 0,
              "ticks": ""
             }
            },
            "marker": {
             "colorbar": {
              "outlinewidth": 0,
              "ticks": ""
             }
            },
            "type": "scatter3d"
           }
          ],
          "scattercarpet": [
           {
            "marker": {
             "colorbar": {
              "outlinewidth": 0,
              "ticks": ""
             }
            },
            "type": "scattercarpet"
           }
          ],
          "scattergeo": [
           {
            "marker": {
             "colorbar": {
              "outlinewidth": 0,
              "ticks": ""
             }
            },
            "type": "scattergeo"
           }
          ],
          "scattergl": [
           {
            "marker": {
             "colorbar": {
              "outlinewidth": 0,
              "ticks": ""
             }
            },
            "type": "scattergl"
           }
          ],
          "scattermapbox": [
           {
            "marker": {
             "colorbar": {
              "outlinewidth": 0,
              "ticks": ""
             }
            },
            "type": "scattermapbox"
           }
          ],
          "scatterpolar": [
           {
            "marker": {
             "colorbar": {
              "outlinewidth": 0,
              "ticks": ""
             }
            },
            "type": "scatterpolar"
           }
          ],
          "scatterpolargl": [
           {
            "marker": {
             "colorbar": {
              "outlinewidth": 0,
              "ticks": ""
             }
            },
            "type": "scatterpolargl"
           }
          ],
          "scatterternary": [
           {
            "marker": {
             "colorbar": {
              "outlinewidth": 0,
              "ticks": ""
             }
            },
            "type": "scatterternary"
           }
          ],
          "surface": [
           {
            "colorbar": {
             "outlinewidth": 0,
             "ticks": ""
            },
            "colorscale": [
             [
              0,
              "#0d0887"
             ],
             [
              0.1111111111111111,
              "#46039f"
             ],
             [
              0.2222222222222222,
              "#7201a8"
             ],
             [
              0.3333333333333333,
              "#9c179e"
             ],
             [
              0.4444444444444444,
              "#bd3786"
             ],
             [
              0.5555555555555556,
              "#d8576b"
             ],
             [
              0.6666666666666666,
              "#ed7953"
             ],
             [
              0.7777777777777778,
              "#fb9f3a"
             ],
             [
              0.8888888888888888,
              "#fdca26"
             ],
             [
              1,
              "#f0f921"
             ]
            ],
            "type": "surface"
           }
          ],
          "table": [
           {
            "cells": {
             "fill": {
              "color": "#EBF0F8"
             },
             "line": {
              "color": "white"
             }
            },
            "header": {
             "fill": {
              "color": "#C8D4E3"
             },
             "line": {
              "color": "white"
             }
            },
            "type": "table"
           }
          ]
         },
         "layout": {
          "annotationdefaults": {
           "arrowcolor": "#2a3f5f",
           "arrowhead": 0,
           "arrowwidth": 1
          },
          "autotypenumbers": "strict",
          "coloraxis": {
           "colorbar": {
            "outlinewidth": 0,
            "ticks": ""
           }
          },
          "colorscale": {
           "diverging": [
            [
             0,
             "#8e0152"
            ],
            [
             0.1,
             "#c51b7d"
            ],
            [
             0.2,
             "#de77ae"
            ],
            [
             0.3,
             "#f1b6da"
            ],
            [
             0.4,
             "#fde0ef"
            ],
            [
             0.5,
             "#f7f7f7"
            ],
            [
             0.6,
             "#e6f5d0"
            ],
            [
             0.7,
             "#b8e186"
            ],
            [
             0.8,
             "#7fbc41"
            ],
            [
             0.9,
             "#4d9221"
            ],
            [
             1,
             "#276419"
            ]
           ],
           "sequential": [
            [
             0,
             "#0d0887"
            ],
            [
             0.1111111111111111,
             "#46039f"
            ],
            [
             0.2222222222222222,
             "#7201a8"
            ],
            [
             0.3333333333333333,
             "#9c179e"
            ],
            [
             0.4444444444444444,
             "#bd3786"
            ],
            [
             0.5555555555555556,
             "#d8576b"
            ],
            [
             0.6666666666666666,
             "#ed7953"
            ],
            [
             0.7777777777777778,
             "#fb9f3a"
            ],
            [
             0.8888888888888888,
             "#fdca26"
            ],
            [
             1,
             "#f0f921"
            ]
           ],
           "sequentialminus": [
            [
             0,
             "#0d0887"
            ],
            [
             0.1111111111111111,
             "#46039f"
            ],
            [
             0.2222222222222222,
             "#7201a8"
            ],
            [
             0.3333333333333333,
             "#9c179e"
            ],
            [
             0.4444444444444444,
             "#bd3786"
            ],
            [
             0.5555555555555556,
             "#d8576b"
            ],
            [
             0.6666666666666666,
             "#ed7953"
            ],
            [
             0.7777777777777778,
             "#fb9f3a"
            ],
            [
             0.8888888888888888,
             "#fdca26"
            ],
            [
             1,
             "#f0f921"
            ]
           ]
          },
          "colorway": [
           "#636efa",
           "#EF553B",
           "#00cc96",
           "#ab63fa",
           "#FFA15A",
           "#19d3f3",
           "#FF6692",
           "#B6E880",
           "#FF97FF",
           "#FECB52"
          ],
          "font": {
           "color": "#2a3f5f"
          },
          "geo": {
           "bgcolor": "white",
           "lakecolor": "white",
           "landcolor": "#E5ECF6",
           "showlakes": true,
           "showland": true,
           "subunitcolor": "white"
          },
          "hoverlabel": {
           "align": "left"
          },
          "hovermode": "closest",
          "mapbox": {
           "style": "light"
          },
          "paper_bgcolor": "white",
          "plot_bgcolor": "#E5ECF6",
          "polar": {
           "angularaxis": {
            "gridcolor": "white",
            "linecolor": "white",
            "ticks": ""
           },
           "bgcolor": "#E5ECF6",
           "radialaxis": {
            "gridcolor": "white",
            "linecolor": "white",
            "ticks": ""
           }
          },
          "scene": {
           "xaxis": {
            "backgroundcolor": "#E5ECF6",
            "gridcolor": "white",
            "gridwidth": 2,
            "linecolor": "white",
            "showbackground": true,
            "ticks": "",
            "zerolinecolor": "white"
           },
           "yaxis": {
            "backgroundcolor": "#E5ECF6",
            "gridcolor": "white",
            "gridwidth": 2,
            "linecolor": "white",
            "showbackground": true,
            "ticks": "",
            "zerolinecolor": "white"
           },
           "zaxis": {
            "backgroundcolor": "#E5ECF6",
            "gridcolor": "white",
            "gridwidth": 2,
            "linecolor": "white",
            "showbackground": true,
            "ticks": "",
            "zerolinecolor": "white"
           }
          },
          "shapedefaults": {
           "line": {
            "color": "#2a3f5f"
           }
          },
          "ternary": {
           "aaxis": {
            "gridcolor": "white",
            "linecolor": "white",
            "ticks": ""
           },
           "baxis": {
            "gridcolor": "white",
            "linecolor": "white",
            "ticks": ""
           },
           "bgcolor": "#E5ECF6",
           "caxis": {
            "gridcolor": "white",
            "linecolor": "white",
            "ticks": ""
           }
          },
          "title": {
           "x": 0.05
          },
          "xaxis": {
           "automargin": true,
           "gridcolor": "white",
           "linecolor": "white",
           "ticks": "",
           "title": {
            "standoff": 15
           },
           "zerolinecolor": "white",
           "zerolinewidth": 2
          },
          "yaxis": {
           "automargin": true,
           "gridcolor": "white",
           "linecolor": "white",
           "ticks": "",
           "title": {
            "standoff": 15
           },
           "zerolinecolor": "white",
           "zerolinewidth": 2
          }
         }
        },
        "title": {
         "font": {
          "color": "#4D5663"
         }
        },
        "xaxis": {
         "anchor": "y",
         "domain": [
          0,
          0.2125
         ],
         "gridcolor": "#E1E5ED",
         "showgrid": false,
         "tickfont": {
          "color": "#4D5663"
         },
         "title": {
          "font": {
           "color": "#4D5663"
          },
          "text": ""
         },
         "zerolinecolor": "#E1E5ED"
        },
        "xaxis10": {
         "anchor": "y10",
         "domain": [
          0.2625,
          0.475
         ],
         "gridcolor": "#E1E5ED",
         "showgrid": false,
         "tickfont": {
          "color": "#4D5663"
         },
         "title": {
          "font": {
           "color": "#4D5663"
          },
          "text": ""
         },
         "zerolinecolor": "#E1E5ED"
        },
        "xaxis11": {
         "anchor": "y11",
         "domain": [
          0.525,
          0.7375
         ],
         "gridcolor": "#E1E5ED",
         "showgrid": false,
         "tickfont": {
          "color": "#4D5663"
         },
         "title": {
          "font": {
           "color": "#4D5663"
          },
          "text": ""
         },
         "zerolinecolor": "#E1E5ED"
        },
        "xaxis12": {
         "anchor": "y12",
         "domain": [
          0.7875,
          1
         ],
         "gridcolor": "#E1E5ED",
         "showgrid": false,
         "tickfont": {
          "color": "#4D5663"
         },
         "title": {
          "font": {
           "color": "#4D5663"
          },
          "text": ""
         },
         "zerolinecolor": "#E1E5ED"
        },
        "xaxis13": {
         "anchor": "y13",
         "domain": [
          0,
          0.2125
         ],
         "gridcolor": "#E1E5ED",
         "showgrid": false,
         "tickfont": {
          "color": "#4D5663"
         },
         "title": {
          "font": {
           "color": "#4D5663"
          },
          "text": ""
         },
         "zerolinecolor": "#E1E5ED"
        },
        "xaxis14": {
         "anchor": "y14",
         "domain": [
          0.2625,
          0.475
         ],
         "gridcolor": "#E1E5ED",
         "showgrid": false,
         "tickfont": {
          "color": "#4D5663"
         },
         "title": {
          "font": {
           "color": "#4D5663"
          },
          "text": ""
         },
         "zerolinecolor": "#E1E5ED"
        },
        "xaxis15": {
         "anchor": "y15",
         "domain": [
          0.525,
          0.7375
         ],
         "gridcolor": "#E1E5ED",
         "showgrid": false,
         "tickfont": {
          "color": "#4D5663"
         },
         "title": {
          "font": {
           "color": "#4D5663"
          },
          "text": ""
         },
         "zerolinecolor": "#E1E5ED"
        },
        "xaxis16": {
         "anchor": "y16",
         "domain": [
          0.7875,
          1
         ],
         "gridcolor": "#E1E5ED",
         "showgrid": false,
         "tickfont": {
          "color": "#4D5663"
         },
         "title": {
          "font": {
           "color": "#4D5663"
          },
          "text": ""
         },
         "zerolinecolor": "#E1E5ED"
        },
        "xaxis2": {
         "anchor": "y2",
         "domain": [
          0.2625,
          0.475
         ],
         "gridcolor": "#E1E5ED",
         "showgrid": false,
         "tickfont": {
          "color": "#4D5663"
         },
         "title": {
          "font": {
           "color": "#4D5663"
          },
          "text": ""
         },
         "zerolinecolor": "#E1E5ED"
        },
        "xaxis3": {
         "anchor": "y3",
         "domain": [
          0.525,
          0.7375
         ],
         "gridcolor": "#E1E5ED",
         "showgrid": false,
         "tickfont": {
          "color": "#4D5663"
         },
         "title": {
          "font": {
           "color": "#4D5663"
          },
          "text": ""
         },
         "zerolinecolor": "#E1E5ED"
        },
        "xaxis4": {
         "anchor": "y4",
         "domain": [
          0.7875,
          1
         ],
         "gridcolor": "#E1E5ED",
         "showgrid": false,
         "tickfont": {
          "color": "#4D5663"
         },
         "title": {
          "font": {
           "color": "#4D5663"
          },
          "text": ""
         },
         "zerolinecolor": "#E1E5ED"
        },
        "xaxis5": {
         "anchor": "y5",
         "domain": [
          0,
          0.2125
         ],
         "gridcolor": "#E1E5ED",
         "showgrid": false,
         "tickfont": {
          "color": "#4D5663"
         },
         "title": {
          "font": {
           "color": "#4D5663"
          },
          "text": ""
         },
         "zerolinecolor": "#E1E5ED"
        },
        "xaxis6": {
         "anchor": "y6",
         "domain": [
          0.2625,
          0.475
         ],
         "gridcolor": "#E1E5ED",
         "showgrid": false,
         "tickfont": {
          "color": "#4D5663"
         },
         "title": {
          "font": {
           "color": "#4D5663"
          },
          "text": ""
         },
         "zerolinecolor": "#E1E5ED"
        },
        "xaxis7": {
         "anchor": "y7",
         "domain": [
          0.525,
          0.7375
         ],
         "gridcolor": "#E1E5ED",
         "showgrid": false,
         "tickfont": {
          "color": "#4D5663"
         },
         "title": {
          "font": {
           "color": "#4D5663"
          },
          "text": ""
         },
         "zerolinecolor": "#E1E5ED"
        },
        "xaxis8": {
         "anchor": "y8",
         "domain": [
          0.7875,
          1
         ],
         "gridcolor": "#E1E5ED",
         "showgrid": false,
         "tickfont": {
          "color": "#4D5663"
         },
         "title": {
          "font": {
           "color": "#4D5663"
          },
          "text": ""
         },
         "zerolinecolor": "#E1E5ED"
        },
        "xaxis9": {
         "anchor": "y9",
         "domain": [
          0,
          0.2125
         ],
         "gridcolor": "#E1E5ED",
         "showgrid": false,
         "tickfont": {
          "color": "#4D5663"
         },
         "title": {
          "font": {
           "color": "#4D5663"
          },
          "text": ""
         },
         "zerolinecolor": "#E1E5ED"
        },
        "yaxis": {
         "anchor": "x",
         "domain": [
          0.8025,
          1
         ],
         "gridcolor": "#E1E5ED",
         "showgrid": false,
         "tickfont": {
          "color": "#4D5663"
         },
         "title": {
          "font": {
           "color": "#4D5663"
          },
          "text": ""
         },
         "zerolinecolor": "#E1E5ED"
        },
        "yaxis10": {
         "anchor": "x10",
         "domain": [
          0.2675,
          0.465
         ],
         "gridcolor": "#E1E5ED",
         "showgrid": false,
         "tickfont": {
          "color": "#4D5663"
         },
         "title": {
          "font": {
           "color": "#4D5663"
          },
          "text": ""
         },
         "zerolinecolor": "#E1E5ED"
        },
        "yaxis11": {
         "anchor": "x11",
         "domain": [
          0.2675,
          0.465
         ],
         "gridcolor": "#E1E5ED",
         "showgrid": false,
         "tickfont": {
          "color": "#4D5663"
         },
         "title": {
          "font": {
           "color": "#4D5663"
          },
          "text": ""
         },
         "zerolinecolor": "#E1E5ED"
        },
        "yaxis12": {
         "anchor": "x12",
         "domain": [
          0.2675,
          0.465
         ],
         "gridcolor": "#E1E5ED",
         "showgrid": false,
         "tickfont": {
          "color": "#4D5663"
         },
         "title": {
          "font": {
           "color": "#4D5663"
          },
          "text": ""
         },
         "zerolinecolor": "#E1E5ED"
        },
        "yaxis13": {
         "anchor": "x13",
         "domain": [
          0,
          0.1975
         ],
         "gridcolor": "#E1E5ED",
         "showgrid": false,
         "tickfont": {
          "color": "#4D5663"
         },
         "title": {
          "font": {
           "color": "#4D5663"
          },
          "text": ""
         },
         "zerolinecolor": "#E1E5ED"
        },
        "yaxis14": {
         "anchor": "x14",
         "domain": [
          0,
          0.1975
         ],
         "gridcolor": "#E1E5ED",
         "showgrid": false,
         "tickfont": {
          "color": "#4D5663"
         },
         "title": {
          "font": {
           "color": "#4D5663"
          },
          "text": ""
         },
         "zerolinecolor": "#E1E5ED"
        },
        "yaxis15": {
         "anchor": "x15",
         "domain": [
          0,
          0.1975
         ],
         "gridcolor": "#E1E5ED",
         "showgrid": false,
         "tickfont": {
          "color": "#4D5663"
         },
         "title": {
          "font": {
           "color": "#4D5663"
          },
          "text": ""
         },
         "zerolinecolor": "#E1E5ED"
        },
        "yaxis16": {
         "anchor": "x16",
         "domain": [
          0,
          0.1975
         ],
         "gridcolor": "#E1E5ED",
         "showgrid": false,
         "tickfont": {
          "color": "#4D5663"
         },
         "title": {
          "font": {
           "color": "#4D5663"
          },
          "text": ""
         },
         "zerolinecolor": "#E1E5ED"
        },
        "yaxis2": {
         "anchor": "x2",
         "domain": [
          0.8025,
          1
         ],
         "gridcolor": "#E1E5ED",
         "showgrid": false,
         "tickfont": {
          "color": "#4D5663"
         },
         "title": {
          "font": {
           "color": "#4D5663"
          },
          "text": ""
         },
         "zerolinecolor": "#E1E5ED"
        },
        "yaxis3": {
         "anchor": "x3",
         "domain": [
          0.8025,
          1
         ],
         "gridcolor": "#E1E5ED",
         "showgrid": false,
         "tickfont": {
          "color": "#4D5663"
         },
         "title": {
          "font": {
           "color": "#4D5663"
          },
          "text": ""
         },
         "zerolinecolor": "#E1E5ED"
        },
        "yaxis4": {
         "anchor": "x4",
         "domain": [
          0.8025,
          1
         ],
         "gridcolor": "#E1E5ED",
         "showgrid": false,
         "tickfont": {
          "color": "#4D5663"
         },
         "title": {
          "font": {
           "color": "#4D5663"
          },
          "text": ""
         },
         "zerolinecolor": "#E1E5ED"
        },
        "yaxis5": {
         "anchor": "x5",
         "domain": [
          0.535,
          0.7325
         ],
         "gridcolor": "#E1E5ED",
         "showgrid": false,
         "tickfont": {
          "color": "#4D5663"
         },
         "title": {
          "font": {
           "color": "#4D5663"
          },
          "text": ""
         },
         "zerolinecolor": "#E1E5ED"
        },
        "yaxis6": {
         "anchor": "x6",
         "domain": [
          0.535,
          0.7325
         ],
         "gridcolor": "#E1E5ED",
         "showgrid": false,
         "tickfont": {
          "color": "#4D5663"
         },
         "title": {
          "font": {
           "color": "#4D5663"
          },
          "text": ""
         },
         "zerolinecolor": "#E1E5ED"
        },
        "yaxis7": {
         "anchor": "x7",
         "domain": [
          0.535,
          0.7325
         ],
         "gridcolor": "#E1E5ED",
         "showgrid": false,
         "tickfont": {
          "color": "#4D5663"
         },
         "title": {
          "font": {
           "color": "#4D5663"
          },
          "text": ""
         },
         "zerolinecolor": "#E1E5ED"
        },
        "yaxis8": {
         "anchor": "x8",
         "domain": [
          0.535,
          0.7325
         ],
         "gridcolor": "#E1E5ED",
         "showgrid": false,
         "tickfont": {
          "color": "#4D5663"
         },
         "title": {
          "font": {
           "color": "#4D5663"
          },
          "text": ""
         },
         "zerolinecolor": "#E1E5ED"
        },
        "yaxis9": {
         "anchor": "x9",
         "domain": [
          0.2675,
          0.465
         ],
         "gridcolor": "#E1E5ED",
         "showgrid": false,
         "tickfont": {
          "color": "#4D5663"
         },
         "title": {
          "font": {
           "color": "#4D5663"
          },
          "text": ""
         },
         "zerolinecolor": "#E1E5ED"
        }
       }
      },
      "text/html": [
       "<div>                            <div id=\"861662bf-b750-4f03-9975-4cacfdb9ac5f\" class=\"plotly-graph-div\" style=\"height:525px; width:100%;\"></div>            <script type=\"text/javascript\">                require([\"plotly\"], function(Plotly) {                    window.PLOTLYENV=window.PLOTLYENV || {};\n",
       "                    window.PLOTLYENV.BASE_URL='https://plot.ly';                                    if (document.getElementById(\"861662bf-b750-4f03-9975-4cacfdb9ac5f\")) {                    Plotly.newPlot(                        \"861662bf-b750-4f03-9975-4cacfdb9ac5f\",                        [{\"histfunc\":\"count\",\"histnorm\":\"\",\"marker\":{\"color\":\"rgba(255, 153, 51, 1.0)\",\"line\":{\"color\":\"#4D5663\",\"width\":1.3}},\"name\":\"A\",\"nbinsx\":10,\"opacity\":0.8,\"orientation\":\"v\",\"type\":\"histogram\",\"x\":[0.18337390211043783,0.2577404769175627,-0.39940465232467737,0.194298848170503,0.34196496904498935,-0.6377170807139307,-1.049758108993871,0.49300518799557336,0.028811941662308698,-1.6269205354091907,-0.5202694534605817,-0.16098816834008395,0.05160848098571894,0.5364326233078089,0.4378795481417151,-0.03756114724023949,0.28914666492343494,-0.03814971702482578,1.1504709154224924,-0.7412218639075389,0.42086582271660816,0.9009691688219829,1.0400314771630996,-1.372257148733933,-0.4355821151470618,-0.09938130947803488,-0.9491201685059797,-0.8600172231155638,-0.7362359562302916,-0.1430515701566955,-0.617813406266883,-0.28055737559377186,0.46932264288215353,0.1514629997731117,-0.6583950527318917,-0.26662490652025683,0.5093904738392812,0.12592079431582454,1.1508237867549065,1.3284069604847262,-0.8627769007465207,-1.0231645951528927,-1.2276778357296108,-1.1730477649540723,1.6063794992902511,-0.023057504024252704,-0.01960344616633247,-1.0409575465574499,0.5256968428705312,0.5633261139142187,-1.277429648427179,-0.8594207760740425,-0.806527698662659,-1.3223242506953758,1.3971352314374699,0.3631614499519548,0.19128780513812077,0.39550446961128843,1.317416404924919,0.2756482721294413,0.9479537637621035,0.26781448001741226,1.2863595640654364,1.0377301080259809,0.18731377850380862,0.8097847708703942,0.21174695841002827,-0.7233239976517987,-0.2877696122095113,-1.2224779263270227,1.2959808963832966,1.2980313763074227,-0.4516678608167582,0.7301014683457027,-0.9165040725691428,-1.7967471408255278,0.09604702398927319,-0.8605396305059785,-0.972811531987986,-0.7769208316082751,2.02672405942737,-1.2194940629705828,-0.6034537463065365,-1.3731528380456066,0.478397263066975,0.3532628705494607,1.0128502952860179,-0.3372046017404665,-0.12940898816063387,-1.622834708604428,0.6955740306917982,0.048620002313087676,-1.8922763025622593,-2.368987592395905,-0.290907389966216,-0.19595573626291243,0.6964336785010147,0.9147274409544851,-0.6849847790150455,0.17976801555813846],\"xaxis\":\"x\",\"yaxis\":\"y\"},{\"line\":{\"color\":\"rgba(128, 128, 128, 1.0)\",\"dash\":\"solid\",\"shape\":\"linear\",\"width\":1.3},\"marker\":{\"size\":2,\"symbol\":\"circle\"},\"mode\":\"markers\",\"name\":\"A\",\"text\":\"\",\"type\":\"scatter\",\"x\":[-2.070372363174357,1.9871349625586698,0.44711385640110934,-0.1362509032529231,-0.8847481240368797,-0.3005585206574886,-0.4577370292878276,1.1257225790814913,1.6515424424291352,-1.1639372746696197,-0.4900512762265639,-0.9183246527863396,-0.5898528388193658,-1.9828423762964589,1.9251031300815986,-0.8516206949989477,-0.15077106194697446,0.39095318163453546,-0.04605799383381456,0.13106206252913166,-0.4492203115833142,0.8614098734884785,-0.30181904964322304,1.4124315275404664,1.2928582774051667,0.08553156946078898,-1.5202409642832018,-1.2972509965846963,-0.2554031732774126,1.1700927343793435,-1.4436089799837097,1.772822591539189,1.0437749024442213,-0.8655170969412663,0.07470374986811237,0.19696979466097256,0.71748915045575,0.5493037055770226,0.792387270172692,0.4388182367525948,0.8343802553032624,-0.27411066445450055,-0.759132779704796,-0.5510511505395224,0.7010550007848114,0.7436324676228472,-0.8167506411613927,-0.8309399064145929,-0.48367397638508636,0.40109935333422264,0.14717905622379798,0.4035364305538702,-1.4376361064073133,0.884504560227829,0.0756105825725042,1.3027235848809706,-0.410445635139286,1.664269298035139,0.8046955068796645,-1.608477203721027,0.11905357356672844,-0.8362872444628309,-1.0394082418010007,1.4718633565264032,0.3949671088451408,0.21605324037427268,-0.26067877739383255,0.20558921783396097,0.43336888717474037,-0.1724582369969408,-0.8898077313946257,-0.7966001330099107,-1.9096285209970933,-0.6234503963821106,-0.7492278502366498,-0.3937069363627399,0.4764640049465655,-0.0317529356831129,-1.2467218127574538,1.4515849281312752,1.0601562766774255,0.011700845601488541,-0.7004541496592039,0.2487099113720825,1.3953319784837215,0.8170929436416009,-1.093574826202585,-1.5190998335113597,1.565582460077773,0.6003738353358095,0.48003413782184207,-0.8768051319567273,1.1653769552823892,-0.09369210118747875,-1.236308547878392,1.069663761619053,-0.5090666413472539,0.5484467083147206,1.4116269424540293,1.4288779803279275],\"xaxis\":\"x2\",\"y\":[0.18337390211043783,0.2577404769175627,-0.39940465232467737,0.194298848170503,0.34196496904498935,-0.6377170807139307,-1.049758108993871,0.49300518799557336,0.028811941662308698,-1.6269205354091907,-0.5202694534605817,-0.16098816834008395,0.05160848098571894,0.5364326233078089,0.4378795481417151,-0.03756114724023949,0.28914666492343494,-0.03814971702482578,1.1504709154224924,-0.7412218639075389,0.42086582271660816,0.9009691688219829,1.0400314771630996,-1.372257148733933,-0.4355821151470618,-0.09938130947803488,-0.9491201685059797,-0.8600172231155638,-0.7362359562302916,-0.1430515701566955,-0.617813406266883,-0.28055737559377186,0.46932264288215353,0.1514629997731117,-0.6583950527318917,-0.26662490652025683,0.5093904738392812,0.12592079431582454,1.1508237867549065,1.3284069604847262,-0.8627769007465207,-1.0231645951528927,-1.2276778357296108,-1.1730477649540723,1.6063794992902511,-0.023057504024252704,-0.01960344616633247,-1.0409575465574499,0.5256968428705312,0.5633261139142187,-1.277429648427179,-0.8594207760740425,-0.806527698662659,-1.3223242506953758,1.3971352314374699,0.3631614499519548,0.19128780513812077,0.39550446961128843,1.317416404924919,0.2756482721294413,0.9479537637621035,0.26781448001741226,1.2863595640654364,1.0377301080259809,0.18731377850380862,0.8097847708703942,0.21174695841002827,-0.7233239976517987,-0.2877696122095113,-1.2224779263270227,1.2959808963832966,1.2980313763074227,-0.4516678608167582,0.7301014683457027,-0.9165040725691428,-1.7967471408255278,0.09604702398927319,-0.8605396305059785,-0.972811531987986,-0.7769208316082751,2.02672405942737,-1.2194940629705828,-0.6034537463065365,-1.3731528380456066,0.478397263066975,0.3532628705494607,1.0128502952860179,-0.3372046017404665,-0.12940898816063387,-1.622834708604428,0.6955740306917982,0.048620002313087676,-1.8922763025622593,-2.368987592395905,-0.290907389966216,-0.19595573626291243,0.6964336785010147,0.9147274409544851,-0.6849847790150455,0.17976801555813846],\"yaxis\":\"y2\"},{\"line\":{\"color\":\"rgba(128, 128, 128, 1.0)\",\"dash\":\"solid\",\"shape\":\"linear\",\"width\":1.3},\"marker\":{\"size\":2,\"symbol\":\"circle\"},\"mode\":\"markers\",\"name\":\"A\",\"text\":\"\",\"type\":\"scatter\",\"x\":[-0.10230251371271422,-0.9856164436609978,-2.3399000383333437,0.2129287217145665,-0.47190285990270525,-0.4455893739004875,-1.1074018197778728,-0.8470605012484446,-0.9627109543290664,1.470073977808318,0.47084265356054933,0.7108155263744863,1.2401437007945428,-0.054593330145385206,-0.8547017402721327,-0.6017006769118647,0.054778381869349656,-0.4058615198359087,2.1756281307509666,1.9184151737376318,0.44156846411607875,0.6910112638382438,0.6180384485757757,-1.6737460076007349,0.24474274221880774,-0.05308243547510542,-0.3965050268153458,1.1158397901214172,-0.5191277071590583,-0.3742543454169045,0.32384098822286733,-0.9424240637732767,1.1624649454706169,0.403125008198161,-0.9108548571391996,-0.651014853519304,0.7594866172513838,-0.3692304927976512,1.0437660044364991,-0.7733794248520502,1.5802947319123615,-0.16694697346930254,-1.0537387547253623,0.7013102740251326,-0.25754264065038185,-0.5983995472437618,1.1024279335020388,-0.6361436010196305,1.0991555577904437,-0.23720122737068883,0.4422899782991347,-0.5988490557671503,-1.3346809455137536,-0.43122102824485803,1.9219788064136207,-0.40544130367258896,1.3423525215964787,1.256244571124063,0.3878877159071746,1.1382884131961375,-0.003257827151230089,-0.09878325140987494,-0.20378769773266844,-1.1522675096066486,0.08080163698515844,-0.44036771455025914,1.233541752252848,0.9809443162533105,1.2631387206383407,-0.14264650094562623,-0.28000106089175586,1.3415758234101816,-0.6239886301883519,-1.4500061362097343,-2.132568546188851,0.2985428090164885,0.014505993157389211,0.37727125206455775,-1.0794649827264955,1.505965384769507,-0.03716136608344573,-0.856448775823809,-0.8990139243173874,-0.9992424485619582,0.031418080681642716,0.6138366430139701,-2.0588113484633164,-2.6456597987520913,-1.3327064288424864,-0.13244130030483175,-0.8487573392629163,0.003511668648794605,0.8829461215799975,0.804021933184372,0.29668720205261867,-0.9629788026960224,-0.47711184392417805,0.07439884523606405,-1.039320063953802,0.7544691806713081],\"xaxis\":\"x3\",\"y\":[0.18337390211043783,0.2577404769175627,-0.39940465232467737,0.194298848170503,0.34196496904498935,-0.6377170807139307,-1.049758108993871,0.49300518799557336,0.028811941662308698,-1.6269205354091907,-0.5202694534605817,-0.16098816834008395,0.05160848098571894,0.5364326233078089,0.4378795481417151,-0.03756114724023949,0.28914666492343494,-0.03814971702482578,1.1504709154224924,-0.7412218639075389,0.42086582271660816,0.9009691688219829,1.0400314771630996,-1.372257148733933,-0.4355821151470618,-0.09938130947803488,-0.9491201685059797,-0.8600172231155638,-0.7362359562302916,-0.1430515701566955,-0.617813406266883,-0.28055737559377186,0.46932264288215353,0.1514629997731117,-0.6583950527318917,-0.26662490652025683,0.5093904738392812,0.12592079431582454,1.1508237867549065,1.3284069604847262,-0.8627769007465207,-1.0231645951528927,-1.2276778357296108,-1.1730477649540723,1.6063794992902511,-0.023057504024252704,-0.01960344616633247,-1.0409575465574499,0.5256968428705312,0.5633261139142187,-1.277429648427179,-0.8594207760740425,-0.806527698662659,-1.3223242506953758,1.3971352314374699,0.3631614499519548,0.19128780513812077,0.39550446961128843,1.317416404924919,0.2756482721294413,0.9479537637621035,0.26781448001741226,1.2863595640654364,1.0377301080259809,0.18731377850380862,0.8097847708703942,0.21174695841002827,-0.7233239976517987,-0.2877696122095113,-1.2224779263270227,1.2959808963832966,1.2980313763074227,-0.4516678608167582,0.7301014683457027,-0.9165040725691428,-1.7967471408255278,0.09604702398927319,-0.8605396305059785,-0.972811531987986,-0.7769208316082751,2.02672405942737,-1.2194940629705828,-0.6034537463065365,-1.3731528380456066,0.478397263066975,0.3532628705494607,1.0128502952860179,-0.3372046017404665,-0.12940898816063387,-1.622834708604428,0.6955740306917982,0.048620002313087676,-1.8922763025622593,-2.368987592395905,-0.290907389966216,-0.19595573626291243,0.6964336785010147,0.9147274409544851,-0.6849847790150455,0.17976801555813846],\"yaxis\":\"y3\"},{\"line\":{\"color\":\"rgba(128, 128, 128, 1.0)\",\"dash\":\"solid\",\"shape\":\"linear\",\"width\":1.3},\"marker\":{\"size\":2,\"symbol\":\"circle\"},\"mode\":\"markers\",\"name\":\"A\",\"text\":\"\",\"type\":\"scatter\",\"x\":[-0.9153771784213612,-0.4012924245057284,1.0938533103513841,-0.05876449087620939,-0.8928530670168028,0.8931516319027041,-1.2122585675519313,0.6336739053482365,0.6864409540871593,-2.450450162325935,1.3766362169548811,-0.09498972740325429,0.018249696688834572,0.00838371990785256,0.02637371267571218,-0.2494784700290381,-2.381179415567164,-0.8986148420620415,-0.6000789066669335,0.9901496738837742,0.5750403551444729,-1.1530766373329144,-0.10248929149795707,1.2879406999929592,0.9340275168061343,-0.36629099505249096,-0.21971945689411818,-2.1794559389850905,-1.128600301594586,0.38181810365012026,-0.3456615896544399,1.076840489089549,0.9702514291306714,-1.129889632834949,-1.5237686296693125,0.9893442639629663,0.02188116620021201,-0.3990886268885891,-0.26235256642600163,-0.9447050028143288,0.3285538558596209,-0.4949627482678983,-1.2410567632788745,-0.03117667293720784,0.27318088707611077,-1.4105882016730553,-0.6971444892873604,-0.2046839616180518,0.21311682457265613,0.05648021937646679,-1.7821486230559918,0.26138035559451905,0.9745360424409939,-0.46590150404526515,1.0163625781591268,-1.206430930878384,-0.28219484087131047,0.3370380040067882,-1.174709156907135,-0.9937967513245821,-1.2103419890348956,0.9666256144943123,0.7653167310678071,-0.5639565361190263,1.127287563860516,0.4597180739400952,0.9611780321994388,-0.1274364898935791,-3.144384054953149,0.3452719343299374,1.0108657267279595,0.560382773064362,-0.34389869715087096,-1.4172642705243446,-0.5403661751113938,1.751483965078072,-1.8536007651466044,0.7509631080228982,-1.3931867910949483,3.8348263491846044,-0.8803894827348969,-0.027395874356677143,-1.2836992348042278,0.07864063552442437,1.764684418462631,1.1831678276825883,0.3598658647264078,1.2684552760340417,1.28190870875007,1.144415560151816,0.08766066909626503,-0.15841220047729188,0.7748636032208857,-0.38719619122350646,2.338915126318817,0.46867997123726074,-0.3425382611596975,0.392730431721023,1.1755743201772637,-0.12158534043582828],\"xaxis\":\"x4\",\"y\":[0.18337390211043783,0.2577404769175627,-0.39940465232467737,0.194298848170503,0.34196496904498935,-0.6377170807139307,-1.049758108993871,0.49300518799557336,0.028811941662308698,-1.6269205354091907,-0.5202694534605817,-0.16098816834008395,0.05160848098571894,0.5364326233078089,0.4378795481417151,-0.03756114724023949,0.28914666492343494,-0.03814971702482578,1.1504709154224924,-0.7412218639075389,0.42086582271660816,0.9009691688219829,1.0400314771630996,-1.372257148733933,-0.4355821151470618,-0.09938130947803488,-0.9491201685059797,-0.8600172231155638,-0.7362359562302916,-0.1430515701566955,-0.617813406266883,-0.28055737559377186,0.46932264288215353,0.1514629997731117,-0.6583950527318917,-0.26662490652025683,0.5093904738392812,0.12592079431582454,1.1508237867549065,1.3284069604847262,-0.8627769007465207,-1.0231645951528927,-1.2276778357296108,-1.1730477649540723,1.6063794992902511,-0.023057504024252704,-0.01960344616633247,-1.0409575465574499,0.5256968428705312,0.5633261139142187,-1.277429648427179,-0.8594207760740425,-0.806527698662659,-1.3223242506953758,1.3971352314374699,0.3631614499519548,0.19128780513812077,0.39550446961128843,1.317416404924919,0.2756482721294413,0.9479537637621035,0.26781448001741226,1.2863595640654364,1.0377301080259809,0.18731377850380862,0.8097847708703942,0.21174695841002827,-0.7233239976517987,-0.2877696122095113,-1.2224779263270227,1.2959808963832966,1.2980313763074227,-0.4516678608167582,0.7301014683457027,-0.9165040725691428,-1.7967471408255278,0.09604702398927319,-0.8605396305059785,-0.972811531987986,-0.7769208316082751,2.02672405942737,-1.2194940629705828,-0.6034537463065365,-1.3731528380456066,0.478397263066975,0.3532628705494607,1.0128502952860179,-0.3372046017404665,-0.12940898816063387,-1.622834708604428,0.6955740306917982,0.048620002313087676,-1.8922763025622593,-2.368987592395905,-0.290907389966216,-0.19595573626291243,0.6964336785010147,0.9147274409544851,-0.6849847790150455,0.17976801555813846],\"yaxis\":\"y4\"},{\"line\":{\"color\":\"rgba(128, 128, 128, 1.0)\",\"dash\":\"solid\",\"shape\":\"linear\",\"width\":1.3},\"marker\":{\"size\":2,\"symbol\":\"circle\"},\"mode\":\"markers\",\"name\":\"B\",\"text\":\"\",\"type\":\"scatter\",\"x\":[0.18337390211043783,0.2577404769175627,-0.39940465232467737,0.194298848170503,0.34196496904498935,-0.6377170807139307,-1.049758108993871,0.49300518799557336,0.028811941662308698,-1.6269205354091907,-0.5202694534605817,-0.16098816834008395,0.05160848098571894,0.5364326233078089,0.4378795481417151,-0.03756114724023949,0.28914666492343494,-0.03814971702482578,1.1504709154224924,-0.7412218639075389,0.42086582271660816,0.9009691688219829,1.0400314771630996,-1.372257148733933,-0.4355821151470618,-0.09938130947803488,-0.9491201685059797,-0.8600172231155638,-0.7362359562302916,-0.1430515701566955,-0.617813406266883,-0.28055737559377186,0.46932264288215353,0.1514629997731117,-0.6583950527318917,-0.26662490652025683,0.5093904738392812,0.12592079431582454,1.1508237867549065,1.3284069604847262,-0.8627769007465207,-1.0231645951528927,-1.2276778357296108,-1.1730477649540723,1.6063794992902511,-0.023057504024252704,-0.01960344616633247,-1.0409575465574499,0.5256968428705312,0.5633261139142187,-1.277429648427179,-0.8594207760740425,-0.806527698662659,-1.3223242506953758,1.3971352314374699,0.3631614499519548,0.19128780513812077,0.39550446961128843,1.317416404924919,0.2756482721294413,0.9479537637621035,0.26781448001741226,1.2863595640654364,1.0377301080259809,0.18731377850380862,0.8097847708703942,0.21174695841002827,-0.7233239976517987,-0.2877696122095113,-1.2224779263270227,1.2959808963832966,1.2980313763074227,-0.4516678608167582,0.7301014683457027,-0.9165040725691428,-1.7967471408255278,0.09604702398927319,-0.8605396305059785,-0.972811531987986,-0.7769208316082751,2.02672405942737,-1.2194940629705828,-0.6034537463065365,-1.3731528380456066,0.478397263066975,0.3532628705494607,1.0128502952860179,-0.3372046017404665,-0.12940898816063387,-1.622834708604428,0.6955740306917982,0.048620002313087676,-1.8922763025622593,-2.368987592395905,-0.290907389966216,-0.19595573626291243,0.6964336785010147,0.9147274409544851,-0.6849847790150455,0.17976801555813846],\"xaxis\":\"x5\",\"y\":[-2.070372363174357,1.9871349625586698,0.44711385640110934,-0.1362509032529231,-0.8847481240368797,-0.3005585206574886,-0.4577370292878276,1.1257225790814913,1.6515424424291352,-1.1639372746696197,-0.4900512762265639,-0.9183246527863396,-0.5898528388193658,-1.9828423762964589,1.9251031300815986,-0.8516206949989477,-0.15077106194697446,0.39095318163453546,-0.04605799383381456,0.13106206252913166,-0.4492203115833142,0.8614098734884785,-0.30181904964322304,1.4124315275404664,1.2928582774051667,0.08553156946078898,-1.5202409642832018,-1.2972509965846963,-0.2554031732774126,1.1700927343793435,-1.4436089799837097,1.772822591539189,1.0437749024442213,-0.8655170969412663,0.07470374986811237,0.19696979466097256,0.71748915045575,0.5493037055770226,0.792387270172692,0.4388182367525948,0.8343802553032624,-0.27411066445450055,-0.759132779704796,-0.5510511505395224,0.7010550007848114,0.7436324676228472,-0.8167506411613927,-0.8309399064145929,-0.48367397638508636,0.40109935333422264,0.14717905622379798,0.4035364305538702,-1.4376361064073133,0.884504560227829,0.0756105825725042,1.3027235848809706,-0.410445635139286,1.664269298035139,0.8046955068796645,-1.608477203721027,0.11905357356672844,-0.8362872444628309,-1.0394082418010007,1.4718633565264032,0.3949671088451408,0.21605324037427268,-0.26067877739383255,0.20558921783396097,0.43336888717474037,-0.1724582369969408,-0.8898077313946257,-0.7966001330099107,-1.9096285209970933,-0.6234503963821106,-0.7492278502366498,-0.3937069363627399,0.4764640049465655,-0.0317529356831129,-1.2467218127574538,1.4515849281312752,1.0601562766774255,0.011700845601488541,-0.7004541496592039,0.2487099113720825,1.3953319784837215,0.8170929436416009,-1.093574826202585,-1.5190998335113597,1.565582460077773,0.6003738353358095,0.48003413782184207,-0.8768051319567273,1.1653769552823892,-0.09369210118747875,-1.236308547878392,1.069663761619053,-0.5090666413472539,0.5484467083147206,1.4116269424540293,1.4288779803279275],\"yaxis\":\"y5\"},{\"histfunc\":\"count\",\"histnorm\":\"\",\"marker\":{\"color\":\"rgba(55, 128, 191, 1.0)\",\"line\":{\"color\":\"#4D5663\",\"width\":1.3}},\"name\":\"B\",\"nbinsx\":10,\"opacity\":0.8,\"orientation\":\"v\",\"type\":\"histogram\",\"x\":[-2.070372363174357,1.9871349625586698,0.44711385640110934,-0.1362509032529231,-0.8847481240368797,-0.3005585206574886,-0.4577370292878276,1.1257225790814913,1.6515424424291352,-1.1639372746696197,-0.4900512762265639,-0.9183246527863396,-0.5898528388193658,-1.9828423762964589,1.9251031300815986,-0.8516206949989477,-0.15077106194697446,0.39095318163453546,-0.04605799383381456,0.13106206252913166,-0.4492203115833142,0.8614098734884785,-0.30181904964322304,1.4124315275404664,1.2928582774051667,0.08553156946078898,-1.5202409642832018,-1.2972509965846963,-0.2554031732774126,1.1700927343793435,-1.4436089799837097,1.772822591539189,1.0437749024442213,-0.8655170969412663,0.07470374986811237,0.19696979466097256,0.71748915045575,0.5493037055770226,0.792387270172692,0.4388182367525948,0.8343802553032624,-0.27411066445450055,-0.759132779704796,-0.5510511505395224,0.7010550007848114,0.7436324676228472,-0.8167506411613927,-0.8309399064145929,-0.48367397638508636,0.40109935333422264,0.14717905622379798,0.4035364305538702,-1.4376361064073133,0.884504560227829,0.0756105825725042,1.3027235848809706,-0.410445635139286,1.664269298035139,0.8046955068796645,-1.608477203721027,0.11905357356672844,-0.8362872444628309,-1.0394082418010007,1.4718633565264032,0.3949671088451408,0.21605324037427268,-0.26067877739383255,0.20558921783396097,0.43336888717474037,-0.1724582369969408,-0.8898077313946257,-0.7966001330099107,-1.9096285209970933,-0.6234503963821106,-0.7492278502366498,-0.3937069363627399,0.4764640049465655,-0.0317529356831129,-1.2467218127574538,1.4515849281312752,1.0601562766774255,0.011700845601488541,-0.7004541496592039,0.2487099113720825,1.3953319784837215,0.8170929436416009,-1.093574826202585,-1.5190998335113597,1.565582460077773,0.6003738353358095,0.48003413782184207,-0.8768051319567273,1.1653769552823892,-0.09369210118747875,-1.236308547878392,1.069663761619053,-0.5090666413472539,0.5484467083147206,1.4116269424540293,1.4288779803279275],\"xaxis\":\"x6\",\"yaxis\":\"y6\"},{\"line\":{\"color\":\"rgba(128, 128, 128, 1.0)\",\"dash\":\"solid\",\"shape\":\"linear\",\"width\":1.3},\"marker\":{\"size\":2,\"symbol\":\"circle\"},\"mode\":\"markers\",\"name\":\"B\",\"text\":\"\",\"type\":\"scatter\",\"x\":[-0.10230251371271422,-0.9856164436609978,-2.3399000383333437,0.2129287217145665,-0.47190285990270525,-0.4455893739004875,-1.1074018197778728,-0.8470605012484446,-0.9627109543290664,1.470073977808318,0.47084265356054933,0.7108155263744863,1.2401437007945428,-0.054593330145385206,-0.8547017402721327,-0.6017006769118647,0.054778381869349656,-0.4058615198359087,2.1756281307509666,1.9184151737376318,0.44156846411607875,0.6910112638382438,0.6180384485757757,-1.6737460076007349,0.24474274221880774,-0.05308243547510542,-0.3965050268153458,1.1158397901214172,-0.5191277071590583,-0.3742543454169045,0.32384098822286733,-0.9424240637732767,1.1624649454706169,0.403125008198161,-0.9108548571391996,-0.651014853519304,0.7594866172513838,-0.3692304927976512,1.0437660044364991,-0.7733794248520502,1.5802947319123615,-0.16694697346930254,-1.0537387547253623,0.7013102740251326,-0.25754264065038185,-0.5983995472437618,1.1024279335020388,-0.6361436010196305,1.0991555577904437,-0.23720122737068883,0.4422899782991347,-0.5988490557671503,-1.3346809455137536,-0.43122102824485803,1.9219788064136207,-0.40544130367258896,1.3423525215964787,1.256244571124063,0.3878877159071746,1.1382884131961375,-0.003257827151230089,-0.09878325140987494,-0.20378769773266844,-1.1522675096066486,0.08080163698515844,-0.44036771455025914,1.233541752252848,0.9809443162533105,1.2631387206383407,-0.14264650094562623,-0.28000106089175586,1.3415758234101816,-0.6239886301883519,-1.4500061362097343,-2.132568546188851,0.2985428090164885,0.014505993157389211,0.37727125206455775,-1.0794649827264955,1.505965384769507,-0.03716136608344573,-0.856448775823809,-0.8990139243173874,-0.9992424485619582,0.031418080681642716,0.6138366430139701,-2.0588113484633164,-2.6456597987520913,-1.3327064288424864,-0.13244130030483175,-0.8487573392629163,0.003511668648794605,0.8829461215799975,0.804021933184372,0.29668720205261867,-0.9629788026960224,-0.47711184392417805,0.07439884523606405,-1.039320063953802,0.7544691806713081],\"xaxis\":\"x7\",\"y\":[-2.070372363174357,1.9871349625586698,0.44711385640110934,-0.1362509032529231,-0.8847481240368797,-0.3005585206574886,-0.4577370292878276,1.1257225790814913,1.6515424424291352,-1.1639372746696197,-0.4900512762265639,-0.9183246527863396,-0.5898528388193658,-1.9828423762964589,1.9251031300815986,-0.8516206949989477,-0.15077106194697446,0.39095318163453546,-0.04605799383381456,0.13106206252913166,-0.4492203115833142,0.8614098734884785,-0.30181904964322304,1.4124315275404664,1.2928582774051667,0.08553156946078898,-1.5202409642832018,-1.2972509965846963,-0.2554031732774126,1.1700927343793435,-1.4436089799837097,1.772822591539189,1.0437749024442213,-0.8655170969412663,0.07470374986811237,0.19696979466097256,0.71748915045575,0.5493037055770226,0.792387270172692,0.4388182367525948,0.8343802553032624,-0.27411066445450055,-0.759132779704796,-0.5510511505395224,0.7010550007848114,0.7436324676228472,-0.8167506411613927,-0.8309399064145929,-0.48367397638508636,0.40109935333422264,0.14717905622379798,0.4035364305538702,-1.4376361064073133,0.884504560227829,0.0756105825725042,1.3027235848809706,-0.410445635139286,1.664269298035139,0.8046955068796645,-1.608477203721027,0.11905357356672844,-0.8362872444628309,-1.0394082418010007,1.4718633565264032,0.3949671088451408,0.21605324037427268,-0.26067877739383255,0.20558921783396097,0.43336888717474037,-0.1724582369969408,-0.8898077313946257,-0.7966001330099107,-1.9096285209970933,-0.6234503963821106,-0.7492278502366498,-0.3937069363627399,0.4764640049465655,-0.0317529356831129,-1.2467218127574538,1.4515849281312752,1.0601562766774255,0.011700845601488541,-0.7004541496592039,0.2487099113720825,1.3953319784837215,0.8170929436416009,-1.093574826202585,-1.5190998335113597,1.565582460077773,0.6003738353358095,0.48003413782184207,-0.8768051319567273,1.1653769552823892,-0.09369210118747875,-1.236308547878392,1.069663761619053,-0.5090666413472539,0.5484467083147206,1.4116269424540293,1.4288779803279275],\"yaxis\":\"y7\"},{\"line\":{\"color\":\"rgba(128, 128, 128, 1.0)\",\"dash\":\"solid\",\"shape\":\"linear\",\"width\":1.3},\"marker\":{\"size\":2,\"symbol\":\"circle\"},\"mode\":\"markers\",\"name\":\"B\",\"text\":\"\",\"type\":\"scatter\",\"x\":[-0.9153771784213612,-0.4012924245057284,1.0938533103513841,-0.05876449087620939,-0.8928530670168028,0.8931516319027041,-1.2122585675519313,0.6336739053482365,0.6864409540871593,-2.450450162325935,1.3766362169548811,-0.09498972740325429,0.018249696688834572,0.00838371990785256,0.02637371267571218,-0.2494784700290381,-2.381179415567164,-0.8986148420620415,-0.6000789066669335,0.9901496738837742,0.5750403551444729,-1.1530766373329144,-0.10248929149795707,1.2879406999929592,0.9340275168061343,-0.36629099505249096,-0.21971945689411818,-2.1794559389850905,-1.128600301594586,0.38181810365012026,-0.3456615896544399,1.076840489089549,0.9702514291306714,-1.129889632834949,-1.5237686296693125,0.9893442639629663,0.02188116620021201,-0.3990886268885891,-0.26235256642600163,-0.9447050028143288,0.3285538558596209,-0.4949627482678983,-1.2410567632788745,-0.03117667293720784,0.27318088707611077,-1.4105882016730553,-0.6971444892873604,-0.2046839616180518,0.21311682457265613,0.05648021937646679,-1.7821486230559918,0.26138035559451905,0.9745360424409939,-0.46590150404526515,1.0163625781591268,-1.206430930878384,-0.28219484087131047,0.3370380040067882,-1.174709156907135,-0.9937967513245821,-1.2103419890348956,0.9666256144943123,0.7653167310678071,-0.5639565361190263,1.127287563860516,0.4597180739400952,0.9611780321994388,-0.1274364898935791,-3.144384054953149,0.3452719343299374,1.0108657267279595,0.560382773064362,-0.34389869715087096,-1.4172642705243446,-0.5403661751113938,1.751483965078072,-1.8536007651466044,0.7509631080228982,-1.3931867910949483,3.8348263491846044,-0.8803894827348969,-0.027395874356677143,-1.2836992348042278,0.07864063552442437,1.764684418462631,1.1831678276825883,0.3598658647264078,1.2684552760340417,1.28190870875007,1.144415560151816,0.08766066909626503,-0.15841220047729188,0.7748636032208857,-0.38719619122350646,2.338915126318817,0.46867997123726074,-0.3425382611596975,0.392730431721023,1.1755743201772637,-0.12158534043582828],\"xaxis\":\"x8\",\"y\":[-2.070372363174357,1.9871349625586698,0.44711385640110934,-0.1362509032529231,-0.8847481240368797,-0.3005585206574886,-0.4577370292878276,1.1257225790814913,1.6515424424291352,-1.1639372746696197,-0.4900512762265639,-0.9183246527863396,-0.5898528388193658,-1.9828423762964589,1.9251031300815986,-0.8516206949989477,-0.15077106194697446,0.39095318163453546,-0.04605799383381456,0.13106206252913166,-0.4492203115833142,0.8614098734884785,-0.30181904964322304,1.4124315275404664,1.2928582774051667,0.08553156946078898,-1.5202409642832018,-1.2972509965846963,-0.2554031732774126,1.1700927343793435,-1.4436089799837097,1.772822591539189,1.0437749024442213,-0.8655170969412663,0.07470374986811237,0.19696979466097256,0.71748915045575,0.5493037055770226,0.792387270172692,0.4388182367525948,0.8343802553032624,-0.27411066445450055,-0.759132779704796,-0.5510511505395224,0.7010550007848114,0.7436324676228472,-0.8167506411613927,-0.8309399064145929,-0.48367397638508636,0.40109935333422264,0.14717905622379798,0.4035364305538702,-1.4376361064073133,0.884504560227829,0.0756105825725042,1.3027235848809706,-0.410445635139286,1.664269298035139,0.8046955068796645,-1.608477203721027,0.11905357356672844,-0.8362872444628309,-1.0394082418010007,1.4718633565264032,0.3949671088451408,0.21605324037427268,-0.26067877739383255,0.20558921783396097,0.43336888717474037,-0.1724582369969408,-0.8898077313946257,-0.7966001330099107,-1.9096285209970933,-0.6234503963821106,-0.7492278502366498,-0.3937069363627399,0.4764640049465655,-0.0317529356831129,-1.2467218127574538,1.4515849281312752,1.0601562766774255,0.011700845601488541,-0.7004541496592039,0.2487099113720825,1.3953319784837215,0.8170929436416009,-1.093574826202585,-1.5190998335113597,1.565582460077773,0.6003738353358095,0.48003413782184207,-0.8768051319567273,1.1653769552823892,-0.09369210118747875,-1.236308547878392,1.069663761619053,-0.5090666413472539,0.5484467083147206,1.4116269424540293,1.4288779803279275],\"yaxis\":\"y8\"},{\"line\":{\"color\":\"rgba(128, 128, 128, 1.0)\",\"dash\":\"solid\",\"shape\":\"linear\",\"width\":1.3},\"marker\":{\"size\":2,\"symbol\":\"circle\"},\"mode\":\"markers\",\"name\":\"C\",\"text\":\"\",\"type\":\"scatter\",\"x\":[0.18337390211043783,0.2577404769175627,-0.39940465232467737,0.194298848170503,0.34196496904498935,-0.6377170807139307,-1.049758108993871,0.49300518799557336,0.028811941662308698,-1.6269205354091907,-0.5202694534605817,-0.16098816834008395,0.05160848098571894,0.5364326233078089,0.4378795481417151,-0.03756114724023949,0.28914666492343494,-0.03814971702482578,1.1504709154224924,-0.7412218639075389,0.42086582271660816,0.9009691688219829,1.0400314771630996,-1.372257148733933,-0.4355821151470618,-0.09938130947803488,-0.9491201685059797,-0.8600172231155638,-0.7362359562302916,-0.1430515701566955,-0.617813406266883,-0.28055737559377186,0.46932264288215353,0.1514629997731117,-0.6583950527318917,-0.26662490652025683,0.5093904738392812,0.12592079431582454,1.1508237867549065,1.3284069604847262,-0.8627769007465207,-1.0231645951528927,-1.2276778357296108,-1.1730477649540723,1.6063794992902511,-0.023057504024252704,-0.01960344616633247,-1.0409575465574499,0.5256968428705312,0.5633261139142187,-1.277429648427179,-0.8594207760740425,-0.806527698662659,-1.3223242506953758,1.3971352314374699,0.3631614499519548,0.19128780513812077,0.39550446961128843,1.317416404924919,0.2756482721294413,0.9479537637621035,0.26781448001741226,1.2863595640654364,1.0377301080259809,0.18731377850380862,0.8097847708703942,0.21174695841002827,-0.7233239976517987,-0.2877696122095113,-1.2224779263270227,1.2959808963832966,1.2980313763074227,-0.4516678608167582,0.7301014683457027,-0.9165040725691428,-1.7967471408255278,0.09604702398927319,-0.8605396305059785,-0.972811531987986,-0.7769208316082751,2.02672405942737,-1.2194940629705828,-0.6034537463065365,-1.3731528380456066,0.478397263066975,0.3532628705494607,1.0128502952860179,-0.3372046017404665,-0.12940898816063387,-1.622834708604428,0.6955740306917982,0.048620002313087676,-1.8922763025622593,-2.368987592395905,-0.290907389966216,-0.19595573626291243,0.6964336785010147,0.9147274409544851,-0.6849847790150455,0.17976801555813846],\"xaxis\":\"x9\",\"y\":[-0.10230251371271422,-0.9856164436609978,-2.3399000383333437,0.2129287217145665,-0.47190285990270525,-0.4455893739004875,-1.1074018197778728,-0.8470605012484446,-0.9627109543290664,1.470073977808318,0.47084265356054933,0.7108155263744863,1.2401437007945428,-0.054593330145385206,-0.8547017402721327,-0.6017006769118647,0.054778381869349656,-0.4058615198359087,2.1756281307509666,1.9184151737376318,0.44156846411607875,0.6910112638382438,0.6180384485757757,-1.6737460076007349,0.24474274221880774,-0.05308243547510542,-0.3965050268153458,1.1158397901214172,-0.5191277071590583,-0.3742543454169045,0.32384098822286733,-0.9424240637732767,1.1624649454706169,0.403125008198161,-0.9108548571391996,-0.651014853519304,0.7594866172513838,-0.3692304927976512,1.0437660044364991,-0.7733794248520502,1.5802947319123615,-0.16694697346930254,-1.0537387547253623,0.7013102740251326,-0.25754264065038185,-0.5983995472437618,1.1024279335020388,-0.6361436010196305,1.0991555577904437,-0.23720122737068883,0.4422899782991347,-0.5988490557671503,-1.3346809455137536,-0.43122102824485803,1.9219788064136207,-0.40544130367258896,1.3423525215964787,1.256244571124063,0.3878877159071746,1.1382884131961375,-0.003257827151230089,-0.09878325140987494,-0.20378769773266844,-1.1522675096066486,0.08080163698515844,-0.44036771455025914,1.233541752252848,0.9809443162533105,1.2631387206383407,-0.14264650094562623,-0.28000106089175586,1.3415758234101816,-0.6239886301883519,-1.4500061362097343,-2.132568546188851,0.2985428090164885,0.014505993157389211,0.37727125206455775,-1.0794649827264955,1.505965384769507,-0.03716136608344573,-0.856448775823809,-0.8990139243173874,-0.9992424485619582,0.031418080681642716,0.6138366430139701,-2.0588113484633164,-2.6456597987520913,-1.3327064288424864,-0.13244130030483175,-0.8487573392629163,0.003511668648794605,0.8829461215799975,0.804021933184372,0.29668720205261867,-0.9629788026960224,-0.47711184392417805,0.07439884523606405,-1.039320063953802,0.7544691806713081],\"yaxis\":\"y9\"},{\"line\":{\"color\":\"rgba(128, 128, 128, 1.0)\",\"dash\":\"solid\",\"shape\":\"linear\",\"width\":1.3},\"marker\":{\"size\":2,\"symbol\":\"circle\"},\"mode\":\"markers\",\"name\":\"C\",\"text\":\"\",\"type\":\"scatter\",\"x\":[-2.070372363174357,1.9871349625586698,0.44711385640110934,-0.1362509032529231,-0.8847481240368797,-0.3005585206574886,-0.4577370292878276,1.1257225790814913,1.6515424424291352,-1.1639372746696197,-0.4900512762265639,-0.9183246527863396,-0.5898528388193658,-1.9828423762964589,1.9251031300815986,-0.8516206949989477,-0.15077106194697446,0.39095318163453546,-0.04605799383381456,0.13106206252913166,-0.4492203115833142,0.8614098734884785,-0.30181904964322304,1.4124315275404664,1.2928582774051667,0.08553156946078898,-1.5202409642832018,-1.2972509965846963,-0.2554031732774126,1.1700927343793435,-1.4436089799837097,1.772822591539189,1.0437749024442213,-0.8655170969412663,0.07470374986811237,0.19696979466097256,0.71748915045575,0.5493037055770226,0.792387270172692,0.4388182367525948,0.8343802553032624,-0.27411066445450055,-0.759132779704796,-0.5510511505395224,0.7010550007848114,0.7436324676228472,-0.8167506411613927,-0.8309399064145929,-0.48367397638508636,0.40109935333422264,0.14717905622379798,0.4035364305538702,-1.4376361064073133,0.884504560227829,0.0756105825725042,1.3027235848809706,-0.410445635139286,1.664269298035139,0.8046955068796645,-1.608477203721027,0.11905357356672844,-0.8362872444628309,-1.0394082418010007,1.4718633565264032,0.3949671088451408,0.21605324037427268,-0.26067877739383255,0.20558921783396097,0.43336888717474037,-0.1724582369969408,-0.8898077313946257,-0.7966001330099107,-1.9096285209970933,-0.6234503963821106,-0.7492278502366498,-0.3937069363627399,0.4764640049465655,-0.0317529356831129,-1.2467218127574538,1.4515849281312752,1.0601562766774255,0.011700845601488541,-0.7004541496592039,0.2487099113720825,1.3953319784837215,0.8170929436416009,-1.093574826202585,-1.5190998335113597,1.565582460077773,0.6003738353358095,0.48003413782184207,-0.8768051319567273,1.1653769552823892,-0.09369210118747875,-1.236308547878392,1.069663761619053,-0.5090666413472539,0.5484467083147206,1.4116269424540293,1.4288779803279275],\"xaxis\":\"x10\",\"y\":[-0.10230251371271422,-0.9856164436609978,-2.3399000383333437,0.2129287217145665,-0.47190285990270525,-0.4455893739004875,-1.1074018197778728,-0.8470605012484446,-0.9627109543290664,1.470073977808318,0.47084265356054933,0.7108155263744863,1.2401437007945428,-0.054593330145385206,-0.8547017402721327,-0.6017006769118647,0.054778381869349656,-0.4058615198359087,2.1756281307509666,1.9184151737376318,0.44156846411607875,0.6910112638382438,0.6180384485757757,-1.6737460076007349,0.24474274221880774,-0.05308243547510542,-0.3965050268153458,1.1158397901214172,-0.5191277071590583,-0.3742543454169045,0.32384098822286733,-0.9424240637732767,1.1624649454706169,0.403125008198161,-0.9108548571391996,-0.651014853519304,0.7594866172513838,-0.3692304927976512,1.0437660044364991,-0.7733794248520502,1.5802947319123615,-0.16694697346930254,-1.0537387547253623,0.7013102740251326,-0.25754264065038185,-0.5983995472437618,1.1024279335020388,-0.6361436010196305,1.0991555577904437,-0.23720122737068883,0.4422899782991347,-0.5988490557671503,-1.3346809455137536,-0.43122102824485803,1.9219788064136207,-0.40544130367258896,1.3423525215964787,1.256244571124063,0.3878877159071746,1.1382884131961375,-0.003257827151230089,-0.09878325140987494,-0.20378769773266844,-1.1522675096066486,0.08080163698515844,-0.44036771455025914,1.233541752252848,0.9809443162533105,1.2631387206383407,-0.14264650094562623,-0.28000106089175586,1.3415758234101816,-0.6239886301883519,-1.4500061362097343,-2.132568546188851,0.2985428090164885,0.014505993157389211,0.37727125206455775,-1.0794649827264955,1.505965384769507,-0.03716136608344573,-0.856448775823809,-0.8990139243173874,-0.9992424485619582,0.031418080681642716,0.6138366430139701,-2.0588113484633164,-2.6456597987520913,-1.3327064288424864,-0.13244130030483175,-0.8487573392629163,0.003511668648794605,0.8829461215799975,0.804021933184372,0.29668720205261867,-0.9629788026960224,-0.47711184392417805,0.07439884523606405,-1.039320063953802,0.7544691806713081],\"yaxis\":\"y10\"},{\"histfunc\":\"count\",\"histnorm\":\"\",\"marker\":{\"color\":\"rgba(50, 171, 96, 1.0)\",\"line\":{\"color\":\"#4D5663\",\"width\":1.3}},\"name\":\"C\",\"nbinsx\":10,\"opacity\":0.8,\"orientation\":\"v\",\"type\":\"histogram\",\"x\":[-0.10230251371271422,-0.9856164436609978,-2.3399000383333437,0.2129287217145665,-0.47190285990270525,-0.4455893739004875,-1.1074018197778728,-0.8470605012484446,-0.9627109543290664,1.470073977808318,0.47084265356054933,0.7108155263744863,1.2401437007945428,-0.054593330145385206,-0.8547017402721327,-0.6017006769118647,0.054778381869349656,-0.4058615198359087,2.1756281307509666,1.9184151737376318,0.44156846411607875,0.6910112638382438,0.6180384485757757,-1.6737460076007349,0.24474274221880774,-0.05308243547510542,-0.3965050268153458,1.1158397901214172,-0.5191277071590583,-0.3742543454169045,0.32384098822286733,-0.9424240637732767,1.1624649454706169,0.403125008198161,-0.9108548571391996,-0.651014853519304,0.7594866172513838,-0.3692304927976512,1.0437660044364991,-0.7733794248520502,1.5802947319123615,-0.16694697346930254,-1.0537387547253623,0.7013102740251326,-0.25754264065038185,-0.5983995472437618,1.1024279335020388,-0.6361436010196305,1.0991555577904437,-0.23720122737068883,0.4422899782991347,-0.5988490557671503,-1.3346809455137536,-0.43122102824485803,1.9219788064136207,-0.40544130367258896,1.3423525215964787,1.256244571124063,0.3878877159071746,1.1382884131961375,-0.003257827151230089,-0.09878325140987494,-0.20378769773266844,-1.1522675096066486,0.08080163698515844,-0.44036771455025914,1.233541752252848,0.9809443162533105,1.2631387206383407,-0.14264650094562623,-0.28000106089175586,1.3415758234101816,-0.6239886301883519,-1.4500061362097343,-2.132568546188851,0.2985428090164885,0.014505993157389211,0.37727125206455775,-1.0794649827264955,1.505965384769507,-0.03716136608344573,-0.856448775823809,-0.8990139243173874,-0.9992424485619582,0.031418080681642716,0.6138366430139701,-2.0588113484633164,-2.6456597987520913,-1.3327064288424864,-0.13244130030483175,-0.8487573392629163,0.003511668648794605,0.8829461215799975,0.804021933184372,0.29668720205261867,-0.9629788026960224,-0.47711184392417805,0.07439884523606405,-1.039320063953802,0.7544691806713081],\"xaxis\":\"x11\",\"yaxis\":\"y11\"},{\"line\":{\"color\":\"rgba(128, 128, 128, 1.0)\",\"dash\":\"solid\",\"shape\":\"linear\",\"width\":1.3},\"marker\":{\"size\":2,\"symbol\":\"circle\"},\"mode\":\"markers\",\"name\":\"C\",\"text\":\"\",\"type\":\"scatter\",\"x\":[-0.9153771784213612,-0.4012924245057284,1.0938533103513841,-0.05876449087620939,-0.8928530670168028,0.8931516319027041,-1.2122585675519313,0.6336739053482365,0.6864409540871593,-2.450450162325935,1.3766362169548811,-0.09498972740325429,0.018249696688834572,0.00838371990785256,0.02637371267571218,-0.2494784700290381,-2.381179415567164,-0.8986148420620415,-0.6000789066669335,0.9901496738837742,0.5750403551444729,-1.1530766373329144,-0.10248929149795707,1.2879406999929592,0.9340275168061343,-0.36629099505249096,-0.21971945689411818,-2.1794559389850905,-1.128600301594586,0.38181810365012026,-0.3456615896544399,1.076840489089549,0.9702514291306714,-1.129889632834949,-1.5237686296693125,0.9893442639629663,0.02188116620021201,-0.3990886268885891,-0.26235256642600163,-0.9447050028143288,0.3285538558596209,-0.4949627482678983,-1.2410567632788745,-0.03117667293720784,0.27318088707611077,-1.4105882016730553,-0.6971444892873604,-0.2046839616180518,0.21311682457265613,0.05648021937646679,-1.7821486230559918,0.26138035559451905,0.9745360424409939,-0.46590150404526515,1.0163625781591268,-1.206430930878384,-0.28219484087131047,0.3370380040067882,-1.174709156907135,-0.9937967513245821,-1.2103419890348956,0.9666256144943123,0.7653167310678071,-0.5639565361190263,1.127287563860516,0.4597180739400952,0.9611780321994388,-0.1274364898935791,-3.144384054953149,0.3452719343299374,1.0108657267279595,0.560382773064362,-0.34389869715087096,-1.4172642705243446,-0.5403661751113938,1.751483965078072,-1.8536007651466044,0.7509631080228982,-1.3931867910949483,3.8348263491846044,-0.8803894827348969,-0.027395874356677143,-1.2836992348042278,0.07864063552442437,1.764684418462631,1.1831678276825883,0.3598658647264078,1.2684552760340417,1.28190870875007,1.144415560151816,0.08766066909626503,-0.15841220047729188,0.7748636032208857,-0.38719619122350646,2.338915126318817,0.46867997123726074,-0.3425382611596975,0.392730431721023,1.1755743201772637,-0.12158534043582828],\"xaxis\":\"x12\",\"y\":[-0.10230251371271422,-0.9856164436609978,-2.3399000383333437,0.2129287217145665,-0.47190285990270525,-0.4455893739004875,-1.1074018197778728,-0.8470605012484446,-0.9627109543290664,1.470073977808318,0.47084265356054933,0.7108155263744863,1.2401437007945428,-0.054593330145385206,-0.8547017402721327,-0.6017006769118647,0.054778381869349656,-0.4058615198359087,2.1756281307509666,1.9184151737376318,0.44156846411607875,0.6910112638382438,0.6180384485757757,-1.6737460076007349,0.24474274221880774,-0.05308243547510542,-0.3965050268153458,1.1158397901214172,-0.5191277071590583,-0.3742543454169045,0.32384098822286733,-0.9424240637732767,1.1624649454706169,0.403125008198161,-0.9108548571391996,-0.651014853519304,0.7594866172513838,-0.3692304927976512,1.0437660044364991,-0.7733794248520502,1.5802947319123615,-0.16694697346930254,-1.0537387547253623,0.7013102740251326,-0.25754264065038185,-0.5983995472437618,1.1024279335020388,-0.6361436010196305,1.0991555577904437,-0.23720122737068883,0.4422899782991347,-0.5988490557671503,-1.3346809455137536,-0.43122102824485803,1.9219788064136207,-0.40544130367258896,1.3423525215964787,1.256244571124063,0.3878877159071746,1.1382884131961375,-0.003257827151230089,-0.09878325140987494,-0.20378769773266844,-1.1522675096066486,0.08080163698515844,-0.44036771455025914,1.233541752252848,0.9809443162533105,1.2631387206383407,-0.14264650094562623,-0.28000106089175586,1.3415758234101816,-0.6239886301883519,-1.4500061362097343,-2.132568546188851,0.2985428090164885,0.014505993157389211,0.37727125206455775,-1.0794649827264955,1.505965384769507,-0.03716136608344573,-0.856448775823809,-0.8990139243173874,-0.9992424485619582,0.031418080681642716,0.6138366430139701,-2.0588113484633164,-2.6456597987520913,-1.3327064288424864,-0.13244130030483175,-0.8487573392629163,0.003511668648794605,0.8829461215799975,0.804021933184372,0.29668720205261867,-0.9629788026960224,-0.47711184392417805,0.07439884523606405,-1.039320063953802,0.7544691806713081],\"yaxis\":\"y12\"},{\"line\":{\"color\":\"rgba(128, 128, 128, 1.0)\",\"dash\":\"solid\",\"shape\":\"linear\",\"width\":1.3},\"marker\":{\"size\":2,\"symbol\":\"circle\"},\"mode\":\"markers\",\"name\":\"D\",\"text\":\"\",\"type\":\"scatter\",\"x\":[0.18337390211043783,0.2577404769175627,-0.39940465232467737,0.194298848170503,0.34196496904498935,-0.6377170807139307,-1.049758108993871,0.49300518799557336,0.028811941662308698,-1.6269205354091907,-0.5202694534605817,-0.16098816834008395,0.05160848098571894,0.5364326233078089,0.4378795481417151,-0.03756114724023949,0.28914666492343494,-0.03814971702482578,1.1504709154224924,-0.7412218639075389,0.42086582271660816,0.9009691688219829,1.0400314771630996,-1.372257148733933,-0.4355821151470618,-0.09938130947803488,-0.9491201685059797,-0.8600172231155638,-0.7362359562302916,-0.1430515701566955,-0.617813406266883,-0.28055737559377186,0.46932264288215353,0.1514629997731117,-0.6583950527318917,-0.26662490652025683,0.5093904738392812,0.12592079431582454,1.1508237867549065,1.3284069604847262,-0.8627769007465207,-1.0231645951528927,-1.2276778357296108,-1.1730477649540723,1.6063794992902511,-0.023057504024252704,-0.01960344616633247,-1.0409575465574499,0.5256968428705312,0.5633261139142187,-1.277429648427179,-0.8594207760740425,-0.806527698662659,-1.3223242506953758,1.3971352314374699,0.3631614499519548,0.19128780513812077,0.39550446961128843,1.317416404924919,0.2756482721294413,0.9479537637621035,0.26781448001741226,1.2863595640654364,1.0377301080259809,0.18731377850380862,0.8097847708703942,0.21174695841002827,-0.7233239976517987,-0.2877696122095113,-1.2224779263270227,1.2959808963832966,1.2980313763074227,-0.4516678608167582,0.7301014683457027,-0.9165040725691428,-1.7967471408255278,0.09604702398927319,-0.8605396305059785,-0.972811531987986,-0.7769208316082751,2.02672405942737,-1.2194940629705828,-0.6034537463065365,-1.3731528380456066,0.478397263066975,0.3532628705494607,1.0128502952860179,-0.3372046017404665,-0.12940898816063387,-1.622834708604428,0.6955740306917982,0.048620002313087676,-1.8922763025622593,-2.368987592395905,-0.290907389966216,-0.19595573626291243,0.6964336785010147,0.9147274409544851,-0.6849847790150455,0.17976801555813846],\"xaxis\":\"x13\",\"y\":[-0.9153771784213612,-0.4012924245057284,1.0938533103513841,-0.05876449087620939,-0.8928530670168028,0.8931516319027041,-1.2122585675519313,0.6336739053482365,0.6864409540871593,-2.450450162325935,1.3766362169548811,-0.09498972740325429,0.018249696688834572,0.00838371990785256,0.02637371267571218,-0.2494784700290381,-2.381179415567164,-0.8986148420620415,-0.6000789066669335,0.9901496738837742,0.5750403551444729,-1.1530766373329144,-0.10248929149795707,1.2879406999929592,0.9340275168061343,-0.36629099505249096,-0.21971945689411818,-2.1794559389850905,-1.128600301594586,0.38181810365012026,-0.3456615896544399,1.076840489089549,0.9702514291306714,-1.129889632834949,-1.5237686296693125,0.9893442639629663,0.02188116620021201,-0.3990886268885891,-0.26235256642600163,-0.9447050028143288,0.3285538558596209,-0.4949627482678983,-1.2410567632788745,-0.03117667293720784,0.27318088707611077,-1.4105882016730553,-0.6971444892873604,-0.2046839616180518,0.21311682457265613,0.05648021937646679,-1.7821486230559918,0.26138035559451905,0.9745360424409939,-0.46590150404526515,1.0163625781591268,-1.206430930878384,-0.28219484087131047,0.3370380040067882,-1.174709156907135,-0.9937967513245821,-1.2103419890348956,0.9666256144943123,0.7653167310678071,-0.5639565361190263,1.127287563860516,0.4597180739400952,0.9611780321994388,-0.1274364898935791,-3.144384054953149,0.3452719343299374,1.0108657267279595,0.560382773064362,-0.34389869715087096,-1.4172642705243446,-0.5403661751113938,1.751483965078072,-1.8536007651466044,0.7509631080228982,-1.3931867910949483,3.8348263491846044,-0.8803894827348969,-0.027395874356677143,-1.2836992348042278,0.07864063552442437,1.764684418462631,1.1831678276825883,0.3598658647264078,1.2684552760340417,1.28190870875007,1.144415560151816,0.08766066909626503,-0.15841220047729188,0.7748636032208857,-0.38719619122350646,2.338915126318817,0.46867997123726074,-0.3425382611596975,0.392730431721023,1.1755743201772637,-0.12158534043582828],\"yaxis\":\"y13\"},{\"line\":{\"color\":\"rgba(128, 128, 128, 1.0)\",\"dash\":\"solid\",\"shape\":\"linear\",\"width\":1.3},\"marker\":{\"size\":2,\"symbol\":\"circle\"},\"mode\":\"markers\",\"name\":\"D\",\"text\":\"\",\"type\":\"scatter\",\"x\":[-2.070372363174357,1.9871349625586698,0.44711385640110934,-0.1362509032529231,-0.8847481240368797,-0.3005585206574886,-0.4577370292878276,1.1257225790814913,1.6515424424291352,-1.1639372746696197,-0.4900512762265639,-0.9183246527863396,-0.5898528388193658,-1.9828423762964589,1.9251031300815986,-0.8516206949989477,-0.15077106194697446,0.39095318163453546,-0.04605799383381456,0.13106206252913166,-0.4492203115833142,0.8614098734884785,-0.30181904964322304,1.4124315275404664,1.2928582774051667,0.08553156946078898,-1.5202409642832018,-1.2972509965846963,-0.2554031732774126,1.1700927343793435,-1.4436089799837097,1.772822591539189,1.0437749024442213,-0.8655170969412663,0.07470374986811237,0.19696979466097256,0.71748915045575,0.5493037055770226,0.792387270172692,0.4388182367525948,0.8343802553032624,-0.27411066445450055,-0.759132779704796,-0.5510511505395224,0.7010550007848114,0.7436324676228472,-0.8167506411613927,-0.8309399064145929,-0.48367397638508636,0.40109935333422264,0.14717905622379798,0.4035364305538702,-1.4376361064073133,0.884504560227829,0.0756105825725042,1.3027235848809706,-0.410445635139286,1.664269298035139,0.8046955068796645,-1.608477203721027,0.11905357356672844,-0.8362872444628309,-1.0394082418010007,1.4718633565264032,0.3949671088451408,0.21605324037427268,-0.26067877739383255,0.20558921783396097,0.43336888717474037,-0.1724582369969408,-0.8898077313946257,-0.7966001330099107,-1.9096285209970933,-0.6234503963821106,-0.7492278502366498,-0.3937069363627399,0.4764640049465655,-0.0317529356831129,-1.2467218127574538,1.4515849281312752,1.0601562766774255,0.011700845601488541,-0.7004541496592039,0.2487099113720825,1.3953319784837215,0.8170929436416009,-1.093574826202585,-1.5190998335113597,1.565582460077773,0.6003738353358095,0.48003413782184207,-0.8768051319567273,1.1653769552823892,-0.09369210118747875,-1.236308547878392,1.069663761619053,-0.5090666413472539,0.5484467083147206,1.4116269424540293,1.4288779803279275],\"xaxis\":\"x14\",\"y\":[-0.9153771784213612,-0.4012924245057284,1.0938533103513841,-0.05876449087620939,-0.8928530670168028,0.8931516319027041,-1.2122585675519313,0.6336739053482365,0.6864409540871593,-2.450450162325935,1.3766362169548811,-0.09498972740325429,0.018249696688834572,0.00838371990785256,0.02637371267571218,-0.2494784700290381,-2.381179415567164,-0.8986148420620415,-0.6000789066669335,0.9901496738837742,0.5750403551444729,-1.1530766373329144,-0.10248929149795707,1.2879406999929592,0.9340275168061343,-0.36629099505249096,-0.21971945689411818,-2.1794559389850905,-1.128600301594586,0.38181810365012026,-0.3456615896544399,1.076840489089549,0.9702514291306714,-1.129889632834949,-1.5237686296693125,0.9893442639629663,0.02188116620021201,-0.3990886268885891,-0.26235256642600163,-0.9447050028143288,0.3285538558596209,-0.4949627482678983,-1.2410567632788745,-0.03117667293720784,0.27318088707611077,-1.4105882016730553,-0.6971444892873604,-0.2046839616180518,0.21311682457265613,0.05648021937646679,-1.7821486230559918,0.26138035559451905,0.9745360424409939,-0.46590150404526515,1.0163625781591268,-1.206430930878384,-0.28219484087131047,0.3370380040067882,-1.174709156907135,-0.9937967513245821,-1.2103419890348956,0.9666256144943123,0.7653167310678071,-0.5639565361190263,1.127287563860516,0.4597180739400952,0.9611780321994388,-0.1274364898935791,-3.144384054953149,0.3452719343299374,1.0108657267279595,0.560382773064362,-0.34389869715087096,-1.4172642705243446,-0.5403661751113938,1.751483965078072,-1.8536007651466044,0.7509631080228982,-1.3931867910949483,3.8348263491846044,-0.8803894827348969,-0.027395874356677143,-1.2836992348042278,0.07864063552442437,1.764684418462631,1.1831678276825883,0.3598658647264078,1.2684552760340417,1.28190870875007,1.144415560151816,0.08766066909626503,-0.15841220047729188,0.7748636032208857,-0.38719619122350646,2.338915126318817,0.46867997123726074,-0.3425382611596975,0.392730431721023,1.1755743201772637,-0.12158534043582828],\"yaxis\":\"y14\"},{\"line\":{\"color\":\"rgba(128, 128, 128, 1.0)\",\"dash\":\"solid\",\"shape\":\"linear\",\"width\":1.3},\"marker\":{\"size\":2,\"symbol\":\"circle\"},\"mode\":\"markers\",\"name\":\"D\",\"text\":\"\",\"type\":\"scatter\",\"x\":[-0.10230251371271422,-0.9856164436609978,-2.3399000383333437,0.2129287217145665,-0.47190285990270525,-0.4455893739004875,-1.1074018197778728,-0.8470605012484446,-0.9627109543290664,1.470073977808318,0.47084265356054933,0.7108155263744863,1.2401437007945428,-0.054593330145385206,-0.8547017402721327,-0.6017006769118647,0.054778381869349656,-0.4058615198359087,2.1756281307509666,1.9184151737376318,0.44156846411607875,0.6910112638382438,0.6180384485757757,-1.6737460076007349,0.24474274221880774,-0.05308243547510542,-0.3965050268153458,1.1158397901214172,-0.5191277071590583,-0.3742543454169045,0.32384098822286733,-0.9424240637732767,1.1624649454706169,0.403125008198161,-0.9108548571391996,-0.651014853519304,0.7594866172513838,-0.3692304927976512,1.0437660044364991,-0.7733794248520502,1.5802947319123615,-0.16694697346930254,-1.0537387547253623,0.7013102740251326,-0.25754264065038185,-0.5983995472437618,1.1024279335020388,-0.6361436010196305,1.0991555577904437,-0.23720122737068883,0.4422899782991347,-0.5988490557671503,-1.3346809455137536,-0.43122102824485803,1.9219788064136207,-0.40544130367258896,1.3423525215964787,1.256244571124063,0.3878877159071746,1.1382884131961375,-0.003257827151230089,-0.09878325140987494,-0.20378769773266844,-1.1522675096066486,0.08080163698515844,-0.44036771455025914,1.233541752252848,0.9809443162533105,1.2631387206383407,-0.14264650094562623,-0.28000106089175586,1.3415758234101816,-0.6239886301883519,-1.4500061362097343,-2.132568546188851,0.2985428090164885,0.014505993157389211,0.37727125206455775,-1.0794649827264955,1.505965384769507,-0.03716136608344573,-0.856448775823809,-0.8990139243173874,-0.9992424485619582,0.031418080681642716,0.6138366430139701,-2.0588113484633164,-2.6456597987520913,-1.3327064288424864,-0.13244130030483175,-0.8487573392629163,0.003511668648794605,0.8829461215799975,0.804021933184372,0.29668720205261867,-0.9629788026960224,-0.47711184392417805,0.07439884523606405,-1.039320063953802,0.7544691806713081],\"xaxis\":\"x15\",\"y\":[-0.9153771784213612,-0.4012924245057284,1.0938533103513841,-0.05876449087620939,-0.8928530670168028,0.8931516319027041,-1.2122585675519313,0.6336739053482365,0.6864409540871593,-2.450450162325935,1.3766362169548811,-0.09498972740325429,0.018249696688834572,0.00838371990785256,0.02637371267571218,-0.2494784700290381,-2.381179415567164,-0.8986148420620415,-0.6000789066669335,0.9901496738837742,0.5750403551444729,-1.1530766373329144,-0.10248929149795707,1.2879406999929592,0.9340275168061343,-0.36629099505249096,-0.21971945689411818,-2.1794559389850905,-1.128600301594586,0.38181810365012026,-0.3456615896544399,1.076840489089549,0.9702514291306714,-1.129889632834949,-1.5237686296693125,0.9893442639629663,0.02188116620021201,-0.3990886268885891,-0.26235256642600163,-0.9447050028143288,0.3285538558596209,-0.4949627482678983,-1.2410567632788745,-0.03117667293720784,0.27318088707611077,-1.4105882016730553,-0.6971444892873604,-0.2046839616180518,0.21311682457265613,0.05648021937646679,-1.7821486230559918,0.26138035559451905,0.9745360424409939,-0.46590150404526515,1.0163625781591268,-1.206430930878384,-0.28219484087131047,0.3370380040067882,-1.174709156907135,-0.9937967513245821,-1.2103419890348956,0.9666256144943123,0.7653167310678071,-0.5639565361190263,1.127287563860516,0.4597180739400952,0.9611780321994388,-0.1274364898935791,-3.144384054953149,0.3452719343299374,1.0108657267279595,0.560382773064362,-0.34389869715087096,-1.4172642705243446,-0.5403661751113938,1.751483965078072,-1.8536007651466044,0.7509631080228982,-1.3931867910949483,3.8348263491846044,-0.8803894827348969,-0.027395874356677143,-1.2836992348042278,0.07864063552442437,1.764684418462631,1.1831678276825883,0.3598658647264078,1.2684552760340417,1.28190870875007,1.144415560151816,0.08766066909626503,-0.15841220047729188,0.7748636032208857,-0.38719619122350646,2.338915126318817,0.46867997123726074,-0.3425382611596975,0.392730431721023,1.1755743201772637,-0.12158534043582828],\"yaxis\":\"y15\"},{\"histfunc\":\"count\",\"histnorm\":\"\",\"marker\":{\"color\":\"rgba(128, 0, 128, 1.0)\",\"line\":{\"color\":\"#4D5663\",\"width\":1.3}},\"name\":\"D\",\"nbinsx\":10,\"opacity\":0.8,\"orientation\":\"v\",\"type\":\"histogram\",\"x\":[-0.9153771784213612,-0.4012924245057284,1.0938533103513841,-0.05876449087620939,-0.8928530670168028,0.8931516319027041,-1.2122585675519313,0.6336739053482365,0.6864409540871593,-2.450450162325935,1.3766362169548811,-0.09498972740325429,0.018249696688834572,0.00838371990785256,0.02637371267571218,-0.2494784700290381,-2.381179415567164,-0.8986148420620415,-0.6000789066669335,0.9901496738837742,0.5750403551444729,-1.1530766373329144,-0.10248929149795707,1.2879406999929592,0.9340275168061343,-0.36629099505249096,-0.21971945689411818,-2.1794559389850905,-1.128600301594586,0.38181810365012026,-0.3456615896544399,1.076840489089549,0.9702514291306714,-1.129889632834949,-1.5237686296693125,0.9893442639629663,0.02188116620021201,-0.3990886268885891,-0.26235256642600163,-0.9447050028143288,0.3285538558596209,-0.4949627482678983,-1.2410567632788745,-0.03117667293720784,0.27318088707611077,-1.4105882016730553,-0.6971444892873604,-0.2046839616180518,0.21311682457265613,0.05648021937646679,-1.7821486230559918,0.26138035559451905,0.9745360424409939,-0.46590150404526515,1.0163625781591268,-1.206430930878384,-0.28219484087131047,0.3370380040067882,-1.174709156907135,-0.9937967513245821,-1.2103419890348956,0.9666256144943123,0.7653167310678071,-0.5639565361190263,1.127287563860516,0.4597180739400952,0.9611780321994388,-0.1274364898935791,-3.144384054953149,0.3452719343299374,1.0108657267279595,0.560382773064362,-0.34389869715087096,-1.4172642705243446,-0.5403661751113938,1.751483965078072,-1.8536007651466044,0.7509631080228982,-1.3931867910949483,3.8348263491846044,-0.8803894827348969,-0.027395874356677143,-1.2836992348042278,0.07864063552442437,1.764684418462631,1.1831678276825883,0.3598658647264078,1.2684552760340417,1.28190870875007,1.144415560151816,0.08766066909626503,-0.15841220047729188,0.7748636032208857,-0.38719619122350646,2.338915126318817,0.46867997123726074,-0.3425382611596975,0.392730431721023,1.1755743201772637,-0.12158534043582828],\"xaxis\":\"x16\",\"yaxis\":\"y16\"}],                        {\"bargap\":0.02,\"legend\":{\"bgcolor\":\"#F5F6F9\",\"font\":{\"color\":\"#4D5663\"}},\"paper_bgcolor\":\"#F5F6F9\",\"plot_bgcolor\":\"#F5F6F9\",\"showlegend\":false,\"template\":{\"data\":{\"bar\":[{\"error_x\":{\"color\":\"#2a3f5f\"},\"error_y\":{\"color\":\"#2a3f5f\"},\"marker\":{\"line\":{\"color\":\"#E5ECF6\",\"width\":0.5},\"pattern\":{\"fillmode\":\"overlay\",\"size\":10,\"solidity\":0.2}},\"type\":\"bar\"}],\"barpolar\":[{\"marker\":{\"line\":{\"color\":\"#E5ECF6\",\"width\":0.5},\"pattern\":{\"fillmode\":\"overlay\",\"size\":10,\"solidity\":0.2}},\"type\":\"barpolar\"}],\"carpet\":[{\"aaxis\":{\"endlinecolor\":\"#2a3f5f\",\"gridcolor\":\"white\",\"linecolor\":\"white\",\"minorgridcolor\":\"white\",\"startlinecolor\":\"#2a3f5f\"},\"baxis\":{\"endlinecolor\":\"#2a3f5f\",\"gridcolor\":\"white\",\"linecolor\":\"white\",\"minorgridcolor\":\"white\",\"startlinecolor\":\"#2a3f5f\"},\"type\":\"carpet\"}],\"choropleth\":[{\"colorbar\":{\"outlinewidth\":0,\"ticks\":\"\"},\"type\":\"choropleth\"}],\"contour\":[{\"colorbar\":{\"outlinewidth\":0,\"ticks\":\"\"},\"colorscale\":[[0.0,\"#0d0887\"],[0.1111111111111111,\"#46039f\"],[0.2222222222222222,\"#7201a8\"],[0.3333333333333333,\"#9c179e\"],[0.4444444444444444,\"#bd3786\"],[0.5555555555555556,\"#d8576b\"],[0.6666666666666666,\"#ed7953\"],[0.7777777777777778,\"#fb9f3a\"],[0.8888888888888888,\"#fdca26\"],[1.0,\"#f0f921\"]],\"type\":\"contour\"}],\"contourcarpet\":[{\"colorbar\":{\"outlinewidth\":0,\"ticks\":\"\"},\"type\":\"contourcarpet\"}],\"heatmap\":[{\"colorbar\":{\"outlinewidth\":0,\"ticks\":\"\"},\"colorscale\":[[0.0,\"#0d0887\"],[0.1111111111111111,\"#46039f\"],[0.2222222222222222,\"#7201a8\"],[0.3333333333333333,\"#9c179e\"],[0.4444444444444444,\"#bd3786\"],[0.5555555555555556,\"#d8576b\"],[0.6666666666666666,\"#ed7953\"],[0.7777777777777778,\"#fb9f3a\"],[0.8888888888888888,\"#fdca26\"],[1.0,\"#f0f921\"]],\"type\":\"heatmap\"}],\"heatmapgl\":[{\"colorbar\":{\"outlinewidth\":0,\"ticks\":\"\"},\"colorscale\":[[0.0,\"#0d0887\"],[0.1111111111111111,\"#46039f\"],[0.2222222222222222,\"#7201a8\"],[0.3333333333333333,\"#9c179e\"],[0.4444444444444444,\"#bd3786\"],[0.5555555555555556,\"#d8576b\"],[0.6666666666666666,\"#ed7953\"],[0.7777777777777778,\"#fb9f3a\"],[0.8888888888888888,\"#fdca26\"],[1.0,\"#f0f921\"]],\"type\":\"heatmapgl\"}],\"histogram\":[{\"marker\":{\"pattern\":{\"fillmode\":\"overlay\",\"size\":10,\"solidity\":0.2}},\"type\":\"histogram\"}],\"histogram2d\":[{\"colorbar\":{\"outlinewidth\":0,\"ticks\":\"\"},\"colorscale\":[[0.0,\"#0d0887\"],[0.1111111111111111,\"#46039f\"],[0.2222222222222222,\"#7201a8\"],[0.3333333333333333,\"#9c179e\"],[0.4444444444444444,\"#bd3786\"],[0.5555555555555556,\"#d8576b\"],[0.6666666666666666,\"#ed7953\"],[0.7777777777777778,\"#fb9f3a\"],[0.8888888888888888,\"#fdca26\"],[1.0,\"#f0f921\"]],\"type\":\"histogram2d\"}],\"histogram2dcontour\":[{\"colorbar\":{\"outlinewidth\":0,\"ticks\":\"\"},\"colorscale\":[[0.0,\"#0d0887\"],[0.1111111111111111,\"#46039f\"],[0.2222222222222222,\"#7201a8\"],[0.3333333333333333,\"#9c179e\"],[0.4444444444444444,\"#bd3786\"],[0.5555555555555556,\"#d8576b\"],[0.6666666666666666,\"#ed7953\"],[0.7777777777777778,\"#fb9f3a\"],[0.8888888888888888,\"#fdca26\"],[1.0,\"#f0f921\"]],\"type\":\"histogram2dcontour\"}],\"mesh3d\":[{\"colorbar\":{\"outlinewidth\":0,\"ticks\":\"\"},\"type\":\"mesh3d\"}],\"parcoords\":[{\"line\":{\"colorbar\":{\"outlinewidth\":0,\"ticks\":\"\"}},\"type\":\"parcoords\"}],\"pie\":[{\"automargin\":true,\"type\":\"pie\"}],\"scatter\":[{\"marker\":{\"colorbar\":{\"outlinewidth\":0,\"ticks\":\"\"}},\"type\":\"scatter\"}],\"scatter3d\":[{\"line\":{\"colorbar\":{\"outlinewidth\":0,\"ticks\":\"\"}},\"marker\":{\"colorbar\":{\"outlinewidth\":0,\"ticks\":\"\"}},\"type\":\"scatter3d\"}],\"scattercarpet\":[{\"marker\":{\"colorbar\":{\"outlinewidth\":0,\"ticks\":\"\"}},\"type\":\"scattercarpet\"}],\"scattergeo\":[{\"marker\":{\"colorbar\":{\"outlinewidth\":0,\"ticks\":\"\"}},\"type\":\"scattergeo\"}],\"scattergl\":[{\"marker\":{\"colorbar\":{\"outlinewidth\":0,\"ticks\":\"\"}},\"type\":\"scattergl\"}],\"scattermapbox\":[{\"marker\":{\"colorbar\":{\"outlinewidth\":0,\"ticks\":\"\"}},\"type\":\"scattermapbox\"}],\"scatterpolar\":[{\"marker\":{\"colorbar\":{\"outlinewidth\":0,\"ticks\":\"\"}},\"type\":\"scatterpolar\"}],\"scatterpolargl\":[{\"marker\":{\"colorbar\":{\"outlinewidth\":0,\"ticks\":\"\"}},\"type\":\"scatterpolargl\"}],\"scatterternary\":[{\"marker\":{\"colorbar\":{\"outlinewidth\":0,\"ticks\":\"\"}},\"type\":\"scatterternary\"}],\"surface\":[{\"colorbar\":{\"outlinewidth\":0,\"ticks\":\"\"},\"colorscale\":[[0.0,\"#0d0887\"],[0.1111111111111111,\"#46039f\"],[0.2222222222222222,\"#7201a8\"],[0.3333333333333333,\"#9c179e\"],[0.4444444444444444,\"#bd3786\"],[0.5555555555555556,\"#d8576b\"],[0.6666666666666666,\"#ed7953\"],[0.7777777777777778,\"#fb9f3a\"],[0.8888888888888888,\"#fdca26\"],[1.0,\"#f0f921\"]],\"type\":\"surface\"}],\"table\":[{\"cells\":{\"fill\":{\"color\":\"#EBF0F8\"},\"line\":{\"color\":\"white\"}},\"header\":{\"fill\":{\"color\":\"#C8D4E3\"},\"line\":{\"color\":\"white\"}},\"type\":\"table\"}]},\"layout\":{\"annotationdefaults\":{\"arrowcolor\":\"#2a3f5f\",\"arrowhead\":0,\"arrowwidth\":1},\"autotypenumbers\":\"strict\",\"coloraxis\":{\"colorbar\":{\"outlinewidth\":0,\"ticks\":\"\"}},\"colorscale\":{\"diverging\":[[0,\"#8e0152\"],[0.1,\"#c51b7d\"],[0.2,\"#de77ae\"],[0.3,\"#f1b6da\"],[0.4,\"#fde0ef\"],[0.5,\"#f7f7f7\"],[0.6,\"#e6f5d0\"],[0.7,\"#b8e186\"],[0.8,\"#7fbc41\"],[0.9,\"#4d9221\"],[1,\"#276419\"]],\"sequential\":[[0.0,\"#0d0887\"],[0.1111111111111111,\"#46039f\"],[0.2222222222222222,\"#7201a8\"],[0.3333333333333333,\"#9c179e\"],[0.4444444444444444,\"#bd3786\"],[0.5555555555555556,\"#d8576b\"],[0.6666666666666666,\"#ed7953\"],[0.7777777777777778,\"#fb9f3a\"],[0.8888888888888888,\"#fdca26\"],[1.0,\"#f0f921\"]],\"sequentialminus\":[[0.0,\"#0d0887\"],[0.1111111111111111,\"#46039f\"],[0.2222222222222222,\"#7201a8\"],[0.3333333333333333,\"#9c179e\"],[0.4444444444444444,\"#bd3786\"],[0.5555555555555556,\"#d8576b\"],[0.6666666666666666,\"#ed7953\"],[0.7777777777777778,\"#fb9f3a\"],[0.8888888888888888,\"#fdca26\"],[1.0,\"#f0f921\"]]},\"colorway\":[\"#636efa\",\"#EF553B\",\"#00cc96\",\"#ab63fa\",\"#FFA15A\",\"#19d3f3\",\"#FF6692\",\"#B6E880\",\"#FF97FF\",\"#FECB52\"],\"font\":{\"color\":\"#2a3f5f\"},\"geo\":{\"bgcolor\":\"white\",\"lakecolor\":\"white\",\"landcolor\":\"#E5ECF6\",\"showlakes\":true,\"showland\":true,\"subunitcolor\":\"white\"},\"hoverlabel\":{\"align\":\"left\"},\"hovermode\":\"closest\",\"mapbox\":{\"style\":\"light\"},\"paper_bgcolor\":\"white\",\"plot_bgcolor\":\"#E5ECF6\",\"polar\":{\"angularaxis\":{\"gridcolor\":\"white\",\"linecolor\":\"white\",\"ticks\":\"\"},\"bgcolor\":\"#E5ECF6\",\"radialaxis\":{\"gridcolor\":\"white\",\"linecolor\":\"white\",\"ticks\":\"\"}},\"scene\":{\"xaxis\":{\"backgroundcolor\":\"#E5ECF6\",\"gridcolor\":\"white\",\"gridwidth\":2,\"linecolor\":\"white\",\"showbackground\":true,\"ticks\":\"\",\"zerolinecolor\":\"white\"},\"yaxis\":{\"backgroundcolor\":\"#E5ECF6\",\"gridcolor\":\"white\",\"gridwidth\":2,\"linecolor\":\"white\",\"showbackground\":true,\"ticks\":\"\",\"zerolinecolor\":\"white\"},\"zaxis\":{\"backgroundcolor\":\"#E5ECF6\",\"gridcolor\":\"white\",\"gridwidth\":2,\"linecolor\":\"white\",\"showbackground\":true,\"ticks\":\"\",\"zerolinecolor\":\"white\"}},\"shapedefaults\":{\"line\":{\"color\":\"#2a3f5f\"}},\"ternary\":{\"aaxis\":{\"gridcolor\":\"white\",\"linecolor\":\"white\",\"ticks\":\"\"},\"baxis\":{\"gridcolor\":\"white\",\"linecolor\":\"white\",\"ticks\":\"\"},\"bgcolor\":\"#E5ECF6\",\"caxis\":{\"gridcolor\":\"white\",\"linecolor\":\"white\",\"ticks\":\"\"}},\"title\":{\"x\":0.05},\"xaxis\":{\"automargin\":true,\"gridcolor\":\"white\",\"linecolor\":\"white\",\"ticks\":\"\",\"title\":{\"standoff\":15},\"zerolinecolor\":\"white\",\"zerolinewidth\":2},\"yaxis\":{\"automargin\":true,\"gridcolor\":\"white\",\"linecolor\":\"white\",\"ticks\":\"\",\"title\":{\"standoff\":15},\"zerolinecolor\":\"white\",\"zerolinewidth\":2}}},\"title\":{\"font\":{\"color\":\"#4D5663\"}},\"xaxis\":{\"anchor\":\"y\",\"domain\":[0.0,0.2125],\"gridcolor\":\"#E1E5ED\",\"showgrid\":false,\"tickfont\":{\"color\":\"#4D5663\"},\"title\":{\"font\":{\"color\":\"#4D5663\"},\"text\":\"\"},\"zerolinecolor\":\"#E1E5ED\"},\"xaxis10\":{\"anchor\":\"y10\",\"domain\":[0.2625,0.475],\"gridcolor\":\"#E1E5ED\",\"showgrid\":false,\"tickfont\":{\"color\":\"#4D5663\"},\"title\":{\"font\":{\"color\":\"#4D5663\"},\"text\":\"\"},\"zerolinecolor\":\"#E1E5ED\"},\"xaxis11\":{\"anchor\":\"y11\",\"domain\":[0.525,0.7375],\"gridcolor\":\"#E1E5ED\",\"showgrid\":false,\"tickfont\":{\"color\":\"#4D5663\"},\"title\":{\"font\":{\"color\":\"#4D5663\"},\"text\":\"\"},\"zerolinecolor\":\"#E1E5ED\"},\"xaxis12\":{\"anchor\":\"y12\",\"domain\":[0.7875,1.0],\"gridcolor\":\"#E1E5ED\",\"showgrid\":false,\"tickfont\":{\"color\":\"#4D5663\"},\"title\":{\"font\":{\"color\":\"#4D5663\"},\"text\":\"\"},\"zerolinecolor\":\"#E1E5ED\"},\"xaxis13\":{\"anchor\":\"y13\",\"domain\":[0.0,0.2125],\"gridcolor\":\"#E1E5ED\",\"showgrid\":false,\"tickfont\":{\"color\":\"#4D5663\"},\"title\":{\"font\":{\"color\":\"#4D5663\"},\"text\":\"\"},\"zerolinecolor\":\"#E1E5ED\"},\"xaxis14\":{\"anchor\":\"y14\",\"domain\":[0.2625,0.475],\"gridcolor\":\"#E1E5ED\",\"showgrid\":false,\"tickfont\":{\"color\":\"#4D5663\"},\"title\":{\"font\":{\"color\":\"#4D5663\"},\"text\":\"\"},\"zerolinecolor\":\"#E1E5ED\"},\"xaxis15\":{\"anchor\":\"y15\",\"domain\":[0.525,0.7375],\"gridcolor\":\"#E1E5ED\",\"showgrid\":false,\"tickfont\":{\"color\":\"#4D5663\"},\"title\":{\"font\":{\"color\":\"#4D5663\"},\"text\":\"\"},\"zerolinecolor\":\"#E1E5ED\"},\"xaxis16\":{\"anchor\":\"y16\",\"domain\":[0.7875,1.0],\"gridcolor\":\"#E1E5ED\",\"showgrid\":false,\"tickfont\":{\"color\":\"#4D5663\"},\"title\":{\"font\":{\"color\":\"#4D5663\"},\"text\":\"\"},\"zerolinecolor\":\"#E1E5ED\"},\"xaxis2\":{\"anchor\":\"y2\",\"domain\":[0.2625,0.475],\"gridcolor\":\"#E1E5ED\",\"showgrid\":false,\"tickfont\":{\"color\":\"#4D5663\"},\"title\":{\"font\":{\"color\":\"#4D5663\"},\"text\":\"\"},\"zerolinecolor\":\"#E1E5ED\"},\"xaxis3\":{\"anchor\":\"y3\",\"domain\":[0.525,0.7375],\"gridcolor\":\"#E1E5ED\",\"showgrid\":false,\"tickfont\":{\"color\":\"#4D5663\"},\"title\":{\"font\":{\"color\":\"#4D5663\"},\"text\":\"\"},\"zerolinecolor\":\"#E1E5ED\"},\"xaxis4\":{\"anchor\":\"y4\",\"domain\":[0.7875,1.0],\"gridcolor\":\"#E1E5ED\",\"showgrid\":false,\"tickfont\":{\"color\":\"#4D5663\"},\"title\":{\"font\":{\"color\":\"#4D5663\"},\"text\":\"\"},\"zerolinecolor\":\"#E1E5ED\"},\"xaxis5\":{\"anchor\":\"y5\",\"domain\":[0.0,0.2125],\"gridcolor\":\"#E1E5ED\",\"showgrid\":false,\"tickfont\":{\"color\":\"#4D5663\"},\"title\":{\"font\":{\"color\":\"#4D5663\"},\"text\":\"\"},\"zerolinecolor\":\"#E1E5ED\"},\"xaxis6\":{\"anchor\":\"y6\",\"domain\":[0.2625,0.475],\"gridcolor\":\"#E1E5ED\",\"showgrid\":false,\"tickfont\":{\"color\":\"#4D5663\"},\"title\":{\"font\":{\"color\":\"#4D5663\"},\"text\":\"\"},\"zerolinecolor\":\"#E1E5ED\"},\"xaxis7\":{\"anchor\":\"y7\",\"domain\":[0.525,0.7375],\"gridcolor\":\"#E1E5ED\",\"showgrid\":false,\"tickfont\":{\"color\":\"#4D5663\"},\"title\":{\"font\":{\"color\":\"#4D5663\"},\"text\":\"\"},\"zerolinecolor\":\"#E1E5ED\"},\"xaxis8\":{\"anchor\":\"y8\",\"domain\":[0.7875,1.0],\"gridcolor\":\"#E1E5ED\",\"showgrid\":false,\"tickfont\":{\"color\":\"#4D5663\"},\"title\":{\"font\":{\"color\":\"#4D5663\"},\"text\":\"\"},\"zerolinecolor\":\"#E1E5ED\"},\"xaxis9\":{\"anchor\":\"y9\",\"domain\":[0.0,0.2125],\"gridcolor\":\"#E1E5ED\",\"showgrid\":false,\"tickfont\":{\"color\":\"#4D5663\"},\"title\":{\"font\":{\"color\":\"#4D5663\"},\"text\":\"\"},\"zerolinecolor\":\"#E1E5ED\"},\"yaxis\":{\"anchor\":\"x\",\"domain\":[0.8025,1.0],\"gridcolor\":\"#E1E5ED\",\"showgrid\":false,\"tickfont\":{\"color\":\"#4D5663\"},\"title\":{\"font\":{\"color\":\"#4D5663\"},\"text\":\"\"},\"zerolinecolor\":\"#E1E5ED\"},\"yaxis10\":{\"anchor\":\"x10\",\"domain\":[0.2675,0.465],\"gridcolor\":\"#E1E5ED\",\"showgrid\":false,\"tickfont\":{\"color\":\"#4D5663\"},\"title\":{\"font\":{\"color\":\"#4D5663\"},\"text\":\"\"},\"zerolinecolor\":\"#E1E5ED\"},\"yaxis11\":{\"anchor\":\"x11\",\"domain\":[0.2675,0.465],\"gridcolor\":\"#E1E5ED\",\"showgrid\":false,\"tickfont\":{\"color\":\"#4D5663\"},\"title\":{\"font\":{\"color\":\"#4D5663\"},\"text\":\"\"},\"zerolinecolor\":\"#E1E5ED\"},\"yaxis12\":{\"anchor\":\"x12\",\"domain\":[0.2675,0.465],\"gridcolor\":\"#E1E5ED\",\"showgrid\":false,\"tickfont\":{\"color\":\"#4D5663\"},\"title\":{\"font\":{\"color\":\"#4D5663\"},\"text\":\"\"},\"zerolinecolor\":\"#E1E5ED\"},\"yaxis13\":{\"anchor\":\"x13\",\"domain\":[0.0,0.1975],\"gridcolor\":\"#E1E5ED\",\"showgrid\":false,\"tickfont\":{\"color\":\"#4D5663\"},\"title\":{\"font\":{\"color\":\"#4D5663\"},\"text\":\"\"},\"zerolinecolor\":\"#E1E5ED\"},\"yaxis14\":{\"anchor\":\"x14\",\"domain\":[0.0,0.1975],\"gridcolor\":\"#E1E5ED\",\"showgrid\":false,\"tickfont\":{\"color\":\"#4D5663\"},\"title\":{\"font\":{\"color\":\"#4D5663\"},\"text\":\"\"},\"zerolinecolor\":\"#E1E5ED\"},\"yaxis15\":{\"anchor\":\"x15\",\"domain\":[0.0,0.1975],\"gridcolor\":\"#E1E5ED\",\"showgrid\":false,\"tickfont\":{\"color\":\"#4D5663\"},\"title\":{\"font\":{\"color\":\"#4D5663\"},\"text\":\"\"},\"zerolinecolor\":\"#E1E5ED\"},\"yaxis16\":{\"anchor\":\"x16\",\"domain\":[0.0,0.1975],\"gridcolor\":\"#E1E5ED\",\"showgrid\":false,\"tickfont\":{\"color\":\"#4D5663\"},\"title\":{\"font\":{\"color\":\"#4D5663\"},\"text\":\"\"},\"zerolinecolor\":\"#E1E5ED\"},\"yaxis2\":{\"anchor\":\"x2\",\"domain\":[0.8025,1.0],\"gridcolor\":\"#E1E5ED\",\"showgrid\":false,\"tickfont\":{\"color\":\"#4D5663\"},\"title\":{\"font\":{\"color\":\"#4D5663\"},\"text\":\"\"},\"zerolinecolor\":\"#E1E5ED\"},\"yaxis3\":{\"anchor\":\"x3\",\"domain\":[0.8025,1.0],\"gridcolor\":\"#E1E5ED\",\"showgrid\":false,\"tickfont\":{\"color\":\"#4D5663\"},\"title\":{\"font\":{\"color\":\"#4D5663\"},\"text\":\"\"},\"zerolinecolor\":\"#E1E5ED\"},\"yaxis4\":{\"anchor\":\"x4\",\"domain\":[0.8025,1.0],\"gridcolor\":\"#E1E5ED\",\"showgrid\":false,\"tickfont\":{\"color\":\"#4D5663\"},\"title\":{\"font\":{\"color\":\"#4D5663\"},\"text\":\"\"},\"zerolinecolor\":\"#E1E5ED\"},\"yaxis5\":{\"anchor\":\"x5\",\"domain\":[0.535,0.7325],\"gridcolor\":\"#E1E5ED\",\"showgrid\":false,\"tickfont\":{\"color\":\"#4D5663\"},\"title\":{\"font\":{\"color\":\"#4D5663\"},\"text\":\"\"},\"zerolinecolor\":\"#E1E5ED\"},\"yaxis6\":{\"anchor\":\"x6\",\"domain\":[0.535,0.7325],\"gridcolor\":\"#E1E5ED\",\"showgrid\":false,\"tickfont\":{\"color\":\"#4D5663\"},\"title\":{\"font\":{\"color\":\"#4D5663\"},\"text\":\"\"},\"zerolinecolor\":\"#E1E5ED\"},\"yaxis7\":{\"anchor\":\"x7\",\"domain\":[0.535,0.7325],\"gridcolor\":\"#E1E5ED\",\"showgrid\":false,\"tickfont\":{\"color\":\"#4D5663\"},\"title\":{\"font\":{\"color\":\"#4D5663\"},\"text\":\"\"},\"zerolinecolor\":\"#E1E5ED\"},\"yaxis8\":{\"anchor\":\"x8\",\"domain\":[0.535,0.7325],\"gridcolor\":\"#E1E5ED\",\"showgrid\":false,\"tickfont\":{\"color\":\"#4D5663\"},\"title\":{\"font\":{\"color\":\"#4D5663\"},\"text\":\"\"},\"zerolinecolor\":\"#E1E5ED\"},\"yaxis9\":{\"anchor\":\"x9\",\"domain\":[0.2675,0.465],\"gridcolor\":\"#E1E5ED\",\"showgrid\":false,\"tickfont\":{\"color\":\"#4D5663\"},\"title\":{\"font\":{\"color\":\"#4D5663\"},\"text\":\"\"},\"zerolinecolor\":\"#E1E5ED\"}},                        {\"showLink\": true, \"linkText\": \"Export to plot.ly\", \"plotlyServerURL\": \"https://plot.ly\", \"responsive\": true}                    ).then(function(){\n",
       "                            \n",
       "var gd = document.getElementById('861662bf-b750-4f03-9975-4cacfdb9ac5f');\n",
       "var x = new MutationObserver(function (mutations, observer) {{\n",
       "        var display = window.getComputedStyle(gd).display;\n",
       "        if (!display || display === 'none') {{\n",
       "            console.log([gd, 'removed!']);\n",
       "            Plotly.purge(gd);\n",
       "            observer.disconnect();\n",
       "        }}\n",
       "}});\n",
       "\n",
       "// Listen for the removal of the full notebook cells\n",
       "var notebookContainer = gd.closest('#notebook-container');\n",
       "if (notebookContainer) {{\n",
       "    x.observe(notebookContainer, {childList: true});\n",
       "}}\n",
       "\n",
       "// Listen for the clearing of the current output cell\n",
       "var outputEl = gd.closest('.output');\n",
       "if (outputEl) {{\n",
       "    x.observe(outputEl, {childList: true});\n",
       "}}\n",
       "\n",
       "                        })                };                });            </script>        </div>"
      ]
     },
     "metadata": {},
     "output_type": "display_data"
    }
   ],
   "source": [
    "df.scatter_matrix()"
   ]
  },
  {
   "cell_type": "markdown",
   "metadata": {
    "collapsed": true
   },
   "source": [
    "# Great Job!"
   ]
  }
 ],
 "metadata": {
  "kernelspec": {
   "display_name": "Python 3",
   "language": "python",
   "name": "python3"
  },
  "language_info": {
   "codemirror_mode": {
    "name": "ipython",
    "version": 3
   },
   "file_extension": ".py",
   "mimetype": "text/x-python",
   "name": "python",
   "nbconvert_exporter": "python",
   "pygments_lexer": "ipython3",
   "version": "3.8.5"
  }
 },
 "nbformat": 4,
 "nbformat_minor": 1
}
