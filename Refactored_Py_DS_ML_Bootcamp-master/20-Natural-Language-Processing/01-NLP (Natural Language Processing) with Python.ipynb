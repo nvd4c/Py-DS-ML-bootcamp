{
 "cells": [
  {
   "cell_type": "markdown",
   "metadata": {},
   "source": [
    "___\n",
    "\n",
    "<a href='http://www.pieriandata.com'> <img src='../Pierian_Data_Logo.png' /></a>\n",
    "___\n",
    "# NLP (Natural Language Processing) with Python\n",
    "\n",
    "    \n",
    "Đây là notebook đi kèm với video bài giảng NLP!\n",
    "\n",
    "Trong bài giảng này, chúng ta sẽ thảo luận về tổng quan ở cấp độ cao hơn về các khái niệm cơ bản của Xử lý ngôn ngữ tự nhiên, về cơ bản bao gồm việc kết hợp các kỹ thuật máy học với văn bản và sử dụng toán học và thống kê để có được văn bản đó ở định dạng mà các thuật toán máy học có thể hiểu được!\n",
    "\n",
    "Sau khi hoàn thành bài giảng này, bạn sẽ có một dự án sử dụng một số Dữ liệu Văn bản của Yelp!\n",
    "    \n",
    "**Requirements: You will need to have NLTK installed, along with downloading the corpus for stopwords (kho dữ liệu cho stopwords). To download everything with a conda installation, run the cell below. Or reference the full video lecture**"
   ]
  },
  {
   "cell_type": "code",
   "execution_count": null,
   "metadata": {},
   "outputs": [],
   "source": [
    "# ONLY RUN THIS CELL IF YOU NEED \n",
    "# TO DOWNLOAD NLTK AND HAVE CONDA\n",
    "# WATCH THE VIDEO FOR FULL INSTRUCTIONS ON THIS STEP\n",
    "\n",
    "# Uncomment the code below and run:\n",
    "\n",
    "# !conda install nltk #This installs nltk\n",
    "# import nltk # Imports the library\n",
    "# nltk.download() #Download the necessary datasets\n",
    "!conda install nltk \n",
    "import nltk \n",
    "nltk.download() "
   ]
  },
  {
   "cell_type": "markdown",
   "metadata": {},
   "source": [
    "## Get the Data"
   ]
  },
  {
   "cell_type": "markdown",
   "metadata": {},
   "source": [
    "Chúng ta sẽ sử dụng bộ dữ liệu từ [UCI datasets](https://archive.ics.uci.edu/ml/datasets/SMS+Spam+Collection)! Tập dữ liệu này đã được đặt trong thư mục cho phần này."
   ]
  },
  {
   "cell_type": "markdown",
   "metadata": {},
   "source": [
    "Tệp chúng tôi đang sử dụng chứa một bộ sưu tập hơn 5 nghìn tin nhắn điện thoại SMS. Bạn có thể xem tệp **readme** để biết thêm thông tin.\n",
    "\n",
    "Hãy tiếp tục và sử dụng rstrip() cộng với list comprehension để có được danh sách tất cả các dòng tin nhắn văn bản:"
   ]
  },
  {
   "cell_type": "code",
   "execution_count": 1,
   "metadata": {},
   "outputs": [
    {
     "name": "stdout",
     "output_type": "stream",
     "text": [
      "5574\n"
     ]
    }
   ],
   "source": [
    "messages = [line.rstrip() for line in open('smsspamcollection/SMSSpamCollection')]\n",
    "print(len(messages))"
   ]
  },
  {
   "cell_type": "markdown",
   "metadata": {},
   "source": [
    "Tập hợp các văn bản đôi khi cũng được gọi là \"kho ngữ liệu\". Hãy in mười tin nhắn đầu tiên và đánh số chúng bằng cách sử dụng **enumerate**:"
   ]
  },
  {
   "cell_type": "code",
   "execution_count": 2,
   "metadata": {},
   "outputs": [
    {
     "name": "stdout",
     "output_type": "stream",
     "text": [
      "0 ham\tGo until jurong point, crazy.. Available only in bugis n great world la e buffet... Cine there got amore wat...\n",
      "\n",
      "\n",
      "1 ham\tOk lar... Joking wif u oni...\n",
      "\n",
      "\n",
      "2 spam\tFree entry in 2 a wkly comp to win FA Cup final tkts 21st May 2005. Text FA to 87121 to receive entry question(std txt rate)T&C's apply 08452810075over18's\n",
      "\n",
      "\n",
      "3 ham\tU dun say so early hor... U c already then say...\n",
      "\n",
      "\n",
      "4 ham\tNah I don't think he goes to usf, he lives around here though\n",
      "\n",
      "\n",
      "5 spam\tFreeMsg Hey there darling it's been 3 week's now and no word back! I'd like some fun you up for it still? Tb ok! XxX std chgs to send, Â£1.50 to rcv\n",
      "\n",
      "\n",
      "6 ham\tEven my brother is not like to speak with me. They treat me like aids patent.\n",
      "\n",
      "\n",
      "7 ham\tAs per your request 'Melle Melle (Oru Minnaminunginte Nurungu Vettam)' has been set as your callertune for all Callers. Press *9 to copy your friends Callertune\n",
      "\n",
      "\n",
      "8 spam\tWINNER!! As a valued network customer you have been selected to receivea Â£900 prize reward! To claim call 09061701461. Claim code KL341. Valid 12 hours only.\n",
      "\n",
      "\n",
      "9 spam\tHad your mobile 11 months or more? U R entitled to Update to the latest colour mobiles with camera for Free! Call The Mobile Update Co FREE on 08002986030\n",
      "\n",
      "\n"
     ]
    }
   ],
   "source": [
    "for message_no, message in enumerate(messages[:10]):\n",
    "    print(message_no, message)\n",
    "    print('\\n')"
   ]
  },
  {
   "cell_type": "markdown",
   "metadata": {},
   "source": [
    "Do khoảng cách, chúng tôi có thể nói rằng đây là tệp [TSV](http://en.wikipedia.org/wiki/Tab-separated_values) (\"các giá trị được phân tách bằng tab\"), trong đó cột đầu tiên là nhãn cho biết liệu tin nhắn đã cho là một tin nhắn bình thường (thường được gọi là \"ham\") hoặc \"spam\". Cột thứ hai chính là nộ dung tin nhắn. (Lưu ý rằng các số của chúng tôi không phải là một phần của tệp, chúng chỉ là từ lệnh gọi **enumerate**).\n",
    "\n",
    "Sử dụng các ví dụ về ham và spam được gắn nhãn này, chúng tôi sẽ **đào tạo mô hình máy học để học cách phân biệt giữa ham/spam một cách tự động**. Sau đó, với một mô hình được đào tạo, chúng tôi sẽ có thể **phân loại các thư không được gắn nhãn tùy ý** là ham or spam.\n",
    "\n",
    "Từ tài liệu chính thức của SciKit Learn, chúng ta có thể hình dung quy trình của mình:"
   ]
  },
  {
   "cell_type": "markdown",
   "metadata": {},
   "source": [
    "<img src='http://www.astroml.org/sklearn_tutorial/_images/plot_ML_flow_chart_3.png' width=600/>"
   ]
  },
  {
   "cell_type": "markdown",
   "metadata": {},
   "source": [
    "Thay vì phân tích cú pháp TSV theo cách thủ công bằng Python, chúng ta chỉ có thể tận dụng lợi thế của pandas! Hãy tiếp tục và import nó!"
   ]
  },
  {
   "cell_type": "code",
   "execution_count": 3,
   "metadata": {},
   "outputs": [],
   "source": [
    "import pandas as pd"
   ]
  },
  {
   "cell_type": "markdown",
   "metadata": {},
   "source": [
    "Chúng tôi sẽ sử dụng **read_csv** và lưu ý đối số **sep**, chúng tôi cũng có thể chỉ định tên cột mong muốn bằng cách chuyển vào danh sách *names*."
   ]
  },
  {
   "cell_type": "code",
   "execution_count": 4,
   "metadata": {},
   "outputs": [
    {
     "data": {
      "text/html": [
       "<div>\n",
       "<style scoped>\n",
       "    .dataframe tbody tr th:only-of-type {\n",
       "        vertical-align: middle;\n",
       "    }\n",
       "\n",
       "    .dataframe tbody tr th {\n",
       "        vertical-align: top;\n",
       "    }\n",
       "\n",
       "    .dataframe thead th {\n",
       "        text-align: right;\n",
       "    }\n",
       "</style>\n",
       "<table border=\"1\" class=\"dataframe\">\n",
       "  <thead>\n",
       "    <tr style=\"text-align: right;\">\n",
       "      <th></th>\n",
       "      <th>label</th>\n",
       "      <th>message</th>\n",
       "    </tr>\n",
       "  </thead>\n",
       "  <tbody>\n",
       "    <tr>\n",
       "      <th>0</th>\n",
       "      <td>ham</td>\n",
       "      <td>Go until jurong point, crazy.. Available only ...</td>\n",
       "    </tr>\n",
       "    <tr>\n",
       "      <th>1</th>\n",
       "      <td>ham</td>\n",
       "      <td>Ok lar... Joking wif u oni...</td>\n",
       "    </tr>\n",
       "    <tr>\n",
       "      <th>2</th>\n",
       "      <td>spam</td>\n",
       "      <td>Free entry in 2 a wkly comp to win FA Cup fina...</td>\n",
       "    </tr>\n",
       "    <tr>\n",
       "      <th>3</th>\n",
       "      <td>ham</td>\n",
       "      <td>U dun say so early hor... U c already then say...</td>\n",
       "    </tr>\n",
       "    <tr>\n",
       "      <th>4</th>\n",
       "      <td>ham</td>\n",
       "      <td>Nah I don't think he goes to usf, he lives aro...</td>\n",
       "    </tr>\n",
       "  </tbody>\n",
       "</table>\n",
       "</div>"
      ],
      "text/plain": [
       "  label                                            message\n",
       "0   ham  Go until jurong point, crazy.. Available only ...\n",
       "1   ham                      Ok lar... Joking wif u oni...\n",
       "2  spam  Free entry in 2 a wkly comp to win FA Cup fina...\n",
       "3   ham  U dun say so early hor... U c already then say...\n",
       "4   ham  Nah I don't think he goes to usf, he lives aro..."
      ]
     },
     "execution_count": 4,
     "metadata": {},
     "output_type": "execute_result"
    }
   ],
   "source": [
    "messages = pd.read_csv('smsspamcollection/SMSSpamCollection', sep='\\t',\n",
    "                           names=[\"label\", \"message\"])\n",
    "messages.head()"
   ]
  },
  {
   "cell_type": "markdown",
   "metadata": {},
   "source": [
    "## Exploratory Data Analysis(EDA) - Phân tích dữ liệu khám phá\n",
    "\n",
    "Hãy cùng kiểm tra một số thống kê với một số plots và các phương pháp tích hợp trong pandas!"
   ]
  },
  {
   "cell_type": "code",
   "execution_count": 5,
   "metadata": {},
   "outputs": [
    {
     "data": {
      "text/html": [
       "<div>\n",
       "<style scoped>\n",
       "    .dataframe tbody tr th:only-of-type {\n",
       "        vertical-align: middle;\n",
       "    }\n",
       "\n",
       "    .dataframe tbody tr th {\n",
       "        vertical-align: top;\n",
       "    }\n",
       "\n",
       "    .dataframe thead th {\n",
       "        text-align: right;\n",
       "    }\n",
       "</style>\n",
       "<table border=\"1\" class=\"dataframe\">\n",
       "  <thead>\n",
       "    <tr style=\"text-align: right;\">\n",
       "      <th></th>\n",
       "      <th>label</th>\n",
       "      <th>message</th>\n",
       "    </tr>\n",
       "  </thead>\n",
       "  <tbody>\n",
       "    <tr>\n",
       "      <th>count</th>\n",
       "      <td>5572</td>\n",
       "      <td>5572</td>\n",
       "    </tr>\n",
       "    <tr>\n",
       "      <th>unique</th>\n",
       "      <td>2</td>\n",
       "      <td>5169</td>\n",
       "    </tr>\n",
       "    <tr>\n",
       "      <th>top</th>\n",
       "      <td>ham</td>\n",
       "      <td>Sorry, I'll call later</td>\n",
       "    </tr>\n",
       "    <tr>\n",
       "      <th>freq</th>\n",
       "      <td>4825</td>\n",
       "      <td>30</td>\n",
       "    </tr>\n",
       "  </tbody>\n",
       "</table>\n",
       "</div>"
      ],
      "text/plain": [
       "       label                 message\n",
       "count   5572                    5572\n",
       "unique     2                    5169\n",
       "top      ham  Sorry, I'll call later\n",
       "freq    4825                      30"
      ]
     },
     "execution_count": 5,
     "metadata": {},
     "output_type": "execute_result"
    }
   ],
   "source": [
    "messages.describe()"
   ]
  },
  {
   "cell_type": "markdown",
   "metadata": {},
   "source": [
    "Hãy sử dụng **groupby** để sử dụng mô tả theo nhãn, theo cách này, chúng ta có thể bắt đầu suy nghĩ về các tính năng phân biệt ham và spam!"
   ]
  },
  {
   "cell_type": "code",
   "execution_count": 6,
   "metadata": {},
   "outputs": [
    {
     "data": {
      "text/html": [
       "<div>\n",
       "<style scoped>\n",
       "    .dataframe tbody tr th:only-of-type {\n",
       "        vertical-align: middle;\n",
       "    }\n",
       "\n",
       "    .dataframe tbody tr th {\n",
       "        vertical-align: top;\n",
       "    }\n",
       "\n",
       "    .dataframe thead tr th {\n",
       "        text-align: left;\n",
       "    }\n",
       "\n",
       "    .dataframe thead tr:last-of-type th {\n",
       "        text-align: right;\n",
       "    }\n",
       "</style>\n",
       "<table border=\"1\" class=\"dataframe\">\n",
       "  <thead>\n",
       "    <tr>\n",
       "      <th></th>\n",
       "      <th colspan=\"4\" halign=\"left\">message</th>\n",
       "    </tr>\n",
       "    <tr>\n",
       "      <th></th>\n",
       "      <th>count</th>\n",
       "      <th>unique</th>\n",
       "      <th>top</th>\n",
       "      <th>freq</th>\n",
       "    </tr>\n",
       "    <tr>\n",
       "      <th>label</th>\n",
       "      <th></th>\n",
       "      <th></th>\n",
       "      <th></th>\n",
       "      <th></th>\n",
       "    </tr>\n",
       "  </thead>\n",
       "  <tbody>\n",
       "    <tr>\n",
       "      <th>ham</th>\n",
       "      <td>4825</td>\n",
       "      <td>4516</td>\n",
       "      <td>Sorry, I'll call later</td>\n",
       "      <td>30</td>\n",
       "    </tr>\n",
       "    <tr>\n",
       "      <th>spam</th>\n",
       "      <td>747</td>\n",
       "      <td>653</td>\n",
       "      <td>Please call our customer service representativ...</td>\n",
       "      <td>4</td>\n",
       "    </tr>\n",
       "  </tbody>\n",
       "</table>\n",
       "</div>"
      ],
      "text/plain": [
       "      message                                                               \n",
       "        count unique                                                top freq\n",
       "label                                                                       \n",
       "ham      4825   4516                             Sorry, I'll call later   30\n",
       "spam      747    653  Please call our customer service representativ...    4"
      ]
     },
     "execution_count": 6,
     "metadata": {},
     "output_type": "execute_result"
    }
   ],
   "source": [
    "messages.groupby('label').describe()"
   ]
  },
  {
   "cell_type": "markdown",
   "metadata": {},
   "source": [
    "Let's make a new column to detect how long the text messages are:\n",
    "\n",
    "Khi tiếp tục phân tích, chúng ta muốn bắt đầu suy nghĩ về các tính năng mà chúng tôi sẽ sử dụng. Điều này đi cùng với ý tưởng chung về [feature engineering](https://en.wikipedia.org/wiki/Feature_engineering). Kiến thức miền của bạn về dữ liệu càng tốt, bạn càng có khả năng thiết kế nhiều tính năng hơn từ dữ liệu đó. Feature engineering là một phần rất lớn trong việc phát hiện nhận dạng thư rác nói chung. Tôi khuyến khích bạn đọc về chủ đề này!\n",
    "\n",
    "Hãy tạo một cột mới để phát hiện độ dài của tin nhắn văn bản:"
   ]
  },
  {
   "cell_type": "code",
   "execution_count": 7,
   "metadata": {},
   "outputs": [
    {
     "data": {
      "text/html": [
       "<div>\n",
       "<style scoped>\n",
       "    .dataframe tbody tr th:only-of-type {\n",
       "        vertical-align: middle;\n",
       "    }\n",
       "\n",
       "    .dataframe tbody tr th {\n",
       "        vertical-align: top;\n",
       "    }\n",
       "\n",
       "    .dataframe thead th {\n",
       "        text-align: right;\n",
       "    }\n",
       "</style>\n",
       "<table border=\"1\" class=\"dataframe\">\n",
       "  <thead>\n",
       "    <tr style=\"text-align: right;\">\n",
       "      <th></th>\n",
       "      <th>label</th>\n",
       "      <th>message</th>\n",
       "      <th>length</th>\n",
       "    </tr>\n",
       "  </thead>\n",
       "  <tbody>\n",
       "    <tr>\n",
       "      <th>0</th>\n",
       "      <td>ham</td>\n",
       "      <td>Go until jurong point, crazy.. Available only ...</td>\n",
       "      <td>111</td>\n",
       "    </tr>\n",
       "    <tr>\n",
       "      <th>1</th>\n",
       "      <td>ham</td>\n",
       "      <td>Ok lar... Joking wif u oni...</td>\n",
       "      <td>29</td>\n",
       "    </tr>\n",
       "    <tr>\n",
       "      <th>2</th>\n",
       "      <td>spam</td>\n",
       "      <td>Free entry in 2 a wkly comp to win FA Cup fina...</td>\n",
       "      <td>155</td>\n",
       "    </tr>\n",
       "    <tr>\n",
       "      <th>3</th>\n",
       "      <td>ham</td>\n",
       "      <td>U dun say so early hor... U c already then say...</td>\n",
       "      <td>49</td>\n",
       "    </tr>\n",
       "    <tr>\n",
       "      <th>4</th>\n",
       "      <td>ham</td>\n",
       "      <td>Nah I don't think he goes to usf, he lives aro...</td>\n",
       "      <td>61</td>\n",
       "    </tr>\n",
       "  </tbody>\n",
       "</table>\n",
       "</div>"
      ],
      "text/plain": [
       "  label                                            message  length\n",
       "0   ham  Go until jurong point, crazy.. Available only ...     111\n",
       "1   ham                      Ok lar... Joking wif u oni...      29\n",
       "2  spam  Free entry in 2 a wkly comp to win FA Cup fina...     155\n",
       "3   ham  U dun say so early hor... U c already then say...      49\n",
       "4   ham  Nah I don't think he goes to usf, he lives aro...      61"
      ]
     },
     "execution_count": 7,
     "metadata": {},
     "output_type": "execute_result"
    }
   ],
   "source": [
    "messages['length'] = messages['message'].apply(len)\n",
    "messages.head()"
   ]
  },
  {
   "cell_type": "markdown",
   "metadata": {},
   "source": [
    "### Data Visualization\n",
    "\n",
    "Hãy minh hoạ điều này! Hãy thực hiện imports:"
   ]
  },
  {
   "cell_type": "code",
   "execution_count": 8,
   "metadata": {},
   "outputs": [],
   "source": [
    "import matplotlib.pyplot as plt\n",
    "import seaborn as sns\n",
    "\n",
    "%matplotlib inline"
   ]
  },
  {
   "cell_type": "code",
   "execution_count": 9,
   "metadata": {},
   "outputs": [
    {
     "data": {
      "text/plain": [
       "<AxesSubplot:ylabel='Frequency'>"
      ]
     },
     "execution_count": 9,
     "metadata": {},
     "output_type": "execute_result"
    },
    {
     "data": {
      "image/png": "[encoded data removed]",
      "text/plain": [
       "<Figure size 432x288 with 1 Axes>"
      ]
     },
     "metadata": {
      "needs_background": "light"
     },
     "output_type": "display_data"
    }
   ],
   "source": [
    "messages['length'].plot(bins=50, kind='hist') "
   ]
  },
  {
   "cell_type": "markdown",
   "metadata": {},
   "source": [
    "Có vẻ như độ dài văn bản có thể là một tính năng đáng để suy nghĩ! Hãy thử giải thích lý do tại sao trục x đi hết cỡ 1000, điều này có nghĩa là có một số tin nhắn email thực sự dài!"
   ]
  },
  {
   "cell_type": "code",
   "execution_count": 10,
   "metadata": {},
   "outputs": [
    {
     "data": {
      "text/plain": [
       "count    5572.000000\n",
       "mean       80.490309\n",
       "std        59.944527\n",
       "min         2.000000\n",
       "25%        36.000000\n",
       "50%        62.000000\n",
       "75%       122.000000\n",
       "max       910.000000\n",
       "Name: length, dtype: float64"
      ]
     },
     "execution_count": 10,
     "metadata": {},
     "output_type": "execute_result"
    }
   ],
   "source": [
    "messages.length.describe()"
   ]
  },
  {
   "cell_type": "markdown",
   "metadata": {},
   "source": [
    "Chà! 910 ký tự, hãy sử dụng masking để tìm tin nhắn email này: (không biết masking là gì thì google nhé)"
   ]
  },
  {
   "cell_type": "code",
   "execution_count": 11,
   "metadata": {},
   "outputs": [
    {
     "data": {
      "text/plain": [
       "\"For me the love should start with attraction.i should feel that I need her every time around me.she should be the first thing which comes in my thoughts.I would start the day and end it with her.she should be there every time I dream.love will be then when my every breath has her name.my life should happen around her.my life will be named to her.I would cry for her.will give all my happiness and take all her sorrows.I will be ready to fight with anyone for her.I will be in love when I will be doing the craziest things for her.love will be when I don't have to proove anyone that my girl is the most beautiful lady on the whole planet.I will always be singing praises for her.love will be when I start up making chicken curry and end up makiing sambar.life will be the most beautiful then.will get every morning and thank god for the day because she is with me.I would like to say a lot..will tell later..\""
      ]
     },
     "execution_count": 11,
     "metadata": {},
     "output_type": "execute_result"
    }
   ],
   "source": [
    "messages[messages['length'] == 910]['message'].iloc[0]"
   ]
  },
  {
   "cell_type": "markdown",
   "metadata": {},
   "source": [
    "Có vẻ như chúng tôi có một số loại email tình cảm :D (kiểu như đoạn tin nhắn của 2 người yêu nhau :D ) gọi những email như thế này là Romeo ! Nhưng chúng ta hãy tập trung trở lại ý tưởng thử xem độ dài tin nhắn có phải là đặc điểm phân biệt giữa ham và spam hay không:"
   ]
  },
  {
   "cell_type": "code",
   "execution_count": 12,
   "metadata": {},
   "outputs": [
    {
     "data": {
      "text/plain": [
       "array([<AxesSubplot:title={'center':'ham'}>,\n",
       "       <AxesSubplot:title={'center':'spam'}>], dtype=object)"
      ]
     },
     "execution_count": 12,
     "metadata": {},
     "output_type": "execute_result"
    },
    {
     "data": {
      "image/png": "[encoded data removed]",
      "text/plain": [
       "<Figure size 864x288 with 2 Axes>"
      ]
     },
     "metadata": {
      "needs_background": "light"
     },
     "output_type": "display_data"
    }
   ],
   "source": [
    "messages.hist(column='length', by='label', bins=50,figsize=(12,4))"
   ]
  },
  {
   "cell_type": "markdown",
   "metadata": {},
   "source": [
    "Rất thú vị! Chỉ thông qua EDA cơ bản, chúng tôi đã có thể phát hiện ra xu hướng mà các tin nhắn email rác có xu hướng có nhiều ký tự hơn. (Xin lỗi Romeo!)\n",
    "\n",
    "Bây giờ chúng ta hãy bắt đầu xử lý dữ liệu để cuối cùng chúng ta có thể sử dụng nó với SciKit Learn!"
   ]
  },
  {
   "cell_type": "markdown",
   "metadata": {},
   "source": [
    "## Text Pre-processing - Tiền xử lý văn bản"
   ]
  },
  {
   "cell_type": "markdown",
   "metadata": {},
   "source": [
    "Vấn đề chính của chúng tôi với dữ liệu là tất cả đều ở định dạng văn bản (chuỗi). Các thuật toán phân loại mà chúng ta đã học cho đến nay sẽ cần một số loại vectơ đặc trưng số để thực hiện nhiệm vụ phân loại. Thực tế có nhiều phương pháp để chuyển đổi một kho ngữ liệu sang định dạng vectơ. Đơn giản nhất là phương pháp tiếp cận [bag-of-words](http://en.wikipedia.org/wiki/Bag-of-words_model), trong đó mỗi từ duy nhất trong văn bản sẽ được thể hiện bằng một số.\n",
    "\n",
    "\n",
    "Trong phần này, chúng ta sẽ chuyển đổi các thông điệp thô (raw emails) (chuỗi ký tự) thành vectơ (gồm chuỗi các số).\n",
    "\n",
    "Bước đầu tiên, hãy viết một hàm sẽ chia một tin nhắn thành các từ riêng lẻ của nó và trả về một list(danh sách). Chúng tôi cũng sẽ xóa các từ rất phổ biến, ('the', 'a', v.v.). Để làm điều này, chúng tôi sẽ tận dụng thư viện NLTK. Đây là thư viện tiêu chuẩn trong Python để xử lý văn bản và có rất nhiều tính năng hữu ích. Chúng tôi sẽ chỉ sử dụng một số cái cơ bản ở đây.\n",
    "\n",
    "Hãy tạo một hàm xử lý chuỗi trong cột tin nhắn emails(message), sau đó chúng ta có thể chỉ sử dụng **apply()** trong pandas để xử lý tất cả văn bản trong DataFrame.\n",
    "\n",
    "Lần đầu tiên loại bỏ dấu chấm câu. Chúng ta chỉ có thể tận dụng thư viện **string** tích hợp sẵn của Python để có được danh sách nhanh tất cả các dấu câu có thể có:"
   ]
  },
  {
   "cell_type": "code",
   "execution_count": 13,
   "metadata": {},
   "outputs": [],
   "source": [
    "import string\n",
    "\n",
    "mess = 'Sample message! Notice: it has punctuation.'\n",
    "\n",
    "# Kiểm tra các ký tự để xem chúng có nằm trong kiểu dữ liệu dấu câu hay không\n",
    "nopunc = [char for char in mess if char not in string.punctuation]\n",
    "\n",
    "# Nối các ký tự lại để tạo thành chuỗi.\n",
    "nopunc = ''.join(nopunc)"
   ]
  },
  {
   "cell_type": "markdown",
   "metadata": {},
   "source": [
    "Bây giờ chúng ta hãy xem làm thế nào để loại bỏ các từ dừng (stopwords: những từ mà công cụ tìm kiếm thường bỏ qua, ví dụ như a, an, the, many,...). Chúng tôi có thể nhập danh sách các stopwords tiếng Anh từ NLTK (kiểm tra tài liệu để biết thêm ngôn ngữ và thông tin)."
   ]
  },
  {
   "cell_type": "code",
   "execution_count": 17,
   "metadata": {},
   "outputs": [
    {
     "data": {
      "text/plain": [
       "['i', 'me', 'my', 'myself', 'we', 'our', 'ours', 'ourselves', 'you', \"you're\"]"
      ]
     },
     "execution_count": 17,
     "metadata": {},
     "output_type": "execute_result"
    }
   ],
   "source": [
    "from nltk.corpus import stopwords\n",
    "#Show some stop words\n",
    "stopwords.words('english')[0:10] \n",
    "#đoạn này thử tiếng việt đéo ra :v"
   ]
  },
  {
   "cell_type": "code",
   "execution_count": 18,
   "metadata": {},
   "outputs": [
    {
     "data": {
      "text/plain": [
       "['Sample', 'message', 'Notice', 'it', 'has', 'punctuation']"
      ]
     },
     "execution_count": 18,
     "metadata": {},
     "output_type": "execute_result"
    }
   ],
   "source": [
    "nopunc.split()"
   ]
  },
  {
   "cell_type": "code",
   "execution_count": 19,
   "metadata": {},
   "outputs": [],
   "source": [
    "# Bây giờ chỉ cần xoá bất kỳ stopwords nào\n",
    "clean_mess = [word for word in nopunc.split() if word.lower() not in stopwords.words('english')]"
   ]
  },
  {
   "cell_type": "code",
   "execution_count": 20,
   "metadata": {},
   "outputs": [
    {
     "data": {
      "text/plain": [
       "['Sample', 'message', 'Notice', 'punctuation']"
      ]
     },
     "execution_count": 20,
     "metadata": {},
     "output_type": "execute_result"
    }
   ],
   "source": [
    "clean_mess"
   ]
  },
  {
   "cell_type": "markdown",
   "metadata": {},
   "source": [
    "Bây giờ chúng ta hãy đặt cả hai điều này lại với nhau trong một hàm để áp dụng nó vào DataFrame của chúng ta sau này:"
   ]
  },
  {
   "cell_type": "code",
   "execution_count": 21,
   "metadata": {},
   "outputs": [],
   "source": [
    "def text_process(mess):\n",
    "    \"\"\"  \n",
    "    Lấy một chuỗi văn bản, sau đó thực hiện như sau:\n",
    "     1. Xóa tất cả các dấu câu\n",
    "     2. Xóa tất cả các từ dừng (stopwords)\n",
    "     3. Trả về danh sách văn bản đã được làm sạch\n",
    "    \"\"\"\n",
    "    \n",
    "    # Kiểm tra các ký tự để xem chúng có dấu câu hay không\n",
    "    nopunc = [char for char in mess if char not in string.punctuation]\n",
    "\n",
    "    # Nối các ký tự lại để tạo thành chuỗi.\n",
    "    nopunc = ''.join(nopunc)\n",
    "    \n",
    "    # xoá các stopwords\n",
    "    return [word for word in nopunc.split() if word.lower() not in stopwords.words('english')]"
   ]
  },
  {
   "cell_type": "markdown",
   "metadata": {},
   "source": [
    "Đây là DataFrame ban đầu một lần nữa:"
   ]
  },
  {
   "cell_type": "code",
   "execution_count": 22,
   "metadata": {},
   "outputs": [
    {
     "data": {
      "text/html": [
       "<div>\n",
       "<style scoped>\n",
       "    .dataframe tbody tr th:only-of-type {\n",
       "        vertical-align: middle;\n",
       "    }\n",
       "\n",
       "    .dataframe tbody tr th {\n",
       "        vertical-align: top;\n",
       "    }\n",
       "\n",
       "    .dataframe thead th {\n",
       "        text-align: right;\n",
       "    }\n",
       "</style>\n",
       "<table border=\"1\" class=\"dataframe\">\n",
       "  <thead>\n",
       "    <tr style=\"text-align: right;\">\n",
       "      <th></th>\n",
       "      <th>label</th>\n",
       "      <th>message</th>\n",
       "      <th>length</th>\n",
       "    </tr>\n",
       "  </thead>\n",
       "  <tbody>\n",
       "    <tr>\n",
       "      <th>0</th>\n",
       "      <td>ham</td>\n",
       "      <td>Go until jurong point, crazy.. Available only ...</td>\n",
       "      <td>111</td>\n",
       "    </tr>\n",
       "    <tr>\n",
       "      <th>1</th>\n",
       "      <td>ham</td>\n",
       "      <td>Ok lar... Joking wif u oni...</td>\n",
       "      <td>29</td>\n",
       "    </tr>\n",
       "    <tr>\n",
       "      <th>2</th>\n",
       "      <td>spam</td>\n",
       "      <td>Free entry in 2 a wkly comp to win FA Cup fina...</td>\n",
       "      <td>155</td>\n",
       "    </tr>\n",
       "    <tr>\n",
       "      <th>3</th>\n",
       "      <td>ham</td>\n",
       "      <td>U dun say so early hor... U c already then say...</td>\n",
       "      <td>49</td>\n",
       "    </tr>\n",
       "    <tr>\n",
       "      <th>4</th>\n",
       "      <td>ham</td>\n",
       "      <td>Nah I don't think he goes to usf, he lives aro...</td>\n",
       "      <td>61</td>\n",
       "    </tr>\n",
       "  </tbody>\n",
       "</table>\n",
       "</div>"
      ],
      "text/plain": [
       "  label                                            message  length\n",
       "0   ham  Go until jurong point, crazy.. Available only ...     111\n",
       "1   ham                      Ok lar... Joking wif u oni...      29\n",
       "2  spam  Free entry in 2 a wkly comp to win FA Cup fina...     155\n",
       "3   ham  U dun say so early hor... U c already then say...      49\n",
       "4   ham  Nah I don't think he goes to usf, he lives aro...      61"
      ]
     },
     "execution_count": 22,
     "metadata": {},
     "output_type": "execute_result"
    }
   ],
   "source": [
    "messages.head()"
   ]
  },
  {
   "cell_type": "markdown",
   "metadata": {},
   "source": [
    "Bây giờ chúng ta hãy \"mã hóa(tokenize)\" những tin nhắn này. Tokenization chỉ là thuật ngữ được sử dụng để mô tả quá trình chuyển đổi các chuỗi văn bản bình thường thành một danh sách các tokens (những từ mà chúng ta thực sự muốn).\n",
    "\n",
    "Hãy xem một ví dụ đầu ra trên cột:\n",
    "\n",
    "**Ghi chú:**\n",
    "Chúng ta có thể nhận được một số cảnh báo hoặc lỗi đối với các ký hiệu mà chúng ta không tính đến hoặc không có trong Unicode (như ký hiệu bảng Anh)"
   ]
  },
  {
   "cell_type": "code",
   "execution_count": 23,
   "metadata": {},
   "outputs": [
    {
     "data": {
      "text/plain": [
       "0    [Go, jurong, point, crazy, Available, bugis, n...\n",
       "1                       [Ok, lar, Joking, wif, u, oni]\n",
       "2    [Free, entry, 2, wkly, comp, win, FA, Cup, fin...\n",
       "3        [U, dun, say, early, hor, U, c, already, say]\n",
       "4    [Nah, dont, think, goes, usf, lives, around, t...\n",
       "Name: message, dtype: object"
      ]
     },
     "execution_count": 23,
     "metadata": {},
     "output_type": "execute_result"
    }
   ],
   "source": [
    "# Kiểm tra để đảm bảo nó hoạt động\n",
    "messages['message'].head(5).apply(text_process)"
   ]
  },
  {
   "cell_type": "code",
   "execution_count": 25,
   "metadata": {},
   "outputs": [
    {
     "data": {
      "text/html": [
       "<div>\n",
       "<style scoped>\n",
       "    .dataframe tbody tr th:only-of-type {\n",
       "        vertical-align: middle;\n",
       "    }\n",
       "\n",
       "    .dataframe tbody tr th {\n",
       "        vertical-align: top;\n",
       "    }\n",
       "\n",
       "    .dataframe thead th {\n",
       "        text-align: right;\n",
       "    }\n",
       "</style>\n",
       "<table border=\"1\" class=\"dataframe\">\n",
       "  <thead>\n",
       "    <tr style=\"text-align: right;\">\n",
       "      <th></th>\n",
       "      <th>label</th>\n",
       "      <th>message</th>\n",
       "      <th>length</th>\n",
       "    </tr>\n",
       "  </thead>\n",
       "  <tbody>\n",
       "    <tr>\n",
       "      <th>0</th>\n",
       "      <td>ham</td>\n",
       "      <td>Go until jurong point, crazy.. Available only ...</td>\n",
       "      <td>111</td>\n",
       "    </tr>\n",
       "    <tr>\n",
       "      <th>1</th>\n",
       "      <td>ham</td>\n",
       "      <td>Ok lar... Joking wif u oni...</td>\n",
       "      <td>29</td>\n",
       "    </tr>\n",
       "    <tr>\n",
       "      <th>2</th>\n",
       "      <td>spam</td>\n",
       "      <td>Free entry in 2 a wkly comp to win FA Cup fina...</td>\n",
       "      <td>155</td>\n",
       "    </tr>\n",
       "    <tr>\n",
       "      <th>3</th>\n",
       "      <td>ham</td>\n",
       "      <td>U dun say so early hor... U c already then say...</td>\n",
       "      <td>49</td>\n",
       "    </tr>\n",
       "    <tr>\n",
       "      <th>4</th>\n",
       "      <td>ham</td>\n",
       "      <td>Nah I don't think he goes to usf, he lives aro...</td>\n",
       "      <td>61</td>\n",
       "    </tr>\n",
       "  </tbody>\n",
       "</table>\n",
       "</div>"
      ],
      "text/plain": [
       "  label                                            message  length\n",
       "0   ham  Go until jurong point, crazy.. Available only ...     111\n",
       "1   ham                      Ok lar... Joking wif u oni...      29\n",
       "2  spam  Free entry in 2 a wkly comp to win FA Cup fina...     155\n",
       "3   ham  U dun say so early hor... U c already then say...      49\n",
       "4   ham  Nah I don't think he goes to usf, he lives aro...      61"
      ]
     },
     "execution_count": 25,
     "metadata": {},
     "output_type": "execute_result"
    }
   ],
   "source": [
    "# Hiển thị dataframe gốc\n",
    "messages.head()"
   ]
  },
  {
   "cell_type": "markdown",
   "metadata": {},
   "source": [
    "### Continuing Normalization - Tiếp tục chuẩn hóa\n",
    "\n",
    "Có rất nhiều cách để tiếp tục chuẩn hóa văn bản này. Chẳng hạn như [Stemming](https://en.wikipedia.org/wiki/Stemming) hoặc distinguishing (phân biệt) theo [part of speech](http://www.nltk.org/book/ch05.html)..\n",
    "\n",
    "NLTK có rất nhiều công cụ tích hợp và tài liệu tuyệt vời về rất nhiều phương pháp này. Đôi khi chúng không hoạt động tốt cho tin nhắn văn bản do cách nhiều người có xu hướng sử dụng chữ viết tắt, Ví dụ:\n",
    "    \n",
    "     'Nah dawg, IDK! Wut time u headin to da club?'\n",
    "    \n",
    "với cả\n",
    "\n",
    "     'No dog, I don't know! What time are you heading to the club?'\n",
    "    \n",
    "Một số phương pháp chuẩn hóa văn bản sẽ gặp sự cố với loại tốc ký này và vì vậy tôi sẽ để bạn khám phá các phương pháp nâng cao hơn đó thông qua [NLTK book online](http://www.nltk.org/book/).\n",
    "\n",
    "Bây giờ chúng ta sẽ chỉ tập trung vào việc sử dụng những gì chúng ta có để chuyển đổi danh sách các từ của chúng ta thành một vectơ thực tế mà thư viện SciKit-Learn có thể sử dụng."
   ]
  },
  {
   "cell_type": "markdown",
   "metadata": {},
   "source": [
    "## Vectorization"
   ]
  },
  {
   "cell_type": "markdown",
   "metadata": {},
   "source": [
    "Hiện tại, chúng tôi có các tin nhắn emails dưới dạng danh sách mã token (còn được gọi là bổ đề: [lemmas](http://nlp.stanford.edu/IR-book/html/htmledition/stemming-and-lemmatization-1.html)) và bây giờ chúng tôi cần chuyển đổi từng tin nhắn emails đó thành vectơ mà các mô hình thuật toán của SciKit Learn có thể hoạt động.\n",
    "\n",
    "Bây giờ chúng ta sẽ chuyển đổi từng thông báo, được biểu diễn dưới dạng danh sách các token (bổ đề) ở trên, thành một vectơ mà các mô hình học máy có thể hiểu được.\n",
    "\n",
    "Chúng tôi sẽ thực hiện điều đó trong ba bước bằng cách sử dụng mô hình bag-of-words:\n",
    "\n",
    "1. Đếm bao nhiêu lần một từ xuất hiện trong mỗi tin nhắn (cái này gọi là tần suất)\n",
    "\n",
    "2. Cân số lượng để các token thường xuyên xuất hiện có trọng lượng thấp hơn (tần suất tài liệu nghịch đảo)\n",
    "\n",
    "3. Chuẩn hóa các vectơ thành độ dài đơn vị, để trừu tượng hóa từ độ dài văn bản gốc (chỉ tiêu L2(L2 norm))\n",
    "\n",
    "Hãy bắt đầu bước đầu tiên:"
   ]
  },
  {
   "cell_type": "markdown",
   "metadata": {},
   "source": [
    "Mỗi vectơ sẽ có nhiều chiều như có các từ duy nhất trong kho dữ liệu SMS. Đầu tiên chúng tôi sẽ sử dụng **CountVectorizer** của SciKit Learn. Mô hình này sẽ chuyển đổi một bộ sưu tập các tài liệu văn bản thành một ma trận số lượng token.\n",
    "\n",
    "Chúng ta có thể hình dung đây là một ma trận 2 chiều. Trong đó chiều 1 là toàn bộ từ vựng (1 hàng trên mỗi từ) và chiều còn lại là tài liệu thực tế, trong trường hợp này là một cột trên mỗi tin nhắn văn bản.\n",
    "\n",
    "Ví dụ:\n",
    "\n",
    "<table border = “1“>\n",
    "<tr>\n",
    "<th></th> <th>Message 1</th> <th>Message 2</th> <th>...</th> <th>Message N</th> \n",
    "</tr>\n",
    "<tr>\n",
    "<td><b>Word 1 Count</b></td><td>0</td><td>1</td><td>...</td><td>0</td>\n",
    "</tr>\n",
    "<tr>\n",
    "<td><b>Word 2 Count</b></td><td>0</td><td>0</td><td>...</td><td>0</td>\n",
    "</tr>\n",
    "<tr>\n",
    "<td><b>...</b></td> <td>1</td><td>2</td><td>...</td><td>0</td>\n",
    "</tr>\n",
    "<tr>\n",
    "<td><b>Word N Count</b></td> <td>0</td><td>1</td><td>...</td><td>1</td>\n",
    "</tr>\n",
    "</table>\n",
    "\n",
    "\n",
    "Vì có rất nhiều thư, chúng ta có thể mong đợi rất nhiều số 0 cho sự hiện diện của từ đó trong tài liệu đó. Do đó, SciKit Learn sẽ xuất ra (ma trận thưa thớt)[Sparse Matrix](https://en.wikipedia.org/wiki/Sparse_matrix)."
   ]
  },
  {
   "cell_type": "code",
   "execution_count": 26,
   "metadata": {},
   "outputs": [],
   "source": [
    "from sklearn.feature_extraction.text import CountVectorizer"
   ]
  },
  {
   "cell_type": "markdown",
   "metadata": {},
   "source": [
    "Có rất nhiều đối số và tham số có thể được truyền cho CountVectorizer. Trong trường hợp này, chúng ta sẽ chỉ định **analyzer** là chức năng được xác định trước đó của riêng chúng ta:"
   ]
  },
  {
   "cell_type": "code",
   "execution_count": 27,
   "metadata": {},
   "outputs": [
    {
     "name": "stdout",
     "output_type": "stream",
     "text": [
      "11425\n"
     ]
    }
   ],
   "source": [
    "# Có thể mất một lúc...\n",
    "bow_transformer = CountVectorizer(analyzer=text_process).fit(messages['message'])\n",
    "\n",
    "# In tổng số từ vocab\n",
    "print(len(bow_transformer.vocabulary_))"
   ]
  },
  {
   "cell_type": "markdown",
   "metadata": {},
   "source": [
    "Hãy lấy một thư và nhận số lượng từ ngữ của nó dưới dạng vectơ, sử dụng `bow_transformer` :"
   ]
  },
  {
   "cell_type": "code",
   "execution_count": 28,
   "metadata": {},
   "outputs": [
    {
     "name": "stdout",
     "output_type": "stream",
     "text": [
      "U dun say so early hor... U c already then say...\n"
     ]
    }
   ],
   "source": [
    "message4 = messages['message'][3]\n",
    "print(message4)"
   ]
  },
  {
   "cell_type": "markdown",
   "metadata": {},
   "source": [
    "Bây giờ chúng ta hãy xem biểu diễn vector của nó:"
   ]
  },
  {
   "cell_type": "code",
   "execution_count": 29,
   "metadata": {},
   "outputs": [
    {
     "name": "stdout",
     "output_type": "stream",
     "text": [
      "  (0, 4068)\t2\n",
      "  (0, 4629)\t1\n",
      "  (0, 5261)\t1\n",
      "  (0, 6204)\t1\n",
      "  (0, 6222)\t1\n",
      "  (0, 7186)\t1\n",
      "  (0, 9554)\t2\n",
      "(1, 11425)\n"
     ]
    }
   ],
   "source": [
    "bow4 = bow_transformer.transform([message4])\n",
    "print(bow4)\n",
    "print(bow4.shape)"
   ]
  },
  {
   "cell_type": "markdown",
   "metadata": {},
   "source": [
    "Điều này có nghĩa là có bảy từ duy nhất trong tin nhắn số 4 (sau khi loại bỏ các từ stopwords thông thường). Hai trong số chúng xuất hiện hai lần, số còn lại chỉ xuất hiện một lần. Hãy tiếp tục và kiểm tra và xác nhận những cái nào xuất hiện hai lần:"
   ]
  },
  {
   "cell_type": "code",
   "execution_count": 31,
   "metadata": {},
   "outputs": [
    {
     "name": "stdout",
     "output_type": "stream",
     "text": [
      "U\n",
      "say\n"
     ]
    }
   ],
   "source": [
    "print(bow_transformer.get_feature_names()[4068])\n",
    "print(bow_transformer.get_feature_names()[9554])"
   ]
  },
  {
   "cell_type": "markdown",
   "metadata": {},
   "source": [
    "Bây giờ chúng ta có thể sử dụng **.transform** trên đối tượng được biến đổi Bag-of-Words (bow-cây cung) của chúng ta và biến đổi toàn bộ DataFrame của thư. Hãy tiếp tục và kiểm tra cách tính số lượng từ cho toàn bộ kho tin nhắn SMS là một ma trận lớn, thưa thớt:"
   ]
  },
  {
   "cell_type": "code",
   "execution_count": 32,
   "metadata": {},
   "outputs": [],
   "source": [
    "messages_bow = bow_transformer.transform(messages['message'])"
   ]
  },
  {
   "cell_type": "code",
   "execution_count": 33,
   "metadata": {},
   "outputs": [
    {
     "name": "stdout",
     "output_type": "stream",
     "text": [
      "Shape of Sparse Matrix:  (5572, 11425)\n",
      "Amount of Non-Zero occurences:  50548\n"
     ]
    }
   ],
   "source": [
    "print('Shape of Sparse Matrix: ', messages_bow.shape)\n",
    "print('Amount of Non-Zero occurences: ', messages_bow.nnz)"
   ]
  },
  {
   "cell_type": "code",
   "execution_count": 34,
   "metadata": {},
   "outputs": [
    {
     "name": "stdout",
     "output_type": "stream",
     "text": [
      "sparsity: 0\n"
     ]
    }
   ],
   "source": [
    "sparsity = (100.0 * messages_bow.nnz / (messages_bow.shape[0] * messages_bow.shape[1]))\n",
    "print('sparsity: {}'.format(round(sparsity)))"
   ]
  },
  {
   "cell_type": "markdown",
   "metadata": {},
   "source": [
    "Sau khi đếm, thuật ngữ trọng số và chuẩn hóa có thể được thực hiện với [TF-IDF](http://en.wikipedia.org/wiki/Tf%E2%80%93idf), sử dụng `TfidfTransformer` của scikit-learning.\n",
    "\n",
    "____\n",
    "### Vậy thì TF-IDF là gì ?\n",
    "\n",
    "\n",
    "TF-IDF là viết tắt của *term frequency-inverse document frequency(thuật ngữ tần số tài liệu nghịch đảo tần số)*, và trọng số tf-idf là trọng số thường được sử dụng trong truy xuất thông tin và khai thác văn bản. Trọng số này là một thước đo thống kê được sử dụng để đánh giá mức độ quan trọng của một từ đối với một tài liệu trong một bộ sưu tập hoặc kho ngữ liệu. Mức độ quan trọng tăng tỷ lệ thuận với số lần một từ xuất hiện trong tài liệu nhưng được bù đắp bởi tần suất xuất hiện của từ đó trong kho ngữ liệu. Các biến thể của lược đồ trọng số tf-idf thường được các công cụ tìm kiếm sử dụng như một công cụ trung tâm để chấm điểm và xếp hạng mức độ liên quan của tài liệu khi đưa ra một truy vấn của người dùng.\n",
    "\n",
    "Một trong những hàm xếp hạng đơn giản nhất được tính bằng cách tính tổng tf-idf cho mỗi cụm từ truy vấn; nhiều chức năng xếp hạng phức tạp hơn là các dạng khác của mô hình đơn giản này.\n",
    "\n",
    "Thông thường, trọng số tf-idf được bao gồm bởi hai thuật ngữ: thuật ngữ thứ nhất tính Tần suất kỳ hạn(Term Frequency) chuẩn hóa (TF), hay còn gọi là. số lần một từ xuất hiện trong tài liệu, chia cho tổng số từ trong tài liệu đó; thuật ngữ thứ hai là Tần suất tài liệu nghịch đảo (IDF), được tính bằng logarit của số tài liệu trong kho tài liệu chia cho số tài liệu nơi thuật ngữ cụ thể xuất hiện.\n",
    "\n",
    "\n",
    "**TF: Tần suất thuật ngữ**, đo tần suất một thuật ngữ xuất hiện trong tài liệu. Vì mỗi tài liệu có độ dài khác nhau, nên có thể một thuật ngữ sẽ xuất hiện nhiều lần trong các tài liệu dài hơn so với các thuật ngữ ngắn hơn. Do đó, tần suất thuật ngữ thường được chia cho độ dài tài liệu (hay còn gọi là tổng số thuật ngữ trong tài liệu) như một cách chuẩn hóa:\n",
    "\n",
    "*TF(t) = (Số lần thuật ngữ t xuất hiện trong tài liệu) / (Tổng số thuật ngữ trong tài liệu).*\n",
    "\n",
    "**IDF: Tần suất tài liệu nghịch đảo**, đo lường mức độ quan trọng của một thuật ngữ. Trong khi tính toán TF, tất cả các thuật ngữ đều được coi là quan trọng như nhau. Tuy nhiên, người ta biết rằng một số thuật ngữ nhất định, chẳng hạn như \"is\", \"of\", và \"that\", có thể xuất hiện nhiều lần nhưng ít quan trọng. Vì vậy, chúng ta cần phải (weight down) cân nhắc các thuật ngữ thường xuyên trong khi mở rộng quy mô các thuật ngữ hiếm, bằng cách tính toán như sau:\n",
    "\n",
    "*IDF(t) = log_e (Tổng số tài liệu / Số tài liệu có thuật ngữ t trong đó).*\n",
    "\n",
    "Xem bên dưới để biết một ví dụ đơn giản.\n",
    "\n",
    "**Ví dụ:**\n",
    "\n",
    "Hãy xem xét một tài liệu có 100 từ, trong đó từ cat xuất hiện 3 lần.\n",
    "\n",
    "Tần số thuật ngữ (tức là tf) đối với cat khi đó là (3/100) = 0,03. Bây giờ, giả sử chúng ta có 10 triệu tài liệu và từ cat xuất hiện trong một nghìn tài liệu trong số này. Sau đó, tần suất tài liệu nghịch đảo (tức là idf) được tính là log (10.000.000 / 1.000) = 4. Do đó, trọng số Tf-idf là tích của các đại lượng này: 0,03 * 4 = 0,12.\n",
    "____\n",
    "\n",
    "Hãy tiếp tục và xem cách chúng ta có thể làm điều này trong SciKit Learn:\n",
    "\n"
   ]
  },
  {
   "cell_type": "code",
   "execution_count": 35,
   "metadata": {},
   "outputs": [
    {
     "name": "stdout",
     "output_type": "stream",
     "text": [
      "  (0, 9554)\t0.5385626262927564\n",
      "  (0, 7186)\t0.4389365653379857\n",
      "  (0, 6222)\t0.3187216892949149\n",
      "  (0, 6204)\t0.29953799723697416\n",
      "  (0, 5261)\t0.29729957405868723\n",
      "  (0, 4629)\t0.26619801906087187\n",
      "  (0, 4068)\t0.40832589933384067\n"
     ]
    }
   ],
   "source": [
    "from sklearn.feature_extraction.text import TfidfTransformer\n",
    "\n",
    "tfidf_transformer = TfidfTransformer().fit(messages_bow)\n",
    "tfidf4 = tfidf_transformer.transform(bow4)\n",
    "print(tfidf4)"
   ]
  },
  {
   "cell_type": "markdown",
   "metadata": {},
   "source": [
    "Chúng ta sẽ tiếp tục và kiểm tra IDF (tần suất tài liệu nghịch đảo) của từ `\"u\"` và của từ `\"university\"` là gì?"
   ]
  },
  {
   "cell_type": "code",
   "execution_count": 36,
   "metadata": {},
   "outputs": [
    {
     "name": "stdout",
     "output_type": "stream",
     "text": [
      "3.2800524267409408\n",
      "8.527076498901426\n"
     ]
    }
   ],
   "source": [
    "print(tfidf_transformer.idf_[bow_transformer.vocabulary_['u']])\n",
    "print(tfidf_transformer.idf_[bow_transformer.vocabulary_['university']])"
   ]
  },
  {
   "cell_type": "markdown",
   "metadata": {},
   "source": [
    "Để chuyển đổi toàn bộ kho từ (bag-of-words) thành ngữ liệu TF-IDF cùng một lúc:"
   ]
  },
  {
   "cell_type": "code",
   "execution_count": 37,
   "metadata": {},
   "outputs": [
    {
     "name": "stdout",
     "output_type": "stream",
     "text": [
      "(5572, 11425)\n"
     ]
    }
   ],
   "source": [
    "messages_tfidf = tfidf_transformer.transform(messages_bow)\n",
    "print(messages_tfidf.shape)"
   ]
  },
  {
   "cell_type": "markdown",
   "metadata": {},
   "source": [
    "Có nhiều cách dữ liệu có thể được tiền xử lý và vector hóa. Các bước này liên quan đến kỹ thuật feature và xây dựng một \"đường ống\" (\"pipeline\"). Tôi khuyến khích bạn xem tài liệu của SciKit Learn về cách xử lý dữ liệu văn bản cũng như bộ sưu tập mở rộng các nghiên cứu và sách có sẵn về chủ đề chung của NLP."
   ]
  },
  {
   "cell_type": "markdown",
   "metadata": {},
   "source": [
    "## Training a model"
   ]
  },
  {
   "cell_type": "markdown",
   "metadata": {},
   "source": [
    "Với các thư được biểu diễn dưới dạng vectơ, cuối cùng chúng ta cũng có thể training trình phân loại thư spam/ham của mình. Bây giờ chúng ta thực sự có thể sử dụng hầu hết mọi loại thuật toán phân loại. Vì [variety of reasons](http://www.inf.ed.ac.uk/teaching/courses/inf2b/learnnotes/inf2b-learn-note07-2up.pdf), thuật toán phân loại Naive Bayes là một lựa chọn tốt ."
   ]
  },
  {
   "cell_type": "markdown",
   "metadata": {},
   "source": [
    "Chúng tôi sẽ sử dụng scikit-learning ở đây, chọn trình phân loại [Naive Bayes](http://en.wikipedia.org/wiki/Naive_Bayes_classifier) để bắt đầu:"
   ]
  },
  {
   "cell_type": "code",
   "execution_count": 38,
   "metadata": {},
   "outputs": [],
   "source": [
    "from sklearn.naive_bayes import MultinomialNB\n",
    "spam_detect_model = MultinomialNB().fit(messages_tfidf, messages['label'])"
   ]
  },
  {
   "cell_type": "markdown",
   "metadata": {},
   "source": [
    "Hãy thử phân loại thông điệp ngẫu nhiên duy nhất của chúng ta và xem chúng ta thực hiện như thế nào:"
   ]
  },
  {
   "cell_type": "code",
   "execution_count": 39,
   "metadata": {},
   "outputs": [
    {
     "name": "stdout",
     "output_type": "stream",
     "text": [
      "predicted: ham\n",
      "expected: ham\n"
     ]
    }
   ],
   "source": [
    "print('predicted:', spam_detect_model.predict(tfidf4)[0])\n",
    "print('expected:', messages.label[3])"
   ]
  },
  {
   "cell_type": "markdown",
   "metadata": {},
   "source": [
    "Tuyệt vời! Chúng ta đã phát triển một mô hình có thể cố gắng dự đoán phân loại spam vs ham!\n",
    "\n",
    "## Part 6: Model Evaluation - Đánh giá mô hình\n",
    "\n",
    "Bây giờ chúng tôi muốn xác định xem mô hình của chúng tôi sẽ hoạt động tốt như thế nào trên toàn bộ tập dữ liệu. Hãy bắt đầu bằng cách nhận tất cả các dự đoán:"
   ]
  },
  {
   "cell_type": "code",
   "execution_count": 40,
   "metadata": {},
   "outputs": [
    {
     "name": "stdout",
     "output_type": "stream",
     "text": [
      "['ham' 'ham' 'spam' ... 'ham' 'ham' 'ham']\n"
     ]
    }
   ],
   "source": [
    "all_predictions = spam_detect_model.predict(messages_tfidf)\n",
    "print(all_predictions)"
   ]
  },
  {
   "cell_type": "markdown",
   "metadata": {},
   "source": [
    "Chúng tôi có thể sử dụng báo cáo phân loại tích hợp sẵn của SciKit Learn, báo cáo này trả về [precision, recall,](https://en.wikipedia.org/wiki/Precision_and_recall) [f1-score](https://en.wikipedia.org/wiki/F1_score) và cột hỗ trợ (nghĩa là có bao nhiêu trường hợp đã hỗ trợ phân loại đó). Kiểm tra các liên kết để biết thêm thông tin chi tiết về từng chỉ số này và hình bên dưới:"
   ]
  },
  {
   "cell_type": "markdown",
   "metadata": {},
   "source": [
    "<img src='https://upload.wikimedia.org/wikipedia/commons/thumb/2/26/Precisionrecall.svg/700px-Precisionrecall.svg.png' width=400 />"
   ]
  },
  {
   "cell_type": "code",
   "execution_count": 41,
   "metadata": {},
   "outputs": [
    {
     "name": "stdout",
     "output_type": "stream",
     "text": [
      "              precision    recall  f1-score   support\n",
      "\n",
      "         ham       0.98      1.00      0.99      4825\n",
      "        spam       1.00      0.85      0.92       747\n",
      "\n",
      "    accuracy                           0.98      5572\n",
      "   macro avg       0.99      0.92      0.95      5572\n",
      "weighted avg       0.98      0.98      0.98      5572\n",
      "\n"
     ]
    }
   ],
   "source": [
    "from sklearn.metrics import classification_report\n",
    "print (classification_report(messages['label'], all_predictions))"
   ]
  },
  {
   "cell_type": "markdown",
   "metadata": {},
   "source": [
    "Có khá nhiều số liệu khả thi để đánh giá hiệu suất của mô hình. Cái nào là quan trọng nhất phụ thuộc vào nhiệm vụ và hiệu quả kinh doanh của các quyết định dựa trên mô hình. Ví dụ, chi phí dự đoán sai \"spam\" là \"ham\" có lẽ thấp hơn nhiều so với dự đoán sai \"ham\" là \"spam\"."
   ]
  },
  {
   "cell_type": "markdown",
   "metadata": {},
   "source": [
    "Trong \"đánh giá\" ở trên, chúng ta đã đánh giá độ chính xác trên cùng dữ liệu mà chúng ta đã sử dụng để đào tạo. **Bạn thực sự không bao giờ nên đánh giá trên cùng một tập dữ liệu mà bạn đào tạo!**\n",
    "\n",
    "Việc đánh giá như vậy không cho chúng ta biết gì về khả năng dự đoán thực sự của mô hình của chúng ta. Nếu chúng tôi chỉ nhớ từng ví dụ trong quá trình đào tạo, thì độ chính xác của dữ liệu đào tạo sẽ là 100%, mặc dù chúng tôi sẽ không thể phân loại bất kỳ thông báo mới nào.\n",
    "\n",
    "Một cách thích hợp là chia dữ liệu thành tập huấn luyện / thử nghiệm, trong đó mô hình chỉ nhìn thấy **dữ liệu huấn luyện** trong quá trình điều chỉnh tham số và điều chỉnh mô hình. **Dữ liệu thử nghiệm** không bao giờ được sử dụng theo bất kỳ trường hợp. Sau đó, đây là đánh giá cuối cùng của chúng tôi về dữ liệu thử nghiệm là đại diện cho hiệu suất dự đoán thực sự.\n",
    "\n",
    "## Train Test Split - Tách thử nghiệm"
   ]
  },
  {
   "cell_type": "code",
   "execution_count": 42,
   "metadata": {},
   "outputs": [
    {
     "name": "stdout",
     "output_type": "stream",
     "text": [
      "4457 1115 5572\n"
     ]
    }
   ],
   "source": [
    "from sklearn.model_selection import train_test_split\n",
    "\n",
    "msg_train, msg_test, label_train, label_test = \\\n",
    "train_test_split(messages['message'], messages['label'], test_size=0.2)\n",
    "\n",
    "print(len(msg_train), len(msg_test), len(msg_train) + len(msg_test))"
   ]
  },
  {
   "cell_type": "markdown",
   "metadata": {},
   "source": [
    "Kích thước thử nghiệm là 20% của toàn bộ tập dữ liệu (1115 thư trên tổng số 5572) và phần còn lại là huấn luyện (4457 trên 5572). Lưu ý rằng mức phân chia mặc định sẽ là 30/70.\n",
    "\n",
    "## Creating a Data Pipeline - Tạo đường ống dữ liệu\n",
    "\n",
    "\n",
    "Hãy chạy lại mô hình của chúng ta và sau đó dự đoán ra khỏi tập thử nghiệm. Chúng tôi sẽ sử dụng các khả năng [pipeline](http://scikit-learn.org/stable/modules/pipeline.html) của SciKit Learn để lưu trữ quy trình làm việc. Điều này sẽ cho phép chúng tôi thiết lập tất cả các chuyển đổi mà chúng tôi sẽ thực hiện đối với dữ liệu để sử dụng trong tương lai. Hãy xem một ví dụ về cách nó hoạt động:"
   ]
  },
  {
   "cell_type": "code",
   "execution_count": 43,
   "metadata": {},
   "outputs": [],
   "source": [
    "from sklearn.pipeline import Pipeline\n",
    "\n",
    "pipeline = Pipeline([\n",
    "    ('bow', CountVectorizer(analyzer=text_process)),  # strings to token integer counts(chuỗi để đếm số nguyên token) \n",
    "    ('tfidf', TfidfTransformer()),  # integer counts to weighted TF-IDF scores(số nguyên cho điểm TF-IDF có trọng số)\n",
    "    ('classifier', MultinomialNB()),  # train on TF-IDF vectors w/ Naive Bayes classifier(đào tạo trên vectơ TF-IDF với bộ phân loại Naive Bayes)\n",
    "])"
   ]
  },
  {
   "cell_type": "markdown",
   "metadata": {},
   "source": [
    "Giờ đây, chúng tôi có thể chuyển trực tiếp dữ liệu văn bản tin nhắn và hệ thống sẽ thực hiện quá trình xử lý trước cho chúng tôi! Chúng tôi có thể coi nó như một model/estimator API :"
   ]
  },
  {
   "cell_type": "code",
   "execution_count": 44,
   "metadata": {},
   "outputs": [
    {
     "data": {
      "text/plain": [
       "Pipeline(steps=[('bow',\n",
       "                 CountVectorizer(analyzer=<function text_process at 0x000001E3BCF7A3A0>)),\n",
       "                ('tfidf', TfidfTransformer()),\n",
       "                ('classifier', MultinomialNB())])"
      ]
     },
     "execution_count": 44,
     "metadata": {},
     "output_type": "execute_result"
    }
   ],
   "source": [
    "pipeline.fit(msg_train,label_train)"
   ]
  },
  {
   "cell_type": "code",
   "execution_count": 45,
   "metadata": {},
   "outputs": [],
   "source": [
    "predictions = pipeline.predict(msg_test)"
   ]
  },
  {
   "cell_type": "code",
   "execution_count": 46,
   "metadata": {},
   "outputs": [
    {
     "name": "stdout",
     "output_type": "stream",
     "text": [
      "              precision    recall  f1-score   support\n",
      "\n",
      "         ham       1.00      0.96      0.98      1010\n",
      "        spam       0.71      1.00      0.83       105\n",
      "\n",
      "    accuracy                           0.96      1115\n",
      "   macro avg       0.85      0.98      0.90      1115\n",
      "weighted avg       0.97      0.96      0.96      1115\n",
      "\n"
     ]
    }
   ],
   "source": [
    "print(classification_report(predictions,label_test))"
   ]
  },
  {
   "cell_type": "markdown",
   "metadata": {},
   "source": [
    "Bây giờ chúng ta có một báo cáo phân loại cho mô hình của chúng tôi trên một tập hợp thử nghiệm thực sự! Còn rất nhiều thứ khác về Xử lý ngôn ngữ tự nhiên so với những gì chúng tôi đã đề cập ở đây và chủ đề rộng lớn của nó có thể lấp đầy một số khóa học đại học! Tôi khuyến khích bạn xem các tài nguyên bên dưới để biết thêm thông tin về NLP!"
   ]
  },
  {
   "cell_type": "markdown",
   "metadata": {},
   "source": [
    "## More Resources\n",
    "\n",
    "Xem các liên kết bên dưới để biết thêm thông tin về Xử lý ngôn ngữ tự nhiên:\n",
    "\n",
    "[NLTK Book Online](http://www.nltk.org/book/)\n",
    "\n",
    "[Kaggle Walkthrough](https://www.kaggle.com/c/word2vec-nlp-tutorial/details/part-1-for-beginners-bag-of-words)\n",
    "\n",
    "[SciKit Learn's Tutorial](http://scikit-learn.org/stable/tutorial/text_analytics/working_with_text_data.html)"
   ]
  },
  {
   "cell_type": "markdown",
   "metadata": {},
   "source": [
    "# Good Job!"
   ]
  }
 ],
 "metadata": {
  "kernelspec": {
   "display_name": "Python 3",
   "language": "python",
   "name": "python3"
  },
  "language_info": {
   "codemirror_mode": {
    "name": "ipython",
    "version": 3
   },
   "file_extension": ".py",
   "mimetype": "text/x-python",
   "name": "python",
   "nbconvert_exporter": "python",
   "pygments_lexer": "ipython3",
   "version": "3.8.5"
  }
 },
 "nbformat": 4,
 "nbformat_minor": 1
}
